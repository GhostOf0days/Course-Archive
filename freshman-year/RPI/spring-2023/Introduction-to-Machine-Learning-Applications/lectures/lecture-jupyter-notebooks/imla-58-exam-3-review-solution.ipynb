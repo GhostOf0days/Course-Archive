{
 "cells": [
  {
   "cell_type": "code",
   "execution_count": 8,
   "outputs": [],
   "source": [
    "# winequality-red.csv and winequality-white.csv from the Piazza Resources page were sourced from https://archive.ics.uci.edu/ml/datasets/wine+quality\n",
    "# With these two CSV files, use multiple feature engineering approaches, multiple classifiers, multiple regressors to predict the score of red and/or white wines"
   ],
   "metadata": {
    "collapsed": false,
    "ExecuteTime": {
     "start_time": "2023-04-11T11:06:57.113691Z",
     "end_time": "2023-04-11T11:06:57.143661Z"
    }
   }
  },
  {
   "cell_type": "code",
   "execution_count": 9,
   "metadata": {
    "collapsed": true,
    "ExecuteTime": {
     "start_time": "2023-04-11T11:06:57.120165Z",
     "end_time": "2023-04-11T11:06:57.173288Z"
    }
   },
   "outputs": [],
   "source": [
    "import pandas as pd\n",
    "\n",
    "red_df = pd.read_csv(\"winequality-red.csv\", delimiter=';')\n",
    "white_df = pd.read_csv(\"winequality-white.csv\", delimiter=';')"
   ]
  },
  {
   "cell_type": "code",
   "execution_count": 10,
   "outputs": [
    {
     "data": {
      "text/plain": "      fixed acidity  volatile acidity  citric acid  residual sugar  chlorides  \\\n0               7.4             0.700         0.00             1.9      0.076   \n1               7.8             0.880         0.00             2.6      0.098   \n2               7.8             0.760         0.04             2.3      0.092   \n3              11.2             0.280         0.56             1.9      0.075   \n4               7.4             0.700         0.00             1.9      0.076   \n...             ...               ...          ...             ...        ...   \n1594            6.2             0.600         0.08             2.0      0.090   \n1595            5.9             0.550         0.10             2.2      0.062   \n1596            6.3             0.510         0.13             2.3      0.076   \n1597            5.9             0.645         0.12             2.0      0.075   \n1598            6.0             0.310         0.47             3.6      0.067   \n\n      free sulfur dioxide  total sulfur dioxide  density    pH  sulphates  \\\n0                    11.0                  34.0  0.99780  3.51       0.56   \n1                    25.0                  67.0  0.99680  3.20       0.68   \n2                    15.0                  54.0  0.99700  3.26       0.65   \n3                    17.0                  60.0  0.99800  3.16       0.58   \n4                    11.0                  34.0  0.99780  3.51       0.56   \n...                   ...                   ...      ...   ...        ...   \n1594                 32.0                  44.0  0.99490  3.45       0.58   \n1595                 39.0                  51.0  0.99512  3.52       0.76   \n1596                 29.0                  40.0  0.99574  3.42       0.75   \n1597                 32.0                  44.0  0.99547  3.57       0.71   \n1598                 18.0                  42.0  0.99549  3.39       0.66   \n\n      alcohol  quality  \n0         9.4        5  \n1         9.8        5  \n2         9.8        5  \n3         9.8        6  \n4         9.4        5  \n...       ...      ...  \n1594     10.5        5  \n1595     11.2        6  \n1596     11.0        6  \n1597     10.2        5  \n1598     11.0        6  \n\n[1599 rows x 12 columns]",
      "text/html": "<div>\n<style scoped>\n    .dataframe tbody tr th:only-of-type {\n        vertical-align: middle;\n    }\n\n    .dataframe tbody tr th {\n        vertical-align: top;\n    }\n\n    .dataframe thead th {\n        text-align: right;\n    }\n</style>\n<table border=\"1\" class=\"dataframe\">\n  <thead>\n    <tr style=\"text-align: right;\">\n      <th></th>\n      <th>fixed acidity</th>\n      <th>volatile acidity</th>\n      <th>citric acid</th>\n      <th>residual sugar</th>\n      <th>chlorides</th>\n      <th>free sulfur dioxide</th>\n      <th>total sulfur dioxide</th>\n      <th>density</th>\n      <th>pH</th>\n      <th>sulphates</th>\n      <th>alcohol</th>\n      <th>quality</th>\n    </tr>\n  </thead>\n  <tbody>\n    <tr>\n      <th>0</th>\n      <td>7.4</td>\n      <td>0.700</td>\n      <td>0.00</td>\n      <td>1.9</td>\n      <td>0.076</td>\n      <td>11.0</td>\n      <td>34.0</td>\n      <td>0.99780</td>\n      <td>3.51</td>\n      <td>0.56</td>\n      <td>9.4</td>\n      <td>5</td>\n    </tr>\n    <tr>\n      <th>1</th>\n      <td>7.8</td>\n      <td>0.880</td>\n      <td>0.00</td>\n      <td>2.6</td>\n      <td>0.098</td>\n      <td>25.0</td>\n      <td>67.0</td>\n      <td>0.99680</td>\n      <td>3.20</td>\n      <td>0.68</td>\n      <td>9.8</td>\n      <td>5</td>\n    </tr>\n    <tr>\n      <th>2</th>\n      <td>7.8</td>\n      <td>0.760</td>\n      <td>0.04</td>\n      <td>2.3</td>\n      <td>0.092</td>\n      <td>15.0</td>\n      <td>54.0</td>\n      <td>0.99700</td>\n      <td>3.26</td>\n      <td>0.65</td>\n      <td>9.8</td>\n      <td>5</td>\n    </tr>\n    <tr>\n      <th>3</th>\n      <td>11.2</td>\n      <td>0.280</td>\n      <td>0.56</td>\n      <td>1.9</td>\n      <td>0.075</td>\n      <td>17.0</td>\n      <td>60.0</td>\n      <td>0.99800</td>\n      <td>3.16</td>\n      <td>0.58</td>\n      <td>9.8</td>\n      <td>6</td>\n    </tr>\n    <tr>\n      <th>4</th>\n      <td>7.4</td>\n      <td>0.700</td>\n      <td>0.00</td>\n      <td>1.9</td>\n      <td>0.076</td>\n      <td>11.0</td>\n      <td>34.0</td>\n      <td>0.99780</td>\n      <td>3.51</td>\n      <td>0.56</td>\n      <td>9.4</td>\n      <td>5</td>\n    </tr>\n    <tr>\n      <th>...</th>\n      <td>...</td>\n      <td>...</td>\n      <td>...</td>\n      <td>...</td>\n      <td>...</td>\n      <td>...</td>\n      <td>...</td>\n      <td>...</td>\n      <td>...</td>\n      <td>...</td>\n      <td>...</td>\n      <td>...</td>\n    </tr>\n    <tr>\n      <th>1594</th>\n      <td>6.2</td>\n      <td>0.600</td>\n      <td>0.08</td>\n      <td>2.0</td>\n      <td>0.090</td>\n      <td>32.0</td>\n      <td>44.0</td>\n      <td>0.99490</td>\n      <td>3.45</td>\n      <td>0.58</td>\n      <td>10.5</td>\n      <td>5</td>\n    </tr>\n    <tr>\n      <th>1595</th>\n      <td>5.9</td>\n      <td>0.550</td>\n      <td>0.10</td>\n      <td>2.2</td>\n      <td>0.062</td>\n      <td>39.0</td>\n      <td>51.0</td>\n      <td>0.99512</td>\n      <td>3.52</td>\n      <td>0.76</td>\n      <td>11.2</td>\n      <td>6</td>\n    </tr>\n    <tr>\n      <th>1596</th>\n      <td>6.3</td>\n      <td>0.510</td>\n      <td>0.13</td>\n      <td>2.3</td>\n      <td>0.076</td>\n      <td>29.0</td>\n      <td>40.0</td>\n      <td>0.99574</td>\n      <td>3.42</td>\n      <td>0.75</td>\n      <td>11.0</td>\n      <td>6</td>\n    </tr>\n    <tr>\n      <th>1597</th>\n      <td>5.9</td>\n      <td>0.645</td>\n      <td>0.12</td>\n      <td>2.0</td>\n      <td>0.075</td>\n      <td>32.0</td>\n      <td>44.0</td>\n      <td>0.99547</td>\n      <td>3.57</td>\n      <td>0.71</td>\n      <td>10.2</td>\n      <td>5</td>\n    </tr>\n    <tr>\n      <th>1598</th>\n      <td>6.0</td>\n      <td>0.310</td>\n      <td>0.47</td>\n      <td>3.6</td>\n      <td>0.067</td>\n      <td>18.0</td>\n      <td>42.0</td>\n      <td>0.99549</td>\n      <td>3.39</td>\n      <td>0.66</td>\n      <td>11.0</td>\n      <td>6</td>\n    </tr>\n  </tbody>\n</table>\n<p>1599 rows × 12 columns</p>\n</div>"
     },
     "execution_count": 10,
     "metadata": {},
     "output_type": "execute_result"
    }
   ],
   "source": [
    "red_df"
   ],
   "metadata": {
    "collapsed": false,
    "ExecuteTime": {
     "start_time": "2023-04-11T11:06:57.135575Z",
     "end_time": "2023-04-11T11:06:57.173988Z"
    }
   }
  },
  {
   "cell_type": "code",
   "execution_count": 11,
   "outputs": [
    {
     "data": {
      "text/plain": "      fixed acidity  volatile acidity  citric acid  residual sugar  chlorides  \\\n0               7.0              0.27         0.36            20.7      0.045   \n1               6.3              0.30         0.34             1.6      0.049   \n2               8.1              0.28         0.40             6.9      0.050   \n3               7.2              0.23         0.32             8.5      0.058   \n4               7.2              0.23         0.32             8.5      0.058   \n...             ...               ...          ...             ...        ...   \n4893            6.2              0.21         0.29             1.6      0.039   \n4894            6.6              0.32         0.36             8.0      0.047   \n4895            6.5              0.24         0.19             1.2      0.041   \n4896            5.5              0.29         0.30             1.1      0.022   \n4897            6.0              0.21         0.38             0.8      0.020   \n\n      free sulfur dioxide  total sulfur dioxide  density    pH  sulphates  \\\n0                    45.0                 170.0  1.00100  3.00       0.45   \n1                    14.0                 132.0  0.99400  3.30       0.49   \n2                    30.0                  97.0  0.99510  3.26       0.44   \n3                    47.0                 186.0  0.99560  3.19       0.40   \n4                    47.0                 186.0  0.99560  3.19       0.40   \n...                   ...                   ...      ...   ...        ...   \n4893                 24.0                  92.0  0.99114  3.27       0.50   \n4894                 57.0                 168.0  0.99490  3.15       0.46   \n4895                 30.0                 111.0  0.99254  2.99       0.46   \n4896                 20.0                 110.0  0.98869  3.34       0.38   \n4897                 22.0                  98.0  0.98941  3.26       0.32   \n\n      alcohol  quality  \n0         8.8        6  \n1         9.5        6  \n2        10.1        6  \n3         9.9        6  \n4         9.9        6  \n...       ...      ...  \n4893     11.2        6  \n4894      9.6        5  \n4895      9.4        6  \n4896     12.8        7  \n4897     11.8        6  \n\n[4898 rows x 12 columns]",
      "text/html": "<div>\n<style scoped>\n    .dataframe tbody tr th:only-of-type {\n        vertical-align: middle;\n    }\n\n    .dataframe tbody tr th {\n        vertical-align: top;\n    }\n\n    .dataframe thead th {\n        text-align: right;\n    }\n</style>\n<table border=\"1\" class=\"dataframe\">\n  <thead>\n    <tr style=\"text-align: right;\">\n      <th></th>\n      <th>fixed acidity</th>\n      <th>volatile acidity</th>\n      <th>citric acid</th>\n      <th>residual sugar</th>\n      <th>chlorides</th>\n      <th>free sulfur dioxide</th>\n      <th>total sulfur dioxide</th>\n      <th>density</th>\n      <th>pH</th>\n      <th>sulphates</th>\n      <th>alcohol</th>\n      <th>quality</th>\n    </tr>\n  </thead>\n  <tbody>\n    <tr>\n      <th>0</th>\n      <td>7.0</td>\n      <td>0.27</td>\n      <td>0.36</td>\n      <td>20.7</td>\n      <td>0.045</td>\n      <td>45.0</td>\n      <td>170.0</td>\n      <td>1.00100</td>\n      <td>3.00</td>\n      <td>0.45</td>\n      <td>8.8</td>\n      <td>6</td>\n    </tr>\n    <tr>\n      <th>1</th>\n      <td>6.3</td>\n      <td>0.30</td>\n      <td>0.34</td>\n      <td>1.6</td>\n      <td>0.049</td>\n      <td>14.0</td>\n      <td>132.0</td>\n      <td>0.99400</td>\n      <td>3.30</td>\n      <td>0.49</td>\n      <td>9.5</td>\n      <td>6</td>\n    </tr>\n    <tr>\n      <th>2</th>\n      <td>8.1</td>\n      <td>0.28</td>\n      <td>0.40</td>\n      <td>6.9</td>\n      <td>0.050</td>\n      <td>30.0</td>\n      <td>97.0</td>\n      <td>0.99510</td>\n      <td>3.26</td>\n      <td>0.44</td>\n      <td>10.1</td>\n      <td>6</td>\n    </tr>\n    <tr>\n      <th>3</th>\n      <td>7.2</td>\n      <td>0.23</td>\n      <td>0.32</td>\n      <td>8.5</td>\n      <td>0.058</td>\n      <td>47.0</td>\n      <td>186.0</td>\n      <td>0.99560</td>\n      <td>3.19</td>\n      <td>0.40</td>\n      <td>9.9</td>\n      <td>6</td>\n    </tr>\n    <tr>\n      <th>4</th>\n      <td>7.2</td>\n      <td>0.23</td>\n      <td>0.32</td>\n      <td>8.5</td>\n      <td>0.058</td>\n      <td>47.0</td>\n      <td>186.0</td>\n      <td>0.99560</td>\n      <td>3.19</td>\n      <td>0.40</td>\n      <td>9.9</td>\n      <td>6</td>\n    </tr>\n    <tr>\n      <th>...</th>\n      <td>...</td>\n      <td>...</td>\n      <td>...</td>\n      <td>...</td>\n      <td>...</td>\n      <td>...</td>\n      <td>...</td>\n      <td>...</td>\n      <td>...</td>\n      <td>...</td>\n      <td>...</td>\n      <td>...</td>\n    </tr>\n    <tr>\n      <th>4893</th>\n      <td>6.2</td>\n      <td>0.21</td>\n      <td>0.29</td>\n      <td>1.6</td>\n      <td>0.039</td>\n      <td>24.0</td>\n      <td>92.0</td>\n      <td>0.99114</td>\n      <td>3.27</td>\n      <td>0.50</td>\n      <td>11.2</td>\n      <td>6</td>\n    </tr>\n    <tr>\n      <th>4894</th>\n      <td>6.6</td>\n      <td>0.32</td>\n      <td>0.36</td>\n      <td>8.0</td>\n      <td>0.047</td>\n      <td>57.0</td>\n      <td>168.0</td>\n      <td>0.99490</td>\n      <td>3.15</td>\n      <td>0.46</td>\n      <td>9.6</td>\n      <td>5</td>\n    </tr>\n    <tr>\n      <th>4895</th>\n      <td>6.5</td>\n      <td>0.24</td>\n      <td>0.19</td>\n      <td>1.2</td>\n      <td>0.041</td>\n      <td>30.0</td>\n      <td>111.0</td>\n      <td>0.99254</td>\n      <td>2.99</td>\n      <td>0.46</td>\n      <td>9.4</td>\n      <td>6</td>\n    </tr>\n    <tr>\n      <th>4896</th>\n      <td>5.5</td>\n      <td>0.29</td>\n      <td>0.30</td>\n      <td>1.1</td>\n      <td>0.022</td>\n      <td>20.0</td>\n      <td>110.0</td>\n      <td>0.98869</td>\n      <td>3.34</td>\n      <td>0.38</td>\n      <td>12.8</td>\n      <td>7</td>\n    </tr>\n    <tr>\n      <th>4897</th>\n      <td>6.0</td>\n      <td>0.21</td>\n      <td>0.38</td>\n      <td>0.8</td>\n      <td>0.020</td>\n      <td>22.0</td>\n      <td>98.0</td>\n      <td>0.98941</td>\n      <td>3.26</td>\n      <td>0.32</td>\n      <td>11.8</td>\n      <td>6</td>\n    </tr>\n  </tbody>\n</table>\n<p>4898 rows × 12 columns</p>\n</div>"
     },
     "execution_count": 11,
     "metadata": {},
     "output_type": "execute_result"
    }
   ],
   "source": [
    "white_df"
   ],
   "metadata": {
    "collapsed": false,
    "ExecuteTime": {
     "start_time": "2023-04-11T11:06:57.172190Z",
     "end_time": "2023-04-11T11:06:57.210763Z"
    }
   }
  },
  {
   "cell_type": "code",
   "execution_count": 12,
   "outputs": [
    {
     "data": {
      "text/plain": "5    681\n6    638\n7    199\n4     53\n8     18\n3     10\nName: quality, dtype: int64"
     },
     "execution_count": 12,
     "metadata": {},
     "output_type": "execute_result"
    }
   ],
   "source": [
    "red_df[\"quality\"].value_counts()"
   ],
   "metadata": {
    "collapsed": false,
    "ExecuteTime": {
     "start_time": "2023-04-11T11:06:57.184125Z",
     "end_time": "2023-04-11T11:06:57.211475Z"
    }
   }
  },
  {
   "cell_type": "code",
   "execution_count": 13,
   "outputs": [
    {
     "data": {
      "text/plain": "6    2198\n5    1457\n7     880\n8     175\n4     163\n3      20\n9       5\nName: quality, dtype: int64"
     },
     "execution_count": 13,
     "metadata": {},
     "output_type": "execute_result"
    }
   ],
   "source": [
    "white_df[\"quality\"].value_counts()"
   ],
   "metadata": {
    "collapsed": false,
    "ExecuteTime": {
     "start_time": "2023-04-11T11:06:57.187721Z",
     "end_time": "2023-04-11T11:06:57.211973Z"
    }
   }
  },
  {
   "cell_type": "code",
   "execution_count": 14,
   "outputs": [
    {
     "name": "stdout",
     "output_type": "stream",
     "text": [
      "Red:\n",
      "Initial discretization: [1382, 217]\n",
      "Classify+regress using data as-is:\n",
      "  LinearRegression score: 0.2900416288421968\n",
      "  DecisionTreeRegressor score: -0.34410493470485276\n",
      "  RandomForestRegressor score: 0.307039237139175\n",
      "  DummyClassifier accuracy without discretization: 0.4258914576802508\n",
      "  DummyClassifier accuracy with discretization (value counts=[1382, 217]) 0.8642907523510971\n",
      "  DummyClassifier balanced_accuracy without discretization: 0.16666666666666666\n",
      "  DummyClassifier balanced_accuracy with discretization (value counts=[1382, 217]) 0.5\n",
      "  DummyClassifier f1_weighted without discretization: 0.2544152663102543\n",
      "  DummyClassifier f1_weighted with discretization (value counts=[1382, 217]) 0.8013762078250879\n",
      "  DecisionTreeClassifier accuracy without discretization: 0.4915654388714733\n",
      "  DecisionTreeClassifier accuracy with discretization (value counts=[1382, 217]) 0.8042456896551725\n",
      "  DecisionTreeClassifier balanced_accuracy without discretization: 0.28499127181515327\n",
      "  DecisionTreeClassifier balanced_accuracy with discretization (value counts=[1382, 217]) 0.6202055533967396\n",
      "  DecisionTreeClassifier f1_weighted without discretization: 0.47946648347905746\n",
      "  DecisionTreeClassifier f1_weighted with discretization (value counts=[1382, 217]) 0.8110010876554161\n",
      "  AdaBoostClassifier accuracy without discretization: 0.507823275862069\n",
      "  AdaBoostClassifier accuracy with discretization (value counts=[1382, 217]) 0.8574137931034482\n",
      "  AdaBoostClassifier balanced_accuracy without discretization: 0.3025761493997852\n",
      "  AdaBoostClassifier balanced_accuracy with discretization (value counts=[1382, 217]) 0.6528712069500088\n",
      "  AdaBoostClassifier f1_weighted without discretization: 0.46203275270839883\n",
      "  AdaBoostClassifier f1_weighted with discretization (value counts=[1382, 217]) 0.8492150197709609\n",
      "  RandomForestClassifier accuracy without discretization: 0.5628702978056426\n",
      "  RandomForestClassifier accuracy with discretization (value counts=[1382, 217]) 0.8780525078369907\n",
      "  RandomForestClassifier balanced_accuracy without discretization: 0.2849549083401651\n",
      "  RandomForestClassifier balanced_accuracy with discretization (value counts=[1382, 217]) 0.6193974491753672\n",
      "  RandomForestClassifier f1_weighted without discretization: 0.5432621265099692\n",
      "  RandomForestClassifier f1_weighted with discretization (value counts=[1382, 217]) 0.8546379033050522\n",
      "\n",
      "Scale X:\n",
      "  LinearRegression score: 0.29004162884219636\n",
      "  DecisionTreeRegressor score: -0.32094710315538266\n",
      "  RandomForestRegressor score: 0.3176894373597505\n",
      "  DummyClassifier accuracy without discretization: 0.4258914576802508\n",
      "  DummyClassifier accuracy with discretization (value counts=[1382, 217]) 0.8642907523510971\n",
      "  DummyClassifier balanced_accuracy without discretization: 0.16666666666666666\n",
      "  DummyClassifier balanced_accuracy with discretization (value counts=[1382, 217]) 0.5\n",
      "  DummyClassifier f1_weighted without discretization: 0.2544152663102543\n",
      "  DummyClassifier f1_weighted with discretization (value counts=[1382, 217]) 0.8013762078250879\n",
      "  DecisionTreeClassifier accuracy without discretization: 0.4740536833855799\n",
      "  DecisionTreeClassifier accuracy with discretization (value counts=[1382, 217]) 0.8067358934169278\n",
      "  DecisionTreeClassifier balanced_accuracy without discretization: 0.2816969682657862\n",
      "  DecisionTreeClassifier balanced_accuracy with discretization (value counts=[1382, 217]) 0.6149341531598707\n",
      "  DecisionTreeClassifier f1_weighted without discretization: 0.4849070568538215\n",
      "  DecisionTreeClassifier f1_weighted with discretization (value counts=[1382, 217]) 0.8138235821190832\n",
      "  AdaBoostClassifier accuracy without discretization: 0.507823275862069\n",
      "  AdaBoostClassifier accuracy with discretization (value counts=[1382, 217]) 0.8580387931034483\n",
      "  AdaBoostClassifier balanced_accuracy without discretization: 0.3025761493997852\n",
      "  AdaBoostClassifier balanced_accuracy with discretization (value counts=[1382, 217]) 0.655143934222736\n",
      "  AdaBoostClassifier f1_weighted without discretization: 0.46203275270839883\n",
      "  AdaBoostClassifier f1_weighted with discretization (value counts=[1382, 217]) 0.8500556457184263\n",
      "  RandomForestClassifier accuracy without discretization: 0.5684874608150471\n",
      "  RandomForestClassifier accuracy with discretization (value counts=[1382, 217]) 0.8655505485893418\n",
      "  RandomForestClassifier balanced_accuracy without discretization: 0.278625478520383\n",
      "  RandomForestClassifier balanced_accuracy with discretization (value counts=[1382, 217]) 0.6328829104616375\n",
      "  RandomForestClassifier f1_weighted without discretization: 0.5463606746161349\n",
      "  RandomForestClassifier f1_weighted with discretization (value counts=[1382, 217]) 0.8521281743541138\n",
      "\n",
      "Classify+regress using data after PCA capturing 0.9 variance (n_components=7):\n",
      "  LinearRegression score: 0.27992109312082947\n",
      "  DecisionTreeRegressor score: -0.41161780650653756\n",
      "  RandomForestRegressor score: 0.2735284612663381\n",
      "  DummyClassifier accuracy without discretization: 0.4258914576802508\n",
      "  DummyClassifier accuracy with discretization (value counts=[1382, 217]) 0.8642907523510971\n",
      "  DummyClassifier balanced_accuracy without discretization: 0.16666666666666666\n",
      "  DummyClassifier balanced_accuracy with discretization (value counts=[1382, 217]) 0.5\n",
      "  DummyClassifier f1_weighted without discretization: 0.2544152663102543\n",
      "  DummyClassifier f1_weighted with discretization (value counts=[1382, 217]) 0.8013762078250879\n",
      "  DecisionTreeClassifier accuracy without discretization: 0.46595611285266453\n",
      "  DecisionTreeClassifier accuracy with discretization (value counts=[1382, 217]) 0.8117594043887146\n",
      "  DecisionTreeClassifier balanced_accuracy without discretization: 0.2981872452333372\n",
      "  DecisionTreeClassifier balanced_accuracy with discretization (value counts=[1382, 217]) 0.6042586463349331\n",
      "  DecisionTreeClassifier f1_weighted without discretization: 0.4545887758360461\n",
      "  DecisionTreeClassifier f1_weighted with discretization (value counts=[1382, 217]) 0.8225319193351603\n",
      "  AdaBoostClassifier accuracy without discretization: 0.5046728056426332\n",
      "  AdaBoostClassifier accuracy with discretization (value counts=[1382, 217]) 0.8511696708463952\n",
      "  AdaBoostClassifier balanced_accuracy without discretization: 0.24521589307025762\n",
      "  AdaBoostClassifier balanced_accuracy with discretization (value counts=[1382, 217]) 0.6304055888153343\n",
      "  AdaBoostClassifier f1_weighted without discretization: 0.44970656907012196\n",
      "  AdaBoostClassifier f1_weighted with discretization (value counts=[1382, 217]) 0.8409406008186278\n",
      "  RandomForestClassifier accuracy without discretization: 0.5541105015673982\n",
      "  RandomForestClassifier accuracy with discretization (value counts=[1382, 217]) 0.8705446708463951\n",
      "  RandomForestClassifier balanced_accuracy without discretization: 0.27664058193787017\n",
      "  RandomForestClassifier balanced_accuracy with discretization (value counts=[1382, 217]) 0.6017293941927\n",
      "  RandomForestClassifier f1_weighted without discretization: 0.529594609172672\n",
      "  RandomForestClassifier f1_weighted with discretization (value counts=[1382, 217]) 0.8486369479679944\n",
      "\n",
      "Feature importances in descending order:\n",
      "alcohol = 0.2790894405352111\n",
      "sulphates = 0.13731289366477262\n",
      "volatile acidity = 0.12728916172990107\n",
      "total sulfur dioxide = 0.07913960187928522\n",
      "chlorides = 0.06536122410287433\n",
      "pH = 0.057695054225148555\n",
      "density = 0.053504666337824566\n",
      "residual sugar = 0.05334923472706872\n",
      "fixed acidity = 0.05199809311563145\n",
      "citric acid = 0.048671042220793416\n",
      "free sulfur dioxide = 0.046589587461488946\n",
      "Classify+regress using top 5 features (('alcohol', 'sulphates', 'volatile acidity', 'total sulfur dioxide', 'chlorides'):\n",
      "  LinearRegression score: 0.289912166919883\n",
      "  DecisionTreeRegressor score: -0.2572593677171379\n",
      "  RandomForestRegressor score: 0.282524138143892\n",
      "  DummyClassifier accuracy without discretization: 0.4258914576802508\n",
      "  DummyClassifier accuracy with discretization (value counts=[1382, 217]) 0.8642907523510971\n",
      "  DummyClassifier balanced_accuracy without discretization: 0.16666666666666666\n",
      "  DummyClassifier balanced_accuracy with discretization (value counts=[1382, 217]) 0.5\n",
      "  DummyClassifier f1_weighted without discretization: 0.2544152663102543\n",
      "  DummyClassifier f1_weighted with discretization (value counts=[1382, 217]) 0.8013762078250879\n",
      "  DecisionTreeClassifier accuracy without discretization: 0.46342672413793107\n",
      "  DecisionTreeClassifier accuracy with discretization (value counts=[1382, 217]) 0.8198961598746081\n",
      "  DecisionTreeClassifier balanced_accuracy without discretization: 0.259106664144349\n",
      "  DecisionTreeClassifier balanced_accuracy with discretization (value counts=[1382, 217]) 0.6364776710758504\n",
      "  DecisionTreeClassifier f1_weighted without discretization: 0.4572077249350045\n",
      "  DecisionTreeClassifier f1_weighted with discretization (value counts=[1382, 217]) 0.8202530067490661\n",
      "  AdaBoostClassifier accuracy without discretization: 0.514073275862069\n",
      "  AdaBoostClassifier accuracy with discretization (value counts=[1382, 217]) 0.8599157523510972\n",
      "  AdaBoostClassifier balanced_accuracy without discretization: 0.26165703175272637\n",
      "  AdaBoostClassifier balanced_accuracy with discretization (value counts=[1382, 217]) 0.6487334312709467\n",
      "  AdaBoostClassifier f1_weighted without discretization: 0.4690753520703953\n",
      "  AdaBoostClassifier f1_weighted with discretization (value counts=[1382, 217]) 0.8508372485826248\n",
      "  RandomForestClassifier accuracy without discretization: 0.5803663793103448\n",
      "  RandomForestClassifier accuracy with discretization (value counts=[1382, 217]) 0.8768025078369905\n",
      "  RandomForestClassifier balanced_accuracy without discretization: 0.29616419550735945\n",
      "  RandomForestClassifier balanced_accuracy with discretization (value counts=[1382, 217]) 0.6611337279818734\n",
      "  RandomForestClassifier f1_weighted without discretization: 0.5603301247530925\n",
      "  RandomForestClassifier f1_weighted with discretization (value counts=[1382, 217]) 0.8552778792989546\n",
      "\n",
      "Undersampled to balance the classes:\n",
      "  LinearRegression score: -2.011617160525637\n",
      "  DecisionTreeRegressor score: -5.408490550803686\n",
      "  RandomForestRegressor score: -2.312017561654871\n",
      "  DummyClassifier accuracy without discretization: 0.4585404971932638\n",
      "  DummyClassifier accuracy with discretization (value counts=[217, 217]) 0.4954022988505747\n",
      "  DummyClassifier balanced_accuracy without discretization: 0.2\n",
      "  DummyClassifier balanced_accuracy with discretization (value counts=[217, 217]) 0.5\n",
      "  DummyClassifier f1_weighted without discretization: 0.28833458768736503\n",
      "  DummyClassifier f1_weighted with discretization (value counts=[217, 217]) 0.32824049513704684\n",
      "  DecisionTreeClassifier accuracy without discretization: 0.4907778668805133\n",
      "  DecisionTreeClassifier accuracy with discretization (value counts=[217, 217]) 0.6935044105854049\n",
      "  DecisionTreeClassifier balanced_accuracy without discretization: 0.3456923076923077\n",
      "  DecisionTreeClassifier balanced_accuracy with discretization (value counts=[217, 217]) 0.6791226215644821\n",
      "  DecisionTreeClassifier f1_weighted without discretization: 0.5097715530419759\n",
      "  DecisionTreeClassifier f1_weighted with discretization (value counts=[217, 217]) 0.6818089810698591\n",
      "  AdaBoostClassifier accuracy without discretization: 0.502485966319166\n",
      "  AdaBoostClassifier accuracy with discretization (value counts=[217, 217]) 0.7673082063619353\n",
      "  AdaBoostClassifier balanced_accuracy without discretization: 0.33717149517149514\n",
      "  AdaBoostClassifier balanced_accuracy with discretization (value counts=[217, 217]) 0.766860465116279\n",
      "  AdaBoostClassifier f1_weighted without discretization: 0.47184644191965824\n",
      "  AdaBoostClassifier f1_weighted with discretization (value counts=[217, 217]) 0.7661980792893276\n",
      "  RandomForestClassifier accuracy without discretization: 0.601390002673082\n",
      "  RandomForestClassifier accuracy with discretization (value counts=[217, 217]) 0.760491847099706\n",
      "  RandomForestClassifier balanced_accuracy without discretization: 0.38505194805194803\n",
      "  RandomForestClassifier balanced_accuracy with discretization (value counts=[217, 217]) 0.7575052854122621\n",
      "  RandomForestClassifier f1_weighted without discretization: 0.6001604797441769\n",
      "  RandomForestClassifier f1_weighted with discretization (value counts=[217, 217]) 0.773723325613382\n",
      "\n",
      "White:\n",
      "Initial discretization: [3838, 1060]\n",
      "Classify+regress using data as-is:\n",
      "  LinearRegression score: 0.24577850482967145\n",
      "  DecisionTreeRegressor score: -0.42617102043726235\n",
      "  RandomForestRegressor score: 0.31814763253426\n",
      "  DummyClassifier accuracy without discretization: 0.4487544558170561\n",
      "  DummyClassifier accuracy with discretization (value counts=[3838, 1060]) 0.7835850826541035\n",
      "  DummyClassifier balanced_accuracy without discretization: 0.14285714285714285\n",
      "  DummyClassifier balanced_accuracy with discretization (value counts=[3838, 1060]) 0.5\n",
      "  DummyClassifier f1_weighted without discretization: 0.27800514715726526\n",
      "  DummyClassifier f1_weighted with discretization (value counts=[3838, 1060]) 0.6885071998113931\n",
      "  DecisionTreeClassifier accuracy without discretization: 0.402829834691793\n",
      "  DecisionTreeClassifier accuracy with discretization (value counts=[3838, 1060]) 0.7443743094786434\n",
      "  DecisionTreeClassifier balanced_accuracy without discretization: 0.2127787136399064\n",
      "  DecisionTreeClassifier balanced_accuracy with discretization (value counts=[3838, 1060]) 0.6460109440214673\n",
      "  DecisionTreeClassifier f1_weighted without discretization: 0.4065070610410631\n",
      "  DecisionTreeClassifier f1_weighted with discretization (value counts=[3838, 1060]) 0.7476570021071612\n",
      "  AdaBoostClassifier accuracy without discretization: 0.4079329178045069\n",
      "  AdaBoostClassifier accuracy with discretization (value counts=[3838, 1060]) 0.7925575868754039\n",
      "  AdaBoostClassifier balanced_accuracy without discretization: 0.17005496025204833\n",
      "  AdaBoostClassifier balanced_accuracy with discretization (value counts=[3838, 1060]) 0.6436494457649669\n",
      "  AdaBoostClassifier f1_weighted without discretization: 0.3436116758270821\n",
      "  AdaBoostClassifier f1_weighted with discretization (value counts=[3838, 1060]) 0.7762492663539673\n",
      "  RandomForestClassifier accuracy without discretization: 0.5198044651977236\n",
      "  RandomForestClassifier accuracy with discretization (value counts=[3838, 1060]) 0.8070563465427029\n",
      "  RandomForestClassifier balanced_accuracy without discretization: 0.22907741671741583\n",
      "  RandomForestClassifier balanced_accuracy with discretization (value counts=[3838, 1060]) 0.6356355105809206\n",
      "  RandomForestClassifier f1_weighted without discretization: 0.4949605483516401\n",
      "  RandomForestClassifier f1_weighted with discretization (value counts=[3838, 1060]) 0.7837226945006333\n",
      "\n",
      "Scale X:\n",
      "  LinearRegression score: 0.24577850482966906\n",
      "  DecisionTreeRegressor score: -0.41535690972985007\n",
      "  RandomForestRegressor score: 0.31195240054445367\n",
      "  DummyClassifier accuracy without discretization: 0.4487544558170561\n",
      "  DummyClassifier accuracy with discretization (value counts=[3838, 1060]) 0.7835850826541035\n",
      "  DummyClassifier balanced_accuracy without discretization: 0.14285714285714285\n",
      "  DummyClassifier balanced_accuracy with discretization (value counts=[3838, 1060]) 0.5\n",
      "  DummyClassifier f1_weighted without discretization: 0.27800514715726526\n",
      "  DummyClassifier f1_weighted with discretization (value counts=[3838, 1060]) 0.6885071998113931\n",
      "  DecisionTreeClassifier accuracy without discretization: 0.4058935606929186\n",
      "  DecisionTreeClassifier accuracy with discretization (value counts=[3838, 1060]) 0.7529538679618937\n",
      "  DecisionTreeClassifier balanced_accuracy without discretization: 0.22451497009557314\n",
      "  DecisionTreeClassifier balanced_accuracy with discretization (value counts=[3838, 1060]) 0.6341674084995859\n",
      "  DecisionTreeClassifier f1_weighted without discretization: 0.41061744513423787\n",
      "  DecisionTreeClassifier f1_weighted with discretization (value counts=[3838, 1060]) 0.7481993449456452\n",
      "  AdaBoostClassifier accuracy without discretization: 0.4079329178045069\n",
      "  AdaBoostClassifier accuracy with discretization (value counts=[3838, 1060]) 0.7925575868754039\n",
      "  AdaBoostClassifier balanced_accuracy without discretization: 0.17005496025204833\n",
      "  AdaBoostClassifier balanced_accuracy with discretization (value counts=[3838, 1060]) 0.6436494457649669\n",
      "  AdaBoostClassifier f1_weighted without discretization: 0.3436116758270821\n",
      "  AdaBoostClassifier f1_weighted with discretization (value counts=[3838, 1060]) 0.7762492663539673\n",
      "  RandomForestClassifier accuracy without discretization: 0.5273579871172167\n",
      "  RandomForestClassifier accuracy with discretization (value counts=[3838, 1060]) 0.8064436847261888\n",
      "  RandomForestClassifier balanced_accuracy without discretization: 0.2294998061641768\n",
      "  RandomForestClassifier balanced_accuracy with discretization (value counts=[3838, 1060]) 0.6357162441678351\n",
      "  RandomForestClassifier f1_weighted without discretization: 0.4901068858195504\n",
      "  RandomForestClassifier f1_weighted with discretization (value counts=[3838, 1060]) 0.7820543128895737\n",
      "\n",
      "Classify+regress using data after PCA capturing 0.9 variance (n_components=8):\n",
      "  LinearRegression score: 0.1719628574807448\n",
      "  DecisionTreeRegressor score: -0.47638830250815883\n",
      "  RandomForestRegressor score: 0.28002811105832165\n",
      "  DummyClassifier accuracy without discretization: 0.4487544558170561\n",
      "  DummyClassifier accuracy with discretization (value counts=[3838, 1060]) 0.7835850826541035\n",
      "  DummyClassifier balanced_accuracy without discretization: 0.14285714285714285\n",
      "  DummyClassifier balanced_accuracy with discretization (value counts=[3838, 1060]) 0.5\n",
      "  DummyClassifier f1_weighted without discretization: 0.27800514715726526\n",
      "  DummyClassifier f1_weighted with discretization (value counts=[3838, 1060]) 0.6885071998113931\n",
      "  DecisionTreeClassifier accuracy without discretization: 0.4056863521711033\n",
      "  DecisionTreeClassifier accuracy with discretization (value counts=[3838, 1060]) 0.7349850951616601\n",
      "  DecisionTreeClassifier balanced_accuracy without discretization: 0.2192746959127741\n",
      "  DecisionTreeClassifier balanced_accuracy with discretization (value counts=[3838, 1060]) 0.6061051151621936\n",
      "  DecisionTreeClassifier f1_weighted without discretization: 0.41188081479899397\n",
      "  DecisionTreeClassifier f1_weighted with discretization (value counts=[3838, 1060]) 0.7328338885101588\n",
      "  AdaBoostClassifier accuracy without discretization: 0.3176777636488712\n",
      "  AdaBoostClassifier accuracy with discretization (value counts=[3838, 1060]) 0.7837768651893853\n",
      "  AdaBoostClassifier balanced_accuracy without discretization: 0.17636798026056574\n",
      "  AdaBoostClassifier balanced_accuracy with discretization (value counts=[3838, 1060]) 0.6056138814748304\n",
      "  AdaBoostClassifier f1_weighted without discretization: 0.305857287256337\n",
      "  AdaBoostClassifier f1_weighted with discretization (value counts=[3838, 1060]) 0.7587530623112514\n",
      "  RandomForestClassifier accuracy without discretization: 0.5169542014967377\n",
      "  RandomForestClassifier accuracy with discretization (value counts=[3838, 1060]) 0.8088959996664651\n",
      "  RandomForestClassifier balanced_accuracy without discretization: 0.21719447451435064\n",
      "  RandomForestClassifier balanced_accuracy with discretization (value counts=[3838, 1060]) 0.6196240495826262\n",
      "  RandomForestClassifier f1_weighted without discretization: 0.48801380407768297\n",
      "  RandomForestClassifier f1_weighted with discretization (value counts=[3838, 1060]) 0.7712182865058412\n",
      "\n",
      "Feature importances in descending order:\n",
      "alcohol = 0.24432506063934334\n",
      "volatile acidity = 0.12475502776793386\n",
      "free sulfur dioxide = 0.11539917100704329\n",
      "pH = 0.0707937162557098\n",
      "residual sugar = 0.0705259947412348\n",
      "total sulfur dioxide = 0.06901334038537713\n",
      "chlorides = 0.06326423921934173\n",
      "density = 0.06224275303970398\n",
      "sulphates = 0.06113049925087364\n",
      "fixed acidity = 0.06010192009177863\n",
      "citric acid = 0.0584482776016599\n",
      "Classify+regress using top 5 features (('alcohol', 'volatile acidity', 'free sulfur dioxide', 'pH', 'residual sugar'):\n",
      "  LinearRegression score: 0.24019632677488456\n",
      "  DecisionTreeRegressor score: -0.3732578928072977\n",
      "  RandomForestRegressor score: 0.2860026644073314\n",
      "  DummyClassifier accuracy without discretization: 0.4487544558170561\n",
      "  DummyClassifier accuracy with discretization (value counts=[3838, 1060]) 0.7835850826541035\n",
      "  DummyClassifier balanced_accuracy without discretization: 0.14285714285714285\n",
      "  DummyClassifier balanced_accuracy with discretization (value counts=[3838, 1060]) 0.5\n",
      "  DummyClassifier f1_weighted without discretization: 0.27800514715726526\n",
      "  DummyClassifier f1_weighted with discretization (value counts=[3838, 1060]) 0.6885071998113931\n",
      "  DecisionTreeClassifier accuracy without discretization: 0.4073152529653332\n",
      "  DecisionTreeClassifier accuracy with discretization (value counts=[3838, 1060]) 0.7439651039169498\n",
      "  DecisionTreeClassifier balanced_accuracy without discretization: 0.2184594638196588\n",
      "  DecisionTreeClassifier balanced_accuracy with discretization (value counts=[3838, 1060]) 0.6240585256205259\n",
      "  DecisionTreeClassifier f1_weighted without discretization: 0.40257405175185534\n",
      "  DecisionTreeClassifier f1_weighted with discretization (value counts=[3838, 1060]) 0.7435607122389359\n",
      "  AdaBoostClassifier accuracy without discretization: 0.405075774947364\n",
      "  AdaBoostClassifier accuracy with discretization (value counts=[3838, 1060]) 0.7886789935586083\n",
      "  AdaBoostClassifier balanced_accuracy without discretization: 0.1727691307434847\n",
      "  AdaBoostClassifier balanced_accuracy with discretization (value counts=[3838, 1060]) 0.6196655358519265\n",
      "  AdaBoostClassifier f1_weighted without discretization: 0.33735327714636787\n",
      "  AdaBoostClassifier f1_weighted with discretization (value counts=[3838, 1060]) 0.766647276207778\n",
      "  RandomForestClassifier accuracy without discretization: 0.5059283733922578\n",
      "  RandomForestClassifier accuracy with discretization (value counts=[3838, 1060]) 0.7986856642554877\n",
      "  RandomForestClassifier balanced_accuracy without discretization: 0.2343122210177449\n",
      "  RandomForestClassifier balanced_accuracy with discretization (value counts=[3838, 1060]) 0.6333320777266651\n",
      "  RandomForestClassifier f1_weighted without discretization: 0.47692241087099124\n",
      "  RandomForestClassifier f1_weighted with discretization (value counts=[3838, 1060]) 0.7800581484615536\n",
      "\n",
      "Undersampled to balance the classes:\n",
      "  LinearRegression score: -2.5489694894237056\n",
      "  DecisionTreeRegressor score: -5.147675206713427\n",
      "  RandomForestRegressor score: -2.4125192633174835\n",
      "  DummyClassifier accuracy without discretization: 0.41509433962264153\n",
      "  DummyClassifier accuracy with discretization (value counts=[1060, 1060]) 0.5\n",
      "  DummyClassifier balanced_accuracy without discretization: 0.15238095238095237\n",
      "  DummyClassifier balanced_accuracy with discretization (value counts=[1060, 1060]) 0.5\n",
      "  DummyClassifier f1_weighted without discretization: 0.24352201257861644\n",
      "  DummyClassifier f1_weighted with discretization (value counts=[1060, 1060]) 0.3333333333333333\n",
      "  DecisionTreeClassifier accuracy without discretization: 0.4466981132075472\n"
     ]
    },
    {
     "name": "stderr",
     "output_type": "stream",
     "text": [
      "/Users/minor/anaconda3/envs/lally/lib/python3.9/site-packages/sklearn/model_selection/_split.py:700: UserWarning: The least populated class in y has only 3 members, which is less than n_splits=5.\n",
      "  warnings.warn(\n",
      "/Users/minor/anaconda3/envs/lally/lib/python3.9/site-packages/sklearn/model_selection/_split.py:700: UserWarning: The least populated class in y has only 3 members, which is less than n_splits=5.\n",
      "  warnings.warn(\n",
      "/Users/minor/anaconda3/envs/lally/lib/python3.9/site-packages/sklearn/model_selection/_split.py:700: UserWarning: The least populated class in y has only 3 members, which is less than n_splits=5.\n",
      "  warnings.warn(\n",
      "/Users/minor/anaconda3/envs/lally/lib/python3.9/site-packages/sklearn/model_selection/_split.py:700: UserWarning: The least populated class in y has only 3 members, which is less than n_splits=5.\n",
      "  warnings.warn(\n"
     ]
    },
    {
     "name": "stdout",
     "output_type": "stream",
     "text": [
      "  DecisionTreeClassifier accuracy with discretization (value counts=[1060, 1060]) 0.6495283018867924\n",
      "  DecisionTreeClassifier balanced_accuracy without discretization: 0.2485105891355001\n",
      "  DecisionTreeClassifier balanced_accuracy with discretization (value counts=[1060, 1060]) 0.6514150943396226\n"
     ]
    },
    {
     "name": "stderr",
     "output_type": "stream",
     "text": [
      "/Users/minor/anaconda3/envs/lally/lib/python3.9/site-packages/sklearn/model_selection/_split.py:700: UserWarning: The least populated class in y has only 3 members, which is less than n_splits=5.\n",
      "  warnings.warn(\n",
      "/Users/minor/anaconda3/envs/lally/lib/python3.9/site-packages/sklearn/metrics/_classification.py:2184: UserWarning: y_pred contains classes not in y_true\n",
      "  warnings.warn(\"y_pred contains classes not in y_true\")\n",
      "/Users/minor/anaconda3/envs/lally/lib/python3.9/site-packages/sklearn/model_selection/_split.py:700: UserWarning: The least populated class in y has only 3 members, which is less than n_splits=5.\n",
      "  warnings.warn(\n"
     ]
    },
    {
     "name": "stdout",
     "output_type": "stream",
     "text": [
      "  DecisionTreeClassifier f1_weighted without discretization: 0.44542633095492085\n",
      "  DecisionTreeClassifier f1_weighted with discretization (value counts=[1060, 1060]) 0.6423006107448094\n"
     ]
    },
    {
     "name": "stderr",
     "output_type": "stream",
     "text": [
      "/Users/minor/anaconda3/envs/lally/lib/python3.9/site-packages/sklearn/model_selection/_split.py:700: UserWarning: The least populated class in y has only 3 members, which is less than n_splits=5.\n",
      "  warnings.warn(\n"
     ]
    },
    {
     "name": "stdout",
     "output_type": "stream",
     "text": [
      "  AdaBoostClassifier accuracy without discretization: 0.4735849056603773\n",
      "  AdaBoostClassifier accuracy with discretization (value counts=[1060, 1060]) 0.7051886792452831\n"
     ]
    },
    {
     "name": "stderr",
     "output_type": "stream",
     "text": [
      "/Users/minor/anaconda3/envs/lally/lib/python3.9/site-packages/sklearn/model_selection/_split.py:700: UserWarning: The least populated class in y has only 3 members, which is less than n_splits=5.\n",
      "  warnings.warn(\n"
     ]
    },
    {
     "name": "stdout",
     "output_type": "stream",
     "text": [
      "  AdaBoostClassifier balanced_accuracy without discretization: 0.23705642272317248\n",
      "  AdaBoostClassifier balanced_accuracy with discretization (value counts=[1060, 1060]) 0.7051886792452831\n"
     ]
    },
    {
     "name": "stderr",
     "output_type": "stream",
     "text": [
      "/Users/minor/anaconda3/envs/lally/lib/python3.9/site-packages/sklearn/model_selection/_split.py:700: UserWarning: The least populated class in y has only 3 members, which is less than n_splits=5.\n",
      "  warnings.warn(\n"
     ]
    },
    {
     "name": "stdout",
     "output_type": "stream",
     "text": [
      "  AdaBoostClassifier f1_weighted without discretization: 0.3771684650885025\n",
      "  AdaBoostClassifier f1_weighted with discretization (value counts=[1060, 1060]) 0.703557355258328\n"
     ]
    },
    {
     "name": "stderr",
     "output_type": "stream",
     "text": [
      "/Users/minor/anaconda3/envs/lally/lib/python3.9/site-packages/sklearn/model_selection/_split.py:700: UserWarning: The least populated class in y has only 3 members, which is less than n_splits=5.\n",
      "  warnings.warn(\n"
     ]
    },
    {
     "name": "stdout",
     "output_type": "stream",
     "text": [
      "  RandomForestClassifier accuracy without discretization: 0.5207547169811322\n",
      "  RandomForestClassifier accuracy with discretization (value counts=[1060, 1060]) 0.7264150943396226\n"
     ]
    },
    {
     "name": "stderr",
     "output_type": "stream",
     "text": [
      "/Users/minor/anaconda3/envs/lally/lib/python3.9/site-packages/sklearn/model_selection/_split.py:700: UserWarning: The least populated class in y has only 3 members, which is less than n_splits=5.\n",
      "  warnings.warn(\n"
     ]
    },
    {
     "name": "stdout",
     "output_type": "stream",
     "text": [
      "  RandomForestClassifier balanced_accuracy without discretization: 0.27677159804171625\n",
      "  RandomForestClassifier balanced_accuracy with discretization (value counts=[1060, 1060]) 0.725943396226415\n"
     ]
    },
    {
     "name": "stderr",
     "output_type": "stream",
     "text": [
      "/Users/minor/anaconda3/envs/lally/lib/python3.9/site-packages/sklearn/model_selection/_split.py:700: UserWarning: The least populated class in y has only 3 members, which is less than n_splits=5.\n",
      "  warnings.warn(\n"
     ]
    },
    {
     "name": "stdout",
     "output_type": "stream",
     "text": [
      "  RandomForestClassifier f1_weighted without discretization: 0.503178154802659\n",
      "  RandomForestClassifier f1_weighted with discretization (value counts=[1060, 1060]) 0.7238384959521051\n",
      "\n"
     ]
    }
   ],
   "source": [
    "from sklearn.preprocessing import StandardScaler\n",
    "from sklearn.decomposition import PCA\n",
    "from sklearn.model_selection import cross_val_score\n",
    "from sklearn.ensemble import RandomForestRegressor, AdaBoostClassifier, RandomForestClassifier\n",
    "from sklearn.linear_model import LinearRegression\n",
    "\n",
    "from sklearn.tree import DecisionTreeRegressor, DecisionTreeClassifier\n",
    "\n",
    "\n",
    "def classify_regress(*, X, y_continuous, y_discrete):\n",
    "    for regressor in (\n",
    "        LinearRegression(),\n",
    "        DecisionTreeRegressor(),\n",
    "        RandomForestRegressor(),\n",
    "    ):\n",
    "        print(\" \", regressor.__class__.__name__, \"score:\", cross_val_score(regressor, X, y_continuous, cv=5).mean())\n",
    "\n",
    "    for classifier in (\n",
    "            DecisionTreeClassifier(),\n",
    "            AdaBoostClassifier(),\n",
    "            RandomForestClassifier()\n",
    "    ):\n",
    "        for scoring in (\"balanced_accuracy\", \"f1_weighted\"):\n",
    "            print(\" \", classifier.__class__.__name__, scoring, \"without discretization:\", cross_val_score(classifier, X, y_continuous, cv=5, scoring=scoring).mean())\n",
    "            print(\" \", classifier.__class__.__name__, scoring, f\"with discretization (value counts={y_discrete.value_counts().tolist()})\", cross_val_score(classifier, X, y_discrete, cv=5, scoring=scoring).mean())\n",
    "\n",
    "\n",
    "for type_df in (red_df, white_df):\n",
    "    print(\"Red:\" if id(type_df) == id(red_df) else \"White:\")\n",
    "\n",
    "    X = type_df.drop(columns=\"quality\")\n",
    "    y_continuous = type_df[\"quality\"]\n",
    "\n",
    "    y_discrete = pd.qcut(y_continuous, 2, labels=[0, 1])\n",
    "    print(\"Initial discretization:\", y_discrete.value_counts().tolist())\n",
    "\n",
    "    print(\"Classify+regress using data as-is:\")\n",
    "    classify_regress(X=X, y_continuous=y_continuous, y_discrete=y_discrete)\n",
    "    print()\n",
    "\n",
    "    print(\"Scale X:\")\n",
    "    X_scaled = StandardScaler().fit_transform(X)\n",
    "    classify_regress(X=X_scaled, y_continuous=y_continuous, y_discrete=y_discrete)\n",
    "    print()\n",
    "\n",
    "    pca = PCA(0.9).fit(X_scaled)\n",
    "    X_pca = pca.transform(X_scaled)\n",
    "    print(f\"Classify+regress using data after PCA capturing 0.9 variance (n_components={pca.n_components_}):\")\n",
    "    classify_regress(X=X_pca, y_continuous=y_continuous, y_discrete=y_discrete)\n",
    "    print()\n",
    "\n",
    "    rfc = RandomForestRegressor().fit(X, y_continuous)\n",
    "    feature_importances = {column: feature_importance for column, feature_importance in zip(X.columns, rfc.feature_importances_)}\n",
    "    print(\"Feature importances in descending order:\")\n",
    "    sorted_feature_importances = tuple(sorted(feature_importances.items(), key=lambda item: item[1], reverse=True))\n",
    "    for feature, feature_importance in sorted_feature_importances:\n",
    "        print(feature, \"=\", feature_importance)\n",
    "    X_important = X.filter([feature_importance[0] for feature_importance in sorted_feature_importances[:5]])\n",
    "    X_important = X.filter([feature_importance[0] for feature_importance in sorted_feature_importances[:5]])\n",
    "    print(f\"Classify+regress using top 5 features ({tuple(X_important.columns)}:\")\n",
    "    classify_regress(X=X_important, y_continuous=y_continuous, y_discrete=y_discrete)\n",
    "    print()\n",
    "\n",
    "    # Under-sample to balance the classes\n",
    "    print(\"Undersampled to balance the classes:\")\n",
    "    type_df_undersampled = type_df.copy()\n",
    "    type_df_undersampled[\"quality_bin\"] = y_discrete\n",
    "    quality_bin_0_count, quality_bin_1_count = y_discrete.value_counts()\n",
    "    type_df_quality_bin_0 = type_df_undersampled[type_df_undersampled[\"quality_bin\"] == 0]\n",
    "    type_df_quality_bin_1 = type_df_undersampled[type_df_undersampled[\"quality_bin\"] == 1]\n",
    "    type_df_undersampled = pd.concat([type_df_quality_bin_0.sample(quality_bin_1_count), type_df_quality_bin_1], axis=0)\n",
    "    X_undersampled = type_df_undersampled.drop(columns=[\"quality\", \"quality_bin\"])\n",
    "    y_continuous_undersampled = type_df_undersampled[\"quality\"]\n",
    "    y_discrete_undersampled = type_df_undersampled[\"quality_bin\"]\n",
    "    classify_regress(X=X_undersampled, y_continuous=y_continuous_undersampled, y_discrete=y_discrete_undersampled)\n",
    "    print()\n"
   ],
   "metadata": {
    "collapsed": false,
    "ExecuteTime": {
     "start_time": "2023-04-11T11:06:57.195605Z",
     "end_time": "2023-04-11T11:10:41.030076Z"
    }
   }
  },
  {
   "cell_type": "code",
   "execution_count": 14,
   "outputs": [],
   "source": [],
   "metadata": {
    "collapsed": false,
    "ExecuteTime": {
     "start_time": "2023-04-11T11:10:41.030406Z",
     "end_time": "2023-04-11T11:10:41.033234Z"
    }
   }
  }
 ],
 "metadata": {
  "kernelspec": {
   "display_name": "Python 3",
   "language": "python",
   "name": "python3"
  },
  "language_info": {
   "codemirror_mode": {
    "name": "ipython",
    "version": 2
   },
   "file_extension": ".py",
   "mimetype": "text/x-python",
   "name": "python",
   "nbconvert_exporter": "python",
   "pygments_lexer": "ipython2",
   "version": "2.7.6"
  }
 },
 "nbformat": 4,
 "nbformat_minor": 0
}
