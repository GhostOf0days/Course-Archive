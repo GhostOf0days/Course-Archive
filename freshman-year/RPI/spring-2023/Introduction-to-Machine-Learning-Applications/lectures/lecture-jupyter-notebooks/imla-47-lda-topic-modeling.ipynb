{
 "cells": [
  {
   "cell_type": "code",
   "execution_count": 14,
   "metadata": {
    "collapsed": true
   },
   "outputs": [
    {
     "name": "stderr",
     "output_type": "stream",
     "text": [
      "[nltk_data] Error loading punkt: <urlopen error [Errno 8] nodename nor\n",
      "[nltk_data]     servname provided, or not known>\n",
      "[nltk_data] Error loading stopwords: <urlopen error [Errno 8] nodename\n",
      "[nltk_data]     nor servname provided, or not known>\n"
     ]
    },
    {
     "data": {
      "text/plain": "False"
     },
     "execution_count": 14,
     "metadata": {},
     "output_type": "execute_result"
    }
   ],
   "source": [
    "import gensim\n",
    "from gensim import corpora\n",
    "from gensim.models import CoherenceModel\n",
    "\n",
    "import nltk.corpus\n",
    "from nltk.tokenize import sent_tokenize\n",
    "\n",
    "nltk.download(\"punkt\")\n",
    "nltk.download('stopwords')"
   ]
  },
  {
   "cell_type": "code",
   "execution_count": 15,
   "outputs": [],
   "source": [
    "REVIEWS = '''\\\n",
    "After a morning of Thrift Store hunting, a friend and I were thinking of lunch, and he suggested Emil's after he'd seen Chris Sebak do a bit on it and had tried it a time or two before, and I had not. He said they had a decent Reuben, but to be prepared to step back in time.\n",
    "\n",
    "Well, seeing as how I'm kind of addicted to late 40's and early 50's, and the whole Rat Pack scene, stepping back in time is a welcomed change in da burgh...as long as it doesn't involve 1979, which I can see all around me every day.\n",
    "\n",
    "And yet another shot at finding a decent Reuben in da burgh...well, that's like hunting the Holy Grail. So looking under one more bush certainly wouldn't hurt.\n",
    "\n",
    "So off we go right at lunchtime in the middle of...where exactly were we? At first I thought we were lost, driving around a handful of very rather dismal looking blocks in what looked like a neighborhood that had been blighted by the building of a highway. And then...AHA! Here it is! And yep, there it was. This little unassuming building with an add-on entrance with what looked like a very old hand painted sign stating quite simply 'Emil's.\n",
    "\n",
    "We walked in the front door, and entered another world. Another time, and another place. Oh, and any Big Burrito/Sousa foodies might as well stop reading now. I wouldn't want to see you walk in, roll your eyes and say 'Reaaaaaalllly?'\n",
    "\n",
    "This is about as old world bar/lounge/restaurant as it gets. Plain, with a dark wood bar on one side, plain white walls with no yinzer pics, good sturdy chairs and actual white linens on the tables. This is the kind of neighborhood dive that I could see Frank and Dino pulling a few tables together for some poker, a fish sammich, and some cheap scotch. And THAT is exactly what I love.\n",
    "\n",
    "Oh...but good food counts too.\n",
    "\n",
    "We each had a Reuben, and my friend had a side of fries. The Reubens were decent, but not NY awesome. A little too thick on the bread, but overall, tasty and definitely filling. Not too skimpy on the meat. I seriously CRAVE a true, good NY Reuben, but since I can't afford to travel right now, what I find in da burgh will have to do. But as we sat and ate, burgers came out to an adjoining table. Those were some big thick burgers. A steak went past for the table behind us. That was HUGE! And when we asked about it, the waitress said 'Yeah, it's huge and really good, and he only charges $12.99 for it, ain't that nuts?' Another table of five came in, and wham. Fish sandwiches PILED with breaded fish that looked amazing. Yeah, I want that, that, that and THAT!\n",
    "\n",
    "My friend also mentioned that they have a Chicken Parm special one day of the week that is only served UNTIL 4 pm, and that it is fantastic. If only I could GET there on that week day before 4...\n",
    "\n",
    "The waitress did a good job, especially since there was quite a growing crowd at lunchtime on a Saturday, and only one of her. She kept up and was very friendly.\n",
    "\n",
    "They only have Pepsi products, so I had a brewed iced tea, which was very fresh, and she did pop by to ask about refills as often as she could. As the lunch hour went on, they were getting busy.\n",
    "\n",
    "Emil's is no frills, good portions, very reasonable prices, VERY comfortable neighborhood hole in the wall...kind of like Cheers, but in a blue collar neighborhood in the 1950's. Fan-freakin-tastic! I could feel at home here.\n",
    "\n",
    "You definitely want to hit Mapquest or plug in your GPS though. I am not sure that I could find it again on my own...it really is a hidden gem. I will be making my friend take me back until I can memorize where the heck it is.\n",
    "\n",
    "Addendum: 2nd visit for the fish sandwich. Excellent. Truly. A pound of fish on a fish-shaped bun (as opposed to da burgh's seemingly popular hamburger bun). The fish was flavorful, the batter excellent, and for just $8. This may have been the best fish sandwich I've yet to have in da burgh.\n",
    "'''"
   ],
   "metadata": {
    "collapsed": false
   }
  },
  {
   "cell_type": "code",
   "execution_count": 16,
   "outputs": [
    {
     "data": {
      "text/plain": "[\"After a morning of Thrift Store hunting, a friend and I were thinking of lunch, and he suggested Emil's after he'd seen Chris Sebak do a bit on it and had tried it a time or two before, and I had not.\",\n 'He said they had a decent Reuben, but to be prepared to step back in time.',\n \"Well, seeing as how I'm kind of addicted to late 40's and early 50's, and the whole Rat Pack scene, stepping back in time is a welcomed change in da burgh...as long as it doesn't involve 1979, which I can see all around me every day.\",\n \"And yet another shot at finding a decent Reuben in da burgh...well, that's like hunting the Holy Grail.\",\n \"So looking under one more bush certainly wouldn't hurt.\",\n 'So off we go right at lunchtime in the middle of...where exactly were we?',\n 'At first I thought we were lost, driving around a handful of very rather dismal looking blocks in what looked like a neighborhood that had been blighted by the building of a highway.',\n 'And then...AHA!',\n 'Here it is!',\n 'And yep, there it was.',\n \"This little unassuming building with an add-on entrance with what looked like a very old hand painted sign stating quite simply 'Emil's.\",\n 'We walked in the front door, and entered another world.',\n 'Another time, and another place.',\n 'Oh, and any Big Burrito/Sousa foodies might as well stop reading now.',\n \"I wouldn't want to see you walk in, roll your eyes and say 'Reaaaaaalllly?'\",\n 'This is about as old world bar/lounge/restaurant as it gets.',\n 'Plain, with a dark wood bar on one side, plain white walls with no yinzer pics, good sturdy chairs and actual white linens on the tables.',\n 'This is the kind of neighborhood dive that I could see Frank and Dino pulling a few tables together for some poker, a fish sammich, and some cheap scotch.',\n 'And THAT is exactly what I love.',\n 'Oh...but good food counts too.',\n 'We each had a Reuben, and my friend had a side of fries.',\n 'The Reubens were decent, but not NY awesome.',\n 'A little too thick on the bread, but overall, tasty and definitely filling.',\n 'Not too skimpy on the meat.',\n \"I seriously CRAVE a true, good NY Reuben, but since I can't afford to travel right now, what I find in da burgh will have to do.\",\n 'But as we sat and ate, burgers came out to an adjoining table.',\n 'Those were some big thick burgers.',\n 'A steak went past for the table behind us.',\n 'That was HUGE!',\n \"And when we asked about it, the waitress said 'Yeah, it's huge and really good, and he only charges $12.99 for it, ain't that nuts?'\",\n 'Another table of five came in, and wham.',\n 'Fish sandwiches PILED with breaded fish that looked amazing.',\n 'Yeah, I want that, that, that and THAT!',\n 'My friend also mentioned that they have a Chicken Parm special one day of the week that is only served UNTIL 4 pm, and that it is fantastic.',\n 'If only I could GET there on that week day before 4...',\n 'The waitress did a good job, especially since there was quite a growing crowd at lunchtime on a Saturday, and only one of her.',\n 'She kept up and was very friendly.',\n 'They only have Pepsi products, so I had a brewed iced tea, which was very fresh, and she did pop by to ask about refills as often as she could.',\n 'As the lunch hour went on, they were getting busy.',\n \"Emil's is no frills, good portions, very reasonable prices, VERY comfortable neighborhood hole in the wall...kind of like Cheers, but in a blue collar neighborhood in the 1950's.\",\n 'Fan-freakin-tastic!',\n 'I could feel at home here.',\n 'You definitely want to hit Mapquest or plug in your GPS though.',\n 'I am not sure that I could find it again on my own...it really is a hidden gem.',\n 'I will be making my friend take me back until I can memorize where the heck it is.',\n 'Addendum: 2nd visit for the fish sandwich.',\n 'Excellent.',\n 'Truly.',\n \"A pound of fish on a fish-shaped bun (as opposed to da burgh's seemingly popular hamburger bun).\",\n 'The fish was flavorful, the batter excellent, and for just $8.',\n \"This may have been the best fish sandwich I've yet to have in da burgh.\"]"
     },
     "execution_count": 16,
     "metadata": {},
     "output_type": "execute_result"
    }
   ],
   "source": [
    "sentences = sent_tokenize(REVIEWS)\n",
    "sentences"
   ],
   "metadata": {
    "collapsed": false
   }
  },
  {
   "cell_type": "code",
   "execution_count": 17,
   "outputs": [
    {
     "data": {
      "text/plain": "[['morning',\n  'thrift',\n  'store',\n  'hunting',\n  'friend',\n  'thinking',\n  'lunch',\n  'suggested',\n  'emil',\n  'seen',\n  'chris',\n  'sebak',\n  'bit',\n  'tried',\n  'time',\n  'two'],\n ['said', 'decent', 'reuben', 'prepared', 'step', 'back', 'time'],\n ['well',\n  'seeing',\n  'kind',\n  'addicted',\n  'late',\n  'early',\n  'whole',\n  'rat',\n  'pack',\n  'scene',\n  'stepping',\n  'back',\n  'time',\n  'welcomed',\n  'change',\n  'da',\n  'burgh',\n  'long',\n  'involve',\n  'see',\n  'around',\n  'every',\n  'day'],\n ['yet',\n  'another',\n  'shot',\n  'finding',\n  'decent',\n  'reuben',\n  'da',\n  'burgh',\n  'well',\n  'like',\n  'hunting',\n  'holy',\n  'grail'],\n ['looking', 'one', 'bush', 'certainly', 'hurt'],\n ['go', 'right', 'lunchtime', 'middle', 'exactly'],\n ['first',\n  'thought',\n  'lost',\n  'driving',\n  'around',\n  'handful',\n  'rather',\n  'dismal',\n  'looking',\n  'blocks',\n  'looked',\n  'like',\n  'neighborhood',\n  'blighted',\n  'building',\n  'highway'],\n ['aha'],\n [],\n ['yep'],\n ['little',\n  'unassuming',\n  'building',\n  'add',\n  'entrance',\n  'looked',\n  'like',\n  'old',\n  'hand',\n  'painted',\n  'sign',\n  'stating',\n  'quite',\n  'simply',\n  'emil'],\n ['walked', 'front', 'door', 'entered', 'another', 'world'],\n ['another', 'time', 'another', 'place'],\n ['oh',\n  'big',\n  'burrito',\n  'sousa',\n  'foodies',\n  'might',\n  'well',\n  'stop',\n  'reading'],\n ['want', 'see', 'walk', 'roll', 'eyes', 'say', 'reaaaaaalllly'],\n ['old', 'world', 'bar', 'lounge', 'restaurant', 'gets'],\n ['plain',\n  'dark',\n  'wood',\n  'bar',\n  'one',\n  'side',\n  'plain',\n  'white',\n  'walls',\n  'yinzer',\n  'pics',\n  'good',\n  'sturdy',\n  'chairs',\n  'actual',\n  'white',\n  'linens',\n  'tables'],\n ['kind',\n  'neighborhood',\n  'dive',\n  'could',\n  'see',\n  'frank',\n  'dino',\n  'pulling',\n  'tables',\n  'together',\n  'poker',\n  'fish',\n  'sammich',\n  'cheap',\n  'scotch'],\n ['exactly', 'love'],\n ['oh', 'good', 'food', 'counts'],\n ['reuben', 'friend', 'side', 'fries'],\n ['reubens', 'decent', 'ny', 'awesome'],\n ['little', 'thick', 'bread', 'overall', 'tasty', 'definitely', 'filling'],\n ['skimpy', 'meat'],\n ['seriously',\n  'crave',\n  'true',\n  'good',\n  'ny',\n  'reuben',\n  'since',\n  'afford',\n  'travel',\n  'right',\n  'find',\n  'da',\n  'burgh'],\n ['sat', 'ate', 'burgers', 'came', 'adjoining', 'table'],\n ['big', 'thick', 'burgers'],\n ['steak', 'went', 'past', 'table', 'behind', 'us'],\n ['huge'],\n ['asked',\n  'waitress',\n  'said',\n  'yeah',\n  'huge',\n  'really',\n  'good',\n  'charges',\n  'nuts'],\n ['another', 'table', 'five', 'came', 'wham'],\n ['fish', 'sandwiches', 'piled', 'breaded', 'fish', 'looked', 'amazing'],\n ['yeah', 'want'],\n ['friend',\n  'also',\n  'mentioned',\n  'chicken',\n  'parm',\n  'special',\n  'one',\n  'day',\n  'week',\n  'served',\n  'pm',\n  'fantastic'],\n ['could', 'get', 'week', 'day'],\n ['waitress',\n  'good',\n  'job',\n  'especially',\n  'since',\n  'quite',\n  'growing',\n  'crowd',\n  'lunchtime',\n  'saturday',\n  'one'],\n ['kept', 'friendly'],\n ['pepsi',\n  'products',\n  'brewed',\n  'iced',\n  'tea',\n  'fresh',\n  'pop',\n  'ask',\n  'refills',\n  'often',\n  'could'],\n ['lunch', 'hour', 'went', 'getting', 'busy'],\n ['emil',\n  'frills',\n  'good',\n  'portions',\n  'reasonable',\n  'prices',\n  'comfortable',\n  'neighborhood',\n  'hole',\n  'wall',\n  'kind',\n  'like',\n  'cheers',\n  'blue',\n  'collar',\n  'neighborhood'],\n ['fan', 'freakin', 'tastic'],\n ['could', 'feel', 'home'],\n ['definitely', 'want', 'hit', 'mapquest', 'plug', 'gps', 'though'],\n ['sure', 'could', 'find', 'really', 'hidden', 'gem'],\n ['making', 'friend', 'take', 'back', 'memorize', 'heck'],\n ['addendum', 'nd', 'visit', 'fish', 'sandwich'],\n ['excellent'],\n ['truly'],\n ['pound',\n  'fish',\n  'fish',\n  'shaped',\n  'bun',\n  'opposed',\n  'da',\n  'burgh',\n  'seemingly',\n  'popular',\n  'hamburger',\n  'bun'],\n ['fish', 'flavorful', 'batter', 'excellent'],\n ['may', 'best', 'fish', 'sandwich', 'yet', 'da', 'burgh']]"
     },
     "execution_count": 17,
     "metadata": {},
     "output_type": "execute_result"
    }
   ],
   "source": [
    "stopwords = set(nltk.corpus.stopwords.words('english'))\n",
    "\n",
    "sentences_words = []\n",
    "for sentence in sentences:\n",
    "    sentences_words.append(list(\n",
    "        word for word in gensim.utils.simple_preprocess(str(sentence), deacc=True)  # deacc=True removes punctuations\n",
    "        if word not in stopwords\n",
    "    ))\n",
    "sentences_words"
   ],
   "metadata": {
    "collapsed": false
   }
  },
  {
   "cell_type": "code",
   "execution_count": 18,
   "outputs": [
    {
     "data": {
      "text/plain": "[[(0, 1),\n  (1, 1),\n  (2, 1),\n  (3, 1),\n  (4, 1),\n  (5, 1),\n  (6, 1),\n  (7, 1),\n  (8, 1),\n  (9, 1),\n  (10, 1),\n  (11, 1),\n  (12, 1),\n  (13, 1),\n  (14, 1),\n  (15, 1)],\n [(13, 1), (16, 1), (17, 1), (18, 1), (19, 1), (20, 1), (21, 1)],\n [(13, 1),\n  (16, 1),\n  (22, 1),\n  (23, 1),\n  (24, 1),\n  (25, 1),\n  (26, 1),\n  (27, 1),\n  (28, 1),\n  (29, 1),\n  (30, 1),\n  (31, 1),\n  (32, 1),\n  (33, 1),\n  (34, 1),\n  (35, 1),\n  (36, 1),\n  (37, 1),\n  (38, 1),\n  (39, 1),\n  (40, 1),\n  (41, 1),\n  (42, 1)],\n [(4, 1),\n  (17, 1),\n  (19, 1),\n  (24, 1),\n  (26, 1),\n  (41, 1),\n  (43, 1),\n  (44, 1),\n  (45, 1),\n  (46, 1),\n  (47, 1),\n  (48, 1),\n  (49, 1)],\n [(50, 1), (51, 1), (52, 1), (53, 1), (54, 1)],\n [(55, 1), (56, 1), (57, 1), (58, 1), (59, 1)],\n [(23, 1),\n  (47, 1),\n  (53, 1),\n  (60, 1),\n  (61, 1),\n  (62, 1),\n  (63, 1),\n  (64, 1),\n  (65, 1),\n  (66, 1),\n  (67, 1),\n  (68, 1),\n  (69, 1),\n  (70, 1),\n  (71, 1),\n  (72, 1)],\n [(73, 1)],\n [],\n [(74, 1)],\n [(2, 1),\n  (47, 1),\n  (62, 1),\n  (68, 1),\n  (75, 1),\n  (76, 1),\n  (77, 1),\n  (78, 1),\n  (79, 1),\n  (80, 1),\n  (81, 1),\n  (82, 1),\n  (83, 1),\n  (84, 1),\n  (85, 1)],\n [(43, 1), (86, 1), (87, 1), (88, 1), (89, 1), (90, 1)],\n [(13, 1), (43, 2), (91, 1)],\n [(41, 1),\n  (92, 1),\n  (93, 1),\n  (94, 1),\n  (95, 1),\n  (96, 1),\n  (97, 1),\n  (98, 1),\n  (99, 1)],\n [(37, 1), (100, 1), (101, 1), (102, 1), (103, 1), (104, 1), (105, 1)],\n [(79, 1), (90, 1), (106, 1), (107, 1), (108, 1), (109, 1)],\n [(54, 1),\n  (106, 1),\n  (110, 1),\n  (111, 1),\n  (112, 1),\n  (113, 1),\n  (114, 1),\n  (115, 1),\n  (116, 2),\n  (117, 1),\n  (118, 1),\n  (119, 1),\n  (120, 1),\n  (121, 2),\n  (122, 1),\n  (123, 1)],\n [(31, 1),\n  (37, 1),\n  (70, 1),\n  (119, 1),\n  (124, 1),\n  (125, 1),\n  (126, 1),\n  (127, 1),\n  (128, 1),\n  (129, 1),\n  (130, 1),\n  (131, 1),\n  (132, 1),\n  (133, 1),\n  (134, 1)],\n [(55, 1), (135, 1)],\n [(96, 1), (113, 1), (136, 1), (137, 1)],\n [(3, 1), (19, 1), (117, 1), (138, 1)],\n [(17, 1), (139, 1), (140, 1), (141, 1)],\n [(78, 1), (142, 1), (143, 1), (144, 1), (145, 1), (146, 1), (147, 1)],\n [(148, 1), (149, 1)],\n [(19, 1),\n  (24, 1),\n  (26, 1),\n  (59, 1),\n  (113, 1),\n  (140, 1),\n  (150, 1),\n  (151, 1),\n  (152, 1),\n  (153, 1),\n  (154, 1),\n  (155, 1),\n  (156, 1)],\n [(157, 1), (158, 1), (159, 1), (160, 1), (161, 1), (162, 1)],\n [(92, 1), (147, 1), (159, 1)],\n [(162, 1), (163, 1), (164, 1), (165, 1), (166, 1), (167, 1)],\n [(168, 1)],\n [(20, 1),\n  (113, 1),\n  (168, 1),\n  (169, 1),\n  (170, 1),\n  (171, 1),\n  (172, 1),\n  (173, 1),\n  (174, 1)],\n [(43, 1), (160, 1), (162, 1), (175, 1), (176, 1)],\n [(68, 1), (128, 2), (177, 1), (178, 1), (179, 1), (180, 1)],\n [(105, 1), (174, 1)],\n [(3, 1),\n  (27, 1),\n  (54, 1),\n  (181, 1),\n  (182, 1),\n  (183, 1),\n  (184, 1),\n  (185, 1),\n  (186, 1),\n  (187, 1),\n  (188, 1),\n  (189, 1)],\n [(27, 1), (125, 1), (189, 1), (190, 1)],\n [(54, 1),\n  (57, 1),\n  (81, 1),\n  (113, 1),\n  (154, 1),\n  (173, 1),\n  (191, 1),\n  (192, 1),\n  (193, 1),\n  (194, 1),\n  (195, 1)],\n [(196, 1), (197, 1)],\n [(125, 1),\n  (198, 1),\n  (199, 1),\n  (200, 1),\n  (201, 1),\n  (202, 1),\n  (203, 1),\n  (204, 1),\n  (205, 1),\n  (206, 1),\n  (207, 1)],\n [(5, 1), (167, 1), (208, 1), (209, 1), (210, 1)],\n [(2, 1),\n  (31, 1),\n  (47, 1),\n  (70, 2),\n  (113, 1),\n  (211, 1),\n  (212, 1),\n  (213, 1),\n  (214, 1),\n  (215, 1),\n  (216, 1),\n  (217, 1),\n  (218, 1),\n  (219, 1),\n  (220, 1)],\n [(221, 1), (222, 1), (223, 1)],\n [(125, 1), (224, 1), (225, 1)],\n [(105, 1), (143, 1), (226, 1), (227, 1), (228, 1), (229, 1), (230, 1)],\n [(125, 1), (152, 1), (172, 1), (231, 1), (232, 1), (233, 1)],\n [(3, 1), (16, 1), (234, 1), (235, 1), (236, 1), (237, 1)],\n [(128, 1), (238, 1), (239, 1), (240, 1), (241, 1)],\n [(242, 1)],\n [(243, 1)],\n [(24, 1),\n  (26, 1),\n  (128, 2),\n  (244, 2),\n  (245, 1),\n  (246, 1),\n  (247, 1),\n  (248, 1),\n  (249, 1),\n  (250, 1)],\n [(128, 1), (242, 1), (251, 1), (252, 1)],\n [(24, 1), (26, 1), (49, 1), (128, 1), (240, 1), (253, 1), (254, 1)]]"
     },
     "execution_count": 18,
     "metadata": {},
     "output_type": "execute_result"
    }
   ],
   "source": [
    "dictionary = corpora.Dictionary(sentences_words)\n",
    "corpus = [dictionary.doc2bow(sentence_words) for sentence_words in sentences_words]\n",
    "corpus"
   ],
   "metadata": {
    "collapsed": false
   }
  },
  {
   "cell_type": "code",
   "execution_count": 19,
   "outputs": [
    {
     "name": "stdout",
     "output_type": "stream",
     "text": [
      "(0, '0.018*\"fish\" + 0.018*\"want\" + 0.018*\"da\" + 0.018*\"burgh\" + 0.013*\"time\" + 0.013*\"back\"')\n",
      "(1, '0.022*\"another\" + 0.019*\"fish\" + 0.019*\"good\" + 0.018*\"like\" + 0.014*\"neighborhood\" + 0.014*\"looked\"')\n",
      "(2, '0.026*\"could\" + 0.022*\"one\" + 0.012*\"good\" + 0.012*\"reuben\" + 0.012*\"white\" + 0.012*\"tables\"')\n"
     ]
    }
   ],
   "source": [
    "NUM_TOPICS = 3\n",
    "lda_model = gensim.models.ldamodel.LdaModel(corpus, num_topics = NUM_TOPICS, id2word=dictionary, passes=15)\n",
    "topics = lda_model.print_topics(num_words=6)\n",
    "for topic in topics:\n",
    "    print(topic)"
   ],
   "metadata": {
    "collapsed": false
   }
  }
 ],
 "metadata": {
  "kernelspec": {
   "display_name": "Python 3",
   "language": "python",
   "name": "python3"
  },
  "language_info": {
   "codemirror_mode": {
    "name": "ipython",
    "version": 2
   },
   "file_extension": ".py",
   "mimetype": "text/x-python",
   "name": "python",
   "nbconvert_exporter": "python",
   "pygments_lexer": "ipython2",
   "version": "2.7.6"
  }
 },
 "nbformat": 4,
 "nbformat_minor": 0
}
