{
 "cells": [
  {
   "cell_type": "code",
   "execution_count": 4,
   "metadata": {
    "collapsed": true
   },
   "outputs": [
    {
     "name": "stdout",
     "output_type": "stream",
     "text": [
      "Requirement already satisfied: vaderSentiment in /Users/minor/opt/anaconda3/lib/python3.9/site-packages (3.3.2)\r\n",
      "Requirement already satisfied: requests in /Users/minor/opt/anaconda3/lib/python3.9/site-packages (from vaderSentiment) (2.28.1)\r\n",
      "Requirement already satisfied: idna<4,>=2.5 in /Users/minor/opt/anaconda3/lib/python3.9/site-packages (from requests->vaderSentiment) (3.3)\r\n",
      "Requirement already satisfied: charset-normalizer<3,>=2 in /Users/minor/opt/anaconda3/lib/python3.9/site-packages (from requests->vaderSentiment) (2.0.4)\r\n",
      "Requirement already satisfied: certifi>=2017.4.17 in /Users/minor/opt/anaconda3/lib/python3.9/site-packages (from requests->vaderSentiment) (2022.9.24)\r\n",
      "Requirement already satisfied: urllib3<1.27,>=1.21.1 in /Users/minor/opt/anaconda3/lib/python3.9/site-packages (from requests->vaderSentiment) (1.26.11)\r\n"
     ]
    }
   ],
   "source": [
    "!pip install vaderSentiment"
   ]
  },
  {
   "cell_type": "code",
   "execution_count": 5,
   "outputs": [
    {
     "data": {
      "text/plain": "                                                text    neg    neu    pos  \\\n0  I love the beautiful weather today. It is abso...  0.000  0.374  0.626   \n1                         Unbelievably disappointing  0.777  0.223  0.000   \n2  Full of zany characters and richly applied sat...  0.000  0.611  0.389   \n3  This is the greatest screwball comedy ever filmed  0.093  0.388  0.519   \n4  This is the greatest screwball comedy ever filmed  0.093  0.388  0.519   \n5  It was pathetic. The worst part about it was t...  0.438  0.562  0.000   \n\n   compound     label  \n0    0.9134  Positive  \n1   -0.5413  Negative  \n2    0.7906  Positive  \n3    0.7579  Positive  \n4    0.7579  Positive  \n5   -0.8316  Negative  ",
      "text/html": "<div>\n<style scoped>\n    .dataframe tbody tr th:only-of-type {\n        vertical-align: middle;\n    }\n\n    .dataframe tbody tr th {\n        vertical-align: top;\n    }\n\n    .dataframe thead th {\n        text-align: right;\n    }\n</style>\n<table border=\"1\" class=\"dataframe\">\n  <thead>\n    <tr style=\"text-align: right;\">\n      <th></th>\n      <th>text</th>\n      <th>neg</th>\n      <th>neu</th>\n      <th>pos</th>\n      <th>compound</th>\n      <th>label</th>\n    </tr>\n  </thead>\n  <tbody>\n    <tr>\n      <th>0</th>\n      <td>I love the beautiful weather today. It is abso...</td>\n      <td>0.000</td>\n      <td>0.374</td>\n      <td>0.626</td>\n      <td>0.9134</td>\n      <td>Positive</td>\n    </tr>\n    <tr>\n      <th>1</th>\n      <td>Unbelievably disappointing</td>\n      <td>0.777</td>\n      <td>0.223</td>\n      <td>0.000</td>\n      <td>-0.5413</td>\n      <td>Negative</td>\n    </tr>\n    <tr>\n      <th>2</th>\n      <td>Full of zany characters and richly applied sat...</td>\n      <td>0.000</td>\n      <td>0.611</td>\n      <td>0.389</td>\n      <td>0.7906</td>\n      <td>Positive</td>\n    </tr>\n    <tr>\n      <th>3</th>\n      <td>This is the greatest screwball comedy ever filmed</td>\n      <td>0.093</td>\n      <td>0.388</td>\n      <td>0.519</td>\n      <td>0.7579</td>\n      <td>Positive</td>\n    </tr>\n    <tr>\n      <th>4</th>\n      <td>This is the greatest screwball comedy ever filmed</td>\n      <td>0.093</td>\n      <td>0.388</td>\n      <td>0.519</td>\n      <td>0.7579</td>\n      <td>Positive</td>\n    </tr>\n    <tr>\n      <th>5</th>\n      <td>It was pathetic. The worst part about it was t...</td>\n      <td>0.438</td>\n      <td>0.562</td>\n      <td>0.000</td>\n      <td>-0.8316</td>\n      <td>Negative</td>\n    </tr>\n  </tbody>\n</table>\n</div>"
     },
     "execution_count": 5,
     "metadata": {},
     "output_type": "execute_result"
    }
   ],
   "source": [
    "import pandas as pd\n",
    "from vaderSentiment.vaderSentiment import SentimentIntensityAnalyzer\n",
    "\n",
    "\n",
    "texts = [\n",
    "    \"I love the beautiful weather today. It is absolutely pleasant.\",\n",
    "    \"Unbelievably disappointing\",\n",
    "    \"Full of zany characters and richly applied satire, and some great plot twists\",\n",
    "    \"This is the greatest screwball comedy ever filmed\",\n",
    "    \"This is the greatest screwball comedy ever filmed\",\n",
    "    \"It was pathetic. The worst part about it was the boxing scenes.\",\n",
    "]\n",
    "\n",
    "\n",
    "sentiment_intensity_analyzer = SentimentIntensityAnalyzer()\n",
    "\n",
    "\n",
    "sentiments = {}\n",
    "for text in texts:\n",
    "    sentiments.setdefault(\"text\", []).append(text)\n",
    "    polarity_scores = sentiment_intensity_analyzer.polarity_scores(text)\n",
    "    for key, value in polarity_scores.items():\n",
    "        sentiments.setdefault(key, []).append(value)\n",
    "    if polarity_scores[\"compound\"] >= 0.5:\n",
    "        label = \"Positive\"\n",
    "    elif polarity_scores[\"compound\"] <= -0.5:\n",
    "        label = \"Negative\"\n",
    "    else:\n",
    "        label = \"Neutral\"\n",
    "    sentiments.setdefault(\"label\", []).append(label)\n",
    "\n",
    "\n",
    "pd.DataFrame(sentiments)"
   ],
   "metadata": {
    "collapsed": false
   }
  }
 ],
 "metadata": {
  "kernelspec": {
   "display_name": "Python 3",
   "language": "python",
   "name": "python3"
  },
  "language_info": {
   "codemirror_mode": {
    "name": "ipython",
    "version": 2
   },
   "file_extension": ".py",
   "mimetype": "text/x-python",
   "name": "python",
   "nbconvert_exporter": "python",
   "pygments_lexer": "ipython2",
   "version": "2.7.6"
  }
 },
 "nbformat": 4,
 "nbformat_minor": 0
}
