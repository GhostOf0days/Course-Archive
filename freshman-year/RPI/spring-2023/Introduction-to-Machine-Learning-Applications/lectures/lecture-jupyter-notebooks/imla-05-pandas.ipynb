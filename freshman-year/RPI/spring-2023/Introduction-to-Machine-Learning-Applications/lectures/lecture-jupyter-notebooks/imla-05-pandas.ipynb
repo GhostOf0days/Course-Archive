{
 "cells": [
  {
   "cell_type": "markdown",
   "metadata": {
    "colab_type": "text",
    "id": "HHvqvbiUBFcW",
    "slideshow": {
     "slide_type": "slide"
    }
   },
   "source": [
    "[![AnalyticsDojo](https://github.com/rpi-techfundamentals/spring2019-materials/blob/master/fig/final-logo.png?raw=1)](http://rpi.analyticsdojo.com)\n",
    "<center><h1>Introduction to Python - Introduction to Pandas</h1></center>\n",
    "<center><h3><a href = 'http://rpi.analyticsdojo.com'>rpi.analyticsdojo.com</a></h3></center>\n",
    "\n"
   ]
  },
  {
   "cell_type": "markdown",
   "metadata": {
    "colab_type": "text",
    "id": "Wjg1PgSoBFcb",
    "slideshow": {
     "slide_type": "subslide"
    }
   },
   "source": [
    "# Introduction to Pandas\n",
    "- Pandas Overview\n",
    "- Series Objects\n",
    "- DataFrame Objects\n",
    "- Slicing and Filtering\n",
    "- Examples: Financial Data\n",
    "- Examples: Iris\n"
   ]
  },
  {
   "cell_type": "markdown",
   "metadata": {
    "colab_type": "text",
    "id": "H3TiWxENBFcc",
    "slideshow": {
     "slide_type": "subslide"
    }
   },
   "source": [
    "## Importing Pandas\n",
    "\n",
    "- The pandas module is usually imported `as pd`."
   ]
  },
  {
   "cell_type": "code",
   "execution_count": 1,
   "metadata": {
    "colab": {},
    "colab_type": "code",
    "id": "MiuYwjIEBFcd"
   },
   "outputs": [],
   "source": [
    "import pandas as pd"
   ]
  },
  {
   "cell_type": "markdown",
   "metadata": {
    "colab_type": "text",
    "id": "FNACR7n_BFcg",
    "slideshow": {
     "slide_type": "subslide"
    }
   },
   "source": [
    "## Pandas (like the rest of Python) is object-oriented\n",
    "\n",
    "- Pandas is object-oriented.\n",
    "\n",
    "- We create data frames by constructing instances of different classes.\n",
    "\n",
    "- The two most important classes are:\n",
    "\n",
    "    - `Series`\n",
    "    - `DataFrame`\n"
   ]
  },
  {
   "cell_type": "markdown",
   "metadata": {
    "colab_type": "text",
    "id": "nzM85sVHBFci",
    "slideshow": {
     "slide_type": "subslide"
    }
   },
   "source": [
    "## Pandas Series\n",
    "- One-dimensional array \n",
    "- Series can be array-like, with a standard integer index starting at 0\n",
    "- Series can be dictionary-like like, with a defined index"
   ]
  },
  {
   "cell_type": "code",
   "execution_count": 45,
   "metadata": {
    "colab": {},
    "colab_type": "code",
    "id": "K3M6AIo9BFcj"
   },
   "outputs": [
    {
     "name": "stdout",
     "output_type": "stream",
     "text": [
      "0    1\n",
      "1    2\n",
      "2    3\n",
      "3    4\n",
      "4    5\n",
      "dtype: int64 \n",
      "\n",
      " a    1\n",
      "b    2\n",
      "c    3\n",
      "d    4\n",
      "e    5\n",
      "dtype: int64\n"
     ]
    }
   ],
   "source": [
    "data = [1,2,3,4,5] #This creates a list\n",
    "my_series = pd.Series(data) # array-like pandas series, index created automatically\n",
    "my_series2 = pd.Series(data, index=['a', 'b', 'c', 'd', 'e'])  # dict-like, index specified\n",
    "print(my_series, '\\n\\n', my_series2)"
   ]
  },
  {
   "cell_type": "code",
   "execution_count": 3,
   "metadata": {
    "colab": {},
    "colab_type": "code",
    "id": "nh6lfrAABFcs"
   },
   "outputs": [
    {
     "data": {
      "text/plain": "1"
     },
     "execution_count": 3,
     "metadata": {},
     "output_type": "execute_result"
    }
   ],
   "source": [
    "my_series2['a']"
   ]
  },
  {
   "cell_type": "markdown",
   "metadata": {
    "colab_type": "text",
    "id": "RlE5uhIuBFcw",
    "slideshow": {
     "slide_type": "subslide"
    }
   },
   "source": [
    "## Plotting a Series\n",
    "\n",
    "- We can plot a series by invoking the `plot()` method on an instance of a `Series` object.\n",
    "\n",
    "- The x-axis will automatically be labelled with the series index.\n",
    "\n",
    "- This is the first time we are invoking a `magic` command. Read more about them [here](http://ipython.readthedocs.io/en/stable/interactive/magics.html). "
   ]
  },
  {
   "cell_type": "code",
   "execution_count": 46,
   "metadata": {
    "colab": {},
    "colab_type": "code",
    "id": "apwO8wwWBFcy",
    "slideshow": {
     "slide_type": "-"
    }
   },
   "outputs": [
    {
     "data": {
      "text/plain": "<AxesSubplot:>"
     },
     "execution_count": 46,
     "metadata": {},
     "output_type": "execute_result"
    },
    {
     "data": {
      "text/plain": "<Figure size 640x480 with 1 Axes>",
      "image/png": "[encoded data removed]"
     },
     "metadata": {},
     "output_type": "display_data"
    }
   ],
   "source": [
    "%matplotlib inline\n",
    "my_series2.plot()"
   ]
  },
  {
   "cell_type": "markdown",
   "metadata": {
    "colab_type": "text",
    "id": "k1BcddtrBFc2",
    "slideshow": {
     "slide_type": "subslide"
    }
   },
   "source": [
    "## Creating a Series from a `dict`\n",
    "\n"
   ]
  },
  {
   "cell_type": "code",
   "execution_count": 48,
   "metadata": {
    "colab": {},
    "colab_type": "code",
    "id": "xqWkRWqbBFc3"
   },
   "outputs": [
    {
     "data": {
      "text/plain": "a    0.0\nb    1.0\nc    2.0\ndtype: float64"
     },
     "execution_count": 48,
     "metadata": {},
     "output_type": "execute_result"
    }
   ],
   "source": [
    "d = {'a' : 0., 'b' : 1., 'c' : 2.}\n",
    "my_series = pd.Series(d)\n",
    "my_series"
   ]
  },
  {
   "cell_type": "markdown",
   "metadata": {
    "colab_type": "text",
    "id": "M47gZgKbBFdB",
    "slideshow": {
     "slide_type": "subslide"
    }
   },
   "source": [
    "## Indexing/Slicing a Series with `[]` or . notation\n",
    "\n",
    "- Series can be accessed using the same syntax as arrays and dicts.\n",
    "- We use the labels in the index to access each element.\n",
    "- We can also use the label like an attribute `my_series.b`\n",
    "- We can specify a range with `my_series[['b', 'c']]`\n",
    "\n"
   ]
  },
  {
   "cell_type": "code",
   "execution_count": 49,
   "metadata": {
    "colab": {},
    "colab_type": "code",
    "id": "nzwAHIUqBFdE"
   },
   "outputs": [
    {
     "name": "stdout",
     "output_type": "stream",
     "text": [
      "1.0 \n",
      "\n",
      " 1.0 \n",
      "\n",
      " b    1.0\n",
      "c    2.0\n",
      "dtype: float64\n"
     ]
    }
   ],
   "source": [
    "#Notice the different ways that the parts of the series are specified. \n",
    "print( my_series['b'],'\\n\\n', my_series.b, '\\n\\n', my_series[['b', 'c']])"
   ]
  },
  {
   "cell_type": "markdown",
   "metadata": {
    "colab_type": "text",
    "id": "tF1UGIUSBFdK",
    "slideshow": {
     "slide_type": "subslide"
    }
   },
   "source": [
    "## Functions on Series\n",
    "\n",
    "- We can perform calculations using the entire `Series`, similar to numpy.\n",
    "- Methods are called from within `pd.Series`, for example `pd.Series.add`\n",
    "- See a variety of series functions [here](http://pandas.pydata.org/pandas-docs/stable/generated/pandas.Series.html) \n",
    "\n"
   ]
  },
  {
   "cell_type": "code",
   "execution_count": 50,
   "metadata": {
    "colab": {},
    "colab_type": "code",
    "id": "7qusoSnOBFdY"
   },
   "outputs": [
    {
     "name": "stdout",
     "output_type": "stream",
     "text": [
      "Print the entire array a: \n",
      " a    0.0\n",
      "b    1.0\n",
      "c    2.0\n",
      "dtype: float64\n",
      "\n",
      "Mulitiply by 10 directly:\n",
      " a     0.0\n",
      "b    10.0\n",
      "c    20.0\n",
      "dtype: float64\n",
      "\n",
      "Mulitiply by 10 using the function:\n",
      " a     0.0\n",
      "b    10.0\n",
      "c    20.0\n",
      "dtype: float64\n",
      "\n",
      "Add a and b together directly:\n",
      " a     0.0\n",
      "b    11.0\n",
      "c    22.0\n",
      "dtype: float64\n",
      "\n",
      "Add a and b together with a function:\n",
      " a     0.0\n",
      "b    11.0\n",
      "c    22.0\n",
      "dtype: float64\n",
      "\n",
      "sum all of a:\n",
      " 3.0\n",
      "\n",
      "square a:\n",
      " a    0.0\n",
      "b    1.0\n",
      "c    4.0\n",
      "dtype: float64\n",
      "\n",
      "Add 2 series together:\n",
      " a    3.0\n",
      "b    5.0\n",
      "c    7.0\n",
      "dtype: float64\n",
      "\n"
     ]
    }
   ],
   "source": [
    "starter = {'a' : 0., 'b' : 1., 'c' : 2.}\n",
    "\n",
    "a = pd.Series(starter)\n",
    "print('Print the entire array a: \\n', a)\n",
    "print()\n",
    "\n",
    "b1=10*a\n",
    "print('Mulitiply by 10 directly:\\n', b1)\n",
    "print()\n",
    "\n",
    "b2=a.multiply(10)\n",
    "print('Mulitiply by 10 using the function:\\n', b2)\n",
    "print()\n",
    "\n",
    "c1=a+b1\n",
    "print('Add a and b together directly:\\n', c1)\n",
    "print()\n",
    "\n",
    "c2=pd.Series.add(a,b1) #Note we are calling the method of the series class. Numpy used us np.add\n",
    "print('Add a and b together with a function:\\n', c2)\n",
    "print()\n",
    "\n",
    "\n",
    "suma=pd.Series.sum(a) #Note we are calling the method of the series class. Numpy used us np.add\n",
    "print('sum all of a:\\n', suma)\n",
    "print()\n",
    "\n",
    "f=a**2  #This squares the value. \n",
    "print('square a:\\n', f)\n",
    "print()\n",
    "x = pd.Series({'a' : 0., 'b' : 1., 'c' : 2.})\n",
    "y = pd.Series({'a' : 3., 'b' : 4., 'c' : 5.})\n",
    "z = x+y\n",
    "print('Add 2 series together:\\n', z)\n",
    "print()\n"
   ]
  },
  {
   "cell_type": "markdown",
   "metadata": {
    "colab_type": "text",
    "id": "BK3TVsVjBFdf",
    "slideshow": {
     "slide_type": "subslide"
    }
   },
   "source": [
    "## Time Series\n",
    "- Time series models link specific times with rows."
   ]
  },
  {
   "cell_type": "code",
   "execution_count": 8,
   "metadata": {
    "colab": {},
    "colab_type": "code",
    "id": "iahF0ryNBFdg"
   },
   "outputs": [
    {
     "data": {
      "text/plain": "DatetimeIndex(['2000-01-01', '2000-01-02', '2000-01-03', '2000-01-04',\n               '2000-01-05'],\n              dtype='datetime64[ns]', freq='D')"
     },
     "execution_count": 8,
     "metadata": {},
     "output_type": "execute_result"
    }
   ],
   "source": [
    "dates = pd.date_range('1/1/2000', periods=5)\n",
    "dates"
   ]
  },
  {
   "cell_type": "code",
   "execution_count": 9,
   "metadata": {
    "colab": {},
    "colab_type": "code",
    "id": "bdPUVm4TBFdn"
   },
   "outputs": [
    {
     "data": {
      "text/plain": "2000-01-01    1\n2000-01-02    2\n2000-01-03    3\n2000-01-04    4\n2000-01-05    5\nFreq: D, dtype: int64"
     },
     "execution_count": 9,
     "metadata": {},
     "output_type": "execute_result"
    }
   ],
   "source": [
    "time_series = pd.Series(data, index=dates)\n",
    "time_series"
   ]
  },
  {
   "cell_type": "markdown",
   "metadata": {
    "colab_type": "text",
    "id": "tXqGnrh6BFds",
    "slideshow": {
     "slide_type": "subslide"
    }
   },
   "source": [
    "## Plot Time Series\n",
    "- With a data and a value, the plot command can be used to provide quick visibility in the form of a line graph."
   ]
  },
  {
   "cell_type": "code",
   "execution_count": 10,
   "metadata": {
    "colab": {},
    "colab_type": "code",
    "id": "348aDr6qBFdt",
    "slideshow": {
     "slide_type": "subslide"
    }
   },
   "outputs": [
    {
     "data": {
      "text/plain": "<Figure size 640x480 with 1 Axes>",
      "image/png": "[encoded data removed]"
     },
     "metadata": {},
     "output_type": "display_data"
    }
   ],
   "source": [
    "ax = time_series.plot()"
   ]
  },
  {
   "cell_type": "code",
   "execution_count": 11,
   "metadata": {
    "colab": {},
    "colab_type": "code",
    "id": "v4UDVHZhBFd0"
   },
   "outputs": [
    {
     "data": {
      "text/plain": "pandas.core.series.Series"
     },
     "execution_count": 11,
     "metadata": {},
     "output_type": "execute_result"
    }
   ],
   "source": [
    "type(time_series)"
   ]
  },
  {
   "cell_type": "code",
   "execution_count": 12,
   "metadata": {
    "colab": {},
    "colab_type": "code",
    "id": "c3jqj5o4BFd3"
   },
   "outputs": [
    {
     "data": {
      "text/plain": "2000-01-01    1\n2000-01-02    2\n2000-01-03    3\n2000-01-04    4\n2000-01-05    5\nFreq: D, dtype: int64"
     },
     "execution_count": 12,
     "metadata": {},
     "output_type": "execute_result"
    }
   ],
   "source": [
    "time_series"
   ]
  },
  {
   "cell_type": "markdown",
   "metadata": {
    "colab_type": "text",
    "id": "YrSqW9P7BFd9",
    "slideshow": {
     "slide_type": "subslide"
    }
   },
   "source": [
    "## DataFrames\n",
    "\n",
    "- The `pandas` module provides a powerful data-structure called a data frame.\n",
    "\n",
    "- It is similar, but not identical to:\n",
    "    - a table in a relational database,\n",
    "    - an Excel spreadsheet,\n",
    "    - a dataframe in R.\n",
    "\n",
    "- A `DataFrame` has multiple columns, each of which can hold a *different* type of value.\n",
    "\n",
    "- Like a `Series`, it has an index which provides a label for each and every row.\n",
    "\n",
    "\n",
    "    "
   ]
  },
  {
   "cell_type": "markdown",
   "metadata": {
    "colab_type": "text",
    "id": "tikR3gtoBFd_",
    "slideshow": {
     "slide_type": "subslide"
    }
   },
   "source": [
    "## Creating a `DataFrame` from Outside Data\n",
    "- Data frames can be read and written to/from:\n",
    "    - database queries, database tables\n",
    "    - CSV files\n",
    "    - JSON files\n",
    "\n",
    "- Beware that data frames are memory-resident:\n",
    "    - If you read a large amount of data your PC might crash\n",
    "    - With big data, typically you would read a subset or summary of the data via e.g., a select statement."
   ]
  },
  {
   "cell_type": "markdown",
   "metadata": {
    "colab_type": "text",
    "id": "3rqLB1zHBFd_",
    "slideshow": {
     "slide_type": "subslide"
    }
   },
   "source": [
    "## Creating a `DataFrame` from Python Data Structures\n",
    "\n",
    "- Data frames can be constructed from other data structures in memory:\n",
    "    - dict of arrays\n",
    "    - dict of lists\n",
    "    - dict of dicts\n",
    "    - dict of `Series`\n",
    "    - 2-dimensional array\n",
    "    - a single `Series`\n",
    "    - another `DataFrame`"
   ]
  },
  {
   "cell_type": "markdown",
   "metadata": {
    "colab_type": "text",
    "id": "mf_GORndBFeA",
    "slideshow": {
     "slide_type": "subslide"
    }
   },
   "source": [
    "\n",
    "## Example: Creating a DataFrame from Multiple Series\n",
    "- Pandas codes missing (aka null) values as `NaN` rather than `None`\n",
    "- Series should have matching keys for each matching row.\n"
   ]
  },
  {
   "cell_type": "code",
   "execution_count": 52,
   "metadata": {
    "colab": {},
    "colab_type": "code",
    "id": "VkbAJxNKBFeB"
   },
   "outputs": [
    {
     "name": "stdout",
     "output_type": "stream",
     "text": [
      "     x    y    z\n",
      "a  1.0  4.0  NaN\n",
      "b  2.0  NaN  0.2\n",
      "c  3.0  6.0  0.3\n",
      "d  NaN  7.0  0.4\n"
     ]
    }
   ],
   "source": [
    "d = {\n",
    "        'x' : \n",
    "            pd.Series([1., 2., 3.], index=['a', 'b', 'c']),\n",
    "        'y' : \n",
    "            pd.Series([4.,  6., 7.], index=['a',  'c', 'd']),\n",
    "        'z' :\n",
    "            pd.Series([0.2, 0.3, 0.4], index=[ 'b', 'c', 'd'])\n",
    "}\n",
    "\n",
    "df = pd.DataFrame(d)\n",
    "print (df)"
   ]
  },
  {
   "cell_type": "code",
   "execution_count": 14,
   "metadata": {
    "colab": {},
    "colab_type": "code",
    "id": "wZqxppWeBFeE"
   },
   "outputs": [
    {
     "data": {
      "text/plain": "dict"
     },
     "execution_count": 14,
     "metadata": {},
     "output_type": "execute_result"
    }
   ],
   "source": [
    "type(d)"
   ]
  },
  {
   "cell_type": "markdown",
   "metadata": {
    "colab_type": "text",
    "id": "--eNteEXBFeH",
    "slideshow": {
     "slide_type": "subslide"
    }
   },
   "source": [
    "## Plotting DataFrames\n",
    "\n",
    "- When plotting a data frame, each column is plotted as its own series on the same graph.\n",
    "\n",
    "- The column names are used to label each series.\n",
    "\n",
    "- The row names (index) is used to label the x-axis."
   ]
  },
  {
   "cell_type": "code",
   "execution_count": 15,
   "metadata": {
    "colab": {},
    "colab_type": "code",
    "id": "tt2e7La-BFeI",
    "slideshow": {
     "slide_type": "-"
    }
   },
   "outputs": [
    {
     "data": {
      "text/plain": "<Figure size 640x480 with 1 Axes>",
      "image/png": "[encoded data removed]"
     },
     "metadata": {},
     "output_type": "display_data"
    }
   ],
   "source": [
    "ax = df.plot()"
   ]
  },
  {
   "cell_type": "code",
   "execution_count": 16,
   "metadata": {
    "colab": {},
    "colab_type": "code",
    "id": "_FDEil7sBFeN"
   },
   "outputs": [
    {
     "data": {
      "text/plain": "     x    y    z\na  1.0  4.0  NaN\nb  2.0  NaN  0.2\nc  3.0  6.0  0.3\nd  NaN  7.0  0.4",
      "text/html": "<div>\n<style scoped>\n    .dataframe tbody tr th:only-of-type {\n        vertical-align: middle;\n    }\n\n    .dataframe tbody tr th {\n        vertical-align: top;\n    }\n\n    .dataframe thead th {\n        text-align: right;\n    }\n</style>\n<table border=\"1\" class=\"dataframe\">\n  <thead>\n    <tr style=\"text-align: right;\">\n      <th></th>\n      <th>x</th>\n      <th>y</th>\n      <th>z</th>\n    </tr>\n  </thead>\n  <tbody>\n    <tr>\n      <th>a</th>\n      <td>1.0</td>\n      <td>4.0</td>\n      <td>NaN</td>\n    </tr>\n    <tr>\n      <th>b</th>\n      <td>2.0</td>\n      <td>NaN</td>\n      <td>0.2</td>\n    </tr>\n    <tr>\n      <th>c</th>\n      <td>3.0</td>\n      <td>6.0</td>\n      <td>0.3</td>\n    </tr>\n    <tr>\n      <th>d</th>\n      <td>NaN</td>\n      <td>7.0</td>\n      <td>0.4</td>\n    </tr>\n  </tbody>\n</table>\n</div>"
     },
     "execution_count": 16,
     "metadata": {},
     "output_type": "execute_result"
    }
   ],
   "source": [
    "df\n"
   ]
  },
  {
   "cell_type": "markdown",
   "metadata": {
    "colab_type": "text",
    "id": "OxirZeZABFeQ",
    "slideshow": {
     "slide_type": "subslide"
    }
   },
   "source": [
    "## Functions and DataFrames\n",
    "\n",
    "- We can do calculations and functions with dataframes just like series.\n",
    "- Functions will typically return a dataframe or a series, depending. \n",
    "- To make a copy, don't set two dataframes equal us the `copy` method:  `df2= df.copy()` "
   ]
  },
  {
   "cell_type": "code",
   "execution_count": 17,
   "metadata": {
    "colab": {},
    "colab_type": "code",
    "id": "hzqlv_HKBFeT"
   },
   "outputs": [
    {
     "name": "stdout",
     "output_type": "stream",
     "text": [
      "       x      y      z\n",
      "a  False  False   True\n",
      "b  False   True  False\n",
      "c  False  False  False\n",
      "d   True  False  False \n",
      " <class 'pandas.core.frame.DataFrame'>\n",
      "\n",
      "Null sum for each column \n",
      " x    1\n",
      "y    1\n",
      "z    1\n",
      "dtype: int64 \n",
      " <class 'pandas.core.series.Series'>\n",
      "\n",
      "We can slice these results to get the answer for x \n",
      " 1\n"
     ]
    },
    {
     "data": {
      "text/plain": "numpy.int64"
     },
     "execution_count": 17,
     "metadata": {},
     "output_type": "execute_result"
    }
   ],
   "source": [
    "#Info\n",
    "nulls=df.isnull()\n",
    "print(nulls, \"\\n\", type(nulls))\n",
    "\n",
    "nullsum=nulls.sum()\n",
    "\n",
    "print(\"\\nNull sum for each column \\n\", nullsum, \"\\n\", type(nullsum))\n",
    "\n",
    "print(\"\\nWe can slice these results to get the answer for x \\n\", nullsum.x)\n",
    "type(nullsum.x)"
   ]
  },
  {
   "cell_type": "code",
   "execution_count": 18,
   "metadata": {
    "colab": {},
    "colab_type": "code",
    "id": "1nGVzwYGBFeW"
   },
   "outputs": [
    {
     "name": "stdout",
     "output_type": "stream",
     "text": [
      "     x    y    z\n",
      "a  1.0  4.0  NaN\n",
      "b  2.0  NaN  0.2\n",
      "c  3.0  6.0  0.3\n",
      "d  NaN  7.0  0.4 \n",
      "      x    y    z\n",
      "a  1.0  4.0  NaN\n",
      "b  2.0  NaN  0.2\n",
      "c  3.0  6.0  0.3\n",
      "d  NaN  7.0  0.4\n"
     ]
    }
   ],
   "source": [
    "df2= df.copy()\n",
    "print(df, '\\n', df2)"
   ]
  },
  {
   "cell_type": "code",
   "execution_count": 19,
   "metadata": {
    "colab": {},
    "colab_type": "code",
    "id": "rbwh7ZD5BFeZ"
   },
   "outputs": [
    {
     "name": "stdout",
     "output_type": "stream",
     "text": [
      "     x     y     z\n",
      "a  1.0  16.0   NaN\n",
      "b  4.0   NaN  0.04\n",
      "c  9.0  36.0  0.09\n",
      "d  NaN  49.0  0.16\n"
     ]
    }
   ],
   "source": [
    "df2=df ** 2 #This squares all values. \n",
    "print(df2)"
   ]
  },
  {
   "cell_type": "markdown",
   "metadata": {
    "colab_type": "text",
    "id": "6EyOcuLbBFed",
    "slideshow": {
     "slide_type": "subslide"
    }
   },
   "source": [
    "## Summary statistics\n",
    "- To quickly obtain summary statistics on numerical values use the `describe` method.\n",
    "- You will get a warning if there are missing values.\n",
    "- The result is itself a DataFrame, that we can slice `dfstats.y['mean']`."
   ]
  },
  {
   "cell_type": "code",
   "execution_count": 20,
   "metadata": {
    "colab": {},
    "colab_type": "code",
    "id": "_N4e6MOwBFef",
    "slideshow": {
     "slide_type": "-"
    }
   },
   "outputs": [
    {
     "data": {
      "text/plain": "         x         y     z\ncount  3.0  3.000000  3.00\nmean   2.0  5.666667  0.30\nstd    1.0  1.527525  0.10\nmin    1.0  4.000000  0.20\n25%    1.5  5.000000  0.25\n50%    2.0  6.000000  0.30\n75%    2.5  6.500000  0.35\nmax    3.0  7.000000  0.40",
      "text/html": "<div>\n<style scoped>\n    .dataframe tbody tr th:only-of-type {\n        vertical-align: middle;\n    }\n\n    .dataframe tbody tr th {\n        vertical-align: top;\n    }\n\n    .dataframe thead th {\n        text-align: right;\n    }\n</style>\n<table border=\"1\" class=\"dataframe\">\n  <thead>\n    <tr style=\"text-align: right;\">\n      <th></th>\n      <th>x</th>\n      <th>y</th>\n      <th>z</th>\n    </tr>\n  </thead>\n  <tbody>\n    <tr>\n      <th>count</th>\n      <td>3.0</td>\n      <td>3.000000</td>\n      <td>3.00</td>\n    </tr>\n    <tr>\n      <th>mean</th>\n      <td>2.0</td>\n      <td>5.666667</td>\n      <td>0.30</td>\n    </tr>\n    <tr>\n      <th>std</th>\n      <td>1.0</td>\n      <td>1.527525</td>\n      <td>0.10</td>\n    </tr>\n    <tr>\n      <th>min</th>\n      <td>1.0</td>\n      <td>4.000000</td>\n      <td>0.20</td>\n    </tr>\n    <tr>\n      <th>25%</th>\n      <td>1.5</td>\n      <td>5.000000</td>\n      <td>0.25</td>\n    </tr>\n    <tr>\n      <th>50%</th>\n      <td>2.0</td>\n      <td>6.000000</td>\n      <td>0.30</td>\n    </tr>\n    <tr>\n      <th>75%</th>\n      <td>2.5</td>\n      <td>6.500000</td>\n      <td>0.35</td>\n    </tr>\n    <tr>\n      <th>max</th>\n      <td>3.0</td>\n      <td>7.000000</td>\n      <td>0.40</td>\n    </tr>\n  </tbody>\n</table>\n</div>"
     },
     "execution_count": 20,
     "metadata": {},
     "output_type": "execute_result"
    }
   ],
   "source": [
    "dfstats=df.describe()\n",
    "dfstats\n",
    "#type(dfstats)\n",
    "\n",
    "#END HERE....."
   ]
  },
  {
   "cell_type": "code",
   "execution_count": 21,
   "metadata": {
    "colab": {},
    "colab_type": "code",
    "id": "4q-T7-wsBFej",
    "slideshow": {
     "slide_type": "subslide"
    }
   },
   "outputs": [
    {
     "name": "stdout",
     "output_type": "stream",
     "text": [
      "2.0 \n",
      " 1.5275252316519465\n"
     ]
    }
   ],
   "source": [
    "xmean = dfstats.x['mean'] #This is the X mean\n",
    "ystd = dfstats['y']['std'] #This is the Y standardard deviation\n",
    "print(xmean,'\\n',ystd)"
   ]
  },
  {
   "cell_type": "markdown",
   "metadata": {
    "colab_type": "text",
    "id": "01KDFLniBFem"
   },
   "source": [
    "## Data Types\n",
    "- Each will have an inferred data type. "
   ]
  },
  {
   "cell_type": "code",
   "execution_count": 22,
   "metadata": {
    "colab": {},
    "colab_type": "code",
    "id": "XcXEas8BBFen"
   },
   "outputs": [
    {
     "name": "stdout",
     "output_type": "stream",
     "text": [
      "x    float64\n",
      "y    float64\n",
      "z    float64\n",
      "dtype: object\n"
     ]
    }
   ],
   "source": [
    "print(df.dtypes)"
   ]
  },
  {
   "cell_type": "markdown",
   "metadata": {
    "colab_type": "text",
    "id": "q3dSG4nDBFer",
    "slideshow": {
     "slide_type": "subslide"
    }
   },
   "source": [
    "## Accessing the Row and Column Labels\n",
    "\n",
    "- The row labels (index) can be accessed through `df.index`.\n",
    "- The column labels can be accessed through `df.columns`.\n"
   ]
  },
  {
   "cell_type": "code",
   "execution_count": 23,
   "metadata": {
    "colab": {},
    "colab_type": "code",
    "id": "L0wteuGEBFes"
   },
   "outputs": [
    {
     "data": {
      "text/plain": "Index(['a', 'b', 'c', 'd'], dtype='object')"
     },
     "execution_count": 23,
     "metadata": {},
     "output_type": "execute_result"
    }
   ],
   "source": [
    "df.index\n"
   ]
  },
  {
   "cell_type": "code",
   "execution_count": 24,
   "metadata": {
    "colab": {},
    "colab_type": "code",
    "id": "VlM8DU_ZBFex"
   },
   "outputs": [
    {
     "data": {
      "text/plain": "Index(['x', 'y', 'z'], dtype='object')"
     },
     "execution_count": 24,
     "metadata": {},
     "output_type": "execute_result"
    }
   ],
   "source": [
    "df.columns"
   ]
  },
  {
   "cell_type": "code",
   "execution_count": 25,
   "metadata": {
    "colab": {},
    "colab_type": "code",
    "id": "9gzPCOO-BFe0"
   },
   "outputs": [
    {
     "name": "stdout",
     "output_type": "stream",
     "text": [
      "         x         y     z\n",
      "count  3.0  3.000000  3.00\n",
      "mean   2.0  5.666667  0.30\n",
      "std    1.0  1.527525  0.10\n",
      "min    1.0  4.000000  0.20\n",
      "25%    1.5  5.000000  0.25\n",
      "50%    2.0  6.000000  0.30\n",
      "75%    2.5  6.500000  0.35\n",
      "max    3.0  7.000000  0.40\n"
     ]
    }
   ],
   "source": [
    "print(df.describe())"
   ]
  },
  {
   "cell_type": "markdown",
   "metadata": {
    "colab_type": "text",
    "id": "qsj5qgZDBFe8",
    "slideshow": {
     "slide_type": "subslide"
    }
   },
   "source": [
    "## Loading Files with Pandas\n",
    "- We used Pandas in an earlier notebook to load the iris data file.  \n",
    "- Whenver you have a dataset with a variety of fields of various types, loading it into Pandas is a good strategy.\n",
    "- You can load data from Azure, from a local file, or from a url.  \n",
    "\n",
    "\n",
    "\n",
    "\n",
    "\n"
   ]
  },
  {
   "cell_type": "code",
   "execution_count": 26,
   "metadata": {
    "colab": {},
    "colab_type": "code",
    "id": "O61BLd5RBXS8"
   },
   "outputs": [
    {
     "name": "stdout",
     "output_type": "stream",
     "text": [
      "--2023-01-06 16:16:35--  https://raw.githubusercontent.com/rpi-techfundamentals/spring2019-materials/master/input/iris.csv\r\n",
      "Resolving raw.githubusercontent.com (raw.githubusercontent.com)... 185.199.109.133, 185.199.110.133, 185.199.111.133, ...\r\n",
      "Connecting to raw.githubusercontent.com (raw.githubusercontent.com)|185.199.109.133|:443... connected.\r\n",
      "HTTP request sent, awaiting response... 200 OK\r\n",
      "Length: 3715 (3.6K) [text/plain]\r\n",
      "Saving to: 'iris.csv.1'\r\n",
      "\r\n",
      "iris.csv.1          100%[===================>]   3.63K  --.-KB/s    in 0.001s  \r\n",
      "\r\n",
      "2023-01-06 16:16:35 (5.27 MB/s) - 'iris.csv.1' saved [3715/3715]\r\n",
      "\r\n"
     ]
    }
   ],
   "source": [
    "!wget https://raw.githubusercontent.com/rpi-techfundamentals/spring2019-materials/master/input/iris.csv"
   ]
  },
  {
   "cell_type": "code",
   "execution_count": 27,
   "metadata": {
    "colab": {},
    "colab_type": "code",
    "id": "dAgKWb1FBFe_",
    "slideshow": {
     "slide_type": "subslide"
    }
   },
   "outputs": [
    {
     "data": {
      "text/plain": "     sepal_length  sepal_width  petal_length  petal_width    species\n0             5.1          3.5           1.4          0.2     setosa\n1             4.9          3.0           1.4          0.2     setosa\n2             4.7          3.2           1.3          0.2     setosa\n3             4.6          3.1           1.5          0.2     setosa\n4             5.0          3.6           1.4          0.2     setosa\n..            ...          ...           ...          ...        ...\n145           6.7          3.0           5.2          2.3  virginica\n146           6.3          2.5           5.0          1.9  virginica\n147           6.5          3.0           5.2          2.0  virginica\n148           6.2          3.4           5.4          2.3  virginica\n149           5.9          3.0           5.1          1.8  virginica\n\n[150 rows x 5 columns]",
      "text/html": "<div>\n<style scoped>\n    .dataframe tbody tr th:only-of-type {\n        vertical-align: middle;\n    }\n\n    .dataframe tbody tr th {\n        vertical-align: top;\n    }\n\n    .dataframe thead th {\n        text-align: right;\n    }\n</style>\n<table border=\"1\" class=\"dataframe\">\n  <thead>\n    <tr style=\"text-align: right;\">\n      <th></th>\n      <th>sepal_length</th>\n      <th>sepal_width</th>\n      <th>petal_length</th>\n      <th>petal_width</th>\n      <th>species</th>\n    </tr>\n  </thead>\n  <tbody>\n    <tr>\n      <th>0</th>\n      <td>5.1</td>\n      <td>3.5</td>\n      <td>1.4</td>\n      <td>0.2</td>\n      <td>setosa</td>\n    </tr>\n    <tr>\n      <th>1</th>\n      <td>4.9</td>\n      <td>3.0</td>\n      <td>1.4</td>\n      <td>0.2</td>\n      <td>setosa</td>\n    </tr>\n    <tr>\n      <th>2</th>\n      <td>4.7</td>\n      <td>3.2</td>\n      <td>1.3</td>\n      <td>0.2</td>\n      <td>setosa</td>\n    </tr>\n    <tr>\n      <th>3</th>\n      <td>4.6</td>\n      <td>3.1</td>\n      <td>1.5</td>\n      <td>0.2</td>\n      <td>setosa</td>\n    </tr>\n    <tr>\n      <th>4</th>\n      <td>5.0</td>\n      <td>3.6</td>\n      <td>1.4</td>\n      <td>0.2</td>\n      <td>setosa</td>\n    </tr>\n    <tr>\n      <th>...</th>\n      <td>...</td>\n      <td>...</td>\n      <td>...</td>\n      <td>...</td>\n      <td>...</td>\n    </tr>\n    <tr>\n      <th>145</th>\n      <td>6.7</td>\n      <td>3.0</td>\n      <td>5.2</td>\n      <td>2.3</td>\n      <td>virginica</td>\n    </tr>\n    <tr>\n      <th>146</th>\n      <td>6.3</td>\n      <td>2.5</td>\n      <td>5.0</td>\n      <td>1.9</td>\n      <td>virginica</td>\n    </tr>\n    <tr>\n      <th>147</th>\n      <td>6.5</td>\n      <td>3.0</td>\n      <td>5.2</td>\n      <td>2.0</td>\n      <td>virginica</td>\n    </tr>\n    <tr>\n      <th>148</th>\n      <td>6.2</td>\n      <td>3.4</td>\n      <td>5.4</td>\n      <td>2.3</td>\n      <td>virginica</td>\n    </tr>\n    <tr>\n      <th>149</th>\n      <td>5.9</td>\n      <td>3.0</td>\n      <td>5.1</td>\n      <td>1.8</td>\n      <td>virginica</td>\n    </tr>\n  </tbody>\n</table>\n<p>150 rows × 5 columns</p>\n</div>"
     },
     "execution_count": 27,
     "metadata": {},
     "output_type": "execute_result"
    }
   ],
   "source": [
    "# Pulling from a local file\n",
    "frame2 = pd.read_csv('iris.csv')\n",
    "frame2"
   ]
  },
  {
   "cell_type": "markdown",
   "metadata": {
    "colab_type": "text",
    "id": "QLbQQzidBFfC",
    "slideshow": {
     "slide_type": "subslide"
    }
   },
   "source": [
    "##  Large Dataframes - Head and Tail\n",
    "\n",
    "- Many times you just want a sampling of the available data\n",
    "- The `head()` command can view the start of a data frame.\n",
    "- The `tail()` command can be used to show the end of a data frame. "
   ]
  },
  {
   "cell_type": "code",
   "execution_count": 28,
   "metadata": {
    "colab": {},
    "colab_type": "code",
    "id": "pL-GwDeMBFfG"
   },
   "outputs": [
    {
     "data": {
      "text/plain": "   sepal_length  sepal_width  petal_length  petal_width species\n0           5.1          3.5           1.4          0.2  setosa\n1           4.9          3.0           1.4          0.2  setosa\n2           4.7          3.2           1.3          0.2  setosa\n3           4.6          3.1           1.5          0.2  setosa\n4           5.0          3.6           1.4          0.2  setosa",
      "text/html": "<div>\n<style scoped>\n    .dataframe tbody tr th:only-of-type {\n        vertical-align: middle;\n    }\n\n    .dataframe tbody tr th {\n        vertical-align: top;\n    }\n\n    .dataframe thead th {\n        text-align: right;\n    }\n</style>\n<table border=\"1\" class=\"dataframe\">\n  <thead>\n    <tr style=\"text-align: right;\">\n      <th></th>\n      <th>sepal_length</th>\n      <th>sepal_width</th>\n      <th>petal_length</th>\n      <th>petal_width</th>\n      <th>species</th>\n    </tr>\n  </thead>\n  <tbody>\n    <tr>\n      <th>0</th>\n      <td>5.1</td>\n      <td>3.5</td>\n      <td>1.4</td>\n      <td>0.2</td>\n      <td>setosa</td>\n    </tr>\n    <tr>\n      <th>1</th>\n      <td>4.9</td>\n      <td>3.0</td>\n      <td>1.4</td>\n      <td>0.2</td>\n      <td>setosa</td>\n    </tr>\n    <tr>\n      <th>2</th>\n      <td>4.7</td>\n      <td>3.2</td>\n      <td>1.3</td>\n      <td>0.2</td>\n      <td>setosa</td>\n    </tr>\n    <tr>\n      <th>3</th>\n      <td>4.6</td>\n      <td>3.1</td>\n      <td>1.5</td>\n      <td>0.2</td>\n      <td>setosa</td>\n    </tr>\n    <tr>\n      <th>4</th>\n      <td>5.0</td>\n      <td>3.6</td>\n      <td>1.4</td>\n      <td>0.2</td>\n      <td>setosa</td>\n    </tr>\n  </tbody>\n</table>\n</div>"
     },
     "execution_count": 28,
     "metadata": {},
     "output_type": "execute_result"
    }
   ],
   "source": [
    "frame2.head()"
   ]
  },
  {
   "cell_type": "code",
   "execution_count": 29,
   "metadata": {
    "colab": {},
    "colab_type": "code",
    "id": "6E6BNSb6BFfJ",
    "slideshow": {
     "slide_type": "subslide"
    }
   },
   "outputs": [
    {
     "data": {
      "text/plain": "     sepal_length  sepal_width  petal_length  petal_width    species\n145           6.7          3.0           5.2          2.3  virginica\n146           6.3          2.5           5.0          1.9  virginica\n147           6.5          3.0           5.2          2.0  virginica\n148           6.2          3.4           5.4          2.3  virginica\n149           5.9          3.0           5.1          1.8  virginica",
      "text/html": "<div>\n<style scoped>\n    .dataframe tbody tr th:only-of-type {\n        vertical-align: middle;\n    }\n\n    .dataframe tbody tr th {\n        vertical-align: top;\n    }\n\n    .dataframe thead th {\n        text-align: right;\n    }\n</style>\n<table border=\"1\" class=\"dataframe\">\n  <thead>\n    <tr style=\"text-align: right;\">\n      <th></th>\n      <th>sepal_length</th>\n      <th>sepal_width</th>\n      <th>petal_length</th>\n      <th>petal_width</th>\n      <th>species</th>\n    </tr>\n  </thead>\n  <tbody>\n    <tr>\n      <th>145</th>\n      <td>6.7</td>\n      <td>3.0</td>\n      <td>5.2</td>\n      <td>2.3</td>\n      <td>virginica</td>\n    </tr>\n    <tr>\n      <th>146</th>\n      <td>6.3</td>\n      <td>2.5</td>\n      <td>5.0</td>\n      <td>1.9</td>\n      <td>virginica</td>\n    </tr>\n    <tr>\n      <th>147</th>\n      <td>6.5</td>\n      <td>3.0</td>\n      <td>5.2</td>\n      <td>2.0</td>\n      <td>virginica</td>\n    </tr>\n    <tr>\n      <th>148</th>\n      <td>6.2</td>\n      <td>3.4</td>\n      <td>5.4</td>\n      <td>2.3</td>\n      <td>virginica</td>\n    </tr>\n    <tr>\n      <th>149</th>\n      <td>5.9</td>\n      <td>3.0</td>\n      <td>5.1</td>\n      <td>1.8</td>\n      <td>virginica</td>\n    </tr>\n  </tbody>\n</table>\n</div>"
     },
     "execution_count": 29,
     "metadata": {},
     "output_type": "execute_result"
    }
   ],
   "source": [
    "frame2.tail()"
   ]
  },
  {
   "cell_type": "code",
   "execution_count": 30,
   "metadata": {
    "colab": {},
    "colab_type": "code",
    "id": "zglB84d_BFfN",
    "slideshow": {
     "slide_type": "subslide"
    }
   },
   "outputs": [
    {
     "data": {
      "text/plain": "   sepal_length  sepal_width  petal_length  petal_width species\n0           5.1          3.5           1.4          0.2  setosa\n1           4.9          3.0           1.4          0.2  setosa\n2           4.7          3.2           1.3          0.2  setosa\n3           4.6          3.1           1.5          0.2  setosa\n4           5.0          3.6           1.4          0.2  setosa",
      "text/html": "<div>\n<style scoped>\n    .dataframe tbody tr th:only-of-type {\n        vertical-align: middle;\n    }\n\n    .dataframe tbody tr th {\n        vertical-align: top;\n    }\n\n    .dataframe thead th {\n        text-align: right;\n    }\n</style>\n<table border=\"1\" class=\"dataframe\">\n  <thead>\n    <tr style=\"text-align: right;\">\n      <th></th>\n      <th>sepal_length</th>\n      <th>sepal_width</th>\n      <th>petal_length</th>\n      <th>petal_width</th>\n      <th>species</th>\n    </tr>\n  </thead>\n  <tbody>\n    <tr>\n      <th>0</th>\n      <td>5.1</td>\n      <td>3.5</td>\n      <td>1.4</td>\n      <td>0.2</td>\n      <td>setosa</td>\n    </tr>\n    <tr>\n      <th>1</th>\n      <td>4.9</td>\n      <td>3.0</td>\n      <td>1.4</td>\n      <td>0.2</td>\n      <td>setosa</td>\n    </tr>\n    <tr>\n      <th>2</th>\n      <td>4.7</td>\n      <td>3.2</td>\n      <td>1.3</td>\n      <td>0.2</td>\n      <td>setosa</td>\n    </tr>\n    <tr>\n      <th>3</th>\n      <td>4.6</td>\n      <td>3.1</td>\n      <td>1.5</td>\n      <td>0.2</td>\n      <td>setosa</td>\n    </tr>\n    <tr>\n      <th>4</th>\n      <td>5.0</td>\n      <td>3.6</td>\n      <td>1.4</td>\n      <td>0.2</td>\n      <td>setosa</td>\n    </tr>\n  </tbody>\n</table>\n</div>"
     },
     "execution_count": 30,
     "metadata": {},
     "output_type": "execute_result"
    }
   ],
   "source": [
    "# Pulling from a url.  Notice that this is the raw version of the file.\n",
    "frame3 = pd.read_csv(\"https://raw.githubusercontent.com/rpi-techfundamentals/spring2019-materials/master/input/iris.csv\")\n",
    "frame3.head()\n"
   ]
  },
  {
   "cell_type": "markdown",
   "metadata": {
    "colab_type": "text",
    "id": "yDX01_UxBFfS",
    "slideshow": {
     "slide_type": "subslide"
    }
   },
   "source": [
    "## Indexing/Slicing Rows of DataFrames\n",
    "- Simple ways of selecting all rows and colu (`df[:]`)\n",
    "- Rows can be accessed via a key or a integer corresponding to the row number. \n",
    "- Omitting a value generally means *all values* before or after an item.\n",
    "- When we retrieve a single or mulitiple rows, the result is a Dataframe.\n",
    "- Several ways, either directly, with `iloc`, or with `loc`. (See Examples).\n",
    "- Read more [here](http://pandas.pydata.org/pandas-docs/stable/indexing.html)\n",
    "\n"
   ]
  },
  {
   "cell_type": "code",
   "execution_count": 31,
   "metadata": {
    "colab": {},
    "colab_type": "code",
    "id": "k3xlzSrvBFfS"
   },
   "outputs": [
    {
     "name": "stdout",
     "output_type": "stream",
     "text": [
      "           a          b          c          d\n",
      "0  18.163555  15.939397  18.250634  15.806258\n",
      "1  19.563151  20.876338  12.791888  22.622864\n",
      "2  18.954403  16.540246  14.897361  14.836208\n",
      "3  23.410145  11.300494  22.124443  19.223948\n",
      "4  25.265425  24.986649  17.469715  25.193185\n",
      "5  19.716019  17.328552  19.538904  24.804853\n",
      "6  17.512000   8.454499  14.740806  14.770872\n",
      "7  24.313846  20.196006  22.185216  27.998339\n",
      "8  14.105347  24.374610  14.971323  19.831640\n",
      "9  20.608815  17.195513  10.127412  23.211764\n",
      "           e          f          g          h\n",
      "0  12.089638  24.009359  12.856865  21.004281\n",
      "1  23.714933  17.922771  22.984571  21.216065\n",
      "2  16.685896  25.377077  22.618126  16.906479\n",
      "3  16.571005  23.027894  12.194458  18.055375\n",
      "4   9.983116  17.099741  22.431523  20.768630\n",
      "5  24.791691  15.564645  15.947830  16.560757\n",
      "6  18.761182  11.896108  26.477752  33.840468\n",
      "7  26.379581  23.559996  21.966811  16.727901\n",
      "8  18.008065  25.870866  15.703992  28.387339\n",
      "9  20.469320  20.898993  23.057774  21.625839\n"
     ]
    }
   ],
   "source": [
    "#This is going to create some sample data that we can work with for our analysis. \n",
    "\n",
    "import pandas as pd\n",
    "import numpy as np\n",
    " \n",
    "#Create a dataframe from a random numpy array \n",
    "#http://docs.scipy.org/doc/numpy/reference/generated/numpy.random.randn.html\n",
    "df = pd.DataFrame((20+np.random.randn(10, 4)*5),  columns=['a', 'b', 'c', 'd'] )\n",
    "print (df)\n",
    "df2 = pd.DataFrame((20+np.random.randn(10, 4)*5),  columns=['e', 'f', 'g', 'h'] )\n",
    "print (df2)\n",
    "\n"
   ]
  },
  {
   "cell_type": "markdown",
   "metadata": {
    "colab_type": "text",
    "id": "kQetmMuOBFfV",
    "slideshow": {
     "slide_type": "subslide"
    }
   },
   "source": [
    "## Indexing/Slicing Columns of DataFrames\n",
    "- Simple ways of selecting colum(s) `frame[[colname(s)]]`. \n",
    "- Columns can have one (`df['x']`) or multiple (`df[['x', 'y']]`) columns.\n",
    "- When specifying one column, one can use simplified dot notation `df.x`.\n",
    "- When we include multiple columns the slice that result is a DataFrame.\n",
    "- When we retrieve a single column, the result is a Series.\n",
    "- When we retrieve mulitiple column, the result is a Dataframe.\n"
   ]
  },
  {
   "cell_type": "code",
   "execution_count": 32,
   "metadata": {
    "colab": {},
    "colab_type": "code",
    "id": "OoLwXZs_BFfX"
   },
   "outputs": [
    {
     "name": "stdout",
     "output_type": "stream",
     "text": [
      "           c          d\n",
      "0  18.250634  15.806258\n",
      "1  12.791888  22.622864\n",
      "2  14.897361  14.836208\n",
      "3  22.124443  19.223948\n",
      "4  17.469715  25.193185\n",
      "5  19.538904  24.804853\n",
      "6  14.740806  14.770872\n",
      "7  22.185216  27.998339\n",
      "8  14.971323  19.831640\n",
      "9  10.127412  23.211764\n",
      "           c          d\n",
      "0  18.250634  15.806258\n",
      "1  12.791888  22.622864\n",
      "2  14.897361  14.836208\n",
      "3  22.124443  19.223948\n",
      "4  17.469715  25.193185\n",
      "5  19.538904  24.804853\n",
      "6  14.740806  14.770872\n",
      "7  22.185216  27.998339\n",
      "8  14.971323  19.831640\n",
      "9  10.127412  23.211764\n",
      "           a          c          d\n",
      "0  18.163555  18.250634  15.806258\n",
      "1  19.563151  12.791888  22.622864\n",
      "2  18.954403  14.897361  14.836208\n",
      "3  23.410145  22.124443  19.223948\n",
      "4  25.265425  17.469715  25.193185\n",
      "5  19.716019  19.538904  24.804853\n",
      "6  17.512000  14.740806  14.770872\n",
      "7  24.313846  22.185216  27.998339\n",
      "8  14.105347  14.971323  19.831640\n",
      "9  20.608815  10.127412  23.211764\n",
      "           a          b\n",
      "0  18.163555  15.939397\n",
      "1  19.563151  20.876338\n",
      "2  18.954403  16.540246\n",
      "3  23.410145  11.300494\n",
      "4  25.265425  24.986649\n",
      "5  19.716019  17.328552\n",
      "6  17.512000   8.454499\n",
      "7  24.313846  20.196006\n",
      "8  14.105347  24.374610\n",
      "9  20.608815  17.195513\n",
      "           a          c          d\n",
      "0  18.163555  18.250634  15.806258\n",
      "1  19.563151  12.791888  22.622864\n",
      "2  18.954403  14.897361  14.836208\n",
      "3  23.410145  22.124443  19.223948\n",
      "4  25.265425  17.469715  25.193185\n",
      "5  19.716019  19.538904  24.804853\n",
      "6  17.512000  14.740806  14.770872\n",
      "7  24.313846  22.185216  27.998339\n",
      "8  14.105347  14.971323  19.831640\n",
      "9  20.608815  10.127412  23.211764\n",
      "           a          b\n",
      "0  18.163555  15.939397\n",
      "1  19.563151  20.876338\n",
      "2  18.954403  16.540246\n",
      "3  23.410145  11.300494\n",
      "4  25.265425  24.986649\n",
      "5  19.716019  17.328552\n",
      "6  17.512000   8.454499\n",
      "7  24.313846  20.196006\n",
      "8  14.105347  24.374610\n",
      "9  20.608815  17.195513\n",
      "           a          c          d\n",
      "0  18.163555  18.250634  15.806258\n",
      "1  19.563151  12.791888  22.622864\n",
      "2  18.954403  14.897361  14.836208\n",
      "3  23.410145  22.124443  19.223948\n",
      "4  25.265425  17.469715  25.193185\n",
      "5  19.716019  19.538904  24.804853\n",
      "6  17.512000  14.740806  14.770872\n",
      "7  24.313846  22.185216  27.998339\n",
      "8  14.105347  14.971323  19.831640\n",
      "9  20.608815  10.127412  23.211764\n"
     ]
    }
   ],
   "source": [
    "#Here we can see that there is a similar structure to R, with selecting the desired columns by passing a list.\n",
    "\n",
    "print (df[['c', 'd']]) #All rows, column c, d\n",
    "print (df[[ 'c', 'd']]) #All rows, column c, d\n",
    "print (df.iloc[:,[0,2,3]]) #All rows, column a,c,d\n",
    "print (df.iloc[:,0:2])     #All rows, column a-b\n",
    "print (df.iloc[:,[0,2,3]])     #All rows, column 0,2,3\n",
    "print (df.loc[:,'a':'b']) #All rows, column a-b\n",
    "print (df.loc[:,['a','c','d']]) #All rows, columns a, c, d\n",
    "\n"
   ]
  },
  {
   "cell_type": "markdown",
   "metadata": {
    "colab_type": "text",
    "id": "V8Fb4qVMBFfZ",
    "slideshow": {
     "slide_type": "subslide"
    }
   },
   "source": [
    "## Dropping Columns from Dataframes\n",
    "- Done using the `drop` syntax. \n",
    "- [Drop Documentation](http://pandas.pydata.org/pandas-docs/stable/generated/pandas.DataFrame.drop.html)"
   ]
  },
  {
   "cell_type": "code",
   "execution_count": 33,
   "metadata": {
    "colab": {},
    "colab_type": "code",
    "id": "0C3ERb5QBFfb",
    "slideshow": {
     "slide_type": "-"
    }
   },
   "outputs": [
    {
     "name": "stdout",
     "output_type": "stream",
     "text": [
      "           e          f          g          h\n",
      "0  16.297475  19.623728  16.946337  24.049994\n",
      "1  17.332955  17.471395  15.821213  25.962828\n",
      "2  16.608247  26.782813  17.041967  25.349770\n",
      "3  18.556268  22.272384  32.586638  19.141068\n",
      "4  18.344576  29.242450  18.818981  27.571168\n",
      "5  17.423173  19.118684  15.767807  13.317947\n",
      "6  23.438000  19.855758  25.533757  25.111176\n",
      "7  24.793972  14.142683  27.926262  19.539075\n",
      "8  22.683765  22.197045  21.636627  28.280328\n",
      "9  18.563834  23.183113  20.107804  21.133582\n",
      "           g          h\n",
      "0  16.946337  24.049994\n",
      "1  15.821213  25.962828\n",
      "2  17.041967  25.349770\n",
      "3  32.586638  19.141068\n",
      "4  18.818981  27.571168\n",
      "5  15.767807  13.317947\n",
      "6  25.533757  25.111176\n",
      "7  27.926262  19.539075\n",
      "8  21.636627  28.280328\n",
      "9  20.107804  21.133582\n"
     ]
    }
   ],
   "source": [
    "#Here, we can remove columns specifically from a dataframe using the drop method.\n",
    "df2 = pd.DataFrame((20+np.random.randn(10, 4)*5),  columns=['e', 'f', 'g', 'h'] )\n",
    "print (df2)\n",
    "df2.drop(['e','f'], inplace=True, axis=1)\n",
    "print (df2)"
   ]
  },
  {
   "cell_type": "markdown",
   "metadata": {
    "colab_type": "text",
    "id": "y0mO7JvlBFfg",
    "slideshow": {
     "slide_type": "subslide"
    }
   },
   "source": [
    "## Selecting Rows\n",
    "- Similarly, we also might want to select out rows, and we can utilize the same syntax.\n",
    "- [iloc](https://pandas.pydata.org/pandas-docs/stable/generated/pandas.DataFrame.iloc.html)"
   ]
  },
  {
   "cell_type": "code",
   "execution_count": 34,
   "metadata": {
    "colab": {},
    "colab_type": "code",
    "id": "m0XJZ-2bBFfh"
   },
   "outputs": [
    {
     "name": "stdout",
     "output_type": "stream",
     "text": [
      "           a          b          c          d\n",
      "0  18.163555  15.939397  18.250634  15.806258\n",
      "1  19.563151  20.876338  12.791888  22.622864\n",
      "2  18.954403  16.540246  14.897361  14.836208\n",
      "           a          b          c          d\n",
      "0  18.163555  15.939397  18.250634  15.806258\n",
      "1  19.563151  20.876338  12.791888  22.622864\n",
      "2  18.954403  16.540246  14.897361  14.836208\n",
      "           a          b          c          d\n",
      "0  18.163555  15.939397  18.250634  15.806258\n",
      "1  19.563151  20.876338  12.791888  22.622864\n",
      "2  18.954403  16.540246  14.897361  14.836208\n",
      "           a          b          c          d\n",
      "0  18.163555  15.939397  18.250634  15.806258\n",
      "1  19.563151  20.876338  12.791888  22.622864\n",
      "2  18.954403  16.540246  14.897361  14.836208\n",
      "           a          b          c          d\n",
      "1  19.563151  20.876338  12.791888  22.622864\n",
      "2  18.954403  16.540246  14.897361  14.836208\n",
      "4  25.265425  24.986649  17.469715  25.193185\n"
     ]
    }
   ],
   "source": [
    "\n",
    "## Selecting rows\n",
    "print (df[0:3])     #Select rows 1-3\n",
    "print (df.iloc[0:3,:])     #Select rows 1-3\n",
    "print (df.iloc[0:3,])      #Select rows 1-3\n",
    "print (df.iloc[0:3])       #Select rows 1-3\n",
    "print (df.iloc[[1,2,4]])   #Select rows 1, 2, and 4\n"
   ]
  },
  {
   "cell_type": "markdown",
   "metadata": {
    "colab_type": "text",
    "id": "fMfJUu7hBFfm",
    "slideshow": {
     "slide_type": "subslide"
    }
   },
   "source": [
    "## Intro to Filters (Logical indexing)\n",
    "- Filters are the selection of rows based on criteria.\n",
    "- We can select based on specific criteria.\n",
    "- These criteria can be connected together.\n",
    "- Most of the time we won't specfically assign selection critia to a list. "
   ]
  },
  {
   "cell_type": "code",
   "execution_count": 35,
   "metadata": {
    "colab": {},
    "colab_type": "code",
    "id": "Sk4UWcIsBFfp"
   },
   "outputs": [
    {
     "name": "stdout",
     "output_type": "stream",
     "text": [
      "           a          b          c          d\n",
      "0  18.163555  15.939397  18.250634  15.806258\n",
      "1  19.563151  20.876338  12.791888  22.622864\n",
      "2  18.954403  16.540246  14.897361  14.836208\n",
      "3  23.410145  11.300494  22.124443  19.223948\n",
      "4  25.265425  24.986649  17.469715  25.193185\n",
      "5  19.716019  17.328552  19.538904  24.804853\n",
      "6  17.512000   8.454499  14.740806  14.770872\n",
      "7  24.313846  20.196006  22.185216  27.998339\n",
      "8  14.105347  24.374610  14.971323  19.831640\n",
      "9  20.608815  17.195513  10.127412  23.211764\n"
     ]
    },
    {
     "data": {
      "text/plain": "0    False\n1    False\n2    False\n3     True\n4     True\n5    False\n6    False\n7     True\n8    False\n9     True\nName: a, dtype: bool"
     },
     "execution_count": 35,
     "metadata": {},
     "output_type": "execute_result"
    }
   ],
   "source": [
    "# At the foundation of the filter is a boolean array based on some type of condition. \n",
    "print(df)\n",
    "df['a'] >= 20"
   ]
  },
  {
   "cell_type": "code",
   "execution_count": 36,
   "metadata": {
    "colab": {},
    "colab_type": "code",
    "id": "wLe6_62tBFfw",
    "slideshow": {
     "slide_type": "subslide"
    }
   },
   "outputs": [
    {
     "data": {
      "text/plain": "           a          b          c          d\n3  23.410145  11.300494  22.124443  19.223948\n4  25.265425  24.986649  17.469715  25.193185\n7  24.313846  20.196006  22.185216  27.998339\n9  20.608815  17.195513  10.127412  23.211764",
      "text/html": "<div>\n<style scoped>\n    .dataframe tbody tr th:only-of-type {\n        vertical-align: middle;\n    }\n\n    .dataframe tbody tr th {\n        vertical-align: top;\n    }\n\n    .dataframe thead th {\n        text-align: right;\n    }\n</style>\n<table border=\"1\" class=\"dataframe\">\n  <thead>\n    <tr style=\"text-align: right;\">\n      <th></th>\n      <th>a</th>\n      <th>b</th>\n      <th>c</th>\n      <th>d</th>\n    </tr>\n  </thead>\n  <tbody>\n    <tr>\n      <th>3</th>\n      <td>23.410145</td>\n      <td>11.300494</td>\n      <td>22.124443</td>\n      <td>19.223948</td>\n    </tr>\n    <tr>\n      <th>4</th>\n      <td>25.265425</td>\n      <td>24.986649</td>\n      <td>17.469715</td>\n      <td>25.193185</td>\n    </tr>\n    <tr>\n      <th>7</th>\n      <td>24.313846</td>\n      <td>20.196006</td>\n      <td>22.185216</td>\n      <td>27.998339</td>\n    </tr>\n    <tr>\n      <th>9</th>\n      <td>20.608815</td>\n      <td>17.195513</td>\n      <td>10.127412</td>\n      <td>23.211764</td>\n    </tr>\n  </tbody>\n</table>\n</div>"
     },
     "execution_count": 36,
     "metadata": {},
     "output_type": "execute_result"
    }
   ],
   "source": [
    "#notice how the logical statement is inside the dataframe specification.  This creates an intermediate boolean array. \n",
    "df[df['a'] >= 20]"
   ]
  },
  {
   "cell_type": "code",
   "execution_count": 37,
   "metadata": {
    "colab": {},
    "colab_type": "code",
    "id": "pELyQj8tBFf3",
    "slideshow": {
     "slide_type": "subslide"
    }
   },
   "outputs": [
    {
     "data": {
      "text/plain": "           a          b          c          d\n3  23.410145  11.300494  22.124443  19.223948\n4  25.265425  24.986649  17.469715  25.193185\n7  24.313846  20.196006  22.185216  27.998339\n9  20.608815  17.195513  10.127412  23.211764",
      "text/html": "<div>\n<style scoped>\n    .dataframe tbody tr th:only-of-type {\n        vertical-align: middle;\n    }\n\n    .dataframe tbody tr th {\n        vertical-align: top;\n    }\n\n    .dataframe thead th {\n        text-align: right;\n    }\n</style>\n<table border=\"1\" class=\"dataframe\">\n  <thead>\n    <tr style=\"text-align: right;\">\n      <th></th>\n      <th>a</th>\n      <th>b</th>\n      <th>c</th>\n      <th>d</th>\n    </tr>\n  </thead>\n  <tbody>\n    <tr>\n      <th>3</th>\n      <td>23.410145</td>\n      <td>11.300494</td>\n      <td>22.124443</td>\n      <td>19.223948</td>\n    </tr>\n    <tr>\n      <th>4</th>\n      <td>25.265425</td>\n      <td>24.986649</td>\n      <td>17.469715</td>\n      <td>25.193185</td>\n    </tr>\n    <tr>\n      <th>7</th>\n      <td>24.313846</td>\n      <td>20.196006</td>\n      <td>22.185216</td>\n      <td>27.998339</td>\n    </tr>\n    <tr>\n      <th>9</th>\n      <td>20.608815</td>\n      <td>17.195513</td>\n      <td>10.127412</td>\n      <td>23.211764</td>\n    </tr>\n  </tbody>\n</table>\n</div>"
     },
     "execution_count": 37,
     "metadata": {},
     "output_type": "execute_result"
    }
   ],
   "source": [
    "#This is an alternate method where we first set the boolean array. \n",
    "included=df['a'] >= 20\n",
    "df[included]\n"
   ]
  },
  {
   "cell_type": "code",
   "execution_count": 38,
   "metadata": {
    "colab": {},
    "colab_type": "code",
    "id": "Z1MhwdsSBFf7"
   },
   "outputs": [
    {
     "name": "stdout",
     "output_type": "stream",
     "text": [
      "0    False\n",
      "1    False\n",
      "2    False\n",
      "3     True\n",
      "4     True\n",
      "5    False\n",
      "6    False\n",
      "7     True\n",
      "8    False\n",
      "9     True\n",
      "Name: a, dtype: bool <class 'pandas.core.series.Series'>\n",
      "3    23.410145\n",
      "4    25.265425\n",
      "7    24.313846\n",
      "9    20.608815\n",
      "Name: a, dtype: float64\n",
      "0    False\n",
      "1    False\n",
      "2    False\n",
      "3     True\n",
      "4     True\n",
      "5    False\n",
      "6    False\n",
      "7     True\n",
      "8    False\n",
      "9     True\n",
      "dtype: bool\n",
      "           a          c\n",
      "3  23.410145  22.124443\n",
      "4  25.265425  17.469715\n",
      "7  24.313846  22.185216\n",
      "9  20.608815  10.127412\n"
     ]
    }
   ],
   "source": [
    "#We can now generate a vector based on a critera and then use this for selection\n",
    "select = df['a']>=20\n",
    "print (select,type(select))\n",
    "print (df.loc[select,'a']) #Notice by including only one variable we are selecting rows and all columns.\n",
    "\n",
    "select2 = (df['a']>20) & (df['c'] < 30)  #More complex criteria\n",
    "print (select2)\n",
    "print (df.loc[select2,['a','c']])\n",
    "\n"
   ]
  },
  {
   "cell_type": "code",
   "execution_count": 39,
   "metadata": {
    "colab": {},
    "colab_type": "code",
    "id": "Dz4UeVRnBFf_"
   },
   "outputs": [
    {
     "name": "stdout",
     "output_type": "stream",
     "text": [
      "0    0\n",
      "1    0\n",
      "2    0\n",
      "3    1\n",
      "4    1\n",
      "5    0\n",
      "6    0\n",
      "7    1\n",
      "8    0\n",
      "9    1\n",
      "Name: aboveavg, dtype: int64\n"
     ]
    }
   ],
   "source": [
    "#Here we are creating a new variable based on the value of another variable.\n",
    "df['aboveavg']=0  # We first set the default to 0. \n",
    "df.loc[df['a']>=20,'aboveavg']=1 #We then change all rows where a is >=20 to 1.\n",
    "print(df['aboveavg'])"
   ]
  },
  {
   "cell_type": "markdown",
   "metadata": {
    "colab_type": "text",
    "id": "BZl06rEeBFgB",
    "slideshow": {
     "slide_type": "subslide"
    }
   },
   "source": [
    "## Joining Dataframes\n",
    "- Often you need to combine dataframe, \n",
    "- either matching columns for the smae rows (column  bind)\n",
    "- Add rows for the same columns (row bind)"
   ]
  },
  {
   "cell_type": "markdown",
   "metadata": {
    "colab_type": "text",
    "id": "q1pw2jaTBFgC",
    "slideshow": {
     "slide_type": "subslide"
    }
   },
   "source": [
    "## Stacking Dataframes Vertically\n",
    "- Adds rows vertially with the `concat` function\n",
    "- The index is not automatically reset\n",
    "- In R referred to as a row bind."
   ]
  },
  {
   "cell_type": "code",
   "execution_count": 40,
   "metadata": {
    "colab": {},
    "colab_type": "code",
    "id": "kr1KXy9XBFgD"
   },
   "outputs": [
    {
     "name": "stdout",
     "output_type": "stream",
     "text": [
      "           a          b          c          d\n",
      "0  16.893059  25.885341  22.068815  19.039558\n",
      "1  27.221493  17.918283  14.450372  24.415742\n",
      "2  25.619524  16.582875  20.884351  26.166867\n",
      "3  11.857315  30.438764  19.888557  18.773289\n",
      "4  18.709048  26.241536  26.417386  21.313270\n",
      "5  17.468140  26.410249  16.243317  22.052670\n",
      "6  17.076821  20.711315  12.263877  33.822549\n",
      "7  19.404227  15.105724  19.463094  16.664991\n",
      "8  18.416655  14.021977  14.730608  23.097398\n",
      "9  24.587712  18.643175  15.316151  23.858437\n",
      "0  12.895431  24.298769  34.350341  14.094430\n",
      "1  17.939641  16.764677  25.101999  12.168744\n",
      "2  21.199226  30.869133  23.030872  18.242513\n",
      "3  11.742337  22.979840  21.176486  11.114610\n",
      "4  24.343862  25.034905  17.279498  18.064782\n",
      "5  34.653305  20.607733  22.550087  18.116804\n",
      "6  25.179381  15.675951  21.689426  18.384009\n",
      "7  21.982045  15.554105  13.268245  18.952697\n",
      "8  20.238910  22.098986  14.103107  16.716441\n",
      "9  19.026194   7.908182  20.155621  23.904801\n"
     ]
    }
   ],
   "source": [
    "#This first generates 2 dataframes. \n",
    "df = pd.DataFrame((20+np.random.randn(10, 4)*5),  columns=['a', 'b', 'c', 'd'] )\n",
    "df2 = pd.DataFrame((20+np.random.randn(10, 4)*5),  columns=['a', 'b', 'c', 'd'] )\n",
    "\n",
    "#This will stack the 2 dataframes vertically on top of one another\n",
    "dfbyrow=pd.concat([df, df2])  #This is equivalent to a rowbind in R. \n",
    "print (dfbyrow)"
   ]
  },
  {
   "cell_type": "code",
   "execution_count": 41,
   "metadata": {
    "colab": {},
    "colab_type": "code",
    "id": "ch5RiwEJBFgF"
   },
   "outputs": [
    {
     "name": "stdout",
     "output_type": "stream",
     "text": [
      "           a          b          c          d\n",
      "0  16.893059  25.885341  22.068815  19.039558\n",
      "1  27.221493  17.918283  14.450372  24.415742\n",
      "2  25.619524  16.582875  20.884351  26.166867\n",
      "3  11.857315  30.438764  19.888557  18.773289\n",
      "4  18.709048  26.241536  26.417386  21.313270\n",
      "5  17.468140  26.410249  16.243317  22.052670\n",
      "6  17.076821  20.711315  12.263877  33.822549\n",
      "7  19.404227  15.105724  19.463094  16.664991\n",
      "8  18.416655  14.021977  14.730608  23.097398\n",
      "9  24.587712  18.643175  15.316151  23.858437\n",
      "0  12.895431  24.298769  34.350341  14.094430\n",
      "1  17.939641  16.764677  25.101999  12.168744\n",
      "2  21.199226  30.869133  23.030872  18.242513\n",
      "3  11.742337  22.979840  21.176486  11.114610\n",
      "4  24.343862  25.034905  17.279498  18.064782\n",
      "5  34.653305  20.607733  22.550087  18.116804\n",
      "6  25.179381  15.675951  21.689426  18.384009\n",
      "7  21.982045  15.554105  13.268245  18.952697\n",
      "8  20.238910  22.098986  14.103107  16.716441\n",
      "9  19.026194   7.908182  20.155621  23.904801\n",
      "            a          b          c          d\n",
      "0   16.893059  25.885341  22.068815  19.039558\n",
      "1   27.221493  17.918283  14.450372  24.415742\n",
      "2   25.619524  16.582875  20.884351  26.166867\n",
      "3   11.857315  30.438764  19.888557  18.773289\n",
      "4   18.709048  26.241536  26.417386  21.313270\n",
      "5   17.468140  26.410249  16.243317  22.052670\n",
      "6   17.076821  20.711315  12.263877  33.822549\n",
      "7   19.404227  15.105724  19.463094  16.664991\n",
      "8   18.416655  14.021977  14.730608  23.097398\n",
      "9   24.587712  18.643175  15.316151  23.858437\n",
      "10  16.893059  25.885341  22.068815  19.039558\n",
      "11  27.221493  17.918283  14.450372  24.415742\n",
      "12  25.619524  16.582875  20.884351  26.166867\n",
      "13  11.857315  30.438764  19.888557  18.773289\n",
      "14  18.709048  26.241536  26.417386  21.313270\n",
      "15  17.468140  26.410249  16.243317  22.052670\n",
      "16  17.076821  20.711315  12.263877  33.822549\n",
      "17  19.404227  15.105724  19.463094  16.664991\n",
      "18  18.416655  14.021977  14.730608  23.097398\n",
      "19  24.587712  18.643175  15.316151  23.858437\n"
     ]
    },
    {
     "name": "stderr",
     "output_type": "stream",
     "text": [
      "/var/folders/0y/0vzl10290_qdfyzcwftxcg_h0000gn/T/ipykernel_14186/4281054815.py:3: FutureWarning: The frame.append method is deprecated and will be removed from pandas in a future version. Use pandas.concat instead.\n",
      "  addition = df.append(df2)\n",
      "/var/folders/0y/0vzl10290_qdfyzcwftxcg_h0000gn/T/ipykernel_14186/4281054815.py:5: FutureWarning: The frame.append method is deprecated and will be removed from pandas in a future version. Use pandas.concat instead.\n",
      "  addition2 = df.append(df, ignore_index=True)\n"
     ]
    }
   ],
   "source": [
    "# View how the index here from df has been reset and incremented while in the earlier example the index was kept. \n",
    "\n",
    "addition = df.append(df2)\n",
    "print(addition )\n",
    "addition2 = df.append(df, ignore_index=True)\n",
    "print(addition2 )\n"
   ]
  },
  {
   "cell_type": "markdown",
   "metadata": {
    "colab_type": "text",
    "id": "bX-8Wpt0BFgJ",
    "slideshow": {
     "slide_type": "subslide"
    }
   },
   "source": [
    "## Inner/Outer Joins Dataframes\n",
    "- Adds rows vertially with the `concat` function\n",
    "- In R referred to as a column bind.\n",
    "- Can do the equivalent of an inner and outer join."
   ]
  },
  {
   "cell_type": "code",
   "execution_count": 42,
   "metadata": {
    "colab": {},
    "colab_type": "code",
    "id": "NtSYSiG_BFgJ"
   },
   "outputs": [
    {
     "data": {
      "text/plain": "           a          b          c          d          e          f  \\\n0  17.874156  11.672668  19.769914  23.843751  23.305182  22.642728   \n1  16.123274  10.807508  18.959447  19.940548  10.073660  19.056066   \n2  20.425800  22.981659  20.552113  23.804759  20.642844  22.637899   \n3  16.187621  32.859948  17.223875  32.823885  20.672689  15.572526   \n4  15.371422  14.893768  17.661157  18.321656  24.512646  16.147836   \n5  10.777733  16.979972  19.183934  21.493199  25.128113  20.539421   \n6   9.692507  23.164489  17.484481  18.757806  27.414731  27.626994   \n7  21.679001  17.355258  26.268538  17.874577  15.827726  16.744428   \n8  18.138469   8.479365  18.328450  20.639819  17.532386  18.601033   \n9  27.266263  23.790622  17.410638  24.528810  21.645777  15.817323   \n\n           g          h  \n0  25.531010  24.176933  \n1  15.551955  22.480307  \n2  26.130168  23.256534  \n3  16.448699  18.086193  \n4  28.041742  25.146067  \n5  17.257075  20.831761  \n6  12.941414  22.453795  \n7  19.633965  14.277357  \n8  30.574619  15.341819  \n9  22.182230  16.669457  ",
      "text/html": "<div>\n<style scoped>\n    .dataframe tbody tr th:only-of-type {\n        vertical-align: middle;\n    }\n\n    .dataframe tbody tr th {\n        vertical-align: top;\n    }\n\n    .dataframe thead th {\n        text-align: right;\n    }\n</style>\n<table border=\"1\" class=\"dataframe\">\n  <thead>\n    <tr style=\"text-align: right;\">\n      <th></th>\n      <th>a</th>\n      <th>b</th>\n      <th>c</th>\n      <th>d</th>\n      <th>e</th>\n      <th>f</th>\n      <th>g</th>\n      <th>h</th>\n    </tr>\n  </thead>\n  <tbody>\n    <tr>\n      <th>0</th>\n      <td>17.874156</td>\n      <td>11.672668</td>\n      <td>19.769914</td>\n      <td>23.843751</td>\n      <td>23.305182</td>\n      <td>22.642728</td>\n      <td>25.531010</td>\n      <td>24.176933</td>\n    </tr>\n    <tr>\n      <th>1</th>\n      <td>16.123274</td>\n      <td>10.807508</td>\n      <td>18.959447</td>\n      <td>19.940548</td>\n      <td>10.073660</td>\n      <td>19.056066</td>\n      <td>15.551955</td>\n      <td>22.480307</td>\n    </tr>\n    <tr>\n      <th>2</th>\n      <td>20.425800</td>\n      <td>22.981659</td>\n      <td>20.552113</td>\n      <td>23.804759</td>\n      <td>20.642844</td>\n      <td>22.637899</td>\n      <td>26.130168</td>\n      <td>23.256534</td>\n    </tr>\n    <tr>\n      <th>3</th>\n      <td>16.187621</td>\n      <td>32.859948</td>\n      <td>17.223875</td>\n      <td>32.823885</td>\n      <td>20.672689</td>\n      <td>15.572526</td>\n      <td>16.448699</td>\n      <td>18.086193</td>\n    </tr>\n    <tr>\n      <th>4</th>\n      <td>15.371422</td>\n      <td>14.893768</td>\n      <td>17.661157</td>\n      <td>18.321656</td>\n      <td>24.512646</td>\n      <td>16.147836</td>\n      <td>28.041742</td>\n      <td>25.146067</td>\n    </tr>\n    <tr>\n      <th>5</th>\n      <td>10.777733</td>\n      <td>16.979972</td>\n      <td>19.183934</td>\n      <td>21.493199</td>\n      <td>25.128113</td>\n      <td>20.539421</td>\n      <td>17.257075</td>\n      <td>20.831761</td>\n    </tr>\n    <tr>\n      <th>6</th>\n      <td>9.692507</td>\n      <td>23.164489</td>\n      <td>17.484481</td>\n      <td>18.757806</td>\n      <td>27.414731</td>\n      <td>27.626994</td>\n      <td>12.941414</td>\n      <td>22.453795</td>\n    </tr>\n    <tr>\n      <th>7</th>\n      <td>21.679001</td>\n      <td>17.355258</td>\n      <td>26.268538</td>\n      <td>17.874577</td>\n      <td>15.827726</td>\n      <td>16.744428</td>\n      <td>19.633965</td>\n      <td>14.277357</td>\n    </tr>\n    <tr>\n      <th>8</th>\n      <td>18.138469</td>\n      <td>8.479365</td>\n      <td>18.328450</td>\n      <td>20.639819</td>\n      <td>17.532386</td>\n      <td>18.601033</td>\n      <td>30.574619</td>\n      <td>15.341819</td>\n    </tr>\n    <tr>\n      <th>9</th>\n      <td>27.266263</td>\n      <td>23.790622</td>\n      <td>17.410638</td>\n      <td>24.528810</td>\n      <td>21.645777</td>\n      <td>15.817323</td>\n      <td>22.182230</td>\n      <td>16.669457</td>\n    </tr>\n  </tbody>\n</table>\n</div>"
     },
     "execution_count": 42,
     "metadata": {},
     "output_type": "execute_result"
    }
   ],
   "source": [
    "#Merging additional columns also uses the concat function \n",
    "#This is equavalent to an inner join in SQL.\n",
    "df = pd.DataFrame((20+np.random.randn(10, 4)*5),  columns=['a', 'b', 'c', 'd'] )\n",
    "df4 = pd.DataFrame((20+np.random.randn(10, 4)*5),  columns=['e', 'f', 'g', 'h'] )\n",
    "\n",
    "\n",
    "dfbycolumns = pd.concat([df, df4], axis=1, join='inner')\n",
    "dfbycolumns"
   ]
  },
  {
   "cell_type": "code",
   "execution_count": 43,
   "metadata": {
    "colab": {},
    "colab_type": "code",
    "id": "aqIR1WQ8BFgL"
   },
   "outputs": [
    {
     "data": {
      "text/plain": "           a          b          c          d          a          b  \\\n0  17.874156  11.672668  19.769914  23.843751  17.874156  11.672668   \n1  16.123274  10.807508  18.959447  19.940548  16.123274  10.807508   \n2  20.425800  22.981659  20.552113  23.804759  20.425800  22.981659   \n3  16.187621  32.859948  17.223875  32.823885  16.187621  32.859948   \n4  15.371422  14.893768  17.661157  18.321656  15.371422  14.893768   \n\n           c          d  \n0  19.769914  23.843751  \n1  18.959447  19.940548  \n2  20.552113  23.804759  \n3  17.223875  32.823885  \n4  17.661157  18.321656  ",
      "text/html": "<div>\n<style scoped>\n    .dataframe tbody tr th:only-of-type {\n        vertical-align: middle;\n    }\n\n    .dataframe tbody tr th {\n        vertical-align: top;\n    }\n\n    .dataframe thead th {\n        text-align: right;\n    }\n</style>\n<table border=\"1\" class=\"dataframe\">\n  <thead>\n    <tr style=\"text-align: right;\">\n      <th></th>\n      <th>a</th>\n      <th>b</th>\n      <th>c</th>\n      <th>d</th>\n      <th>a</th>\n      <th>b</th>\n      <th>c</th>\n      <th>d</th>\n    </tr>\n  </thead>\n  <tbody>\n    <tr>\n      <th>0</th>\n      <td>17.874156</td>\n      <td>11.672668</td>\n      <td>19.769914</td>\n      <td>23.843751</td>\n      <td>17.874156</td>\n      <td>11.672668</td>\n      <td>19.769914</td>\n      <td>23.843751</td>\n    </tr>\n    <tr>\n      <th>1</th>\n      <td>16.123274</td>\n      <td>10.807508</td>\n      <td>18.959447</td>\n      <td>19.940548</td>\n      <td>16.123274</td>\n      <td>10.807508</td>\n      <td>18.959447</td>\n      <td>19.940548</td>\n    </tr>\n    <tr>\n      <th>2</th>\n      <td>20.425800</td>\n      <td>22.981659</td>\n      <td>20.552113</td>\n      <td>23.804759</td>\n      <td>20.425800</td>\n      <td>22.981659</td>\n      <td>20.552113</td>\n      <td>23.804759</td>\n    </tr>\n    <tr>\n      <th>3</th>\n      <td>16.187621</td>\n      <td>32.859948</td>\n      <td>17.223875</td>\n      <td>32.823885</td>\n      <td>16.187621</td>\n      <td>32.859948</td>\n      <td>17.223875</td>\n      <td>32.823885</td>\n    </tr>\n    <tr>\n      <th>4</th>\n      <td>15.371422</td>\n      <td>14.893768</td>\n      <td>17.661157</td>\n      <td>18.321656</td>\n      <td>15.371422</td>\n      <td>14.893768</td>\n      <td>17.661157</td>\n      <td>18.321656</td>\n    </tr>\n  </tbody>\n</table>\n</div>"
     },
     "execution_count": 43,
     "metadata": {},
     "output_type": "execute_result"
    }
   ],
   "source": [
    "#Here we are generating a small dataframe to be used in merging so you can see the differences in specifying inner & outer, \n",
    "shortdf=df[0:5]\n",
    "dfbycolumns = pd.concat([df, shortdf], axis=1, join='inner')\n",
    "dfbycolumns"
   ]
  },
  {
   "cell_type": "code",
   "execution_count": 44,
   "metadata": {
    "colab": {},
    "colab_type": "code",
    "id": "qlDpQ-5nBFgO"
   },
   "outputs": [
    {
     "data": {
      "text/plain": "           a          b          c          d          a          b  \\\n0  17.874156  11.672668  19.769914  23.843751  17.874156  11.672668   \n1  16.123274  10.807508  18.959447  19.940548  16.123274  10.807508   \n2  20.425800  22.981659  20.552113  23.804759  20.425800  22.981659   \n3  16.187621  32.859948  17.223875  32.823885  16.187621  32.859948   \n4  15.371422  14.893768  17.661157  18.321656  15.371422  14.893768   \n5  10.777733  16.979972  19.183934  21.493199        NaN        NaN   \n6   9.692507  23.164489  17.484481  18.757806        NaN        NaN   \n7  21.679001  17.355258  26.268538  17.874577        NaN        NaN   \n8  18.138469   8.479365  18.328450  20.639819        NaN        NaN   \n9  27.266263  23.790622  17.410638  24.528810        NaN        NaN   \n\n           c          d  \n0  19.769914  23.843751  \n1  18.959447  19.940548  \n2  20.552113  23.804759  \n3  17.223875  32.823885  \n4  17.661157  18.321656  \n5        NaN        NaN  \n6        NaN        NaN  \n7        NaN        NaN  \n8        NaN        NaN  \n9        NaN        NaN  ",
      "text/html": "<div>\n<style scoped>\n    .dataframe tbody tr th:only-of-type {\n        vertical-align: middle;\n    }\n\n    .dataframe tbody tr th {\n        vertical-align: top;\n    }\n\n    .dataframe thead th {\n        text-align: right;\n    }\n</style>\n<table border=\"1\" class=\"dataframe\">\n  <thead>\n    <tr style=\"text-align: right;\">\n      <th></th>\n      <th>a</th>\n      <th>b</th>\n      <th>c</th>\n      <th>d</th>\n      <th>a</th>\n      <th>b</th>\n      <th>c</th>\n      <th>d</th>\n    </tr>\n  </thead>\n  <tbody>\n    <tr>\n      <th>0</th>\n      <td>17.874156</td>\n      <td>11.672668</td>\n      <td>19.769914</td>\n      <td>23.843751</td>\n      <td>17.874156</td>\n      <td>11.672668</td>\n      <td>19.769914</td>\n      <td>23.843751</td>\n    </tr>\n    <tr>\n      <th>1</th>\n      <td>16.123274</td>\n      <td>10.807508</td>\n      <td>18.959447</td>\n      <td>19.940548</td>\n      <td>16.123274</td>\n      <td>10.807508</td>\n      <td>18.959447</td>\n      <td>19.940548</td>\n    </tr>\n    <tr>\n      <th>2</th>\n      <td>20.425800</td>\n      <td>22.981659</td>\n      <td>20.552113</td>\n      <td>23.804759</td>\n      <td>20.425800</td>\n      <td>22.981659</td>\n      <td>20.552113</td>\n      <td>23.804759</td>\n    </tr>\n    <tr>\n      <th>3</th>\n      <td>16.187621</td>\n      <td>32.859948</td>\n      <td>17.223875</td>\n      <td>32.823885</td>\n      <td>16.187621</td>\n      <td>32.859948</td>\n      <td>17.223875</td>\n      <td>32.823885</td>\n    </tr>\n    <tr>\n      <th>4</th>\n      <td>15.371422</td>\n      <td>14.893768</td>\n      <td>17.661157</td>\n      <td>18.321656</td>\n      <td>15.371422</td>\n      <td>14.893768</td>\n      <td>17.661157</td>\n      <td>18.321656</td>\n    </tr>\n    <tr>\n      <th>5</th>\n      <td>10.777733</td>\n      <td>16.979972</td>\n      <td>19.183934</td>\n      <td>21.493199</td>\n      <td>NaN</td>\n      <td>NaN</td>\n      <td>NaN</td>\n      <td>NaN</td>\n    </tr>\n    <tr>\n      <th>6</th>\n      <td>9.692507</td>\n      <td>23.164489</td>\n      <td>17.484481</td>\n      <td>18.757806</td>\n      <td>NaN</td>\n      <td>NaN</td>\n      <td>NaN</td>\n      <td>NaN</td>\n    </tr>\n    <tr>\n      <th>7</th>\n      <td>21.679001</td>\n      <td>17.355258</td>\n      <td>26.268538</td>\n      <td>17.874577</td>\n      <td>NaN</td>\n      <td>NaN</td>\n      <td>NaN</td>\n      <td>NaN</td>\n    </tr>\n    <tr>\n      <th>8</th>\n      <td>18.138469</td>\n      <td>8.479365</td>\n      <td>18.328450</td>\n      <td>20.639819</td>\n      <td>NaN</td>\n      <td>NaN</td>\n      <td>NaN</td>\n      <td>NaN</td>\n    </tr>\n    <tr>\n      <th>9</th>\n      <td>27.266263</td>\n      <td>23.790622</td>\n      <td>17.410638</td>\n      <td>24.528810</td>\n      <td>NaN</td>\n      <td>NaN</td>\n      <td>NaN</td>\n      <td>NaN</td>\n    </tr>\n  </tbody>\n</table>\n</div>"
     },
     "execution_count": 44,
     "metadata": {},
     "output_type": "execute_result"
    }
   ],
   "source": [
    "#Here, the outer does the equivalent of a left outer join for this dataset. \n",
    "shortdf=df[0:5]\n",
    "dfbycolumns = pd.concat([df, shortdf], axis=1, join='outer')\n",
    "dfbycolumns"
   ]
  },
  {
   "cell_type": "markdown",
   "metadata": {
    "colab_type": "text",
    "id": "BWrjyMowBFgQ"
   },
   "source": [
    "Copyright [AnalyticsDojo](http://rpi.analyticsdojo.com) 2016.\n",
    "This work is licensed under the [Creative Commons Attribution 4.0 International](https://creativecommons.org/licenses/by/4.0/) license agreement."
   ]
  },
  {
   "cell_type": "markdown",
   "metadata": {
    "colab_type": "text",
    "id": "BUNhNQ75BFgR",
    "slideshow": {
     "slide_type": "slide"
    }
   },
   "source": [
    "## CREDITS\n",
    "\n",
    "#### Large sections of this were adopted from Analysing structured data with Pandas by [Steve Phelps](http://sphelps.net).  Thanks Steve!\n",
    "\n",
    "\n",
    "This work is licensed under the [Creative Commons Attribution 4.0 International](https://creativecommons.org/licenses/by/4.0/) license agreement.\n",
    "\n"
   ]
  },
  {
   "cell_type": "code",
   "execution_count": 44,
   "metadata": {},
   "outputs": [],
   "source": []
  }
 ],
 "metadata": {
  "colab": {
   "name": "04-intro-python-pandas.ipynb",
   "provenance": [],
   "version": "0.3.2"
  },
  "kernelspec": {
   "display_name": "Python 3",
   "language": "python",
   "name": "python3"
  },
  "language_info": {
   "codemirror_mode": {
    "name": "ipython",
    "version": 3
   },
   "file_extension": ".py",
   "mimetype": "text/x-python",
   "name": "python",
   "nbconvert_exporter": "python",
   "pygments_lexer": "ipython3",
   "version": "3.7.6"
  }
 },
 "nbformat": 4,
 "nbformat_minor": 4
}
