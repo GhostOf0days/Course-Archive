{
 "cells": [
  {
   "cell_type": "markdown",
   "metadata": {
    "colab_type": "text",
    "id": "DrAOddDUllII"
   },
   "source": [
    "[![AnalyticsDojo](https://github.com/rpi-techfundamentals/spring2019-materials/blob/master/fig/final-logo.png?raw=1)](http://rpi.analyticsdojo.com)\n",
    "<center><h1> What's Cooking  in Python</h1></center>\n",
    "<center><h3><a href = 'http://rpi.analyticsdojo.com'>rpi.analyticsdojo.com</a></h3></center>"
   ]
  },
  {
   "cell_type": "markdown",
   "metadata": {},
   "source": [
    "# What's Cooking in Python"
   ]
  },
  {
   "cell_type": "markdown",
   "metadata": {
    "colab_type": "text",
    "id": "bHLqWxDAk3ix"
   },
   "source": [
    "\n",
    "This was adopted from. \n",
    "https://www.kaggle.com/manuelatadvice/whats-cooking/noname/code"
   ]
  },
  {
   "cell_type": "code",
   "execution_count": 41,
   "metadata": {
    "colab": {},
    "colab_type": "code",
    "id": "a6h3zUT8k3jI"
   },
   "outputs": [],
   "source": [
    "import re\n",
    "from urllib.request import urlopen\n",
    "\n",
    "import nltk\n",
    "import pandas as pd\n",
    "from nltk.stem import WordNetLemmatizer\n",
    "from sklearn.feature_extraction.text import TfidfVectorizer\n",
    "from sklearn.linear_model import LogisticRegression"
   ]
  },
  {
   "cell_type": "code",
   "execution_count": 42,
   "outputs": [
    {
     "name": "stderr",
     "output_type": "stream",
     "text": [
      "[nltk_data] Downloading package omw-1.4 to /Users/minor/nltk_data...\n",
      "[nltk_data]   Package omw-1.4 is already up-to-date!\n",
      "[nltk_data] Downloading package wordnet to /Users/minor/nltk_data...\n",
      "[nltk_data]   Package wordnet is already up-to-date!\n"
     ]
    },
    {
     "data": {
      "text/plain": "True"
     },
     "execution_count": 42,
     "metadata": {},
     "output_type": "execute_result"
    }
   ],
   "source": [
    "nltk.download(\"omw-1.4\")\n",
    "nltk.download('wordnet')"
   ],
   "metadata": {
    "collapsed": false
   }
  },
  {
   "cell_type": "code",
   "execution_count": 43,
   "metadata": {
    "colab": {},
    "colab_type": "code",
    "id": "AC79CRkSk3jR"
   },
   "outputs": [],
   "source": [
    "train_df = pd.read_json(urlopen('https://raw.githubusercontent.com/RPI-Analytics/MGMT6963-2015/master/data/whatscooking/whatscookingtrain.json'))\n",
    "test_df = pd.read_json(urlopen('https://raw.githubusercontent.com/RPI-Analytics/MGMT6963-2015/master/data/whatscooking/whatscookingtest.json'))"
   ]
  },
  {
   "cell_type": "code",
   "execution_count": 44,
   "outputs": [
    {
     "data": {
      "text/plain": "          id      cuisine                                        ingredients\n0      10259        greek  [romaine lettuce, black olives, grape tomatoes...\n1      25693  southern_us  [plain flour, ground pepper, salt, tomatoes, g...\n2      20130     filipino  [eggs, pepper, salt, mayonaise, cooking oil, g...\n3      22213       indian                [water, vegetable oil, wheat, salt]\n4      13162       indian  [black pepper, shallots, cornflour, cayenne pe...\n...      ...          ...                                                ...\n39769  29109        irish  [light brown sugar, granulated sugar, butter, ...\n39770  11462      italian  [KRAFT Zesty Italian Dressing, purple onion, b...\n39771   2238        irish  [eggs, citrus fruit, raisins, sourdough starte...\n39772  41882      chinese  [boneless chicken skinless thigh, minced garli...\n39773   2362      mexican  [green chile, jalapeno chilies, onions, ground...\n\n[39774 rows x 3 columns]",
      "text/html": "<div>\n<style scoped>\n    .dataframe tbody tr th:only-of-type {\n        vertical-align: middle;\n    }\n\n    .dataframe tbody tr th {\n        vertical-align: top;\n    }\n\n    .dataframe thead th {\n        text-align: right;\n    }\n</style>\n<table border=\"1\" class=\"dataframe\">\n  <thead>\n    <tr style=\"text-align: right;\">\n      <th></th>\n      <th>id</th>\n      <th>cuisine</th>\n      <th>ingredients</th>\n    </tr>\n  </thead>\n  <tbody>\n    <tr>\n      <th>0</th>\n      <td>10259</td>\n      <td>greek</td>\n      <td>[romaine lettuce, black olives, grape tomatoes...</td>\n    </tr>\n    <tr>\n      <th>1</th>\n      <td>25693</td>\n      <td>southern_us</td>\n      <td>[plain flour, ground pepper, salt, tomatoes, g...</td>\n    </tr>\n    <tr>\n      <th>2</th>\n      <td>20130</td>\n      <td>filipino</td>\n      <td>[eggs, pepper, salt, mayonaise, cooking oil, g...</td>\n    </tr>\n    <tr>\n      <th>3</th>\n      <td>22213</td>\n      <td>indian</td>\n      <td>[water, vegetable oil, wheat, salt]</td>\n    </tr>\n    <tr>\n      <th>4</th>\n      <td>13162</td>\n      <td>indian</td>\n      <td>[black pepper, shallots, cornflour, cayenne pe...</td>\n    </tr>\n    <tr>\n      <th>...</th>\n      <td>...</td>\n      <td>...</td>\n      <td>...</td>\n    </tr>\n    <tr>\n      <th>39769</th>\n      <td>29109</td>\n      <td>irish</td>\n      <td>[light brown sugar, granulated sugar, butter, ...</td>\n    </tr>\n    <tr>\n      <th>39770</th>\n      <td>11462</td>\n      <td>italian</td>\n      <td>[KRAFT Zesty Italian Dressing, purple onion, b...</td>\n    </tr>\n    <tr>\n      <th>39771</th>\n      <td>2238</td>\n      <td>irish</td>\n      <td>[eggs, citrus fruit, raisins, sourdough starte...</td>\n    </tr>\n    <tr>\n      <th>39772</th>\n      <td>41882</td>\n      <td>chinese</td>\n      <td>[boneless chicken skinless thigh, minced garli...</td>\n    </tr>\n    <tr>\n      <th>39773</th>\n      <td>2362</td>\n      <td>mexican</td>\n      <td>[green chile, jalapeno chilies, onions, ground...</td>\n    </tr>\n  </tbody>\n</table>\n<p>39774 rows × 3 columns</p>\n</div>"
     },
     "execution_count": 44,
     "metadata": {},
     "output_type": "execute_result"
    }
   ],
   "source": [
    "train_df"
   ],
   "metadata": {
    "collapsed": false
   }
  },
  {
   "cell_type": "code",
   "execution_count": 45,
   "outputs": [
    {
     "data": {
      "text/plain": "         id                                        ingredients\n0     18009  [baking powder, eggs, all-purpose flour, raisi...\n1     28583  [sugar, egg yolks, corn starch, cream of tarta...\n2     41580  [sausage links, fennel bulb, fronds, olive oil...\n3     29752  [meat cuts, file powder, smoked sausage, okra,...\n4     35687  [ground black pepper, salt, sausage casings, l...\n...     ...                                                ...\n9939  30246  [large egg yolks, fresh lemon juice, sugar, bo...\n9940  36028  [hot sauce, butter, sweet potatoes, adobo sauc...\n9941  22339  [black pepper, salt, parmigiano reggiano chees...\n9942  42525  [cheddar cheese, cayenne, paprika, plum tomato...\n9943   1443  [cold water, olive oil, lime wedges, garlic cl...\n\n[9944 rows x 2 columns]",
      "text/html": "<div>\n<style scoped>\n    .dataframe tbody tr th:only-of-type {\n        vertical-align: middle;\n    }\n\n    .dataframe tbody tr th {\n        vertical-align: top;\n    }\n\n    .dataframe thead th {\n        text-align: right;\n    }\n</style>\n<table border=\"1\" class=\"dataframe\">\n  <thead>\n    <tr style=\"text-align: right;\">\n      <th></th>\n      <th>id</th>\n      <th>ingredients</th>\n    </tr>\n  </thead>\n  <tbody>\n    <tr>\n      <th>0</th>\n      <td>18009</td>\n      <td>[baking powder, eggs, all-purpose flour, raisi...</td>\n    </tr>\n    <tr>\n      <th>1</th>\n      <td>28583</td>\n      <td>[sugar, egg yolks, corn starch, cream of tarta...</td>\n    </tr>\n    <tr>\n      <th>2</th>\n      <td>41580</td>\n      <td>[sausage links, fennel bulb, fronds, olive oil...</td>\n    </tr>\n    <tr>\n      <th>3</th>\n      <td>29752</td>\n      <td>[meat cuts, file powder, smoked sausage, okra,...</td>\n    </tr>\n    <tr>\n      <th>4</th>\n      <td>35687</td>\n      <td>[ground black pepper, salt, sausage casings, l...</td>\n    </tr>\n    <tr>\n      <th>...</th>\n      <td>...</td>\n      <td>...</td>\n    </tr>\n    <tr>\n      <th>9939</th>\n      <td>30246</td>\n      <td>[large egg yolks, fresh lemon juice, sugar, bo...</td>\n    </tr>\n    <tr>\n      <th>9940</th>\n      <td>36028</td>\n      <td>[hot sauce, butter, sweet potatoes, adobo sauc...</td>\n    </tr>\n    <tr>\n      <th>9941</th>\n      <td>22339</td>\n      <td>[black pepper, salt, parmigiano reggiano chees...</td>\n    </tr>\n    <tr>\n      <th>9942</th>\n      <td>42525</td>\n      <td>[cheddar cheese, cayenne, paprika, plum tomato...</td>\n    </tr>\n    <tr>\n      <th>9943</th>\n      <td>1443</td>\n      <td>[cold water, olive oil, lime wedges, garlic cl...</td>\n    </tr>\n  </tbody>\n</table>\n<p>9944 rows × 2 columns</p>\n</div>"
     },
     "execution_count": 45,
     "metadata": {},
     "output_type": "execute_result"
    }
   ],
   "source": [
    "test_df"
   ],
   "metadata": {
    "collapsed": false
   }
  },
  {
   "cell_type": "code",
   "execution_count": 46,
   "metadata": {
    "colab": {
     "base_uri": "https://localhost:8080/",
     "height": 419
    },
    "colab_type": "code",
    "id": "lwaAOau8k3jX",
    "outputId": "288125bc-ed6c-469c-8664-1d4b0de92e1d"
   },
   "outputs": [
    {
     "data": {
      "text/plain": "cuisine\nbrazilian        467\nbritish          804\ncajun_creole    1546\nchinese         2673\nfilipino         755\nfrench          2646\ngreek           1175\nindian          3003\nirish            667\nitalian         7838\njamaican         526\njapanese        1423\nkorean           830\nmexican         6438\nmoroccan         821\nrussian          489\nsouthern_us     4320\nspanish          989\nthai            1539\nvietnamese       825\ndtype: int64"
     },
     "execution_count": 46,
     "metadata": {},
     "output_type": "execute_result"
    }
   ],
   "source": [
    "#First we want to see the most popular cuisine for the naive model. \n",
    "train_df.groupby('cuisine').size()"
   ]
  },
  {
   "cell_type": "code",
   "execution_count": 47,
   "metadata": {
    "colab": {},
    "colab_type": "code",
    "id": "x4ucmrg3k3jb"
   },
   "outputs": [],
   "source": [
    "#Here we write the most popular selection.  This is the baseline by which we will judge other models. \n",
    "# test_df['cuisine']='italian'"
   ]
  },
  {
   "cell_type": "code",
   "execution_count": 48,
   "metadata": {
    "colab": {},
    "colab_type": "code",
    "id": "l0ijWbr4k3kR"
   },
   "outputs": [],
   "source": [
    "stemmer = WordNetLemmatizer()\n",
    "\n",
    "#To interpret this, read from right to left.\n",
    "train_df['ingredients_string1'] = [' '.join([stemmer.lemmatize(re.sub('[^A-Za-z]', ' ', line)) for line in lists]).strip() for lists in train_df['ingredients']]\n",
    "test_df['ingredients_string1'] = [' '.join([stemmer.lemmatize(re.sub('[^A-Za-z]', ' ', line)) for line in lists]).strip() for lists in test_df['ingredients']]"
   ]
  },
  {
   "cell_type": "code",
   "execution_count": 49,
   "metadata": {
    "colab": {
     "base_uri": "https://localhost:8080/",
     "height": 246
    },
    "colab_type": "code",
    "id": "QVs8QVzgk3kV",
    "outputId": "8a3939f9-4fed-4856-91e8-01123bb97190"
   },
   "outputs": [
    {
     "data": {
      "text/plain": "          id      cuisine                                        ingredients  \\\n0      10259        greek  [romaine lettuce, black olives, grape tomatoes...   \n1      25693  southern_us  [plain flour, ground pepper, salt, tomatoes, g...   \n2      20130     filipino  [eggs, pepper, salt, mayonaise, cooking oil, g...   \n3      22213       indian                [water, vegetable oil, wheat, salt]   \n4      13162       indian  [black pepper, shallots, cornflour, cayenne pe...   \n...      ...          ...                                                ...   \n39769  29109        irish  [light brown sugar, granulated sugar, butter, ...   \n39770  11462      italian  [KRAFT Zesty Italian Dressing, purple onion, b...   \n39771   2238        irish  [eggs, citrus fruit, raisins, sourdough starte...   \n39772  41882      chinese  [boneless chicken skinless thigh, minced garli...   \n39773   2362      mexican  [green chile, jalapeno chilies, onions, ground...   \n\n                                     ingredients_string1  \n0      romaine lettuce black olives grape tomatoes ga...  \n1      plain flour ground pepper salt tomato ground b...  \n2      egg pepper salt mayonaise cooking oil green ch...  \n3                         water vegetable oil wheat salt  \n4      black pepper shallot cornflour cayenne pepper ...  \n...                                                  ...  \n39769  light brown sugar granulated sugar butter warm...  \n39770  KRAFT Zesty Italian Dressing purple onion broc...  \n39771  egg citrus fruit raisin sourdough starter flou...  \n39772  boneless chicken skinless thigh minced garlic ...  \n39773  green chile jalapeno chilies onion ground blac...  \n\n[39774 rows x 4 columns]",
      "text/html": "<div>\n<style scoped>\n    .dataframe tbody tr th:only-of-type {\n        vertical-align: middle;\n    }\n\n    .dataframe tbody tr th {\n        vertical-align: top;\n    }\n\n    .dataframe thead th {\n        text-align: right;\n    }\n</style>\n<table border=\"1\" class=\"dataframe\">\n  <thead>\n    <tr style=\"text-align: right;\">\n      <th></th>\n      <th>id</th>\n      <th>cuisine</th>\n      <th>ingredients</th>\n      <th>ingredients_string1</th>\n    </tr>\n  </thead>\n  <tbody>\n    <tr>\n      <th>0</th>\n      <td>10259</td>\n      <td>greek</td>\n      <td>[romaine lettuce, black olives, grape tomatoes...</td>\n      <td>romaine lettuce black olives grape tomatoes ga...</td>\n    </tr>\n    <tr>\n      <th>1</th>\n      <td>25693</td>\n      <td>southern_us</td>\n      <td>[plain flour, ground pepper, salt, tomatoes, g...</td>\n      <td>plain flour ground pepper salt tomato ground b...</td>\n    </tr>\n    <tr>\n      <th>2</th>\n      <td>20130</td>\n      <td>filipino</td>\n      <td>[eggs, pepper, salt, mayonaise, cooking oil, g...</td>\n      <td>egg pepper salt mayonaise cooking oil green ch...</td>\n    </tr>\n    <tr>\n      <th>3</th>\n      <td>22213</td>\n      <td>indian</td>\n      <td>[water, vegetable oil, wheat, salt]</td>\n      <td>water vegetable oil wheat salt</td>\n    </tr>\n    <tr>\n      <th>4</th>\n      <td>13162</td>\n      <td>indian</td>\n      <td>[black pepper, shallots, cornflour, cayenne pe...</td>\n      <td>black pepper shallot cornflour cayenne pepper ...</td>\n    </tr>\n    <tr>\n      <th>...</th>\n      <td>...</td>\n      <td>...</td>\n      <td>...</td>\n      <td>...</td>\n    </tr>\n    <tr>\n      <th>39769</th>\n      <td>29109</td>\n      <td>irish</td>\n      <td>[light brown sugar, granulated sugar, butter, ...</td>\n      <td>light brown sugar granulated sugar butter warm...</td>\n    </tr>\n    <tr>\n      <th>39770</th>\n      <td>11462</td>\n      <td>italian</td>\n      <td>[KRAFT Zesty Italian Dressing, purple onion, b...</td>\n      <td>KRAFT Zesty Italian Dressing purple onion broc...</td>\n    </tr>\n    <tr>\n      <th>39771</th>\n      <td>2238</td>\n      <td>irish</td>\n      <td>[eggs, citrus fruit, raisins, sourdough starte...</td>\n      <td>egg citrus fruit raisin sourdough starter flou...</td>\n    </tr>\n    <tr>\n      <th>39772</th>\n      <td>41882</td>\n      <td>chinese</td>\n      <td>[boneless chicken skinless thigh, minced garli...</td>\n      <td>boneless chicken skinless thigh minced garlic ...</td>\n    </tr>\n    <tr>\n      <th>39773</th>\n      <td>2362</td>\n      <td>mexican</td>\n      <td>[green chile, jalapeno chilies, onions, ground...</td>\n      <td>green chile jalapeno chilies onion ground blac...</td>\n    </tr>\n  </tbody>\n</table>\n<p>39774 rows × 4 columns</p>\n</div>"
     },
     "execution_count": 49,
     "metadata": {},
     "output_type": "execute_result"
    }
   ],
   "source": [
    "train_df"
   ]
  },
  {
   "cell_type": "code",
   "execution_count": 50,
   "outputs": [
    {
     "data": {
      "text/plain": "         id                                        ingredients  \\\n0     18009  [baking powder, eggs, all-purpose flour, raisi...   \n1     28583  [sugar, egg yolks, corn starch, cream of tarta...   \n2     41580  [sausage links, fennel bulb, fronds, olive oil...   \n3     29752  [meat cuts, file powder, smoked sausage, okra,...   \n4     35687  [ground black pepper, salt, sausage casings, l...   \n...     ...                                                ...   \n9939  30246  [large egg yolks, fresh lemon juice, sugar, bo...   \n9940  36028  [hot sauce, butter, sweet potatoes, adobo sauc...   \n9941  22339  [black pepper, salt, parmigiano reggiano chees...   \n9942  42525  [cheddar cheese, cayenne, paprika, plum tomato...   \n9943   1443  [cold water, olive oil, lime wedges, garlic cl...   \n\n                                    ingredients_string1  \n0     baking powder egg all purpose flour raisin mil...  \n1     sugar egg yolks corn starch cream of tartar ba...  \n2     sausage links fennel bulb frond olive oil cuba...  \n3     meat cuts file powder smoked sausage okra shri...  \n4     ground black pepper salt sausage casings leek ...  \n...                                                 ...  \n9939  large egg yolks fresh lemon juice sugar bourbo...  \n9940   hot sauce butter sweet potatoes adobo sauce salt  \n9941  black pepper salt parmigiano reggiano cheese r...  \n9942  cheddar cheese cayenne paprika plum tomatoes g...  \n9943  cold water olive oil lime wedges garlic cloves...  \n\n[9944 rows x 3 columns]",
      "text/html": "<div>\n<style scoped>\n    .dataframe tbody tr th:only-of-type {\n        vertical-align: middle;\n    }\n\n    .dataframe tbody tr th {\n        vertical-align: top;\n    }\n\n    .dataframe thead th {\n        text-align: right;\n    }\n</style>\n<table border=\"1\" class=\"dataframe\">\n  <thead>\n    <tr style=\"text-align: right;\">\n      <th></th>\n      <th>id</th>\n      <th>ingredients</th>\n      <th>ingredients_string1</th>\n    </tr>\n  </thead>\n  <tbody>\n    <tr>\n      <th>0</th>\n      <td>18009</td>\n      <td>[baking powder, eggs, all-purpose flour, raisi...</td>\n      <td>baking powder egg all purpose flour raisin mil...</td>\n    </tr>\n    <tr>\n      <th>1</th>\n      <td>28583</td>\n      <td>[sugar, egg yolks, corn starch, cream of tarta...</td>\n      <td>sugar egg yolks corn starch cream of tartar ba...</td>\n    </tr>\n    <tr>\n      <th>2</th>\n      <td>41580</td>\n      <td>[sausage links, fennel bulb, fronds, olive oil...</td>\n      <td>sausage links fennel bulb frond olive oil cuba...</td>\n    </tr>\n    <tr>\n      <th>3</th>\n      <td>29752</td>\n      <td>[meat cuts, file powder, smoked sausage, okra,...</td>\n      <td>meat cuts file powder smoked sausage okra shri...</td>\n    </tr>\n    <tr>\n      <th>4</th>\n      <td>35687</td>\n      <td>[ground black pepper, salt, sausage casings, l...</td>\n      <td>ground black pepper salt sausage casings leek ...</td>\n    </tr>\n    <tr>\n      <th>...</th>\n      <td>...</td>\n      <td>...</td>\n      <td>...</td>\n    </tr>\n    <tr>\n      <th>9939</th>\n      <td>30246</td>\n      <td>[large egg yolks, fresh lemon juice, sugar, bo...</td>\n      <td>large egg yolks fresh lemon juice sugar bourbo...</td>\n    </tr>\n    <tr>\n      <th>9940</th>\n      <td>36028</td>\n      <td>[hot sauce, butter, sweet potatoes, adobo sauc...</td>\n      <td>hot sauce butter sweet potatoes adobo sauce salt</td>\n    </tr>\n    <tr>\n      <th>9941</th>\n      <td>22339</td>\n      <td>[black pepper, salt, parmigiano reggiano chees...</td>\n      <td>black pepper salt parmigiano reggiano cheese r...</td>\n    </tr>\n    <tr>\n      <th>9942</th>\n      <td>42525</td>\n      <td>[cheddar cheese, cayenne, paprika, plum tomato...</td>\n      <td>cheddar cheese cayenne paprika plum tomatoes g...</td>\n    </tr>\n    <tr>\n      <th>9943</th>\n      <td>1443</td>\n      <td>[cold water, olive oil, lime wedges, garlic cl...</td>\n      <td>cold water olive oil lime wedges garlic cloves...</td>\n    </tr>\n  </tbody>\n</table>\n<p>9944 rows × 3 columns</p>\n</div>"
     },
     "execution_count": 50,
     "metadata": {},
     "output_type": "execute_result"
    }
   ],
   "source": [
    "test_df"
   ],
   "metadata": {
    "collapsed": false
   }
  },
  {
   "cell_type": "code",
   "execution_count": 51,
   "metadata": {
    "colab": {},
    "colab_type": "code",
    "id": "PsUChFQpk3kd"
   },
   "outputs": [],
   "source": [
    "#http://scikit-learn.org/stable/modules/generated/sklearn.feature_extraction.text.TfidfVectorizer.html\n",
    "vectorizer = TfidfVectorizer(stop_words='english',\n",
    "                                   ngram_range = ( 1 , 1 ), analyzer=\"word\",\n",
    "                                   max_df = .57, binary=False, token_pattern=r'\\w+', sublinear_tf=False)\n",
    "# Challenge: try other vectorizers and their parameters, such as CountVectorizer (= Bag of Words)\n",
    "# vectorizer = TfidfVectorizer(stop_words='english')"
   ]
  },
  {
   "cell_type": "code",
   "execution_count": 52,
   "metadata": {
    "colab": {},
    "colab_type": "code",
    "id": "AVmoY41xk3kf"
   },
   "outputs": [],
   "source": [
    "#Note that this doesn't work with the #todense option.  \n",
    "train_vec = vectorizer.fit_transform(train_df[\"ingredients_string1\"])\n",
    "test_vec = vectorizer.transform(test_df[\"ingredients_string1\"])"
   ]
  },
  {
   "cell_type": "code",
   "execution_count": 53,
   "outputs": [
    {
     "data": {
      "text/plain": "<39774x2963 sparse matrix of type '<class 'numpy.float64'>'\n\twith 727921 stored elements in Compressed Sparse Row format>"
     },
     "execution_count": 53,
     "metadata": {},
     "output_type": "execute_result"
    }
   ],
   "source": [
    "train_vec"
   ],
   "metadata": {
    "collapsed": false
   }
  },
  {
   "cell_type": "code",
   "execution_count": 54,
   "outputs": [
    {
     "data": {
      "text/plain": "<9944x2963 sparse matrix of type '<class 'numpy.float64'>'\n\twith 182346 stored elements in Compressed Sparse Row format>"
     },
     "execution_count": 54,
     "metadata": {},
     "output_type": "execute_result"
    }
   ],
   "source": [
    "test_vec"
   ],
   "metadata": {
    "collapsed": false
   }
  },
  {
   "cell_type": "markdown",
   "metadata": {
    "colab_type": "text",
    "id": "8xeavXTck3kt"
   },
   "source": [
    "## Logistic Regression and Regularization.\n",
    "\n",
    "- Regularlization can help us with the large matrix by adding a penalty for each parameter. \n",
    "- Finding out how much regularization via grid search (search across hyperparameters.)\n",
    "\n",
    "http://scikit-learn.org/stable/modules/generated/sklearn.linear_model.LogisticRegression.html\n",
    "\n",
    "```C : float, default: 1.0\n",
    "Inverse of regularization strength; must be a positive float. Like in support vector machines, smaller values specify stronger regularization.```"
   ]
  },
  {
   "cell_type": "code",
   "execution_count": 56,
   "metadata": {
    "colab": {
     "base_uri": "https://localhost:8080/",
     "height": 142
    },
    "colab_type": "code",
    "id": "pWnl6CHSk3k1",
    "outputId": "7a03fb5f-7e08-431b-fcea-bcc6fda91141"
   },
   "outputs": [
    {
     "name": "stderr",
     "output_type": "stream",
     "text": [
      "/Users/minor/opt/anaconda3/lib/python3.9/site-packages/sklearn/linear_model/_logistic.py:814: ConvergenceWarning: lbfgs failed to converge (status=1):\n",
      "STOP: TOTAL NO. of ITERATIONS REACHED LIMIT.\n",
      "\n",
      "Increase the number of iterations (max_iter) or scale the data as shown in:\n",
      "    https://scikit-learn.org/stable/modules/preprocessing.html\n",
      "Please also refer to the documentation for alternative solver options:\n",
      "    https://scikit-learn.org/stable/modules/linear_model.html#logistic-regression\n",
      "  n_iter_i = _check_optimize_result(\n",
      "/Users/minor/opt/anaconda3/lib/python3.9/site-packages/sklearn/linear_model/_logistic.py:814: ConvergenceWarning: lbfgs failed to converge (status=1):\n",
      "STOP: TOTAL NO. of ITERATIONS REACHED LIMIT.\n",
      "\n",
      "Increase the number of iterations (max_iter) or scale the data as shown in:\n",
      "    https://scikit-learn.org/stable/modules/preprocessing.html\n",
      "Please also refer to the documentation for alternative solver options:\n",
      "    https://scikit-learn.org/stable/modules/linear_model.html#logistic-regression\n",
      "  n_iter_i = _check_optimize_result(\n",
      "/Users/minor/opt/anaconda3/lib/python3.9/site-packages/sklearn/linear_model/_logistic.py:814: ConvergenceWarning: lbfgs failed to converge (status=1):\n",
      "STOP: TOTAL NO. of ITERATIONS REACHED LIMIT.\n",
      "\n",
      "Increase the number of iterations (max_iter) or scale the data as shown in:\n",
      "    https://scikit-learn.org/stable/modules/preprocessing.html\n",
      "Please also refer to the documentation for alternative solver options:\n",
      "    https://scikit-learn.org/stable/modules/linear_model.html#logistic-regression\n",
      "  n_iter_i = _check_optimize_result(\n",
      "/Users/minor/opt/anaconda3/lib/python3.9/site-packages/sklearn/linear_model/_logistic.py:814: ConvergenceWarning: lbfgs failed to converge (status=1):\n",
      "STOP: TOTAL NO. of ITERATIONS REACHED LIMIT.\n",
      "\n",
      "Increase the number of iterations (max_iter) or scale the data as shown in:\n",
      "    https://scikit-learn.org/stable/modules/preprocessing.html\n",
      "Please also refer to the documentation for alternative solver options:\n",
      "    https://scikit-learn.org/stable/modules/linear_model.html#logistic-regression\n",
      "  n_iter_i = _check_optimize_result(\n",
      "/Users/minor/opt/anaconda3/lib/python3.9/site-packages/sklearn/linear_model/_logistic.py:814: ConvergenceWarning: lbfgs failed to converge (status=1):\n",
      "STOP: TOTAL NO. of ITERATIONS REACHED LIMIT.\n",
      "\n",
      "Increase the number of iterations (max_iter) or scale the data as shown in:\n",
      "    https://scikit-learn.org/stable/modules/preprocessing.html\n",
      "Please also refer to the documentation for alternative solver options:\n",
      "    https://scikit-learn.org/stable/modules/linear_model.html#logistic-regression\n",
      "  n_iter_i = _check_optimize_result(\n",
      "/Users/minor/opt/anaconda3/lib/python3.9/site-packages/sklearn/linear_model/_logistic.py:814: ConvergenceWarning: lbfgs failed to converge (status=1):\n",
      "STOP: TOTAL NO. of ITERATIONS REACHED LIMIT.\n",
      "\n",
      "Increase the number of iterations (max_iter) or scale the data as shown in:\n",
      "    https://scikit-learn.org/stable/modules/preprocessing.html\n",
      "Please also refer to the documentation for alternative solver options:\n",
      "    https://scikit-learn.org/stable/modules/linear_model.html#logistic-regression\n",
      "  n_iter_i = _check_optimize_result(\n",
      "/Users/minor/opt/anaconda3/lib/python3.9/site-packages/sklearn/linear_model/_logistic.py:814: ConvergenceWarning: lbfgs failed to converge (status=1):\n",
      "STOP: TOTAL NO. of ITERATIONS REACHED LIMIT.\n",
      "\n",
      "Increase the number of iterations (max_iter) or scale the data as shown in:\n",
      "    https://scikit-learn.org/stable/modules/preprocessing.html\n",
      "Please also refer to the documentation for alternative solver options:\n",
      "    https://scikit-learn.org/stable/modules/linear_model.html#logistic-regression\n",
      "  n_iter_i = _check_optimize_result(\n",
      "/Users/minor/opt/anaconda3/lib/python3.9/site-packages/sklearn/linear_model/_logistic.py:814: ConvergenceWarning: lbfgs failed to converge (status=1):\n",
      "STOP: TOTAL NO. of ITERATIONS REACHED LIMIT.\n",
      "\n",
      "Increase the number of iterations (max_iter) or scale the data as shown in:\n",
      "    https://scikit-learn.org/stable/modules/preprocessing.html\n",
      "Please also refer to the documentation for alternative solver options:\n",
      "    https://scikit-learn.org/stable/modules/linear_model.html#logistic-regression\n",
      "  n_iter_i = _check_optimize_result(\n",
      "/Users/minor/opt/anaconda3/lib/python3.9/site-packages/sklearn/linear_model/_logistic.py:814: ConvergenceWarning: lbfgs failed to converge (status=1):\n",
      "STOP: TOTAL NO. of ITERATIONS REACHED LIMIT.\n",
      "\n",
      "Increase the number of iterations (max_iter) or scale the data as shown in:\n",
      "    https://scikit-learn.org/stable/modules/preprocessing.html\n",
      "Please also refer to the documentation for alternative solver options:\n",
      "    https://scikit-learn.org/stable/modules/linear_model.html#logistic-regression\n",
      "  n_iter_i = _check_optimize_result(\n",
      "/Users/minor/opt/anaconda3/lib/python3.9/site-packages/sklearn/linear_model/_logistic.py:814: ConvergenceWarning: lbfgs failed to converge (status=1):\n",
      "STOP: TOTAL NO. of ITERATIONS REACHED LIMIT.\n",
      "\n",
      "Increase the number of iterations (max_iter) or scale the data as shown in:\n",
      "    https://scikit-learn.org/stable/modules/preprocessing.html\n",
      "Please also refer to the documentation for alternative solver options:\n",
      "    https://scikit-learn.org/stable/modules/linear_model.html#logistic-regression\n",
      "  n_iter_i = _check_optimize_result(\n",
      "/Users/minor/opt/anaconda3/lib/python3.9/site-packages/sklearn/linear_model/_logistic.py:814: ConvergenceWarning: lbfgs failed to converge (status=1):\n",
      "STOP: TOTAL NO. of ITERATIONS REACHED LIMIT.\n",
      "\n",
      "Increase the number of iterations (max_iter) or scale the data as shown in:\n",
      "    https://scikit-learn.org/stable/modules/preprocessing.html\n",
      "Please also refer to the documentation for alternative solver options:\n",
      "    https://scikit-learn.org/stable/modules/linear_model.html#logistic-regression\n",
      "  n_iter_i = _check_optimize_result(\n"
     ]
    }
   ],
   "source": [
    "from sklearn.model_selection import GridSearchCV\n",
    "# Search a grid space instead of using the LogisticRegression classifier as-is\n",
    "logistic_regression_classifier = GridSearchCV(LogisticRegression(), {\"C\": [1, 10]})\n",
    "logistic_regression_classifier.fit(train_vec, train_df[\"cuisine\"])\n",
    "test_df['logistic_regression_cuisine'] = logistic_regression_classifier.predict(test_vec)"
   ]
  },
  {
   "cell_type": "code",
   "execution_count": 57,
   "metadata": {
    "colab": {},
    "colab_type": "code",
    "id": "71u-HUpKk3lE"
   },
   "outputs": [],
   "source": [
    "from sklearn.ensemble import RandomForestClassifier\n",
    "random_forest_classifier = RandomForestClassifier(n_estimators = 10)\n",
    "random_forest_classifier = random_forest_classifier.fit(train_vec, train_df[\"cuisine\"])\n",
    "test_df[\"random_forest_cuisine\"] = random_forest_classifier.predict(test_vec)"
   ]
  },
  {
   "cell_type": "code",
   "execution_count": 58,
   "outputs": [
    {
     "data": {
      "text/plain": "         id                                        ingredients  \\\n0     18009  [baking powder, eggs, all-purpose flour, raisi...   \n1     28583  [sugar, egg yolks, corn starch, cream of tarta...   \n2     41580  [sausage links, fennel bulb, fronds, olive oil...   \n3     29752  [meat cuts, file powder, smoked sausage, okra,...   \n4     35687  [ground black pepper, salt, sausage casings, l...   \n...     ...                                                ...   \n9939  30246  [large egg yolks, fresh lemon juice, sugar, bo...   \n9940  36028  [hot sauce, butter, sweet potatoes, adobo sauc...   \n9941  22339  [black pepper, salt, parmigiano reggiano chees...   \n9942  42525  [cheddar cheese, cayenne, paprika, plum tomato...   \n9943   1443  [cold water, olive oil, lime wedges, garlic cl...   \n\n                                    ingredients_string1  \\\n0     baking powder egg all purpose flour raisin mil...   \n1     sugar egg yolks corn starch cream of tartar ba...   \n2     sausage links fennel bulb frond olive oil cuba...   \n3     meat cuts file powder smoked sausage okra shri...   \n4     ground black pepper salt sausage casings leek ...   \n...                                                 ...   \n9939  large egg yolks fresh lemon juice sugar bourbo...   \n9940   hot sauce butter sweet potatoes adobo sauce salt   \n9941  black pepper salt parmigiano reggiano cheese r...   \n9942  cheddar cheese cayenne paprika plum tomatoes g...   \n9943  cold water olive oil lime wedges garlic cloves...   \n\n     logistic_regression_cuisine random_forest_cuisine  \n0                        british           southern_us  \n1                    southern_us           southern_us  \n2                        italian               italian  \n3                   cajun_creole          cajun_creole  \n4                        italian               italian  \n...                          ...                   ...  \n9939                      french                french  \n9940                 southern_us           southern_us  \n9941                     italian               italian  \n9942                 southern_us           southern_us  \n9943                     mexican               mexican  \n\n[9944 rows x 5 columns]",
      "text/html": "<div>\n<style scoped>\n    .dataframe tbody tr th:only-of-type {\n        vertical-align: middle;\n    }\n\n    .dataframe tbody tr th {\n        vertical-align: top;\n    }\n\n    .dataframe thead th {\n        text-align: right;\n    }\n</style>\n<table border=\"1\" class=\"dataframe\">\n  <thead>\n    <tr style=\"text-align: right;\">\n      <th></th>\n      <th>id</th>\n      <th>ingredients</th>\n      <th>ingredients_string1</th>\n      <th>logistic_regression_cuisine</th>\n      <th>random_forest_cuisine</th>\n    </tr>\n  </thead>\n  <tbody>\n    <tr>\n      <th>0</th>\n      <td>18009</td>\n      <td>[baking powder, eggs, all-purpose flour, raisi...</td>\n      <td>baking powder egg all purpose flour raisin mil...</td>\n      <td>british</td>\n      <td>southern_us</td>\n    </tr>\n    <tr>\n      <th>1</th>\n      <td>28583</td>\n      <td>[sugar, egg yolks, corn starch, cream of tarta...</td>\n      <td>sugar egg yolks corn starch cream of tartar ba...</td>\n      <td>southern_us</td>\n      <td>southern_us</td>\n    </tr>\n    <tr>\n      <th>2</th>\n      <td>41580</td>\n      <td>[sausage links, fennel bulb, fronds, olive oil...</td>\n      <td>sausage links fennel bulb frond olive oil cuba...</td>\n      <td>italian</td>\n      <td>italian</td>\n    </tr>\n    <tr>\n      <th>3</th>\n      <td>29752</td>\n      <td>[meat cuts, file powder, smoked sausage, okra,...</td>\n      <td>meat cuts file powder smoked sausage okra shri...</td>\n      <td>cajun_creole</td>\n      <td>cajun_creole</td>\n    </tr>\n    <tr>\n      <th>4</th>\n      <td>35687</td>\n      <td>[ground black pepper, salt, sausage casings, l...</td>\n      <td>ground black pepper salt sausage casings leek ...</td>\n      <td>italian</td>\n      <td>italian</td>\n    </tr>\n    <tr>\n      <th>...</th>\n      <td>...</td>\n      <td>...</td>\n      <td>...</td>\n      <td>...</td>\n      <td>...</td>\n    </tr>\n    <tr>\n      <th>9939</th>\n      <td>30246</td>\n      <td>[large egg yolks, fresh lemon juice, sugar, bo...</td>\n      <td>large egg yolks fresh lemon juice sugar bourbo...</td>\n      <td>french</td>\n      <td>french</td>\n    </tr>\n    <tr>\n      <th>9940</th>\n      <td>36028</td>\n      <td>[hot sauce, butter, sweet potatoes, adobo sauc...</td>\n      <td>hot sauce butter sweet potatoes adobo sauce salt</td>\n      <td>southern_us</td>\n      <td>southern_us</td>\n    </tr>\n    <tr>\n      <th>9941</th>\n      <td>22339</td>\n      <td>[black pepper, salt, parmigiano reggiano chees...</td>\n      <td>black pepper salt parmigiano reggiano cheese r...</td>\n      <td>italian</td>\n      <td>italian</td>\n    </tr>\n    <tr>\n      <th>9942</th>\n      <td>42525</td>\n      <td>[cheddar cheese, cayenne, paprika, plum tomato...</td>\n      <td>cheddar cheese cayenne paprika plum tomatoes g...</td>\n      <td>southern_us</td>\n      <td>southern_us</td>\n    </tr>\n    <tr>\n      <th>9943</th>\n      <td>1443</td>\n      <td>[cold water, olive oil, lime wedges, garlic cl...</td>\n      <td>cold water olive oil lime wedges garlic cloves...</td>\n      <td>mexican</td>\n      <td>mexican</td>\n    </tr>\n  </tbody>\n</table>\n<p>9944 rows × 5 columns</p>\n</div>"
     },
     "execution_count": 58,
     "metadata": {},
     "output_type": "execute_result"
    }
   ],
   "source": [
    "test_df"
   ],
   "metadata": {
    "collapsed": false
   }
  }
 ],
 "metadata": {
  "colab": {
   "name": "04_what_cooking_python.ipynb",
   "provenance": []
  },
  "kernelspec": {
   "display_name": "Python 3",
   "language": "python",
   "name": "python3"
  },
  "language_info": {
   "codemirror_mode": {
    "name": "ipython",
    "version": 3
   },
   "file_extension": ".py",
   "mimetype": "text/x-python",
   "name": "python",
   "nbconvert_exporter": "python",
   "pygments_lexer": "ipython3",
   "version": "3.7.6"
  }
 },
 "nbformat": 4,
 "nbformat_minor": 4
}
