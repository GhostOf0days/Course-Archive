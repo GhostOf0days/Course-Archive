{
 "cells": [
  {
   "cell_type": "code",
   "execution_count": 1,
   "outputs": [
    {
     "name": "stdout",
     "output_type": "stream",
     "text": [
      "Collecting bertopic\r\n",
      "  Downloading bertopic-0.14.1-py2.py3-none-any.whl (120 kB)\r\n",
      "\u001B[2K     \u001B[90m━━━━━━━━━━━━━━━━━━━━━━━━━━━━━━━━━━━━━━━\u001B[0m \u001B[32m120.7/120.7 kB\u001B[0m \u001B[31m1.6 MB/s\u001B[0m eta \u001B[36m0:00:00\u001B[0ma \u001B[36m0:00:01\u001B[0m\r\n",
      "\u001B[?25hRequirement already satisfied: tqdm>=4.41.1 in /Users/minor/opt/anaconda3/lib/python3.9/site-packages (from bertopic) (4.64.1)\r\n",
      "Collecting hdbscan>=0.8.29\r\n",
      "  Downloading hdbscan-0.8.29.tar.gz (5.2 MB)\r\n",
      "\u001B[2K     \u001B[90m━━━━━━━━━━━━━━━━━━━━━━━━━━━━━━━━━━━━━━━━\u001B[0m \u001B[32m5.2/5.2 MB\u001B[0m \u001B[31m7.1 MB/s\u001B[0m eta \u001B[36m0:00:00\u001B[0m00:01\u001B[0m00:01\u001B[0m\r\n",
      "\u001B[?25h  Installing build dependencies ... \u001B[?25ldone\r\n",
      "\u001B[?25h  Getting requirements to build wheel ... \u001B[?25ldone\r\n",
      "\u001B[?25h  Preparing metadata (pyproject.toml) ... \u001B[?25ldone\r\n",
      "\u001B[?25hRequirement already satisfied: numpy>=1.20.0 in /Users/minor/opt/anaconda3/lib/python3.9/site-packages (from bertopic) (1.21.5)\r\n",
      "Requirement already satisfied: scikit-learn>=0.22.2.post1 in /Users/minor/opt/anaconda3/lib/python3.9/site-packages (from bertopic) (1.0)\r\n",
      "Collecting umap-learn>=0.5.0\r\n",
      "  Downloading umap-learn-0.5.3.tar.gz (88 kB)\r\n",
      "\u001B[2K     \u001B[90m━━━━━━━━━━━━━━━━━━━━━━━━━━━━━━━━━━━━━━━━\u001B[0m \u001B[32m88.2/88.2 kB\u001B[0m \u001B[31m1.6 MB/s\u001B[0m eta \u001B[36m0:00:00\u001B[0ma \u001B[36m0:00:01\u001B[0m\r\n",
      "\u001B[?25h  Preparing metadata (setup.py) ... \u001B[?25ldone\r\n",
      "\u001B[?25hRequirement already satisfied: plotly>=4.7.0 in /Users/minor/opt/anaconda3/lib/python3.9/site-packages (from bertopic) (5.9.0)\r\n",
      "Collecting sentence-transformers>=0.4.1\r\n",
      "  Downloading sentence-transformers-2.2.2.tar.gz (85 kB)\r\n",
      "\u001B[2K     \u001B[90m━━━━━━━━━━━━━━━━━━━━━━━━━━━━━━━━━━━━━━━━\u001B[0m \u001B[32m86.0/86.0 kB\u001B[0m \u001B[31m1.7 MB/s\u001B[0m eta \u001B[36m0:00:00\u001B[0ma \u001B[36m0:00:01\u001B[0m\r\n",
      "\u001B[?25h  Preparing metadata (setup.py) ... \u001B[?25ldone\r\n",
      "\u001B[?25hRequirement already satisfied: pandas>=1.1.5 in /Users/minor/opt/anaconda3/lib/python3.9/site-packages (from bertopic) (1.4.4)\r\n",
      "Requirement already satisfied: scipy>=1.0 in /Users/minor/opt/anaconda3/lib/python3.9/site-packages (from hdbscan>=0.8.29->bertopic) (1.9.1)\r\n",
      "Requirement already satisfied: joblib>=1.0 in /Users/minor/opt/anaconda3/lib/python3.9/site-packages (from hdbscan>=0.8.29->bertopic) (1.1.0)\r\n",
      "Requirement already satisfied: cython>=0.27 in /Users/minor/opt/anaconda3/lib/python3.9/site-packages (from hdbscan>=0.8.29->bertopic) (0.29.32)\r\n",
      "Requirement already satisfied: python-dateutil>=2.8.1 in /Users/minor/opt/anaconda3/lib/python3.9/site-packages (from pandas>=1.1.5->bertopic) (2.8.2)\r\n",
      "Requirement already satisfied: pytz>=2020.1 in /Users/minor/opt/anaconda3/lib/python3.9/site-packages (from pandas>=1.1.5->bertopic) (2022.1)\r\n",
      "Requirement already satisfied: tenacity>=6.2.0 in /Users/minor/opt/anaconda3/lib/python3.9/site-packages (from plotly>=4.7.0->bertopic) (8.0.1)\r\n",
      "Requirement already satisfied: threadpoolctl>=2.0.0 in /Users/minor/opt/anaconda3/lib/python3.9/site-packages (from scikit-learn>=0.22.2.post1->bertopic) (2.2.0)\r\n",
      "Collecting transformers<5.0.0,>=4.6.0\r\n",
      "  Downloading transformers-4.27.2-py3-none-any.whl (6.8 MB)\r\n",
      "\u001B[2K     \u001B[90m━━━━━━━━━━━━━━━━━━━━━━━━━━━━━━━━━━━━━━━━\u001B[0m \u001B[32m6.8/6.8 MB\u001B[0m \u001B[31m9.1 MB/s\u001B[0m eta \u001B[36m0:00:00\u001B[0m00:01\u001B[0mm00:01\u001B[0mm\r\n",
      "\u001B[?25hRequirement already satisfied: torch>=1.6.0 in /Users/minor/opt/anaconda3/lib/python3.9/site-packages (from sentence-transformers>=0.4.1->bertopic) (1.13.1)\r\n",
      "Requirement already satisfied: torchvision in /Users/minor/opt/anaconda3/lib/python3.9/site-packages (from sentence-transformers>=0.4.1->bertopic) (0.14.1)\r\n",
      "Requirement already satisfied: nltk in /Users/minor/opt/anaconda3/lib/python3.9/site-packages (from sentence-transformers>=0.4.1->bertopic) (3.7)\r\n",
      "Collecting sentencepiece\r\n",
      "  Downloading sentencepiece-0.1.97-cp39-cp39-macosx_10_9_x86_64.whl (1.2 MB)\r\n",
      "\u001B[2K     \u001B[90m━━━━━━━━━━━━━━━━━━━━━━━━━━━━━━━━━━━━━━━━\u001B[0m \u001B[32m1.2/1.2 MB\u001B[0m \u001B[31m7.1 MB/s\u001B[0m eta \u001B[36m0:00:00\u001B[0m00:01\u001B[0m00:01\u001B[0m\r\n",
      "\u001B[?25hCollecting huggingface-hub>=0.4.0\r\n",
      "  Downloading huggingface_hub-0.13.3-py3-none-any.whl (199 kB)\r\n",
      "\u001B[2K     \u001B[90m━━━━━━━━━━━━━━━━━━━━━━━━━━━━━━━━━━━━━━━\u001B[0m \u001B[32m199.8/199.8 kB\u001B[0m \u001B[31m4.0 MB/s\u001B[0m eta \u001B[36m0:00:00\u001B[0ma \u001B[36m0:00:01\u001B[0m\r\n",
      "\u001B[?25hRequirement already satisfied: numba>=0.49 in /Users/minor/opt/anaconda3/lib/python3.9/site-packages (from umap-learn>=0.5.0->bertopic) (0.55.1)\r\n",
      "Collecting pynndescent>=0.5\r\n",
      "  Downloading pynndescent-0.5.8.tar.gz (1.1 MB)\r\n",
      "\u001B[2K     \u001B[90m━━━━━━━━━━━━━━━━━━━━━━━━━━━━━━━━━━━━━━━━\u001B[0m \u001B[32m1.1/1.1 MB\u001B[0m \u001B[31m7.0 MB/s\u001B[0m eta \u001B[36m0:00:00\u001B[0m00:01\u001B[0m00:01\u001B[0m\r\n",
      "\u001B[?25h  Preparing metadata (setup.py) ... \u001B[?25ldone\r\n",
      "\u001B[?25hRequirement already satisfied: requests in /Users/minor/opt/anaconda3/lib/python3.9/site-packages (from huggingface-hub>=0.4.0->sentence-transformers>=0.4.1->bertopic) (2.28.1)\r\n",
      "Requirement already satisfied: filelock in /Users/minor/opt/anaconda3/lib/python3.9/site-packages (from huggingface-hub>=0.4.0->sentence-transformers>=0.4.1->bertopic) (3.6.0)\r\n",
      "Requirement already satisfied: pyyaml>=5.1 in /Users/minor/opt/anaconda3/lib/python3.9/site-packages (from huggingface-hub>=0.4.0->sentence-transformers>=0.4.1->bertopic) (6.0)\r\n",
      "Requirement already satisfied: packaging>=20.9 in /Users/minor/opt/anaconda3/lib/python3.9/site-packages (from huggingface-hub>=0.4.0->sentence-transformers>=0.4.1->bertopic) (21.3)\r\n",
      "Requirement already satisfied: typing-extensions>=3.7.4.3 in /Users/minor/opt/anaconda3/lib/python3.9/site-packages (from huggingface-hub>=0.4.0->sentence-transformers>=0.4.1->bertopic) (4.3.0)\r\n",
      "Requirement already satisfied: llvmlite<0.39,>=0.38.0rc1 in /Users/minor/opt/anaconda3/lib/python3.9/site-packages (from numba>=0.49->umap-learn>=0.5.0->bertopic) (0.38.0)\r\n",
      "Requirement already satisfied: setuptools in /Users/minor/opt/anaconda3/lib/python3.9/site-packages (from numba>=0.49->umap-learn>=0.5.0->bertopic) (63.4.1)\r\n",
      "Requirement already satisfied: six>=1.5 in /Users/minor/opt/anaconda3/lib/python3.9/site-packages (from python-dateutil>=2.8.1->pandas>=1.1.5->bertopic) (1.16.0)\r\n",
      "Requirement already satisfied: regex!=2019.12.17 in /Users/minor/opt/anaconda3/lib/python3.9/site-packages (from transformers<5.0.0,>=4.6.0->sentence-transformers>=0.4.1->bertopic) (2022.7.9)\r\n",
      "Collecting tokenizers!=0.11.3,<0.14,>=0.11.1\r\n",
      "  Downloading tokenizers-0.13.2-cp39-cp39-macosx_10_11_x86_64.whl (3.8 MB)\r\n",
      "\u001B[2K     \u001B[90m━━━━━━━━━━━━━━━━━━━━━━━━━━━━━━━━━━━━━━━━\u001B[0m \u001B[32m3.8/3.8 MB\u001B[0m \u001B[31m7.8 MB/s\u001B[0m eta \u001B[36m0:00:00\u001B[0m00:01\u001B[0m00:01\u001B[0m\r\n",
      "\u001B[?25hRequirement already satisfied: click in /Users/minor/opt/anaconda3/lib/python3.9/site-packages (from nltk->sentence-transformers>=0.4.1->bertopic) (8.0.4)\r\n",
      "Requirement already satisfied: pillow!=8.3.*,>=5.3.0 in /Users/minor/opt/anaconda3/lib/python3.9/site-packages (from torchvision->sentence-transformers>=0.4.1->bertopic) (9.2.0)\r\n",
      "Requirement already satisfied: pyparsing!=3.0.5,>=2.0.2 in /Users/minor/opt/anaconda3/lib/python3.9/site-packages (from packaging>=20.9->huggingface-hub>=0.4.0->sentence-transformers>=0.4.1->bertopic) (3.0.9)\r\n",
      "Requirement already satisfied: idna<4,>=2.5 in /Users/minor/opt/anaconda3/lib/python3.9/site-packages (from requests->huggingface-hub>=0.4.0->sentence-transformers>=0.4.1->bertopic) (3.3)\r\n",
      "Requirement already satisfied: charset-normalizer<3,>=2 in /Users/minor/opt/anaconda3/lib/python3.9/site-packages (from requests->huggingface-hub>=0.4.0->sentence-transformers>=0.4.1->bertopic) (2.0.4)\r\n",
      "Requirement already satisfied: certifi>=2017.4.17 in /Users/minor/opt/anaconda3/lib/python3.9/site-packages (from requests->huggingface-hub>=0.4.0->sentence-transformers>=0.4.1->bertopic) (2022.9.24)\r\n",
      "Requirement already satisfied: urllib3<1.27,>=1.21.1 in /Users/minor/opt/anaconda3/lib/python3.9/site-packages (from requests->huggingface-hub>=0.4.0->sentence-transformers>=0.4.1->bertopic) (1.26.11)\r\n",
      "Building wheels for collected packages: hdbscan, sentence-transformers, umap-learn, pynndescent\r\n",
      "  Building wheel for hdbscan (pyproject.toml) ... \u001B[?25ldone\r\n",
      "\u001B[?25h  Created wheel for hdbscan: filename=hdbscan-0.8.29-cp39-cp39-macosx_10_9_x86_64.whl size=658333 sha256=83a684e198ca7fd7578634f381985b3b28add2a28fbdfbd6805069fed68c7cde\r\n",
      "  Stored in directory: /Users/minor/Library/Caches/pip/wheels/05/6f/88/1a4c04276b98306f00217a1e300e6ba0252c6aa4f7616067ae\r\n",
      "  Building wheel for sentence-transformers (setup.py) ... \u001B[?25ldone\r\n",
      "\u001B[?25h  Created wheel for sentence-transformers: filename=sentence_transformers-2.2.2-py3-none-any.whl size=125925 sha256=6704dca3fe9eb8dc4192ef58877fe591ce88ef5f62fb06bf9880bd2dff9564a2\r\n",
      "  Stored in directory: /Users/minor/Library/Caches/pip/wheels/71/67/06/162a3760c40d74dd40bc855d527008d26341c2b0ecf3e8e11f\r\n",
      "  Building wheel for umap-learn (setup.py) ... \u001B[?25ldone\r\n",
      "\u001B[?25h  Created wheel for umap-learn: filename=umap_learn-0.5.3-py3-none-any.whl size=82814 sha256=fdf7995426b3b5b31f8381f6278c12b170bf537d5ef189a64668cc6a5ce7480a\r\n",
      "  Stored in directory: /Users/minor/Library/Caches/pip/wheels/f4/3e/1c/596d0a463d17475af648688443fa4846fef624d1390339e7e9\r\n",
      "  Building wheel for pynndescent (setup.py) ... \u001B[?25ldone\r\n",
      "\u001B[?25h  Created wheel for pynndescent: filename=pynndescent-0.5.8-py3-none-any.whl size=55496 sha256=305a71cc7a7834525eee2c31c3e963444487a7f6509406ee5bb662db3557fa8a\r\n",
      "  Stored in directory: /Users/minor/Library/Caches/pip/wheels/b9/89/cc/59ab91ef5b21dc2ab3635528d7d227f49dfc9169905dcb959d\r\n",
      "Successfully built hdbscan sentence-transformers umap-learn pynndescent\r\n",
      "Installing collected packages: tokenizers, sentencepiece, huggingface-hub, transformers, pynndescent, hdbscan, umap-learn, sentence-transformers, bertopic\r\n",
      "Successfully installed bertopic-0.14.1 hdbscan-0.8.29 huggingface-hub-0.13.3 pynndescent-0.5.8 sentence-transformers-2.2.2 sentencepiece-0.1.97 tokenizers-0.13.2 transformers-4.27.2 umap-learn-0.5.3\r\n"
     ]
    }
   ],
   "source": [
    "!pip install bertopic"
   ],
   "metadata": {
    "collapsed": false
   }
  },
  {
   "cell_type": "code",
   "execution_count": 11,
   "metadata": {
    "collapsed": true
   },
   "outputs": [
    {
     "name": "stderr",
     "output_type": "stream",
     "text": [
      "[nltk_data] Downloading package punkt to /Users/minor/nltk_data...\n",
      "[nltk_data]   Package punkt is already up-to-date!\n"
     ]
    }
   ],
   "source": [
    "from bertopic import BERTopic\n",
    "import nltk\n",
    "nltk.download(\"punkt\")\n",
    "from nltk.tokenize import sent_tokenize"
   ]
  },
  {
   "cell_type": "code",
   "execution_count": 12,
   "outputs": [],
   "source": [
    "REVIEWS = '''\\\n",
    "After a morning of Thrift Store hunting, a friend and I were thinking of lunch, and he suggested Emil's after he'd seen Chris Sebak do a bit on it and had tried it a time or two before, and I had not. He said they had a decent Reuben, but to be prepared to step back in time.\n",
    "\n",
    "Well, seeing as how I'm kind of addicted to late 40's and early 50's, and the whole Rat Pack scene, stepping back in time is a welcomed change in da burgh...as long as it doesn't involve 1979, which I can see all around me every day.\n",
    "\n",
    "And yet another shot at finding a decent Reuben in da burgh...well, that's like hunting the Holy Grail. So looking under one more bush certainly wouldn't hurt.\n",
    "\n",
    "So off we go right at lunchtime in the middle of...where exactly were we? At first I thought we were lost, driving around a handful of very rather dismal looking blocks in what looked like a neighborhood that had been blighted by the building of a highway. And then...AHA! Here it is! And yep, there it was. This little unassuming building with an add-on entrance with what looked like a very old hand painted sign stating quite simply 'Emil's.\n",
    "\n",
    "We walked in the front door, and entered another world. Another time, and another place. Oh, and any Big Burrito/Sousa foodies might as well stop reading now. I wouldn't want to see you walk in, roll your eyes and say 'Reaaaaaalllly?'\n",
    "\n",
    "This is about as old world bar/lounge/restaurant as it gets. Plain, with a dark wood bar on one side, plain white walls with no yinzer pics, good sturdy chairs and actual white linens on the tables. This is the kind of neighborhood dive that I could see Frank and Dino pulling a few tables together for some poker, a fish sammich, and some cheap scotch. And THAT is exactly what I love.\n",
    "\n",
    "Oh...but good food counts too.\n",
    "\n",
    "We each had a Reuben, and my friend had a side of fries. The Reubens were decent, but not NY awesome. A little too thick on the bread, but overall, tasty and definitely filling. Not too skimpy on the meat. I seriously CRAVE a true, good NY Reuben, but since I can't afford to travel right now, what I find in da burgh will have to do. But as we sat and ate, burgers came out to an adjoining table. Those were some big thick burgers. A steak went past for the table behind us. That was HUGE! And when we asked about it, the waitress said 'Yeah, it's huge and really good, and he only charges $12.99 for it, ain't that nuts?' Another table of five came in, and wham. Fish sandwiches PILED with breaded fish that looked amazing. Yeah, I want that, that, that and THAT!\n",
    "\n",
    "My friend also mentioned that they have a Chicken Parm special one day of the week that is only served UNTIL 4 pm, and that it is fantastic. If only I could GET there on that week day before 4...\n",
    "\n",
    "The waitress did a good job, especially since there was quite a growing crowd at lunchtime on a Saturday, and only one of her. She kept up and was very friendly.\n",
    "\n",
    "They only have Pepsi products, so I had a brewed iced tea, which was very fresh, and she did pop by to ask about refills as often as she could. As the lunch hour went on, they were getting busy.\n",
    "\n",
    "Emil's is no frills, good portions, very reasonable prices, VERY comfortable neighborhood hole in the wall...kind of like Cheers, but in a blue collar neighborhood in the 1950's. Fan-freakin-tastic! I could feel at home here.\n",
    "\n",
    "You definitely want to hit Mapquest or plug in your GPS though. I am not sure that I could find it again on my own...it really is a hidden gem. I will be making my friend take me back until I can memorize where the heck it is.\n",
    "\n",
    "Addendum: 2nd visit for the fish sandwich. Excellent. Truly. A pound of fish on a fish-shaped bun (as opposed to da burgh's seemingly popular hamburger bun). The fish was flavorful, the batter excellent, and for just $8. This may have been the best fish sandwich I've yet to have in da burgh.\n",
    "'''"
   ],
   "metadata": {
    "collapsed": false
   }
  },
  {
   "cell_type": "code",
   "execution_count": 13,
   "outputs": [
    {
     "data": {
      "text/plain": "   Topic  Count                Name\n0     -1     51  -1_and_the_in_that",
      "text/html": "<div>\n<style scoped>\n    .dataframe tbody tr th:only-of-type {\n        vertical-align: middle;\n    }\n\n    .dataframe tbody tr th {\n        vertical-align: top;\n    }\n\n    .dataframe thead th {\n        text-align: right;\n    }\n</style>\n<table border=\"1\" class=\"dataframe\">\n  <thead>\n    <tr style=\"text-align: right;\">\n      <th></th>\n      <th>Topic</th>\n      <th>Count</th>\n      <th>Name</th>\n    </tr>\n  </thead>\n  <tbody>\n    <tr>\n      <th>0</th>\n      <td>-1</td>\n      <td>51</td>\n      <td>-1_and_the_in_that</td>\n    </tr>\n  </tbody>\n</table>\n</div>"
     },
     "execution_count": 13,
     "metadata": {},
     "output_type": "execute_result"
    }
   ],
   "source": [
    "sentence_topic_model = BERTopic()\n",
    "sentences = sent_tokenize(REVIEWS)\n",
    "topics, probs = sentence_topic_model.fit_transform(sentences)\n",
    "sentence_topic_model.get_topic_info()"
   ],
   "metadata": {
    "collapsed": false
   }
  },
  {
   "cell_type": "code",
   "execution_count": 14,
   "outputs": [
    {
     "data": {
      "text/plain": "                                             Document  Topic  \\\n0   After a morning of Thrift Store hunting, a fri...     -1   \n1   He said they had a decent Reuben, but to be pr...     -1   \n2   Well, seeing as how I'm kind of addicted to la...     -1   \n3   And yet another shot at finding a decent Reube...     -1   \n4   So looking under one more bush certainly would...     -1   \n5   So off we go right at lunchtime in the middle ...     -1   \n6   At first I thought we were lost, driving aroun...     -1   \n7                                     And then...AHA!     -1   \n8                                         Here it is!     -1   \n9                              And yep, there it was.     -1   \n10  This little unassuming building with an add-on...     -1   \n11  We walked in the front door, and entered anoth...     -1   \n12                   Another time, and another place.     -1   \n13  Oh, and any Big Burrito/Sousa foodies might as...     -1   \n14  I wouldn't want to see you walk in, roll your ...     -1   \n15  This is about as old world bar/lounge/restaura...     -1   \n16  Plain, with a dark wood bar on one side, plain...     -1   \n17  This is the kind of neighborhood dive that I c...     -1   \n18                   And THAT is exactly what I love.     -1   \n19                     Oh...but good food counts too.     -1   \n20  We each had a Reuben, and my friend had a side...     -1   \n21       The Reubens were decent, but not NY awesome.     -1   \n22  A little too thick on the bread, but overall, ...     -1   \n23                        Not too skimpy on the meat.     -1   \n24  I seriously CRAVE a true, good NY Reuben, but ...     -1   \n25  But as we sat and ate, burgers came out to an ...     -1   \n26                 Those were some big thick burgers.     -1   \n27         A steak went past for the table behind us.     -1   \n28                                     That was HUGE!     -1   \n29  And when we asked about it, the waitress said ...     -1   \n30           Another table of five came in, and wham.     -1   \n31  Fish sandwiches PILED with breaded fish that l...     -1   \n32            Yeah, I want that, that, that and THAT!     -1   \n33  My friend also mentioned that they have a Chic...     -1   \n34  If only I could GET there on that week day bef...     -1   \n35  The waitress did a good job, especially since ...     -1   \n36                 She kept up and was very friendly.     -1   \n37  They only have Pepsi products, so I had a brew...     -1   \n38  As the lunch hour went on, they were getting b...     -1   \n39  Emil's is no frills, good portions, very reaso...     -1   \n40                                Fan-freakin-tastic!     -1   \n41                         I could feel at home here.     -1   \n42  You definitely want to hit Mapquest or plug in...     -1   \n43  I am not sure that I could find it again on my...     -1   \n44  I will be making my friend take me back until ...     -1   \n45         Addendum: 2nd visit for the fish sandwich.     -1   \n46                                         Excellent.     -1   \n47                                             Truly.     -1   \n48  A pound of fish on a fish-shaped bun (as oppos...     -1   \n49  The fish was flavorful, the batter excellent, ...     -1   \n50  This may have been the best fish sandwich I've...     -1   \n\n                  Name                                        Top_n_words  \\\n0   -1_and_the_in_that  and - the - in - that - of - it - to - as - is...   \n1   -1_and_the_in_that  and - the - in - that - of - it - to - as - is...   \n2   -1_and_the_in_that  and - the - in - that - of - it - to - as - is...   \n3   -1_and_the_in_that  and - the - in - that - of - it - to - as - is...   \n4   -1_and_the_in_that  and - the - in - that - of - it - to - as - is...   \n5   -1_and_the_in_that  and - the - in - that - of - it - to - as - is...   \n6   -1_and_the_in_that  and - the - in - that - of - it - to - as - is...   \n7   -1_and_the_in_that  and - the - in - that - of - it - to - as - is...   \n8   -1_and_the_in_that  and - the - in - that - of - it - to - as - is...   \n9   -1_and_the_in_that  and - the - in - that - of - it - to - as - is...   \n10  -1_and_the_in_that  and - the - in - that - of - it - to - as - is...   \n11  -1_and_the_in_that  and - the - in - that - of - it - to - as - is...   \n12  -1_and_the_in_that  and - the - in - that - of - it - to - as - is...   \n13  -1_and_the_in_that  and - the - in - that - of - it - to - as - is...   \n14  -1_and_the_in_that  and - the - in - that - of - it - to - as - is...   \n15  -1_and_the_in_that  and - the - in - that - of - it - to - as - is...   \n16  -1_and_the_in_that  and - the - in - that - of - it - to - as - is...   \n17  -1_and_the_in_that  and - the - in - that - of - it - to - as - is...   \n18  -1_and_the_in_that  and - the - in - that - of - it - to - as - is...   \n19  -1_and_the_in_that  and - the - in - that - of - it - to - as - is...   \n20  -1_and_the_in_that  and - the - in - that - of - it - to - as - is...   \n21  -1_and_the_in_that  and - the - in - that - of - it - to - as - is...   \n22  -1_and_the_in_that  and - the - in - that - of - it - to - as - is...   \n23  -1_and_the_in_that  and - the - in - that - of - it - to - as - is...   \n24  -1_and_the_in_that  and - the - in - that - of - it - to - as - is...   \n25  -1_and_the_in_that  and - the - in - that - of - it - to - as - is...   \n26  -1_and_the_in_that  and - the - in - that - of - it - to - as - is...   \n27  -1_and_the_in_that  and - the - in - that - of - it - to - as - is...   \n28  -1_and_the_in_that  and - the - in - that - of - it - to - as - is...   \n29  -1_and_the_in_that  and - the - in - that - of - it - to - as - is...   \n30  -1_and_the_in_that  and - the - in - that - of - it - to - as - is...   \n31  -1_and_the_in_that  and - the - in - that - of - it - to - as - is...   \n32  -1_and_the_in_that  and - the - in - that - of - it - to - as - is...   \n33  -1_and_the_in_that  and - the - in - that - of - it - to - as - is...   \n34  -1_and_the_in_that  and - the - in - that - of - it - to - as - is...   \n35  -1_and_the_in_that  and - the - in - that - of - it - to - as - is...   \n36  -1_and_the_in_that  and - the - in - that - of - it - to - as - is...   \n37  -1_and_the_in_that  and - the - in - that - of - it - to - as - is...   \n38  -1_and_the_in_that  and - the - in - that - of - it - to - as - is...   \n39  -1_and_the_in_that  and - the - in - that - of - it - to - as - is...   \n40  -1_and_the_in_that  and - the - in - that - of - it - to - as - is...   \n41  -1_and_the_in_that  and - the - in - that - of - it - to - as - is...   \n42  -1_and_the_in_that  and - the - in - that - of - it - to - as - is...   \n43  -1_and_the_in_that  and - the - in - that - of - it - to - as - is...   \n44  -1_and_the_in_that  and - the - in - that - of - it - to - as - is...   \n45  -1_and_the_in_that  and - the - in - that - of - it - to - as - is...   \n46  -1_and_the_in_that  and - the - in - that - of - it - to - as - is...   \n47  -1_and_the_in_that  and - the - in - that - of - it - to - as - is...   \n48  -1_and_the_in_that  and - the - in - that - of - it - to - as - is...   \n49  -1_and_the_in_that  and - the - in - that - of - it - to - as - is...   \n50  -1_and_the_in_that  and - the - in - that - of - it - to - as - is...   \n\n    Probability  Representative_document  \n0           0.0                    False  \n1           0.0                    False  \n2           0.0                     True  \n3           0.0                    False  \n4           0.0                    False  \n5           0.0                    False  \n6           0.0                    False  \n7           0.0                    False  \n8           0.0                    False  \n9           0.0                    False  \n10          0.0                    False  \n11          0.0                    False  \n12          0.0                    False  \n13          0.0                    False  \n14          0.0                    False  \n15          0.0                    False  \n16          0.0                    False  \n17          0.0                    False  \n18          0.0                    False  \n19          0.0                    False  \n20          0.0                    False  \n21          0.0                    False  \n22          0.0                    False  \n23          0.0                    False  \n24          0.0                    False  \n25          0.0                    False  \n26          0.0                    False  \n27          0.0                    False  \n28          0.0                    False  \n29          0.0                     True  \n30          0.0                    False  \n31          0.0                    False  \n32          0.0                    False  \n33          0.0                     True  \n34          0.0                    False  \n35          0.0                    False  \n36          0.0                    False  \n37          0.0                    False  \n38          0.0                    False  \n39          0.0                    False  \n40          0.0                    False  \n41          0.0                    False  \n42          0.0                    False  \n43          0.0                    False  \n44          0.0                    False  \n45          0.0                    False  \n46          0.0                    False  \n47          0.0                    False  \n48          0.0                    False  \n49          0.0                    False  \n50          0.0                    False  ",
      "text/html": "<div>\n<style scoped>\n    .dataframe tbody tr th:only-of-type {\n        vertical-align: middle;\n    }\n\n    .dataframe tbody tr th {\n        vertical-align: top;\n    }\n\n    .dataframe thead th {\n        text-align: right;\n    }\n</style>\n<table border=\"1\" class=\"dataframe\">\n  <thead>\n    <tr style=\"text-align: right;\">\n      <th></th>\n      <th>Document</th>\n      <th>Topic</th>\n      <th>Name</th>\n      <th>Top_n_words</th>\n      <th>Probability</th>\n      <th>Representative_document</th>\n    </tr>\n  </thead>\n  <tbody>\n    <tr>\n      <th>0</th>\n      <td>After a morning of Thrift Store hunting, a fri...</td>\n      <td>-1</td>\n      <td>-1_and_the_in_that</td>\n      <td>and - the - in - that - of - it - to - as - is...</td>\n      <td>0.0</td>\n      <td>False</td>\n    </tr>\n    <tr>\n      <th>1</th>\n      <td>He said they had a decent Reuben, but to be pr...</td>\n      <td>-1</td>\n      <td>-1_and_the_in_that</td>\n      <td>and - the - in - that - of - it - to - as - is...</td>\n      <td>0.0</td>\n      <td>False</td>\n    </tr>\n    <tr>\n      <th>2</th>\n      <td>Well, seeing as how I'm kind of addicted to la...</td>\n      <td>-1</td>\n      <td>-1_and_the_in_that</td>\n      <td>and - the - in - that - of - it - to - as - is...</td>\n      <td>0.0</td>\n      <td>True</td>\n    </tr>\n    <tr>\n      <th>3</th>\n      <td>And yet another shot at finding a decent Reube...</td>\n      <td>-1</td>\n      <td>-1_and_the_in_that</td>\n      <td>and - the - in - that - of - it - to - as - is...</td>\n      <td>0.0</td>\n      <td>False</td>\n    </tr>\n    <tr>\n      <th>4</th>\n      <td>So looking under one more bush certainly would...</td>\n      <td>-1</td>\n      <td>-1_and_the_in_that</td>\n      <td>and - the - in - that - of - it - to - as - is...</td>\n      <td>0.0</td>\n      <td>False</td>\n    </tr>\n    <tr>\n      <th>5</th>\n      <td>So off we go right at lunchtime in the middle ...</td>\n      <td>-1</td>\n      <td>-1_and_the_in_that</td>\n      <td>and - the - in - that - of - it - to - as - is...</td>\n      <td>0.0</td>\n      <td>False</td>\n    </tr>\n    <tr>\n      <th>6</th>\n      <td>At first I thought we were lost, driving aroun...</td>\n      <td>-1</td>\n      <td>-1_and_the_in_that</td>\n      <td>and - the - in - that - of - it - to - as - is...</td>\n      <td>0.0</td>\n      <td>False</td>\n    </tr>\n    <tr>\n      <th>7</th>\n      <td>And then...AHA!</td>\n      <td>-1</td>\n      <td>-1_and_the_in_that</td>\n      <td>and - the - in - that - of - it - to - as - is...</td>\n      <td>0.0</td>\n      <td>False</td>\n    </tr>\n    <tr>\n      <th>8</th>\n      <td>Here it is!</td>\n      <td>-1</td>\n      <td>-1_and_the_in_that</td>\n      <td>and - the - in - that - of - it - to - as - is...</td>\n      <td>0.0</td>\n      <td>False</td>\n    </tr>\n    <tr>\n      <th>9</th>\n      <td>And yep, there it was.</td>\n      <td>-1</td>\n      <td>-1_and_the_in_that</td>\n      <td>and - the - in - that - of - it - to - as - is...</td>\n      <td>0.0</td>\n      <td>False</td>\n    </tr>\n    <tr>\n      <th>10</th>\n      <td>This little unassuming building with an add-on...</td>\n      <td>-1</td>\n      <td>-1_and_the_in_that</td>\n      <td>and - the - in - that - of - it - to - as - is...</td>\n      <td>0.0</td>\n      <td>False</td>\n    </tr>\n    <tr>\n      <th>11</th>\n      <td>We walked in the front door, and entered anoth...</td>\n      <td>-1</td>\n      <td>-1_and_the_in_that</td>\n      <td>and - the - in - that - of - it - to - as - is...</td>\n      <td>0.0</td>\n      <td>False</td>\n    </tr>\n    <tr>\n      <th>12</th>\n      <td>Another time, and another place.</td>\n      <td>-1</td>\n      <td>-1_and_the_in_that</td>\n      <td>and - the - in - that - of - it - to - as - is...</td>\n      <td>0.0</td>\n      <td>False</td>\n    </tr>\n    <tr>\n      <th>13</th>\n      <td>Oh, and any Big Burrito/Sousa foodies might as...</td>\n      <td>-1</td>\n      <td>-1_and_the_in_that</td>\n      <td>and - the - in - that - of - it - to - as - is...</td>\n      <td>0.0</td>\n      <td>False</td>\n    </tr>\n    <tr>\n      <th>14</th>\n      <td>I wouldn't want to see you walk in, roll your ...</td>\n      <td>-1</td>\n      <td>-1_and_the_in_that</td>\n      <td>and - the - in - that - of - it - to - as - is...</td>\n      <td>0.0</td>\n      <td>False</td>\n    </tr>\n    <tr>\n      <th>15</th>\n      <td>This is about as old world bar/lounge/restaura...</td>\n      <td>-1</td>\n      <td>-1_and_the_in_that</td>\n      <td>and - the - in - that - of - it - to - as - is...</td>\n      <td>0.0</td>\n      <td>False</td>\n    </tr>\n    <tr>\n      <th>16</th>\n      <td>Plain, with a dark wood bar on one side, plain...</td>\n      <td>-1</td>\n      <td>-1_and_the_in_that</td>\n      <td>and - the - in - that - of - it - to - as - is...</td>\n      <td>0.0</td>\n      <td>False</td>\n    </tr>\n    <tr>\n      <th>17</th>\n      <td>This is the kind of neighborhood dive that I c...</td>\n      <td>-1</td>\n      <td>-1_and_the_in_that</td>\n      <td>and - the - in - that - of - it - to - as - is...</td>\n      <td>0.0</td>\n      <td>False</td>\n    </tr>\n    <tr>\n      <th>18</th>\n      <td>And THAT is exactly what I love.</td>\n      <td>-1</td>\n      <td>-1_and_the_in_that</td>\n      <td>and - the - in - that - of - it - to - as - is...</td>\n      <td>0.0</td>\n      <td>False</td>\n    </tr>\n    <tr>\n      <th>19</th>\n      <td>Oh...but good food counts too.</td>\n      <td>-1</td>\n      <td>-1_and_the_in_that</td>\n      <td>and - the - in - that - of - it - to - as - is...</td>\n      <td>0.0</td>\n      <td>False</td>\n    </tr>\n    <tr>\n      <th>20</th>\n      <td>We each had a Reuben, and my friend had a side...</td>\n      <td>-1</td>\n      <td>-1_and_the_in_that</td>\n      <td>and - the - in - that - of - it - to - as - is...</td>\n      <td>0.0</td>\n      <td>False</td>\n    </tr>\n    <tr>\n      <th>21</th>\n      <td>The Reubens were decent, but not NY awesome.</td>\n      <td>-1</td>\n      <td>-1_and_the_in_that</td>\n      <td>and - the - in - that - of - it - to - as - is...</td>\n      <td>0.0</td>\n      <td>False</td>\n    </tr>\n    <tr>\n      <th>22</th>\n      <td>A little too thick on the bread, but overall, ...</td>\n      <td>-1</td>\n      <td>-1_and_the_in_that</td>\n      <td>and - the - in - that - of - it - to - as - is...</td>\n      <td>0.0</td>\n      <td>False</td>\n    </tr>\n    <tr>\n      <th>23</th>\n      <td>Not too skimpy on the meat.</td>\n      <td>-1</td>\n      <td>-1_and_the_in_that</td>\n      <td>and - the - in - that - of - it - to - as - is...</td>\n      <td>0.0</td>\n      <td>False</td>\n    </tr>\n    <tr>\n      <th>24</th>\n      <td>I seriously CRAVE a true, good NY Reuben, but ...</td>\n      <td>-1</td>\n      <td>-1_and_the_in_that</td>\n      <td>and - the - in - that - of - it - to - as - is...</td>\n      <td>0.0</td>\n      <td>False</td>\n    </tr>\n    <tr>\n      <th>25</th>\n      <td>But as we sat and ate, burgers came out to an ...</td>\n      <td>-1</td>\n      <td>-1_and_the_in_that</td>\n      <td>and - the - in - that - of - it - to - as - is...</td>\n      <td>0.0</td>\n      <td>False</td>\n    </tr>\n    <tr>\n      <th>26</th>\n      <td>Those were some big thick burgers.</td>\n      <td>-1</td>\n      <td>-1_and_the_in_that</td>\n      <td>and - the - in - that - of - it - to - as - is...</td>\n      <td>0.0</td>\n      <td>False</td>\n    </tr>\n    <tr>\n      <th>27</th>\n      <td>A steak went past for the table behind us.</td>\n      <td>-1</td>\n      <td>-1_and_the_in_that</td>\n      <td>and - the - in - that - of - it - to - as - is...</td>\n      <td>0.0</td>\n      <td>False</td>\n    </tr>\n    <tr>\n      <th>28</th>\n      <td>That was HUGE!</td>\n      <td>-1</td>\n      <td>-1_and_the_in_that</td>\n      <td>and - the - in - that - of - it - to - as - is...</td>\n      <td>0.0</td>\n      <td>False</td>\n    </tr>\n    <tr>\n      <th>29</th>\n      <td>And when we asked about it, the waitress said ...</td>\n      <td>-1</td>\n      <td>-1_and_the_in_that</td>\n      <td>and - the - in - that - of - it - to - as - is...</td>\n      <td>0.0</td>\n      <td>True</td>\n    </tr>\n    <tr>\n      <th>30</th>\n      <td>Another table of five came in, and wham.</td>\n      <td>-1</td>\n      <td>-1_and_the_in_that</td>\n      <td>and - the - in - that - of - it - to - as - is...</td>\n      <td>0.0</td>\n      <td>False</td>\n    </tr>\n    <tr>\n      <th>31</th>\n      <td>Fish sandwiches PILED with breaded fish that l...</td>\n      <td>-1</td>\n      <td>-1_and_the_in_that</td>\n      <td>and - the - in - that - of - it - to - as - is...</td>\n      <td>0.0</td>\n      <td>False</td>\n    </tr>\n    <tr>\n      <th>32</th>\n      <td>Yeah, I want that, that, that and THAT!</td>\n      <td>-1</td>\n      <td>-1_and_the_in_that</td>\n      <td>and - the - in - that - of - it - to - as - is...</td>\n      <td>0.0</td>\n      <td>False</td>\n    </tr>\n    <tr>\n      <th>33</th>\n      <td>My friend also mentioned that they have a Chic...</td>\n      <td>-1</td>\n      <td>-1_and_the_in_that</td>\n      <td>and - the - in - that - of - it - to - as - is...</td>\n      <td>0.0</td>\n      <td>True</td>\n    </tr>\n    <tr>\n      <th>34</th>\n      <td>If only I could GET there on that week day bef...</td>\n      <td>-1</td>\n      <td>-1_and_the_in_that</td>\n      <td>and - the - in - that - of - it - to - as - is...</td>\n      <td>0.0</td>\n      <td>False</td>\n    </tr>\n    <tr>\n      <th>35</th>\n      <td>The waitress did a good job, especially since ...</td>\n      <td>-1</td>\n      <td>-1_and_the_in_that</td>\n      <td>and - the - in - that - of - it - to - as - is...</td>\n      <td>0.0</td>\n      <td>False</td>\n    </tr>\n    <tr>\n      <th>36</th>\n      <td>She kept up and was very friendly.</td>\n      <td>-1</td>\n      <td>-1_and_the_in_that</td>\n      <td>and - the - in - that - of - it - to - as - is...</td>\n      <td>0.0</td>\n      <td>False</td>\n    </tr>\n    <tr>\n      <th>37</th>\n      <td>They only have Pepsi products, so I had a brew...</td>\n      <td>-1</td>\n      <td>-1_and_the_in_that</td>\n      <td>and - the - in - that - of - it - to - as - is...</td>\n      <td>0.0</td>\n      <td>False</td>\n    </tr>\n    <tr>\n      <th>38</th>\n      <td>As the lunch hour went on, they were getting b...</td>\n      <td>-1</td>\n      <td>-1_and_the_in_that</td>\n      <td>and - the - in - that - of - it - to - as - is...</td>\n      <td>0.0</td>\n      <td>False</td>\n    </tr>\n    <tr>\n      <th>39</th>\n      <td>Emil's is no frills, good portions, very reaso...</td>\n      <td>-1</td>\n      <td>-1_and_the_in_that</td>\n      <td>and - the - in - that - of - it - to - as - is...</td>\n      <td>0.0</td>\n      <td>False</td>\n    </tr>\n    <tr>\n      <th>40</th>\n      <td>Fan-freakin-tastic!</td>\n      <td>-1</td>\n      <td>-1_and_the_in_that</td>\n      <td>and - the - in - that - of - it - to - as - is...</td>\n      <td>0.0</td>\n      <td>False</td>\n    </tr>\n    <tr>\n      <th>41</th>\n      <td>I could feel at home here.</td>\n      <td>-1</td>\n      <td>-1_and_the_in_that</td>\n      <td>and - the - in - that - of - it - to - as - is...</td>\n      <td>0.0</td>\n      <td>False</td>\n    </tr>\n    <tr>\n      <th>42</th>\n      <td>You definitely want to hit Mapquest or plug in...</td>\n      <td>-1</td>\n      <td>-1_and_the_in_that</td>\n      <td>and - the - in - that - of - it - to - as - is...</td>\n      <td>0.0</td>\n      <td>False</td>\n    </tr>\n    <tr>\n      <th>43</th>\n      <td>I am not sure that I could find it again on my...</td>\n      <td>-1</td>\n      <td>-1_and_the_in_that</td>\n      <td>and - the - in - that - of - it - to - as - is...</td>\n      <td>0.0</td>\n      <td>False</td>\n    </tr>\n    <tr>\n      <th>44</th>\n      <td>I will be making my friend take me back until ...</td>\n      <td>-1</td>\n      <td>-1_and_the_in_that</td>\n      <td>and - the - in - that - of - it - to - as - is...</td>\n      <td>0.0</td>\n      <td>False</td>\n    </tr>\n    <tr>\n      <th>45</th>\n      <td>Addendum: 2nd visit for the fish sandwich.</td>\n      <td>-1</td>\n      <td>-1_and_the_in_that</td>\n      <td>and - the - in - that - of - it - to - as - is...</td>\n      <td>0.0</td>\n      <td>False</td>\n    </tr>\n    <tr>\n      <th>46</th>\n      <td>Excellent.</td>\n      <td>-1</td>\n      <td>-1_and_the_in_that</td>\n      <td>and - the - in - that - of - it - to - as - is...</td>\n      <td>0.0</td>\n      <td>False</td>\n    </tr>\n    <tr>\n      <th>47</th>\n      <td>Truly.</td>\n      <td>-1</td>\n      <td>-1_and_the_in_that</td>\n      <td>and - the - in - that - of - it - to - as - is...</td>\n      <td>0.0</td>\n      <td>False</td>\n    </tr>\n    <tr>\n      <th>48</th>\n      <td>A pound of fish on a fish-shaped bun (as oppos...</td>\n      <td>-1</td>\n      <td>-1_and_the_in_that</td>\n      <td>and - the - in - that - of - it - to - as - is...</td>\n      <td>0.0</td>\n      <td>False</td>\n    </tr>\n    <tr>\n      <th>49</th>\n      <td>The fish was flavorful, the batter excellent, ...</td>\n      <td>-1</td>\n      <td>-1_and_the_in_that</td>\n      <td>and - the - in - that - of - it - to - as - is...</td>\n      <td>0.0</td>\n      <td>False</td>\n    </tr>\n    <tr>\n      <th>50</th>\n      <td>This may have been the best fish sandwich I've...</td>\n      <td>-1</td>\n      <td>-1_and_the_in_that</td>\n      <td>and - the - in - that - of - it - to - as - is...</td>\n      <td>0.0</td>\n      <td>False</td>\n    </tr>\n  </tbody>\n</table>\n</div>"
     },
     "execution_count": 14,
     "metadata": {},
     "output_type": "execute_result"
    }
   ],
   "source": [
    "sentence_topic_model.get_document_info(sentences)"
   ],
   "metadata": {
    "collapsed": false
   }
  }
 ],
 "metadata": {
  "kernelspec": {
   "display_name": "Python 3",
   "language": "python",
   "name": "python3"
  },
  "language_info": {
   "codemirror_mode": {
    "name": "ipython",
    "version": 2
   },
   "file_extension": ".py",
   "mimetype": "text/x-python",
   "name": "python",
   "nbconvert_exporter": "python",
   "pygments_lexer": "ipython2",
   "version": "2.7.6"
  }
 },
 "nbformat": 4,
 "nbformat_minor": 0
}
