{
 "nbformat": 4,
 "nbformat_minor": 0,
 "metadata": {
  "colab": {
   "name": "vectorization.ipynb",
   "provenance": [],
   "collapsed_sections": []
  },
  "kernelspec": {
   "display_name": "Python 3",
   "language": "python",
   "name": "python3"
  },
  "language_info": {
   "codemirror_mode": {
    "name": "ipython",
    "version": 3
   },
   "file_extension": ".py",
   "mimetype": "text/x-python",
   "name": "python",
   "nbconvert_exporter": "python",
   "pygments_lexer": "ipython3",
   "version": "3.7.6"
  }
 },
 "cells": [
  {
   "cell_type": "markdown",
   "metadata": {
    "id": "lqJiXoP3rrjZ"
   },
   "source": [
    "[![AnalyticsDojo](https://github.com/rpi-techfundamentals/spring2019-materials/blob/master/fig/final-logo.png?raw=1)](http://rpi.analyticsdojo.com)\n",
    "<center><h1> Vectorization Options</h1></center>\n",
    "<center><h3><a href = 'http://rpi.analyticsdojo.com'>rpi.analyticsdojo.com</a></h3></center>"
   ]
  },
  {
   "cell_type": "markdown",
   "metadata": {
    "id": "ED8Fwik7rrjd"
   },
   "source": [
    "This is adopted from: [Bag of Words Meets Bags of Popcorn](https://www.kaggle.com/c/word2vec-nlp-tutorial/details/part-1-for-beginners-bag-of-words)\n",
    "[https://github.com/wendykan/DeepLearningMovies](https://github.com/wendykan/DeepLearningMovies)\n"
   ]
  },
  {
   "cell_type": "markdown",
   "source": [
    "## Vectorizers\n",
    "\n",
    "To be meaningfully modeled, words must be turned into vectors. This notebook covers a number of the approaches for text vectorization."
   ],
   "metadata": {
    "collapsed": false
   }
  },
  {
   "cell_type": "markdown",
   "metadata": {
    "id": "5yVmd-_iw1pO"
   },
   "source": [
    "# Bag of Words"
   ]
  },
  {
   "cell_type": "code",
   "metadata": {
    "id": "MZiYIUZ0rrjh"
   },
   "source": [
    "import pandas as pd\n",
    "import numpy as np\n",
    "from gensim import models\n",
    "from gensim.models.doc2vec import Doc2Vec\n",
    "from gensim.models.doc2vec import TaggedDocument"
   ],
   "execution_count": 35,
   "outputs": []
  },
  {
   "cell_type": "code",
   "metadata": {
    "colab": {
     "base_uri": "https://localhost:8080/"
    },
    "id": "2dpaaRkrsKgJ",
    "outputId": "f557839f-d552-4bd3-810c-41f098b5fda2"
   },
   "source": [
    "!wget https://github.com/rpi-techfundamentals/spring2019-materials/raw/master/input/labeledTrainData.tsv\n",
    "!wget https://github.com/rpi-techfundamentals/spring2019-materials/raw/master/input/unlabeledTrainData.tsv\n",
    "!wget https://github.com/rpi-techfundamentals/spring2019-materials/raw/master/input/testData.tsv"
   ],
   "execution_count": 36,
   "outputs": [
    {
     "name": "stdout",
     "output_type": "stream",
     "text": [
      "--2023-03-20 13:39:59--  https://github.com/rpi-techfundamentals/spring2019-materials/raw/master/input/labeledTrainData.tsv\r\n",
      "Resolving github.com (github.com)... 140.82.112.4\r\n",
      "Connecting to github.com (github.com)|140.82.112.4|:443... connected.\r\n",
      "HTTP request sent, awaiting response... 302 Found\r\n",
      "Location: https://raw.githubusercontent.com/rpi-techfundamentals/spring2019-materials/master/input/labeledTrainData.tsv [following]\r\n",
      "--2023-03-20 13:39:59--  https://raw.githubusercontent.com/rpi-techfundamentals/spring2019-materials/master/input/labeledTrainData.tsv\r\n",
      "Resolving raw.githubusercontent.com (raw.githubusercontent.com)... 185.199.109.133, 185.199.110.133, 185.199.111.133, ...\r\n",
      "Connecting to raw.githubusercontent.com (raw.githubusercontent.com)|185.199.109.133|:443... connected.\r\n",
      "HTTP request sent, awaiting response... 200 OK\r\n",
      "Length: 33556378 (32M) [text/plain]\r\n",
      "Saving to: 'labeledTrainData.tsv.2'\r\n",
      "\r\n",
      "labeledTrainData.ts 100%[===================>]  32.00M  7.87MB/s    in 4.2s    \r\n",
      "\r\n",
      "2023-03-20 13:40:03 (7.68 MB/s) - 'labeledTrainData.tsv.2' saved [33556378/33556378]\r\n",
      "\r\n",
      "--2023-03-20 13:40:03--  https://github.com/rpi-techfundamentals/spring2019-materials/raw/master/input/unlabeledTrainData.tsv\r\n",
      "Resolving github.com (github.com)... 140.82.112.4\r\n",
      "Connecting to github.com (github.com)|140.82.112.4|:443... connected.\r\n",
      "HTTP request sent, awaiting response... 302 Found\r\n",
      "Location: https://raw.githubusercontent.com/rpi-techfundamentals/spring2019-materials/master/input/unlabeledTrainData.tsv [following]\r\n",
      "--2023-03-20 13:40:04--  https://raw.githubusercontent.com/rpi-techfundamentals/spring2019-materials/master/input/unlabeledTrainData.tsv\r\n",
      "Resolving raw.githubusercontent.com (raw.githubusercontent.com)... 185.199.109.133, 185.199.110.133, 185.199.111.133, ...\r\n",
      "Connecting to raw.githubusercontent.com (raw.githubusercontent.com)|185.199.109.133|:443... connected.\r\n",
      "HTTP request sent, awaiting response... 200 OK\r\n",
      "Length: 67281491 (64M) [text/plain]\r\n",
      "Saving to: 'unlabeledTrainData.tsv.2'\r\n",
      "\r\n",
      "unlabeledTrainData. 100%[===================>]  64.16M  8.25MB/s    in 8.1s    \r\n",
      "\r\n",
      "2023-03-20 13:40:12 (7.91 MB/s) - 'unlabeledTrainData.tsv.2' saved [67281491/67281491]\r\n",
      "\r\n",
      "--2023-03-20 13:40:12--  https://github.com/rpi-techfundamentals/spring2019-materials/raw/master/input/testData.tsv\r\n",
      "Resolving github.com (github.com)... 140.82.112.4\r\n",
      "Connecting to github.com (github.com)|140.82.112.4|:443... connected.\r\n",
      "HTTP request sent, awaiting response... 302 Found\r\n",
      "Location: https://raw.githubusercontent.com/rpi-techfundamentals/spring2019-materials/master/input/testData.tsv [following]\r\n",
      "--2023-03-20 13:40:12--  https://raw.githubusercontent.com/rpi-techfundamentals/spring2019-materials/master/input/testData.tsv\r\n",
      "Resolving raw.githubusercontent.com (raw.githubusercontent.com)... 185.199.109.133, 185.199.110.133, 185.199.111.133, ...\r\n",
      "Connecting to raw.githubusercontent.com (raw.githubusercontent.com)|185.199.109.133|:443... connected.\r\n",
      "HTTP request sent, awaiting response... 200 OK\r\n",
      "Length: 32724746 (31M) [text/plain]\r\n",
      "Saving to: 'testData.tsv.2'\r\n",
      "\r\n",
      "testData.tsv.2      100%[===================>]  31.21M  8.38MB/s    in 3.8s    \r\n",
      "\r\n",
      "2023-03-20 13:40:16 (8.25 MB/s) - 'testData.tsv.2' saved [32724746/32724746]\r\n",
      "\r\n"
     ]
    }
   ]
  },
  {
   "cell_type": "code",
   "metadata": {
    "id": "K_xVDa0xrrj1"
   },
   "source": [
    "train = pd.read_csv('labeledTrainData.tsv', header=0, \\\n",
    "                    delimiter=\"\\t\", quoting=3)\n",
    "unlabeled_train= pd.read_csv('unlabeledTrainData.tsv', header=0, \\\n",
    "                    delimiter=\"\\t\", quoting=3)\n",
    "test = pd.read_csv('testData.tsv', header=0, \\\n",
    "                    delimiter=\"\\t\", quoting=3)"
   ],
   "execution_count": 37,
   "outputs": []
  },
  {
   "cell_type": "code",
   "metadata": {
    "colab": {
     "base_uri": "https://localhost:8080/"
    },
    "id": "3xrN314NrrkC",
    "outputId": "2f623cd0-fcf0-410c-c038-3c1faf6a2032"
   },
   "source": [
    "print(train.columns.values, test.columns.values)"
   ],
   "execution_count": 38,
   "outputs": [
    {
     "name": "stdout",
     "output_type": "stream",
     "text": [
      "['id' 'sentiment' 'review'] ['id' 'review']\n"
     ]
    }
   ]
  },
  {
   "cell_type": "code",
   "metadata": {
    "colab": {
     "base_uri": "https://localhost:8080/",
     "height": 228
    },
    "id": "8cFlUrHWrrkP",
    "outputId": "6274eeec-4023-4610-99a8-61e796989b58"
   },
   "source": [
    "train.head()"
   ],
   "execution_count": 39,
   "outputs": [
    {
     "data": {
      "text/plain": "         id  sentiment                                             review\n0  \"5814_8\"          1  \"With all this stuff going down at the moment ...\n1  \"2381_9\"          1  \"\\\"The Classic War of the Worlds\\\" by Timothy ...\n2  \"7759_3\"          0  \"The film starts with a manager (Nicholas Bell...\n3  \"3630_4\"          0  \"It must be assumed that those who praised thi...\n4  \"9495_8\"          1  \"Superbly trashy and wondrously unpretentious ...",
      "text/html": "<div>\n<style scoped>\n    .dataframe tbody tr th:only-of-type {\n        vertical-align: middle;\n    }\n\n    .dataframe tbody tr th {\n        vertical-align: top;\n    }\n\n    .dataframe thead th {\n        text-align: right;\n    }\n</style>\n<table border=\"1\" class=\"dataframe\">\n  <thead>\n    <tr style=\"text-align: right;\">\n      <th></th>\n      <th>id</th>\n      <th>sentiment</th>\n      <th>review</th>\n    </tr>\n  </thead>\n  <tbody>\n    <tr>\n      <th>0</th>\n      <td>\"5814_8\"</td>\n      <td>1</td>\n      <td>\"With all this stuff going down at the moment ...</td>\n    </tr>\n    <tr>\n      <th>1</th>\n      <td>\"2381_9\"</td>\n      <td>1</td>\n      <td>\"\\\"The Classic War of the Worlds\\\" by Timothy ...</td>\n    </tr>\n    <tr>\n      <th>2</th>\n      <td>\"7759_3\"</td>\n      <td>0</td>\n      <td>\"The film starts with a manager (Nicholas Bell...</td>\n    </tr>\n    <tr>\n      <th>3</th>\n      <td>\"3630_4\"</td>\n      <td>0</td>\n      <td>\"It must be assumed that those who praised thi...</td>\n    </tr>\n    <tr>\n      <th>4</th>\n      <td>\"9495_8\"</td>\n      <td>1</td>\n      <td>\"Superbly trashy and wondrously unpretentious ...</td>\n    </tr>\n  </tbody>\n</table>\n</div>"
     },
     "execution_count": 39,
     "metadata": {},
     "output_type": "execute_result"
    }
   ]
  },
  {
   "cell_type": "code",
   "metadata": {
    "colab": {
     "base_uri": "https://localhost:8080/"
    },
    "id": "QxzJiIUzrrka",
    "outputId": "1c75f2b3-e26d-4836-d98c-e0ec39524689"
   },
   "source": [
    "print('The train shape is: ', train.shape)\n",
    "print('The train shape is: ', test.shape)"
   ],
   "execution_count": 40,
   "outputs": [
    {
     "name": "stdout",
     "output_type": "stream",
     "text": [
      "The train shape is:  (25000, 3)\n",
      "The train shape is:  (25000, 2)\n"
     ]
    }
   ]
  },
  {
   "cell_type": "code",
   "metadata": {
    "colab": {
     "base_uri": "https://localhost:8080/"
    },
    "id": "32RysgsXrrlD",
    "outputId": "6e8cbda1-e93e-4e6b-e241-c55123441652"
   },
   "source": [
    "print('The first review is:')\n",
    "print(train[\"review\"][0])"
   ],
   "execution_count": 41,
   "outputs": [
    {
     "name": "stdout",
     "output_type": "stream",
     "text": [
      "The first review is:\n",
      "\"With all this stuff going down at the moment with MJ i've started listening to his music, watching the odd documentary here and there, watched The Wiz and watched Moonwalker again. Maybe i just want to get a certain insight into this guy who i thought was really cool in the eighties just to maybe make up my mind whether he is guilty or innocent. Moonwalker is part biography, part feature film which i remember going to see at the cinema when it was originally released. Some of it has subtle messages about MJ's feeling towards the press and also the obvious message of drugs are bad m'kay.<br /><br />Visually impressive but of course this is all about Michael Jackson so unless you remotely like MJ in anyway then you are going to hate this and find it boring. Some may call MJ an egotist for consenting to the making of this movie BUT MJ and most of his fans would say that he made it for the fans which if true is really nice of him.<br /><br />The actual feature film bit when it finally starts is only on for 20 minutes or so excluding the Smooth Criminal sequence and Joe Pesci is convincing as a psychopathic all powerful drug lord. Why he wants MJ dead so bad is beyond me. Because MJ overheard his plans? Nah, Joe Pesci's character ranted that he wanted people to know it is he who is supplying drugs etc so i dunno, maybe he just hates MJ's music.<br /><br />Lots of cool things in this like MJ turning into a car and a robot and the whole Speed Demon sequence. Also, the director must have had the patience of a saint when it came to filming the kiddy Bad sequence as usually directors hate working with one kid let alone a whole bunch of them performing a complex dance scene.<br /><br />Bottom line, this movie is for people who like MJ on one level or another (which i think is most people). If not, then stay away. It does try and give off a wholesome message and ironically MJ's bestest buddy in this movie is a girl! Michael Jackson is truly one of the most talented people ever to grace this planet but is he guilty? Well, with all the attention i've gave this subject....hmmm well i don't know because people can be different behind closed doors, i know this for a fact. He is either an extremely nice but stupid guy or one of the most sickest liars. I hope he is not the latter.\"\n"
     ]
    }
   ]
  },
  {
   "cell_type": "markdown",
   "metadata": {
    "id": "0xMxsymMxtSG"
   },
   "source": [
    "### Common Preprocessing\n",
    "\n",
    "Packages provide a variety of preprocessing routines. This results in a Tokenized set of data. \n",
    "\n",
    "\n",
    "https://radimrehurek.com/gensim/parsing/preprocessing.html\n"
   ]
  },
  {
   "cell_type": "code",
   "metadata": {
    "id": "ym3KN2U1rrlG"
   },
   "source": [
    "from bs4 import BeautifulSoup\n",
    "from gensim.parsing.preprocessing import strip_punctuation, strip_numeric, stem_text,  preprocess_string\n",
    "from gensim.parsing.preprocessing import strip_multiple_whitespaces, remove_stopwords\n",
    "\n",
    "# define custom filters\n",
    "text_col='review'\n",
    "CUSTOM_FILTERS = [\n",
    "                  lambda x: BeautifulSoup(x).get_text(),\n",
    "                  lambda x: x.encode('utf-8').strip(),\n",
    "                  lambda x: x.lower(), #lowercase\n",
    "                  strip_multiple_whitespaces,# remove repeating whitespaces\n",
    "                  strip_numeric, # remove numbers\n",
    "                  strip_punctuation, #remove punctuation\n",
    "                  remove_stopwords,# remove stopwords\n",
    "                  stem_text # return porter-stemmed text,\n",
    "                 ]\n",
    "\n",
    "train[text_col+'_tokens']=train[text_col].apply(preprocess_string, filters=CUSTOM_FILTERS)\n",
    "train"
   ],
   "execution_count": 56,
   "outputs": [
    {
     "name": "stderr",
     "output_type": "stream",
     "text": [
      "/Users/minor/opt/anaconda3/lib/python3.9/site-packages/bs4/__init__.py:435: MarkupResemblesLocatorWarning: The input looks more like a filename than markup. You may want to open this file and pass the filehandle into Beautiful Soup.\n",
      "  warnings.warn(\n"
     ]
    },
    {
     "data": {
      "text/plain": "              id  sentiment  \\\n0       \"5814_8\"          1   \n1       \"2381_9\"          1   \n2       \"7759_3\"          0   \n3       \"3630_4\"          0   \n4       \"9495_8\"          1   \n...          ...        ...   \n24995   \"3453_3\"          0   \n24996   \"5064_1\"          0   \n24997  \"10905_3\"          0   \n24998  \"10194_3\"          0   \n24999   \"8478_8\"          1   \n\n                                                  review  \\\n0      \"With all this stuff going down at the moment ...   \n1      \"\\\"The Classic War of the Worlds\\\" by Timothy ...   \n2      \"The film starts with a manager (Nicholas Bell...   \n3      \"It must be assumed that those who praised thi...   \n4      \"Superbly trashy and wondrously unpretentious ...   \n...                                                  ...   \n24995  \"It seems like more consideration has gone int...   \n24996  \"I don't believe they made this film. Complete...   \n24997  \"Guy is a loser. Can't get girls, needs to bui...   \n24998  \"This 30 minute documentary Buñuel made in the...   \n24999  \"I saw this movie as a child and it broke my h...   \n\n                                           review_tokens  \\\n0      [stuff, go, moment, mj, ve, start, listen, mus...   \n1      [classic, war, world, timothi, hine, entertain...   \n2      [film, start, manag, nichola, bell, give, welc...   \n3      [assum, prais, film, greatest, film, opera, t,...   \n4      [superbl, trashi, wondrous, unpretenti, s, exp...   \n...                                                  ...   \n24995  [like, consider, gone, imdb, review, film, wen...   \n24996  [t, believ, film, complet, unnecessari, film, ...   \n24997  [gui, loser, t, girl, need, build, pick, stron...   \n24998  [minut, documentari, buñuel, earli, s, spain, ...   \n24999  [saw, movi, child, broke, heart, stori, unfini...   \n\n                                              review_bow  \\\n0      [(0, 1), (1, 1), (2, 1), (3, 3), (4, 1), (5, 1...   \n1      [(26, 1), (36, 1), (40, 2), (64, 1), (79, 2), ...   \n2      [(7, 1), (8, 2), (15, 1), (19, 1), (21, 1), (2...   \n3      [(8, 4), (14, 1), (39, 1), (40, 5), (79, 1), (...   \n4      [(0, 1), (16, 1), (40, 1), (51, 1), (58, 1), (...   \n...                                                  ...   \n24995  [(8, 16), (14, 1), (19, 1), (40, 2), (44, 1), ...   \n24996  [(3, 1), (14, 2), (38, 1), (39, 1), (40, 7), (...   \n24997  [(7, 1), (8, 2), (40, 3), (43, 1), (46, 2), (5...   \n24998  [(28, 1), (35, 1), (40, 1), (61, 1), (64, 1), ...   \n24999  [(39, 1), (64, 1), (69, 1), (71, 1), (79, 4), ...   \n\n                                        review_tfidf_bow  \\\n0      [(0, 0.017801646828531716), (1, 0.032536370221...   \n1      [(26, 0.05409934611948453), (36, 0.04806180321...   \n2      [(7, 0.02641721019773179), (8, 0.0113918159397...   \n3      [(8, 0.027915395297452853), (14, 0.01445786468...   \n4      [(0, 0.026260993443946862), (16, 0.03952381157...   \n...                                                  ...   \n24995  [(8, 0.3705908678713166), (14, 0.0479838505272...   \n24996  [(3, 0.04430060588799008), (14, 0.067862671930...   \n24997  [(7, 0.08536332493723874), (8, 0.0368109758149...   \n24998  [(28, 0.06264404738146905), (35, 0.05167372356...   \n24999  [(39, 0.04445021339433996), (64, 0.01667415476...   \n\n                                              review_tag  \\\n0      ([stuff, go, moment, mj, ve, start, listen, mu...   \n1      ([classic, war, world, timothi, hine, entertai...   \n2      ([film, start, manag, nichola, bell, give, wel...   \n3      ([assum, prais, film, greatest, film, opera, t...   \n4      ([superbl, trashi, wondrous, unpretenti, s, ex...   \n...                                                  ...   \n24995  ([like, consider, gone, imdb, review, film, we...   \n24996  ([t, believ, film, complet, unnecessari, film,...   \n24997  ([gui, loser, t, girl, need, build, pick, stro...   \n24998  ([minut, documentari, buñuel, earli, s, spain,...   \n24999  ([saw, movi, child, broke, heart, stori, unfin...   \n\n                                          review_docvecs  \\\n0      [-0.37071925, -0.37471336, 0.35511154, 0.31053...   \n1      [-0.13829194, 0.6065801, -0.3300408, 0.0780963...   \n2      [-0.87693584, -0.6684592, 0.039008725, 0.04651...   \n3      [0.05829846, 0.006241254, -0.68099487, -1.0528...   \n4      [-0.12724672, -0.27751902, 0.23157094, -0.1183...   \n...                                                  ...   \n24995  [0.15594596, 0.18544354, -0.105273694, 0.22136...   \n24996  [-0.11668433, 0.3858125, 0.12042065, -0.166378...   \n24997  [-0.019323384, 0.02601225, -0.20017359, -0.245...   \n24998  [-0.013894695, -0.16366182, -0.06063278, 0.144...   \n24999  [0.18574005, 0.13300447, -0.007558366, 0.15690...   \n\n                                          review_lsi_bow  \\\n0      [(0, 11.779776065057115), (1, 0.68880848196096...   \n1      [(0, 1.8561407545341606), (1, 1.89513522830264...   \n2      [(0, 4.764756308545519), (1, 2.073713845195448...   \n3      [(0, 7.83569395865421), (1, 2.7322675300286496...   \n4      [(0, 4.381490951727345), (1, 4.539909128826721...   \n...                                                  ...   \n24995  [(0, 13.536256392336092), (1, -8.7504469219753...   \n24996  [(0, 4.968709313380288), (1, 5.659449057954181...   \n24997  [(0, 3.417893938851843), (1, 0.762966760162663...   \n24998  [(0, 2.9912926459933327), (1, 3.24235945183102...   \n24999  [(0, 2.2874472099580565), (1, 2.01954848501639...   \n\n                                        review_lsi_bow_d  \\\n0      [11.779776065057115, 0.6888084819609639, 1.001...   \n1      [1.8561407545341606, 1.8951352283026432, 0.902...   \n2      [4.764756308545519, 2.0737138451954484, -1.120...   \n3      [7.83569395865421, 2.7322675300286496, -1.6456...   \n4      [4.381490951727345, 4.5399091288267215, -0.292...   \n...                                                  ...   \n24995  [13.536256392336092, -8.750446921975358, -1.57...   \n24996  [4.968709313380288, 5.659449057954181, -3.2577...   \n24997  [3.417893938851843, 0.7629667601626638, -0.275...   \n24998  [2.9912926459933327, 3.2423594518310255, -0.23...   \n24999  [2.2874472099580565, 2.0195484850163914, 3.821...   \n\n                                        review_lsi_tfidf  \\\n0      [(0, 0.13420705817330306), (1, 0.0204246000473...   \n1      [(0, 0.10878197286923105), (1, -0.038464149430...   \n2      [(0, 0.10832676919366832), (1, -0.037771180057...   \n3      [(0, 0.11090122350875947), (1, -0.027767160612...   \n4      [(0, 0.1362741166670168), (1, -0.0238380867201...   \n...                                                  ...   \n24995  [(0, 0.21539958446612195), (1, -0.028975017869...   \n24996  [(0, 0.1819199245141776), (1, -0.0006595155745...   \n24997  [(0, 0.15146882820812926), (1, 0.0486274672625...   \n24998  [(0, 0.07659577172365657), (1, -0.014535841799...   \n24999  [(0, 0.10699928350468638), (1, 0.0011356745055...   \n\n                                      review_lsi_tfidf_d  \\\n0      [0.13420705817330306, 0.020424600047362993, -0...   \n1      [0.10878197286923105, -0.03846414943017419, 0....   \n2      [0.10832676919366832, -0.03777118005717449, 0....   \n3      [0.11090122350875947, -0.027767160612794, 0.00...   \n4      [0.1362741166670168, -0.023838086720193115, 0....   \n...                                                  ...   \n24995  [0.21539958446612195, -0.02897501786907147, -0...   \n24996  [0.1819199245141776, -0.0006595155745994549, 0...   \n24997  [0.15146882820812926, 0.04862746726251161, 0.0...   \n24998  [0.07659577172365657, -0.014535841799178663, 0...   \n24999  [0.10699928350468638, 0.001135674505579097, 0....   \n\n                                          review_lda_bow  \\\n0      [(0, 0.00010167516), (1, 0.00010167516), (2, 0...   \n1      [(0, 0.057396516), (1, 0.0002598573), (2, 0.00...   \n2      [(0, 9.49308e-05), (1, 0.107810296), (2, 9.493...   \n3      [(0, 0.0001194125), (1, 0.0001194125), (2, 0.0...   \n4      [(0, 0.00010438681), (1, 0.00010438681), (2, 0...   \n...                                                  ...   \n24995  [(0, 0.0004084208), (1, 0.0004084208), (2, 0.0...   \n24996  [(0, 0.00024402926), (1, 0.00024402926), (2, 0...   \n24997  [(0, 0.19364153), (1, 0.00037042814), (2, 0.00...   \n24998  [(0, 0.00023004648), (1, 0.00023004648), (2, 0...   \n24999  [(0, 0.095745586), (1, 0.00028241836), (2, 0.0...   \n\n                                        review_lda_bow_d  \\\n0      [0.00010167516302317381, 0.0001016751630231738...   \n1      [0.05739651620388031, 0.0002598573046270758, 0...   \n2      [9.493080142419785e-05, 0.10781029611825943, 9...   \n3      [0.00011941249977098778, 0.0001194124997709877...   \n4      [0.00010438681056257337, 0.0001043868105625733...   \n...                                                  ...   \n24995  [0.00040842080488801, 0.00040842080488801, 0.0...   \n24996  [0.0002440292591927573, 0.0002440292591927573,...   \n24997  [0.1936415284872055, 0.00037042814074084163, 0...   \n24998  [0.0002300464839208871, 0.0002300464839208871,...   \n24999  [0.09574558585882187, 0.0002824183611664921, 0...   \n\n                                        review_lda_tfidf  \\\n0      [(0, 0.003221488), (1, 0.003221488), (2, 0.003...   \n1      [(0, 0.0029386827), (1, 0.0029386827), (2, 0.0...   \n2      [(0, 0.0022494197), (1, 0.0022494197), (2, 0.0...   \n3      [(0, 0.0029939013), (1, 0.0029939013), (2, 0.0...   \n4      [(0, 0.0018709088), (1, 0.0018709088), (2, 0.0...   \n...                                                  ...   \n24995  [(0, 0.0042754444), (1, 0.0042754444), (2, 0.0...   \n24996  [(0, 0.0030703177), (1, 0.0030703177), (2, 0.0...   \n24997  [(0, 0.0036014372), (1, 0.0036014372), (2, 0.0...   \n24998  [(0, 0.0036316316), (1, 0.0036316316), (2, 0.0...   \n24999  [(0, 0.0034726185), (1, 0.0034726185), (2, 0.0...   \n\n                                      review_lda_tfidf_d  \n0      [0.00322148809209466, 0.00322148809209466, 0.0...  \n1      [0.0029386826790869236, 0.0029386826790869236,...  \n2      [0.002249419689178467, 0.002249419689178467, 0...  \n3      [0.0029939012601971626, 0.0029939012601971626,...  \n4      [0.0018709087744355202, 0.0018709087744355202,...  \n...                                                  ...  \n24995  [0.004275444429367781, 0.004275444429367781, 0...  \n24996  [0.0030703176744282246, 0.0030703176744282246,...  \n24997  [0.0036014372017234564, 0.0036014372017234564,...  \n24998  [0.003631631610915065, 0.003631631610915065, 0...  \n24999  [0.0034726185258477926, 0.0034726185258477926,...  \n\n[25000 rows x 16 columns]",
      "text/html": "<div>\n<style scoped>\n    .dataframe tbody tr th:only-of-type {\n        vertical-align: middle;\n    }\n\n    .dataframe tbody tr th {\n        vertical-align: top;\n    }\n\n    .dataframe thead th {\n        text-align: right;\n    }\n</style>\n<table border=\"1\" class=\"dataframe\">\n  <thead>\n    <tr style=\"text-align: right;\">\n      <th></th>\n      <th>id</th>\n      <th>sentiment</th>\n      <th>review</th>\n      <th>review_tokens</th>\n      <th>review_bow</th>\n      <th>review_tfidf_bow</th>\n      <th>review_tag</th>\n      <th>review_docvecs</th>\n      <th>review_lsi_bow</th>\n      <th>review_lsi_bow_d</th>\n      <th>review_lsi_tfidf</th>\n      <th>review_lsi_tfidf_d</th>\n      <th>review_lda_bow</th>\n      <th>review_lda_bow_d</th>\n      <th>review_lda_tfidf</th>\n      <th>review_lda_tfidf_d</th>\n    </tr>\n  </thead>\n  <tbody>\n    <tr>\n      <th>0</th>\n      <td>\"5814_8\"</td>\n      <td>1</td>\n      <td>\"With all this stuff going down at the moment ...</td>\n      <td>[stuff, go, moment, mj, ve, start, listen, mus...</td>\n      <td>[(0, 1), (1, 1), (2, 1), (3, 3), (4, 1), (5, 1...</td>\n      <td>[(0, 0.017801646828531716), (1, 0.032536370221...</td>\n      <td>([stuff, go, moment, mj, ve, start, listen, mu...</td>\n      <td>[-0.37071925, -0.37471336, 0.35511154, 0.31053...</td>\n      <td>[(0, 11.779776065057115), (1, 0.68880848196096...</td>\n      <td>[11.779776065057115, 0.6888084819609639, 1.001...</td>\n      <td>[(0, 0.13420705817330306), (1, 0.0204246000473...</td>\n      <td>[0.13420705817330306, 0.020424600047362993, -0...</td>\n      <td>[(0, 0.00010167516), (1, 0.00010167516), (2, 0...</td>\n      <td>[0.00010167516302317381, 0.0001016751630231738...</td>\n      <td>[(0, 0.003221488), (1, 0.003221488), (2, 0.003...</td>\n      <td>[0.00322148809209466, 0.00322148809209466, 0.0...</td>\n    </tr>\n    <tr>\n      <th>1</th>\n      <td>\"2381_9\"</td>\n      <td>1</td>\n      <td>\"\\\"The Classic War of the Worlds\\\" by Timothy ...</td>\n      <td>[classic, war, world, timothi, hine, entertain...</td>\n      <td>[(26, 1), (36, 1), (40, 2), (64, 1), (79, 2), ...</td>\n      <td>[(26, 0.05409934611948453), (36, 0.04806180321...</td>\n      <td>([classic, war, world, timothi, hine, entertai...</td>\n      <td>[-0.13829194, 0.6065801, -0.3300408, 0.0780963...</td>\n      <td>[(0, 1.8561407545341606), (1, 1.89513522830264...</td>\n      <td>[1.8561407545341606, 1.8951352283026432, 0.902...</td>\n      <td>[(0, 0.10878197286923105), (1, -0.038464149430...</td>\n      <td>[0.10878197286923105, -0.03846414943017419, 0....</td>\n      <td>[(0, 0.057396516), (1, 0.0002598573), (2, 0.00...</td>\n      <td>[0.05739651620388031, 0.0002598573046270758, 0...</td>\n      <td>[(0, 0.0029386827), (1, 0.0029386827), (2, 0.0...</td>\n      <td>[0.0029386826790869236, 0.0029386826790869236,...</td>\n    </tr>\n    <tr>\n      <th>2</th>\n      <td>\"7759_3\"</td>\n      <td>0</td>\n      <td>\"The film starts with a manager (Nicholas Bell...</td>\n      <td>[film, start, manag, nichola, bell, give, welc...</td>\n      <td>[(7, 1), (8, 2), (15, 1), (19, 1), (21, 1), (2...</td>\n      <td>[(7, 0.02641721019773179), (8, 0.0113918159397...</td>\n      <td>([film, start, manag, nichola, bell, give, wel...</td>\n      <td>[-0.87693584, -0.6684592, 0.039008725, 0.04651...</td>\n      <td>[(0, 4.764756308545519), (1, 2.073713845195448...</td>\n      <td>[4.764756308545519, 2.0737138451954484, -1.120...</td>\n      <td>[(0, 0.10832676919366832), (1, -0.037771180057...</td>\n      <td>[0.10832676919366832, -0.03777118005717449, 0....</td>\n      <td>[(0, 9.49308e-05), (1, 0.107810296), (2, 9.493...</td>\n      <td>[9.493080142419785e-05, 0.10781029611825943, 9...</td>\n      <td>[(0, 0.0022494197), (1, 0.0022494197), (2, 0.0...</td>\n      <td>[0.002249419689178467, 0.002249419689178467, 0...</td>\n    </tr>\n    <tr>\n      <th>3</th>\n      <td>\"3630_4\"</td>\n      <td>0</td>\n      <td>\"It must be assumed that those who praised thi...</td>\n      <td>[assum, prais, film, greatest, film, opera, t,...</td>\n      <td>[(8, 4), (14, 1), (39, 1), (40, 5), (79, 1), (...</td>\n      <td>[(8, 0.027915395297452853), (14, 0.01445786468...</td>\n      <td>([assum, prais, film, greatest, film, opera, t...</td>\n      <td>[0.05829846, 0.006241254, -0.68099487, -1.0528...</td>\n      <td>[(0, 7.83569395865421), (1, 2.7322675300286496...</td>\n      <td>[7.83569395865421, 2.7322675300286496, -1.6456...</td>\n      <td>[(0, 0.11090122350875947), (1, -0.027767160612...</td>\n      <td>[0.11090122350875947, -0.027767160612794, 0.00...</td>\n      <td>[(0, 0.0001194125), (1, 0.0001194125), (2, 0.0...</td>\n      <td>[0.00011941249977098778, 0.0001194124997709877...</td>\n      <td>[(0, 0.0029939013), (1, 0.0029939013), (2, 0.0...</td>\n      <td>[0.0029939012601971626, 0.0029939012601971626,...</td>\n    </tr>\n    <tr>\n      <th>4</th>\n      <td>\"9495_8\"</td>\n      <td>1</td>\n      <td>\"Superbly trashy and wondrously unpretentious ...</td>\n      <td>[superbl, trashi, wondrous, unpretenti, s, exp...</td>\n      <td>[(0, 1), (16, 1), (40, 1), (51, 1), (58, 1), (...</td>\n      <td>[(0, 0.026260993443946862), (16, 0.03952381157...</td>\n      <td>([superbl, trashi, wondrous, unpretenti, s, ex...</td>\n      <td>[-0.12724672, -0.27751902, 0.23157094, -0.1183...</td>\n      <td>[(0, 4.381490951727345), (1, 4.539909128826721...</td>\n      <td>[4.381490951727345, 4.5399091288267215, -0.292...</td>\n      <td>[(0, 0.1362741166670168), (1, -0.0238380867201...</td>\n      <td>[0.1362741166670168, -0.023838086720193115, 0....</td>\n      <td>[(0, 0.00010438681), (1, 0.00010438681), (2, 0...</td>\n      <td>[0.00010438681056257337, 0.0001043868105625733...</td>\n      <td>[(0, 0.0018709088), (1, 0.0018709088), (2, 0.0...</td>\n      <td>[0.0018709087744355202, 0.0018709087744355202,...</td>\n    </tr>\n    <tr>\n      <th>...</th>\n      <td>...</td>\n      <td>...</td>\n      <td>...</td>\n      <td>...</td>\n      <td>...</td>\n      <td>...</td>\n      <td>...</td>\n      <td>...</td>\n      <td>...</td>\n      <td>...</td>\n      <td>...</td>\n      <td>...</td>\n      <td>...</td>\n      <td>...</td>\n      <td>...</td>\n      <td>...</td>\n    </tr>\n    <tr>\n      <th>24995</th>\n      <td>\"3453_3\"</td>\n      <td>0</td>\n      <td>\"It seems like more consideration has gone int...</td>\n      <td>[like, consider, gone, imdb, review, film, wen...</td>\n      <td>[(8, 16), (14, 1), (19, 1), (40, 2), (44, 1), ...</td>\n      <td>[(8, 0.3705908678713166), (14, 0.0479838505272...</td>\n      <td>([like, consider, gone, imdb, review, film, we...</td>\n      <td>[0.15594596, 0.18544354, -0.105273694, 0.22136...</td>\n      <td>[(0, 13.536256392336092), (1, -8.7504469219753...</td>\n      <td>[13.536256392336092, -8.750446921975358, -1.57...</td>\n      <td>[(0, 0.21539958446612195), (1, -0.028975017869...</td>\n      <td>[0.21539958446612195, -0.02897501786907147, -0...</td>\n      <td>[(0, 0.0004084208), (1, 0.0004084208), (2, 0.0...</td>\n      <td>[0.00040842080488801, 0.00040842080488801, 0.0...</td>\n      <td>[(0, 0.0042754444), (1, 0.0042754444), (2, 0.0...</td>\n      <td>[0.004275444429367781, 0.004275444429367781, 0...</td>\n    </tr>\n    <tr>\n      <th>24996</th>\n      <td>\"5064_1\"</td>\n      <td>0</td>\n      <td>\"I don't believe they made this film. Complete...</td>\n      <td>[t, believ, film, complet, unnecessari, film, ...</td>\n      <td>[(3, 1), (14, 2), (38, 1), (39, 1), (40, 7), (...</td>\n      <td>[(3, 0.04430060588799008), (14, 0.067862671930...</td>\n      <td>([t, believ, film, complet, unnecessari, film,...</td>\n      <td>[-0.11668433, 0.3858125, 0.12042065, -0.166378...</td>\n      <td>[(0, 4.968709313380288), (1, 5.659449057954181...</td>\n      <td>[4.968709313380288, 5.659449057954181, -3.2577...</td>\n      <td>[(0, 0.1819199245141776), (1, -0.0006595155745...</td>\n      <td>[0.1819199245141776, -0.0006595155745994549, 0...</td>\n      <td>[(0, 0.00024402926), (1, 0.00024402926), (2, 0...</td>\n      <td>[0.0002440292591927573, 0.0002440292591927573,...</td>\n      <td>[(0, 0.0030703177), (1, 0.0030703177), (2, 0.0...</td>\n      <td>[0.0030703176744282246, 0.0030703176744282246,...</td>\n    </tr>\n    <tr>\n      <th>24997</th>\n      <td>\"10905_3\"</td>\n      <td>0</td>\n      <td>\"Guy is a loser. Can't get girls, needs to bui...</td>\n      <td>[gui, loser, t, girl, need, build, pick, stron...</td>\n      <td>[(7, 1), (8, 2), (40, 3), (43, 1), (46, 2), (5...</td>\n      <td>[(7, 0.08536332493723874), (8, 0.0368109758149...</td>\n      <td>([gui, loser, t, girl, need, build, pick, stro...</td>\n      <td>[-0.019323384, 0.02601225, -0.20017359, -0.245...</td>\n      <td>[(0, 3.417893938851843), (1, 0.762966760162663...</td>\n      <td>[3.417893938851843, 0.7629667601626638, -0.275...</td>\n      <td>[(0, 0.15146882820812926), (1, 0.0486274672625...</td>\n      <td>[0.15146882820812926, 0.04862746726251161, 0.0...</td>\n      <td>[(0, 0.19364153), (1, 0.00037042814), (2, 0.00...</td>\n      <td>[0.1936415284872055, 0.00037042814074084163, 0...</td>\n      <td>[(0, 0.0036014372), (1, 0.0036014372), (2, 0.0...</td>\n      <td>[0.0036014372017234564, 0.0036014372017234564,...</td>\n    </tr>\n    <tr>\n      <th>24998</th>\n      <td>\"10194_3\"</td>\n      <td>0</td>\n      <td>\"This 30 minute documentary Buñuel made in the...</td>\n      <td>[minut, documentari, buñuel, earli, s, spain, ...</td>\n      <td>[(28, 1), (35, 1), (40, 1), (61, 1), (64, 1), ...</td>\n      <td>[(28, 0.06264404738146905), (35, 0.05167372356...</td>\n      <td>([minut, documentari, buñuel, earli, s, spain,...</td>\n      <td>[-0.013894695, -0.16366182, -0.06063278, 0.144...</td>\n      <td>[(0, 2.9912926459933327), (1, 3.24235945183102...</td>\n      <td>[2.9912926459933327, 3.2423594518310255, -0.23...</td>\n      <td>[(0, 0.07659577172365657), (1, -0.014535841799...</td>\n      <td>[0.07659577172365657, -0.014535841799178663, 0...</td>\n      <td>[(0, 0.00023004648), (1, 0.00023004648), (2, 0...</td>\n      <td>[0.0002300464839208871, 0.0002300464839208871,...</td>\n      <td>[(0, 0.0036316316), (1, 0.0036316316), (2, 0.0...</td>\n      <td>[0.003631631610915065, 0.003631631610915065, 0...</td>\n    </tr>\n    <tr>\n      <th>24999</th>\n      <td>\"8478_8\"</td>\n      <td>1</td>\n      <td>\"I saw this movie as a child and it broke my h...</td>\n      <td>[saw, movi, child, broke, heart, stori, unfini...</td>\n      <td>[(39, 1), (64, 1), (69, 1), (71, 1), (79, 4), ...</td>\n      <td>[(39, 0.04445021339433996), (64, 0.01667415476...</td>\n      <td>([saw, movi, child, broke, heart, stori, unfin...</td>\n      <td>[0.18574005, 0.13300447, -0.007558366, 0.15690...</td>\n      <td>[(0, 2.2874472099580565), (1, 2.01954848501639...</td>\n      <td>[2.2874472099580565, 2.0195484850163914, 3.821...</td>\n      <td>[(0, 0.10699928350468638), (1, 0.0011356745055...</td>\n      <td>[0.10699928350468638, 0.001135674505579097, 0....</td>\n      <td>[(0, 0.095745586), (1, 0.00028241836), (2, 0.0...</td>\n      <td>[0.09574558585882187, 0.0002824183611664921, 0...</td>\n      <td>[(0, 0.0034726185), (1, 0.0034726185), (2, 0.0...</td>\n      <td>[0.0034726185258477926, 0.0034726185258477926,...</td>\n    </tr>\n  </tbody>\n</table>\n<p>25000 rows × 16 columns</p>\n</div>"
     },
     "execution_count": 56,
     "metadata": {},
     "output_type": "execute_result"
    }
   ]
  },
  {
   "cell_type": "code",
   "metadata": {
    "id": "kwQ4XjyC1Wcj"
   },
   "source": [
    "from gensim import corpora\n",
    "\n",
    "#Create a Dictionary.\n",
    "cdict = corpora.Dictionary(train[text_col+'_tokens'].to_list())\n",
    "\n",
    "#Create a Bag of Words Model\n",
    "train[text_col+'_bow']=train[text_col+'_tokens'].apply(lambda x, dictionary: dictionary.doc2bow(x), dictionary= cdict)\n",
    "train"
   ],
   "execution_count": 43,
   "outputs": [
    {
     "data": {
      "text/plain": "              id  sentiment  \\\n0       \"5814_8\"          1   \n1       \"2381_9\"          1   \n2       \"7759_3\"          0   \n3       \"3630_4\"          0   \n4       \"9495_8\"          1   \n...          ...        ...   \n24995   \"3453_3\"          0   \n24996   \"5064_1\"          0   \n24997  \"10905_3\"          0   \n24998  \"10194_3\"          0   \n24999   \"8478_8\"          1   \n\n                                                  review  \\\n0      \"With all this stuff going down at the moment ...   \n1      \"\\\"The Classic War of the Worlds\\\" by Timothy ...   \n2      \"The film starts with a manager (Nicholas Bell...   \n3      \"It must be assumed that those who praised thi...   \n4      \"Superbly trashy and wondrously unpretentious ...   \n...                                                  ...   \n24995  \"It seems like more consideration has gone int...   \n24996  \"I don't believe they made this film. Complete...   \n24997  \"Guy is a loser. Can't get girls, needs to bui...   \n24998  \"This 30 minute documentary Buñuel made in the...   \n24999  \"I saw this movie as a child and it broke my h...   \n\n                                           review_tokens  \\\n0      [stuff, go, moment, mj, ve, start, listen, mus...   \n1      [classic, war, world, timothi, hine, entertain...   \n2      [film, start, manag, nichola, bell, give, welc...   \n3      [assum, prais, film, greatest, film, opera, t,...   \n4      [superbl, trashi, wondrous, unpretenti, s, exp...   \n...                                                  ...   \n24995  [like, consider, gone, imdb, review, film, wen...   \n24996  [t, believ, film, complet, unnecessari, film, ...   \n24997  [gui, loser, t, girl, need, build, pick, stron...   \n24998  [minut, documentari, buñuel, earli, s, spain, ...   \n24999  [saw, movi, child, broke, heart, stori, unfini...   \n\n                                              review_bow  \n0      [(0, 1), (1, 1), (2, 1), (3, 3), (4, 1), (5, 1...  \n1      [(26, 1), (36, 1), (40, 2), (64, 1), (79, 2), ...  \n2      [(7, 1), (8, 2), (15, 1), (19, 1), (21, 1), (2...  \n3      [(8, 4), (14, 1), (39, 1), (40, 5), (79, 1), (...  \n4      [(0, 1), (16, 1), (40, 1), (51, 1), (58, 1), (...  \n...                                                  ...  \n24995  [(8, 16), (14, 1), (19, 1), (40, 2), (44, 1), ...  \n24996  [(3, 1), (14, 2), (38, 1), (39, 1), (40, 7), (...  \n24997  [(7, 1), (8, 2), (40, 3), (43, 1), (46, 2), (5...  \n24998  [(28, 1), (35, 1), (40, 1), (61, 1), (64, 1), ...  \n24999  [(39, 1), (64, 1), (69, 1), (71, 1), (79, 4), ...  \n\n[25000 rows x 5 columns]",
      "text/html": "<div>\n<style scoped>\n    .dataframe tbody tr th:only-of-type {\n        vertical-align: middle;\n    }\n\n    .dataframe tbody tr th {\n        vertical-align: top;\n    }\n\n    .dataframe thead th {\n        text-align: right;\n    }\n</style>\n<table border=\"1\" class=\"dataframe\">\n  <thead>\n    <tr style=\"text-align: right;\">\n      <th></th>\n      <th>id</th>\n      <th>sentiment</th>\n      <th>review</th>\n      <th>review_tokens</th>\n      <th>review_bow</th>\n    </tr>\n  </thead>\n  <tbody>\n    <tr>\n      <th>0</th>\n      <td>\"5814_8\"</td>\n      <td>1</td>\n      <td>\"With all this stuff going down at the moment ...</td>\n      <td>[stuff, go, moment, mj, ve, start, listen, mus...</td>\n      <td>[(0, 1), (1, 1), (2, 1), (3, 3), (4, 1), (5, 1...</td>\n    </tr>\n    <tr>\n      <th>1</th>\n      <td>\"2381_9\"</td>\n      <td>1</td>\n      <td>\"\\\"The Classic War of the Worlds\\\" by Timothy ...</td>\n      <td>[classic, war, world, timothi, hine, entertain...</td>\n      <td>[(26, 1), (36, 1), (40, 2), (64, 1), (79, 2), ...</td>\n    </tr>\n    <tr>\n      <th>2</th>\n      <td>\"7759_3\"</td>\n      <td>0</td>\n      <td>\"The film starts with a manager (Nicholas Bell...</td>\n      <td>[film, start, manag, nichola, bell, give, welc...</td>\n      <td>[(7, 1), (8, 2), (15, 1), (19, 1), (21, 1), (2...</td>\n    </tr>\n    <tr>\n      <th>3</th>\n      <td>\"3630_4\"</td>\n      <td>0</td>\n      <td>\"It must be assumed that those who praised thi...</td>\n      <td>[assum, prais, film, greatest, film, opera, t,...</td>\n      <td>[(8, 4), (14, 1), (39, 1), (40, 5), (79, 1), (...</td>\n    </tr>\n    <tr>\n      <th>4</th>\n      <td>\"9495_8\"</td>\n      <td>1</td>\n      <td>\"Superbly trashy and wondrously unpretentious ...</td>\n      <td>[superbl, trashi, wondrous, unpretenti, s, exp...</td>\n      <td>[(0, 1), (16, 1), (40, 1), (51, 1), (58, 1), (...</td>\n    </tr>\n    <tr>\n      <th>...</th>\n      <td>...</td>\n      <td>...</td>\n      <td>...</td>\n      <td>...</td>\n      <td>...</td>\n    </tr>\n    <tr>\n      <th>24995</th>\n      <td>\"3453_3\"</td>\n      <td>0</td>\n      <td>\"It seems like more consideration has gone int...</td>\n      <td>[like, consider, gone, imdb, review, film, wen...</td>\n      <td>[(8, 16), (14, 1), (19, 1), (40, 2), (44, 1), ...</td>\n    </tr>\n    <tr>\n      <th>24996</th>\n      <td>\"5064_1\"</td>\n      <td>0</td>\n      <td>\"I don't believe they made this film. Complete...</td>\n      <td>[t, believ, film, complet, unnecessari, film, ...</td>\n      <td>[(3, 1), (14, 2), (38, 1), (39, 1), (40, 7), (...</td>\n    </tr>\n    <tr>\n      <th>24997</th>\n      <td>\"10905_3\"</td>\n      <td>0</td>\n      <td>\"Guy is a loser. Can't get girls, needs to bui...</td>\n      <td>[gui, loser, t, girl, need, build, pick, stron...</td>\n      <td>[(7, 1), (8, 2), (40, 3), (43, 1), (46, 2), (5...</td>\n    </tr>\n    <tr>\n      <th>24998</th>\n      <td>\"10194_3\"</td>\n      <td>0</td>\n      <td>\"This 30 minute documentary Buñuel made in the...</td>\n      <td>[minut, documentari, buñuel, earli, s, spain, ...</td>\n      <td>[(28, 1), (35, 1), (40, 1), (61, 1), (64, 1), ...</td>\n    </tr>\n    <tr>\n      <th>24999</th>\n      <td>\"8478_8\"</td>\n      <td>1</td>\n      <td>\"I saw this movie as a child and it broke my h...</td>\n      <td>[saw, movi, child, broke, heart, stori, unfini...</td>\n      <td>[(39, 1), (64, 1), (69, 1), (71, 1), (79, 4), ...</td>\n    </tr>\n  </tbody>\n</table>\n<p>25000 rows × 5 columns</p>\n</div>"
     },
     "execution_count": 43,
     "metadata": {},
     "output_type": "execute_result"
    }
   ]
  },
  {
   "cell_type": "code",
   "metadata": {
    "id": "1qiAsSEq429b"
   },
   "source": [
    "def transform(x, model):\n",
    "    return model[x]\n",
    "\n",
    "tfidf_bow = models.TfidfModel( train[text_col+'_bow'].to_list(),  normalize=True)\n",
    "train[text_col+'_tfidf_bow']=train[text_col+'_bow'].apply(transform, model=tfidf_bow )\n",
    "train"
   ],
   "execution_count": 44,
   "outputs": [
    {
     "data": {
      "text/plain": "              id  sentiment  \\\n0       \"5814_8\"          1   \n1       \"2381_9\"          1   \n2       \"7759_3\"          0   \n3       \"3630_4\"          0   \n4       \"9495_8\"          1   \n...          ...        ...   \n24995   \"3453_3\"          0   \n24996   \"5064_1\"          0   \n24997  \"10905_3\"          0   \n24998  \"10194_3\"          0   \n24999   \"8478_8\"          1   \n\n                                                  review  \\\n0      \"With all this stuff going down at the moment ...   \n1      \"\\\"The Classic War of the Worlds\\\" by Timothy ...   \n2      \"The film starts with a manager (Nicholas Bell...   \n3      \"It must be assumed that those who praised thi...   \n4      \"Superbly trashy and wondrously unpretentious ...   \n...                                                  ...   \n24995  \"It seems like more consideration has gone int...   \n24996  \"I don't believe they made this film. Complete...   \n24997  \"Guy is a loser. Can't get girls, needs to bui...   \n24998  \"This 30 minute documentary Buñuel made in the...   \n24999  \"I saw this movie as a child and it broke my h...   \n\n                                           review_tokens  \\\n0      [stuff, go, moment, mj, ve, start, listen, mus...   \n1      [classic, war, world, timothi, hine, entertain...   \n2      [film, start, manag, nichola, bell, give, welc...   \n3      [assum, prais, film, greatest, film, opera, t,...   \n4      [superbl, trashi, wondrous, unpretenti, s, exp...   \n...                                                  ...   \n24995  [like, consider, gone, imdb, review, film, wen...   \n24996  [t, believ, film, complet, unnecessari, film, ...   \n24997  [gui, loser, t, girl, need, build, pick, stron...   \n24998  [minut, documentari, buñuel, earli, s, spain, ...   \n24999  [saw, movi, child, broke, heart, stori, unfini...   \n\n                                              review_bow  \\\n0      [(0, 1), (1, 1), (2, 1), (3, 3), (4, 1), (5, 1...   \n1      [(26, 1), (36, 1), (40, 2), (64, 1), (79, 2), ...   \n2      [(7, 1), (8, 2), (15, 1), (19, 1), (21, 1), (2...   \n3      [(8, 4), (14, 1), (39, 1), (40, 5), (79, 1), (...   \n4      [(0, 1), (16, 1), (40, 1), (51, 1), (58, 1), (...   \n...                                                  ...   \n24995  [(8, 16), (14, 1), (19, 1), (40, 2), (44, 1), ...   \n24996  [(3, 1), (14, 2), (38, 1), (39, 1), (40, 7), (...   \n24997  [(7, 1), (8, 2), (40, 3), (43, 1), (46, 2), (5...   \n24998  [(28, 1), (35, 1), (40, 1), (61, 1), (64, 1), ...   \n24999  [(39, 1), (64, 1), (69, 1), (71, 1), (79, 4), ...   \n\n                                        review_tfidf_bow  \n0      [(0, 0.017801646828531716), (1, 0.032536370221...  \n1      [(26, 0.05409934611948453), (36, 0.04806180321...  \n2      [(7, 0.02641721019773179), (8, 0.0113918159397...  \n3      [(8, 0.027915395297452853), (14, 0.01445786468...  \n4      [(0, 0.026260993443946862), (16, 0.03952381157...  \n...                                                  ...  \n24995  [(8, 0.3705908678713166), (14, 0.0479838505272...  \n24996  [(3, 0.04430060588799008), (14, 0.067862671930...  \n24997  [(7, 0.08536332493723874), (8, 0.0368109758149...  \n24998  [(28, 0.06264404738146905), (35, 0.05167372356...  \n24999  [(39, 0.04445021339433996), (64, 0.01667415476...  \n\n[25000 rows x 6 columns]",
      "text/html": "<div>\n<style scoped>\n    .dataframe tbody tr th:only-of-type {\n        vertical-align: middle;\n    }\n\n    .dataframe tbody tr th {\n        vertical-align: top;\n    }\n\n    .dataframe thead th {\n        text-align: right;\n    }\n</style>\n<table border=\"1\" class=\"dataframe\">\n  <thead>\n    <tr style=\"text-align: right;\">\n      <th></th>\n      <th>id</th>\n      <th>sentiment</th>\n      <th>review</th>\n      <th>review_tokens</th>\n      <th>review_bow</th>\n      <th>review_tfidf_bow</th>\n    </tr>\n  </thead>\n  <tbody>\n    <tr>\n      <th>0</th>\n      <td>\"5814_8\"</td>\n      <td>1</td>\n      <td>\"With all this stuff going down at the moment ...</td>\n      <td>[stuff, go, moment, mj, ve, start, listen, mus...</td>\n      <td>[(0, 1), (1, 1), (2, 1), (3, 3), (4, 1), (5, 1...</td>\n      <td>[(0, 0.017801646828531716), (1, 0.032536370221...</td>\n    </tr>\n    <tr>\n      <th>1</th>\n      <td>\"2381_9\"</td>\n      <td>1</td>\n      <td>\"\\\"The Classic War of the Worlds\\\" by Timothy ...</td>\n      <td>[classic, war, world, timothi, hine, entertain...</td>\n      <td>[(26, 1), (36, 1), (40, 2), (64, 1), (79, 2), ...</td>\n      <td>[(26, 0.05409934611948453), (36, 0.04806180321...</td>\n    </tr>\n    <tr>\n      <th>2</th>\n      <td>\"7759_3\"</td>\n      <td>0</td>\n      <td>\"The film starts with a manager (Nicholas Bell...</td>\n      <td>[film, start, manag, nichola, bell, give, welc...</td>\n      <td>[(7, 1), (8, 2), (15, 1), (19, 1), (21, 1), (2...</td>\n      <td>[(7, 0.02641721019773179), (8, 0.0113918159397...</td>\n    </tr>\n    <tr>\n      <th>3</th>\n      <td>\"3630_4\"</td>\n      <td>0</td>\n      <td>\"It must be assumed that those who praised thi...</td>\n      <td>[assum, prais, film, greatest, film, opera, t,...</td>\n      <td>[(8, 4), (14, 1), (39, 1), (40, 5), (79, 1), (...</td>\n      <td>[(8, 0.027915395297452853), (14, 0.01445786468...</td>\n    </tr>\n    <tr>\n      <th>4</th>\n      <td>\"9495_8\"</td>\n      <td>1</td>\n      <td>\"Superbly trashy and wondrously unpretentious ...</td>\n      <td>[superbl, trashi, wondrous, unpretenti, s, exp...</td>\n      <td>[(0, 1), (16, 1), (40, 1), (51, 1), (58, 1), (...</td>\n      <td>[(0, 0.026260993443946862), (16, 0.03952381157...</td>\n    </tr>\n    <tr>\n      <th>...</th>\n      <td>...</td>\n      <td>...</td>\n      <td>...</td>\n      <td>...</td>\n      <td>...</td>\n      <td>...</td>\n    </tr>\n    <tr>\n      <th>24995</th>\n      <td>\"3453_3\"</td>\n      <td>0</td>\n      <td>\"It seems like more consideration has gone int...</td>\n      <td>[like, consider, gone, imdb, review, film, wen...</td>\n      <td>[(8, 16), (14, 1), (19, 1), (40, 2), (44, 1), ...</td>\n      <td>[(8, 0.3705908678713166), (14, 0.0479838505272...</td>\n    </tr>\n    <tr>\n      <th>24996</th>\n      <td>\"5064_1\"</td>\n      <td>0</td>\n      <td>\"I don't believe they made this film. Complete...</td>\n      <td>[t, believ, film, complet, unnecessari, film, ...</td>\n      <td>[(3, 1), (14, 2), (38, 1), (39, 1), (40, 7), (...</td>\n      <td>[(3, 0.04430060588799008), (14, 0.067862671930...</td>\n    </tr>\n    <tr>\n      <th>24997</th>\n      <td>\"10905_3\"</td>\n      <td>0</td>\n      <td>\"Guy is a loser. Can't get girls, needs to bui...</td>\n      <td>[gui, loser, t, girl, need, build, pick, stron...</td>\n      <td>[(7, 1), (8, 2), (40, 3), (43, 1), (46, 2), (5...</td>\n      <td>[(7, 0.08536332493723874), (8, 0.0368109758149...</td>\n    </tr>\n    <tr>\n      <th>24998</th>\n      <td>\"10194_3\"</td>\n      <td>0</td>\n      <td>\"This 30 minute documentary Buñuel made in the...</td>\n      <td>[minut, documentari, buñuel, earli, s, spain, ...</td>\n      <td>[(28, 1), (35, 1), (40, 1), (61, 1), (64, 1), ...</td>\n      <td>[(28, 0.06264404738146905), (35, 0.05167372356...</td>\n    </tr>\n    <tr>\n      <th>24999</th>\n      <td>\"8478_8\"</td>\n      <td>1</td>\n      <td>\"I saw this movie as a child and it broke my h...</td>\n      <td>[saw, movi, child, broke, heart, stori, unfini...</td>\n      <td>[(39, 1), (64, 1), (69, 1), (71, 1), (79, 4), ...</td>\n      <td>[(39, 0.04445021339433996), (64, 0.01667415476...</td>\n    </tr>\n  </tbody>\n</table>\n<p>25000 rows × 6 columns</p>\n</div>"
     },
     "execution_count": 44,
     "metadata": {},
     "output_type": "execute_result"
    }
   ]
  },
  {
   "cell_type": "code",
   "metadata": {
    "id": "YKisLqv93Vpm"
   },
   "source": [
    "# Word2Vec\n",
    "train[text_col+'_tag']=pd.Series(TaggedDocument(doc, [i]) for i, doc in enumerate(train[text_col+'_tokens'].to_list()))\n",
    "doc2vec = Doc2Vec(train[text_col+'_tag'] , vector_size=50, window=2, min_count=1, workers=4)\n",
    "train[text_col+'_docvecs']=pd.Series([doc2vec.docvecs[x] for x in range(len(train))])\n",
    "train\n"
   ],
   "execution_count": 45,
   "outputs": [
    {
     "name": "stderr",
     "output_type": "stream",
     "text": [
      "/var/folders/0y/0vzl10290_qdfyzcwftxcg_h0000gn/T/ipykernel_12740/3708036390.py:4: DeprecationWarning: Call to deprecated `docvecs` (The `docvecs` property has been renamed `dv`.).\n",
      "  train[text_col+'_docvecs']=pd.Series([doc2vec.docvecs[x] for x in range(len(train))])\n"
     ]
    },
    {
     "data": {
      "text/plain": "              id  sentiment  \\\n0       \"5814_8\"          1   \n1       \"2381_9\"          1   \n2       \"7759_3\"          0   \n3       \"3630_4\"          0   \n4       \"9495_8\"          1   \n...          ...        ...   \n24995   \"3453_3\"          0   \n24996   \"5064_1\"          0   \n24997  \"10905_3\"          0   \n24998  \"10194_3\"          0   \n24999   \"8478_8\"          1   \n\n                                                  review  \\\n0      \"With all this stuff going down at the moment ...   \n1      \"\\\"The Classic War of the Worlds\\\" by Timothy ...   \n2      \"The film starts with a manager (Nicholas Bell...   \n3      \"It must be assumed that those who praised thi...   \n4      \"Superbly trashy and wondrously unpretentious ...   \n...                                                  ...   \n24995  \"It seems like more consideration has gone int...   \n24996  \"I don't believe they made this film. Complete...   \n24997  \"Guy is a loser. Can't get girls, needs to bui...   \n24998  \"This 30 minute documentary Buñuel made in the...   \n24999  \"I saw this movie as a child and it broke my h...   \n\n                                           review_tokens  \\\n0      [stuff, go, moment, mj, ve, start, listen, mus...   \n1      [classic, war, world, timothi, hine, entertain...   \n2      [film, start, manag, nichola, bell, give, welc...   \n3      [assum, prais, film, greatest, film, opera, t,...   \n4      [superbl, trashi, wondrous, unpretenti, s, exp...   \n...                                                  ...   \n24995  [like, consider, gone, imdb, review, film, wen...   \n24996  [t, believ, film, complet, unnecessari, film, ...   \n24997  [gui, loser, t, girl, need, build, pick, stron...   \n24998  [minut, documentari, buñuel, earli, s, spain, ...   \n24999  [saw, movi, child, broke, heart, stori, unfini...   \n\n                                              review_bow  \\\n0      [(0, 1), (1, 1), (2, 1), (3, 3), (4, 1), (5, 1...   \n1      [(26, 1), (36, 1), (40, 2), (64, 1), (79, 2), ...   \n2      [(7, 1), (8, 2), (15, 1), (19, 1), (21, 1), (2...   \n3      [(8, 4), (14, 1), (39, 1), (40, 5), (79, 1), (...   \n4      [(0, 1), (16, 1), (40, 1), (51, 1), (58, 1), (...   \n...                                                  ...   \n24995  [(8, 16), (14, 1), (19, 1), (40, 2), (44, 1), ...   \n24996  [(3, 1), (14, 2), (38, 1), (39, 1), (40, 7), (...   \n24997  [(7, 1), (8, 2), (40, 3), (43, 1), (46, 2), (5...   \n24998  [(28, 1), (35, 1), (40, 1), (61, 1), (64, 1), ...   \n24999  [(39, 1), (64, 1), (69, 1), (71, 1), (79, 4), ...   \n\n                                        review_tfidf_bow  \\\n0      [(0, 0.017801646828531716), (1, 0.032536370221...   \n1      [(26, 0.05409934611948453), (36, 0.04806180321...   \n2      [(7, 0.02641721019773179), (8, 0.0113918159397...   \n3      [(8, 0.027915395297452853), (14, 0.01445786468...   \n4      [(0, 0.026260993443946862), (16, 0.03952381157...   \n...                                                  ...   \n24995  [(8, 0.3705908678713166), (14, 0.0479838505272...   \n24996  [(3, 0.04430060588799008), (14, 0.067862671930...   \n24997  [(7, 0.08536332493723874), (8, 0.0368109758149...   \n24998  [(28, 0.06264404738146905), (35, 0.05167372356...   \n24999  [(39, 0.04445021339433996), (64, 0.01667415476...   \n\n                                              review_tag  \\\n0      ([stuff, go, moment, mj, ve, start, listen, mu...   \n1      ([classic, war, world, timothi, hine, entertai...   \n2      ([film, start, manag, nichola, bell, give, wel...   \n3      ([assum, prais, film, greatest, film, opera, t...   \n4      ([superbl, trashi, wondrous, unpretenti, s, ex...   \n...                                                  ...   \n24995  ([like, consider, gone, imdb, review, film, we...   \n24996  ([t, believ, film, complet, unnecessari, film,...   \n24997  ([gui, loser, t, girl, need, build, pick, stro...   \n24998  ([minut, documentari, buñuel, earli, s, spain,...   \n24999  ([saw, movi, child, broke, heart, stori, unfin...   \n\n                                          review_docvecs  \n0      [-0.37071925, -0.37471336, 0.35511154, 0.31053...  \n1      [-0.13829194, 0.6065801, -0.3300408, 0.0780963...  \n2      [-0.87693584, -0.6684592, 0.039008725, 0.04651...  \n3      [0.05829846, 0.006241254, -0.68099487, -1.0528...  \n4      [-0.12724672, -0.27751902, 0.23157094, -0.1183...  \n...                                                  ...  \n24995  [0.15594596, 0.18544354, -0.105273694, 0.22136...  \n24996  [-0.11668433, 0.3858125, 0.12042065, -0.166378...  \n24997  [-0.019323384, 0.02601225, -0.20017359, -0.245...  \n24998  [-0.013894695, -0.16366182, -0.06063278, 0.144...  \n24999  [0.18574005, 0.13300447, -0.007558366, 0.15690...  \n\n[25000 rows x 8 columns]",
      "text/html": "<div>\n<style scoped>\n    .dataframe tbody tr th:only-of-type {\n        vertical-align: middle;\n    }\n\n    .dataframe tbody tr th {\n        vertical-align: top;\n    }\n\n    .dataframe thead th {\n        text-align: right;\n    }\n</style>\n<table border=\"1\" class=\"dataframe\">\n  <thead>\n    <tr style=\"text-align: right;\">\n      <th></th>\n      <th>id</th>\n      <th>sentiment</th>\n      <th>review</th>\n      <th>review_tokens</th>\n      <th>review_bow</th>\n      <th>review_tfidf_bow</th>\n      <th>review_tag</th>\n      <th>review_docvecs</th>\n    </tr>\n  </thead>\n  <tbody>\n    <tr>\n      <th>0</th>\n      <td>\"5814_8\"</td>\n      <td>1</td>\n      <td>\"With all this stuff going down at the moment ...</td>\n      <td>[stuff, go, moment, mj, ve, start, listen, mus...</td>\n      <td>[(0, 1), (1, 1), (2, 1), (3, 3), (4, 1), (5, 1...</td>\n      <td>[(0, 0.017801646828531716), (1, 0.032536370221...</td>\n      <td>([stuff, go, moment, mj, ve, start, listen, mu...</td>\n      <td>[-0.37071925, -0.37471336, 0.35511154, 0.31053...</td>\n    </tr>\n    <tr>\n      <th>1</th>\n      <td>\"2381_9\"</td>\n      <td>1</td>\n      <td>\"\\\"The Classic War of the Worlds\\\" by Timothy ...</td>\n      <td>[classic, war, world, timothi, hine, entertain...</td>\n      <td>[(26, 1), (36, 1), (40, 2), (64, 1), (79, 2), ...</td>\n      <td>[(26, 0.05409934611948453), (36, 0.04806180321...</td>\n      <td>([classic, war, world, timothi, hine, entertai...</td>\n      <td>[-0.13829194, 0.6065801, -0.3300408, 0.0780963...</td>\n    </tr>\n    <tr>\n      <th>2</th>\n      <td>\"7759_3\"</td>\n      <td>0</td>\n      <td>\"The film starts with a manager (Nicholas Bell...</td>\n      <td>[film, start, manag, nichola, bell, give, welc...</td>\n      <td>[(7, 1), (8, 2), (15, 1), (19, 1), (21, 1), (2...</td>\n      <td>[(7, 0.02641721019773179), (8, 0.0113918159397...</td>\n      <td>([film, start, manag, nichola, bell, give, wel...</td>\n      <td>[-0.87693584, -0.6684592, 0.039008725, 0.04651...</td>\n    </tr>\n    <tr>\n      <th>3</th>\n      <td>\"3630_4\"</td>\n      <td>0</td>\n      <td>\"It must be assumed that those who praised thi...</td>\n      <td>[assum, prais, film, greatest, film, opera, t,...</td>\n      <td>[(8, 4), (14, 1), (39, 1), (40, 5), (79, 1), (...</td>\n      <td>[(8, 0.027915395297452853), (14, 0.01445786468...</td>\n      <td>([assum, prais, film, greatest, film, opera, t...</td>\n      <td>[0.05829846, 0.006241254, -0.68099487, -1.0528...</td>\n    </tr>\n    <tr>\n      <th>4</th>\n      <td>\"9495_8\"</td>\n      <td>1</td>\n      <td>\"Superbly trashy and wondrously unpretentious ...</td>\n      <td>[superbl, trashi, wondrous, unpretenti, s, exp...</td>\n      <td>[(0, 1), (16, 1), (40, 1), (51, 1), (58, 1), (...</td>\n      <td>[(0, 0.026260993443946862), (16, 0.03952381157...</td>\n      <td>([superbl, trashi, wondrous, unpretenti, s, ex...</td>\n      <td>[-0.12724672, -0.27751902, 0.23157094, -0.1183...</td>\n    </tr>\n    <tr>\n      <th>...</th>\n      <td>...</td>\n      <td>...</td>\n      <td>...</td>\n      <td>...</td>\n      <td>...</td>\n      <td>...</td>\n      <td>...</td>\n      <td>...</td>\n    </tr>\n    <tr>\n      <th>24995</th>\n      <td>\"3453_3\"</td>\n      <td>0</td>\n      <td>\"It seems like more consideration has gone int...</td>\n      <td>[like, consider, gone, imdb, review, film, wen...</td>\n      <td>[(8, 16), (14, 1), (19, 1), (40, 2), (44, 1), ...</td>\n      <td>[(8, 0.3705908678713166), (14, 0.0479838505272...</td>\n      <td>([like, consider, gone, imdb, review, film, we...</td>\n      <td>[0.15594596, 0.18544354, -0.105273694, 0.22136...</td>\n    </tr>\n    <tr>\n      <th>24996</th>\n      <td>\"5064_1\"</td>\n      <td>0</td>\n      <td>\"I don't believe they made this film. Complete...</td>\n      <td>[t, believ, film, complet, unnecessari, film, ...</td>\n      <td>[(3, 1), (14, 2), (38, 1), (39, 1), (40, 7), (...</td>\n      <td>[(3, 0.04430060588799008), (14, 0.067862671930...</td>\n      <td>([t, believ, film, complet, unnecessari, film,...</td>\n      <td>[-0.11668433, 0.3858125, 0.12042065, -0.166378...</td>\n    </tr>\n    <tr>\n      <th>24997</th>\n      <td>\"10905_3\"</td>\n      <td>0</td>\n      <td>\"Guy is a loser. Can't get girls, needs to bui...</td>\n      <td>[gui, loser, t, girl, need, build, pick, stron...</td>\n      <td>[(7, 1), (8, 2), (40, 3), (43, 1), (46, 2), (5...</td>\n      <td>[(7, 0.08536332493723874), (8, 0.0368109758149...</td>\n      <td>([gui, loser, t, girl, need, build, pick, stro...</td>\n      <td>[-0.019323384, 0.02601225, -0.20017359, -0.245...</td>\n    </tr>\n    <tr>\n      <th>24998</th>\n      <td>\"10194_3\"</td>\n      <td>0</td>\n      <td>\"This 30 minute documentary Buñuel made in the...</td>\n      <td>[minut, documentari, buñuel, earli, s, spain, ...</td>\n      <td>[(28, 1), (35, 1), (40, 1), (61, 1), (64, 1), ...</td>\n      <td>[(28, 0.06264404738146905), (35, 0.05167372356...</td>\n      <td>([minut, documentari, buñuel, earli, s, spain,...</td>\n      <td>[-0.013894695, -0.16366182, -0.06063278, 0.144...</td>\n    </tr>\n    <tr>\n      <th>24999</th>\n      <td>\"8478_8\"</td>\n      <td>1</td>\n      <td>\"I saw this movie as a child and it broke my h...</td>\n      <td>[saw, movi, child, broke, heart, stori, unfini...</td>\n      <td>[(39, 1), (64, 1), (69, 1), (71, 1), (79, 4), ...</td>\n      <td>[(39, 0.04445021339433996), (64, 0.01667415476...</td>\n      <td>([saw, movi, child, broke, heart, stori, unfin...</td>\n      <td>[0.18574005, 0.13300447, -0.007558366, 0.15690...</td>\n    </tr>\n  </tbody>\n</table>\n<p>25000 rows × 8 columns</p>\n</div>"
     },
     "execution_count": 45,
     "metadata": {},
     "output_type": "execute_result"
    }
   ]
  },
  {
   "cell_type": "code",
   "metadata": {
    "id": "_PWQrd1g4Yte"
   },
   "source": [
    "def create_dense(x, vlen=50):\n",
    "    \"\"\"\n",
    "    Create a dense vector of float64's from a sparse vector of any numbers.\n",
    "    \"\"\"\n",
    "    try:\n",
    "        x=dict(x)\n",
    "        output=[]\n",
    "        for i in range(vlen):\n",
    "            if i in x.keys():\n",
    "                output.append(np.float64(x[i]))\n",
    "            else:\n",
    "                output.append(0)\n",
    "        return output\n",
    "    except:\n",
    "        return np.nan"
   ],
   "execution_count": 46,
   "outputs": []
  },
  {
   "cell_type": "code",
   "metadata": {
    "id": "uCMVK9344bOj"
   },
   "source": [
    "\n",
    "lsi_model_bow = models.LsiModel(train[text_col+'_bow'].to_list(), id2word=cdict, num_topics=50)\n",
    "train[text_col+'_lsi_bow']=train[text_col+'_bow'].apply(transform, model=lsi_model_bow)\n",
    "train[text_col+'_lsi_bow_d']=train[text_col+'_lsi_bow'].apply(create_dense, vlen=50)"
   ],
   "execution_count": 47,
   "outputs": []
  },
  {
   "cell_type": "code",
   "metadata": {
    "id": "ceFdgj-a5rZ5"
   },
   "source": [
    "lsi_model_tfidf = models.LsiModel(train[text_col+'_tfidf_bow'].to_list(), id2word=cdict, num_topics=50)\n",
    "train[text_col+'_lsi_tfidf']=train[text_col+'_tfidf_bow'].apply(transform, model=lsi_model_tfidf)\n",
    "train[text_col+'_lsi_tfidf_d']=train[text_col+'_lsi_tfidf'].apply(create_dense, vlen=50)"
   ],
   "execution_count": 48,
   "outputs": []
  },
  {
   "cell_type": "code",
   "metadata": {
    "id": "44a-uAnp6yKH"
   },
   "source": [
    "lda_model_bow = models.LdaModel(train[text_col+'_bow'].to_list(), id2word=cdict, num_topics=50, minimum_probability=0)\n",
    "train[text_col+'_lda_bow']=train[text_col+'_bow'].apply(transform, model=lda_model_bow)\n",
    "train[text_col+'_lda_bow_d']=train[text_col+'_lda_bow'].apply(create_dense, vlen=50)"
   ],
   "execution_count": 49,
   "outputs": []
  },
  {
   "cell_type": "code",
   "metadata": {
    "id": "Kw7Nz9JY7Hcd"
   },
   "source": [
    "lda_model_tfidf = models.LdaModel(train[text_col+'_tfidf_bow'].to_list(), id2word=cdict, num_topics=50, minimum_probability=0)\n",
    "train[text_col+'_lda_tfidf']=train[text_col+'_tfidf_bow'].apply(transform, model=lda_model_tfidf)\n",
    "train[text_col+'_lda_tfidf_d']=train[text_col+'_lda_tfidf'].apply(create_dense, vlen=50)"
   ],
   "execution_count": 50,
   "outputs": []
  },
  {
   "cell_type": "code",
   "metadata": {
    "id": "divlG6BL7sT9"
   },
   "source": [
    "train"
   ],
   "execution_count": 51,
   "outputs": [
    {
     "data": {
      "text/plain": "              id  sentiment  \\\n0       \"5814_8\"          1   \n1       \"2381_9\"          1   \n2       \"7759_3\"          0   \n3       \"3630_4\"          0   \n4       \"9495_8\"          1   \n...          ...        ...   \n24995   \"3453_3\"          0   \n24996   \"5064_1\"          0   \n24997  \"10905_3\"          0   \n24998  \"10194_3\"          0   \n24999   \"8478_8\"          1   \n\n                                                  review  \\\n0      \"With all this stuff going down at the moment ...   \n1      \"\\\"The Classic War of the Worlds\\\" by Timothy ...   \n2      \"The film starts with a manager (Nicholas Bell...   \n3      \"It must be assumed that those who praised thi...   \n4      \"Superbly trashy and wondrously unpretentious ...   \n...                                                  ...   \n24995  \"It seems like more consideration has gone int...   \n24996  \"I don't believe they made this film. Complete...   \n24997  \"Guy is a loser. Can't get girls, needs to bui...   \n24998  \"This 30 minute documentary Buñuel made in the...   \n24999  \"I saw this movie as a child and it broke my h...   \n\n                                           review_tokens  \\\n0      [stuff, go, moment, mj, ve, start, listen, mus...   \n1      [classic, war, world, timothi, hine, entertain...   \n2      [film, start, manag, nichola, bell, give, welc...   \n3      [assum, prais, film, greatest, film, opera, t,...   \n4      [superbl, trashi, wondrous, unpretenti, s, exp...   \n...                                                  ...   \n24995  [like, consider, gone, imdb, review, film, wen...   \n24996  [t, believ, film, complet, unnecessari, film, ...   \n24997  [gui, loser, t, girl, need, build, pick, stron...   \n24998  [minut, documentari, buñuel, earli, s, spain, ...   \n24999  [saw, movi, child, broke, heart, stori, unfini...   \n\n                                              review_bow  \\\n0      [(0, 1), (1, 1), (2, 1), (3, 3), (4, 1), (5, 1...   \n1      [(26, 1), (36, 1), (40, 2), (64, 1), (79, 2), ...   \n2      [(7, 1), (8, 2), (15, 1), (19, 1), (21, 1), (2...   \n3      [(8, 4), (14, 1), (39, 1), (40, 5), (79, 1), (...   \n4      [(0, 1), (16, 1), (40, 1), (51, 1), (58, 1), (...   \n...                                                  ...   \n24995  [(8, 16), (14, 1), (19, 1), (40, 2), (44, 1), ...   \n24996  [(3, 1), (14, 2), (38, 1), (39, 1), (40, 7), (...   \n24997  [(7, 1), (8, 2), (40, 3), (43, 1), (46, 2), (5...   \n24998  [(28, 1), (35, 1), (40, 1), (61, 1), (64, 1), ...   \n24999  [(39, 1), (64, 1), (69, 1), (71, 1), (79, 4), ...   \n\n                                        review_tfidf_bow  \\\n0      [(0, 0.017801646828531716), (1, 0.032536370221...   \n1      [(26, 0.05409934611948453), (36, 0.04806180321...   \n2      [(7, 0.02641721019773179), (8, 0.0113918159397...   \n3      [(8, 0.027915395297452853), (14, 0.01445786468...   \n4      [(0, 0.026260993443946862), (16, 0.03952381157...   \n...                                                  ...   \n24995  [(8, 0.3705908678713166), (14, 0.0479838505272...   \n24996  [(3, 0.04430060588799008), (14, 0.067862671930...   \n24997  [(7, 0.08536332493723874), (8, 0.0368109758149...   \n24998  [(28, 0.06264404738146905), (35, 0.05167372356...   \n24999  [(39, 0.04445021339433996), (64, 0.01667415476...   \n\n                                              review_tag  \\\n0      ([stuff, go, moment, mj, ve, start, listen, mu...   \n1      ([classic, war, world, timothi, hine, entertai...   \n2      ([film, start, manag, nichola, bell, give, wel...   \n3      ([assum, prais, film, greatest, film, opera, t...   \n4      ([superbl, trashi, wondrous, unpretenti, s, ex...   \n...                                                  ...   \n24995  ([like, consider, gone, imdb, review, film, we...   \n24996  ([t, believ, film, complet, unnecessari, film,...   \n24997  ([gui, loser, t, girl, need, build, pick, stro...   \n24998  ([minut, documentari, buñuel, earli, s, spain,...   \n24999  ([saw, movi, child, broke, heart, stori, unfin...   \n\n                                          review_docvecs  \\\n0      [-0.37071925, -0.37471336, 0.35511154, 0.31053...   \n1      [-0.13829194, 0.6065801, -0.3300408, 0.0780963...   \n2      [-0.87693584, -0.6684592, 0.039008725, 0.04651...   \n3      [0.05829846, 0.006241254, -0.68099487, -1.0528...   \n4      [-0.12724672, -0.27751902, 0.23157094, -0.1183...   \n...                                                  ...   \n24995  [0.15594596, 0.18544354, -0.105273694, 0.22136...   \n24996  [-0.11668433, 0.3858125, 0.12042065, -0.166378...   \n24997  [-0.019323384, 0.02601225, -0.20017359, -0.245...   \n24998  [-0.013894695, -0.16366182, -0.06063278, 0.144...   \n24999  [0.18574005, 0.13300447, -0.007558366, 0.15690...   \n\n                                          review_lsi_bow  \\\n0      [(0, 11.779776065057115), (1, 0.68880848196096...   \n1      [(0, 1.8561407545341606), (1, 1.89513522830264...   \n2      [(0, 4.764756308545519), (1, 2.073713845195448...   \n3      [(0, 7.83569395865421), (1, 2.7322675300286496...   \n4      [(0, 4.381490951727345), (1, 4.539909128826721...   \n...                                                  ...   \n24995  [(0, 13.536256392336092), (1, -8.7504469219753...   \n24996  [(0, 4.968709313380288), (1, 5.659449057954181...   \n24997  [(0, 3.417893938851843), (1, 0.762966760162663...   \n24998  [(0, 2.9912926459933327), (1, 3.24235945183102...   \n24999  [(0, 2.2874472099580565), (1, 2.01954848501639...   \n\n                                        review_lsi_bow_d  \\\n0      [11.779776065057115, 0.6888084819609639, 1.001...   \n1      [1.8561407545341606, 1.8951352283026432, 0.902...   \n2      [4.764756308545519, 2.0737138451954484, -1.120...   \n3      [7.83569395865421, 2.7322675300286496, -1.6456...   \n4      [4.381490951727345, 4.5399091288267215, -0.292...   \n...                                                  ...   \n24995  [13.536256392336092, -8.750446921975358, -1.57...   \n24996  [4.968709313380288, 5.659449057954181, -3.2577...   \n24997  [3.417893938851843, 0.7629667601626638, -0.275...   \n24998  [2.9912926459933327, 3.2423594518310255, -0.23...   \n24999  [2.2874472099580565, 2.0195484850163914, 3.821...   \n\n                                        review_lsi_tfidf  \\\n0      [(0, 0.13420705817330306), (1, 0.0204246000473...   \n1      [(0, 0.10878197286923105), (1, -0.038464149430...   \n2      [(0, 0.10832676919366832), (1, -0.037771180057...   \n3      [(0, 0.11090122350875947), (1, -0.027767160612...   \n4      [(0, 0.1362741166670168), (1, -0.0238380867201...   \n...                                                  ...   \n24995  [(0, 0.21539958446612195), (1, -0.028975017869...   \n24996  [(0, 0.1819199245141776), (1, -0.0006595155745...   \n24997  [(0, 0.15146882820812926), (1, 0.0486274672625...   \n24998  [(0, 0.07659577172365657), (1, -0.014535841799...   \n24999  [(0, 0.10699928350468638), (1, 0.0011356745055...   \n\n                                      review_lsi_tfidf_d  \\\n0      [0.13420705817330306, 0.020424600047362993, -0...   \n1      [0.10878197286923105, -0.03846414943017419, 0....   \n2      [0.10832676919366832, -0.03777118005717449, 0....   \n3      [0.11090122350875947, -0.027767160612794, 0.00...   \n4      [0.1362741166670168, -0.023838086720193115, 0....   \n...                                                  ...   \n24995  [0.21539958446612195, -0.02897501786907147, -0...   \n24996  [0.1819199245141776, -0.0006595155745994549, 0...   \n24997  [0.15146882820812926, 0.04862746726251161, 0.0...   \n24998  [0.07659577172365657, -0.014535841799178663, 0...   \n24999  [0.10699928350468638, 0.001135674505579097, 0....   \n\n                                          review_lda_bow  \\\n0      [(0, 0.00010167516), (1, 0.00010167516), (2, 0...   \n1      [(0, 0.057396516), (1, 0.0002598573), (2, 0.00...   \n2      [(0, 9.49308e-05), (1, 0.107810296), (2, 9.493...   \n3      [(0, 0.0001194125), (1, 0.0001194125), (2, 0.0...   \n4      [(0, 0.00010438681), (1, 0.00010438681), (2, 0...   \n...                                                  ...   \n24995  [(0, 0.0004084208), (1, 0.0004084208), (2, 0.0...   \n24996  [(0, 0.00024402926), (1, 0.00024402926), (2, 0...   \n24997  [(0, 0.19364153), (1, 0.00037042814), (2, 0.00...   \n24998  [(0, 0.00023004648), (1, 0.00023004648), (2, 0...   \n24999  [(0, 0.095745586), (1, 0.00028241836), (2, 0.0...   \n\n                                        review_lda_bow_d  \\\n0      [0.00010167516302317381, 0.0001016751630231738...   \n1      [0.05739651620388031, 0.0002598573046270758, 0...   \n2      [9.493080142419785e-05, 0.10781029611825943, 9...   \n3      [0.00011941249977098778, 0.0001194124997709877...   \n4      [0.00010438681056257337, 0.0001043868105625733...   \n...                                                  ...   \n24995  [0.00040842080488801, 0.00040842080488801, 0.0...   \n24996  [0.0002440292591927573, 0.0002440292591927573,...   \n24997  [0.1936415284872055, 0.00037042814074084163, 0...   \n24998  [0.0002300464839208871, 0.0002300464839208871,...   \n24999  [0.09574558585882187, 0.0002824183611664921, 0...   \n\n                                        review_lda_tfidf  \\\n0      [(0, 0.003221488), (1, 0.003221488), (2, 0.003...   \n1      [(0, 0.0029386827), (1, 0.0029386827), (2, 0.0...   \n2      [(0, 0.0022494197), (1, 0.0022494197), (2, 0.0...   \n3      [(0, 0.0029939013), (1, 0.0029939013), (2, 0.0...   \n4      [(0, 0.0018709088), (1, 0.0018709088), (2, 0.0...   \n...                                                  ...   \n24995  [(0, 0.0042754444), (1, 0.0042754444), (2, 0.0...   \n24996  [(0, 0.0030703177), (1, 0.0030703177), (2, 0.0...   \n24997  [(0, 0.0036014372), (1, 0.0036014372), (2, 0.0...   \n24998  [(0, 0.0036316316), (1, 0.0036316316), (2, 0.0...   \n24999  [(0, 0.0034726185), (1, 0.0034726185), (2, 0.0...   \n\n                                      review_lda_tfidf_d  \n0      [0.00322148809209466, 0.00322148809209466, 0.0...  \n1      [0.0029386826790869236, 0.0029386826790869236,...  \n2      [0.002249419689178467, 0.002249419689178467, 0...  \n3      [0.0029939012601971626, 0.0029939012601971626,...  \n4      [0.0018709087744355202, 0.0018709087744355202,...  \n...                                                  ...  \n24995  [0.004275444429367781, 0.004275444429367781, 0...  \n24996  [0.0030703176744282246, 0.0030703176744282246,...  \n24997  [0.0036014372017234564, 0.0036014372017234564,...  \n24998  [0.003631631610915065, 0.003631631610915065, 0...  \n24999  [0.0034726185258477926, 0.0034726185258477926,...  \n\n[25000 rows x 16 columns]",
      "text/html": "<div>\n<style scoped>\n    .dataframe tbody tr th:only-of-type {\n        vertical-align: middle;\n    }\n\n    .dataframe tbody tr th {\n        vertical-align: top;\n    }\n\n    .dataframe thead th {\n        text-align: right;\n    }\n</style>\n<table border=\"1\" class=\"dataframe\">\n  <thead>\n    <tr style=\"text-align: right;\">\n      <th></th>\n      <th>id</th>\n      <th>sentiment</th>\n      <th>review</th>\n      <th>review_tokens</th>\n      <th>review_bow</th>\n      <th>review_tfidf_bow</th>\n      <th>review_tag</th>\n      <th>review_docvecs</th>\n      <th>review_lsi_bow</th>\n      <th>review_lsi_bow_d</th>\n      <th>review_lsi_tfidf</th>\n      <th>review_lsi_tfidf_d</th>\n      <th>review_lda_bow</th>\n      <th>review_lda_bow_d</th>\n      <th>review_lda_tfidf</th>\n      <th>review_lda_tfidf_d</th>\n    </tr>\n  </thead>\n  <tbody>\n    <tr>\n      <th>0</th>\n      <td>\"5814_8\"</td>\n      <td>1</td>\n      <td>\"With all this stuff going down at the moment ...</td>\n      <td>[stuff, go, moment, mj, ve, start, listen, mus...</td>\n      <td>[(0, 1), (1, 1), (2, 1), (3, 3), (4, 1), (5, 1...</td>\n      <td>[(0, 0.017801646828531716), (1, 0.032536370221...</td>\n      <td>([stuff, go, moment, mj, ve, start, listen, mu...</td>\n      <td>[-0.37071925, -0.37471336, 0.35511154, 0.31053...</td>\n      <td>[(0, 11.779776065057115), (1, 0.68880848196096...</td>\n      <td>[11.779776065057115, 0.6888084819609639, 1.001...</td>\n      <td>[(0, 0.13420705817330306), (1, 0.0204246000473...</td>\n      <td>[0.13420705817330306, 0.020424600047362993, -0...</td>\n      <td>[(0, 0.00010167516), (1, 0.00010167516), (2, 0...</td>\n      <td>[0.00010167516302317381, 0.0001016751630231738...</td>\n      <td>[(0, 0.003221488), (1, 0.003221488), (2, 0.003...</td>\n      <td>[0.00322148809209466, 0.00322148809209466, 0.0...</td>\n    </tr>\n    <tr>\n      <th>1</th>\n      <td>\"2381_9\"</td>\n      <td>1</td>\n      <td>\"\\\"The Classic War of the Worlds\\\" by Timothy ...</td>\n      <td>[classic, war, world, timothi, hine, entertain...</td>\n      <td>[(26, 1), (36, 1), (40, 2), (64, 1), (79, 2), ...</td>\n      <td>[(26, 0.05409934611948453), (36, 0.04806180321...</td>\n      <td>([classic, war, world, timothi, hine, entertai...</td>\n      <td>[-0.13829194, 0.6065801, -0.3300408, 0.0780963...</td>\n      <td>[(0, 1.8561407545341606), (1, 1.89513522830264...</td>\n      <td>[1.8561407545341606, 1.8951352283026432, 0.902...</td>\n      <td>[(0, 0.10878197286923105), (1, -0.038464149430...</td>\n      <td>[0.10878197286923105, -0.03846414943017419, 0....</td>\n      <td>[(0, 0.057396516), (1, 0.0002598573), (2, 0.00...</td>\n      <td>[0.05739651620388031, 0.0002598573046270758, 0...</td>\n      <td>[(0, 0.0029386827), (1, 0.0029386827), (2, 0.0...</td>\n      <td>[0.0029386826790869236, 0.0029386826790869236,...</td>\n    </tr>\n    <tr>\n      <th>2</th>\n      <td>\"7759_3\"</td>\n      <td>0</td>\n      <td>\"The film starts with a manager (Nicholas Bell...</td>\n      <td>[film, start, manag, nichola, bell, give, welc...</td>\n      <td>[(7, 1), (8, 2), (15, 1), (19, 1), (21, 1), (2...</td>\n      <td>[(7, 0.02641721019773179), (8, 0.0113918159397...</td>\n      <td>([film, start, manag, nichola, bell, give, wel...</td>\n      <td>[-0.87693584, -0.6684592, 0.039008725, 0.04651...</td>\n      <td>[(0, 4.764756308545519), (1, 2.073713845195448...</td>\n      <td>[4.764756308545519, 2.0737138451954484, -1.120...</td>\n      <td>[(0, 0.10832676919366832), (1, -0.037771180057...</td>\n      <td>[0.10832676919366832, -0.03777118005717449, 0....</td>\n      <td>[(0, 9.49308e-05), (1, 0.107810296), (2, 9.493...</td>\n      <td>[9.493080142419785e-05, 0.10781029611825943, 9...</td>\n      <td>[(0, 0.0022494197), (1, 0.0022494197), (2, 0.0...</td>\n      <td>[0.002249419689178467, 0.002249419689178467, 0...</td>\n    </tr>\n    <tr>\n      <th>3</th>\n      <td>\"3630_4\"</td>\n      <td>0</td>\n      <td>\"It must be assumed that those who praised thi...</td>\n      <td>[assum, prais, film, greatest, film, opera, t,...</td>\n      <td>[(8, 4), (14, 1), (39, 1), (40, 5), (79, 1), (...</td>\n      <td>[(8, 0.027915395297452853), (14, 0.01445786468...</td>\n      <td>([assum, prais, film, greatest, film, opera, t...</td>\n      <td>[0.05829846, 0.006241254, -0.68099487, -1.0528...</td>\n      <td>[(0, 7.83569395865421), (1, 2.7322675300286496...</td>\n      <td>[7.83569395865421, 2.7322675300286496, -1.6456...</td>\n      <td>[(0, 0.11090122350875947), (1, -0.027767160612...</td>\n      <td>[0.11090122350875947, -0.027767160612794, 0.00...</td>\n      <td>[(0, 0.0001194125), (1, 0.0001194125), (2, 0.0...</td>\n      <td>[0.00011941249977098778, 0.0001194124997709877...</td>\n      <td>[(0, 0.0029939013), (1, 0.0029939013), (2, 0.0...</td>\n      <td>[0.0029939012601971626, 0.0029939012601971626,...</td>\n    </tr>\n    <tr>\n      <th>4</th>\n      <td>\"9495_8\"</td>\n      <td>1</td>\n      <td>\"Superbly trashy and wondrously unpretentious ...</td>\n      <td>[superbl, trashi, wondrous, unpretenti, s, exp...</td>\n      <td>[(0, 1), (16, 1), (40, 1), (51, 1), (58, 1), (...</td>\n      <td>[(0, 0.026260993443946862), (16, 0.03952381157...</td>\n      <td>([superbl, trashi, wondrous, unpretenti, s, ex...</td>\n      <td>[-0.12724672, -0.27751902, 0.23157094, -0.1183...</td>\n      <td>[(0, 4.381490951727345), (1, 4.539909128826721...</td>\n      <td>[4.381490951727345, 4.5399091288267215, -0.292...</td>\n      <td>[(0, 0.1362741166670168), (1, -0.0238380867201...</td>\n      <td>[0.1362741166670168, -0.023838086720193115, 0....</td>\n      <td>[(0, 0.00010438681), (1, 0.00010438681), (2, 0...</td>\n      <td>[0.00010438681056257337, 0.0001043868105625733...</td>\n      <td>[(0, 0.0018709088), (1, 0.0018709088), (2, 0.0...</td>\n      <td>[0.0018709087744355202, 0.0018709087744355202,...</td>\n    </tr>\n    <tr>\n      <th>...</th>\n      <td>...</td>\n      <td>...</td>\n      <td>...</td>\n      <td>...</td>\n      <td>...</td>\n      <td>...</td>\n      <td>...</td>\n      <td>...</td>\n      <td>...</td>\n      <td>...</td>\n      <td>...</td>\n      <td>...</td>\n      <td>...</td>\n      <td>...</td>\n      <td>...</td>\n      <td>...</td>\n    </tr>\n    <tr>\n      <th>24995</th>\n      <td>\"3453_3\"</td>\n      <td>0</td>\n      <td>\"It seems like more consideration has gone int...</td>\n      <td>[like, consider, gone, imdb, review, film, wen...</td>\n      <td>[(8, 16), (14, 1), (19, 1), (40, 2), (44, 1), ...</td>\n      <td>[(8, 0.3705908678713166), (14, 0.0479838505272...</td>\n      <td>([like, consider, gone, imdb, review, film, we...</td>\n      <td>[0.15594596, 0.18544354, -0.105273694, 0.22136...</td>\n      <td>[(0, 13.536256392336092), (1, -8.7504469219753...</td>\n      <td>[13.536256392336092, -8.750446921975358, -1.57...</td>\n      <td>[(0, 0.21539958446612195), (1, -0.028975017869...</td>\n      <td>[0.21539958446612195, -0.02897501786907147, -0...</td>\n      <td>[(0, 0.0004084208), (1, 0.0004084208), (2, 0.0...</td>\n      <td>[0.00040842080488801, 0.00040842080488801, 0.0...</td>\n      <td>[(0, 0.0042754444), (1, 0.0042754444), (2, 0.0...</td>\n      <td>[0.004275444429367781, 0.004275444429367781, 0...</td>\n    </tr>\n    <tr>\n      <th>24996</th>\n      <td>\"5064_1\"</td>\n      <td>0</td>\n      <td>\"I don't believe they made this film. Complete...</td>\n      <td>[t, believ, film, complet, unnecessari, film, ...</td>\n      <td>[(3, 1), (14, 2), (38, 1), (39, 1), (40, 7), (...</td>\n      <td>[(3, 0.04430060588799008), (14, 0.067862671930...</td>\n      <td>([t, believ, film, complet, unnecessari, film,...</td>\n      <td>[-0.11668433, 0.3858125, 0.12042065, -0.166378...</td>\n      <td>[(0, 4.968709313380288), (1, 5.659449057954181...</td>\n      <td>[4.968709313380288, 5.659449057954181, -3.2577...</td>\n      <td>[(0, 0.1819199245141776), (1, -0.0006595155745...</td>\n      <td>[0.1819199245141776, -0.0006595155745994549, 0...</td>\n      <td>[(0, 0.00024402926), (1, 0.00024402926), (2, 0...</td>\n      <td>[0.0002440292591927573, 0.0002440292591927573,...</td>\n      <td>[(0, 0.0030703177), (1, 0.0030703177), (2, 0.0...</td>\n      <td>[0.0030703176744282246, 0.0030703176744282246,...</td>\n    </tr>\n    <tr>\n      <th>24997</th>\n      <td>\"10905_3\"</td>\n      <td>0</td>\n      <td>\"Guy is a loser. Can't get girls, needs to bui...</td>\n      <td>[gui, loser, t, girl, need, build, pick, stron...</td>\n      <td>[(7, 1), (8, 2), (40, 3), (43, 1), (46, 2), (5...</td>\n      <td>[(7, 0.08536332493723874), (8, 0.0368109758149...</td>\n      <td>([gui, loser, t, girl, need, build, pick, stro...</td>\n      <td>[-0.019323384, 0.02601225, -0.20017359, -0.245...</td>\n      <td>[(0, 3.417893938851843), (1, 0.762966760162663...</td>\n      <td>[3.417893938851843, 0.7629667601626638, -0.275...</td>\n      <td>[(0, 0.15146882820812926), (1, 0.0486274672625...</td>\n      <td>[0.15146882820812926, 0.04862746726251161, 0.0...</td>\n      <td>[(0, 0.19364153), (1, 0.00037042814), (2, 0.00...</td>\n      <td>[0.1936415284872055, 0.00037042814074084163, 0...</td>\n      <td>[(0, 0.0036014372), (1, 0.0036014372), (2, 0.0...</td>\n      <td>[0.0036014372017234564, 0.0036014372017234564,...</td>\n    </tr>\n    <tr>\n      <th>24998</th>\n      <td>\"10194_3\"</td>\n      <td>0</td>\n      <td>\"This 30 minute documentary Buñuel made in the...</td>\n      <td>[minut, documentari, buñuel, earli, s, spain, ...</td>\n      <td>[(28, 1), (35, 1), (40, 1), (61, 1), (64, 1), ...</td>\n      <td>[(28, 0.06264404738146905), (35, 0.05167372356...</td>\n      <td>([minut, documentari, buñuel, earli, s, spain,...</td>\n      <td>[-0.013894695, -0.16366182, -0.06063278, 0.144...</td>\n      <td>[(0, 2.9912926459933327), (1, 3.24235945183102...</td>\n      <td>[2.9912926459933327, 3.2423594518310255, -0.23...</td>\n      <td>[(0, 0.07659577172365657), (1, -0.014535841799...</td>\n      <td>[0.07659577172365657, -0.014535841799178663, 0...</td>\n      <td>[(0, 0.00023004648), (1, 0.00023004648), (2, 0...</td>\n      <td>[0.0002300464839208871, 0.0002300464839208871,...</td>\n      <td>[(0, 0.0036316316), (1, 0.0036316316), (2, 0.0...</td>\n      <td>[0.003631631610915065, 0.003631631610915065, 0...</td>\n    </tr>\n    <tr>\n      <th>24999</th>\n      <td>\"8478_8\"</td>\n      <td>1</td>\n      <td>\"I saw this movie as a child and it broke my h...</td>\n      <td>[saw, movi, child, broke, heart, stori, unfini...</td>\n      <td>[(39, 1), (64, 1), (69, 1), (71, 1), (79, 4), ...</td>\n      <td>[(39, 0.04445021339433996), (64, 0.01667415476...</td>\n      <td>([saw, movi, child, broke, heart, stori, unfin...</td>\n      <td>[0.18574005, 0.13300447, -0.007558366, 0.15690...</td>\n      <td>[(0, 2.2874472099580565), (1, 2.01954848501639...</td>\n      <td>[2.2874472099580565, 2.0195484850163914, 3.821...</td>\n      <td>[(0, 0.10699928350468638), (1, 0.0011356745055...</td>\n      <td>[0.10699928350468638, 0.001135674505579097, 0....</td>\n      <td>[(0, 0.095745586), (1, 0.00028241836), (2, 0.0...</td>\n      <td>[0.09574558585882187, 0.0002824183611664921, 0...</td>\n      <td>[(0, 0.0034726185), (1, 0.0034726185), (2, 0.0...</td>\n      <td>[0.0034726185258477926, 0.0034726185258477926,...</td>\n    </tr>\n  </tbody>\n</table>\n<p>25000 rows × 16 columns</p>\n</div>"
     },
     "execution_count": 51,
     "metadata": {},
     "output_type": "execute_result"
    }
   ]
  }
 ]
}
