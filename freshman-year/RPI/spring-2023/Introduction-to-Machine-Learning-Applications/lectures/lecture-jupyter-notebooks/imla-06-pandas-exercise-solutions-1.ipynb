{
 "cells": [
  {
   "cell_type": "code",
   "execution_count": null,
   "metadata": {
    "collapsed": true
   },
   "outputs": [],
   "source": [
    "# Pandas exercises"
   ]
  },
  {
   "cell_type": "code",
   "execution_count": 10,
   "outputs": [],
   "source": [
    "# Import pandas in the usual way, with the alias pd\n",
    "\n",
    "import pandas as pd"
   ],
   "metadata": {
    "collapsed": false
   }
  },
  {
   "cell_type": "code",
   "execution_count": 11,
   "outputs": [
    {
     "data": {
      "text/plain": "0    20.328538\n1    35.321803\n2     9.417810\n3    59.029990\n4    64.688387\n5    86.554039\n6    15.369863\n7    71.820776\n8    62.248369\n9     7.790455\ndtype: float64"
     },
     "execution_count": 11,
     "metadata": {},
     "output_type": "execute_result"
    }
   ],
   "source": [
    "# Create a 10-element Series from a random numpy array\n",
    "\n",
    "import numpy as np\n",
    "\n",
    "random_series = pd.Series(np.random.uniform(0, 100, 10))\n",
    "random_series"
   ],
   "metadata": {
    "collapsed": false
   }
  },
  {
   "cell_type": "code",
   "execution_count": 12,
   "outputs": [
    {
     "data": {
      "text/plain": "a    19.261994\nb    76.672279\nc    44.829662\nd    18.240147\ndtype: float64"
     },
     "execution_count": 12,
     "metadata": {},
     "output_type": "execute_result"
    }
   ],
   "source": [
    "# Create a 4-element series with random values and corresponding row labels ['a', 'b', 'c', 'd']\n",
    "\n",
    "random_series = pd.Series(np.random.uniform(0, 100, 4), index=['a', 'b', 'c', 'd'])\n",
    "random_series"
   ],
   "metadata": {
    "collapsed": false
   }
  },
  {
   "cell_type": "code",
   "execution_count": 13,
   "outputs": [
    {
     "data": {
      "text/plain": "           x          y\n0  13.647862  12.987339\n1   6.233356  25.511210\n2  88.613831  31.313947\n3  28.284107  59.831789\n4  64.564218  42.734750\n5  34.090751  27.819708\n6  47.336691  57.201087\n7   4.490989  29.564493\n8  73.934452  58.788750\n9  44.435760  61.935974",
      "text/html": "<div>\n<style scoped>\n    .dataframe tbody tr th:only-of-type {\n        vertical-align: middle;\n    }\n\n    .dataframe tbody tr th {\n        vertical-align: top;\n    }\n\n    .dataframe thead th {\n        text-align: right;\n    }\n</style>\n<table border=\"1\" class=\"dataframe\">\n  <thead>\n    <tr style=\"text-align: right;\">\n      <th></th>\n      <th>x</th>\n      <th>y</th>\n    </tr>\n  </thead>\n  <tbody>\n    <tr>\n      <th>0</th>\n      <td>13.647862</td>\n      <td>12.987339</td>\n    </tr>\n    <tr>\n      <th>1</th>\n      <td>6.233356</td>\n      <td>25.511210</td>\n    </tr>\n    <tr>\n      <th>2</th>\n      <td>88.613831</td>\n      <td>31.313947</td>\n    </tr>\n    <tr>\n      <th>3</th>\n      <td>28.284107</td>\n      <td>59.831789</td>\n    </tr>\n    <tr>\n      <th>4</th>\n      <td>64.564218</td>\n      <td>42.734750</td>\n    </tr>\n    <tr>\n      <th>5</th>\n      <td>34.090751</td>\n      <td>27.819708</td>\n    </tr>\n    <tr>\n      <th>6</th>\n      <td>47.336691</td>\n      <td>57.201087</td>\n    </tr>\n    <tr>\n      <th>7</th>\n      <td>4.490989</td>\n      <td>29.564493</td>\n    </tr>\n    <tr>\n      <th>8</th>\n      <td>73.934452</td>\n      <td>58.788750</td>\n    </tr>\n    <tr>\n      <th>9</th>\n      <td>44.435760</td>\n      <td>61.935974</td>\n    </tr>\n  </tbody>\n</table>\n</div>"
     },
     "execution_count": 13,
     "metadata": {},
     "output_type": "execute_result"
    }
   ],
   "source": [
    "# Create a DataFrame with two random 10-element Series, 'x' and 'y'\n",
    "\n",
    "two_column_random_df = pd.DataFrame({\n",
    "    \"x\": pd.Series(np.random.uniform(0, 100, 10)),\n",
    "    \"y\": pd.Series(np.random.uniform(0, 100, 10))\n",
    "})\n",
    "two_column_random_df"
   ],
   "metadata": {
    "collapsed": false
   }
  },
  {
   "cell_type": "code",
   "execution_count": 14,
   "outputs": [
    {
     "data": {
      "text/plain": "           x          y\n0  13.647862  12.987339\n1   6.233356  25.511210\n2  88.613831  31.313947\n3  28.284107  59.831789\n4  64.564218  42.734750",
      "text/html": "<div>\n<style scoped>\n    .dataframe tbody tr th:only-of-type {\n        vertical-align: middle;\n    }\n\n    .dataframe tbody tr th {\n        vertical-align: top;\n    }\n\n    .dataframe thead th {\n        text-align: right;\n    }\n</style>\n<table border=\"1\" class=\"dataframe\">\n  <thead>\n    <tr style=\"text-align: right;\">\n      <th></th>\n      <th>x</th>\n      <th>y</th>\n    </tr>\n  </thead>\n  <tbody>\n    <tr>\n      <th>0</th>\n      <td>13.647862</td>\n      <td>12.987339</td>\n    </tr>\n    <tr>\n      <th>1</th>\n      <td>6.233356</td>\n      <td>25.511210</td>\n    </tr>\n    <tr>\n      <th>2</th>\n      <td>88.613831</td>\n      <td>31.313947</td>\n    </tr>\n    <tr>\n      <th>3</th>\n      <td>28.284107</td>\n      <td>59.831789</td>\n    </tr>\n    <tr>\n      <th>4</th>\n      <td>64.564218</td>\n      <td>42.734750</td>\n    </tr>\n  </tbody>\n</table>\n</div>"
     },
     "execution_count": 14,
     "metadata": {},
     "output_type": "execute_result"
    }
   ],
   "source": [
    "# Show the first and last 5 rows of the above DataFrame\n",
    "\n",
    "two_column_random_df.head(5)"
   ],
   "metadata": {
    "collapsed": false
   }
  },
  {
   "cell_type": "code",
   "execution_count": 15,
   "outputs": [
    {
     "data": {
      "text/plain": "           x          y\n5  34.090751  27.819708\n6  47.336691  57.201087\n7   4.490989  29.564493\n8  73.934452  58.788750\n9  44.435760  61.935974",
      "text/html": "<div>\n<style scoped>\n    .dataframe tbody tr th:only-of-type {\n        vertical-align: middle;\n    }\n\n    .dataframe tbody tr th {\n        vertical-align: top;\n    }\n\n    .dataframe thead th {\n        text-align: right;\n    }\n</style>\n<table border=\"1\" class=\"dataframe\">\n  <thead>\n    <tr style=\"text-align: right;\">\n      <th></th>\n      <th>x</th>\n      <th>y</th>\n    </tr>\n  </thead>\n  <tbody>\n    <tr>\n      <th>5</th>\n      <td>34.090751</td>\n      <td>27.819708</td>\n    </tr>\n    <tr>\n      <th>6</th>\n      <td>47.336691</td>\n      <td>57.201087</td>\n    </tr>\n    <tr>\n      <th>7</th>\n      <td>4.490989</td>\n      <td>29.564493</td>\n    </tr>\n    <tr>\n      <th>8</th>\n      <td>73.934452</td>\n      <td>58.788750</td>\n    </tr>\n    <tr>\n      <th>9</th>\n      <td>44.435760</td>\n      <td>61.935974</td>\n    </tr>\n  </tbody>\n</table>\n</div>"
     },
     "execution_count": 15,
     "metadata": {},
     "output_type": "execute_result"
    }
   ],
   "source": [
    "two_column_random_df.tail(5)"
   ],
   "metadata": {
    "collapsed": false
   }
  },
  {
   "cell_type": "code",
   "execution_count": 18,
   "outputs": [
    {
     "data": {
      "text/plain": "x    float64\ny    float64\ndtype: object"
     },
     "execution_count": 18,
     "metadata": {},
     "output_type": "execute_result"
    }
   ],
   "source": [
    "# Show the names and datatypes of the columns in the above DataFrame\n",
    "\n",
    "two_column_random_df.dtypes"
   ],
   "metadata": {
    "collapsed": false
   }
  },
  {
   "cell_type": "code",
   "execution_count": 20,
   "outputs": [
    {
     "data": {
      "text/plain": "           x          y\na  49.156586  66.944594\nb  32.934048  19.911745\nc  93.907446        NaN\nd  64.076532        NaN\ne        NaN  21.398238\nf        NaN  16.949554",
      "text/html": "<div>\n<style scoped>\n    .dataframe tbody tr th:only-of-type {\n        vertical-align: middle;\n    }\n\n    .dataframe tbody tr th {\n        vertical-align: top;\n    }\n\n    .dataframe thead th {\n        text-align: right;\n    }\n</style>\n<table border=\"1\" class=\"dataframe\">\n  <thead>\n    <tr style=\"text-align: right;\">\n      <th></th>\n      <th>x</th>\n      <th>y</th>\n    </tr>\n  </thead>\n  <tbody>\n    <tr>\n      <th>a</th>\n      <td>49.156586</td>\n      <td>66.944594</td>\n    </tr>\n    <tr>\n      <th>b</th>\n      <td>32.934048</td>\n      <td>19.911745</td>\n    </tr>\n    <tr>\n      <th>c</th>\n      <td>93.907446</td>\n      <td>NaN</td>\n    </tr>\n    <tr>\n      <th>d</th>\n      <td>64.076532</td>\n      <td>NaN</td>\n    </tr>\n    <tr>\n      <th>e</th>\n      <td>NaN</td>\n      <td>21.398238</td>\n    </tr>\n    <tr>\n      <th>f</th>\n      <td>NaN</td>\n      <td>16.949554</td>\n    </tr>\n  </tbody>\n</table>\n</div>"
     },
     "execution_count": 20,
     "metadata": {},
     "output_type": "execute_result"
    }
   ],
   "source": [
    "# Create a DataFrame with two Series that have two row labels in common and two not in common. Show that the resulting DataFrame has missing values for the not-in-common row labels.\n",
    "\n",
    "sparse_df = pd.DataFrame({\n",
    "    \"x\": pd.Series(np.random.uniform(0, 100, 4), index=['a', 'b', 'c', 'd']),\n",
    "    \"y\": pd.Series(np.random.uniform(0, 100, 4), index=['a', 'b', 'e', 'f'])\n",
    "})\n",
    "sparse_df"
   ],
   "metadata": {
    "collapsed": false
   }
  }
 ],
 "metadata": {
  "kernelspec": {
   "display_name": "Python 3",
   "language": "python",
   "name": "python3"
  },
  "language_info": {
   "codemirror_mode": {
    "name": "ipython",
    "version": 2
   },
   "file_extension": ".py",
   "mimetype": "text/x-python",
   "name": "python",
   "nbconvert_exporter": "python",
   "pygments_lexer": "ipython2",
   "version": "2.7.6"
  }
 },
 "nbformat": 4,
 "nbformat_minor": 0
}
