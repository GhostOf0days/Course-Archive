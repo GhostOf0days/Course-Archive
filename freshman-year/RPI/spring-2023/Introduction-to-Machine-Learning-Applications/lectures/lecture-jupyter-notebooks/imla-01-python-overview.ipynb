{
 "cells": [
  {
   "cell_type": "markdown",
   "metadata": {
    "colab_type": "text",
    "id": "J7OlIng29vwD",
    "slideshow": {
     "slide_type": "slide"
    }
   },
   "source": [
    "[![AnalyticsDojo](https://github.com/rpi-techfundamentals/spring2019-materials/blob/master/fig/final-logo.png?raw=1)](http://rpi.analyticsdojo.com)\n",
    "<center><h1>Introduction to Python - Overview and Packages</h1></center>\n",
    "<center><h3><a href = 'http://rpi.analyticsdojo.com'>rpi.analyticsdojo.com</a></h3></center>\n",
    "\n",
    "\n",
    "\n",
    "\n"
   ]
  },
  {
   "cell_type": "markdown",
   "metadata": {
    "colab_type": "text",
    "id": "KKoCVTzX9vwF",
    "slideshow": {
     "slide_type": "subslide"
    }
   },
   "source": [
    "# Overview of Python Features\n",
    "- Language Features  \n",
    "- Python and Jupyter\n",
    "- Jupyter and Markdown\n",
    "- Python and Packages"
   ]
  },
  {
   "cell_type": "markdown",
   "metadata": {
    "colab_type": "text",
    "id": "4uvLiLOg9vwJ",
    "slideshow": {
     "slide_type": "subslide"
    }
   },
   "source": [
    "### Python and Jupyter\n",
    "- Python commands can be executed in a Jupyter Notebook just by play at the end of a cell.\n",
    "- Blocks of cells or even the entire notebook can be executed by clicking on the *Cell* above.\n",
    "- The Kernal is responsible for interpreting the code, and the current kernal is listed on the top right of the notebook. \n",
    "- While Jupyter started as a Python project, there are now a variety of Kernals for different programming languages including R, Scala, and SAS. \n",
    "- Read more about Jupyter in the documentation [here](http://jupyter.readthedocs.io/en/latest/).\n",
    "- If a variable isn't assigned it will be provided as output. "
   ]
  },
  {
   "cell_type": "code",
   "execution_count": 1,
   "metadata": {
    "colab": {
     "base_uri": "https://localhost:8080/",
     "height": 34
    },
    "colab_type": "code",
    "id": "TEWlnBRB9vwK",
    "outputId": "1e57092e-74bb-4ff5-ead1-ed2dbc0b4b7c"
   },
   "outputs": [
    {
     "data": {
      "text/plain": [
       "10"
      ]
     },
     "execution_count": 1,
     "metadata": {},
     "output_type": "execute_result"
    }
   ],
   "source": [
    "#Sum provided as output. \n",
    "5+5 "
   ]
  },
  {
   "cell_type": "code",
   "execution_count": 2,
   "metadata": {
    "colab": {},
    "colab_type": "code",
    "id": "F9UycXES9vwN"
   },
   "outputs": [],
   "source": [
    "#No output is provided when assigning a variable.\n",
    "g=5+5"
   ]
  },
  {
   "cell_type": "code",
   "execution_count": 3,
   "metadata": {
    "colab": {},
    "colab_type": "code",
    "id": "SG8RtgeF9vwQ"
   },
   "outputs": [
    {
     "data": {
      "text/plain": [
       "10"
      ]
     },
     "execution_count": 3,
     "metadata": {},
     "output_type": "execute_result"
    }
   ],
   "source": [
    "#Just listing a variable will cause it to be provided as output.\n",
    "g"
   ]
  },
  {
   "cell_type": "markdown",
   "metadata": {
    "colab_type": "text",
    "id": "SdvZR-9o9vwV",
    "slideshow": {
     "slide_type": "subslide"
    }
   },
   "source": [
    "### Jupyter and Markdown\n",
    "- Jupyter notebooks are a great way of documenting your analytics projects. \n",
    "- Select *Cell->Cell Type->Markdown* to create a *Markdown* Cell.  \n",
    "- Check out this [Markdown Cheatsheet](https://github.com/adam-p/markdown-here/wiki/Markdown-Cheatsheet).\n",
    "- Within code cells, you can comment by starting lines with `#`."
   ]
  },
  {
   "cell_type": "code",
   "execution_count": 4,
   "metadata": {
    "colab": {},
    "colab_type": "code",
    "id": "In-jjwVQ9vwb"
   },
   "outputs": [
    {
     "data": {
      "text/plain": [
       "10"
      ]
     },
     "execution_count": 4,
     "metadata": {},
     "output_type": "execute_result"
    }
   ],
   "source": [
    "#This is a Python Comment and won't generate output. \n",
    "5+5 "
   ]
  },
  {
   "cell_type": "markdown",
   "metadata": {
    "colab_type": "text",
    "id": "VIdKDPml9vwk",
    "slideshow": {
     "slide_type": "subslide"
    }
   },
   "source": [
    "### Python and Packages\n",
    "- There are a tremendous number of packages available which extend the core capabilities of the Python language.\n",
    "- Packages are critical for data science, as data typically structured via external package. \n",
    "- The PyPI - the Python Package Index [https://pypi.python.org](https://pypi.python.org) provides search listing of all packages.\n",
    "- It is possible that packages could be avaialble for Python 2 but not Python 3 (or vice versa).\n",
    "- `pip` is an  the package management system used to install and manage Python packages.\n",
    "- Anaconda (`conda`) is the package management system with enterprise packages available.\n"
   ]
  },
  {
   "cell_type": "markdown",
   "metadata": {
    "colab_type": "text",
    "id": "dXVLM1Lc9vwk",
    "slideshow": {
     "slide_type": "subslide"
    }
   },
   "source": [
    "![](https://github.com/rpi-techfundamentals/spring2019-materials/blob/master/fig/anaconda.png?raw=1)"
   ]
  },
  {
   "cell_type": "markdown",
   "metadata": {
    "colab_type": "text",
    "id": "LnMltiBR9vwl",
    "slideshow": {
     "slide_type": "subslide"
    }
   },
   "source": [
    "### Python and Installing Packages \n",
    "- When using Conda, the command `conda install`\n",
    "- pip is the package management system used to install and manage Python packages.\n",
    "- pip must be run on the terminal. \n",
    "- (1) From a notebook:\n",
    "\n",
    "`!conda install -y matplotlib`\n",
    "\n",
    "`!pip install  matplotlib`\n",
    "- (2) Select *New->Terminal* from main Jupyter screeen.\n",
    "\n",
    "    "
   ]
  },
  {
   "cell_type": "code",
   "execution_count": null,
   "metadata": {
    "colab": {},
    "colab_type": "code",
    "id": "Zr8pm0sp9vwm"
   },
   "outputs": [],
   "source": [
    "#Conda will work if running locally, but not on Colab. \n",
    "#!conda install -y matplotlib"
   ]
  },
  {
   "cell_type": "code",
   "execution_count": null,
   "metadata": {
    "colab": {
     "base_uri": "https://localhost:8080/",
     "height": 156
    },
    "colab_type": "code",
    "id": "e1ESwWEV9vwr",
    "outputId": "281bcc26-73c9-4841-e81c-be71ce1c4416"
   },
   "outputs": [],
   "source": [
    "#This will install the package matplotlib (or really check that it is installed because it is by default.)\n",
    "!pip install  matplotlib"
   ]
  },
  {
   "cell_type": "markdown",
   "metadata": {
    "colab_type": "text",
    "id": "6nZV9oRm9vwt",
    "slideshow": {
     "slide_type": "subslide"
    }
   },
   "source": [
    "### Python and Using Packages \n",
    "- Python packages must be imported before using. \n",
    "- Python packages are organized as modules, and you can import the entire package or just the submodule that you need.\n",
    "- Packages only have to be imported once in a notebook (not in every cell). \n",
    "- Multipled ways of importing all or specific modules (that impact how you call methods)\n",
    "- (1) Import all of the package `import matplotlib`\n",
    "- (2) Import a module `import matplotlib.pyplot` or `from matplotlib import pyplot`\n",
    "- (3) Import all of some of package with abbreviation  `import matplotlib.pyplot as plt`"
   ]
  },
  {
   "cell_type": "code",
   "execution_count": null,
   "metadata": {
    "colab": {},
    "colab_type": "code",
    "id": "YE_ZoMtf9vwv"
   },
   "outputs": [],
   "source": [
    "#This is required to show plots. It just has to be run once.\n",
    "%matplotlib inline"
   ]
  },
  {
   "cell_type": "code",
   "execution_count": null,
   "metadata": {
    "colab": {
     "base_uri": "https://localhost:8080/",
     "height": 265
    },
    "colab_type": "code",
    "id": "Oi_5c7vM9vwy",
    "outputId": "cab711ea-db4e-4eb8-f94e-20f0c3736e0f"
   },
   "outputs": [],
   "source": [
    "#This will import the pyplot module of the matplotlab package. \n",
    "import matplotlib.pyplot as pyplot\n",
    "#Observe how we are calling the plot method within the pyplot module. \n",
    "pyplot.plot([1,2,3,4])\n",
    "pyplot.ylabel('Sample numbers')\n",
    "pyplot.show()"
   ]
  },
  {
   "cell_type": "code",
   "execution_count": null,
   "metadata": {
    "colab": {
     "base_uri": "https://localhost:8080/",
     "height": 265
    },
    "colab_type": "code",
    "id": "qiW1xwho9vw2",
    "outputId": "65b3ce35-799f-4a4d-dcff-f4e1a9eebd0d",
    "slideshow": {
     "slide_type": "subslide"
    }
   },
   "outputs": [],
   "source": [
    "#This will import just the pyplot module as plt\n",
    "import matplotlib.pyplot as plt\n",
    "#Observe how we are calling the plot method within the pyplot module. \n",
    "plt.plot([1,2,3,4])\n",
    "pyplot.ylabel('Sample numbers')\n",
    "plt.show()"
   ]
  },
  {
   "cell_type": "code",
   "execution_count": null,
   "metadata": {
    "colab": {},
    "colab_type": "code",
    "id": "6v74ZWoi9vw6"
   },
   "outputs": [],
   "source": []
  }
 ],
 "metadata": {
  "colab": {
   "name": "01-intro-python-overview.ipynb",
   "provenance": [],
   "version": "0.3.2"
  },
  "kernelspec": {
   "display_name": "Python 3 (ipykernel)",
   "language": "python",
   "name": "python3"
  },
  "language_info": {
   "codemirror_mode": {
    "name": "ipython",
    "version": 3
   },
   "file_extension": ".py",
   "mimetype": "text/x-python",
   "name": "python",
   "nbconvert_exporter": "python",
   "pygments_lexer": "ipython3",
   "version": "3.9.13"
  }
 },
 "nbformat": 4,
 "nbformat_minor": 4
}
