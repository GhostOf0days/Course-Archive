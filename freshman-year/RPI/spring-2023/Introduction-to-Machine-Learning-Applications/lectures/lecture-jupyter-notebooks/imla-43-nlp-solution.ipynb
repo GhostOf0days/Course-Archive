{
 "cells": [
  {
   "cell_type": "markdown",
   "metadata": {
    "colab_type": "text",
    "id": "bQ5DZ_ZkI74h"
   },
   "source": [
    "* Tokenize the `REVIEWS` text into meaningful words\n",
    "* Combine the tokens again and print them\n",
    "* Stem the tokens using the Porter and Snowball stemmers. Which one works best, and why?\n",
    "* Remove stopwords\n",
    "* Identify the ten most frequent unigrams and bi-grams"
   ]
  },
  {
   "cell_type": "code",
   "execution_count": 4,
   "metadata": {
    "colab": {
     "base_uri": "https://localhost:8080/",
     "height": 357
    },
    "colab_type": "code",
    "id": "uHvXv_uILCvo",
    "outputId": "7cea77c0-e3df-41dc-c096-ded7a065d5f9"
   },
   "outputs": [],
   "source": [
    "REVIEWS = '''\\\n",
    "After a morning of Thrift Store hunting, a friend and I were thinking of lunch, and he suggested Emil's after he'd seen Chris Sebak do a bit on it and had tried it a time or two before, and I had not. He said they had a decent Reuben, but to be prepared to step back in time.\n",
    "\n",
    "Well, seeing as how I'm kind of addicted to late 40's and early 50's, and the whole Rat Pack scene, stepping back in time is a welcomed change in da burgh...as long as it doesn't involve 1979, which I can see all around me every day.\n",
    "\n",
    "And yet another shot at finding a decent Reuben in da burgh...well, that's like hunting the Holy Grail. So looking under one more bush certainly wouldn't hurt.\n",
    "\n",
    "So off we go right at lunchtime in the middle of...where exactly were we? At first I thought we were lost, driving around a handful of very rather dismal looking blocks in what looked like a neighborhood that had been blighted by the building of a highway. And then...AHA! Here it is! And yep, there it was. This little unassuming building with an add-on entrance with what looked like a very old hand painted sign stating quite simply 'Emil's.\n",
    "\n",
    "We walked in the front door, and entered another world. Another time, and another place. Oh, and any Big Burrito/Sousa foodies might as well stop reading now. I wouldn't want to see you walk in, roll your eyes and say 'Reaaaaaalllly?'\n",
    "\n",
    "This is about as old world bar/lounge/restaurant as it gets. Plain, with a dark wood bar on one side, plain white walls with no yinzer pics, good sturdy chairs and actual white linens on the tables. This is the kind of neighborhood dive that I could see Frank and Dino pulling a few tables together for some poker, a fish sammich, and some cheap scotch. And THAT is exactly what I love.\n",
    "\n",
    "Oh...but good food counts too.\n",
    "\n",
    "We each had a Reuben, and my friend had a side of fries. The Reubens were decent, but not NY awesome. A little too thick on the bread, but overall, tasty and definitely filling. Not too skimpy on the meat. I seriously CRAVE a true, good NY Reuben, but since I can't afford to travel right now, what I find in da burgh will have to do. But as we sat and ate, burgers came out to an adjoining table. Those were some big thick burgers. A steak went past for the table behind us. That was HUGE! And when we asked about it, the waitress said 'Yeah, it's huge and really good, and he only charges $12.99 for it, ain't that nuts?' Another table of five came in, and wham. Fish sandwiches PILED with breaded fish that looked amazing. Yeah, I want that, that, that and THAT!\n",
    "\n",
    "My friend also mentioned that they have a Chicken Parm special one day of the week that is only served UNTIL 4 pm, and that it is fantastic. If only I could GET there on that week day before 4...\n",
    "\n",
    "The waitress did a good job, especially since there was quite a growing crowd at lunchtime on a Saturday, and only one of her. She kept up and was very friendly.\n",
    "\n",
    "They only have Pepsi products, so I had a brewed iced tea, which was very fresh, and she did pop by to ask about refills as often as she could. As the lunch hour went on, they were getting busy.\n",
    "\n",
    "Emil's is no frills, good portions, very reasonable prices, VERY comfortable neighborhood hole in the wall...kind of like Cheers, but in a blue collar neighborhood in the 1950's. Fan-freakin-tastic! I could feel at home here.\n",
    "\n",
    "You definitely want to hit Mapquest or plug in your GPS though. I am not sure that I could find it again on my own...it really is a hidden gem. I will be making my friend take me back until I can memorize where the heck it is.\n",
    "\n",
    "Addendum: 2nd visit for the fish sandwich. Excellent. Truly. A pound of fish on a fish-shaped bun (as opposed to da burgh's seemingly popular hamburger bun). The fish was flavorful, the batter excellent, and for just $8. This may have been the best fish sandwich I've yet to have in da burgh.\n",
    "'''"
   ]
  },
  {
   "cell_type": "code",
   "execution_count": 5,
   "outputs": [
    {
     "name": "stderr",
     "output_type": "stream",
     "text": [
      "[nltk_data] Downloading package stopwords to /Users/minor/nltk_data...\n",
      "[nltk_data]   Package stopwords is already up-to-date!\n"
     ]
    },
    {
     "data": {
      "text/plain": "True"
     },
     "execution_count": 5,
     "metadata": {},
     "output_type": "execute_result"
    }
   ],
   "source": [
    "# Import nltk and download the list of stopwords\n",
    "import nltk\n",
    "nltk.download('stopwords')"
   ],
   "metadata": {
    "collapsed": false
   }
  },
  {
   "cell_type": "code",
   "execution_count": 6,
   "outputs": [],
   "source": [
    "# Normalize the text\n",
    "import re\n",
    "lower_case_text = REVIEWS.lower()\n",
    "space_normalized_text = re.sub(r'[^a-zA-Z0-9\\s]', ' ', lower_case_text)"
   ],
   "metadata": {
    "collapsed": false
   }
  },
  {
   "cell_type": "code",
   "execution_count": 7,
   "outputs": [],
   "source": [
    "# Tokenize the text\n",
    "from nltk.tokenize import word_tokenize\n",
    "tokens = word_tokenize(space_normalized_text)"
   ],
   "metadata": {
    "collapsed": false
   }
  },
  {
   "cell_type": "code",
   "execution_count": 8,
   "outputs": [
    {
     "data": {
      "text/plain": "'after a morning of thrift store hunting a friend and i were thinking of lunch and he suggested emil s after he d seen chris sebak do a bit on it and had tried it a time or two before and i had not he said they had a decent reuben but to be prepared to step back in time well seeing as how i m kind of addicted to late 40 s and early 50 s and the whole rat pack scene stepping back in time is a welcomed change in da burgh as long as it doesn t involve 1979 which i can see all around me every day and yet another shot at finding a decent reuben in da burgh well that s like hunting the holy grail so looking under one more bush certainly wouldn t hurt so off we go right at lunchtime in the middle of where exactly were we at first i thought we were lost driving around a handful of very rather dismal looking blocks in what looked like a neighborhood that had been blighted by the building of a highway and then aha here it is and yep there it was this little unassuming building with an add on entrance with what looked like a very old hand painted sign stating quite simply emil s we walked in the front door and entered another world another time and another place oh and any big burrito sousa foodies might as well stop reading now i wouldn t want to see you walk in roll your eyes and say reaaaaaalllly this is about as old world bar lounge restaurant as it gets plain with a dark wood bar on one side plain white walls with no yinzer pics good sturdy chairs and actual white linens on the tables this is the kind of neighborhood dive that i could see frank and dino pulling a few tables together for some poker a fish sammich and some cheap scotch and that is exactly what i love oh but good food counts too we each had a reuben and my friend had a side of fries the reubens were decent but not ny awesome a little too thick on the bread but overall tasty and definitely filling not too skimpy on the meat i seriously crave a true good ny reuben but since i can t afford to travel right now what i find in da burgh will have to do but as we sat and ate burgers came out to an adjoining table those were some big thick burgers a steak went past for the table behind us that was huge and when we asked about it the waitress said yeah it s huge and really good and he only charges 12 99 for it ain t that nuts another table of five came in and wham fish sandwiches piled with breaded fish that looked amazing yeah i want that that that and that my friend also mentioned that they have a chicken parm special one day of the week that is only served until 4 pm and that it is fantastic if only i could get there on that week day before 4 the waitress did a good job especially since there was quite a growing crowd at lunchtime on a saturday and only one of her she kept up and was very friendly they only have pepsi products so i had a brewed iced tea which was very fresh and she did pop by to ask about refills as often as she could as the lunch hour went on they were getting busy emil s is no frills good portions very reasonable prices very comfortable neighborhood hole in the wall kind of like cheers but in a blue collar neighborhood in the 1950 s fan freakin tastic i could feel at home here you definitely want to hit mapquest or plug in your gps though i am not sure that i could find it again on my own it really is a hidden gem i will be making my friend take me back until i can memorize where the heck it is addendum 2nd visit for the fish sandwich excellent truly a pound of fish on a fish shaped bun as opposed to da burgh s seemingly popular hamburger bun the fish was flavorful the batter excellent and for just 8 this may have been the best fish sandwich i ve yet to have in da burgh'"
     },
     "execution_count": 8,
     "metadata": {},
     "output_type": "execute_result"
    }
   ],
   "source": [
    "# Show the reconstituted text\n",
    "' '.join(tokens)"
   ],
   "metadata": {
    "collapsed": false
   }
  },
  {
   "cell_type": "code",
   "execution_count": 9,
   "outputs": [
    {
     "data": {
      "text/plain": "       token porter_stemmed_token snowball_stemmed_token\n0      after                after                  after\n1          a                    a                      a\n2    morning                 morn                   morn\n3         of                   of                     of\n4     thrift               thrift                 thrift\n..       ...                  ...                    ...\n749       to                   to                     to\n750     have                 have                   have\n751       in                   in                     in\n752       da                   da                     da\n753    burgh                burgh                  burgh\n\n[754 rows x 3 columns]",
      "text/html": "<div>\n<style scoped>\n    .dataframe tbody tr th:only-of-type {\n        vertical-align: middle;\n    }\n\n    .dataframe tbody tr th {\n        vertical-align: top;\n    }\n\n    .dataframe thead th {\n        text-align: right;\n    }\n</style>\n<table border=\"1\" class=\"dataframe\">\n  <thead>\n    <tr style=\"text-align: right;\">\n      <th></th>\n      <th>token</th>\n      <th>porter_stemmed_token</th>\n      <th>snowball_stemmed_token</th>\n    </tr>\n  </thead>\n  <tbody>\n    <tr>\n      <th>0</th>\n      <td>after</td>\n      <td>after</td>\n      <td>after</td>\n    </tr>\n    <tr>\n      <th>1</th>\n      <td>a</td>\n      <td>a</td>\n      <td>a</td>\n    </tr>\n    <tr>\n      <th>2</th>\n      <td>morning</td>\n      <td>morn</td>\n      <td>morn</td>\n    </tr>\n    <tr>\n      <th>3</th>\n      <td>of</td>\n      <td>of</td>\n      <td>of</td>\n    </tr>\n    <tr>\n      <th>4</th>\n      <td>thrift</td>\n      <td>thrift</td>\n      <td>thrift</td>\n    </tr>\n    <tr>\n      <th>...</th>\n      <td>...</td>\n      <td>...</td>\n      <td>...</td>\n    </tr>\n    <tr>\n      <th>749</th>\n      <td>to</td>\n      <td>to</td>\n      <td>to</td>\n    </tr>\n    <tr>\n      <th>750</th>\n      <td>have</td>\n      <td>have</td>\n      <td>have</td>\n    </tr>\n    <tr>\n      <th>751</th>\n      <td>in</td>\n      <td>in</td>\n      <td>in</td>\n    </tr>\n    <tr>\n      <th>752</th>\n      <td>da</td>\n      <td>da</td>\n      <td>da</td>\n    </tr>\n    <tr>\n      <th>753</th>\n      <td>burgh</td>\n      <td>burgh</td>\n      <td>burgh</td>\n    </tr>\n  </tbody>\n</table>\n<p>754 rows × 3 columns</p>\n</div>"
     },
     "execution_count": 9,
     "metadata": {},
     "output_type": "execute_result"
    }
   ],
   "source": [
    "# Stem the tokens\n",
    "\n",
    "import pandas as pd\n",
    "from nltk.stem import PorterStemmer, SnowballStemmer\n",
    "\n",
    "porter_stemmer = PorterStemmer()\n",
    "snowball_stemmer = SnowballStemmer(language=\"english\")\n",
    "\n",
    "stemmed_tokens_df = pd.DataFrame({\n",
    "    \"token\": tokens,\n",
    "    \"porter_stemmed_token\": [porter_stemmer.stem(token) for token in tokens],\n",
    "    \"snowball_stemmed_token\": [snowball_stemmer.stem(token) for token in tokens],\n",
    "})\n",
    "\n",
    "stemmed_tokens_df"
   ],
   "metadata": {
    "collapsed": false
   }
  },
  {
   "cell_type": "code",
   "execution_count": 10,
   "outputs": [
    {
     "data": {
      "text/plain": "['morning',\n 'thrift',\n 'store',\n 'hunting',\n 'friend',\n 'thinking',\n 'lunch',\n 'suggested',\n 'emil',\n 'seen',\n 'chris',\n 'sebak',\n 'bit',\n 'tried',\n 'time',\n 'two',\n 'said',\n 'decent',\n 'reuben',\n 'prepared',\n 'step',\n 'back',\n 'time',\n 'well',\n 'seeing',\n 'kind',\n 'addicted',\n 'late',\n '40',\n 'early',\n '50',\n 'whole',\n 'rat',\n 'pack',\n 'scene',\n 'stepping',\n 'back',\n 'time',\n 'welcomed',\n 'change',\n 'da',\n 'burgh',\n 'long',\n 'involve',\n '1979',\n 'see',\n 'around',\n 'every',\n 'day',\n 'yet',\n 'another',\n 'shot',\n 'finding',\n 'decent',\n 'reuben',\n 'da',\n 'burgh',\n 'well',\n 'like',\n 'hunting',\n 'holy',\n 'grail',\n 'looking',\n 'one',\n 'bush',\n 'certainly',\n 'hurt',\n 'go',\n 'right',\n 'lunchtime',\n 'middle',\n 'exactly',\n 'first',\n 'thought',\n 'lost',\n 'driving',\n 'around',\n 'handful',\n 'rather',\n 'dismal',\n 'looking',\n 'blocks',\n 'looked',\n 'like',\n 'neighborhood',\n 'blighted',\n 'building',\n 'highway',\n 'aha',\n 'yep',\n 'little',\n 'unassuming',\n 'building',\n 'add',\n 'entrance',\n 'looked',\n 'like',\n 'old',\n 'hand',\n 'painted',\n 'sign',\n 'stating',\n 'quite',\n 'simply',\n 'emil',\n 'walked',\n 'front',\n 'door',\n 'entered',\n 'another',\n 'world',\n 'another',\n 'time',\n 'another',\n 'place',\n 'oh',\n 'big',\n 'burrito',\n 'sousa',\n 'foodies',\n 'might',\n 'well',\n 'stop',\n 'reading',\n 'want',\n 'see',\n 'walk',\n 'roll',\n 'eyes',\n 'say',\n 'reaaaaaalllly',\n 'old',\n 'world',\n 'bar',\n 'lounge',\n 'restaurant',\n 'gets',\n 'plain',\n 'dark',\n 'wood',\n 'bar',\n 'one',\n 'side',\n 'plain',\n 'white',\n 'walls',\n 'yinzer',\n 'pics',\n 'good',\n 'sturdy',\n 'chairs',\n 'actual',\n 'white',\n 'linens',\n 'tables',\n 'kind',\n 'neighborhood',\n 'dive',\n 'could',\n 'see',\n 'frank',\n 'dino',\n 'pulling',\n 'tables',\n 'together',\n 'poker',\n 'fish',\n 'sammich',\n 'cheap',\n 'scotch',\n 'exactly',\n 'love',\n 'oh',\n 'good',\n 'food',\n 'counts',\n 'reuben',\n 'friend',\n 'side',\n 'fries',\n 'reubens',\n 'decent',\n 'ny',\n 'awesome',\n 'little',\n 'thick',\n 'bread',\n 'overall',\n 'tasty',\n 'definitely',\n 'filling',\n 'skimpy',\n 'meat',\n 'seriously',\n 'crave',\n 'true',\n 'good',\n 'ny',\n 'reuben',\n 'since',\n 'afford',\n 'travel',\n 'right',\n 'find',\n 'da',\n 'burgh',\n 'sat',\n 'ate',\n 'burgers',\n 'came',\n 'adjoining',\n 'table',\n 'big',\n 'thick',\n 'burgers',\n 'steak',\n 'went',\n 'past',\n 'table',\n 'behind',\n 'us',\n 'huge',\n 'asked',\n 'waitress',\n 'said',\n 'yeah',\n 'huge',\n 'really',\n 'good',\n 'charges',\n '12',\n '99',\n 'nuts',\n 'another',\n 'table',\n 'five',\n 'came',\n 'wham',\n 'fish',\n 'sandwiches',\n 'piled',\n 'breaded',\n 'fish',\n 'looked',\n 'amazing',\n 'yeah',\n 'want',\n 'friend',\n 'also',\n 'mentioned',\n 'chicken',\n 'parm',\n 'special',\n 'one',\n 'day',\n 'week',\n 'served',\n '4',\n 'pm',\n 'fantastic',\n 'could',\n 'get',\n 'week',\n 'day',\n '4',\n 'waitress',\n 'good',\n 'job',\n 'especially',\n 'since',\n 'quite',\n 'growing',\n 'crowd',\n 'lunchtime',\n 'saturday',\n 'one',\n 'kept',\n 'friendly',\n 'pepsi',\n 'products',\n 'brewed',\n 'iced',\n 'tea',\n 'fresh',\n 'pop',\n 'ask',\n 'refills',\n 'often',\n 'could',\n 'lunch',\n 'hour',\n 'went',\n 'getting',\n 'busy',\n 'emil',\n 'frills',\n 'good',\n 'portions',\n 'reasonable',\n 'prices',\n 'comfortable',\n 'neighborhood',\n 'hole',\n 'wall',\n 'kind',\n 'like',\n 'cheers',\n 'blue',\n 'collar',\n 'neighborhood',\n '1950',\n 'fan',\n 'freakin',\n 'tastic',\n 'could',\n 'feel',\n 'home',\n 'definitely',\n 'want',\n 'hit',\n 'mapquest',\n 'plug',\n 'gps',\n 'though',\n 'sure',\n 'could',\n 'find',\n 'really',\n 'hidden',\n 'gem',\n 'making',\n 'friend',\n 'take',\n 'back',\n 'memorize',\n 'heck',\n 'addendum',\n '2nd',\n 'visit',\n 'fish',\n 'sandwich',\n 'excellent',\n 'truly',\n 'pound',\n 'fish',\n 'fish',\n 'shaped',\n 'bun',\n 'opposed',\n 'da',\n 'burgh',\n 'seemingly',\n 'popular',\n 'hamburger',\n 'bun',\n 'fish',\n 'flavorful',\n 'batter',\n 'excellent',\n '8',\n 'may',\n 'best',\n 'fish',\n 'sandwich',\n 'yet',\n 'da',\n 'burgh']"
     },
     "execution_count": 10,
     "metadata": {},
     "output_type": "execute_result"
    }
   ],
   "source": [
    "# Remove stopwords\n",
    "import nltk.corpus\n",
    "stopwords_set = set(nltk.corpus.stopwords.words(\"english\"))\n",
    "tokens_without_stopwords = [token for token in tokens if token not in stopwords_set]\n",
    "tokens_without_stopwords"
   ],
   "metadata": {
    "collapsed": false
   }
  },
  {
   "cell_type": "code",
   "execution_count": 13,
   "outputs": [
    {
     "name": "stdout",
     "output_type": "stream",
     "text": [
      "Most common unigrams:\n",
      "[('fish', 8), ('good', 6), ('da', 5), ('burgh', 5), ('another', 5), ('could', 5), ('friend', 4), ('time', 4), ('reuben', 4), ('like', 4)]\n",
      "\n",
      "Most common bigrams:\n",
      "[(('da', 'burgh'), 5), (('decent', 'reuben'), 2), (('back', 'time'), 2), (('looked', 'like'), 2), (('fish', 'sandwich'), 2), (('morning', 'thrift'), 1), (('thrift', 'store'), 1), (('store', 'hunting'), 1), (('hunting', 'friend'), 1), (('friend', 'thinking'), 1)]\n"
     ]
    }
   ],
   "source": [
    "from collections import Counter\n",
    "from nltk.util import ngrams\n",
    "\n",
    "unigram_counter = Counter()\n",
    "for unigram in ngrams(tokens_without_stopwords, 1):\n",
    "    unigram_counter[unigram[0]] += 1\n",
    "print(\"Most common unigrams:\")\n",
    "print(unigram_counter.most_common(10))\n",
    "print()\n",
    "\n",
    "bigram_counter = Counter()\n",
    "for bigram in ngrams(tokens_without_stopwords, 2):\n",
    "    bigram_counter[bigram] += 1\n",
    "print(\"Most common bigrams:\")\n",
    "print(bigram_counter.most_common(10))"
   ],
   "metadata": {
    "collapsed": false
   }
  }
 ],
 "metadata": {
  "colab": {
   "collapsed_sections": [],
   "name": "Lecture20.ipynb",
   "provenance": []
  },
  "kernelspec": {
   "display_name": "Python 3",
   "language": "python",
   "name": "python3"
  },
  "language_info": {
   "codemirror_mode": {
    "name": "ipython",
    "version": 3
   },
   "file_extension": ".py",
   "mimetype": "text/x-python",
   "name": "python",
   "nbconvert_exporter": "python",
   "pygments_lexer": "ipython3",
   "version": "3.7.6"
  }
 },
 "nbformat": 4,
 "nbformat_minor": 4
}
