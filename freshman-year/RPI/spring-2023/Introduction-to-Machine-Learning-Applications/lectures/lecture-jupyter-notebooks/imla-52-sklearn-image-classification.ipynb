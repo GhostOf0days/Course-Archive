{
 "nbformat": 4,
 "nbformat_minor": 0,
 "metadata": {
  "colab": {
   "name": "IntrotoML-Lecture-21.ipynb",
   "provenance": [],
   "collapsed_sections": []
  },
  "kernelspec": {
   "name": "python3",
   "display_name": "Python 3"
  },
  "language_info": {
   "name": "python"
  }
 },
 "cells": [
  {
   "cell_type": "markdown",
   "source": [
    "# Classify images using random forests"
   ],
   "metadata": {
    "collapsed": false
   }
  },
  {
   "cell_type": "code",
   "source": [
    "from pathlib import Path\n",
    "from PIL import Image\n",
    "\n",
    "X = []\n",
    "y = []\n",
    "\n",
    "dogs_and_cats_images_training_path = Path(\"DogsAndCatsImages\") / \"training\"\n",
    "\n",
    "for i in range(1, 51):\n",
    "  with Image.open(str(dogs_and_cats_images_training_path / ('cat.'+str(i)+'.jpg'))) as img:\n",
    "      X.append(img.histogram())\n",
    "      y.append(1)\n",
    "\n",
    "for i in range(1, 51):\n",
    "  with Image.open(str(dogs_and_cats_images_training_path / ('dog.'+str(i)+'.jpg'))) as img:\n",
    "      X.append(img.histogram())\n",
    "      y.append(2)\n",
    "\n",
    "print(len(X))\n",
    "print(len(X[0]))"
   ],
   "metadata": {
    "id": "UbKl9R9kQyaX"
   },
   "execution_count": 62,
   "outputs": [
    {
     "name": "stdout",
     "output_type": "stream",
     "text": [
      "100\n",
      "768\n"
     ]
    }
   ]
  },
  {
   "cell_type": "code",
   "source": [
    "# Standardize the data\n",
    "from sklearn.preprocessing import StandardScaler\n",
    "\n",
    "X_scaled = StandardScaler().fit_transform(X)"
   ],
   "metadata": {
    "id": "gulFxWWbQyd1"
   },
   "execution_count": 63,
   "outputs": []
  },
  {
   "cell_type": "code",
   "source": [
    "# Cross-validate a random forest classifier\n",
    "from sklearn.model_selection import cross_val_score\n",
    "from sklearn.ensemble import RandomForestClassifier\n",
    "import numpy as np\n",
    "\n",
    "print(np.mean(cross_val_score(RandomForestClassifier(max_depth=4, random_state=10), X_scaled, y, cv=5)))"
   ],
   "metadata": {
    "colab": {
     "base_uri": "https://localhost:8080/"
    },
    "id": "nXzfxugNnETJ",
    "outputId": "499594b1-68d0-4f63-9401-0ff512eaeb39"
   },
   "execution_count": 64,
   "outputs": [
    {
     "name": "stdout",
     "output_type": "stream",
     "text": [
      "0.53\n"
     ]
    }
   ]
  },
  {
   "cell_type": "code",
   "source": [
    "# Reduce dimensionality\n",
    "from sklearn.decomposition import PCA\n",
    "\n",
    "pca = PCA()\n",
    "pca.fit(X_scaled)\n",
    "print(pca.explained_variance_ratio_.cumsum())"
   ],
   "metadata": {
    "id": "fFsaln2UnEWs"
   },
   "execution_count": 65,
   "outputs": [
    {
     "name": "stdout",
     "output_type": "stream",
     "text": [
      "[0.22835857 0.40977661 0.5457806  0.62881169 0.68974109 0.71952338\n",
      " 0.7487644  0.77102386 0.79117244 0.81021697 0.82731917 0.8415295\n",
      " 0.85467005 0.86620064 0.87667168 0.88695468 0.89667946 0.90510932\n",
      " 0.91266292 0.91993872 0.92557235 0.93056193 0.93541631 0.93968215\n",
      " 0.94384522 0.94767596 0.95114665 0.9543019  0.95733993 0.96014738\n",
      " 0.96280187 0.96531222 0.96763773 0.9697956  0.97174497 0.97362125\n",
      " 0.97531968 0.97695009 0.9783795  0.97978388 0.98112954 0.98239436\n",
      " 0.98358406 0.98472947 0.98574155 0.98669875 0.9876021  0.98844765\n",
      " 0.98927199 0.99001883 0.9907463  0.99141086 0.99207148 0.99267825\n",
      " 0.9932162  0.99370587 0.99417406 0.99463722 0.99509402 0.99550804\n",
      " 0.99586707 0.99621507 0.99653902 0.99683135 0.99709952 0.99734696\n",
      " 0.99758359 0.99780159 0.99800472 0.99819773 0.99837129 0.99853055\n",
      " 0.99867511 0.99881564 0.99894124 0.99905426 0.99916193 0.99925687\n",
      " 0.99934544 0.99942641 0.99950532 0.99957222 0.99963735 0.99969628\n",
      " 0.99974734 0.99979406 0.99983534 0.99987181 0.99990567 0.99993364\n",
      " 0.99995139 0.99996431 0.99997586 0.99998301 0.99998969 0.99999382\n",
      " 0.99999629 0.99999826 1.         1.        ]\n"
     ]
    }
   ]
  },
  {
   "cell_type": "code",
   "source": [
    "pca = PCA(n_components=15, random_state=10)\n",
    "X_pca = pca.fit_transform(X_scaled)"
   ],
   "metadata": {
    "id": "Su7dUEQerhOI"
   },
   "execution_count": 66,
   "outputs": []
  },
  {
   "cell_type": "code",
   "source": [
    "print(len(X_pca))\n",
    "print(len(X_pca[0]))"
   ],
   "metadata": {
    "colab": {
     "base_uri": "https://localhost:8080/"
    },
    "id": "ImZZBFPnsD3w",
    "outputId": "d89e85fb-6457-45cf-ed36-a3e589dc41ad"
   },
   "execution_count": 67,
   "outputs": [
    {
     "name": "stdout",
     "output_type": "stream",
     "text": [
      "100\n",
      "15\n"
     ]
    }
   ]
  },
  {
   "cell_type": "code",
   "source": [
    "# Cross-validate on the reduced features\n",
    "from sklearn.model_selection import cross_val_score\n",
    "from sklearn.ensemble import RandomForestClassifier\n",
    "import numpy as np\n",
    "\n",
    "print(np.mean(cross_val_score(RandomForestClassifier(max_depth=4, random_state=10), X_pca, y, cv=5)))"
   ],
   "metadata": {
    "colab": {
     "base_uri": "https://localhost:8080/"
    },
    "id": "5LHnFsT9sNL7",
    "outputId": "fc0b5317-bbb7-4909-8506-8805d6cdf90d"
   },
   "execution_count": 68,
   "outputs": [
    {
     "name": "stdout",
     "output_type": "stream",
     "text": [
      "0.56\n"
     ]
    }
   ]
  },
  {
   "cell_type": "markdown",
   "source": [
    "# Challenge: predict the images in `test/`"
   ],
   "metadata": {
    "collapsed": false
   }
  }
 ]
}
