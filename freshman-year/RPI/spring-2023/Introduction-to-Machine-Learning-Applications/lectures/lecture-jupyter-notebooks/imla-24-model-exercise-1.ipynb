{
 "cells": [
  {
   "cell_type": "markdown",
   "metadata": {
    "id": "xRlGzpOI8eO0"
   },
   "source": [
    "\n",
    "[![AnalyticsDojo](https://github.com/rpi-techfundamentals/spring2019-materials/blob/master/fig/final-logo.png?raw=1)](http://rpi.analyticsdojo.com)\n",
    "<center><h1>Titanic Classification</h1></center>\n",
    "<center><h3><a href = 'http://introml.analyticsdojo.com'>introml.analyticsdojo.com</a></h3></center>\n",
    "\n"
   ]
  },
  {
   "cell_type": "markdown",
   "metadata": {},
   "source": [
    "# Titanic Classification"
   ]
  },
  {
   "cell_type": "markdown",
   "metadata": {
    "id": "7pW1UhJT8ePk"
   },
   "source": [
    "As an example of how to work with both categorical and numerical data, we will perform survival predicition for the passengers of the HMS Titanic.\n"
   ]
  },
  {
   "cell_type": "code",
   "execution_count": 20,
   "metadata": {
    "colab": {
     "base_uri": "https://localhost:8080/"
    },
    "id": "bvj3Wids8ePm",
    "outputId": "4ca83181-968f-4ba5-e8cf-6129f88f554b"
   },
   "outputs": [
    {
     "name": "stdout",
     "output_type": "stream",
     "text": [
      "Train columns: Index(['PassengerId', 'Survived', 'Pclass', 'Name', 'Sex', 'Age', 'SibSp',\n",
      "       'Parch', 'Ticket', 'Fare', 'Cabin', 'Embarked'],\n",
      "      dtype='object')\n",
      "Train row count: 891 (68%)\n",
      "\n",
      "Test columns, no 'Survived' Index(['PassengerId', 'Pclass', 'Name', 'Sex', 'Age', 'SibSp', 'Parch',\n",
      "       'Ticket', 'Fare', 'Cabin', 'Embarked'],\n",
      "      dtype='object')\n",
      "Test row count: 418 (32%)\n"
     ]
    }
   ],
   "source": [
    "import os\n",
    "import pandas as pd\n",
    "# We are given an existing train/test split\n",
    "train = pd.read_csv('https://raw.githubusercontent.com/rpi-techfundamentals/spring2019-materials/master/input/train.csv')\n",
    "test = pd.read_csv('https://raw.githubusercontent.com/rpi-techfundamentals/spring2019-materials/master/input/test.csv')\n",
    "\n",
    "print(\"Train columns:\", train.columns)\n",
    "print(\"Train row count:\", len(train), f\"({round(len(train) / (len(train) + len(test)) * 100.0)}%)\")\n",
    "print()\n",
    "print(\"Test columns, no 'Survived'\", test.columns)\n",
    "print(\"Test row count:\", len(test), f\"({round(len(test) / (len(train) + len(test)) * 100.0)}%)\")"
   ]
  },
  {
   "cell_type": "markdown",
   "metadata": {
    "id": "0xqjk2-P8ePp"
   },
   "source": [
    "Here is a broad description of the keys and what they mean:\n",
    "\n",
    "```\n",
    "pclass          Passenger Class\n",
    "                (1 = 1st; 2 = 2nd; 3 = 3rd)\n",
    "survival        Survival\n",
    "                (0 = No; 1 = Yes)\n",
    "name            Name\n",
    "sex             Sex\n",
    "age             Age\n",
    "sibsp           Number of Siblings/Spouses Aboard\n",
    "parch           Number of Parents/Children Aboard\n",
    "ticket          Ticket Number\n",
    "fare            Passenger Fare\n",
    "cabin           Cabin\n",
    "embarked        Port of Embarkation\n",
    "                (C = Cherbourg; Q = Queenstown; S = Southampton)\n",
    "boat            Lifeboat\n",
    "body            Body Identification Number\n",
    "home.dest       Home/Destination\n",
    "```\n",
    "\n",
    "In general, it looks like `name`, `sex`, `cabin`, `embarked`, `boat`, `body`, and `homedest` may be candidates for categorical features, while the rest appear to be numerical features. We can also look at the first couple of rows in the dataset to get a better understanding:"
   ]
  },
  {
   "cell_type": "code",
   "execution_count": 21,
   "metadata": {
    "colab": {
     "base_uri": "https://localhost:8080/",
     "height": 280
    },
    "id": "bqmMR9G78ePr",
    "outputId": "b1ca97e9-9196-4790-9d1c-fc98d74d30d1"
   },
   "outputs": [
    {
     "data": {
      "text/plain": "   PassengerId  Survived  Pclass  \\\n0            1         0       3   \n1            2         1       1   \n2            3         1       3   \n3            4         1       1   \n4            5         0       3   \n\n                                                Name     Sex   Age  SibSp  \\\n0                            Braund, Mr. Owen Harris    male  22.0      1   \n1  Cumings, Mrs. John Bradley (Florence Briggs Th...  female  38.0      1   \n2                             Heikkinen, Miss. Laina  female  26.0      0   \n3       Futrelle, Mrs. Jacques Heath (Lily May Peel)  female  35.0      1   \n4                           Allen, Mr. William Henry    male  35.0      0   \n\n   Parch            Ticket     Fare Cabin Embarked  \n0      0         A/5 21171   7.2500   NaN        S  \n1      0          PC 17599  71.2833   C85        C  \n2      0  STON/O2. 3101282   7.9250   NaN        S  \n3      0            113803  53.1000  C123        S  \n4      0            373450   8.0500   NaN        S  ",
      "text/html": "<div>\n<style scoped>\n    .dataframe tbody tr th:only-of-type {\n        vertical-align: middle;\n    }\n\n    .dataframe tbody tr th {\n        vertical-align: top;\n    }\n\n    .dataframe thead th {\n        text-align: right;\n    }\n</style>\n<table border=\"1\" class=\"dataframe\">\n  <thead>\n    <tr style=\"text-align: right;\">\n      <th></th>\n      <th>PassengerId</th>\n      <th>Survived</th>\n      <th>Pclass</th>\n      <th>Name</th>\n      <th>Sex</th>\n      <th>Age</th>\n      <th>SibSp</th>\n      <th>Parch</th>\n      <th>Ticket</th>\n      <th>Fare</th>\n      <th>Cabin</th>\n      <th>Embarked</th>\n    </tr>\n  </thead>\n  <tbody>\n    <tr>\n      <th>0</th>\n      <td>1</td>\n      <td>0</td>\n      <td>3</td>\n      <td>Braund, Mr. Owen Harris</td>\n      <td>male</td>\n      <td>22.0</td>\n      <td>1</td>\n      <td>0</td>\n      <td>A/5 21171</td>\n      <td>7.2500</td>\n      <td>NaN</td>\n      <td>S</td>\n    </tr>\n    <tr>\n      <th>1</th>\n      <td>2</td>\n      <td>1</td>\n      <td>1</td>\n      <td>Cumings, Mrs. John Bradley (Florence Briggs Th...</td>\n      <td>female</td>\n      <td>38.0</td>\n      <td>1</td>\n      <td>0</td>\n      <td>PC 17599</td>\n      <td>71.2833</td>\n      <td>C85</td>\n      <td>C</td>\n    </tr>\n    <tr>\n      <th>2</th>\n      <td>3</td>\n      <td>1</td>\n      <td>3</td>\n      <td>Heikkinen, Miss. Laina</td>\n      <td>female</td>\n      <td>26.0</td>\n      <td>0</td>\n      <td>0</td>\n      <td>STON/O2. 3101282</td>\n      <td>7.9250</td>\n      <td>NaN</td>\n      <td>S</td>\n    </tr>\n    <tr>\n      <th>3</th>\n      <td>4</td>\n      <td>1</td>\n      <td>1</td>\n      <td>Futrelle, Mrs. Jacques Heath (Lily May Peel)</td>\n      <td>female</td>\n      <td>35.0</td>\n      <td>1</td>\n      <td>0</td>\n      <td>113803</td>\n      <td>53.1000</td>\n      <td>C123</td>\n      <td>S</td>\n    </tr>\n    <tr>\n      <th>4</th>\n      <td>5</td>\n      <td>0</td>\n      <td>3</td>\n      <td>Allen, Mr. William Henry</td>\n      <td>male</td>\n      <td>35.0</td>\n      <td>0</td>\n      <td>0</td>\n      <td>373450</td>\n      <td>8.0500</td>\n      <td>NaN</td>\n      <td>S</td>\n    </tr>\n  </tbody>\n</table>\n</div>"
     },
     "execution_count": 21,
     "metadata": {},
     "output_type": "execute_result"
    }
   ],
   "source": [
    "train.head()"
   ]
  },
  {
   "cell_type": "markdown",
   "metadata": {
    "id": "54WY6zD78ePv"
   },
   "source": [
    "### Preprocessing function\n",
    "\n",
    "We want to create a preprocessing function that can address transformation of our train and test set.  "
   ]
  },
  {
   "cell_type": "code",
   "execution_count": 22,
   "metadata": {
    "colab": {
     "base_uri": "https://localhost:8080/"
    },
    "id": "6hL63MtX8ePz",
    "outputId": "ed524183-5dca-4643-91aa-69329f86e1ad"
   },
   "outputs": [
    {
     "name": "stdout",
     "output_type": "stream",
     "text": [
      "Total missing values before processing: 179\n",
      "Total missing values after processing: 0\n",
      "Total missing values before processing: 87\n",
      "Total missing values after processing: 0\n"
     ]
    },
    {
     "name": "stderr",
     "output_type": "stream",
     "text": [
      "/Users/minor/opt/anaconda3/lib/python3.9/site-packages/pandas/core/algorithms.py:798: FutureWarning: In a future version, the Index constructor will not infer numeric dtypes when passed object-dtype sequences (matching Series behavior)\n",
      "  uniques = Index(uniques)\n",
      "/Users/minor/opt/anaconda3/lib/python3.9/site-packages/pandas/core/algorithms.py:798: FutureWarning: In a future version, the Index constructor will not infer numeric dtypes when passed object-dtype sequences (matching Series behavior)\n",
      "  uniques = Index(uniques)\n"
     ]
    }
   ],
   "source": [
    "from sklearn.impute import SimpleImputer\n",
    "from sklearn.preprocessing import StandardScaler\n",
    "import numpy as np\n",
    "\n",
    "cat_features = ['Pclass', 'Sex', 'Embarked']\n",
    "num_features =  [ 'Age', 'SibSp', 'Parch', 'Fare'  ]\n",
    "def preprocess(df, num_features, cat_features, dv):\n",
    "    features = cat_features + num_features\n",
    "    if dv in df.columns:\n",
    "      y = df[dv]\n",
    "    else:\n",
    "      y = None\n",
    "    #Address missing variables\n",
    "    print(\"Total missing values before processing:\", df[features].isna().sum().sum() )\n",
    "  \n",
    "    imp_mode = SimpleImputer(missing_values=np.nan, strategy='most_frequent')\n",
    "    df[cat_features]=imp_mode.fit_transform(df[cat_features] )\n",
    "    imp_mean = SimpleImputer(missing_values=np.nan, strategy='mean')\n",
    "    df[num_features]=imp_mean.fit_transform(df[num_features])\n",
    "    # Does standard-scaling the numeric features improve accuracy?\n",
    "    # df[num_features] = StandardScaler().fit_transform(df[num_features])\n",
    "    print(\"Total missing values after processing:\", df[features].isna().sum().sum() )\n",
    "   \n",
    "    X = pd.get_dummies(df[features], columns=cat_features, drop_first=True)\n",
    "    return y,X\n",
    "\n",
    "train_y, train_X =  preprocess(train, num_features, cat_features, 'Survived')\n",
    "test_y, test_X = preprocess(test, num_features, cat_features, 'Survived')  # test_y will be None, since there's no \"Survived\" column in the test set"
   ]
  },
  {
   "cell_type": "code",
   "execution_count": 23,
   "metadata": {
    "colab": {
     "base_uri": "https://localhost:8080/",
     "height": 447
    },
    "id": "ssoaorx6qyse",
    "outputId": "01f8dd08-4071-44b2-c707-6f2edf087cdc"
   },
   "outputs": [
    {
     "data": {
      "text/plain": "          Age     SibSp     Parch      Fare  Pclass_2  Pclass_3  Sex_male  \\\n0   -0.592481  0.432793 -0.473674 -0.502445         0         1         1   \n1    0.638789  0.432793 -0.473674  0.786845         0         0         0   \n2   -0.284663 -0.474545 -0.473674 -0.488854         0         1         0   \n3    0.407926  0.432793 -0.473674  0.420730         0         0         0   \n4    0.407926 -0.474545 -0.473674 -0.486337         0         1         1   \n..        ...       ...       ...       ...       ...       ...       ...   \n886 -0.207709 -0.474545 -0.473674 -0.386671         1         0         1   \n887 -0.823344 -0.474545 -0.473674 -0.044381         0         0         0   \n888  0.000000  0.432793  2.008933 -0.176263         0         1         0   \n889 -0.284663 -0.474545 -0.473674 -0.044381         0         0         1   \n890  0.177063 -0.474545 -0.473674 -0.492378         0         1         1   \n\n     Embarked_Q  Embarked_S  \n0             0           1  \n1             0           0  \n2             0           1  \n3             0           1  \n4             0           1  \n..          ...         ...  \n886           0           1  \n887           0           1  \n888           0           1  \n889           0           0  \n890           1           0  \n\n[891 rows x 9 columns]",
      "text/html": "<div>\n<style scoped>\n    .dataframe tbody tr th:only-of-type {\n        vertical-align: middle;\n    }\n\n    .dataframe tbody tr th {\n        vertical-align: top;\n    }\n\n    .dataframe thead th {\n        text-align: right;\n    }\n</style>\n<table border=\"1\" class=\"dataframe\">\n  <thead>\n    <tr style=\"text-align: right;\">\n      <th></th>\n      <th>Age</th>\n      <th>SibSp</th>\n      <th>Parch</th>\n      <th>Fare</th>\n      <th>Pclass_2</th>\n      <th>Pclass_3</th>\n      <th>Sex_male</th>\n      <th>Embarked_Q</th>\n      <th>Embarked_S</th>\n    </tr>\n  </thead>\n  <tbody>\n    <tr>\n      <th>0</th>\n      <td>-0.592481</td>\n      <td>0.432793</td>\n      <td>-0.473674</td>\n      <td>-0.502445</td>\n      <td>0</td>\n      <td>1</td>\n      <td>1</td>\n      <td>0</td>\n      <td>1</td>\n    </tr>\n    <tr>\n      <th>1</th>\n      <td>0.638789</td>\n      <td>0.432793</td>\n      <td>-0.473674</td>\n      <td>0.786845</td>\n      <td>0</td>\n      <td>0</td>\n      <td>0</td>\n      <td>0</td>\n      <td>0</td>\n    </tr>\n    <tr>\n      <th>2</th>\n      <td>-0.284663</td>\n      <td>-0.474545</td>\n      <td>-0.473674</td>\n      <td>-0.488854</td>\n      <td>0</td>\n      <td>1</td>\n      <td>0</td>\n      <td>0</td>\n      <td>1</td>\n    </tr>\n    <tr>\n      <th>3</th>\n      <td>0.407926</td>\n      <td>0.432793</td>\n      <td>-0.473674</td>\n      <td>0.420730</td>\n      <td>0</td>\n      <td>0</td>\n      <td>0</td>\n      <td>0</td>\n      <td>1</td>\n    </tr>\n    <tr>\n      <th>4</th>\n      <td>0.407926</td>\n      <td>-0.474545</td>\n      <td>-0.473674</td>\n      <td>-0.486337</td>\n      <td>0</td>\n      <td>1</td>\n      <td>1</td>\n      <td>0</td>\n      <td>1</td>\n    </tr>\n    <tr>\n      <th>...</th>\n      <td>...</td>\n      <td>...</td>\n      <td>...</td>\n      <td>...</td>\n      <td>...</td>\n      <td>...</td>\n      <td>...</td>\n      <td>...</td>\n      <td>...</td>\n    </tr>\n    <tr>\n      <th>886</th>\n      <td>-0.207709</td>\n      <td>-0.474545</td>\n      <td>-0.473674</td>\n      <td>-0.386671</td>\n      <td>1</td>\n      <td>0</td>\n      <td>1</td>\n      <td>0</td>\n      <td>1</td>\n    </tr>\n    <tr>\n      <th>887</th>\n      <td>-0.823344</td>\n      <td>-0.474545</td>\n      <td>-0.473674</td>\n      <td>-0.044381</td>\n      <td>0</td>\n      <td>0</td>\n      <td>0</td>\n      <td>0</td>\n      <td>1</td>\n    </tr>\n    <tr>\n      <th>888</th>\n      <td>0.000000</td>\n      <td>0.432793</td>\n      <td>2.008933</td>\n      <td>-0.176263</td>\n      <td>0</td>\n      <td>1</td>\n      <td>0</td>\n      <td>0</td>\n      <td>1</td>\n    </tr>\n    <tr>\n      <th>889</th>\n      <td>-0.284663</td>\n      <td>-0.474545</td>\n      <td>-0.473674</td>\n      <td>-0.044381</td>\n      <td>0</td>\n      <td>0</td>\n      <td>1</td>\n      <td>0</td>\n      <td>0</td>\n    </tr>\n    <tr>\n      <th>890</th>\n      <td>0.177063</td>\n      <td>-0.474545</td>\n      <td>-0.473674</td>\n      <td>-0.492378</td>\n      <td>0</td>\n      <td>1</td>\n      <td>1</td>\n      <td>1</td>\n      <td>0</td>\n    </tr>\n  </tbody>\n</table>\n<p>891 rows × 9 columns</p>\n</div>"
     },
     "execution_count": 23,
     "metadata": {},
     "output_type": "execute_result"
    }
   ],
   "source": [
    "train_X"
   ]
  },
  {
   "cell_type": "code",
   "execution_count": 24,
   "outputs": [
    {
     "data": {
      "text/plain": "0      0\n1      1\n2      1\n3      1\n4      0\n      ..\n886    0\n887    1\n888    0\n889    1\n890    0\nName: Survived, Length: 891, dtype: int64"
     },
     "execution_count": 24,
     "metadata": {},
     "output_type": "execute_result"
    }
   ],
   "source": [
    "train_y"
   ],
   "metadata": {
    "collapsed": false
   }
  },
  {
   "cell_type": "code",
   "execution_count": 25,
   "outputs": [
    {
     "data": {
      "text/plain": "          Age     SibSp     Parch      Fare  Pclass_2  Pclass_3  Sex_male  \\\n0    0.334993 -0.499470 -0.400248 -0.498407         0         1         1   \n1    1.325530  0.616992 -0.400248 -0.513274         0         1         0   \n2    2.514175 -0.499470 -0.400248 -0.465088         1         0         1   \n3   -0.259330 -0.499470 -0.400248 -0.483466         0         1         1   \n4   -0.655545  0.616992  0.619896 -0.418471         0         1         0   \n..        ...       ...       ...       ...       ...       ...       ...   \n413  0.000000 -0.499470 -0.400248 -0.494448         0         1         1   \n414  0.691586 -0.499470 -0.400248  1.313753         0         0         0   \n415  0.651965 -0.499470 -0.400248 -0.508792         0         1         1   \n416  0.000000 -0.499470 -0.400248 -0.494448         0         1         1   \n417  0.000000  0.616992  0.619896 -0.237906         0         1         1   \n\n     Embarked_Q  Embarked_S  \n0             1           0  \n1             0           1  \n2             1           0  \n3             0           1  \n4             0           1  \n..          ...         ...  \n413           0           1  \n414           0           0  \n415           0           1  \n416           0           1  \n417           0           0  \n\n[418 rows x 9 columns]",
      "text/html": "<div>\n<style scoped>\n    .dataframe tbody tr th:only-of-type {\n        vertical-align: middle;\n    }\n\n    .dataframe tbody tr th {\n        vertical-align: top;\n    }\n\n    .dataframe thead th {\n        text-align: right;\n    }\n</style>\n<table border=\"1\" class=\"dataframe\">\n  <thead>\n    <tr style=\"text-align: right;\">\n      <th></th>\n      <th>Age</th>\n      <th>SibSp</th>\n      <th>Parch</th>\n      <th>Fare</th>\n      <th>Pclass_2</th>\n      <th>Pclass_3</th>\n      <th>Sex_male</th>\n      <th>Embarked_Q</th>\n      <th>Embarked_S</th>\n    </tr>\n  </thead>\n  <tbody>\n    <tr>\n      <th>0</th>\n      <td>0.334993</td>\n      <td>-0.499470</td>\n      <td>-0.400248</td>\n      <td>-0.498407</td>\n      <td>0</td>\n      <td>1</td>\n      <td>1</td>\n      <td>1</td>\n      <td>0</td>\n    </tr>\n    <tr>\n      <th>1</th>\n      <td>1.325530</td>\n      <td>0.616992</td>\n      <td>-0.400248</td>\n      <td>-0.513274</td>\n      <td>0</td>\n      <td>1</td>\n      <td>0</td>\n      <td>0</td>\n      <td>1</td>\n    </tr>\n    <tr>\n      <th>2</th>\n      <td>2.514175</td>\n      <td>-0.499470</td>\n      <td>-0.400248</td>\n      <td>-0.465088</td>\n      <td>1</td>\n      <td>0</td>\n      <td>1</td>\n      <td>1</td>\n      <td>0</td>\n    </tr>\n    <tr>\n      <th>3</th>\n      <td>-0.259330</td>\n      <td>-0.499470</td>\n      <td>-0.400248</td>\n      <td>-0.483466</td>\n      <td>0</td>\n      <td>1</td>\n      <td>1</td>\n      <td>0</td>\n      <td>1</td>\n    </tr>\n    <tr>\n      <th>4</th>\n      <td>-0.655545</td>\n      <td>0.616992</td>\n      <td>0.619896</td>\n      <td>-0.418471</td>\n      <td>0</td>\n      <td>1</td>\n      <td>0</td>\n      <td>0</td>\n      <td>1</td>\n    </tr>\n    <tr>\n      <th>...</th>\n      <td>...</td>\n      <td>...</td>\n      <td>...</td>\n      <td>...</td>\n      <td>...</td>\n      <td>...</td>\n      <td>...</td>\n      <td>...</td>\n      <td>...</td>\n    </tr>\n    <tr>\n      <th>413</th>\n      <td>0.000000</td>\n      <td>-0.499470</td>\n      <td>-0.400248</td>\n      <td>-0.494448</td>\n      <td>0</td>\n      <td>1</td>\n      <td>1</td>\n      <td>0</td>\n      <td>1</td>\n    </tr>\n    <tr>\n      <th>414</th>\n      <td>0.691586</td>\n      <td>-0.499470</td>\n      <td>-0.400248</td>\n      <td>1.313753</td>\n      <td>0</td>\n      <td>0</td>\n      <td>0</td>\n      <td>0</td>\n      <td>0</td>\n    </tr>\n    <tr>\n      <th>415</th>\n      <td>0.651965</td>\n      <td>-0.499470</td>\n      <td>-0.400248</td>\n      <td>-0.508792</td>\n      <td>0</td>\n      <td>1</td>\n      <td>1</td>\n      <td>0</td>\n      <td>1</td>\n    </tr>\n    <tr>\n      <th>416</th>\n      <td>0.000000</td>\n      <td>-0.499470</td>\n      <td>-0.400248</td>\n      <td>-0.494448</td>\n      <td>0</td>\n      <td>1</td>\n      <td>1</td>\n      <td>0</td>\n      <td>1</td>\n    </tr>\n    <tr>\n      <th>417</th>\n      <td>0.000000</td>\n      <td>0.616992</td>\n      <td>0.619896</td>\n      <td>-0.237906</td>\n      <td>0</td>\n      <td>1</td>\n      <td>1</td>\n      <td>0</td>\n      <td>0</td>\n    </tr>\n  </tbody>\n</table>\n<p>418 rows × 9 columns</p>\n</div>"
     },
     "execution_count": 25,
     "metadata": {},
     "output_type": "execute_result"
    }
   ],
   "source": [
    "test_X"
   ],
   "metadata": {
    "collapsed": false
   }
  },
  {
   "cell_type": "code",
   "execution_count": 26,
   "outputs": [],
   "source": [
    "# test_y is None, since we don't have labels for the test set\n",
    "assert test_y is None"
   ],
   "metadata": {
    "collapsed": false
   }
  },
  {
   "cell_type": "code",
   "execution_count": 27,
   "metadata": {
    "id": "icKFkwZQpvCs"
   },
   "outputs": [
    {
     "data": {
      "text/plain": "          Age     SibSp     Parch      Fare  Pclass_2  Pclass_3  Sex_male  \\\n123  0.215540 -0.474545 -0.473674 -0.386671         1         0         0   \n565 -0.438572  1.340132 -0.473674 -0.162169         0         1         1   \n776  0.000000 -0.474545 -0.473674 -0.492378         0         1         1   \n571  1.793104  1.340132 -0.473674  0.388096         0         0         0   \n454  0.000000 -0.474545 -0.473674 -0.486337         0         1         1   \n..        ...       ...       ...       ...       ...       ...       ...   \n665  0.177063  1.340132 -0.473674  0.831478         1         0         1   \n612  0.000000  0.432793 -0.473674 -0.336334         0         1         0   \n595  0.484880  0.432793  0.767630 -0.162169         0         1         1   \n468  0.000000 -0.474545 -0.473674 -0.492881         0         1         1   \n5    0.000000 -0.474545 -0.473674 -0.478116         0         1         1   \n\n     Embarked_Q  Embarked_S  \n123           0           1  \n565           0           1  \n776           1           0  \n571           0           1  \n454           0           1  \n..          ...         ...  \n665           0           1  \n612           1           0  \n595           0           1  \n468           1           0  \n5             1           0  \n\n[623 rows x 9 columns]",
      "text/html": "<div>\n<style scoped>\n    .dataframe tbody tr th:only-of-type {\n        vertical-align: middle;\n    }\n\n    .dataframe tbody tr th {\n        vertical-align: top;\n    }\n\n    .dataframe thead th {\n        text-align: right;\n    }\n</style>\n<table border=\"1\" class=\"dataframe\">\n  <thead>\n    <tr style=\"text-align: right;\">\n      <th></th>\n      <th>Age</th>\n      <th>SibSp</th>\n      <th>Parch</th>\n      <th>Fare</th>\n      <th>Pclass_2</th>\n      <th>Pclass_3</th>\n      <th>Sex_male</th>\n      <th>Embarked_Q</th>\n      <th>Embarked_S</th>\n    </tr>\n  </thead>\n  <tbody>\n    <tr>\n      <th>123</th>\n      <td>0.215540</td>\n      <td>-0.474545</td>\n      <td>-0.473674</td>\n      <td>-0.386671</td>\n      <td>1</td>\n      <td>0</td>\n      <td>0</td>\n      <td>0</td>\n      <td>1</td>\n    </tr>\n    <tr>\n      <th>565</th>\n      <td>-0.438572</td>\n      <td>1.340132</td>\n      <td>-0.473674</td>\n      <td>-0.162169</td>\n      <td>0</td>\n      <td>1</td>\n      <td>1</td>\n      <td>0</td>\n      <td>1</td>\n    </tr>\n    <tr>\n      <th>776</th>\n      <td>0.000000</td>\n      <td>-0.474545</td>\n      <td>-0.473674</td>\n      <td>-0.492378</td>\n      <td>0</td>\n      <td>1</td>\n      <td>1</td>\n      <td>1</td>\n      <td>0</td>\n    </tr>\n    <tr>\n      <th>571</th>\n      <td>1.793104</td>\n      <td>1.340132</td>\n      <td>-0.473674</td>\n      <td>0.388096</td>\n      <td>0</td>\n      <td>0</td>\n      <td>0</td>\n      <td>0</td>\n      <td>1</td>\n    </tr>\n    <tr>\n      <th>454</th>\n      <td>0.000000</td>\n      <td>-0.474545</td>\n      <td>-0.473674</td>\n      <td>-0.486337</td>\n      <td>0</td>\n      <td>1</td>\n      <td>1</td>\n      <td>0</td>\n      <td>1</td>\n    </tr>\n    <tr>\n      <th>...</th>\n      <td>...</td>\n      <td>...</td>\n      <td>...</td>\n      <td>...</td>\n      <td>...</td>\n      <td>...</td>\n      <td>...</td>\n      <td>...</td>\n      <td>...</td>\n    </tr>\n    <tr>\n      <th>665</th>\n      <td>0.177063</td>\n      <td>1.340132</td>\n      <td>-0.473674</td>\n      <td>0.831478</td>\n      <td>1</td>\n      <td>0</td>\n      <td>1</td>\n      <td>0</td>\n      <td>1</td>\n    </tr>\n    <tr>\n      <th>612</th>\n      <td>0.000000</td>\n      <td>0.432793</td>\n      <td>-0.473674</td>\n      <td>-0.336334</td>\n      <td>0</td>\n      <td>1</td>\n      <td>0</td>\n      <td>1</td>\n      <td>0</td>\n    </tr>\n    <tr>\n      <th>595</th>\n      <td>0.484880</td>\n      <td>0.432793</td>\n      <td>0.767630</td>\n      <td>-0.162169</td>\n      <td>0</td>\n      <td>1</td>\n      <td>1</td>\n      <td>0</td>\n      <td>1</td>\n    </tr>\n    <tr>\n      <th>468</th>\n      <td>0.000000</td>\n      <td>-0.474545</td>\n      <td>-0.473674</td>\n      <td>-0.492881</td>\n      <td>0</td>\n      <td>1</td>\n      <td>1</td>\n      <td>1</td>\n      <td>0</td>\n    </tr>\n    <tr>\n      <th>5</th>\n      <td>0.000000</td>\n      <td>-0.474545</td>\n      <td>-0.473674</td>\n      <td>-0.478116</td>\n      <td>0</td>\n      <td>1</td>\n      <td>1</td>\n      <td>1</td>\n      <td>0</td>\n    </tr>\n  </tbody>\n</table>\n<p>623 rows × 9 columns</p>\n</div>"
     },
     "execution_count": 27,
     "metadata": {},
     "output_type": "execute_result"
    }
   ],
   "source": [
    "from sklearn.model_selection import train_test_split\n",
    "# Split the training data again into a smaller training set and a validation set\n",
    "smaller_train_X, val_X, smaller_train_y, val_y = train_test_split(train_X, train_y, train_size=0.7, test_size=0.3, random_state=122, stratify=train_y)\n",
    "smaller_train_X"
   ]
  },
  {
   "cell_type": "code",
   "execution_count": 28,
   "metadata": {
    "id": "jGoUxc7brPIg"
   },
   "outputs": [],
   "source": [
    "from sklearn.neighbors import KNeighborsClassifier\n",
    "from sklearn import metrics"
   ]
  },
  {
   "cell_type": "code",
   "execution_count": 29,
   "metadata": {
    "colab": {
     "base_uri": "https://localhost:8080/"
    },
    "id": "6kHwslmYrcRw",
    "outputId": "f2bcd29c-8da2-49a5-dcf5-fc5457dd7e0f"
   },
   "outputs": [
    {
     "name": "stdout",
     "output_type": "stream",
     "text": [
      "Metrics score train:  0.8105939004815409\n",
      "Metrics score validation:  0.8097014925373134\n"
     ]
    },
    {
     "name": "stderr",
     "output_type": "stream",
     "text": [
      "/Users/minor/opt/anaconda3/lib/python3.9/site-packages/sklearn/neighbors/_classification.py:228: FutureWarning: Unlike other reduction functions (e.g. `skew`, `kurtosis`), the default behavior of `mode` typically preserves the axis it acts along. In SciPy 1.11.0, this behavior will change: the default value of `keepdims` will become False, the `axis` over which the statistic is taken will be eliminated, and the value None will no longer be accepted. Set `keepdims` to True or False to avoid this warning.\n",
      "  mode, _ = stats.mode(_y[neigh_ind, k], axis=1)\n",
      "/Users/minor/opt/anaconda3/lib/python3.9/site-packages/sklearn/neighbors/_classification.py:228: FutureWarning: Unlike other reduction functions (e.g. `skew`, `kurtosis`), the default behavior of `mode` typically preserves the axis it acts along. In SciPy 1.11.0, this behavior will change: the default value of `keepdims` will become False, the `axis` over which the statistic is taken will be eliminated, and the value None will no longer be accepted. Set `keepdims` to True or False to avoid this warning.\n",
      "  mode, _ = stats.mode(_y[neigh_ind, k], axis=1)\n"
     ]
    }
   ],
   "source": [
    "# Does change n_neighbors improve accuracy?\n",
    "classifier = KNeighborsClassifier(n_neighbors=10)\n",
    "#This fits the model object to the data.\n",
    "classifier.fit(smaller_train_X, smaller_train_y)\n",
    "#This creates the prediction. \n",
    "smaller_train_y_pred = classifier.predict(smaller_train_X)\n",
    "val_y_pred = classifier.predict(val_X)\n",
    "print(\"Metrics score train: \", metrics.accuracy_score(smaller_train_y, smaller_train_y_pred))\n",
    "print(\"Metrics score validation: \", metrics.accuracy_score(val_y, val_y_pred))"
   ]
  },
  {
   "cell_type": "code",
   "execution_count": 30,
   "metadata": {
    "id": "Fqcyco3ivotP"
   },
   "outputs": [
    {
     "name": "stderr",
     "output_type": "stream",
     "text": [
      "/Users/minor/opt/anaconda3/lib/python3.9/site-packages/sklearn/neighbors/_classification.py:228: FutureWarning: Unlike other reduction functions (e.g. `skew`, `kurtosis`), the default behavior of `mode` typically preserves the axis it acts along. In SciPy 1.11.0, this behavior will change: the default value of `keepdims` will become False, the `axis` over which the statistic is taken will be eliminated, and the value None will no longer be accepted. Set `keepdims` to True or False to avoid this warning.\n",
      "  mode, _ = stats.mode(_y[neigh_ind, k], axis=1)\n"
     ]
    }
   ],
   "source": [
    "test_y_pred = classifier.predict(test_X)\n",
    "test[\"Survived\"] = test_y_pred"
   ]
  },
  {
   "cell_type": "markdown",
   "metadata": {
    "id": "5JrJQAqMwJY5"
   },
   "source": [
    "## Challenge\n",
    "Create a function that can accept any Scikit learn model and assess the perfomance in the validation set, storing results as a dataframe. "
   ]
  },
  {
   "cell_type": "code",
   "execution_count": 30,
   "metadata": {
    "id": "rXRikRZwvNMO"
   },
   "outputs": [],
   "source": []
  }
 ],
 "metadata": {
  "colab": {
   "collapsed_sections": [],
   "name": "Copy of 05_features_dummies.ipynb",
   "provenance": []
  },
  "kernelspec": {
   "display_name": "Python 3",
   "language": "python",
   "name": "python3"
  },
  "language_info": {
   "codemirror_mode": {
    "name": "ipython",
    "version": 3
   },
   "file_extension": ".py",
   "mimetype": "text/x-python",
   "name": "python",
   "nbconvert_exporter": "python",
   "pygments_lexer": "ipython3",
   "version": "3.7.10"
  }
 },
 "nbformat": 4,
 "nbformat_minor": 1
}
