{
 "cells": [
  {
   "cell_type": "code",
   "execution_count": null,
   "metadata": {
    "collapsed": true
   },
   "outputs": [],
   "source": [
    "# Pandas exercises 2"
   ]
  },
  {
   "cell_type": "code",
   "execution_count": 16,
   "outputs": [],
   "source": [
    "# Load a DataFrame from https://raw.githubusercontent.com/justmarkham/DAT8/master/data/chipotle.tsv\n",
    "\n",
    "import pandas as pd\n",
    "raw_df = pd.read_csv(\"https://raw.githubusercontent.com/justmarkham/DAT8/master/data/chipotle.tsv\", delimiter='\\t')"
   ],
   "metadata": {
    "collapsed": false
   }
  },
  {
   "cell_type": "code",
   "execution_count": 17,
   "outputs": [
    {
     "data": {
      "text/plain": "   order_id  quantity                              item_name  \\\n0         1         1           Chips and Fresh Tomato Salsa   \n1         1         1                                   Izze   \n2         1         1                       Nantucket Nectar   \n3         1         1  Chips and Tomatillo-Green Chili Salsa   \n4         2         2                           Chicken Bowl   \n\n                                  choice_description item_price  \n0                                                NaN     $2.39   \n1                                       [Clementine]     $3.39   \n2                                            [Apple]     $3.39   \n3                                                NaN     $2.39   \n4  [Tomatillo-Red Chili Salsa (Hot), [Black Beans...    $16.98   ",
      "text/html": "<div>\n<style scoped>\n    .dataframe tbody tr th:only-of-type {\n        vertical-align: middle;\n    }\n\n    .dataframe tbody tr th {\n        vertical-align: top;\n    }\n\n    .dataframe thead th {\n        text-align: right;\n    }\n</style>\n<table border=\"1\" class=\"dataframe\">\n  <thead>\n    <tr style=\"text-align: right;\">\n      <th></th>\n      <th>order_id</th>\n      <th>quantity</th>\n      <th>item_name</th>\n      <th>choice_description</th>\n      <th>item_price</th>\n    </tr>\n  </thead>\n  <tbody>\n    <tr>\n      <th>0</th>\n      <td>1</td>\n      <td>1</td>\n      <td>Chips and Fresh Tomato Salsa</td>\n      <td>NaN</td>\n      <td>$2.39</td>\n    </tr>\n    <tr>\n      <th>1</th>\n      <td>1</td>\n      <td>1</td>\n      <td>Izze</td>\n      <td>[Clementine]</td>\n      <td>$3.39</td>\n    </tr>\n    <tr>\n      <th>2</th>\n      <td>1</td>\n      <td>1</td>\n      <td>Nantucket Nectar</td>\n      <td>[Apple]</td>\n      <td>$3.39</td>\n    </tr>\n    <tr>\n      <th>3</th>\n      <td>1</td>\n      <td>1</td>\n      <td>Chips and Tomatillo-Green Chili Salsa</td>\n      <td>NaN</td>\n      <td>$2.39</td>\n    </tr>\n    <tr>\n      <th>4</th>\n      <td>2</td>\n      <td>2</td>\n      <td>Chicken Bowl</td>\n      <td>[Tomatillo-Red Chili Salsa (Hot), [Black Beans...</td>\n      <td>$16.98</td>\n    </tr>\n  </tbody>\n</table>\n</div>"
     },
     "execution_count": 17,
     "metadata": {},
     "output_type": "execute_result"
    }
   ],
   "source": [
    "# Show the first and last 5 rows of the Chipotle DataFrame\n",
    "\n",
    "raw_df.head(5)"
   ],
   "metadata": {
    "collapsed": false
   }
  },
  {
   "cell_type": "code",
   "execution_count": 18,
   "outputs": [
    {
     "data": {
      "text/plain": "      order_id  quantity           item_name  \\\n4617      1833         1       Steak Burrito   \n4618      1833         1       Steak Burrito   \n4619      1834         1  Chicken Salad Bowl   \n4620      1834         1  Chicken Salad Bowl   \n4621      1834         1  Chicken Salad Bowl   \n\n                                     choice_description item_price  \n4617  [Fresh Tomato Salsa, [Rice, Black Beans, Sour ...    $11.75   \n4618  [Fresh Tomato Salsa, [Rice, Sour Cream, Cheese...    $11.75   \n4619  [Fresh Tomato Salsa, [Fajita Vegetables, Pinto...    $11.25   \n4620  [Fresh Tomato Salsa, [Fajita Vegetables, Lettu...     $8.75   \n4621  [Fresh Tomato Salsa, [Fajita Vegetables, Pinto...     $8.75   ",
      "text/html": "<div>\n<style scoped>\n    .dataframe tbody tr th:only-of-type {\n        vertical-align: middle;\n    }\n\n    .dataframe tbody tr th {\n        vertical-align: top;\n    }\n\n    .dataframe thead th {\n        text-align: right;\n    }\n</style>\n<table border=\"1\" class=\"dataframe\">\n  <thead>\n    <tr style=\"text-align: right;\">\n      <th></th>\n      <th>order_id</th>\n      <th>quantity</th>\n      <th>item_name</th>\n      <th>choice_description</th>\n      <th>item_price</th>\n    </tr>\n  </thead>\n  <tbody>\n    <tr>\n      <th>4617</th>\n      <td>1833</td>\n      <td>1</td>\n      <td>Steak Burrito</td>\n      <td>[Fresh Tomato Salsa, [Rice, Black Beans, Sour ...</td>\n      <td>$11.75</td>\n    </tr>\n    <tr>\n      <th>4618</th>\n      <td>1833</td>\n      <td>1</td>\n      <td>Steak Burrito</td>\n      <td>[Fresh Tomato Salsa, [Rice, Sour Cream, Cheese...</td>\n      <td>$11.75</td>\n    </tr>\n    <tr>\n      <th>4619</th>\n      <td>1834</td>\n      <td>1</td>\n      <td>Chicken Salad Bowl</td>\n      <td>[Fresh Tomato Salsa, [Fajita Vegetables, Pinto...</td>\n      <td>$11.25</td>\n    </tr>\n    <tr>\n      <th>4620</th>\n      <td>1834</td>\n      <td>1</td>\n      <td>Chicken Salad Bowl</td>\n      <td>[Fresh Tomato Salsa, [Fajita Vegetables, Lettu...</td>\n      <td>$8.75</td>\n    </tr>\n    <tr>\n      <th>4621</th>\n      <td>1834</td>\n      <td>1</td>\n      <td>Chicken Salad Bowl</td>\n      <td>[Fresh Tomato Salsa, [Fajita Vegetables, Pinto...</td>\n      <td>$8.75</td>\n    </tr>\n  </tbody>\n</table>\n</div>"
     },
     "execution_count": 18,
     "metadata": {},
     "output_type": "execute_result"
    }
   ],
   "source": [
    "raw_df.tail(5)"
   ],
   "metadata": {
    "collapsed": false
   }
  },
  {
   "cell_type": "code",
   "execution_count": 19,
   "outputs": [
    {
     "name": "stdout",
     "output_type": "stream",
     "text": [
      "4622\n"
     ]
    }
   ],
   "source": [
    "# Print the number of rows in the Chipotle DataFrame\n",
    "\n",
    "print(len(raw_df))"
   ],
   "metadata": {
    "collapsed": false
   }
  },
  {
   "cell_type": "code",
   "execution_count": 20,
   "outputs": [
    {
     "data": {
      "text/plain": "1246"
     },
     "execution_count": 20,
     "metadata": {},
     "output_type": "execute_result"
    }
   ],
   "source": [
    "# Count the number of missing/NULL values in the Chipotle DataFrame choice_description column\n",
    "\n",
    "raw_df[\"choice_description\"].isnull().sum()"
   ],
   "metadata": {
    "collapsed": false
   }
  },
  {
   "cell_type": "code",
   "execution_count": 21,
   "outputs": [
    {
     "data": {
      "text/plain": "4972"
     },
     "execution_count": 21,
     "metadata": {},
     "output_type": "execute_result"
    }
   ],
   "source": [
    "# Count how many items were ordered in total.\n",
    "\n",
    "raw_df[\"quantity\"].sum()"
   ],
   "metadata": {
    "collapsed": false
   }
  },
  {
   "cell_type": "code",
   "execution_count": 26,
   "outputs": [
    {
     "data": {
      "text/plain": "0        2.39\n1        3.39\n2        3.39\n3        2.39\n4       16.98\n        ...  \n4617    11.75\n4618    11.75\n4619    11.25\n4620     8.75\n4621     8.75\nName: item_price, Length: 4622, dtype: float64"
     },
     "execution_count": 26,
     "metadata": {},
     "output_type": "execute_result"
    }
   ],
   "source": [
    "# Convert the Chipotle item_price to a float and assign the result to a new DataFrame\n",
    "\n",
    "typed_df = raw_df.copy()\n",
    "typed_df[\"item_price\"] = raw_df[\"item_price\"].apply(lambda cell: float(cell.lstrip('$')))\n",
    "typed_df[\"item_price\"]"
   ],
   "metadata": {
    "collapsed": false
   }
  },
  {
   "cell_type": "code",
   "execution_count": 29,
   "outputs": [
    {
     "data": {
      "text/plain": "39237.02"
     },
     "execution_count": 29,
     "metadata": {},
     "output_type": "execute_result"
    }
   ],
   "source": [
    "# Print the total revenue represented by the dataset.\n",
    "\n",
    "order_price_df = typed_df.copy()\n",
    "order_price_df[\"order_price\"] = typed_df[\"quantity\"] * typed_df[\"item_price\"]\n",
    "order_price_df[\"order_price\"].sum()\n",
    "# Or simply (typed_df[\"quantity\"] * typed_df[\"item_price\"]).sum()"
   ],
   "metadata": {
    "collapsed": false
   }
  }
 ],
 "metadata": {
  "kernelspec": {
   "display_name": "Python 3",
   "language": "python",
   "name": "python3"
  },
  "language_info": {
   "codemirror_mode": {
    "name": "ipython",
    "version": 2
   },
   "file_extension": ".py",
   "mimetype": "text/x-python",
   "name": "python",
   "nbconvert_exporter": "python",
   "pygments_lexer": "ipython2",
   "version": "2.7.6"
  }
 },
 "nbformat": 4,
 "nbformat_minor": 0
}
