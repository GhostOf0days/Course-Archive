{
 "cells": [
  {
   "cell_type": "markdown",
   "id": "1b8e4c05",
   "metadata": {
    "nbgrader": {
     "grade": false,
     "grade_id": "instructions",
     "locked": true,
     "schema_version": 3,
     "solution": false,
     "task": false
    }
   },
   "source": [
    "#### Homework-5\n",
    "##### Total number of points: 70\n",
    "#### Due date: March 3rd, 2023\n",
    "\n",
    "Before you submit this homework, make sure everything runs as expected. First, restart the kernel (in the menu, select Kernel → Restart) and then run all cells (in the menubar, select Cell → Run All). You can discuss with others regarding the homework but all work must be your own.\n",
    "\n",
    "Steps to evaluate your solutions:\n",
    "\n",
    "Step-1: Ensure you have installed Anaconda (Windows: https://docs.anaconda.com/anaconda/install/windows/ ; Mac:https://docs.anaconda.com/anaconda/install/mac-os/ ; Linux: https://docs.anaconda.com/anaconda/install/linux/)\n",
    "\n",
    "Step-2: Open the Jupyter Notebook by first launching the anaconda software console\n",
    "\n",
    "Step-3: Open the .ipynb file and write your solutions at the appropriate location \"# YOUR CODE HERE\"\n",
    "\n",
    "Step-4: You can restart the kernel and click run all (in the menubar, select Cell → Run All) on the center-right on the top of this window.\n",
    "\n",
    "Step-5: Now go to \"File\" then click on \"Download as\" then click on \"Notebook (.ipynb)\" Please DO NOT change the file name and just keep it as .ipynb file format\n",
    "\n",
    "Step-6: Go to lms.rpi.edu and upload your homework at the appropriate link to submit this homework.\n",
    "\n",
    "#### Please note that for any question in this assignment you will receive points ONLY if your solution passes all the test cases including hidden testcases as well. So please make sure you try to think all possible scenarios before submitting your answers.  \n",
    "- Note that hidden tests are present to ensure you are not hardcoding. \n",
    "- If caught cheating: \n",
    "    - you will receive a score of 0 for the 1st violation. \n",
    "    - for repeated incidents, you will receive an automatic 'F' grade and will be reported to the dean of Lally School of Management. "
   ]
  },
  {
   "cell_type": "markdown",
   "id": "58506fd2",
   "metadata": {
    "nbgrader": {
     "grade": false,
     "grade_id": "q1",
     "locked": true,
     "schema_version": 3,
     "solution": false,
     "task": false
    }
   },
   "source": [
    "#### Q1 [10 points]. Please make sure this is correct as the following questions are dependent on this. \n",
    "- Load the boston data from sklearn library (library is already provided here below). \n",
    "##### Part-1:\n",
    "- The given target labels (boston.target) are continuous -- convert them into discrete values -- 1 and 2 using this approach and save them in an array `y_true`.\n",
    "- all the values (v1) in boston.target should become 1 if v1>=5 and v1<23; \n",
    "- all the values (v2) in boston.target should become 2 if v2>=23 and v2<51;\n",
    "- Note that these new/transformed labels 1 and 2 are **integers**\n",
    "- Please save these new discrete values in the array `y_true`\n",
    "\n",
    "##### Part-2: \n",
    "- Create a list `y_pred` which is of the same length as `y_true` and insert all values as 1.\n",
    "- Now use `y_true` and `y_pred` to calculate: 1) accuracy and assign it to variable `tacc`; 2) precision and assign it to variable `tprec`; 3) recall and assign it to variable `trecall`.\n",
    "- Create another list `y_pred_prob` which is of the same length as `y_true` and insert all values as 0.75. "
   ]
  },
  {
   "cell_type": "code",
   "execution_count": 1,
   "id": "ba6285a9",
   "metadata": {
    "nbgrader": {
     "grade": false,
     "grade_id": "q1-sol",
     "locked": false,
     "schema_version": 3,
     "solution": true,
     "task": false
    }
   },
   "outputs": [
    {
     "name": "stderr",
     "output_type": "stream",
     "text": [
      "/Users/minor/opt/anaconda3/lib/python3.9/site-packages/sklearn/utils/deprecation.py:87: FutureWarning: Function load_boston is deprecated; `load_boston` is deprecated in 1.0 and will be removed in 1.2.\n",
      "\n",
      "    The Boston housing prices dataset has an ethical problem. You can refer to\n",
      "    the documentation of this function for further details.\n",
      "\n",
      "    The scikit-learn maintainers therefore strongly discourage the use of this\n",
      "    dataset unless the purpose of the code is to study and educate about\n",
      "    ethical issues in data science and machine learning.\n",
      "\n",
      "    In this special case, you can fetch the dataset from the original\n",
      "    source::\n",
      "\n",
      "        import pandas as pd\n",
      "        import numpy as np\n",
      "\n",
      "\n",
      "        data_url = \"http://lib.stat.cmu.edu/datasets/boston\"\n",
      "        raw_df = pd.read_csv(data_url, sep=\"\\s+\", skiprows=22, header=None)\n",
      "        data = np.hstack([raw_df.values[::2, :], raw_df.values[1::2, :2]])\n",
      "        target = raw_df.values[1::2, 2]\n",
      "\n",
      "    Alternative datasets include the California housing dataset (i.e.\n",
      "    :func:`~sklearn.datasets.fetch_california_housing`) and the Ames housing\n",
      "    dataset. You can load the datasets as follows::\n",
      "\n",
      "        from sklearn.datasets import fetch_california_housing\n",
      "        housing = fetch_california_housing()\n",
      "\n",
      "    for the California housing dataset and::\n",
      "\n",
      "        from sklearn.datasets import fetch_openml\n",
      "        housing = fetch_openml(name=\"house_prices\", as_frame=True)\n",
      "\n",
      "    for the Ames housing dataset.\n",
      "    \n",
      "  warnings.warn(msg, category=FutureWarning)\n"
     ]
    }
   ],
   "source": [
    "import pandas as pd\n",
    "import numpy as np\n",
    "from sklearn.datasets import load_boston\n",
    "\n",
    "#Load the dataset and save it as a dataframe\n",
    "boston = load_boston()\n",
    "df = pd.DataFrame(boston.data, columns=boston.feature_names)\n",
    "\n",
    "### BEGIN SOLUTION\n",
    "bins = np.array([5.0, 23.0, 51.0])\n",
    "y_true = np.digitize(boston.target, bins)\n",
    "#print(type(y_true))\n",
    "\n",
    "y_pred = [1 for i in range(len(y_true))]\n",
    "y_pred_prob = [0.75 for i in range(len(y_true))]\n",
    "\n",
    "from sklearn.metrics import accuracy_score\n",
    "from sklearn.metrics import precision_score\n",
    "from sklearn.metrics import recall_score\n",
    "from sklearn.metrics import roc_auc_score\n",
    "\n",
    "\n",
    "tacc=accuracy_score(y_true, y_pred)\n",
    "tprec=precision_score(y_true, y_pred)\n",
    "trecall=recall_score(y_true, y_pred)\n",
    "tauc= roc_auc_score(y_true, y_pred_prob)\n",
    "\n",
    "#print(round(tacc, 2))\n",
    "#print(round(tprec,2))\n",
    "#print(round(trecall,2))\n",
    "#print(round(tauc,2))\n",
    "### END SOLUTION\n"
   ]
  },
  {
   "cell_type": "code",
   "execution_count": 2,
   "id": "ac3f11f8",
   "metadata": {
    "nbgrader": {
     "grade": true,
     "grade_id": "1",
     "locked": true,
     "points": 5,
     "schema_version": 3,
     "solution": false,
     "task": false
    }
   },
   "outputs": [],
   "source": [
    "#[5 points] Test cell-1 \n",
    "#DO NOT MODIFY/DELETE THIS CELL \n",
    "assert set(y_true)=={1,2}\n",
    "assert (list(y_true)).count(1)==312\n",
    "assert (list(y_true)).count(0)==0\n",
    "assert (list(y_true)).count(2)==194"
   ]
  },
  {
   "cell_type": "code",
   "execution_count": 3,
   "id": "neither-discussion",
   "metadata": {
    "nbgrader": {
     "grade": true,
     "grade_id": "2",
     "locked": true,
     "points": 5,
     "schema_version": 3,
     "solution": false,
     "task": false
    }
   },
   "outputs": [],
   "source": [
    "#[5 points] Test cell-2\n",
    "#DO NOT MODIFY/DELETE THIS CELL \n",
    "assert round(tacc, 2)==0.62\n",
    "assert round(tprec, 2)==0.62\n",
    "assert round(trecall, 2)==1.0\n",
    "assert round(tauc, 2)==0.5"
   ]
  },
  {
   "cell_type": "markdown",
   "id": "5fea31d1",
   "metadata": {
    "nbgrader": {
     "grade": false,
     "grade_id": "q2",
     "locked": true,
     "schema_version": 3,
     "solution": false,
     "task": false
    }
   },
   "source": [
    "#### Q2 [5 points]. Now split the data into training (80%) and testing data (20%) by using these variable names \n",
    "- `X_train`: Training feature columns\n",
    "- `X_test`: Testing feature columns\n",
    "- `y_train`: Training labels\n",
    "- `y_test`: Testing labels\n",
    "- with only parameters df, y_true and 'test_size'. `df` and `y_true` are initialized in the previous question. "
   ]
  },
  {
   "cell_type": "code",
   "execution_count": 4,
   "id": "ec16ae9d",
   "metadata": {
    "nbgrader": {
     "grade": false,
     "grade_id": "q2-sol",
     "locked": false,
     "schema_version": 3,
     "solution": true,
     "task": false
    }
   },
   "outputs": [],
   "source": [
    "import pandas as pd\n",
    "\n",
    "X_train = pd.DataFrame()\n",
    "y_train = pd.DataFrame()\n",
    "X_test = pd.DataFrame()\n",
    "y_test = pd.DataFrame()\n",
    "\n",
    "### BEGIN SOLUTION\n",
    "from sklearn.model_selection import train_test_split #train_test_split function\n",
    "\n",
    "X_train, X_test, y_train, y_test = train_test_split(df, y_true, test_size=0.2)\n",
    "\n",
    "#print(len(X_train))\n",
    "### END SOLUTION"
   ]
  },
  {
   "cell_type": "code",
   "execution_count": 5,
   "id": "2dc94621",
   "metadata": {
    "nbgrader": {
     "grade": true,
     "grade_id": "3",
     "locked": true,
     "points": 10,
     "schema_version": 3,
     "solution": false,
     "task": false
    }
   },
   "outputs": [],
   "source": [
    "#[10 points] Test cell-3\n",
    "#DO NOT MODIFY/DELETE THIS CELL \n",
    "assert len(X_train)==404\n",
    "assert len(y_test)==102\n",
    "assert len(y_train)==404\n",
    "assert len(X_test)==102"
   ]
  },
  {
   "cell_type": "markdown",
   "id": "f080f1b9",
   "metadata": {
    "nbgrader": {
     "grade": false,
     "grade_id": "q3",
     "locked": true,
     "schema_version": 3,
     "solution": false,
     "task": false
    }
   },
   "source": [
    "#### Q3 [5 points]. Use the `df` in Q1 to perform these operations: \n",
    "<ol>\n",
    "<li> Standardize the data using the StandardScaler() function from sklearn library</li>\n",
    "<li> Compute principal components using the fit_transform operation on the original dataset </li>\n",
    "<li> Now find the number of principal components `n_components` that will retain not more than 75% of the information present in the original dataset </li>\n",
    "</ol>\n",
    "\n",
    "- Make sure you declare appropriate Python packages which are not provided by default\n",
    "- Hint -- Use explained_variance_ratio_.cumsum() function we discussed in the class\n"
   ]
  },
  {
   "cell_type": "code",
   "execution_count": 29,
   "id": "a4a4c265",
   "metadata": {
    "nbgrader": {
     "grade": false,
     "grade_id": "q3-sol",
     "locked": false,
     "schema_version": 3,
     "solution": true,
     "task": false
    }
   },
   "outputs": [
    {
     "name": "stderr",
     "output_type": "stream",
     "text": [
      "/Users/minor/opt/anaconda3/lib/python3.9/site-packages/sklearn/utils/deprecation.py:87: FutureWarning: Function load_boston is deprecated; `load_boston` is deprecated in 1.0 and will be removed in 1.2.\n",
      "\n",
      "    The Boston housing prices dataset has an ethical problem. You can refer to\n",
      "    the documentation of this function for further details.\n",
      "\n",
      "    The scikit-learn maintainers therefore strongly discourage the use of this\n",
      "    dataset unless the purpose of the code is to study and educate about\n",
      "    ethical issues in data science and machine learning.\n",
      "\n",
      "    In this special case, you can fetch the dataset from the original\n",
      "    source::\n",
      "\n",
      "        import pandas as pd\n",
      "        import numpy as np\n",
      "\n",
      "\n",
      "        data_url = \"http://lib.stat.cmu.edu/datasets/boston\"\n",
      "        raw_df = pd.read_csv(data_url, sep=\"\\s+\", skiprows=22, header=None)\n",
      "        data = np.hstack([raw_df.values[::2, :], raw_df.values[1::2, :2]])\n",
      "        target = raw_df.values[1::2, 2]\n",
      "\n",
      "    Alternative datasets include the California housing dataset (i.e.\n",
      "    :func:`~sklearn.datasets.fetch_california_housing`) and the Ames housing\n",
      "    dataset. You can load the datasets as follows::\n",
      "\n",
      "        from sklearn.datasets import fetch_california_housing\n",
      "        housing = fetch_california_housing()\n",
      "\n",
      "    for the California housing dataset and::\n",
      "\n",
      "        from sklearn.datasets import fetch_openml\n",
      "        housing = fetch_openml(name=\"house_prices\", as_frame=True)\n",
      "\n",
      "    for the Ames housing dataset.\n",
      "    \n",
      "  warnings.warn(msg, category=FutureWarning)\n"
     ]
    },
    {
     "data": {
      "text/plain": "4"
     },
     "execution_count": 29,
     "metadata": {},
     "output_type": "execute_result"
    }
   ],
   "source": [
    "\n",
    "import pandas as pd\n",
    "import numpy as np\n",
    "from sklearn.datasets import load_boston\n",
    "\n",
    "#Load the dataset and save it as a dataframe\n",
    "boston = load_boston()\n",
    "df = pd.DataFrame(boston.data, columns=boston.feature_names)\n",
    "\n",
    "n_components=0\n",
    "\n",
    "### BEGIN SOLUTION\n",
    "\n",
    "from sklearn.preprocessing import StandardScaler\n",
    "from sklearn.decomposition import PCA\n",
    "\n",
    "#Standaridize the data\n",
    "df = StandardScaler().fit_transform(df)\n",
    "df=pd.DataFrame(df,columns=boston.feature_names)\n",
    "#Identify the components and tranforms the data into those new dimensions\n",
    "pca = PCA(0.74)\n",
    "principalComponents = pca.fit_transform(df)\n",
    "vals=pca.explained_variance_ratio_.cumsum()\n",
    "pca.n_components\n",
    "vals\n",
    "#print(vals)\n",
    "n_components=0\n",
    "for i in range(len(vals)):\n",
    "    if vals[i]>=0.75:\n",
    "        break\n",
    "    n_components+=1\n",
    "\n",
    "### END SOLUTION\n",
    "pca.n_components_"
   ]
  },
  {
   "cell_type": "code",
   "execution_count": 7,
   "id": "7980f1c4",
   "metadata": {
    "nbgrader": {
     "grade": true,
     "grade_id": "4",
     "locked": true,
     "points": 2.5,
     "schema_version": 3,
     "solution": false,
     "task": false
    }
   },
   "outputs": [],
   "source": [
    "#[2.5 points] Test cell-4\n",
    "#DO NOT MODIFY/DELETE THIS CELL \n",
    "assert n_components!=0"
   ]
  },
  {
   "cell_type": "code",
   "execution_count": 8,
   "id": "954bda19",
   "metadata": {
    "nbgrader": {
     "grade": true,
     "grade_id": "5",
     "locked": true,
     "points": 2.5,
     "schema_version": 3,
     "solution": false,
     "task": false
    }
   },
   "outputs": [],
   "source": [
    "#[2.5 points] Test cell-5 Hidden tests\n",
    "#DO NOT MODIFY/DELETE THIS CELL \n",
    "### BEGIN HIDDEN TESTS\n",
    "assert n_components==4\n",
    "### END HIDDEN TESTS"
   ]
  },
  {
   "cell_type": "markdown",
   "id": "7b47c63a",
   "metadata": {
    "nbgrader": {
     "grade": false,
     "grade_id": "q4",
     "locked": true,
     "schema_version": 3,
     "solution": false,
     "task": false
    }
   },
   "source": [
    "#### Q4 [10 points]. Given 3 different series `S1`, `S2`, `S3`\n",
    "<ol>\n",
    "<li>First, using these 3 series build a dataframe 'df' where the column name associated with each series is same as the name of the series such as `S1`, `S2` or `S3`.</li>\n",
    "<li>Please note that 'df' doesn't contain any class label column. We are building a simple dataframe with 3 columns from 3 different series each considered as a feature.</li>\n",
    "<li>If you perform PCA operation, how many maximum principal components will you obtain?</li>\n",
    "<li>No need to do pca but manually assign the value to an integer variable `max_pcs`</li>\n",
    "</ol>"
   ]
  },
  {
   "cell_type": "code",
   "execution_count": 9,
   "id": "ae2308ca",
   "metadata": {
    "nbgrader": {
     "grade": false,
     "grade_id": "q4-sol",
     "locked": false,
     "schema_version": 3,
     "solution": true,
     "task": false
    }
   },
   "outputs": [],
   "source": [
    "\n",
    "import pandas as pd\n",
    "S1 = pd.Series([1,2,3,4]) #corresponding column name should be 'S1'\n",
    "S2 = pd.Series([10, 20, 30, 40]) #corresponding column name should be 'S2'\n",
    "S3 = pd.Series([2,4,6,8]) #corresponding column name should be 'S3'\n",
    "\n",
    "max_pcs=0 #Update this variable after building the dataframe #No need to perform PCA \n",
    "\n",
    "### BEGIN SOLUTION\n",
    "data={'S1':pd.Series([1,2,3,4]), 'S2':pd.Series([10, 20, 30, 40]), 'S3':pd.Series([2,4,6,8])}\n",
    "df=pd.DataFrame(data)\n",
    "max_pcs=3\n",
    "### END SOLUTION"
   ]
  },
  {
   "cell_type": "code",
   "execution_count": 10,
   "id": "6a6c71e7",
   "metadata": {
    "nbgrader": {
     "grade": true,
     "grade_id": "6",
     "locked": true,
     "points": 7.5,
     "schema_version": 3,
     "solution": false,
     "task": false
    }
   },
   "outputs": [],
   "source": [
    "#[7.5 points] Test cell-6\n",
    "#DO NOT MODIFY/DELETE THIS CELL \n",
    "assert set(df.columns)=={'S1', 'S2', 'S3'}\n",
    "assert df['S3'].mean()==5.0\n",
    "assert df['S1'].mean()==2.5"
   ]
  },
  {
   "cell_type": "code",
   "execution_count": 11,
   "id": "10ff071a",
   "metadata": {
    "nbgrader": {
     "grade": true,
     "grade_id": "7",
     "locked": true,
     "points": 2.5,
     "schema_version": 3,
     "solution": false,
     "task": false
    }
   },
   "outputs": [],
   "source": [
    "#[2.5 points] Test cell-7 Hidden tests\n",
    "#DO NOT MODIFY/DELETE THIS CELL \n",
    "### BEGIN HIDDEN TESTS\n",
    "max_pcs=3\n",
    "assert df['S2'].mean()==25.0\n",
    "### END HIDDEN TESTS"
   ]
  },
  {
   "cell_type": "markdown",
   "id": "0428eb49",
   "metadata": {
    "nbgrader": {
     "grade": false,
     "grade_id": "q5",
     "locked": true,
     "schema_version": 3,
     "solution": false,
     "task": false
    }
   },
   "source": [
    "#### Q5 [10 points]. Linear regression: Use the boston dataset loaded into the dataframe `df`\n",
    "##### 1. **Without using train_test_split() function**\n",
    "- use the 1st 400 rows (i.e., index 0,1,....399) where the corresponding features are loaded as `train_X` and corresponding labels as `train_y`\n",
    "- Use the remaining rows as testing data -- `test_X` and `test_y` for the features and labels respectively.\n",
    "- Fit a linear regression line using the training data; then use it to predict labels for testing data as shown in the lecture notebook. Please use the default parameters when calling the linear regression function. \n",
    "\n",
    "##### 2. Measure the mean-squared error (MSE) 'mse_split1' using the predicted labels with testing labels.\n",
    "- Round the `mse_split1` to 2 values after the decimal point. \n",
    "- Hint -- Check out the libraries given to guess which functions to use to compute MSE.\n"
   ]
  },
  {
   "cell_type": "code",
   "execution_count": 12,
   "id": "8ac2a6e6",
   "metadata": {
    "nbgrader": {
     "grade": false,
     "grade_id": "q5-sol",
     "locked": false,
     "schema_version": 3,
     "solution": true,
     "task": false
    }
   },
   "outputs": [
    {
     "name": "stderr",
     "output_type": "stream",
     "text": [
      "/Users/minor/opt/anaconda3/lib/python3.9/site-packages/sklearn/utils/deprecation.py:87: FutureWarning: Function load_boston is deprecated; `load_boston` is deprecated in 1.0 and will be removed in 1.2.\n",
      "\n",
      "    The Boston housing prices dataset has an ethical problem. You can refer to\n",
      "    the documentation of this function for further details.\n",
      "\n",
      "    The scikit-learn maintainers therefore strongly discourage the use of this\n",
      "    dataset unless the purpose of the code is to study and educate about\n",
      "    ethical issues in data science and machine learning.\n",
      "\n",
      "    In this special case, you can fetch the dataset from the original\n",
      "    source::\n",
      "\n",
      "        import pandas as pd\n",
      "        import numpy as np\n",
      "\n",
      "\n",
      "        data_url = \"http://lib.stat.cmu.edu/datasets/boston\"\n",
      "        raw_df = pd.read_csv(data_url, sep=\"\\s+\", skiprows=22, header=None)\n",
      "        data = np.hstack([raw_df.values[::2, :], raw_df.values[1::2, :2]])\n",
      "        target = raw_df.values[1::2, 2]\n",
      "\n",
      "    Alternative datasets include the California housing dataset (i.e.\n",
      "    :func:`~sklearn.datasets.fetch_california_housing`) and the Ames housing\n",
      "    dataset. You can load the datasets as follows::\n",
      "\n",
      "        from sklearn.datasets import fetch_california_housing\n",
      "        housing = fetch_california_housing()\n",
      "\n",
      "    for the California housing dataset and::\n",
      "\n",
      "        from sklearn.datasets import fetch_openml\n",
      "        housing = fetch_openml(name=\"house_prices\", as_frame=True)\n",
      "\n",
      "    for the Ames housing dataset.\n",
      "    \n",
      "  warnings.warn(msg, category=FutureWarning)\n"
     ]
    }
   ],
   "source": [
    "\n",
    "import pandas as pd\n",
    "import numpy as np\n",
    "from sklearn.datasets import load_boston\n",
    "from sklearn import datasets\n",
    "from sklearn import linear_model\n",
    "from sklearn.metrics import mean_squared_error\n",
    "\n",
    "#Load the dataset without class labels and save it as a dataframe\n",
    "boston = load_boston()\n",
    "df = pd.DataFrame(boston.data, columns=boston.feature_names)\n",
    "#class label -- boston.target\n",
    "\n",
    "train_X = pd.DataFrame()\n",
    "train_y = pd.DataFrame()\n",
    "test_X = pd.DataFrame()\n",
    "test_y = pd.DataFrame()\n",
    "\n",
    "mse_split1=0\n",
    "\n",
    "### BEGIN SOLUTION\n",
    "train_X = df.iloc[:400,:]\n",
    "train_y = boston.target[:400]\n",
    "test_X = df.iloc[400:,:]\n",
    "test_y = boston.target[400:]\n",
    "\n",
    "#Linear regression\n",
    "bostonregr = linear_model.LinearRegression()\n",
    "bostonregr.fit(train_X, train_y)\n",
    "by_pred = bostonregr.predict(test_X)\n",
    "\n",
    "mse_split1 = round(mean_squared_error(test_y, by_pred), 2)\n",
    "#print(mse_split1)\n",
    "\n",
    "### END SOLUTION"
   ]
  },
  {
   "cell_type": "code",
   "execution_count": 13,
   "id": "4fad5071",
   "metadata": {
    "nbgrader": {
     "grade": true,
     "grade_id": "8",
     "locked": true,
     "points": 5,
     "schema_version": 3,
     "solution": false,
     "task": false
    }
   },
   "outputs": [],
   "source": [
    "#[5 points] Test cell-8\n",
    "#DO NOT MODIFY/DELETE THIS CELL \n",
    "assert len(train_X)==400\n",
    "assert len(test_y)==106\n",
    "assert mse_split1==37.89\n"
   ]
  },
  {
   "cell_type": "code",
   "execution_count": 14,
   "id": "8ce17d97",
   "metadata": {
    "nbgrader": {
     "grade": true,
     "grade_id": "9",
     "locked": true,
     "points": 5,
     "schema_version": 3,
     "solution": false,
     "task": false
    }
   },
   "outputs": [],
   "source": [
    "#[5 points] Test cell-9 Hidden tests \n",
    "#DO NOT MODIFY/DELETE THIS CELL \n",
    "### BEGIN HIDDEN TESTS\n",
    "assert round(np.mean(train_y), 2)==24.33\n",
    "assert round(np.mean(test_y), 2)==15.73\n",
    "### END HIDDEN TESTS"
   ]
  },
  {
   "cell_type": "markdown",
   "id": "b0599097",
   "metadata": {
    "nbgrader": {
     "grade": false,
     "grade_id": "q6",
     "locked": true,
     "schema_version": 3,
     "solution": false,
     "task": false
    }
   },
   "source": [
    "#### Q6 [10 points]. Repeat the above exercise (Q5) but with different training and testing splits using the `boston` dataset.\n",
    "\n",
    "###### 1. **Without using train_test_split() function** \n",
    "- use the last set of rows from index 253 to the end (i.e., index 253,254,....505) where, the corresponding features are loaded as `train_X` and corresponding labels as `train_y`\n",
    "- Use the remaining rows (from index 0, 1, 2, ...., 252) as testing data -- `test_X` and `test_y` for the features and labels respectively.\n",
    "- Fit a linear regression line using the training data; then use it for predicting testing data as shown in the lecture notebook. Please use the default parameters when calling the linear regression function. \n",
    "\n",
    "###### 2. Measure the mean-squared error (MSE) 'mse_split2' using the predicted labels with testing labels.\n",
    "- Round the `mse_split2` to 2 values after the decimal point. \n",
    "- Hint -- Check out the libraries given to guess which functions to use to compute MSE.\n"
   ]
  },
  {
   "cell_type": "code",
   "execution_count": 15,
   "id": "2dcd008d",
   "metadata": {
    "nbgrader": {
     "grade": false,
     "grade_id": "q6-sol",
     "locked": false,
     "schema_version": 3,
     "solution": true,
     "task": false
    }
   },
   "outputs": [
    {
     "name": "stderr",
     "output_type": "stream",
     "text": [
      "/Users/minor/opt/anaconda3/lib/python3.9/site-packages/sklearn/utils/deprecation.py:87: FutureWarning: Function load_boston is deprecated; `load_boston` is deprecated in 1.0 and will be removed in 1.2.\n",
      "\n",
      "    The Boston housing prices dataset has an ethical problem. You can refer to\n",
      "    the documentation of this function for further details.\n",
      "\n",
      "    The scikit-learn maintainers therefore strongly discourage the use of this\n",
      "    dataset unless the purpose of the code is to study and educate about\n",
      "    ethical issues in data science and machine learning.\n",
      "\n",
      "    In this special case, you can fetch the dataset from the original\n",
      "    source::\n",
      "\n",
      "        import pandas as pd\n",
      "        import numpy as np\n",
      "\n",
      "\n",
      "        data_url = \"http://lib.stat.cmu.edu/datasets/boston\"\n",
      "        raw_df = pd.read_csv(data_url, sep=\"\\s+\", skiprows=22, header=None)\n",
      "        data = np.hstack([raw_df.values[::2, :], raw_df.values[1::2, :2]])\n",
      "        target = raw_df.values[1::2, 2]\n",
      "\n",
      "    Alternative datasets include the California housing dataset (i.e.\n",
      "    :func:`~sklearn.datasets.fetch_california_housing`) and the Ames housing\n",
      "    dataset. You can load the datasets as follows::\n",
      "\n",
      "        from sklearn.datasets import fetch_california_housing\n",
      "        housing = fetch_california_housing()\n",
      "\n",
      "    for the California housing dataset and::\n",
      "\n",
      "        from sklearn.datasets import fetch_openml\n",
      "        housing = fetch_openml(name=\"house_prices\", as_frame=True)\n",
      "\n",
      "    for the Ames housing dataset.\n",
      "    \n",
      "  warnings.warn(msg, category=FutureWarning)\n"
     ]
    }
   ],
   "source": [
    "\n",
    "import pandas as pd\n",
    "import numpy as np\n",
    "from sklearn.datasets import load_boston\n",
    "from sklearn import datasets\n",
    "from sklearn import linear_model\n",
    "from sklearn.metrics import mean_squared_error\n",
    "\n",
    "#Load the dataset without class labels and save it as a dataframe\n",
    "boston = load_boston()\n",
    "df = pd.DataFrame(boston.data, columns=boston.feature_names)\n",
    "#class label -- boston.target\n",
    "\n",
    "train_X = pd.DataFrame()\n",
    "train_y = pd.DataFrame()\n",
    "test_X = pd.DataFrame()\n",
    "test_y = pd.DataFrame()\n",
    "\n",
    "mse_split2=0\n",
    "\n",
    "### BEGIN SOLUTION\n",
    "train_X = df.iloc[253:,:]\n",
    "train_y = boston.target[253:]\n",
    "test_X = df.iloc[:253,:]\n",
    "test_y = boston.target[:253]\n",
    "#print(test_y)\n",
    "\n",
    "#print(len(train_X))\n",
    "#print(round(np.mean(train_y), 2))\n",
    "#print(round(np.mean(test_y), 2))\n",
    "#print(len(test_y))\n",
    "\n",
    "#print(type(train_X))\n",
    "#Linear regression\n",
    "bostonregr = linear_model.LinearRegression()\n",
    "bostonregr.fit(train_X, train_y)\n",
    "by_pred = bostonregr.predict(test_X)\n",
    "mse_split2 = round(mean_squared_error(test_y, by_pred), 2)\n",
    "#print(mse_split2)\n",
    "\n",
    "### END SOLUTION"
   ]
  },
  {
   "cell_type": "code",
   "execution_count": 16,
   "id": "1c3240fe",
   "metadata": {
    "nbgrader": {
     "grade": true,
     "grade_id": "10",
     "locked": true,
     "points": 5,
     "schema_version": 3,
     "solution": false,
     "task": false
    }
   },
   "outputs": [],
   "source": [
    "#[5 points] Test cell-10\n",
    "#DO NOT MODIFY/DELETE THIS CELL \n",
    "assert len(train_X)==253\n",
    "assert len(test_y)==253\n",
    "assert mse_split2==27.22\n"
   ]
  },
  {
   "cell_type": "code",
   "execution_count": 17,
   "id": "29e3b1f6",
   "metadata": {
    "nbgrader": {
     "grade": true,
     "grade_id": "11",
     "locked": true,
     "points": 5,
     "schema_version": 3,
     "solution": false,
     "task": false
    }
   },
   "outputs": [],
   "source": [
    "#[5 points] Test cell-11 Hidden tests \n",
    "#DO NOT MODIFY/DELETE THIS CELL \n",
    "### BEGIN HIDDEN TESTS\n",
    "assert round(np.mean(train_y), 2)==20.76\n",
    "assert round(np.mean(test_y), 2)==24.31\n",
    "### END HIDDEN TESTS"
   ]
  },
  {
   "cell_type": "markdown",
   "id": "899af61b",
   "metadata": {
    "nbgrader": {
     "grade": false,
     "grade_id": "q7",
     "locked": true,
     "schema_version": 3,
     "solution": false,
     "task": false
    }
   },
   "source": [
    "#### Q7 [15 points]. We have loaded the boston dataset -- use the dataframe `df` to do: \n",
    "###### 1. Convert the target labels -- boston.target from continuous to discrete values -- 1, 2 and 3 using this approach.\n",
    "- all the values (lets say, each value is represented by v1) in boston.target should become 1 if v1>=5 and v1<20; \n",
    "- all the values (lets say, each value is represented by v2) in boston.target should become 2 if v2>=20 and v2<35;\n",
    "- all the values (lets say, each value is represented by v3) in boston.target should become 3 if v3>=35 and v3<51;\n",
    "\n",
    "###### 2. **Without using train_test_split()** use the 1st 400 rows (i.e., index 0,1,....399) where, \n",
    "- the corresponding features are loaded as `train_X` and corresponding labels as `train_y`\n",
    "- Use the rest of the rows for testing data -- `test_X` and `test_y` for the features and groundtruth labels respectively.\n",
    "- Fit a logistic regression with solver=`newton-cg`, C=`1e5`, multi_class=`multinomial`; then use it for predicting testing data as shown in the lecture notebook. If you encounter this warning, please ignore it -- \"ConvergenceWarning: newton-cg failed to converge.\" \n",
    "\n",
    "###### 3. Measure the accuracy `acc_split3` using the predicted labels with groundtruth test labels `test_y`.\n",
    "- Round the `acc_split3` to 2 values after the decimal point. \n",
    "- Hint -- Check out the libraries given to guess which functions to use to compute accuracy."
   ]
  },
  {
   "cell_type": "code",
   "execution_count": 18,
   "id": "5b2c5c66",
   "metadata": {
    "nbgrader": {
     "grade": false,
     "grade_id": "q7-sol",
     "locked": false,
     "schema_version": 3,
     "solution": true,
     "task": false
    }
   },
   "outputs": [
    {
     "name": "stderr",
     "output_type": "stream",
     "text": [
      "/Users/minor/opt/anaconda3/lib/python3.9/site-packages/sklearn/utils/deprecation.py:87: FutureWarning: Function load_boston is deprecated; `load_boston` is deprecated in 1.0 and will be removed in 1.2.\n",
      "\n",
      "    The Boston housing prices dataset has an ethical problem. You can refer to\n",
      "    the documentation of this function for further details.\n",
      "\n",
      "    The scikit-learn maintainers therefore strongly discourage the use of this\n",
      "    dataset unless the purpose of the code is to study and educate about\n",
      "    ethical issues in data science and machine learning.\n",
      "\n",
      "    In this special case, you can fetch the dataset from the original\n",
      "    source::\n",
      "\n",
      "        import pandas as pd\n",
      "        import numpy as np\n",
      "\n",
      "\n",
      "        data_url = \"http://lib.stat.cmu.edu/datasets/boston\"\n",
      "        raw_df = pd.read_csv(data_url, sep=\"\\s+\", skiprows=22, header=None)\n",
      "        data = np.hstack([raw_df.values[::2, :], raw_df.values[1::2, :2]])\n",
      "        target = raw_df.values[1::2, 2]\n",
      "\n",
      "    Alternative datasets include the California housing dataset (i.e.\n",
      "    :func:`~sklearn.datasets.fetch_california_housing`) and the Ames housing\n",
      "    dataset. You can load the datasets as follows::\n",
      "\n",
      "        from sklearn.datasets import fetch_california_housing\n",
      "        housing = fetch_california_housing()\n",
      "\n",
      "    for the California housing dataset and::\n",
      "\n",
      "        from sklearn.datasets import fetch_openml\n",
      "        housing = fetch_openml(name=\"house_prices\", as_frame=True)\n",
      "\n",
      "    for the Ames housing dataset.\n",
      "    \n",
      "  warnings.warn(msg, category=FutureWarning)\n",
      "/Users/minor/opt/anaconda3/lib/python3.9/site-packages/sklearn/utils/optimize.py:210: ConvergenceWarning: newton-cg failed to converge. Increase the number of iterations.\n",
      "  warnings.warn(\n"
     ]
    }
   ],
   "source": [
    "\n",
    "\n",
    "import pandas as pd\n",
    "import numpy as np\n",
    "from sklearn.datasets import load_boston\n",
    "from sklearn import datasets\n",
    "from sklearn import linear_model\n",
    "from sklearn.metrics import accuracy_score\n",
    "\n",
    "#Load the dataset without class labels and save it as a dataframe\n",
    "boston = load_boston()\n",
    "df = pd.DataFrame(boston.data, columns=boston.feature_names)\n",
    "#class label -- boston.target\n",
    "\n",
    "train_X = pd.DataFrame()\n",
    "train_y = pd.DataFrame()\n",
    "test_X = pd.DataFrame()\n",
    "test_y = pd.DataFrame()\n",
    "\n",
    "acc_split3=0\n",
    "\n",
    "### BEGIN SOLUTION\n",
    "bins = np.array([5.0, 20.0, 35.0, 51.0])\n",
    "targetlabels = np.digitize(boston.target, bins)\n",
    "\n",
    "train_X = df.iloc[:400,:]\n",
    "train_y = targetlabels[:400]\n",
    "test_X = df.iloc[400:,:]\n",
    "test_y = targetlabels[400:]\n",
    "#print(len(test_y))\n",
    "\n",
    "#Logistic regression\n",
    "\n",
    "blog = linear_model.LogisticRegression(solver='newton-cg', C=1e5, multi_class='multinomial')\n",
    "blog.fit(train_X, train_y)\n",
    "by_pred = blog.predict(test_X)\n",
    "acc_split3 = round(accuracy_score(test_y, by_pred),2)\n",
    "\n",
    "#print(round(train_y.mean(), 2))\n",
    "#print(round(np.mean(train_y), 2))\n",
    "\n",
    "#print(set(train_y))\n",
    "### END SOLUTION\n"
   ]
  },
  {
   "cell_type": "code",
   "execution_count": 19,
   "id": "16101e15",
   "metadata": {
    "nbgrader": {
     "grade": true,
     "grade_id": "12",
     "locked": true,
     "points": 5,
     "schema_version": 3,
     "solution": false,
     "task": false
    }
   },
   "outputs": [],
   "source": [
    "#[5 points] Test cell-12\n",
    "#DO NOT MODIFY/DELETE THIS CELL \n",
    "assert len(train_X)==400\n",
    "assert set(train_y)=={1,2,3}"
   ]
  },
  {
   "cell_type": "code",
   "execution_count": 20,
   "id": "319e41c2",
   "metadata": {
    "nbgrader": {
     "grade": true,
     "grade_id": "13",
     "locked": true,
     "points": 5,
     "schema_version": 3,
     "solution": false,
     "task": false
    }
   },
   "outputs": [],
   "source": [
    "#[5 points] Test cell-13\n",
    "#DO NOT MODIFY/DELETE THIS CELL \n",
    "assert acc_split3==0.74\n",
    "assert len(test_y)==106"
   ]
  },
  {
   "cell_type": "code",
   "execution_count": 21,
   "id": "6318191b",
   "metadata": {
    "nbgrader": {
     "grade": true,
     "grade_id": "14",
     "locked": true,
     "points": 5,
     "schema_version": 3,
     "solution": false,
     "task": false
    }
   },
   "outputs": [],
   "source": [
    "#[5 points] Test cell-14 Hidden tests \n",
    "#DO NOT MODIFY/DELETE THIS CELL \n",
    "### BEGIN HIDDEN TESTS\n",
    "assert round(np.mean(train_y), 2)==1.8\n",
    "assert round(np.mean(test_y), 2)==1.25\n",
    "### END HIDDEN TESTS"
   ]
  }
 ],
 "metadata": {
  "celltoolbar": "Create Assignment",
  "kernelspec": {
   "display_name": "Python 3",
   "language": "python",
   "name": "python3"
  },
  "language_info": {
   "codemirror_mode": {
    "name": "ipython",
    "version": 3
   },
   "file_extension": ".py",
   "mimetype": "text/x-python",
   "name": "python",
   "nbconvert_exporter": "python",
   "pygments_lexer": "ipython3",
   "version": "3.6.9"
  }
 },
 "nbformat": 4,
 "nbformat_minor": 5
}
