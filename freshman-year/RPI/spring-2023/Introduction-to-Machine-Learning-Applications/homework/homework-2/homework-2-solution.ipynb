{
 "cells": [
  {
   "cell_type": "markdown",
   "id": "tight-staff",
   "metadata": {
    "nbgrader": {
     "grade": false,
     "grade_id": "Desc",
     "locked": true,
     "schema_version": 3,
     "solution": false,
     "task": false
    }
   },
   "source": [
    "#### [Fall 2022] Homework-2 \n",
    "##### Total number of points: 70\n",
    "#### Due date: February 3rd, 2023\n",
    "\n",
    "Before you submit this homework, make sure everything runs as expected. First, restart the kernel (in the menu, select Kernel → Restart) and then run all cells (in the menubar, select Cell → Run All). You can discuss with others regarding the homework but all work must be your own.\n",
    "\n",
    "This homework will test your knowledge on basics of Python. The Python notebooks shared will be helpful to solve these problems. \n",
    "\n",
    "Steps to evaluate your solutions:\n",
    "\n",
    "Step-1: Ensure you have installed Anaconda (Windows: https://docs.anaconda.com/anaconda/install/windows/ ; Mac:https://docs.anaconda.com/anaconda/install/mac-os/ ; Linux: https://docs.anaconda.com/anaconda/install/linux/)\n",
    "\n",
    "Step-2: Open the Jupyter Notebook by first launching the anaconda software console\n",
    "\n",
    "Step-3: Open the .ipynb file and write your solutions at the appropriate location \"# YOUR CODE HERE\"\n",
    "\n",
    "Step-4: You can restart the kernel and click run all (in the menubar, select Cell → Run All) on the center-right on the top of this window.\n",
    "\n",
    "Step-5: Now go to \"File\" then click on \"Download as\" then click on \"Notebook (.ipynb)\" Please DO NOT change the file name and just keep it as .ipynb file format\n",
    "\n",
    "Step-6: Go to lms.rpi.edu and upload your homework at the appropriate link to submit this homework.\n",
    "\n",
    "#### Please note that for any question in this assignment you will receive points ONLY if your solution passes all the test cases including hidden testcases as well. So please make sure you try to think all possible scenarios before submitting your answers.  \n",
    "- Note that hidden tests are present to ensure you are not hardcoding. \n",
    "- If caught cheating: \n",
    "    - you will receive a score of 0 for the 1st violation. \n",
    "    - for repeated incidents, you will receive an automatic 'F' grade and will be reported to the dean of Lally School of Management. "
   ]
  },
  {
   "cell_type": "markdown",
   "id": "perfect-private",
   "metadata": {
    "nbgrader": {
     "grade": false,
     "grade_id": "q1-desc",
     "locked": true,
     "schema_version": 3,
     "solution": false,
     "task": false
    }
   },
   "source": [
    "#### Q1 [10 points]. Write a function that takes a number and checks if it is a composite number. Return `True` if its a composite number or else `False`.\n",
    "\n",
    "- A number is composite when it has more than two factors -- which means apart from getting divided by 1 and the number itself, it can also be divided by at least one positive integer. \n"
   ]
  },
  {
   "cell_type": "code",
   "execution_count": 1,
   "id": "boxed-telling",
   "metadata": {
    "nbgrader": {
     "grade": false,
     "grade_id": "q1-sol",
     "locked": false,
     "schema_version": 3,
     "solution": true,
     "task": false
    }
   },
   "outputs": [],
   "source": [
    "\n",
    "def isComposite(num):\n",
    "    '''Write a program to check if a given number is a composite number or not.\n",
    "    A number is composite if there are more than two factors 1, itself, and atleast one positive integer. \n",
    "    The program returns -- True, if it is a composite number; otherwise False. Assume that you will be receiving only positive integers (>=0) as the input parameters. \n",
    "    '''\n",
    "    ### BEGIN SOLUTION\n",
    "    if num > 1:\n",
    "        for i in range(2,num):\n",
    "            if (num % i) == 0:\n",
    "                return(True)\n",
    "        return(False)\n",
    "    else:\n",
    "        return(False)\n",
    "    ### END SOLUTION\n"
   ]
  },
  {
   "cell_type": "code",
   "execution_count": 2,
   "id": "motivated-watch",
   "metadata": {
    "nbgrader": {
     "grade": true,
     "grade_id": "1",
     "locked": true,
     "points": 6,
     "schema_version": 3,
     "solution": false,
     "task": false
    }
   },
   "outputs": [],
   "source": [
    "#Test cell-1 [6 pts]\n",
    "#DO NOT MODIFY/DELETE THIS CELL \n",
    "\n",
    "'''case-1'''\n",
    "number=1\n",
    "assert isComposite(number) == False\n",
    "\n",
    "'''case-2'''\n",
    "number = 10\n",
    "assert isComposite(number)== True\n",
    "\n",
    "'''case-3'''\n",
    "number = 97\n",
    "assert isComposite(number) == False\n"
   ]
  },
  {
   "cell_type": "code",
   "execution_count": 3,
   "id": "intimate-movie",
   "metadata": {
    "nbgrader": {
     "grade": true,
     "grade_id": "2",
     "locked": true,
     "points": 4,
     "schema_version": 3,
     "solution": false,
     "task": false
    }
   },
   "outputs": [],
   "source": [
    "#Test cell-2 [4 pts]\n",
    "#DO NOT MODIFY/DELETE THIS CELL \n",
    "\n",
    "### BEGIN HIDDEN TESTS\n",
    "'''case-4'''\n",
    "number = 3\n",
    "assert isComposite(number) == False\n",
    "'''case-5'''\n",
    "number = 0\n",
    "assert isComposite(number) == False\n",
    "### END HIDDEN TESTS"
   ]
  },
  {
   "cell_type": "markdown",
   "id": "pregnant-marker",
   "metadata": {
    "nbgrader": {
     "grade": false,
     "grade_id": "q2-desc",
     "locked": true,
     "schema_version": 3,
     "solution": false,
     "task": false
    }
   },
   "source": [
    "#### Q2 [5 points]. import the numpy package as np. "
   ]
  },
  {
   "cell_type": "code",
   "execution_count": 4,
   "id": "concrete-crest",
   "metadata": {
    "nbgrader": {
     "grade": false,
     "grade_id": "q2-sol",
     "locked": false,
     "schema_version": 3,
     "solution": true,
     "task": false
    }
   },
   "outputs": [],
   "source": [
    "\n",
    "'''Note that ONLY if you get this solution right all the below questions will be executed'''\n",
    "\n",
    "### BEGIN SOLUTION\n",
    "\n",
    "import numpy as np\n",
    "\n",
    "### END SOLUTION"
   ]
  },
  {
   "cell_type": "code",
   "execution_count": 5,
   "id": "biblical-breach",
   "metadata": {
    "nbgrader": {
     "grade": true,
     "grade_id": "3",
     "locked": true,
     "points": 5,
     "schema_version": 3,
     "solution": false,
     "task": false
    }
   },
   "outputs": [],
   "source": [
    "#Test cell-3 [5 pts]\n",
    "#DO NOT MODIFY/DELETE THIS CELL \n",
    "assert np.prod([1,2,3])==6"
   ]
  },
  {
   "cell_type": "markdown",
   "id": "alternate-scanner",
   "metadata": {
    "nbgrader": {
     "grade": false,
     "grade_id": "q3-desc",
     "locked": true,
     "schema_version": 3,
     "solution": false,
     "task": false
    }
   },
   "source": [
    "#### Q3 [5 points]. Create a numpy array called `arr3` of zeros of size 10 where the sixth element is 1. \n"
   ]
  },
  {
   "cell_type": "code",
   "execution_count": 6,
   "id": "tender-sally",
   "metadata": {
    "nbgrader": {
     "grade": false,
     "grade_id": "q3-sol",
     "locked": false,
     "schema_version": 3,
     "solution": true,
     "task": false
    }
   },
   "outputs": [],
   "source": [
    "\n",
    "### BEGIN SOLUTION\n",
    "arr3=np.array([0,0,0,0,0,1,0,0,0,0])\n",
    "\n",
    "### END SOLUTION"
   ]
  },
  {
   "cell_type": "code",
   "execution_count": 7,
   "id": "framed-aspect",
   "metadata": {
    "nbgrader": {
     "grade": true,
     "grade_id": "4",
     "locked": true,
     "points": 3,
     "schema_version": 3,
     "solution": false,
     "task": false
    }
   },
   "outputs": [],
   "source": [
    "#Test cell-4 [3 pts]\n",
    "#DO NOT MODIFY/DELETE THIS CELL \n",
    "\n",
    "assert isinstance(arr3, np.ndarray)\n",
    "assert arr3[:5].all() == 0\n",
    "assert arr3[5] == 1\n"
   ]
  },
  {
   "cell_type": "code",
   "execution_count": 8,
   "id": "geographic-hacker",
   "metadata": {
    "nbgrader": {
     "grade": true,
     "grade_id": "5",
     "locked": true,
     "points": 2,
     "schema_version": 3,
     "solution": false,
     "task": false
    }
   },
   "outputs": [],
   "source": [
    "#Test cell-5 [2 pts]\n",
    "#DO NOT MODIFY/DELETE THIS CELL \n",
    "\n",
    "### BEGIN HIDDEN TESTS\n",
    "assert arr3[6:].all() == 0\n",
    "### END HIDDEN TESTS"
   ]
  },
  {
   "cell_type": "markdown",
   "id": "yellow-account",
   "metadata": {
    "nbgrader": {
     "grade": false,
     "grade_id": "q4-desc",
     "locked": true,
     "schema_version": 3,
     "solution": false,
     "task": false
    }
   },
   "source": [
    "#### Q4 [5 points]. Create a numpy array `arr4` with elements 1,3,5,7,9,11 (in the same order)\n",
    "#### Now create a new array `arr41` whose elements are twice the value of each element in `arr4` at the same index respectively. \n"
   ]
  },
  {
   "cell_type": "code",
   "execution_count": 9,
   "id": "earlier-chaos",
   "metadata": {
    "nbgrader": {
     "grade": false,
     "grade_id": "q4-sol",
     "locked": false,
     "schema_version": 3,
     "solution": true,
     "task": false
    }
   },
   "outputs": [],
   "source": [
    "\n",
    "### BEGIN SOLUTION\n",
    "\n",
    "arr4=np.array([1,3,5,7,9,11])\n",
    "arr41 = (2*arr4)\n",
    "\n",
    "### END SOLUTION\n"
   ]
  },
  {
   "cell_type": "code",
   "execution_count": 10,
   "id": "unlike-vessel",
   "metadata": {
    "nbgrader": {
     "grade": true,
     "grade_id": "6",
     "locked": true,
     "points": 4,
     "schema_version": 3,
     "solution": false,
     "task": false
    }
   },
   "outputs": [],
   "source": [
    "#Test cell-6 [4 pts]\n",
    "#DO NOT MODIFY/DELETE THIS CELL \n",
    "\n",
    "assert isinstance(arr4, np.ndarray)\n",
    "assert arr4[2] == 5\n",
    "assert arr41[2] == 10\n",
    "assert arr41[1] == 6\n"
   ]
  },
  {
   "cell_type": "code",
   "execution_count": 11,
   "id": "alike-pension",
   "metadata": {
    "nbgrader": {
     "grade": true,
     "grade_id": "7",
     "locked": true,
     "points": 1,
     "schema_version": 3,
     "solution": false,
     "task": false
    }
   },
   "outputs": [],
   "source": [
    "#Test cell-7 [1 pts]\n",
    "#DO NOT MODIFY/DELETE THIS CELL \n",
    "\n",
    "### BEGIN HIDDEN TESTS\n",
    "assert arr4[4] == 9\n",
    "assert arr41[4] == 18\n",
    "### END HIDDEN TESTS"
   ]
  },
  {
   "cell_type": "markdown",
   "id": "sized-brief",
   "metadata": {
    "nbgrader": {
     "grade": false,
     "grade_id": "q5-desc",
     "locked": true,
     "schema_version": 3,
     "solution": false,
     "task": false
    }
   },
   "source": [
    "#### Q5 [10 points]. Return the sum of absolute values of elements that occur maximum number of times and minimum number of times in a numpy array. \n",
    "- abs() is a function used to return absolute values of a given number. For example, abs(-3) = 3 and abs(3) = 3 \n",
    "- if there are two (or more) elements occuring with same frequency and are occurring maximum number of times, choose the element that is smaller in value\n",
    "- if there are two (or more) elements occuring with same frequency and are occurring minimum number of times, choose the element that is smaller in value\n"
   ]
  },
  {
   "cell_type": "code",
   "execution_count": 12,
   "id": "bibliographic-stephen",
   "metadata": {
    "nbgrader": {
     "grade": false,
     "grade_id": "q5-sol",
     "locked": false,
     "schema_version": 3,
     "solution": true,
     "task": false
    }
   },
   "outputs": [],
   "source": [
    "\n",
    "def SumMinMax(arr5):\n",
    "    \"\"\"Returns the difference between \n",
    "    element that occurs maximum number of times and element that occurs minimum number of times\n",
    "    \"\"\"\n",
    "    ### BEGIN SOLUTION\n",
    "    elm4 = abs(np.bincount(arr5).argmax())\n",
    "    elm5 = abs(np.bincount(arr5).argmin())\n",
    "    return((elm4+elm5))\n",
    "    ### END SOLUTION\n",
    "\n",
    "\n"
   ]
  },
  {
   "cell_type": "code",
   "execution_count": 13,
   "id": "requested-lying",
   "metadata": {
    "nbgrader": {
     "grade": true,
     "grade_id": "8",
     "locked": true,
     "points": 10,
     "schema_version": 3,
     "solution": false,
     "task": false
    }
   },
   "outputs": [],
   "source": [
    "#Test cell-8 [10 pts]\n",
    "#DO NOT MODIFY/DELETE THIS CELL \n",
    "\n",
    "arr3=np.array([1,0,1,0,2,1])\n",
    "assert SumMinMax(arr3)==3\n",
    "\n",
    "arr3=np.array([0])\n",
    "assert SumMinMax(arr3)==0\n",
    "\n",
    "arr3=np.array([1,2,3,1,2,3,1,1,0,0,4])\n",
    "assert SumMinMax(arr3)==5\n",
    "\n",
    "arr3=np.array([1,2,3,0])\n",
    "assert SumMinMax(arr3)==0"
   ]
  },
  {
   "cell_type": "code",
   "execution_count": 14,
   "id": "helpful-mexican",
   "metadata": {
    "nbgrader": {
     "grade": false,
     "grade_id": "runthis",
     "locked": true,
     "schema_version": 3,
     "solution": false,
     "task": false
    }
   },
   "outputs": [
    {
     "data": {
      "text/plain": [
       "'Make sure you run this cell before executing the cells below'"
      ]
     },
     "execution_count": 14,
     "metadata": {},
     "output_type": "execute_result"
    }
   ],
   "source": [
    "import pandas as pd\n",
    "\n",
    "'''Make sure you run this cell before executing the cells below'''"
   ]
  },
  {
   "cell_type": "markdown",
   "id": "tamil-coach",
   "metadata": {
    "nbgrader": {
     "grade": false,
     "grade_id": "q6-desc",
     "locked": true,
     "schema_version": 3,
     "solution": false,
     "task": false
    }
   },
   "source": [
    "#### Q6 [5 points]. Please follow the instructions very carefully \n",
    "- Create a list `l6` and assign values 1, 2, 3, 4, 5, 6 to this list in the same order as listed here.\n",
    "- Use `l6` to create a series `S6` with a default index\n"
   ]
  },
  {
   "cell_type": "code",
   "execution_count": 15,
   "id": "flying-bangkok",
   "metadata": {
    "nbgrader": {
     "grade": false,
     "grade_id": "q6-sol",
     "locked": false,
     "schema_version": 3,
     "solution": true,
     "task": false
    }
   },
   "outputs": [],
   "source": [
    "\n",
    " ### BEGIN SOLUTION\n",
    "\n",
    "l6=[1,2,3,4,5, 6]\n",
    "S6=pd.Series(l6)\n",
    "\n",
    " ### END SOLUTION"
   ]
  },
  {
   "cell_type": "code",
   "execution_count": 16,
   "id": "owned-delta",
   "metadata": {
    "nbgrader": {
     "grade": true,
     "grade_id": "9",
     "locked": true,
     "points": 3,
     "schema_version": 3,
     "solution": false,
     "task": false
    }
   },
   "outputs": [],
   "source": [
    "#Test cell-9 [3 pts]\n",
    "#DO NOT MODIFY/DELETE THIS CELL \n",
    "\n",
    "assert len(l6)==6\n",
    "assert max(l6)==6\n",
    "assert S6[3]==4\n"
   ]
  },
  {
   "cell_type": "code",
   "execution_count": 17,
   "id": "essential-legislation",
   "metadata": {
    "nbgrader": {
     "grade": true,
     "grade_id": "10",
     "locked": true,
     "points": 2,
     "schema_version": 3,
     "solution": false,
     "task": false
    }
   },
   "outputs": [],
   "source": [
    "#Test cell-10 [2 pts]\n",
    "#DO NOT MODIFY/DELETE THIS CELL \n",
    "\n",
    "### BEGIN HIDDEN TESTS\n",
    "assert sum(l6)==21\n",
    "assert list(S6.index)==[0, 1, 2, 3, 4, 5]\n",
    "### END HIDDEN TESTS"
   ]
  },
  {
   "cell_type": "markdown",
   "id": "champion-match",
   "metadata": {
    "nbgrader": {
     "grade": false,
     "grade_id": "q7-desc",
     "locked": true,
     "schema_version": 3,
     "solution": false,
     "task": false
    }
   },
   "source": [
    "#### Q7 [10 points]. This function takes a list `l7` as an input and creates 2 more lists (`l71` and `l72`) by manipulating `l7` as follows\n",
    "-  l71 -- copy l7 into l71 and add the 1st element of l7 to the end of l71\n",
    "- l72 -- copy l71 into l72 and add the mean value of l71 to the end of l72\n",
    "- Now use `l7`, `l71` and `l72` to create a data frame `df` with corresponding column names as `first`, `second` and `third`\n",
    "- return this dataframe `df`"
   ]
  },
  {
   "cell_type": "code",
   "execution_count": 18,
   "id": "narrow-clark",
   "metadata": {
    "nbgrader": {
     "grade": false,
     "grade_id": "q7-sol",
     "locked": false,
     "schema_version": 3,
     "solution": true,
     "task": false
    }
   },
   "outputs": [],
   "source": [
    "\n",
    "def createDF(l7):\n",
    "    \"\"\"Returns the dataframe that is built using an original list\n",
    "    \"\"\"\n",
    "    ### BEGIN SOLUTION\n",
    "    l71=list(l7)\n",
    "    l71.append(l7[0])\n",
    "    l72=list(l71)\n",
    "    l72.append(sum(l71)/len(l71))\n",
    "    data = {'first':pd.Series(l7), 'second':pd.Series(l71), 'third':pd.Series(l72)}\n",
    "    df = pd.DataFrame(data)\n",
    "    return(df)\n",
    "    ### END SOLUTION\n"
   ]
  },
  {
   "cell_type": "code",
   "execution_count": 19,
   "id": "prerequisite-eagle",
   "metadata": {
    "nbgrader": {
     "grade": true,
     "grade_id": "11",
     "locked": true,
     "points": 5,
     "schema_version": 3,
     "solution": false,
     "task": false
    }
   },
   "outputs": [],
   "source": [
    "#Test cell-11 [5 pts]\n",
    "#DO NOT MODIFY/DELETE THIS CELL \n",
    "\n",
    "'''case-1'''\n",
    "list7=[2,4,6,8]\n",
    "assert list(createDF(list7)['second'])[:5]==[2.0,4.0,6.0,8.0,2.0]\n",
    "\n",
    "'''case-2'''\n",
    "list7=[2,4,6,8]\n",
    "assert list(createDF(list7)['first'])[:4]==[2,4,6,8]\n"
   ]
  },
  {
   "cell_type": "code",
   "execution_count": 20,
   "id": "perfect-paintball",
   "metadata": {
    "nbgrader": {
     "grade": true,
     "grade_id": "12",
     "locked": true,
     "points": 5,
     "schema_version": 3,
     "solution": false,
     "task": false
    }
   },
   "outputs": [],
   "source": [
    "#Test cell-12 [5 pts]\n",
    "#DO NOT MODIFY/DELETE THIS CELL \n",
    "\n",
    "### BEGIN HIDDEN TESTS\n",
    "'''case-3'''\n",
    "list7=[2,4,6,8]\n",
    "assert createDF(list7).isnull().sum().sum()==3\n",
    "\n",
    "'''case-4'''\n",
    "list7=[2,4,6,8]\n",
    "assert list(createDF(list7)['third'])[:6]==[2,4,6,8,2,4.4]\n",
    "### END HIDDEN TESTS"
   ]
  },
  {
   "cell_type": "markdown",
   "id": "favorite-throat",
   "metadata": {
    "nbgrader": {
     "grade": false,
     "grade_id": "q8-desc",
     "locked": true,
     "schema_version": 3,
     "solution": false,
     "task": false
    }
   },
   "source": [
    "#### Q8 [10 points]. Read the .csv file from this url and load it into dataframe 'df'\n",
    "- Using pandas dataframe operations, output the total number of rows with `survived`==1 and `gender` is `female` as `var81`.\n",
    "- Using pandas dataframe operations, output the total number of rows with `survived`==1 and `gender` is `male` as  `var82`. \n"
   ]
  },
  {
   "cell_type": "code",
   "execution_count": 21,
   "id": "permanent-pearl",
   "metadata": {
    "nbgrader": {
     "grade": false,
     "grade_id": "q8-sol",
     "locked": false,
     "schema_version": 3,
     "solution": true,
     "task": false
    }
   },
   "outputs": [],
   "source": [
    "\n",
    "url='https://raw.githubusercontent.com/lmanikon/lmanikon.github.io/master/teaching/datasets/titanic.csv'\n",
    "### BEGIN SOLUTION\n",
    "df = pd.read_csv(url)\n",
    "\n",
    "var81=len(df.loc[(df['survived']==1) & (df['gender']=='female')])\n",
    "var82=len(df.loc[(df['survived']==1) & (df['gender']=='male')])\n",
    "\n",
    "### END SOLUTION"
   ]
  },
  {
   "cell_type": "code",
   "execution_count": 22,
   "id": "fallen-chrome",
   "metadata": {
    "nbgrader": {
     "grade": true,
     "grade_id": "13",
     "locked": true,
     "points": 6,
     "schema_version": 3,
     "solution": false,
     "task": false
    }
   },
   "outputs": [],
   "source": [
    "#Test cell-13 [6 pts]\n",
    "#DO NOT MODIFY/DELETE THIS CELL \n",
    "\n",
    "assert df['age'].sum()==21205.17\n",
    "assert df.isnull().sum().sum()==869\n",
    "assert var82==109\n"
   ]
  },
  {
   "cell_type": "code",
   "execution_count": 23,
   "id": "hollywood-apache",
   "metadata": {
    "nbgrader": {
     "grade": true,
     "grade_id": "14",
     "locked": true,
     "points": 4,
     "schema_version": 3,
     "solution": false,
     "task": false
    }
   },
   "outputs": [],
   "source": [
    "#Test cell-14 [4 pts]\n",
    "#DO NOT MODIFY/DELETE THIS CELL \n",
    "### BEGIN HIDDEN TESTS\n",
    "assert var81==233\n",
    "assert len(df.columns)==15\n",
    "### END HIDDEN TESTS"
   ]
  },
  {
   "cell_type": "markdown",
   "id": "crude-analysis",
   "metadata": {
    "nbgrader": {
     "grade": false,
     "grade_id": "q9-desc",
     "locked": true,
     "schema_version": 3,
     "solution": false,
     "task": false
    }
   },
   "source": [
    "#### Q9 [10 points]. Read the .csv file from this url and load it into dataframe `df`\n",
    "#### Using groupby operation over `embark_town` and `gender`, \n",
    "- assign `var9` as the total number of people survived (`survived` is 1), where they embarked (`embark_town`) at `Southampton` and are female (`gender` is `female`). \n"
   ]
  },
  {
   "cell_type": "code",
   "execution_count": 24,
   "id": "introductory-phrase",
   "metadata": {
    "nbgrader": {
     "grade": false,
     "grade_id": "q9-sol",
     "locked": false,
     "schema_version": 3,
     "solution": true,
     "task": false
    }
   },
   "outputs": [],
   "source": [
    "\n",
    "url='https://raw.githubusercontent.com/lmanikon/lmanikon.github.io/master/teaching/datasets/titanic.csv'\n",
    "### BEGIN SOLUTION\n",
    "df = pd.read_csv(url)\n",
    "\n",
    "gpd=df.groupby(['embark_town', 'gender'])\n",
    "var9 = (gpd.get_group(('Southampton','female')).loc[df['survived']==1]['survived'].count())\n",
    "\n",
    "### END SOLUTION"
   ]
  },
  {
   "cell_type": "code",
   "execution_count": 25,
   "id": "confused-editor",
   "metadata": {
    "nbgrader": {
     "grade": true,
     "grade_id": "15",
     "locked": true,
     "points": 10,
     "schema_version": 3,
     "solution": false,
     "task": false
    }
   },
   "outputs": [],
   "source": [
    "#Test cell-15 [10 pts]\n",
    "#DO NOT MODIFY/DELETE THIS CELL \n",
    "\n",
    "assert df['age'].sum()==21205.17\n",
    "assert df.isnull().sum().sum()==869\n",
    "assert len(df.columns)==15\n",
    "assert var9==140"
   ]
  }
 ],
 "metadata": {
  "celltoolbar": "Create Assignment",
  "kernelspec": {
   "display_name": "Python 3 (ipykernel)",
   "language": "python",
   "name": "python3"
  },
  "language_info": {
   "codemirror_mode": {
    "name": "ipython",
    "version": 3
   },
   "file_extension": ".py",
   "mimetype": "text/x-python",
   "name": "python",
   "nbconvert_exporter": "python",
   "pygments_lexer": "ipython3",
   "version": "3.9.13"
  }
 },
 "nbformat": 4,
 "nbformat_minor": 5
}
