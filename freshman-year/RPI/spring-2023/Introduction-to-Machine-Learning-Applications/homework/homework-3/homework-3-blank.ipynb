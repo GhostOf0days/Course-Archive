{
 "cells": [
  {
   "cell_type": "markdown",
   "id": "specific-virginia",
   "metadata": {
    "deletable": false,
    "editable": false,
    "nbgrader": {
     "cell_type": "markdown",
     "checksum": "14772dc6a2f1b5ca3430735d1231a2f8",
     "grade": false,
     "grade_id": "Desc",
     "locked": true,
     "schema_version": 3,
     "solution": false,
     "task": false
    }
   },
   "source": [
    "#### Homework-3\n",
    "##### Total number of points: 60\n",
    "#### Due date: February 14, 2023\n",
    "\n",
    "Before you submit this homework, make sure everything runs as expected. First, restart the kernel (in the menu, select Kernel → Restart) and then run all cells (in the menubar, select Cell → Run All). You can discuss with others regarding the homework but all work must be your own.\n",
    "\n",
    "This homework will test your knowledge on data manipulation, manipulating strings and feature preprocessing. The Python notebooks shared will be helpful to solve these problems.  \n",
    "\n",
    "Steps to evaluate your solutions:\n",
    "\n",
    "Step-1: Try on Colab or Anaconda (Windows: https://docs.anaconda.com/anaconda/install/windows/ ; Mac:https://docs.anaconda.com/anaconda/install/mac-os/ ; Linux: https://docs.anaconda.com/anaconda/install/linux/)\n",
    "\n",
    "Step-2: Open the Jupyter Notebook by first launching the anaconda software console\n",
    "\n",
    "Step-3: Open the homework's .ipynb file and write your solutions at the appropriate location \"# YOUR CODE HERE\"\n",
    "\n",
    "Step-4: You can restart the kernel and click run all (in the menubar, select Cell → Run All) on the center-right on the top of this window.\n",
    "\n",
    "Step-5: Now go to \"File\" then click on \"Download as\" then click on \"Notebook (.ipynb)\" Please DO NOT change the file name and just keep it as \".ipynb\"\n",
    "\n",
    "Step-6: Go to lms.rpi.edu and upload your homework at the appropriate link to submit this homework.\n",
    "\n",
    "\n",
    "#### Please note that for any question in this assignment you will receive points ONLY if your solution passes all the test cases including hidden testcases as well. So please make sure you try to think all possible scenarios before submitting your answers.  \n",
    "- Note that hidden tests are present to ensure you are not hardcoding. \n",
    "- If caught cheating: \n",
    "    - you will receive a score of 0 for the 1st violation. \n",
    "    - for repeated incidents, you will receive an automatic 'F' grade and will be reported to the dean of Lally School of Management. "
   ]
  },
  {
   "cell_type": "markdown",
   "id": "seventh-leader",
   "metadata": {
    "deletable": false,
    "editable": false,
    "nbgrader": {
     "cell_type": "markdown",
     "checksum": "c6e63505683387f779c92a5de321b692",
     "grade": false,
     "grade_id": "Data",
     "locked": true,
     "schema_version": 3,
     "solution": false,
     "task": false
    }
   },
   "source": [
    "Use the titanic dataset from this url ('https://raw.githubusercontent.com/lmanikon/lmanikon.github.io/master/teaching/datasets/titanictrain.csv') and we will use the same dataset in some of the questions here below. "
   ]
  },
  {
   "cell_type": "markdown",
   "id": "remarkable-course",
   "metadata": {
    "deletable": false,
    "editable": false,
    "nbgrader": {
     "cell_type": "markdown",
     "checksum": "99efc8a888a2db46b2bc979a49556ac2",
     "grade": false,
     "grade_id": "Q1-desc",
     "locked": true,
     "schema_version": 3,
     "solution": false,
     "task": false
    }
   },
   "source": [
    "#### Q1. Shape of a Data Frame. \n",
    "1. Import pandas package as pd.\n",
    "2. Read the file from the `url` and load the data into dataframe `df` with default index.\n",
    "3. Set number of rows equal to the variable `rows` and the number of columns equal to the variable `cols`. \n",
    "4. Print out the number of rows and columns, clearly labeling each.\n",
    "\n"
   ]
  },
  {
   "cell_type": "code",
   "execution_count": null,
   "id": "micro-mexican",
   "metadata": {
    "deletable": false,
    "nbgrader": {
     "cell_type": "code",
     "checksum": "bc6b4ddce0c9bfb5503baf6c25719e49",
     "grade": false,
     "grade_id": "Q1-Sol",
     "locked": false,
     "schema_version": 3,
     "solution": true,
     "task": false
    }
   },
   "outputs": [],
   "source": [
    "\n",
    "url='https://raw.githubusercontent.com/lmanikon/lmanikon.github.io/master/teaching/datasets/titanictrain.csv'\n",
    "\n",
    "# YOUR CODE HERE\n",
    "raise NotImplementedError()"
   ]
  },
  {
   "cell_type": "code",
   "execution_count": null,
   "id": "selective-billy",
   "metadata": {
    "deletable": false,
    "editable": false,
    "nbgrader": {
     "cell_type": "code",
     "checksum": "5d4d073ca65b46e082c2a9b8bddbab17",
     "grade": true,
     "grade_id": "1",
     "locked": true,
     "points": 3,
     "schema_version": 3,
     "solution": false,
     "task": false
    }
   },
   "outputs": [],
   "source": [
    "#[C1] DO NOT MODIFY/DELETE THIS CELL\n",
    "assert rows==891\n",
    "assert df['Age'].sum()==21205.17\n"
   ]
  },
  {
   "cell_type": "code",
   "execution_count": null,
   "id": "dutch-doctrine",
   "metadata": {
    "deletable": false,
    "editable": false,
    "nbgrader": {
     "cell_type": "code",
     "checksum": "8d3ecf2e9f65f32f38fac2a5d0f13634",
     "grade": true,
     "grade_id": "2",
     "locked": true,
     "points": 3,
     "schema_version": 3,
     "solution": false,
     "task": false
    }
   },
   "outputs": [],
   "source": [
    "#[C2]DO NOT MODIFY/DELETE THIS CELL"
   ]
  },
  {
   "cell_type": "markdown",
   "id": "acoustic-journalist",
   "metadata": {
    "deletable": false,
    "editable": false,
    "nbgrader": {
     "cell_type": "markdown",
     "checksum": "3006bf399e0f9c55958119a56e723cf8",
     "grade": false,
     "grade_id": "Q2-description",
     "locked": true,
     "schema_version": 3,
     "solution": false,
     "task": false
    }
   },
   "source": [
    "Now we will be using the above dataframe df to do some preprocessing operations on this data. All the required libraries for further processing will be loaded here. "
   ]
  },
  {
   "cell_type": "code",
   "execution_count": null,
   "id": "empirical-drawing",
   "metadata": {
    "deletable": false,
    "editable": false,
    "nbgrader": {
     "cell_type": "code",
     "checksum": "2fe00aa97f6aca123609835d6f518a83",
     "grade": false,
     "grade_id": "packages",
     "locked": true,
     "schema_version": 3,
     "solution": false,
     "task": false
    }
   },
   "outputs": [],
   "source": [
    "import numpy as np\n",
    "import pandas as pd\n",
    "import re\n",
    "from sklearn.model_selection import train_test_split"
   ]
  },
  {
   "cell_type": "markdown",
   "id": "entire-morgan",
   "metadata": {
    "deletable": false,
    "editable": false,
    "nbgrader": {
     "cell_type": "markdown",
     "checksum": "14aa614a5b1e1db5a05d19f4f83066d9",
     "grade": false,
     "grade_id": "Q2-desc",
     "locked": true,
     "schema_version": 3,
     "solution": false,
     "task": false
    }
   },
   "source": [
    "#### Q2. Dataframe Basic Analyses\n",
    "Determine how many first, second, and third class (assiging to the variables `class1`, `class2`, `class3`) passangers there are. \n",
    "\n",
    "*Hint -- Use value_counts operation* \n",
    "\n"
   ]
  },
  {
   "cell_type": "code",
   "execution_count": null,
   "id": "relevant-announcement",
   "metadata": {
    "deletable": false,
    "nbgrader": {
     "cell_type": "code",
     "checksum": "ba20fc800112bf3b8d69fcee307c0bb2",
     "grade": false,
     "grade_id": "Q2-sol",
     "locked": false,
     "schema_version": 3,
     "solution": true,
     "task": false
    }
   },
   "outputs": [],
   "source": [
    "#Your answer here. \n",
    "\n",
    "# YOUR CODE HERE\n",
    "raise NotImplementedError()\n"
   ]
  },
  {
   "cell_type": "code",
   "execution_count": null,
   "id": "restricted-government",
   "metadata": {
    "deletable": false,
    "editable": false,
    "nbgrader": {
     "cell_type": "code",
     "checksum": "c980c5ae5b6a6e79e5bc8d7253ffa8e2",
     "grade": true,
     "grade_id": "3",
     "locked": true,
     "points": 3,
     "schema_version": 3,
     "solution": false,
     "task": false
    }
   },
   "outputs": [],
   "source": [
    "#[C3] DO NOT MODIFY/DELETE THIS CELL\n",
    "assert class1>0\n",
    "assert class2>0\n",
    "assert class3>0\n",
    "\n"
   ]
  },
  {
   "cell_type": "code",
   "execution_count": null,
   "id": "incomplete-sussex",
   "metadata": {
    "deletable": false,
    "editable": false,
    "nbgrader": {
     "cell_type": "code",
     "checksum": "46074e54c53e2fc73ce313ce6324ceac",
     "grade": true,
     "grade_id": "4",
     "locked": true,
     "points": 3,
     "schema_version": 3,
     "solution": false,
     "task": false
    }
   },
   "outputs": [],
   "source": [
    "#[C4] DO NOT MODIFY/DELETE THIS CELL"
   ]
  },
  {
   "cell_type": "markdown",
   "id": "christian-slope",
   "metadata": {
    "deletable": false,
    "editable": false,
    "nbgrader": {
     "cell_type": "markdown",
     "checksum": "3f400ab9d8cb1922384f55a079395785",
     "grade": false,
     "grade_id": "Q3-desc",
     "locked": true,
     "schema_version": 3,
     "solution": false,
     "task": false
    }
   },
   "source": [
    "#### Q3. Groupby\n",
    "\n",
    "Now use a groupby statement to calculate the mean age (use the 'age' attribute) of passengers who are of different gender. \n",
    "\n",
    "Round the age to 2 decimal places (for example 3.14156 converts to 3.14 ) and assign the resulting variable to `female_age`, `male_age`.\n",
    "\n"
   ]
  },
  {
   "cell_type": "code",
   "execution_count": null,
   "id": "korean-prototype",
   "metadata": {
    "deletable": false,
    "nbgrader": {
     "cell_type": "code",
     "checksum": "89c832c4ad3b3b002f59b751719c36dd",
     "grade": false,
     "grade_id": "Q3-Sol",
     "locked": false,
     "schema_version": 3,
     "solution": true,
     "task": false
    }
   },
   "outputs": [],
   "source": [
    "#Your answer \n",
    "\n",
    "# YOUR CODE HERE\n",
    "raise NotImplementedError()"
   ]
  },
  {
   "cell_type": "code",
   "execution_count": null,
   "id": "nearby-friendly",
   "metadata": {
    "deletable": false,
    "editable": false,
    "nbgrader": {
     "cell_type": "code",
     "checksum": "0db5892de52b7647d82545c296fdcc1d",
     "grade": true,
     "grade_id": "5",
     "locked": true,
     "points": 3,
     "schema_version": 3,
     "solution": false,
     "task": false
    }
   },
   "outputs": [],
   "source": [
    "# [C5]DO NOT MODIFY/DELETE THIS CELL\n",
    "assert female_age>0\n",
    "assert isinstance(female_age, np.floating)\n",
    "assert male_age>0 \n",
    "assert isinstance(male_age, np.floating)\n",
    "\n"
   ]
  },
  {
   "cell_type": "code",
   "execution_count": null,
   "id": "agricultural-security",
   "metadata": {
    "deletable": false,
    "editable": false,
    "nbgrader": {
     "cell_type": "code",
     "checksum": "381e3dbc016ba5ee5e3a0490dc48a826",
     "grade": true,
     "grade_id": "6",
     "locked": true,
     "points": 3,
     "schema_version": 3,
     "solution": false,
     "task": false
    }
   },
   "outputs": [],
   "source": [
    "# [C6]DO NOT MODIFY/DELETE THIS CELL"
   ]
  },
  {
   "cell_type": "markdown",
   "id": "subjective-punishment",
   "metadata": {
    "deletable": false,
    "editable": false,
    "nbgrader": {
     "cell_type": "markdown",
     "checksum": "d1b053c13d9bd3730230de0e4f6ab0ae",
     "grade": false,
     "grade_id": "Q4-desc",
     "locked": true,
     "schema_version": 3,
     "solution": false,
     "task": false
    }
   },
   "source": [
    "#### Q4. Split Dataframe\n",
    "\n",
    "Now split the dataframe `df` into 3 different dataframes `dfclass1`, `dfclass2`, and `dfclass3` using the `Pclass` variable. \n",
    "\n"
   ]
  },
  {
   "cell_type": "code",
   "execution_count": null,
   "id": "junior-onion",
   "metadata": {
    "deletable": false,
    "nbgrader": {
     "cell_type": "code",
     "checksum": "74560c1f8b105779530ed52526f79889",
     "grade": false,
     "grade_id": "Q4-sol",
     "locked": false,
     "schema_version": 3,
     "solution": true,
     "task": false
    }
   },
   "outputs": [],
   "source": [
    "#Your answer\n",
    "\n",
    "# YOUR CODE HERE\n",
    "raise NotImplementedError()\n"
   ]
  },
  {
   "cell_type": "code",
   "execution_count": null,
   "id": "magnetic-thumb",
   "metadata": {
    "deletable": false,
    "editable": false,
    "nbgrader": {
     "cell_type": "code",
     "checksum": "bc85a50464d7a9253b9ebbb892f74953",
     "grade": true,
     "grade_id": "7",
     "locked": true,
     "points": 2,
     "schema_version": 3,
     "solution": false,
     "task": false
    }
   },
   "outputs": [],
   "source": [
    "#[C7]DO NOT MODIFY/DELETE THIS CELL\n",
    "assert len(dfclass1)>0\n",
    "assert len(dfclass2)>0\n",
    "assert len(dfclass3)>0\n",
    "assert isinstance(dfclass1, pd.DataFrame)\n",
    "assert isinstance(dfclass2, pd.DataFrame)\n",
    "assert isinstance(dfclass3, pd.DataFrame)\n"
   ]
  },
  {
   "cell_type": "code",
   "execution_count": null,
   "id": "speaking-combining",
   "metadata": {
    "deletable": false,
    "editable": false,
    "nbgrader": {
     "cell_type": "code",
     "checksum": "29c663f72b6403a98ecd2408f31744da",
     "grade": true,
     "grade_id": "8",
     "locked": true,
     "points": 2,
     "schema_version": 3,
     "solution": false,
     "task": false
    }
   },
   "outputs": [],
   "source": [
    "#[C8]DO NOT MODIFY/DELETE THIS CELL"
   ]
  },
  {
   "cell_type": "code",
   "execution_count": null,
   "id": "material-salmon",
   "metadata": {
    "deletable": false,
    "editable": false,
    "nbgrader": {
     "cell_type": "code",
     "checksum": "0017ba1cda0d39945a40190861d60efa",
     "grade": true,
     "grade_id": "9",
     "locked": true,
     "points": 2,
     "schema_version": 3,
     "solution": false,
     "task": false
    }
   },
   "outputs": [],
   "source": [
    "#[C9]DO NOT MODIFY/DELETE THIS CELL"
   ]
  },
  {
   "cell_type": "code",
   "execution_count": null,
   "id": "knowing-abortion",
   "metadata": {
    "deletable": false,
    "editable": false,
    "nbgrader": {
     "cell_type": "code",
     "checksum": "d7dd564a98f15fadcd2409e9e18d5b1f",
     "grade": true,
     "grade_id": "10",
     "locked": true,
     "points": 2,
     "schema_version": 3,
     "solution": false,
     "task": false
    }
   },
   "outputs": [],
   "source": [
    "#[C10]DO NOT MODIFY/DELETE THIS CELL"
   ]
  },
  {
   "cell_type": "markdown",
   "id": "smoking-marine",
   "metadata": {
    "deletable": false,
    "editable": false,
    "nbgrader": {
     "cell_type": "markdown",
     "checksum": "0922d11139ca9f8d02a5c12c9cb171a6",
     "grade": false,
     "grade_id": "Q5-Desc",
     "locked": true,
     "schema_version": 3,
     "solution": false,
     "task": false
    }
   },
   "source": [
    "#### Q5. Filter Missing Values\n",
    "\n",
    "Create a new dataframe `dfna1` from `df` which removes all rows in which *any* of the variables missing.\n",
    "\n",
    "Create a new dataframe `dfna2` from `df` which removes all rows in which *all* of the variables columns `Age` and `Cabin`."
   ]
  },
  {
   "cell_type": "code",
   "execution_count": null,
   "id": "affected-wyoming",
   "metadata": {
    "deletable": false,
    "nbgrader": {
     "cell_type": "code",
     "checksum": "bbe911f53cb2741fd86cb8e548943206",
     "grade": false,
     "grade_id": "Q5-Sol",
     "locked": false,
     "schema_version": 3,
     "solution": true,
     "task": false
    }
   },
   "outputs": [],
   "source": [
    "\n",
    "# YOUR CODE HERE\n",
    "raise NotImplementedError()\n"
   ]
  },
  {
   "cell_type": "code",
   "execution_count": null,
   "id": "confident-visitor",
   "metadata": {
    "deletable": false,
    "editable": false,
    "nbgrader": {
     "cell_type": "code",
     "checksum": "a2dfd0f968d5226b72d593fc20be9411",
     "grade": true,
     "grade_id": "11",
     "locked": true,
     "points": 2,
     "schema_version": 3,
     "solution": false,
     "task": false
    }
   },
   "outputs": [],
   "source": [
    "#[C11]DO NOT MODIFY/DELETE THIS CELL\n",
    "assert len(dfna1)>0\n",
    "assert len(dfna2)>0\n",
    "assert isinstance(dfna1, pd.DataFrame)\n",
    "assert isinstance(dfna2, pd.DataFrame)"
   ]
  },
  {
   "cell_type": "code",
   "execution_count": null,
   "id": "distinct-medium",
   "metadata": {
    "deletable": false,
    "editable": false,
    "nbgrader": {
     "cell_type": "code",
     "checksum": "7597cc170249f63505ddb70af7616c25",
     "grade": true,
     "grade_id": "12",
     "locked": true,
     "points": 2,
     "schema_version": 3,
     "solution": false,
     "task": false
    }
   },
   "outputs": [],
   "source": [
    "#[C12]DO NOT MODIFY/DELETE THIS CELL"
   ]
  },
  {
   "cell_type": "code",
   "execution_count": null,
   "id": "sought-lafayette",
   "metadata": {
    "deletable": false,
    "editable": false,
    "nbgrader": {
     "cell_type": "code",
     "checksum": "0254436ac71e49e8673ad3fced256a6b",
     "grade": true,
     "grade_id": "13",
     "locked": true,
     "points": 2,
     "schema_version": 3,
     "solution": false,
     "task": false
    }
   },
   "outputs": [],
   "source": [
    "#[C13]DO NOT MODIFY/DELETE THIS CELL"
   ]
  },
  {
   "cell_type": "markdown",
   "id": "resistant-catch",
   "metadata": {
    "deletable": false,
    "editable": false,
    "nbgrader": {
     "cell_type": "markdown",
     "checksum": "036134675e512fdfec5ccf5e9526e450",
     "grade": false,
     "grade_id": "Q6-desc",
     "locked": true,
     "schema_version": 3,
     "solution": false,
     "task": false
    }
   },
   "source": [
    "#### Q6. Stratified sampling \n",
    "\n",
    "Utilize the original dataframe 'df'.  \n",
    "\n",
    "1. Set the `y` variable to the `Survived` column.\n",
    "2. Set X to the `SibSp`,`Parch`, and `Fare` columns of the dataframe. \n",
    "3. Create `train_X`, `test_X`, `train_y`, `test_y` by doing a 50% 50% split with stratification by the `Survived` varaible. Use `random_state` equal to 123. \n"
   ]
  },
  {
   "cell_type": "code",
   "execution_count": null,
   "id": "existing-uganda",
   "metadata": {
    "deletable": false,
    "nbgrader": {
     "cell_type": "code",
     "checksum": "f8bfc1cf5e207ed83ccfab525eaadb01",
     "grade": false,
     "grade_id": "Q6-sol",
     "locked": false,
     "schema_version": 3,
     "solution": true,
     "task": false
    }
   },
   "outputs": [],
   "source": [
    "#Your answer\n",
    "\n",
    "# YOUR CODE HERE\n",
    "raise NotImplementedError()"
   ]
  },
  {
   "cell_type": "code",
   "execution_count": null,
   "id": "cultural-professional",
   "metadata": {
    "deletable": false,
    "editable": false,
    "nbgrader": {
     "cell_type": "code",
     "checksum": "7888c40c17d1297d6ccff946d5fddf6f",
     "grade": true,
     "grade_id": "14",
     "locked": true,
     "points": 2,
     "schema_version": 3,
     "solution": false,
     "task": false
    }
   },
   "outputs": [],
   "source": [
    "#[C14]DO NOT MODIFY/DELETE THIS CELL\n",
    "assert len(train_X)>0\n",
    "assert len(test_X)>0\n",
    "assert isinstance(train_X, pd.DataFrame)\n",
    "assert isinstance(test_X, pd.DataFrame)\n",
    "assert isinstance(train_y, pd.Series)\n",
    "assert isinstance(test_y, pd.Series)"
   ]
  },
  {
   "cell_type": "code",
   "execution_count": null,
   "id": "aging-database",
   "metadata": {
    "deletable": false,
    "editable": false,
    "nbgrader": {
     "cell_type": "code",
     "checksum": "e1b9a204d228bfc562af298f74a43402",
     "grade": true,
     "grade_id": "15",
     "locked": true,
     "points": 2,
     "schema_version": 3,
     "solution": false,
     "task": false
    }
   },
   "outputs": [],
   "source": [
    "#[C15]DO NOT MODIFY/DELETE THIS CELL"
   ]
  },
  {
   "cell_type": "code",
   "execution_count": null,
   "id": "aerial-oklahoma",
   "metadata": {
    "deletable": false,
    "editable": false,
    "nbgrader": {
     "cell_type": "code",
     "checksum": "ec85e7dc982c65bf4e54af25dbf48850",
     "grade": true,
     "grade_id": "16",
     "locked": true,
     "points": 2,
     "schema_version": 3,
     "solution": false,
     "task": false
    }
   },
   "outputs": [],
   "source": [
    "#[C16]DO NOT MODIFY/DELETE THIS CELL"
   ]
  },
  {
   "cell_type": "code",
   "execution_count": null,
   "id": "dietary-fisher",
   "metadata": {
    "deletable": false,
    "editable": false,
    "nbgrader": {
     "cell_type": "code",
     "checksum": "920974f992425a273642bac507d14b52",
     "grade": true,
     "grade_id": "17",
     "locked": true,
     "points": 2,
     "schema_version": 3,
     "solution": false,
     "task": false
    }
   },
   "outputs": [],
   "source": [
    "#[C17]DO NOT MODIFY/DELETE THIS CELL"
   ]
  },
  {
   "cell_type": "markdown",
   "id": "animated-reason",
   "metadata": {
    "deletable": false,
    "editable": false,
    "nbgrader": {
     "cell_type": "markdown",
     "checksum": "3984f7ea592ca576c6866f5f156f8a77",
     "grade": false,
     "grade_id": "Q7-desc",
     "locked": true,
     "schema_version": 3,
     "solution": false,
     "task": false
    }
   },
   "source": [
    "#### Q7.  Feature Manipulation\n",
    "1. Consider the original dataframe `df`. Create a copy of this and call it `dfage`.\n",
    "2. Remove all the rows of `dfage` in which the `Age` value is missing. \n",
    "3. Then create a new column `dfage['Age_st']` which replaces each value in the 'age' attribute with the corresponding standardized value *rounded to 2 decimal places*. You are not modifying `dfage['Age']`.\n",
    "\n",
    "\n",
    "*Hint: See this for definition of standardization value in Lecture-8 slides You can use numpy library to compute mean and standard deviation values -- np.mean() and np.std() functions to compute the mean and standard deviation values.*"
   ]
  },
  {
   "cell_type": "code",
   "execution_count": null,
   "id": "diagnostic-translator",
   "metadata": {
    "deletable": false,
    "nbgrader": {
     "cell_type": "code",
     "checksum": "4b6311d3f48caeaf3871f9d1ed34f842",
     "grade": false,
     "grade_id": "Q7-sol",
     "locked": false,
     "schema_version": 3,
     "solution": true,
     "task": false
    }
   },
   "outputs": [],
   "source": [
    "\n",
    "# YOUR CODE HERE\n",
    "raise NotImplementedError()"
   ]
  },
  {
   "cell_type": "code",
   "execution_count": null,
   "id": "accepting-steal",
   "metadata": {
    "deletable": false,
    "editable": false,
    "nbgrader": {
     "cell_type": "code",
     "checksum": "10f701ecc8d0b3cc41faf553f7fafcf5",
     "grade": true,
     "grade_id": "18",
     "locked": true,
     "points": 4,
     "schema_version": 3,
     "solution": false,
     "task": false
    }
   },
   "outputs": [],
   "source": [
    "#[C18]DO NOT MODIFY/DELETE THIS CELL\n",
    "assert len(dfage)>0\n",
    "assert isinstance(dfage, pd.DataFrame)\n",
    "assert 'Age_st' in dfage.columns\n",
    "\n"
   ]
  },
  {
   "cell_type": "code",
   "execution_count": null,
   "id": "ecological-intention",
   "metadata": {
    "deletable": false,
    "editable": false,
    "nbgrader": {
     "cell_type": "code",
     "checksum": "0c991294e0dc656a0708623d446760d3",
     "grade": true,
     "grade_id": "19",
     "locked": true,
     "points": 2,
     "schema_version": 3,
     "solution": false,
     "task": false
    }
   },
   "outputs": [],
   "source": [
    "#[C19]DO NOT MODIFY/DELETE THIS CELL"
   ]
  },
  {
   "cell_type": "code",
   "execution_count": null,
   "id": "designed-stomach",
   "metadata": {
    "deletable": false,
    "editable": false,
    "nbgrader": {
     "cell_type": "code",
     "checksum": "1e6048ed561ef6b73d6febea53453104",
     "grade": true,
     "grade_id": "20",
     "locked": true,
     "points": 2,
     "schema_version": 3,
     "solution": false,
     "task": false
    }
   },
   "outputs": [],
   "source": [
    "#[C20]DO NOT MODIFY/DELETE THIS CELL"
   ]
  },
  {
   "cell_type": "code",
   "execution_count": null,
   "id": "rising-thailand",
   "metadata": {
    "deletable": false,
    "editable": false,
    "nbgrader": {
     "cell_type": "code",
     "checksum": "31bf24f64a3a20e885553f06fc145f84",
     "grade": true,
     "grade_id": "21",
     "locked": true,
     "points": 2,
     "schema_version": 3,
     "solution": false,
     "task": false
    }
   },
   "outputs": [],
   "source": [
    "#[C21]DO NOT MODIFY/DELETE THIS CELL"
   ]
  },
  {
   "cell_type": "markdown",
   "id": "deadly-malpractice",
   "metadata": {
    "deletable": false,
    "editable": false,
    "nbgrader": {
     "cell_type": "markdown",
     "checksum": "f479d756d385312da61ed69f135c0252",
     "grade": false,
     "grade_id": "Q8-desc",
     "locked": true,
     "schema_version": 3,
     "solution": false,
     "task": false
    }
   },
   "source": [
    "#### Q8. Feature Creation \n",
    "1. Create a copy of df called `df8`.\n",
    "2. In `df8` create a feature called `stown` using `Embarked`.  \n",
    "\n",
    "    For the `Embarked` is 'S' make `stown` 1. \n",
    "    \n",
    "    Otherwise `stown` is 0."
   ]
  },
  {
   "cell_type": "code",
   "execution_count": null,
   "id": "informed-ladder",
   "metadata": {
    "deletable": false,
    "nbgrader": {
     "cell_type": "code",
     "checksum": "bd99eab27e75f642257261c545559204",
     "grade": false,
     "grade_id": "Q8-sol",
     "locked": false,
     "schema_version": 3,
     "solution": true,
     "task": false
    }
   },
   "outputs": [],
   "source": [
    "\n",
    "# YOUR CODE HERE\n",
    "raise NotImplementedError()"
   ]
  },
  {
   "cell_type": "code",
   "execution_count": null,
   "id": "informative-bandwidth",
   "metadata": {
    "deletable": false,
    "editable": false,
    "nbgrader": {
     "cell_type": "code",
     "checksum": "d9918f9ca2dffa900d9f35484f1d83ea",
     "grade": true,
     "grade_id": "22",
     "locked": true,
     "points": 3,
     "schema_version": 3,
     "solution": false,
     "task": false
    }
   },
   "outputs": [],
   "source": [
    "#[C22]DO NOT MODIFY/DELETE THIS CELL\n",
    "assert set(df8['stown'])=={0,1}\n",
    "assert df8.shape==(891, 13)\n"
   ]
  },
  {
   "cell_type": "code",
   "execution_count": null,
   "id": "narrow-suspect",
   "metadata": {
    "deletable": false,
    "editable": false,
    "nbgrader": {
     "cell_type": "code",
     "checksum": "1eff7119000730d2afe11a9374b95e99",
     "grade": true,
     "grade_id": "23",
     "locked": true,
     "points": 3,
     "schema_version": 3,
     "solution": false,
     "task": false
    }
   },
   "outputs": [],
   "source": [
    "#[C23]DO NOT MODIFY/DELETE THIS CELL"
   ]
  },
  {
   "cell_type": "markdown",
   "id": "seventh-heath",
   "metadata": {
    "deletable": false,
    "editable": false,
    "nbgrader": {
     "cell_type": "markdown",
     "checksum": "5a4e9267b29947ade3cde38075e6de91",
     "grade": false,
     "grade_id": "Q9-desc",
     "locked": true,
     "schema_version": 3,
     "solution": false,
     "task": false
    }
   },
   "source": [
    "#### Q9. Attribute Manipulation -- categorical to numerical \n",
    "1. Create a copy of df called `df9`.\n",
    "2. In `df9` create a feature called `gendervar` using feature `Sex`.  \n",
    "\n",
    "    If the value in `Sex` is `Male` convert it to 0. \n",
    "    \n",
    "    Otherwise `Female` to 1."
   ]
  },
  {
   "cell_type": "code",
   "execution_count": null,
   "id": "breathing-nicholas",
   "metadata": {
    "deletable": false,
    "nbgrader": {
     "cell_type": "code",
     "checksum": "fcd345ce8b466c615ae5f3ec55faaa4d",
     "grade": false,
     "grade_id": "Q9-Sol",
     "locked": false,
     "schema_version": 3,
     "solution": true,
     "task": false
    }
   },
   "outputs": [],
   "source": [
    "# Attribute manipulation\n",
    "\n",
    "# YOUR CODE HERE\n",
    "raise NotImplementedError()"
   ]
  },
  {
   "cell_type": "code",
   "execution_count": null,
   "id": "floppy-productivity",
   "metadata": {
    "deletable": false,
    "editable": false,
    "nbgrader": {
     "cell_type": "code",
     "checksum": "bee0318c78a9d020b56da9c01a39077b",
     "grade": true,
     "grade_id": "24",
     "locked": true,
     "points": 2,
     "schema_version": 3,
     "solution": false,
     "task": false
    }
   },
   "outputs": [],
   "source": [
    "##[C24]DO NOT MODIFY/DELETE THIS CELL\n",
    "assert set(df9['gendervar'])=={0,1}"
   ]
  },
  {
   "cell_type": "code",
   "execution_count": null,
   "id": "unsigned-heating",
   "metadata": {
    "deletable": false,
    "editable": false,
    "nbgrader": {
     "cell_type": "code",
     "checksum": "d98fc0d05382282db4e274d477561faa",
     "grade": true,
     "grade_id": "25",
     "locked": true,
     "points": 2,
     "schema_version": 3,
     "solution": false,
     "task": false
    }
   },
   "outputs": [],
   "source": [
    "#[C25]DO NOT MODIFY/DELETE THIS CELL"
   ]
  }
 ],
 "metadata": {
  "kernelspec": {
   "display_name": "Python 3",
   "language": "python",
   "name": "python3"
  },
  "language_info": {
   "codemirror_mode": {
    "name": "ipython",
    "version": 3
   },
   "file_extension": ".py",
   "mimetype": "text/x-python",
   "name": "python",
   "nbconvert_exporter": "python",
   "pygments_lexer": "ipython3",
   "version": "3.6.9"
  }
 },
 "nbformat": 4,
 "nbformat_minor": 5
}
