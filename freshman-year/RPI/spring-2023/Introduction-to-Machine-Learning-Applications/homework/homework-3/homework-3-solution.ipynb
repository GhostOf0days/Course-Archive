{
 "cells": [
  {
   "cell_type": "markdown",
   "id": "specific-virginia",
   "metadata": {
    "nbgrader": {
     "grade": false,
     "grade_id": "Desc",
     "locked": true,
     "schema_version": 3,
     "solution": false,
     "task": false
    }
   },
   "source": [
    "#### Homework-3\n",
    "##### Total number of points: 60\n",
    "#### Due date: February 14, 2023\n",
    "\n",
    "Before you submit this homework, make sure everything runs as expected. First, restart the kernel (in the menu, select Kernel → Restart) and then run all cells (in the menubar, select Cell → Run All). You can discuss with others regarding the homework but all work must be your own.\n",
    "\n",
    "This homework will test your knowledge on data manipulation, manipulating strings and feature preprocessing. The Python notebooks shared will be helpful to solve these problems.  \n",
    "\n",
    "Steps to evaluate your solutions:\n",
    "\n",
    "Step-1: Try on Colab or Anaconda (Windows: https://docs.anaconda.com/anaconda/install/windows/ ; Mac:https://docs.anaconda.com/anaconda/install/mac-os/ ; Linux: https://docs.anaconda.com/anaconda/install/linux/)\n",
    "\n",
    "Step-2: Open the Jupyter Notebook by first launching the anaconda software console\n",
    "\n",
    "Step-3: Open the homework's .ipynb file and write your solutions at the appropriate location \"# YOUR CODE HERE\"\n",
    "\n",
    "Step-4: You can restart the kernel and click run all (in the menubar, select Cell → Run All) on the center-right on the top of this window.\n",
    "\n",
    "Step-5: Now go to \"File\" then click on \"Download as\" then click on \"Notebook (.ipynb)\" Please DO NOT change the file name and just keep it as \".ipynb\"\n",
    "\n",
    "Step-6: Go to lms.rpi.edu and upload your homework at the appropriate link to submit this homework.\n",
    "\n",
    "\n",
    "#### Please note that for any question in this assignment you will receive points ONLY if your solution passes all the test cases including hidden testcases as well. So please make sure you try to think all possible scenarios before submitting your answers.  \n",
    "- Note that hidden tests are present to ensure you are not hardcoding. \n",
    "- If caught cheating: \n",
    "    - you will receive a score of 0 for the 1st violation. \n",
    "    - for repeated incidents, you will receive an automatic 'F' grade and will be reported to the dean of Lally School of Management. "
   ]
  },
  {
   "cell_type": "markdown",
   "id": "seventh-leader",
   "metadata": {
    "nbgrader": {
     "grade": false,
     "grade_id": "Data",
     "locked": true,
     "schema_version": 3,
     "solution": false,
     "task": false
    }
   },
   "source": [
    "Use the titanic dataset from this url ('https://raw.githubusercontent.com/lmanikon/lmanikon.github.io/master/teaching/datasets/titanictrain.csv') and we will use the same dataset in some of the questions here below. "
   ]
  },
  {
   "cell_type": "markdown",
   "id": "remarkable-course",
   "metadata": {
    "nbgrader": {
     "grade": false,
     "grade_id": "Q1-desc",
     "locked": true,
     "schema_version": 3,
     "solution": false,
     "task": false
    }
   },
   "source": [
    "#### Q1. Shape of a Data Frame. \n",
    "1. Import pandas package as pd.\n",
    "2. Read the file from the `url` and load the data into dataframe `df` with default index.\n",
    "3. Set number of rows equal to the variable `rows` and the number of columns equal to the variable `cols`. \n",
    "4. Print out the number of rows and columns, clearly labeling each.\n",
    "\n"
   ]
  },
  {
   "cell_type": "code",
   "execution_count": 1,
   "id": "micro-mexican",
   "metadata": {
    "nbgrader": {
     "grade": false,
     "grade_id": "Q1-Sol",
     "locked": false,
     "schema_version": 3,
     "solution": true,
     "task": false
    }
   },
   "outputs": [],
   "source": [
    "\n",
    "url='https://raw.githubusercontent.com/lmanikon/lmanikon.github.io/master/teaching/datasets/titanictrain.csv'\n",
    "\n",
    "### BEGIN SOLUTION\n",
    "import pandas as pd\n",
    "df = pd.read_csv(url)\n",
    "rows=df.shape[0]\n",
    "cols=df.shape[1]\n",
    "cols1=len(df.iloc[1,:])\n",
    "### END SOLUTION"
   ]
  },
  {
   "cell_type": "code",
   "execution_count": 2,
   "id": "selective-billy",
   "metadata": {
    "nbgrader": {
     "grade": true,
     "grade_id": "1",
     "locked": true,
     "points": 3,
     "schema_version": 3,
     "solution": false,
     "task": false
    }
   },
   "outputs": [],
   "source": [
    "#[C1] DO NOT MODIFY/DELETE THIS CELL\n",
    "assert rows==891\n",
    "assert df['Age'].sum()==21205.17\n"
   ]
  },
  {
   "cell_type": "code",
   "execution_count": 3,
   "id": "dutch-doctrine",
   "metadata": {
    "nbgrader": {
     "grade": true,
     "grade_id": "2",
     "locked": true,
     "points": 3,
     "schema_version": 3,
     "solution": false,
     "task": false
    }
   },
   "outputs": [],
   "source": [
    "#[C2]DO NOT MODIFY/DELETE THIS CELL\n",
    "### BEGIN HIDDEN TESTS\n",
    "assert cols==12\n",
    "assert df.isnull().sum().sum()==866\n",
    "### END HIDDEN TESTS"
   ]
  },
  {
   "cell_type": "markdown",
   "id": "acoustic-journalist",
   "metadata": {
    "nbgrader": {
     "grade": false,
     "grade_id": "Q2-description",
     "locked": true,
     "schema_version": 3,
     "solution": false,
     "task": false
    }
   },
   "source": [
    "Now we will be using the above dataframe df to do some preprocessing operations on this data. All the required libraries for further processing will be loaded here. "
   ]
  },
  {
   "cell_type": "code",
   "execution_count": 4,
   "id": "empirical-drawing",
   "metadata": {
    "nbgrader": {
     "grade": false,
     "grade_id": "packages",
     "locked": true,
     "schema_version": 3,
     "solution": false,
     "task": false
    }
   },
   "outputs": [],
   "source": [
    "import numpy as np\n",
    "import pandas as pd\n",
    "import re\n",
    "from sklearn.model_selection import train_test_split"
   ]
  },
  {
   "cell_type": "markdown",
   "id": "entire-morgan",
   "metadata": {
    "nbgrader": {
     "grade": false,
     "grade_id": "Q2-desc",
     "locked": true,
     "schema_version": 3,
     "solution": false,
     "task": false
    }
   },
   "source": [
    "#### Q2. Dataframe Basic Analyses\n",
    "Determine how many first, second, and third class (assiging to the variables `class1`, `class2`, `class3`) passangers there are. \n",
    "\n",
    "*Hint -- Use value_counts operation* \n",
    "\n"
   ]
  },
  {
   "cell_type": "code",
   "execution_count": 5,
   "id": "relevant-announcement",
   "metadata": {
    "nbgrader": {
     "grade": false,
     "grade_id": "Q2-sol",
     "locked": false,
     "schema_version": 3,
     "solution": true,
     "task": false
    }
   },
   "outputs": [],
   "source": [
    "#Your answer here. \n",
    "\n",
    "### BEGIN SOLUTION\n",
    "class1 = df['Pclass'].value_counts()[1]\n",
    "class2 = df['Pclass'].value_counts()[2]\n",
    "class3 = df['Pclass'].value_counts()[3]\n",
    "#print(ggby)\n",
    "### END SOLUTION\n"
   ]
  },
  {
   "cell_type": "code",
   "execution_count": 6,
   "id": "restricted-government",
   "metadata": {
    "nbgrader": {
     "grade": true,
     "grade_id": "3",
     "locked": true,
     "points": 3,
     "schema_version": 3,
     "solution": false,
     "task": false
    }
   },
   "outputs": [],
   "source": [
    "#[C3] DO NOT MODIFY/DELETE THIS CELL\n",
    "assert class1>0\n",
    "assert class2>0\n",
    "assert class3>0\n",
    "\n"
   ]
  },
  {
   "cell_type": "code",
   "execution_count": 7,
   "id": "incomplete-sussex",
   "metadata": {
    "nbgrader": {
     "grade": true,
     "grade_id": "4",
     "locked": true,
     "points": 3,
     "schema_version": 3,
     "solution": false,
     "task": false
    }
   },
   "outputs": [],
   "source": [
    "#[C4] DO NOT MODIFY/DELETE THIS CELL\n",
    "### BEGIN HIDDEN TESTS\n",
    "assert class1==216\n",
    "assert class2==184\n",
    "assert class3==491\n",
    "### END HIDDEN TESTS"
   ]
  },
  {
   "cell_type": "markdown",
   "id": "christian-slope",
   "metadata": {
    "nbgrader": {
     "grade": false,
     "grade_id": "Q3-desc",
     "locked": true,
     "schema_version": 3,
     "solution": false,
     "task": false
    }
   },
   "source": [
    "#### Q3. Groupby\n",
    "\n",
    "Now use a groupby statement to calculate the mean age (use the 'age' attribute) of passengers who are of different gender. \n",
    "\n",
    "Round the age to 2 decimal places (for example 3.14156 converts to 3.14 ) and assign the resulting variable to `female_age`, `male_age`.\n",
    "\n"
   ]
  },
  {
   "cell_type": "code",
   "execution_count": 8,
   "id": "korean-prototype",
   "metadata": {
    "nbgrader": {
     "grade": false,
     "grade_id": "Q3-Sol",
     "locked": false,
     "schema_version": 3,
     "solution": true,
     "task": false
    }
   },
   "outputs": [],
   "source": [
    "#Your answer \n",
    "\n",
    "### BEGIN SOLUTION\n",
    "female_age = round(df.groupby(['Sex']).Age.mean()['female'], 2)\n",
    "male_age = round(df.groupby(['Sex']).Age.mean()['male'], 2)\n",
    "\n",
    "\n",
    "### END SOLUTION"
   ]
  },
  {
   "cell_type": "code",
   "execution_count": 9,
   "id": "nearby-friendly",
   "metadata": {
    "nbgrader": {
     "grade": true,
     "grade_id": "5",
     "locked": true,
     "points": 3,
     "schema_version": 3,
     "solution": false,
     "task": false
    }
   },
   "outputs": [],
   "source": [
    "# [C5]DO NOT MODIFY/DELETE THIS CELL\n",
    "assert female_age>0\n",
    "assert isinstance(female_age, np.floating)\n",
    "assert male_age>0 \n",
    "assert isinstance(male_age, np.floating)\n",
    "\n"
   ]
  },
  {
   "cell_type": "code",
   "execution_count": 10,
   "id": "agricultural-security",
   "metadata": {
    "nbgrader": {
     "grade": true,
     "grade_id": "6",
     "locked": true,
     "points": 3,
     "schema_version": 3,
     "solution": false,
     "task": false
    }
   },
   "outputs": [],
   "source": [
    "# [C6]DO NOT MODIFY/DELETE THIS CELL\n",
    "### BEGIN HIDDEN TESTS\n",
    "assert female_age==27.92\n",
    "assert male_age==30.73\n",
    "### END HIDDEN TESTS"
   ]
  },
  {
   "cell_type": "markdown",
   "id": "subjective-punishment",
   "metadata": {
    "nbgrader": {
     "grade": false,
     "grade_id": "Q4-desc",
     "locked": true,
     "schema_version": 3,
     "solution": false,
     "task": false
    }
   },
   "source": [
    "#### Q4. Split Dataframe\n",
    "\n",
    "Now split the dataframe `df` into 3 different dataframes `dfclass1`, `dfclass2`, and `dfclass3` using the `Pclass` variable. \n",
    "\n"
   ]
  },
  {
   "cell_type": "code",
   "execution_count": 11,
   "id": "junior-onion",
   "metadata": {
    "nbgrader": {
     "grade": false,
     "grade_id": "Q4-sol",
     "locked": false,
     "schema_version": 3,
     "solution": true,
     "task": false
    }
   },
   "outputs": [],
   "source": [
    "#Your answer\n",
    "\n",
    "### BEGIN SOLUTION\n",
    "dfclass1 = df.loc[df['Pclass']==1,:]\n",
    "dfclass2 = df.loc[df['Pclass']==2,:]\n",
    "dfclass3 = df.loc[df['Pclass']==3,:]\n",
    "\n",
    "### END SOLUTION\n"
   ]
  },
  {
   "cell_type": "code",
   "execution_count": 12,
   "id": "magnetic-thumb",
   "metadata": {
    "nbgrader": {
     "grade": true,
     "grade_id": "7",
     "locked": true,
     "points": 2,
     "schema_version": 3,
     "solution": false,
     "task": false
    }
   },
   "outputs": [],
   "source": [
    "#[C7]DO NOT MODIFY/DELETE THIS CELL\n",
    "assert len(dfclass1)>0\n",
    "assert len(dfclass2)>0\n",
    "assert len(dfclass3)>0\n",
    "assert isinstance(dfclass1, pd.DataFrame)\n",
    "assert isinstance(dfclass2, pd.DataFrame)\n",
    "assert isinstance(dfclass3, pd.DataFrame)\n"
   ]
  },
  {
   "cell_type": "code",
   "execution_count": 13,
   "id": "speaking-combining",
   "metadata": {
    "nbgrader": {
     "grade": true,
     "grade_id": "8",
     "locked": true,
     "points": 2,
     "schema_version": 3,
     "solution": false,
     "task": false
    }
   },
   "outputs": [],
   "source": [
    "#[C8]DO NOT MODIFY/DELETE THIS CELL\n",
    "### BEGIN HIDDEN TESTS\n",
    "assert dfclass1.shape[0]==216\n",
    "### END HIDDEN TESTS"
   ]
  },
  {
   "cell_type": "code",
   "execution_count": 14,
   "id": "material-salmon",
   "metadata": {
    "nbgrader": {
     "grade": true,
     "grade_id": "9",
     "locked": true,
     "points": 2,
     "schema_version": 3,
     "solution": false,
     "task": false
    }
   },
   "outputs": [],
   "source": [
    "#[C9]DO NOT MODIFY/DELETE THIS CELL\n",
    "### BEGIN HIDDEN TESTS\n",
    "assert dfclass2.shape[0]==184\n",
    "### END HIDDEN TESTS"
   ]
  },
  {
   "cell_type": "code",
   "execution_count": 15,
   "id": "knowing-abortion",
   "metadata": {
    "nbgrader": {
     "grade": true,
     "grade_id": "10",
     "locked": true,
     "points": 2,
     "schema_version": 3,
     "solution": false,
     "task": false
    }
   },
   "outputs": [],
   "source": [
    "#[C10]DO NOT MODIFY/DELETE THIS CELL\n",
    "### BEGIN HIDDEN TESTS\n",
    "assert dfclass3.shape[0]==491\n",
    "### END HIDDEN TESTS"
   ]
  },
  {
   "cell_type": "markdown",
   "id": "smoking-marine",
   "metadata": {
    "nbgrader": {
     "grade": false,
     "grade_id": "Q5-Desc",
     "locked": true,
     "schema_version": 3,
     "solution": false,
     "task": false
    }
   },
   "source": [
    "#### Q5. Filter Missing Values\n",
    "\n",
    "Create a new dataframe `dfna1` from `df` which removes all rows in which *any* of the variables missing.\n",
    "\n",
    "Create a new dataframe `dfna2` from `df` which removes all rows in which *all* of the variables columns `Age` and `Cabin`."
   ]
  },
  {
   "cell_type": "code",
   "execution_count": 16,
   "id": "affected-wyoming",
   "metadata": {
    "nbgrader": {
     "grade": false,
     "grade_id": "Q5-Sol",
     "locked": false,
     "schema_version": 3,
     "solution": true,
     "task": false
    }
   },
   "outputs": [],
   "source": [
    "\n",
    "### BEGIN SOLUTION\n",
    "dfna1 = df.dropna()\n",
    "dfna2 = df.dropna(how='all',subset=['Age','Cabin'])\n",
    "### END SOLUTION\n"
   ]
  },
  {
   "cell_type": "code",
   "execution_count": 17,
   "id": "confident-visitor",
   "metadata": {
    "nbgrader": {
     "grade": true,
     "grade_id": "11",
     "locked": true,
     "points": 2,
     "schema_version": 3,
     "solution": false,
     "task": false
    }
   },
   "outputs": [],
   "source": [
    "#[C11]DO NOT MODIFY/DELETE THIS CELL\n",
    "assert len(dfna1)>0\n",
    "assert len(dfna2)>0\n",
    "assert isinstance(dfna1, pd.DataFrame)\n",
    "assert isinstance(dfna2, pd.DataFrame)"
   ]
  },
  {
   "cell_type": "code",
   "execution_count": 18,
   "id": "distinct-medium",
   "metadata": {
    "nbgrader": {
     "grade": true,
     "grade_id": "12",
     "locked": true,
     "points": 2,
     "schema_version": 3,
     "solution": false,
     "task": false
    }
   },
   "outputs": [],
   "source": [
    "#[C12]DO NOT MODIFY/DELETE THIS CELL\n",
    "### BEGIN HIDDEN TESTS\n",
    "assert dfna1.shape[0]==183\n",
    "### END HIDDEN TESTS"
   ]
  },
  {
   "cell_type": "code",
   "execution_count": 19,
   "id": "sought-lafayette",
   "metadata": {
    "nbgrader": {
     "grade": true,
     "grade_id": "13",
     "locked": true,
     "points": 2,
     "schema_version": 3,
     "solution": false,
     "task": false
    }
   },
   "outputs": [],
   "source": [
    "#[C13]DO NOT MODIFY/DELETE THIS CELL\n",
    "### BEGIN HIDDEN TESTS\n",
    "assert dfna2.shape[0]==733\n",
    "### END HIDDEN TESTS"
   ]
  },
  {
   "cell_type": "markdown",
   "id": "resistant-catch",
   "metadata": {
    "nbgrader": {
     "grade": false,
     "grade_id": "Q6-desc",
     "locked": true,
     "schema_version": 3,
     "solution": false,
     "task": false
    }
   },
   "source": [
    "#### Q6. Stratified sampling \n",
    "\n",
    "Utilize the original dataframe 'df'.  \n",
    "\n",
    "1. Set the `y` variable to the `Survived` column.\n",
    "2. Set X to the `SibSp`,`Parch`, and `Fare` columns of the dataframe. \n",
    "3. Create `train_X`, `test_X`, `train_y`, `test_y` by doing a 50% 50% split with stratification by the `Survived` varaible. Use `random_state` equal to 123. \n"
   ]
  },
  {
   "cell_type": "code",
   "execution_count": 20,
   "id": "existing-uganda",
   "metadata": {
    "nbgrader": {
     "grade": false,
     "grade_id": "Q6-sol",
     "locked": false,
     "schema_version": 3,
     "solution": true,
     "task": false
    }
   },
   "outputs": [],
   "source": [
    "#Your answer\n",
    "\n",
    "### BEGIN SOLUTION\n",
    "y=df['Survived']\n",
    "X=df[['SibSp','Parch','Fare']]\n",
    "train_X, test_X, train_y, test_y = train_test_split(X, y, train_size=0.5,test_size=0.5,random_state=123,stratify=y)\n",
    "### END SOLUTION"
   ]
  },
  {
   "cell_type": "code",
   "execution_count": 21,
   "id": "cultural-professional",
   "metadata": {
    "nbgrader": {
     "grade": true,
     "grade_id": "14",
     "locked": true,
     "points": 2,
     "schema_version": 3,
     "solution": false,
     "task": false
    }
   },
   "outputs": [],
   "source": [
    "#[C14]DO NOT MODIFY/DELETE THIS CELL\n",
    "assert len(train_X)>0\n",
    "assert len(test_X)>0\n",
    "assert isinstance(train_X, pd.DataFrame)\n",
    "assert isinstance(test_X, pd.DataFrame)\n",
    "assert isinstance(train_y, pd.Series)\n",
    "assert isinstance(test_y, pd.Series)"
   ]
  },
  {
   "cell_type": "code",
   "execution_count": 22,
   "id": "aging-database",
   "metadata": {
    "nbgrader": {
     "grade": true,
     "grade_id": "15",
     "locked": true,
     "points": 2,
     "schema_version": 3,
     "solution": false,
     "task": false
    }
   },
   "outputs": [],
   "source": [
    "#[C15]DO NOT MODIFY/DELETE THIS CELL\n",
    "### BEGIN HIDDEN TESTS\n",
    "assert train_X.shape[0]==445\n",
    "### END HIDDEN TESTS"
   ]
  },
  {
   "cell_type": "code",
   "execution_count": 23,
   "id": "aerial-oklahoma",
   "metadata": {
    "nbgrader": {
     "grade": true,
     "grade_id": "16",
     "locked": true,
     "points": 2,
     "schema_version": 3,
     "solution": false,
     "task": false
    }
   },
   "outputs": [],
   "source": [
    "#[C16]DO NOT MODIFY/DELETE THIS CELL\n",
    "### BEGIN HIDDEN TESTS\n",
    "assert train_y.sum()==171\n",
    "### END HIDDEN TESTS"
   ]
  },
  {
   "cell_type": "code",
   "execution_count": 24,
   "id": "dietary-fisher",
   "metadata": {
    "nbgrader": {
     "grade": true,
     "grade_id": "17",
     "locked": true,
     "points": 2,
     "schema_version": 3,
     "solution": false,
     "task": false
    }
   },
   "outputs": [],
   "source": [
    "#[C17]DO NOT MODIFY/DELETE THIS CELL\n",
    "### BEGIN HIDDEN TESTS\n",
    "assert test_y.sum()==171\n",
    "### END HIDDEN TESTS"
   ]
  },
  {
   "cell_type": "markdown",
   "id": "animated-reason",
   "metadata": {
    "nbgrader": {
     "grade": false,
     "grade_id": "Q7-desc",
     "locked": true,
     "schema_version": 3,
     "solution": false,
     "task": false
    }
   },
   "source": [
    "#### Q7.  Feature Manipulation\n",
    "1. Consider the original dataframe `df`. Create a copy of this and call it `dfage`.\n",
    "2. Remove all the rows of `dfage` in which the `Age` value is missing. \n",
    "3. Then create a new column `dfage['Age_st']` which replaces each value in the 'age' attribute with the corresponding standardized value *rounded to 2 decimal places*. You are not modifying `dfage['Age']`.\n",
    "\n",
    "\n",
    "*Hint: See this for definition of standardization value in Lecture-8 slides You can use numpy library to compute mean and standard deviation values -- np.mean() and np.std() functions to compute the mean and standard deviation values.*"
   ]
  },
  {
   "cell_type": "code",
   "execution_count": 25,
   "id": "diagnostic-translator",
   "metadata": {
    "nbgrader": {
     "grade": false,
     "grade_id": "Q7-sol",
     "locked": false,
     "schema_version": 3,
     "solution": true,
     "task": false
    }
   },
   "outputs": [],
   "source": [
    "\n",
    "### BEGIN SOLUTION\n",
    "dfage=df.copy()\n",
    "dfage = dfage.loc[df['Age'].notna(),]\n",
    "meanval = np.mean(dfage['Age'])\n",
    "stdval=np.std(dfage['Age'])\n",
    "dfage['Age_st'] = dfage['Age'].apply(lambda x:round((x-meanval)/stdval,2))\n",
    "### END SOLUTION"
   ]
  },
  {
   "cell_type": "code",
   "execution_count": 26,
   "id": "accepting-steal",
   "metadata": {
    "nbgrader": {
     "grade": true,
     "grade_id": "18",
     "locked": true,
     "points": 4,
     "schema_version": 3,
     "solution": false,
     "task": false
    }
   },
   "outputs": [],
   "source": [
    "#[C18]DO NOT MODIFY/DELETE THIS CELL\n",
    "assert len(dfage)>0\n",
    "assert isinstance(dfage, pd.DataFrame)\n",
    "assert 'Age_st' in dfage.columns\n",
    "\n"
   ]
  },
  {
   "cell_type": "code",
   "execution_count": 27,
   "id": "ecological-intention",
   "metadata": {
    "nbgrader": {
     "grade": true,
     "grade_id": "19",
     "locked": true,
     "points": 2,
     "schema_version": 3,
     "solution": false,
     "task": false
    }
   },
   "outputs": [],
   "source": [
    "#[C19]DO NOT MODIFY/DELETE THIS CELL\n",
    "### BEGIN HIDDEN TESTS\n",
    "assert dfage['Age_st'][3]==0.37\n",
    "### END HIDDEN TESTS"
   ]
  },
  {
   "cell_type": "code",
   "execution_count": 28,
   "id": "designed-stomach",
   "metadata": {
    "nbgrader": {
     "grade": true,
     "grade_id": "20",
     "locked": true,
     "points": 2,
     "schema_version": 3,
     "solution": false,
     "task": false
    }
   },
   "outputs": [],
   "source": [
    "#[C20]DO NOT MODIFY/DELETE THIS CELL\n",
    "### BEGIN HIDDEN TESTS\n",
    "assert len(dfage)==714\n",
    "### END HIDDEN TESTS"
   ]
  },
  {
   "cell_type": "code",
   "execution_count": 29,
   "id": "rising-thailand",
   "metadata": {
    "nbgrader": {
     "grade": true,
     "grade_id": "21",
     "locked": true,
     "points": 2,
     "schema_version": 3,
     "solution": false,
     "task": false
    }
   },
   "outputs": [],
   "source": [
    "#[C21]DO NOT MODIFY/DELETE THIS CELL\n",
    "### BEGIN HIDDEN TESTS\n",
    "assert round(dfage['Age_st'].sum(),2)==0.14\n",
    "### END HIDDEN TESTS"
   ]
  },
  {
   "cell_type": "markdown",
   "id": "deadly-malpractice",
   "metadata": {
    "nbgrader": {
     "grade": false,
     "grade_id": "Q8-desc",
     "locked": true,
     "schema_version": 3,
     "solution": false,
     "task": false
    }
   },
   "source": [
    "#### Q8. Feature Creation \n",
    "1. Create a copy of df called `df8`.\n",
    "2. In `df8` create a feature called `stown` using `Embarked`.  \n",
    "\n",
    "    For the `Embarked` is 'S' make `stown` 1. \n",
    "    \n",
    "    Otherwise `stown` is 0."
   ]
  },
  {
   "cell_type": "code",
   "execution_count": 30,
   "id": "informed-ladder",
   "metadata": {
    "nbgrader": {
     "grade": false,
     "grade_id": "Q8-sol",
     "locked": false,
     "schema_version": 3,
     "solution": true,
     "task": false
    }
   },
   "outputs": [],
   "source": [
    "\n",
    "### BEGIN SOLUTION\n",
    "df8=df.copy()\n",
    "df8['stown']=0\n",
    "df8.loc[df['Embarked']=='S','stown']=1\n",
    "### END SOLUTION"
   ]
  },
  {
   "cell_type": "code",
   "execution_count": 31,
   "id": "informative-bandwidth",
   "metadata": {
    "nbgrader": {
     "grade": true,
     "grade_id": "22",
     "locked": true,
     "points": 3,
     "schema_version": 3,
     "solution": false,
     "task": false
    }
   },
   "outputs": [],
   "source": [
    "#[C22]DO NOT MODIFY/DELETE THIS CELL\n",
    "assert set(df8['stown'])=={0,1}\n",
    "assert df8.shape==(891, 13)\n"
   ]
  },
  {
   "cell_type": "code",
   "execution_count": 32,
   "id": "narrow-suspect",
   "metadata": {
    "nbgrader": {
     "grade": true,
     "grade_id": "23",
     "locked": true,
     "points": 3,
     "schema_version": 3,
     "solution": false,
     "task": false
    }
   },
   "outputs": [],
   "source": [
    "#[C23]DO NOT MODIFY/DELETE THIS CELL\n",
    "### BEGIN HIDDEN TESTS\n",
    "assert df8['stown'].sum()==644\n",
    "### END HIDDEN TESTS"
   ]
  },
  {
   "cell_type": "markdown",
   "id": "seventh-heath",
   "metadata": {
    "nbgrader": {
     "grade": false,
     "grade_id": "Q9-desc",
     "locked": true,
     "schema_version": 3,
     "solution": false,
     "task": false
    }
   },
   "source": [
    "#### Q9. Attribute Manipulation -- categorical to numerical \n",
    "1. Create a copy of df called `df9`.\n",
    "2. In `df9` create a feature called `gendervar` using feature `Sex`.  \n",
    "\n",
    "    If the value in `Sex` is `Male` convert it to 0. \n",
    "    \n",
    "    Otherwise `Female` to 1."
   ]
  },
  {
   "cell_type": "code",
   "execution_count": 33,
   "id": "breathing-nicholas",
   "metadata": {
    "nbgrader": {
     "grade": false,
     "grade_id": "Q9-Sol",
     "locked": false,
     "schema_version": 3,
     "solution": true,
     "task": false
    }
   },
   "outputs": [],
   "source": [
    "# Attribute manipulation\n",
    "\n",
    "### BEGIN SOLUTION\n",
    "df9=df.copy()\n",
    "df9['gendervar']=df9['Sex'].map({'male':0, 'female':1})\n",
    "#print(set(df9['gendervar']))\n",
    "#print((df9['gendervar']).sum())\n",
    "### END SOLUTION"
   ]
  },
  {
   "cell_type": "code",
   "execution_count": 34,
   "id": "floppy-productivity",
   "metadata": {
    "nbgrader": {
     "grade": true,
     "grade_id": "24",
     "locked": true,
     "points": 2,
     "schema_version": 3,
     "solution": false,
     "task": false
    }
   },
   "outputs": [],
   "source": [
    "##[C24]DO NOT MODIFY/DELETE THIS CELL\n",
    "assert set(df9['gendervar'])=={0,1}"
   ]
  },
  {
   "cell_type": "code",
   "execution_count": 35,
   "id": "unsigned-heating",
   "metadata": {
    "nbgrader": {
     "grade": true,
     "grade_id": "25",
     "locked": true,
     "points": 2,
     "schema_version": 3,
     "solution": false,
     "task": false
    }
   },
   "outputs": [],
   "source": [
    "#[C25]DO NOT MODIFY/DELETE THIS CELL\n",
    "### BEGIN HIDDEN TESTS\n",
    "assert (df9['gendervar']).sum()==314\n",
    "### END HIDDEN TESTS"
   ]
  }
 ],
 "metadata": {
  "celltoolbar": "Create Assignment",
  "kernelspec": {
   "display_name": "Python 3",
   "language": "python",
   "name": "python3"
  },
  "language_info": {
   "codemirror_mode": {
    "name": "ipython",
    "version": 3
   },
   "file_extension": ".py",
   "mimetype": "text/x-python",
   "name": "python",
   "nbconvert_exporter": "python",
   "pygments_lexer": "ipython3",
   "version": "3.6.9"
  }
 },
 "nbformat": 4,
 "nbformat_minor": 5
}
