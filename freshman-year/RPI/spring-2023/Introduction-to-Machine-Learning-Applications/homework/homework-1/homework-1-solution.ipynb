{
 "cells": [
  {
   "cell_type": "markdown",
   "metadata": {
    "nbgrader": {
     "grade": false,
     "grade_id": "Description",
     "locked": true,
     "schema_version": 3,
     "solution": false,
     "task": false
    }
   },
   "source": [
    "## Assignment-1\n",
    "##### Total number of points: 50\n",
    "#### Due date: 1/27/2022 11:59 PM\n",
    "\n",
    "Before you submit this homework, make sure everything runs as expected. First, restart the kernel (in the menu, select Kernel → Restart) and then run all cells (in the menubar, select Cell → Run All). You can discuss with others regarding the homework but all work must be your own.\n",
    "\n",
    "Steps to evaluate your solutions:\n",
    "\n",
    "Step-1: Try on Colab or Anaconda (Windows: https://docs.anaconda.com/anaconda/install/windows/ ; Mac:https://docs.anaconda.com/anaconda/install/mac-os/ ; Linux: https://docs.anaconda.com/anaconda/install/linux/)\n",
    "\n",
    "Step-2: Open the Jupyter Notebook by first launching the anaconda software console\n",
    "\n",
    "Step-3: Open the homework's .ipynb file and write your solutions at the appropriate location \"# YOUR CODE HERE\"\n",
    "\n",
    "Step-4: You can restart the kernel and click run all (in the menubar, select Cell → Run All) on the center-right on the top of this window.\n",
    "\n",
    "Step-5: Now go to \"File\" then click on \"Download as\" then click on \"Notebook (.ipynb)\" Please DO NOT change the file name and just keep it as \".ipynb\"\n",
    "\n",
    "Step-6: Go to lms.rpi.edu and upload your homework at the appropriate link to submit this homework.\n",
    "\n",
    "\n",
    "#### Please note that for any question in this assignment you will receive points ONLY if your solution passes all the test cases including hidden testcases as well. So please make sure you try to think all possible scenarios before submitting your answers.  \n",
    "- Note that hidden tests are present to ensure you are not hardcoding. \n",
    "- If caught cheating: \n",
    "    - you will receive a score of 0 for the 1st violation. \n",
    "    - for repeated incidents, you will receive an automatic 'F' grade and will be reported to the dean of Lally School of Management.  "
   ]
  },
  {
   "cell_type": "markdown",
   "metadata": {
    "nbgrader": {
     "grade": false,
     "grade_id": "q1-desc",
     "locked": true,
     "schema_version": 3,
     "solution": false,
     "task": false
    }
   },
   "source": [
    "#### Q1[5 points]. Assign the value for `m` to `120`. Set the value for `n` to `100` times `m` , and set the value for `p` to `m` times by `n^2` (square of `n`)."
   ]
  },
  {
   "cell_type": "code",
   "execution_count": 1,
   "metadata": {
    "nbgrader": {
     "grade": false,
     "grade_id": "q1-sol",
     "locked": false,
     "schema_version": 3,
     "solution": true,
     "task": false
    }
   },
   "outputs": [],
   "source": [
    "#Assign m ; n; p\n",
    "\n",
    "### BEGIN SOLUTION\n",
    "m=120\n",
    "n=100*m\n",
    "p=m*(n**2)\n",
    "\n",
    "### END SOLUTION"
   ]
  },
  {
   "cell_type": "code",
   "execution_count": 2,
   "metadata": {
    "nbgrader": {
     "grade": true,
     "grade_id": "q1-tests",
     "locked": true,
     "points": 3,
     "schema_version": 3,
     "solution": false,
     "task": false
    }
   },
   "outputs": [],
   "source": [
    "#Don't change this cell.\n",
    "assert m==120\n",
    "assert n==100*120\n",
    "assert p==120*(12000**2)\n"
   ]
  },
  {
   "cell_type": "code",
   "execution_count": 3,
   "metadata": {
    "nbgrader": {
     "grade": true,
     "grade_id": "q1-tests-h",
     "locked": true,
     "points": 2,
     "schema_version": 3,
     "solution": false,
     "task": false
    }
   },
   "outputs": [],
   "source": [
    "### BEGIN HIDDEN TESTS\n",
    "assert (m**2)==14400\n",
    "### END HIDDEN TESTS"
   ]
  },
  {
   "cell_type": "markdown",
   "metadata": {
    "nbgrader": {
     "grade": false,
     "grade_id": "q21-desc",
     "locked": true,
     "schema_version": 3,
     "solution": false,
     "task": false
    }
   },
   "source": [
    "#### Q2-1 [5 points]: \n",
    "\n",
    "- Create an empty list `g1`\n",
    "- Create a list `g2` with integers 1, 2, 3\n",
    "- Create a nested list `g3` with `g1` and `g2`\n",
    "- Create a list `g4` with only `4` repeated 3 times.\n",
    "- Create a list `g5` with your firstName and lastName as two separate strings -- for example, g5 that the President would build would be ['joe', 'biden']\n"
   ]
  },
  {
   "cell_type": "code",
   "execution_count": 4,
   "metadata": {
    "nbgrader": {
     "grade": false,
     "grade_id": "q21-sol",
     "locked": false,
     "schema_version": 3,
     "solution": true,
     "task": false
    }
   },
   "outputs": [],
   "source": [
    "#Need to create lists according to the instructions\n",
    "\n",
    "### BEGIN SOLUTION\n",
    "g1 = []\n",
    "g2 = [1, 2, 3]\n",
    "g3 = [g1, g2]\n",
    "g4 = [4, 4, 4]\n",
    "g5 = ['Jason', 'Kuruzovich']\n",
    "### END SOLUTION"
   ]
  },
  {
   "cell_type": "code",
   "execution_count": 5,
   "metadata": {
    "nbgrader": {
     "grade": true,
     "grade_id": "q21-tests",
     "locked": true,
     "points": 3,
     "schema_version": 3,
     "solution": false,
     "task": false
    }
   },
   "outputs": [],
   "source": [
    "#Don't change this cell.\n",
    "assert len(g1) == 0\n",
    "assert set(g2) == {1,2,3}\n",
    "assert len(g3) == 2\n",
    "assert len(set(g4)) == 1\n"
   ]
  },
  {
   "cell_type": "code",
   "execution_count": 6,
   "metadata": {
    "nbgrader": {
     "grade": true,
     "grade_id": "q21-tests-h",
     "locked": true,
     "points": 2,
     "schema_version": 3,
     "solution": false,
     "task": false
    }
   },
   "outputs": [],
   "source": [
    "#Don't change this cell.\n",
    "### BEGIN HIDDEN TESTS\n",
    "assert len(g5)==2\n",
    "assert g4 == [4, 4, 4]\n",
    "### END HIDDEN TESTS"
   ]
  },
  {
   "cell_type": "markdown",
   "metadata": {
    "nbgrader": {
     "grade": false,
     "grade_id": "q22-desc",
     "locked": true,
     "schema_version": 3,
     "solution": false,
     "task": false
    }
   },
   "source": [
    "#### Q2-2 [5 points]: \n",
    "\n",
    "###### Note that all are integers in this list. Please follow the exact order of execution here below from first line to the last line\n",
    "- Create a list `s1` with values in an order -- 10, -10, 20, -20 \n",
    "- Append a new element `30` to list `s1`  \n",
    "- Insert a new element `-30` at position `2`\n",
    "- Insert a new element `15` at position `20` (Yes it is 20 -- check what happens)"
   ]
  },
  {
   "cell_type": "code",
   "execution_count": 7,
   "metadata": {
    "nbgrader": {
     "grade": false,
     "grade_id": "q22-sol",
     "locked": false,
     "schema_version": 3,
     "solution": true,
     "task": false
    }
   },
   "outputs": [],
   "source": [
    "#Need to create li1 according to the instructions above\n",
    "\n",
    "### BEGIN SOLUTION\n",
    "s1=[10, -10, 20, -20]\n",
    "s1.append(30)\n",
    "s1.insert(2, -30)\n",
    "s1.insert(20, 15)\n",
    "\n",
    "### END SOLUTION"
   ]
  },
  {
   "cell_type": "code",
   "execution_count": 8,
   "metadata": {
    "nbgrader": {
     "grade": true,
     "grade_id": "q22-tests",
     "locked": true,
     "points": 2,
     "schema_version": 3,
     "solution": false,
     "task": false
    }
   },
   "outputs": [],
   "source": [
    "#Don't change this cell.\n",
    "assert len(s1)==7\n",
    "assert s1[2]==-30\n"
   ]
  },
  {
   "cell_type": "code",
   "execution_count": 9,
   "metadata": {
    "nbgrader": {
     "grade": true,
     "grade_id": "cell-79f335780d278307",
     "locked": true,
     "points": 3,
     "schema_version": 3,
     "solution": false,
     "task": false
    }
   },
   "outputs": [],
   "source": [
    "#Don't change this cell.\n",
    "### BEGIN HIDDEN TESTS\n",
    "assert s1==[10, -10, -30, 20, -20, 30, 15]\n",
    "assert s1[0]==10\n",
    "assert s1[2]==-30\n",
    "assert s1[4]==-20\n",
    "assert s1[6]==15\n",
    "### END HIDDEN TESTS"
   ]
  },
  {
   "cell_type": "markdown",
   "metadata": {
    "nbgrader": {
     "grade": false,
     "grade_id": "q31-desc",
     "locked": true,
     "schema_version": 3,
     "solution": false,
     "task": false
    }
   },
   "source": [
    "#### Q3-1 [5 points] \n",
    "\n",
    "###### Create a dictionary `p1` with 5 keys 1, 2, 3, 4, 5 and their corresponding values as 2, 4, 6, 8, 10 respectively. "
   ]
  },
  {
   "cell_type": "code",
   "execution_count": 10,
   "metadata": {
    "nbgrader": {
     "grade": false,
     "grade_id": "q31-sol",
     "locked": false,
     "schema_version": 3,
     "solution": true,
     "task": false
    }
   },
   "outputs": [],
   "source": [
    "#Creating the dictionary p1\n",
    "\n",
    "### BEGIN SOLUTION\n",
    "p1 = {1:2, 2:4, 3:6, 4:8, 5:10}\n",
    "### END SOLUTION"
   ]
  },
  {
   "cell_type": "code",
   "execution_count": 11,
   "metadata": {
    "nbgrader": {
     "grade": true,
     "grade_id": "q31-tests",
     "locked": true,
     "points": 2,
     "schema_version": 3,
     "solution": false,
     "task": false
    }
   },
   "outputs": [],
   "source": [
    "#Don't change this cell.\n",
    "assert len(p1)==5\n",
    "assert p1[3]==6\n",
    "assert p1[5]==10\n"
   ]
  },
  {
   "cell_type": "code",
   "execution_count": 12,
   "metadata": {
    "nbgrader": {
     "grade": true,
     "grade_id": "q31-tests2",
     "locked": true,
     "points": 3,
     "schema_version": 3,
     "solution": false,
     "task": false
    }
   },
   "outputs": [],
   "source": [
    "#Don't change this cell.\n",
    "### BEGIN HIDDEN TESTS\n",
    "assert p1[1]==2\n",
    "assert p1[2]==4\n",
    "### END HIDDEN TESTS"
   ]
  },
  {
   "cell_type": "markdown",
   "metadata": {
    "nbgrader": {
     "grade": false,
     "grade_id": "q32-desc",
     "locked": true,
     "schema_version": 3,
     "solution": false,
     "task": false
    }
   },
   "source": [
    "#### Q3-2 [5 points] \n",
    "\n",
    "###### Create a dictionary `p2` with 5 keys 1, 2, 3, 4, 5 and their corresponding values as 2, 4, 6, 8, 10 respectively. \n",
    "###### Add a new key-value pair to `p2` with key as `6` and value as `12`"
   ]
  },
  {
   "cell_type": "code",
   "execution_count": 13,
   "metadata": {
    "nbgrader": {
     "grade": false,
     "grade_id": "q32-sol",
     "locked": false,
     "schema_version": 3,
     "solution": true,
     "task": false
    }
   },
   "outputs": [],
   "source": [
    "#Creating the dictionary p2 and add a new key-value pair\n",
    "\n",
    "### BEGIN SOLUTION\n",
    "p2 = {1:2, 2:4, 3:6, 4:8, 5:10}\n",
    "p2[6]=12\n",
    "### END SOLUTION\n"
   ]
  },
  {
   "cell_type": "code",
   "execution_count": 14,
   "metadata": {
    "nbgrader": {
     "grade": true,
     "grade_id": "q32-tests",
     "locked": true,
     "points": 2,
     "schema_version": 3,
     "solution": false,
     "task": false
    }
   },
   "outputs": [],
   "source": [
    "#Don't change this cell.\n",
    "assert len(p2)==6\n"
   ]
  },
  {
   "cell_type": "code",
   "execution_count": 15,
   "metadata": {
    "nbgrader": {
     "grade": true,
     "grade_id": "q32-tests2",
     "locked": true,
     "points": 3,
     "schema_version": 3,
     "solution": false,
     "task": false
    }
   },
   "outputs": [],
   "source": [
    "#Don't change this cell.\n",
    "### BEGIN HIDDEN TESTS\n",
    "assert p2=={1: 2, 2: 4, 3: 6, 4: 8, 5: 10, 6: 12}\n",
    "### END HIDDEN TESTS"
   ]
  },
  {
   "cell_type": "markdown",
   "metadata": {
    "nbgrader": {
     "grade": false,
     "grade_id": "q33-desc",
     "locked": true,
     "schema_version": 3,
     "solution": false,
     "task": false
    }
   },
   "source": [
    "#### Q3-3 [5 points].\n",
    "\n",
    "- Create a list `p31` with numbers 1, 2, 3\n",
    "- Create another list `p32` with strings 'a', 'b', 'c'\n",
    "- Create a dictionary `d3` where length of `p31` is the key and `p32` is the value\n",
    "- Create a list `p33` that contains keys of dictionary `d3`"
   ]
  },
  {
   "cell_type": "code",
   "execution_count": 16,
   "metadata": {
    "nbgrader": {
     "grade": false,
     "grade_id": "q33-sol",
     "locked": false,
     "schema_version": 3,
     "solution": true,
     "task": false
    }
   },
   "outputs": [],
   "source": [
    "#Creating l31 and l32 and follow the instructions to create dictionary d3 \n",
    "\n",
    "### BEGIN SOLUTION\n",
    "p31 = [1, 2, 3]\n",
    "p32 = ['a', 'b', 'c']\n",
    "\n",
    "d3 = {}\n",
    "\n",
    "d3[len(p31)]= p32\n",
    "\n",
    "p33 = list(d3.keys())\n",
    "\n",
    "### END SOLUTION\n"
   ]
  },
  {
   "cell_type": "code",
   "execution_count": 17,
   "metadata": {
    "nbgrader": {
     "grade": true,
     "grade_id": "q33-tests",
     "locked": true,
     "points": 3,
     "schema_version": 3,
     "solution": false,
     "task": false
    }
   },
   "outputs": [],
   "source": [
    "#Don't change this cell.\n",
    "assert len(p31)==3\n",
    "assert set(p32)=={'a', 'b','c'}\n",
    "assert len(d3)==1\n",
    "assert len(p33)==1\n"
   ]
  },
  {
   "cell_type": "code",
   "execution_count": 18,
   "metadata": {
    "nbgrader": {
     "grade": true,
     "grade_id": "q33-tests-h",
     "locked": true,
     "points": 2,
     "schema_version": 3,
     "solution": false,
     "task": false
    }
   },
   "outputs": [],
   "source": [
    "#Don't change this cell.\n",
    "### BEGIN HIDDEN TESTS\n",
    "assert d3=={3: ['a', 'b', 'c']}\n",
    "assert p33==[3]\n",
    "### END HIDDEN TESTS"
   ]
  },
  {
   "cell_type": "markdown",
   "metadata": {
    "nbgrader": {
     "grade": false,
     "grade_id": "q41-desc",
     "locked": true,
     "schema_version": 3,
     "solution": false,
     "task": false
    }
   },
   "source": [
    "#### Q4-1 [5 points]. \n",
    "\n",
    "- Create a set `S1` with values 1, 2, 3 in the same order as stated. \n",
    "- Assign the variable `Slen` as the length of this set `S1` \n",
    "- Create another set `S2` with values 4, 5, 6 in the same order as stated. \n",
    "- Create a new set `S3` by merging sets `S1` and `S2`"
   ]
  },
  {
   "cell_type": "code",
   "execution_count": 19,
   "metadata": {
    "nbgrader": {
     "grade": false,
     "grade_id": "q41-sol",
     "locked": false,
     "schema_version": 3,
     "solution": true,
     "task": false
    }
   },
   "outputs": [
    {
     "name": "stdout",
     "output_type": "stream",
     "text": [
      "{1, 2, 3, 4, 5, 6}\n",
      "{1, 2, 3}\n"
     ]
    }
   ],
   "source": [
    "#Please follow the above instructions to create S1, S2, S3\n",
    "\n",
    "\n",
    "### BEGIN SOLUTION\n",
    "S1={1, 2, 3}\n",
    "Slen = len(S1)\n",
    "S2 = {4, 5, 6}\n",
    "S3=S1.union(S2)\n",
    "print(S3)\n",
    "print(S1)\n",
    "### END SOLUTION"
   ]
  },
  {
   "cell_type": "code",
   "execution_count": 20,
   "metadata": {
    "nbgrader": {
     "grade": true,
     "grade_id": "q41-tests",
     "locked": true,
     "points": 3,
     "schema_version": 3,
     "solution": false,
     "task": false
    }
   },
   "outputs": [],
   "source": [
    "#Don't change this cell.\n",
    "assert Slen==3\n",
    "assert 1 in S1\n",
    "assert S3=={1, 2, 3, 4, 5, 6}\n"
   ]
  },
  {
   "cell_type": "code",
   "execution_count": 21,
   "metadata": {
    "nbgrader": {
     "grade": true,
     "grade_id": "q41-tests-h",
     "locked": true,
     "points": 2,
     "schema_version": 3,
     "solution": false,
     "task": false
    }
   },
   "outputs": [],
   "source": [
    "#Don't change this cell.\n",
    "### BEGIN HIDDEN TESTS\n",
    "assert S1=={1, 2, 3}\n",
    "assert S2=={4, 5, 6}\n",
    "### END HIDDEN TESTS"
   ]
  },
  {
   "cell_type": "markdown",
   "metadata": {
    "nbgrader": {
     "grade": false,
     "grade_id": "q42-desc",
     "locked": true,
     "schema_version": 3,
     "solution": false,
     "task": false
    }
   },
   "source": [
    "#### Q4-2 [5 points]\n",
    "\n",
    "- Create a set `S4` with values 1, 2, 3, 4, 5 passed as strings \n",
    "- Add another string `'6'` to `S4`\n",
    "- Convert each element in S4 which is a string to integer and save this new set as `S5`"
   ]
  },
  {
   "cell_type": "code",
   "execution_count": 22,
   "metadata": {
    "nbgrader": {
     "grade": false,
     "grade_id": "q42-sol",
     "locked": false,
     "schema_version": 3,
     "solution": true,
     "task": false
    }
   },
   "outputs": [
    {
     "name": "stdout",
     "output_type": "stream",
     "text": [
      "{'3', '5', '6', '2', '1', '4'}\n"
     ]
    }
   ],
   "source": [
    "#Please follow the above instructions to create S4, S5\n",
    "\n",
    "S4 = {'1', '2', '3', '4', '5'}\n",
    "S4.add('6')\n",
    "print(S4)\n",
    "S5=set()\n",
    "for val in S4: \n",
    "    S5.add(int(val))\n",
    "#print(S5)\n"
   ]
  },
  {
   "cell_type": "code",
   "execution_count": 23,
   "metadata": {
    "nbgrader": {
     "grade": true,
     "grade_id": "q42-tests",
     "locked": true,
     "points": 5,
     "schema_version": 3,
     "solution": false,
     "task": false
    }
   },
   "outputs": [],
   "source": [
    "#Don't change this cell.\n",
    "assert set(S4)=={'1', '2', '3', '4', '5','6'}\n",
    "assert S5=={1, 2, 3, 4, 5, 6}"
   ]
  },
  {
   "cell_type": "markdown",
   "metadata": {
    "nbgrader": {
     "grade": false,
     "grade_id": "q5-desc",
     "locked": true,
     "schema_version": 3,
     "solution": false,
     "task": false
    }
   },
   "source": [
    "#### Q5 [5 points]. Write a function `ReturnList` that takes a number `num` (where `num` is >0) and returns a list of numbers from 0 to `num` (inclusive). If number `num`<=0 return `[-1]`. "
   ]
  },
  {
   "cell_type": "code",
   "execution_count": 24,
   "metadata": {
    "nbgrader": {
     "grade": false,
     "grade_id": "q5-sol",
     "locked": false,
     "schema_version": 3,
     "solution": true,
     "task": false
    }
   },
   "outputs": [],
   "source": [
    "\n",
    "def ReturnList(num):\n",
    "\n",
    "    ### BEGIN SOLUTION\n",
    "    L5=[]\n",
    "    if num<=0:\n",
    "        return([-1])\n",
    "    for i in range(0, num+1):\n",
    "        L5.append(i)\n",
    "    return(L5)\n",
    "    ### END SOLUTION"
   ]
  },
  {
   "cell_type": "code",
   "execution_count": 25,
   "metadata": {
    "nbgrader": {
     "grade": true,
     "grade_id": "q5-tests",
     "locked": true,
     "points": 3,
     "schema_version": 3,
     "solution": false,
     "task": false
    }
   },
   "outputs": [],
   "source": [
    "#Don't change this cell.\n",
    "assert ReturnList(3)==[0, 1, 2, 3]\n",
    "assert ReturnList(4)==[0, 1, 2, 3, 4]\n",
    "assert ReturnList(6)==[0, 1, 2, 3, 4, 5, 6]\n"
   ]
  },
  {
   "cell_type": "code",
   "execution_count": 26,
   "metadata": {
    "nbgrader": {
     "grade": true,
     "grade_id": "q5-tests-h",
     "locked": true,
     "points": 2,
     "schema_version": 3,
     "solution": false,
     "task": false
    }
   },
   "outputs": [],
   "source": [
    "#Don't change this cell.\n",
    "### BEGIN HIDDEN TESTS\n",
    "assert ReturnList(0)==[-1]\n",
    "assert ReturnList(-1)==[-1]\n",
    "### END HIDDEN TESTS"
   ]
  },
  {
   "cell_type": "markdown",
   "metadata": {
    "nbgrader": {
     "grade": false,
     "grade_id": "q6-desc",
     "locked": true,
     "schema_version": 3,
     "solution": false,
     "task": false
    }
   },
   "source": [
    "#### Q6 [5 points]. Write a function `RepeatNums` that takes two numbers `num1` and `num2`. This function should return a list of numbers, where the length of the list is `num2`. \n",
    "\n",
    "##### All the numbers in this list should be equal to `num1`. In other words, create a list that contains `num1` that is repeated `num2` number of times.\n",
    "##### If `num1 <= 0` or `num2 <= 0` return `[-1]`"
   ]
  },
  {
   "cell_type": "code",
   "execution_count": 27,
   "metadata": {
    "nbgrader": {
     "grade": false,
     "grade_id": "q6-sol",
     "locked": false,
     "schema_version": 3,
     "solution": true,
     "task": false
    }
   },
   "outputs": [],
   "source": [
    "def RepeatNums(num1, num2):\n",
    "    ### BEGIN SOLUTION\n",
    "    L5=[]\n",
    "    if num1<=0 or num2<=0:\n",
    "        return([-1])\n",
    "    else: \n",
    "        for i in range(0, num2):\n",
    "            L5.append(num1)\n",
    "    return(L5)\n",
    "    ### END SOLUTION\n"
   ]
  },
  {
   "cell_type": "code",
   "execution_count": 28,
   "metadata": {
    "nbgrader": {
     "grade": true,
     "grade_id": "q6-tests",
     "locked": true,
     "points": 3,
     "schema_version": 3,
     "solution": false,
     "task": false
    }
   },
   "outputs": [],
   "source": [
    "#Don't change this cell.\n",
    "assert RepeatNums(3,2)==[3, 3]\n",
    "assert RepeatNums(2,4)==[2, 2, 2, 2]\n",
    "assert RepeatNums(6,1)==[6]\n"
   ]
  },
  {
   "cell_type": "code",
   "execution_count": 29,
   "metadata": {
    "nbgrader": {
     "grade": true,
     "grade_id": "cell-3f81841c81b2a3f2",
     "locked": true,
     "points": 2,
     "schema_version": 3,
     "solution": false,
     "task": false
    }
   },
   "outputs": [],
   "source": [
    "#Don't change this cell.\n",
    "### BEGIN HIDDEN TESTS\n",
    "assert RepeatNums(0,1)==[-1]\n",
    "assert RepeatNums(1,-1)==[-1]\n",
    "assert RepeatNums(-1,-1)==[-1]\n",
    "### END HIDDEN TESTS"
   ]
  }
 ],
 "metadata": {
  "celltoolbar": "Create Assignment",
  "kernelspec": {
   "display_name": "Python 3",
   "language": "python",
   "name": "python3"
  },
  "language_info": {
   "codemirror_mode": {
    "name": "ipython",
    "version": 3
   },
   "file_extension": ".py",
   "mimetype": "text/x-python",
   "name": "python",
   "nbconvert_exporter": "python",
   "pygments_lexer": "ipython3",
   "version": "3.7.10"
  }
 },
 "nbformat": 4,
 "nbformat_minor": 4
}
