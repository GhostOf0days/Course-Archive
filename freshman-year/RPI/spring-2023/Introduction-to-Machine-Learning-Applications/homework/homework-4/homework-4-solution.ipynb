{
 "cells": [
  {
   "cell_type": "markdown",
   "metadata": {
    "nbgrader": {
     "grade": false,
     "grade_id": "Description",
     "locked": true,
     "schema_version": 3,
     "solution": false,
     "task": false
    }
   },
   "source": [
    "##### Homework-4\n",
    "##### Total number of points: 50\n",
    "#### Due date: February 24th, 2023\n",
    "\n",
    "Before you submit this homework, make sure everything runs as expected. First, restart the kernel (in the menu, select Kernel → Restart) and then run all cells (in the menubar, select Cell → Run All). You can discuss with others regarding the homework but all work must be your own.\n",
    "\n",
    "This homework will test your knowledge on data manipulation, manipulating strings and feature preprocessing. The Python notebooks shared will be helpful to solve these problems.  \n",
    "\n",
    "Steps to evaluate your solutions:\n",
    "\n",
    "Step-1: Try on Colab or Anaconda (Windows: https://docs.anaconda.com/anaconda/install/windows/ ; Mac:https://docs.anaconda.com/anaconda/install/mac-os/ ; Linux: https://docs.anaconda.com/anaconda/install/linux/)\n",
    "\n",
    "Step-2: Open the Jupyter Notebook by first launching the anaconda software console\n",
    "\n",
    "Step-3: Open the homework's .ipynb file and write your solutions at the appropriate location \"# YOUR CODE HERE\"\n",
    "\n",
    "Step-4: You can restart the kernel and click run all (in the menubar, select Cell → Run All) on the center-right on the top of this window.\n",
    "\n",
    "Step-5: Now go to \"File\" then click on \"Download as\" then click on \"Notebook (.ipynb)\" Please DO NOT change the file name and just keep it as \".ipynb\"\n",
    "\n",
    "Step-6: Go to lms.rpi.edu and upload your homework at the appropriate link to submit this homework.\n",
    "\n",
    "\n",
    "#### Please note that for any question in this assignment you will receive points ONLY if your solution passes all the test cases including hidden testcases as well. So please make sure you try to think all possible scenarios before submitting your answers.  \n",
    "- Note that hidden tests are present to ensure you are not hardcoding. \n",
    "- If caught cheating: \n",
    "    - you will receive a score of 0 for the 1st violation. \n",
    "    - for repeated incidents, you will receive an automatic 'F' grade and will be reported to the dean of Lally School of Management. "
   ]
  },
  {
   "cell_type": "markdown",
   "metadata": {
    "nbgrader": {
     "grade": false,
     "grade_id": "Q1-desc",
     "locked": true,
     "schema_version": 3,
     "solution": false,
     "task": false
    }
   },
   "source": [
    "#### Q1 [10 points]. Given the groundtruth or actual class labels `y_true` and the predicted class labels `y_pred`, \n",
    "#### build a confusion matrix without using any existing library to compute \n",
    "- `fp` false positives, \n",
    "- `tp` true positives, \n",
    "- `fn` false negatives and \n",
    "- `tn` true negatives. \n"
   ]
  },
  {
   "cell_type": "code",
   "execution_count": 1,
   "metadata": {
    "nbgrader": {
     "grade": false,
     "grade_id": "Q1-sol",
     "locked": false,
     "schema_version": 3,
     "solution": true,
     "task": false
    }
   },
   "outputs": [],
   "source": [
    "\n",
    "y_true=[1, 1, 0, 0, 1, 1, 1, 1]\n",
    "y_pred=[1, 0, 0, 1, 1, 0, 1, 1]\n",
    "\n",
    "tp=0\n",
    "fp=0\n",
    "fn=0\n",
    "tn=0\n",
    "\n",
    "### BEGIN SOLUTION\n",
    "for i in range(len(y_true)):\n",
    "    if y_true[i]==1 and y_pred[i]==1: \n",
    "        tp=tp+1\n",
    "    elif y_true[i]==0 and y_pred[i]==1:\n",
    "        fp=fp+1\n",
    "    elif y_true[i]==1 and y_pred[i]==0:\n",
    "        fn=fn+1\n",
    "    elif y_true[i]==0 and y_pred[i]==0:\n",
    "        tn=tn+1\n",
    "### END SOLUTION\n"
   ]
  },
  {
   "cell_type": "code",
   "execution_count": 2,
   "metadata": {
    "nbgrader": {
     "grade": true,
     "grade_id": "Q1-tests",
     "locked": true,
     "points": 5,
     "schema_version": 3,
     "solution": false,
     "task": false
    }
   },
   "outputs": [],
   "source": [
    "#Please do not modify/delete this cell\n",
    "assert tp==4\n",
    "assert fp==1"
   ]
  },
  {
   "cell_type": "code",
   "execution_count": 3,
   "metadata": {
    "nbgrader": {
     "grade": true,
     "grade_id": "Q1-tests2",
     "locked": true,
     "points": 5,
     "schema_version": 3,
     "solution": false,
     "task": false
    }
   },
   "outputs": [],
   "source": [
    "#Please do not modify/delete this cell\n",
    "### BEGIN HIDDEN TESTS\n",
    "assert tn==1\n",
    "assert fn==2\n",
    "assert ((tp+tn)/(tp+tn+fp+fn))==0.625\n",
    "### END HIDDEN TESTS\n"
   ]
  },
  {
   "cell_type": "markdown",
   "metadata": {
    "nbgrader": {
     "grade": false,
     "grade_id": "Q2-desc",
     "locked": true,
     "schema_version": 3,
     "solution": false,
     "task": false
    }
   },
   "source": [
    "#### Q2 [5 points]. Given the `y_true` which is the groundtruth (or the actual class labels), create a list of predicted labels `y_pred` \n",
    "#### that reflects the respective worst-performing model where accuracy will be '0'. \n",
    "\n"
   ]
  },
  {
   "cell_type": "code",
   "execution_count": 4,
   "metadata": {
    "nbgrader": {
     "grade": false,
     "grade_id": "Q2-sol",
     "locked": false,
     "schema_version": 3,
     "solution": true,
     "task": false
    }
   },
   "outputs": [],
   "source": [
    "from sklearn.metrics import accuracy_score\n",
    "\n",
    "y_true = [1, 1, 1, 1, 1, 1, 1, 1]\n",
    "\n",
    "### BEGIN SOLUTION\n",
    "y_pred = [0, 0, 0, 0, 0, 0, 0, 0]\n",
    "### END SOLUTION"
   ]
  },
  {
   "cell_type": "code",
   "execution_count": 5,
   "metadata": {
    "nbgrader": {
     "grade": true,
     "grade_id": "Q2-tests",
     "locked": true,
     "points": 5,
     "schema_version": 3,
     "solution": false,
     "task": false
    }
   },
   "outputs": [],
   "source": [
    "#Please do not modify/delete this cell\n",
    "assert accuracy_score(y_true, y_pred)==0"
   ]
  },
  {
   "cell_type": "markdown",
   "metadata": {
    "nbgrader": {
     "grade": false,
     "grade_id": "Q3-desc",
     "locked": true,
     "schema_version": 3,
     "solution": false,
     "task": false
    }
   },
   "source": [
    "#### Q3 [10 points]. More Calculations of Classification Performance \n",
    "\n",
    "By utilizing the proposed `y_prob` and `y_true` and using a threshold of 0.5 (where the class is 1 if the probability is >= 0.5 and 0 if the probability is < 0.5) calculate the predicted class `y_pred`. Compute the accuracy as `acc`, true positive rate as `tpr`, sensitivity value as `sens`, and Area Under the Receiver Operating Characteristic Curve (ROC AUC) as `auc`. \n",
    "\n",
    "**Hint, one of the evaluation functions takes the probability as an input.**\n"
   ]
  },
  {
   "cell_type": "code",
   "execution_count": 6,
   "metadata": {
    "nbgrader": {
     "grade": false,
     "grade_id": "Q3-sol",
     "locked": false,
     "schema_version": 3,
     "solution": true,
     "task": false
    }
   },
   "outputs": [
    {
     "name": "stdout",
     "output_type": "stream",
     "text": [
      "[0, 1, 0, 0, 0, 1, 1, 1]\n",
      "0.75 0.75 0.75 0.719\n"
     ]
    }
   ],
   "source": [
    "y_true=[0, 1, 0, 0, 1, 1, 1, 0]\n",
    "y_prob=[0.40, 0.70, 0.20, 0.30, 0.40, 0.65, 0.70, 0.80]\n",
    "\n",
    "\n",
    "### BEGIN SOLUTION\n",
    "from sklearn.metrics import confusion_matrix\n",
    "from sklearn.metrics import roc_auc_score\n",
    "y_pred=[]\n",
    "for x in y_prob:\n",
    "    if x>=0.5:\n",
    "        y_pred.append(1)\n",
    "    else:\n",
    "        y_pred.append(0)\n",
    "print(y_pred)\n",
    "\n",
    "CM = confusion_matrix(y_true, y_pred)\n",
    "\n",
    "tn = CM[0][0]\n",
    "fn = CM[1][0]\n",
    "tp = CM[1][1]\n",
    "fp = CM[0][1]\n",
    "\n",
    "tpr=(tp)/(tp+fn)\n",
    "sens=(tp)/(tp + fn)\n",
    "acc=accuracy_score(y_true, y_pred)\n",
    "auc=roc_auc_score(y_true, y_prob)\n",
    "print(acc, round(tpr,3), round(sens,3), round(auc,3))\n",
    "\n",
    "### END SOLUTION"
   ]
  },
  {
   "cell_type": "code",
   "execution_count": 7,
   "metadata": {
    "nbgrader": {
     "grade": true,
     "grade_id": "Q3-tests1",
     "locked": true,
     "points": 5,
     "schema_version": 3,
     "solution": false,
     "task": false
    }
   },
   "outputs": [],
   "source": [
    "#Please do not modify/delete this cell\n",
    "assert y_pred == [0, 1, 0, 0, 0, 1, 1, 1]\n",
    "assert round(acc,3)==0.75\n",
    "assert round(sens,3)==0.75\n",
    "assert round(tpr,3)==0.75"
   ]
  },
  {
   "cell_type": "code",
   "execution_count": 8,
   "metadata": {
    "nbgrader": {
     "grade": true,
     "grade_id": "Q3-tests2",
     "locked": true,
     "points": 5,
     "schema_version": 3,
     "solution": false,
     "task": false
    }
   },
   "outputs": [],
   "source": [
    "#Please do not modify/delete this cell\n",
    "assert round(auc,3)== 0.719"
   ]
  },
  {
   "cell_type": "code",
   "execution_count": 9,
   "metadata": {
    "nbgrader": {
     "grade": false,
     "grade_id": "download",
     "locked": true,
     "schema_version": 3,
     "solution": false,
     "task": false
    }
   },
   "outputs": [
    {
     "data": {
      "text/html": [
       "<div>\n",
       "<style scoped>\n",
       "    .dataframe tbody tr th:only-of-type {\n",
       "        vertical-align: middle;\n",
       "    }\n",
       "\n",
       "    .dataframe tbody tr th {\n",
       "        vertical-align: top;\n",
       "    }\n",
       "\n",
       "    .dataframe thead th {\n",
       "        text-align: right;\n",
       "    }\n",
       "</style>\n",
       "<table border=\"1\" class=\"dataframe\">\n",
       "  <thead>\n",
       "    <tr style=\"text-align: right;\">\n",
       "      <th></th>\n",
       "      <th>Age</th>\n",
       "      <th>SibSp</th>\n",
       "      <th>Parch</th>\n",
       "      <th>Fare</th>\n",
       "      <th>Pclass_2</th>\n",
       "      <th>Pclass_3</th>\n",
       "      <th>Sex_male</th>\n",
       "      <th>Embarked_Q</th>\n",
       "      <th>Embarked_S</th>\n",
       "      <th>Survived</th>\n",
       "      <th>pred_prob</th>\n",
       "      <th>pred</th>\n",
       "    </tr>\n",
       "  </thead>\n",
       "  <tbody>\n",
       "    <tr>\n",
       "      <th>0</th>\n",
       "      <td>22.000000</td>\n",
       "      <td>1.0</td>\n",
       "      <td>0.0</td>\n",
       "      <td>7.2500</td>\n",
       "      <td>0</td>\n",
       "      <td>1</td>\n",
       "      <td>1</td>\n",
       "      <td>0</td>\n",
       "      <td>1</td>\n",
       "      <td>0</td>\n",
       "      <td>0.1</td>\n",
       "      <td>0</td>\n",
       "    </tr>\n",
       "    <tr>\n",
       "      <th>1</th>\n",
       "      <td>38.000000</td>\n",
       "      <td>1.0</td>\n",
       "      <td>0.0</td>\n",
       "      <td>71.2833</td>\n",
       "      <td>0</td>\n",
       "      <td>0</td>\n",
       "      <td>0</td>\n",
       "      <td>0</td>\n",
       "      <td>0</td>\n",
       "      <td>1</td>\n",
       "      <td>0.3</td>\n",
       "      <td>0</td>\n",
       "    </tr>\n",
       "    <tr>\n",
       "      <th>2</th>\n",
       "      <td>26.000000</td>\n",
       "      <td>0.0</td>\n",
       "      <td>0.0</td>\n",
       "      <td>7.9250</td>\n",
       "      <td>0</td>\n",
       "      <td>1</td>\n",
       "      <td>0</td>\n",
       "      <td>0</td>\n",
       "      <td>1</td>\n",
       "      <td>1</td>\n",
       "      <td>0.3</td>\n",
       "      <td>0</td>\n",
       "    </tr>\n",
       "    <tr>\n",
       "      <th>3</th>\n",
       "      <td>35.000000</td>\n",
       "      <td>1.0</td>\n",
       "      <td>0.0</td>\n",
       "      <td>53.1000</td>\n",
       "      <td>0</td>\n",
       "      <td>0</td>\n",
       "      <td>0</td>\n",
       "      <td>0</td>\n",
       "      <td>1</td>\n",
       "      <td>1</td>\n",
       "      <td>0.6</td>\n",
       "      <td>1</td>\n",
       "    </tr>\n",
       "    <tr>\n",
       "      <th>4</th>\n",
       "      <td>35.000000</td>\n",
       "      <td>0.0</td>\n",
       "      <td>0.0</td>\n",
       "      <td>8.0500</td>\n",
       "      <td>0</td>\n",
       "      <td>1</td>\n",
       "      <td>1</td>\n",
       "      <td>0</td>\n",
       "      <td>1</td>\n",
       "      <td>0</td>\n",
       "      <td>0.0</td>\n",
       "      <td>0</td>\n",
       "    </tr>\n",
       "    <tr>\n",
       "      <th>...</th>\n",
       "      <td>...</td>\n",
       "      <td>...</td>\n",
       "      <td>...</td>\n",
       "      <td>...</td>\n",
       "      <td>...</td>\n",
       "      <td>...</td>\n",
       "      <td>...</td>\n",
       "      <td>...</td>\n",
       "      <td>...</td>\n",
       "      <td>...</td>\n",
       "      <td>...</td>\n",
       "      <td>...</td>\n",
       "    </tr>\n",
       "    <tr>\n",
       "      <th>886</th>\n",
       "      <td>27.000000</td>\n",
       "      <td>0.0</td>\n",
       "      <td>0.0</td>\n",
       "      <td>13.0000</td>\n",
       "      <td>1</td>\n",
       "      <td>0</td>\n",
       "      <td>1</td>\n",
       "      <td>0</td>\n",
       "      <td>1</td>\n",
       "      <td>0</td>\n",
       "      <td>0.3</td>\n",
       "      <td>0</td>\n",
       "    </tr>\n",
       "    <tr>\n",
       "      <th>887</th>\n",
       "      <td>19.000000</td>\n",
       "      <td>0.0</td>\n",
       "      <td>0.0</td>\n",
       "      <td>30.0000</td>\n",
       "      <td>0</td>\n",
       "      <td>0</td>\n",
       "      <td>0</td>\n",
       "      <td>0</td>\n",
       "      <td>1</td>\n",
       "      <td>1</td>\n",
       "      <td>0.8</td>\n",
       "      <td>1</td>\n",
       "    </tr>\n",
       "    <tr>\n",
       "      <th>888</th>\n",
       "      <td>29.699118</td>\n",
       "      <td>1.0</td>\n",
       "      <td>2.0</td>\n",
       "      <td>23.4500</td>\n",
       "      <td>0</td>\n",
       "      <td>1</td>\n",
       "      <td>0</td>\n",
       "      <td>0</td>\n",
       "      <td>1</td>\n",
       "      <td>0</td>\n",
       "      <td>0.4</td>\n",
       "      <td>0</td>\n",
       "    </tr>\n",
       "    <tr>\n",
       "      <th>889</th>\n",
       "      <td>26.000000</td>\n",
       "      <td>0.0</td>\n",
       "      <td>0.0</td>\n",
       "      <td>30.0000</td>\n",
       "      <td>0</td>\n",
       "      <td>0</td>\n",
       "      <td>1</td>\n",
       "      <td>0</td>\n",
       "      <td>0</td>\n",
       "      <td>1</td>\n",
       "      <td>0.4</td>\n",
       "      <td>0</td>\n",
       "    </tr>\n",
       "    <tr>\n",
       "      <th>890</th>\n",
       "      <td>32.000000</td>\n",
       "      <td>0.0</td>\n",
       "      <td>0.0</td>\n",
       "      <td>7.7500</td>\n",
       "      <td>0</td>\n",
       "      <td>1</td>\n",
       "      <td>1</td>\n",
       "      <td>1</td>\n",
       "      <td>0</td>\n",
       "      <td>0</td>\n",
       "      <td>0.2</td>\n",
       "      <td>0</td>\n",
       "    </tr>\n",
       "  </tbody>\n",
       "</table>\n",
       "<p>891 rows × 12 columns</p>\n",
       "</div>"
      ],
      "text/plain": [
       "           Age  SibSp  Parch     Fare  Pclass_2  Pclass_3  Sex_male  \\\n",
       "0    22.000000    1.0    0.0   7.2500         0         1         1   \n",
       "1    38.000000    1.0    0.0  71.2833         0         0         0   \n",
       "2    26.000000    0.0    0.0   7.9250         0         1         0   \n",
       "3    35.000000    1.0    0.0  53.1000         0         0         0   \n",
       "4    35.000000    0.0    0.0   8.0500         0         1         1   \n",
       "..         ...    ...    ...      ...       ...       ...       ...   \n",
       "886  27.000000    0.0    0.0  13.0000         1         0         1   \n",
       "887  19.000000    0.0    0.0  30.0000         0         0         0   \n",
       "888  29.699118    1.0    2.0  23.4500         0         1         0   \n",
       "889  26.000000    0.0    0.0  30.0000         0         0         1   \n",
       "890  32.000000    0.0    0.0   7.7500         0         1         1   \n",
       "\n",
       "     Embarked_Q  Embarked_S  Survived  pred_prob  pred  \n",
       "0             0           1         0        0.1     0  \n",
       "1             0           0         1        0.3     0  \n",
       "2             0           1         1        0.3     0  \n",
       "3             0           1         1        0.6     1  \n",
       "4             0           1         0        0.0     0  \n",
       "..          ...         ...       ...        ...   ...  \n",
       "886           0           1         0        0.3     0  \n",
       "887           0           1         1        0.8     1  \n",
       "888           0           1         0        0.4     0  \n",
       "889           0           0         1        0.4     0  \n",
       "890           1           0         0        0.2     0  \n",
       "\n",
       "[891 rows x 12 columns]"
      ]
     },
     "execution_count": 9,
     "metadata": {},
     "output_type": "execute_result"
    }
   ],
   "source": [
    "#Please do not modify/delete this cell\n",
    "import pandas as pd\n",
    "df=pd.read_csv('https://raw.githubusercontent.com/rpi-techfundamentals/website_fall_2021/master/site/public/titanic_processed_train3.csv')\n",
    "#View the dataframe\n",
    "df"
   ]
  },
  {
   "cell_type": "markdown",
   "metadata": {
    "nbgrader": {
     "grade": false,
     "grade_id": "q4-desc",
     "locked": true,
     "schema_version": 3,
     "solution": false,
     "task": false
    }
   },
   "source": [
    "### Q4 [10 points]. Evaluation\n",
    "\n",
    "Calculate the accuracy (`tacc`), precision(`tprec`), recall(`trecall`), and Area Under the Receiver Operating Characteristic Curve (ROC AUC) `tauc` for the dataframe `df`.  The predicted class is in the column `pred` and the predicted probability from the model is in the column `pred_prob`. "
   ]
  },
  {
   "cell_type": "code",
   "execution_count": 10,
   "metadata": {
    "nbgrader": {
     "grade": false,
     "grade_id": "q4-sol",
     "locked": false,
     "schema_version": 3,
     "solution": true,
     "task": false
    }
   },
   "outputs": [
    {
     "name": "stdout",
     "output_type": "stream",
     "text": [
      "0.7351290684624018 0.7345132743362832 0.4853801169590643 0.8007941073083438\n"
     ]
    }
   ],
   "source": [
    "#Answer here\n",
    "\n",
    "\n",
    "\n",
    "### BEGIN SOLUTION\n",
    "from sklearn.metrics import precision_score\n",
    "from sklearn.metrics import recall_score\n",
    "tacc=accuracy_score(df['Survived'], df['pred'])\n",
    "tprec=precision_score(df['Survived'], df['pred'])\n",
    "trecall=recall_score(df['Survived'], df['pred'])\n",
    "tauc=roc_auc_score(df['Survived'], df['pred_prob'])\n",
    "print(tacc,tprec,trecall,tauc)\n",
    "### END SOLUTION\n"
   ]
  },
  {
   "cell_type": "code",
   "execution_count": 11,
   "metadata": {
    "nbgrader": {
     "grade": true,
     "grade_id": "q4-test1",
     "locked": true,
     "points": 5,
     "schema_version": 3,
     "solution": false,
     "task": false
    }
   },
   "outputs": [],
   "source": [
    "#Please do not modify/delete this cell\n",
    "assert tacc>0 and tacc<1.0\n",
    "assert tprec>0 and tprec<1.0\n",
    "assert trecall>0 and trecall<1.0\n",
    "### BEGIN HIDDEN TESTS\n",
    "assert round(tacc,4)==0.7351\n",
    "assert round(tprec,4)==0.7345\n",
    "assert round(trecall,4)==0.4854\n",
    "### END HIDDEN TESTS\n",
    "\n"
   ]
  },
  {
   "cell_type": "code",
   "execution_count": 12,
   "metadata": {
    "nbgrader": {
     "grade": true,
     "grade_id": "q4-test2",
     "locked": true,
     "points": 5,
     "schema_version": 3,
     "solution": false,
     "task": false
    }
   },
   "outputs": [],
   "source": [
    "#Please do not modify/delete this cell\n",
    "### BEGIN HIDDEN TESTS\n",
    "assert round(tauc,4)==0.8008\n",
    "### END HIDDEN TESTS"
   ]
  },
  {
   "cell_type": "markdown",
   "metadata": {
    "nbgrader": {
     "grade": false,
     "grade_id": "q5-desc",
     "locked": true,
     "schema_version": 3,
     "solution": false,
     "task": false
    }
   },
   "source": [
    "### Q5 Generate a Confusion Matrix\n",
    "\n",
    "Use the the standard module confusion_matrix function from Scikit Learn to find the confusion matrix, setting it equal to `cm`. \n",
    "\n",
    "Parse the confusion matrix to set the true postives equal to `cm_tp` and the true negatives equal to `cm_tn`. \n",
    "\n",
    "Documentation \n",
    "[https://scikit-learn.org/0.16/modules/generated/sklearn.metrics.confusion_matrix.html](https://scikit-learn.org/0.16/modules/generated/sklearn.metrics.confusion_matrix.html)\n",
    "\n",
    "\n"
   ]
  },
  {
   "cell_type": "code",
   "execution_count": 13,
   "metadata": {
    "nbgrader": {
     "grade": false,
     "grade_id": "q5-sol",
     "locked": false,
     "schema_version": 3,
     "solution": true,
     "task": false
    }
   },
   "outputs": [
    {
     "name": "stdout",
     "output_type": "stream",
     "text": [
      "3 3 \n",
      " [[489  60]\n",
      " [176 166]]\n",
      "2\n"
     ]
    }
   ],
   "source": [
    "from sklearn.metrics import confusion_matrix\n",
    "\n",
    "### BEGIN SOLUTION\n",
    "cm=confusion_matrix(df['Survived'], df['pred'])\n",
    "cm_tn=cm[0][0]\n",
    "cm_tp=cm[1][1]\n",
    "print(tp,tn, '\\n',cm)\n",
    "print(len(cm))\n",
    "### END SOLUTION\n"
   ]
  },
  {
   "cell_type": "code",
   "execution_count": 14,
   "metadata": {
    "nbgrader": {
     "grade": true,
     "grade_id": "q5-test",
     "locked": true,
     "points": 5,
     "schema_version": 3,
     "solution": false,
     "task": false
    }
   },
   "outputs": [],
   "source": [
    "#Please do not modify/delete this cell\n",
    "assert len(cm)==2\n",
    "assert cm_tp>0\n",
    "assert cm_tn>0\n",
    "### BEGIN HIDDEN TESTS\n",
    "assert cm[0][0]==489\n",
    "assert cm[1][1]==166\n",
    "assert cm_tn==489\n",
    "assert cm_tp==166\n",
    "### END HIDDEN TESTS\n",
    "\n"
   ]
  },
  {
   "cell_type": "markdown",
   "metadata": {
    "nbgrader": {
     "grade": false,
     "grade_id": "q6-desc",
     "locked": true,
     "schema_version": 3,
     "solution": false,
     "task": false
    }
   },
   "source": [
    "### q6 Evaluation - By Gender\n",
    "\n",
    "Conduct the same analysis as above, but for the different subgroups of men and women.\n",
    "\n",
    "##### Calculate Metrics for Men\n",
    "Calculate accuracy (`tacc_m`) and Area Under the Receiver Operating Characteristic Curve (ROC AUC) `tauc_m` for only the men.\n",
    "\n",
    "\n",
    "##### Calculate Metrics for Women\n",
    "Calculate accuracy (`tacc_w`) and Area Under the Receiver Operating Characteristic Curve (ROC AUC) `tauc_w` for only the women."
   ]
  },
  {
   "cell_type": "code",
   "execution_count": 15,
   "metadata": {
    "nbgrader": {
     "grade": false,
     "grade_id": "q6-sol",
     "locked": false,
     "schema_version": 3,
     "solution": true,
     "task": false
    }
   },
   "outputs": [
    {
     "name": "stdout",
     "output_type": "stream",
     "text": [
      "0.7989601386481803 0.6178343949044586 0.7364051595702972 0.7651141842844275\n"
     ]
    }
   ],
   "source": [
    "#Your solution here. \n",
    "\n",
    "### BEGIN SOLUTION\n",
    "df_m=df[df['Sex_male']==1]\n",
    "df_fm=df[df['Sex_male']==0]\n",
    "tacc_m=accuracy_score(df_m['Survived'], df_m['pred'])\n",
    "tacc_fm=accuracy_score(df_fm['Survived'], df_fm['pred'])\n",
    "tauc_m=roc_auc_score(df_m['Survived'], df_m['pred_prob'])\n",
    "tauc_fm=roc_auc_score(df_fm['Survived'], df_fm['pred_prob'])\n",
    "print(tacc_m,tacc_fm,tauc_m,tauc_fm)\n",
    "### END SOLUTION"
   ]
  },
  {
   "cell_type": "code",
   "execution_count": 16,
   "metadata": {
    "nbgrader": {
     "grade": true,
     "grade_id": "q6-tests1",
     "locked": true,
     "points": 5,
     "schema_version": 3,
     "solution": false,
     "task": false
    }
   },
   "outputs": [],
   "source": [
    "#Please do not modify/delete this cell\n",
    "assert len(cm)==2\n",
    "assert tacc_m>0\n",
    "assert tacc_fm>0\n",
    "### BEGIN HIDDEN TESTS\n",
    "assert round(tacc_m,2)==0.80\n",
    "assert round(tacc_fm,2)==0.62\n",
    "### END HIDDEN TESTS"
   ]
  },
  {
   "cell_type": "code",
   "execution_count": 17,
   "metadata": {
    "nbgrader": {
     "grade": true,
     "grade_id": "q6-tests2",
     "locked": true,
     "points": 5,
     "schema_version": 3,
     "solution": false,
     "task": false
    }
   },
   "outputs": [],
   "source": [
    "#Please do not modify/delete this cell\n",
    "### BEGIN HIDDEN TESTS\n",
    "assert round(tauc_m,2)==0.74\n",
    "assert round(tauc_fm,2)==0.77\n",
    "### END HIDDEN TESTS"
   ]
  }
 ],
 "metadata": {
  "celltoolbar": "Create Assignment",
  "kernelspec": {
   "display_name": "Python 3",
   "language": "python",
   "name": "python3"
  },
  "language_info": {
   "codemirror_mode": {
    "name": "ipython",
    "version": 3
   },
   "file_extension": ".py",
   "mimetype": "text/x-python",
   "name": "python",
   "nbconvert_exporter": "python",
   "pygments_lexer": "ipython3",
   "version": "3.7.10"
  }
 },
 "nbformat": 4,
 "nbformat_minor": 4
}
