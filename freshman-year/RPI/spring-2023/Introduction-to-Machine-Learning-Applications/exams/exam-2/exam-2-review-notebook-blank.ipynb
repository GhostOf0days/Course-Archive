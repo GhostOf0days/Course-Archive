{
 "cells": [
  {
   "cell_type": "markdown",
   "id": "textile-retailer",
   "metadata": {
    "nbgrader": {
     "grade": false,
     "grade_id": "Instructions",
     "locked": true,
     "schema_version": 3,
     "solution": false,
     "task": false
    }
   },
   "source": [
    "# Exam 2 Review\n"
   ]
  },
  {
   "cell_type": "markdown",
   "id": "medieval-rally",
   "metadata": {
    "nbgrader": {
     "grade": false,
     "grade_id": "DataDesc",
     "locked": true,
     "schema_version": 3,
     "solution": false,
     "task": false
    }
   },
   "source": [
    "#### For this Review, we will be using Stroke data provided by WHO. The dataset is used to predict whether a patient is likely to get stroke based on the input parameters like gender, age, various diseases, and smoking status \n",
    "<ul> \n",
    "    <li>id: unique identifier</li>\n",
    "    <li>gender: \"Male\", \"Female\" or \"Other\"</li>\n",
    "    <li>age: age of the patient</li>\n",
    "    <li>hypertension: 0 if the patient doesn't have hypertension, 1 if the patient has hypertension</li>\n",
    "    <li>heart_disease: 0 if the patient doesn't have any heart diseases, 1 if the patient has a heart disease</li>\n",
    "    <li>ever_married: \"No\" or \"Yes\"</li>\n",
    "    <li>work_type: 'Private', 'Self-employed', 'Govt_job', 'children', 'Never_worked'</li>\n",
    "    <li>Residence_type: \"Rural\" or \"Urban\"</li>\n",
    "    <li>avg_glucose_level: average glucose level in blood</li>\n",
    "    <li>bmi: body mass index</li>\n",
    "    <li>smoking_status: \"formerly smoked\", \"never smoked\", \"smokes\" or \"Unknown\"*</li>\n",
    "    <li>stroke: 1 if the patient had a stroke or 0 if not -- <b>Class label column</b> </li>\n",
    "</ul>\n",
    "*Note: \"Unknown\" in smoking_status means that the information is unavailable for this patient"
   ]
  },
  {
   "cell_type": "code",
   "execution_count": null,
   "id": "arranged-fantasy",
   "metadata": {
    "nbgrader": {
     "grade": false,
     "grade_id": "LoadData",
     "locked": true,
     "schema_version": 3,
     "solution": false,
     "task": false
    }
   },
   "outputs": [],
   "source": [
    "#Please run this cell before answering the following questions \n",
    "import numpy as np\n",
    "import pandas as pd\n",
    "\n",
    "df=pd.read_csv('https://raw.githubusercontent.com/rpi-techfundamentals/website_fall_2022/master/site/public/newdf.csv')\n",
    "df.head()\n"
   ]
  },
  {
   "cell_type": "markdown",
   "id": "chief-mailman",
   "metadata": {
    "nbgrader": {
     "grade": false,
     "grade_id": "Q1",
     "locked": true,
     "schema_version": 3,
     "solution": false,
     "task": false
    }
   },
   "source": [
    "\n",
    "\n",
    "1. Perform standardization on **only** the nonbinary columns using the `StandardScaler()`, creating a final `DataFrame` `df2` that has all the columns and column names of the origional dataframe. \n",
    "\n"
   ]
  },
  {
   "cell_type": "code",
   "execution_count": null,
   "id": "related-scholarship",
   "metadata": {
    "nbgrader": {
     "grade": false,
     "grade_id": "Q1-Sol",
     "locked": false,
     "schema_version": 3,
     "solution": true,
     "task": false
    }
   },
   "outputs": [],
   "source": [
    "#Your answer"
   ]
  },
  {
   "cell_type": "markdown",
   "id": "smooth-mirror",
   "metadata": {
    "nbgrader": {
     "grade": false,
     "grade_id": "Q2",
     "locked": true,
     "schema_version": 3,
     "solution": false,
     "task": false
    }
   },
   "source": [
    "\n",
    "2. Transform the data using principal component analysis to include the top 5 components. The result should be an numpy array with the default column numbers and called `pca1`.  \n",
    "\n"
   ]
  },
  {
   "cell_type": "code",
   "execution_count": null,
   "id": "solid-initial",
   "metadata": {
    "nbgrader": {
     "grade": false,
     "grade_id": "Q2-Sol",
     "locked": false,
     "schema_version": 3,
     "solution": true,
     "task": false
    }
   },
   "outputs": [],
   "source": [
    "#Your answer"
   ]
  },
  {
   "cell_type": "markdown",
   "id": "d0192c17-3e8a-4a65-acf2-59e9e89ce170",
   "metadata": {},
   "source": [
    "3a. Transform the data using principal component analysis to include the 90% of the variance. The result should be an numpy array with the default column numbers and called `pca2`.  \n",
    "\n",
    "3b. Determine the percent of the variance explained by the 5 components in `pca1` and assign the value (0-1.0) to the variable `pca1_var`.\n",
    "\n",
    "\n",
    "\n"
   ]
  },
  {
   "cell_type": "code",
   "execution_count": null,
   "id": "e310193a-4abd-4f7e-8224-592728f59b7b",
   "metadata": {},
   "outputs": [],
   "source": [
    "# Your answer"
   ]
  },
  {
   "cell_type": "markdown",
   "id": "86629f0f-2c23-41bc-a7ba-90f861c29711",
   "metadata": {},
   "source": [
    "4. Determine the number of components in `pca2` that explain 90% of the variance and assign the value to the `pca2_comp`.\n"
   ]
  },
  {
   "cell_type": "code",
   "execution_count": null,
   "id": "demonstrated-platform",
   "metadata": {
    "nbgrader": {
     "grade": true,
     "grade_id": "6a",
     "locked": true,
     "points": 3,
     "schema_version": 3,
     "solution": false,
     "task": false
    }
   },
   "outputs": [],
   "source": [
    "# Your answer"
   ]
  },
  {
   "cell_type": "markdown",
   "id": "correct-rates",
   "metadata": {
    "nbgrader": {
     "grade": false,
     "grade_id": "Q3",
     "locked": true,
     "schema_version": 3,
     "solution": false,
     "task": false
    }
   },
   "source": [
    "5. Create a cluster analysis using K-means and 4 clusters. \n",
    "\n"
   ]
  },
  {
   "cell_type": "code",
   "execution_count": null,
   "id": "8604f41d-e579-4a42-bfac-d8711189a462",
   "metadata": {},
   "outputs": [],
   "source": [
    "# Your answer"
   ]
  },
  {
   "cell_type": "markdown",
   "id": "55a9c0df-b320-42d7-9816-ec4b6cd2ee8d",
   "metadata": {
    "nbgrader": {
     "grade": false,
     "grade_id": "cell-7ab691722dc22709",
     "locked": true,
     "schema_version": 3,
     "solution": false,
     "task": false
    }
   },
   "source": [
    "6. Predict `stroke` using 3 different classifiers and evaluate with 3 different appropriate evaluation metrics.\n"
   ]
  },
  {
   "cell_type": "code",
   "execution_count": null,
   "id": "hungry-newark",
   "metadata": {
    "nbgrader": {
     "grade": false,
     "grade_id": "Q3-Sol",
     "locked": false,
     "schema_version": 3,
     "solution": true,
     "task": false
    }
   },
   "outputs": [],
   "source": [
    "# Your answer\n",
    "\n",
    "\n",
    "\n"
   ]
  },
  {
   "cell_type": "markdown",
   "id": "82e86507-70cf-427e-9251-6ba4aff06a62",
   "metadata": {},
   "source": [
    "7. Predict `age` using 3 different regression models and evaluate with 3 different approriate evaluation metrics. \n"
   ]
  },
  {
   "cell_type": "code",
   "execution_count": null,
   "id": "dutch-thesis",
   "metadata": {
    "nbgrader": {
     "grade": true,
     "grade_id": "10",
     "locked": true,
     "points": 3,
     "schema_version": 3,
     "solution": false,
     "task": false
    }
   },
   "outputs": [],
   "source": [
    "# Your answer"
   ]
  }
 ],
 "metadata": {
  "celltoolbar": "Create Assignment",
  "kernelspec": {
   "display_name": "Python 3",
   "language": "python",
   "name": "python3"
  },
  "language_info": {
   "codemirror_mode": {
    "name": "ipython",
    "version": 3
   },
   "file_extension": ".py",
   "mimetype": "text/x-python",
   "name": "python",
   "nbconvert_exporter": "python",
   "pygments_lexer": "ipython3",
   "version": "3.7.10"
  }
 },
 "nbformat": 4,
 "nbformat_minor": 5
}
