{
 "cells": [
  {
   "cell_type": "markdown",
   "id": "electronic-sandwich",
   "metadata": {
    "nbgrader": {
     "grade": false,
     "grade_id": "Desc",
     "locked": true,
     "schema_version": 3,
     "solution": false,
     "task": false
    }
   },
   "source": [
    "###### Exam-2: Fall 2022\n",
    "#### Total number of points: 49\n",
    "\n",
    "This is an open-book test. However, talking or chatting with your classmates is NOT permitted and will be considered plagiarism. \n",
    "\n",
    "<b>Before you submit this test, make sure your answers are saved, and everything runs as expected</b>. \n",
    "\n",
    "- For empty notebook submissions, you will receive 0 points. \n",
    "- If instructions (including not using the same variable names) are not followed that led to a wrong answer, you will receive 0 points. \n",
    "\n",
    "First, restart the kernel (in the menu, select Kernel → Restart) and then run all cells (in the menubar, select Cell → Run All).\n",
    "Steps to evaluate your solutions:\n",
    "\n",
    "Step-1: Ensure you have installed Anaconda (Windows: https://docs.anaconda.com/anaconda/install/windows/ ; Mac:https://docs.anaconda.com/anaconda/install/mac-os/ ; Linux: https://docs.anaconda.com/anaconda/install/linux/)\n",
    "\n",
    "Step-2: Open the Jupyter Notebook by first launching the anaconda software console\n",
    "\n",
    "Step-3: Open the .ipynb file and write your solutions at the appropriate location \"# YOUR CODE HERE\"\n",
    "\n",
    "Step-4: You can restart the kernel and click run all (in the menubar, select Cell → Run All) on the center-right on the top of this window.\n",
    "\n",
    "Step-5: Now go to \"File\" then click on \"Download as\" then click on \"Notebook (.ipynb)\" Please DO NOT change the file name and just keep it as .ipynb file format\n",
    "\n",
    "Step-6: Go to lms.rpi.edu and upload your notebook at the appropriate link to submit this homework. Make sure your answers are saved before you submit. \n",
    "\n",
    "#### Please note that for any question in this test you will receive points ONLY if your solution passes all the hidden testcases. So please make sure you try to think all possible scenarios before submitting your answers.  \n",
    "- Note that hidden tests are present to ensure you are not hardcoding. \n",
    "- If caught cheating: \n",
    "    - you will receive a score of 0 for the 1st violation. \n",
    "    - for repeated incidents, you will receive an automatic 'F' grade and will be reported to the dean of Lally School of Management. "
   ]
  },
  {
   "cell_type": "markdown",
   "id": "removable-cursor",
   "metadata": {
    "nbgrader": {
     "grade": false,
     "grade_id": "Q1",
     "locked": true,
     "schema_version": 3,
     "solution": false,
     "task": false
    }
   },
   "source": [
    "### Q-1 [10 points] Please answer the following questions in the same order as listed here below: \n",
    "\n",
    "1. Assign variable `dataSize` and `features` with the total number of data points present in the dataset and the total number of features present in this dataset.\n",
    "2. Assign the the names of features present in the iris dataset to a list named `colnames`.\n",
    "3. Convert the data structure `X` into a dataframe `df`.  **Assign the column names as a approiate for the dataframe**."
   ]
  },
  {
   "cell_type": "code",
   "execution_count": 1,
   "id": "horizontal-northwest",
   "metadata": {
    "nbgrader": {
     "grade": false,
     "grade_id": "Q1-sol",
     "locked": false,
     "schema_version": 3,
     "solution": true,
     "task": false
    }
   },
   "outputs": [],
   "source": [
    "from sklearn.datasets import load_iris\n",
    "import pandas as pd\n",
    "\n",
    "iris = load_iris()\n",
    "X = iris.data\n",
    "y = iris.target\n",
    "\n",
    "### BEGIN SOLUTION\n",
    "colnames = iris.feature_names\n",
    "#print(colnames)\n",
    "\n",
    "dataSize = len(X)\n",
    "#print(dataSize)\n",
    "features = len(colnames)\n",
    "#print(features)\n",
    "\n",
    "#convert X from an ndarray to a dataframe with column names\n",
    "df = pd.DataFrame(X, columns=colnames)\n",
    "#print(df.head())\n",
    "#print(y)\n",
    "#print(type(df))\n",
    "#print(isinstance(df, pd.DataFrame))\n",
    "#print(df.loc[1].sum())\n",
    "### END SOLUTION"
   ]
  },
  {
   "cell_type": "code",
   "execution_count": 2,
   "id": "worldwide-change",
   "metadata": {
    "nbgrader": {
     "grade": false,
     "grade_id": "varcheck1",
     "locked": true,
     "schema_version": 3,
     "solution": false,
     "task": false
    }
   },
   "outputs": [],
   "source": [
    "#This will test that you have not mislabeled a variable. \n",
    "assert 'dataSize' in globals()\n",
    "assert 'features' in globals()\n",
    "assert 'colnames' in globals()\n",
    "assert 'X' in globals()\n",
    "assert 'y' in globals()\n",
    "assert 'df' in globals()"
   ]
  },
  {
   "cell_type": "code",
   "execution_count": 3,
   "id": "round-eagle",
   "metadata": {
    "nbgrader": {
     "grade": true,
     "grade_id": "1",
     "locked": true,
     "points": 4,
     "schema_version": 3,
     "solution": false,
     "task": false
    }
   },
   "outputs": [],
   "source": [
    "#Test cell-1 [4pt] Hidden tests\n",
    "#DO NOT MODIFY/DELETE THIS CELL \n",
    "\n",
    "### BEGIN HIDDEN TESTS\n",
    "assert dataSize==150\n",
    "assert features==4\n",
    "### END HIDDEN TESTS"
   ]
  },
  {
   "cell_type": "code",
   "execution_count": 4,
   "id": "martial-superior",
   "metadata": {
    "nbgrader": {
     "grade": true,
     "grade_id": "2",
     "locked": true,
     "points": 2,
     "schema_version": 3,
     "solution": false,
     "task": false
    }
   },
   "outputs": [],
   "source": [
    "#Test cell-2 [1pt] Hidden tests\n",
    "#DO NOT MODIFY/DELETE THIS CELL \n",
    "\n",
    "### BEGIN HIDDEN TESTS\n",
    "assert colnames==['sepal length (cm)', 'sepal width (cm)', 'petal length (cm)', 'petal width (cm)']\n",
    "### END HIDDEN TESTS"
   ]
  },
  {
   "cell_type": "code",
   "execution_count": 5,
   "id": "fancy-complexity",
   "metadata": {
    "nbgrader": {
     "grade": true,
     "grade_id": "3",
     "locked": true,
     "points": 4,
     "schema_version": 3,
     "solution": false,
     "task": false
    }
   },
   "outputs": [],
   "source": [
    "#Test cell-3 [4pt] Hidden tests\n",
    "#DO NOT MODIFY/DELETE THIS CELL \n",
    "### BEGIN HIDDEN TESTS\n",
    "assert isinstance(df, pd.DataFrame)==True\n",
    "assert df.loc[1].sum()==9.5\n",
    "### END HIDDEN TESTS"
   ]
  },
  {
   "cell_type": "markdown",
   "id": "received-bangkok",
   "metadata": {
    "nbgrader": {
     "grade": false,
     "grade_id": "Q2",
     "locked": true,
     "schema_version": 3,
     "solution": false,
     "task": false
    }
   },
   "source": [
    "### Q-2 [10 points] Please answer the following questions in the same order as listed here below: \n",
    "\n",
    "Use the dataframe `df` as loaded below following questions. \n",
    "\n",
    "This data consists of an dependent variable `Income` (`y`) and a variety of features (`X`) related to purchase history. \n",
    "\n",
    "1. Cluster the data in dataframe `X` using KMeans algorithm to create 3 clusters. Use a `random_state`=10. Save the Sum of squared distances of samples to their closest cluster center to a variable `C1_sse`.\n",
    "\n",
    "\n",
    "2. Save the cluster labels in the variable `C1_label`.  \n",
    "\n"
   ]
  },
  {
   "cell_type": "code",
   "execution_count": 6,
   "id": "07934851",
   "metadata": {
    "nbgrader": {
     "grade": false,
     "grade_id": "Q2-pre",
     "locked": true,
     "schema_version": 3,
     "solution": false,
     "task": false
    }
   },
   "outputs": [],
   "source": [
    "#This loads our data\n",
    "import pandas as pd\n",
    "pd.set_option('display.max_columns', None)\n",
    "df=pd.read_csv('https://raw.githubusercontent.com/rpi-techfundamentals/website_fall_2021/master/site/public/q2.csv' )\n",
    "X = df.iloc[:,1:22]\n",
    "y = df['Income']\n"
   ]
  },
  {
   "cell_type": "code",
   "execution_count": 7,
   "id": "ranging-arena",
   "metadata": {
    "nbgrader": {
     "grade": false,
     "grade_id": "Q2-Sol",
     "locked": false,
     "schema_version": 3,
     "solution": true,
     "task": false
    }
   },
   "outputs": [],
   "source": [
    "#Use the dataframe X for answering this question\n",
    "\n",
    "### BEGIN SOLUTION\n",
    "\n",
    "#k-means algorithm\n",
    "from sklearn.cluster import KMeans\n",
    "from sklearn.preprocessing import StandardScaler\n",
    "kmeans = KMeans(n_clusters=3, random_state=10).fit(X)\n",
    "C1_sse = kmeans.inertia_\n",
    "C1_label=kmeans.labels_\n",
    "#print(round(C1_sse,0))\n",
    "### END SOLUTION"
   ]
  },
  {
   "cell_type": "code",
   "execution_count": 8,
   "id": "maritime-allocation",
   "metadata": {
    "nbgrader": {
     "grade": false,
     "grade_id": "varcheck2",
     "locked": true,
     "schema_version": 3,
     "solution": false,
     "task": false
    }
   },
   "outputs": [],
   "source": [
    "#This will test that you have not mislabeled a variable. \n",
    "assert 'C1_sse' in globals()\n",
    "assert 'C1_label' in globals()\n"
   ]
  },
  {
   "cell_type": "code",
   "execution_count": 9,
   "id": "seeing-maryland",
   "metadata": {
    "nbgrader": {
     "grade": true,
     "grade_id": "4",
     "locked": true,
     "points": 5,
     "schema_version": 3,
     "solution": false,
     "task": false
    }
   },
   "outputs": [],
   "source": [
    "#Test cell-4 [5pt] Hidden tests\n",
    "#DO NOT MODIFY/DELETE THIS CELL \n",
    "### BEGIN HIDDEN TESTS\n",
    "assert round(C1_sse,0)==112838588.0\n",
    "### END HIDDEN TESTS"
   ]
  },
  {
   "cell_type": "code",
   "execution_count": 10,
   "id": "smart-soccer",
   "metadata": {
    "nbgrader": {
     "grade": true,
     "grade_id": "5",
     "locked": true,
     "points": 5,
     "schema_version": 3,
     "solution": false,
     "task": false
    }
   },
   "outputs": [],
   "source": [
    "#Test cell-5 [5pt] Hidden tests\n",
    "#DO NOT MODIFY/DELETE THIS CELL \n",
    "\n",
    "### BEGIN HIDDEN TESTS\n",
    "from sklearn import metrics\n",
    "kmeans2 = KMeans(n_clusters=3, random_state=10).fit(X)\n",
    "C1_label_answer=kmeans2.labels_\n",
    "assert metrics.adjusted_mutual_info_score(C1_label, C1_label_answer)==1.0\n",
    "### END HIDDEN TESTS"
   ]
  },
  {
   "cell_type": "markdown",
   "id": "8ff1adea",
   "metadata": {
    "nbgrader": {
     "grade": false,
     "grade_id": "Q3-2",
     "locked": true,
     "schema_version": 3,
     "solution": false,
     "task": false
    }
   },
   "source": [
    "### Q-3 [5 points] Please answer the following questions in the same order as listed here below: \n",
    "\n",
    "1. Standardize X using the `StandardScaler()` and assign it to a DataFrame X2 where the column names are the same as they are for the origional X. \n",
    "\n"
   ]
  },
  {
   "cell_type": "code",
   "execution_count": 11,
   "id": "5afe08cb",
   "metadata": {
    "nbgrader": {
     "grade": false,
     "grade_id": "Q3-2-SOL",
     "locked": false,
     "schema_version": 3,
     "solution": true,
     "task": false
    }
   },
   "outputs": [],
   "source": [
    "#Use the dataframe df created in Question-1 for answering this question\n",
    "\n",
    "#normalize the dataset \n",
    "X2 = StandardScaler().fit_transform(X)\n",
    "X2=pd.DataFrame(X2, columns =X.columns)\n",
    "\n",
    "### END SOLUTION"
   ]
  },
  {
   "cell_type": "code",
   "execution_count": 12,
   "id": "5b12c7f6",
   "metadata": {
    "nbgrader": {
     "grade": false,
     "grade_id": "varcheck3-2",
     "locked": true,
     "schema_version": 3,
     "solution": false,
     "task": false
    }
   },
   "outputs": [],
   "source": [
    "#This will test that you have not mislabeled a variable. \n",
    "assert 'X2' in globals()\n"
   ]
  },
  {
   "cell_type": "code",
   "execution_count": 13,
   "id": "455e05d7",
   "metadata": {
    "nbgrader": {
     "grade": true,
     "grade_id": "6a",
     "locked": true,
     "points": 3,
     "schema_version": 3,
     "solution": false,
     "task": false
    }
   },
   "outputs": [],
   "source": [
    "#Test cell-6a [3pt] Hidden tests\n",
    "#DO NOT MODIFY/DELETE THIS CELL \n",
    "\n",
    "### BEGIN HIDDEN TESTS\n",
    "assert X2.mean().sum()<=0.01\n",
    "\n",
    "### END HIDDEN TESTS"
   ]
  },
  {
   "cell_type": "code",
   "execution_count": 14,
   "id": "415b32f9",
   "metadata": {
    "nbgrader": {
     "grade": true,
     "grade_id": "6b",
     "locked": true,
     "points": 2,
     "schema_version": 3,
     "solution": false,
     "task": false
    }
   },
   "outputs": [],
   "source": [
    "#Test cell-6b [2pt] Hidden tests\n",
    "#DO NOT MODIFY/DELETE THIS CELL \n",
    "\n",
    "### BEGIN HIDDEN TESTS\n",
    "assert isinstance(X2, pd.DataFrame)==True\n",
    "\n",
    "### END HIDDEN TESTS"
   ]
  },
  {
   "cell_type": "markdown",
   "id": "retired-diary",
   "metadata": {
    "nbgrader": {
     "grade": false,
     "grade_id": "Q4",
     "locked": true,
     "schema_version": 3,
     "solution": false,
     "task": false
    }
   },
   "source": [
    "## Q-4 [12 points] Please answer the following questions in the same order as listed here below: \n",
    "\n",
    "Use the values `X_train`, `X_test`, `y_train`, `y_test` provided below to answer the following questions. \n",
    " \n",
    "2. Now use DecisionTreeRegressor with `random_state`=0 and `max_depth`=`9` to *train using the training dataset* and predict the `Income` using both the training dataset (creating `y_train_pred`) and testing dataset `y_test_pred`. \n",
    "\n",
    "3. Compute the r2 for both the training (`r2_train`) and testing (`r2_test`) . \n",
    "\n"
   ]
  },
  {
   "cell_type": "code",
   "execution_count": 15,
   "id": "30f5a8b1",
   "metadata": {
    "nbgrader": {
     "grade": false,
     "grade_id": "Q4-PRE",
     "locked": true,
     "schema_version": 3,
     "solution": false,
     "task": false
    }
   },
   "outputs": [],
   "source": [
    "from sklearn.model_selection import train_test_split\n",
    "df=pd.read_csv('https://raw.githubusercontent.com/rpi-techfundamentals/website_fall_2021/master/site/public/q2.csv' )\n",
    "X = df.iloc[:,1:22]\n",
    "y = df['Income']\n",
    "X_train, X_test, y_train, y_test = train_test_split(X, y, test_size=0.5, random_state=10)\n"
   ]
  },
  {
   "cell_type": "code",
   "execution_count": 16,
   "id": "plain-mixture",
   "metadata": {
    "nbgrader": {
     "grade": false,
     "grade_id": "Q4-Sol",
     "locked": false,
     "schema_version": 3,
     "solution": true,
     "task": false
    }
   },
   "outputs": [],
   "source": [
    "from sklearn.tree import DecisionTreeRegressor\n",
    "\n",
    "\n",
    "### BEGIN SOLUTION\n",
    "\n",
    "dt = DecisionTreeRegressor(max_depth=9, random_state=0)\n",
    "dt.fit(X_train, y_train)\n",
    "y_train_pred = dt.predict(X_train)\n",
    "y_test_pred = dt.predict(X_test)\n",
    "\n",
    "r2_train=metrics.r2_score(y_train, y_train_pred)\n",
    "r2_test=metrics.r2_score(y_test, y_test_pred)\n",
    "\n",
    "### END SOLUTION"
   ]
  },
  {
   "cell_type": "code",
   "execution_count": 17,
   "id": "intelligent-strap",
   "metadata": {
    "nbgrader": {
     "grade": false,
     "grade_id": "varcheck4",
     "locked": true,
     "schema_version": 3,
     "solution": false,
     "task": false
    }
   },
   "outputs": [],
   "source": [
    "#This will test that you have not mislabeled a variable. \n",
    "\n",
    "assert 'y_train_pred' in globals()\n",
    "assert 'y_test_pred' in globals()\n",
    "assert 'r2_train' in globals()\n",
    "assert 'r2_test' in globals()"
   ]
  },
  {
   "cell_type": "code",
   "execution_count": 18,
   "id": "african-chinese",
   "metadata": {
    "nbgrader": {
     "grade": true,
     "grade_id": "7",
     "locked": true,
     "points": 3,
     "schema_version": 3,
     "solution": false,
     "task": false
    }
   },
   "outputs": [],
   "source": [
    "#Test cell-7 [3pt] Hidden tests\n",
    "#DO NOT MODIFY/DELETE THIS CELL \n",
    "#print(round(y_train_pred.sum(),0))\n",
    "### BEGIN HIDDEN TESTS\n",
    "assert round(y_train_pred.sum(),0)==58408472.0\n",
    "### END HIDDEN TESTS"
   ]
  },
  {
   "cell_type": "code",
   "execution_count": 19,
   "id": "acknowledged-footage",
   "metadata": {
    "nbgrader": {
     "grade": true,
     "grade_id": "8",
     "locked": true,
     "points": 3,
     "schema_version": 3,
     "solution": false,
     "task": false
    }
   },
   "outputs": [],
   "source": [
    "#Test cell-8 [3pt] Hidden tests\n",
    "#DO NOT MODIFY/DELETE THIS CELL \n",
    "#print(round(y_test_pred.sum(),0))\n",
    "### BEGIN HIDDEN TESTS\n",
    "assert round(y_test_pred.sum(),0)==58710341.0\n",
    "### END HIDDEN TESTS"
   ]
  },
  {
   "cell_type": "code",
   "execution_count": 20,
   "id": "disabled-cycling",
   "metadata": {
    "nbgrader": {
     "grade": true,
     "grade_id": "9",
     "locked": true,
     "points": 3,
     "schema_version": 3,
     "solution": false,
     "task": false
    }
   },
   "outputs": [],
   "source": [
    "#Test cell-9 [3pt] Hidden tests\n",
    "#DO NOT MODIFY/DELETE THIS CELL \n",
    "#print(round(r2_train,3))\n",
    "### BEGIN HIDDEN TESTS\n",
    "assert round(r2_train,3)==0.969\n",
    "### END HIDDEN TESTS"
   ]
  },
  {
   "cell_type": "code",
   "execution_count": 21,
   "id": "e5f00d7b",
   "metadata": {
    "nbgrader": {
     "grade": true,
     "grade_id": "10",
     "locked": true,
     "points": 3,
     "schema_version": 3,
     "solution": false,
     "task": false
    }
   },
   "outputs": [],
   "source": [
    "#Test cell-10 [3pt] Hidden tests\n",
    "#DO NOT MODIFY/DELETE THIS CELL \n",
    "#print(round(r2_test,3))\n",
    "### BEGIN HIDDEN TESTS\n",
    "assert round(r2_test,3)==0.571\n",
    "### END HIDDEN TESTS"
   ]
  },
  {
   "cell_type": "markdown",
   "id": "57b7899c",
   "metadata": {},
   "source": [
    "## Q-5 [12 points] Please answer the following questions in the same order as listed here below: \n",
    "3. Now train a logistic regression classifier (with `random_state`=0 and `solver`=`newton-cg`) to predict whether someone is a high earner (they have an income one standard deviation above the mean.) Train on the training data below and predict using both the training (`y_train_pred_b`) and test (`y_test_pred_b`) sets. \n",
    "\n",
    "Compute the accuracy score  of training (`accuracy_train`) and  test (`accuracy_test`). \n"
   ]
  },
  {
   "cell_type": "code",
   "execution_count": 22,
   "id": "9c399136",
   "metadata": {},
   "outputs": [],
   "source": [
    "from sklearn.model_selection import train_test_split\n",
    "df=pd.read_csv('https://raw.githubusercontent.com/rpi-techfundamentals/website_fall_2021/master/site/public/q2.csv' )\n",
    "X = df.iloc[:,1:22]\n",
    "#Set threshold of mean plus 1 standard devaiation\n",
    "high_earner_thres=df['Income'].mean()+df['Income'].std()\n",
    "df['HighEarner']=0\n",
    "df.loc[df['Income']>=high_earner_thres,'HighEarner']=1\n",
    "y=df['HighEarner']\n",
    "X_train, X_test, y_train, y_test = train_test_split(X, y, test_size=0.5, random_state=10)\n"
   ]
  },
  {
   "cell_type": "code",
   "execution_count": 23,
   "id": "bdc8a4f5",
   "metadata": {
    "nbgrader": {
     "grade": false,
     "grade_id": "Q5",
     "locked": false,
     "schema_version": 3,
     "solution": true,
     "task": false
    }
   },
   "outputs": [
    {
     "name": "stdout",
     "output_type": "stream",
     "text": [
      "121 112 0.93 0.91\n"
     ]
    }
   ],
   "source": [
    "from sklearn.linear_model import LogisticRegression\n",
    "### BEGIN SOLUTION\n",
    "\n",
    "dt = LogisticRegression(random_state=0, solver='newton-cg')\n",
    "dt.fit(X_train, y_train)\n",
    "y_train_pred_b = dt.predict(X_train)\n",
    "y_test_pred_b = dt.predict(X_test)\n",
    "\n",
    "accuracy_train=metrics.accuracy_score(y_train, y_train_pred_b)\n",
    "accuracy_test=metrics.accuracy_score(y_test,y_test_pred_b)\n",
    "print(y_train_pred_b.sum(),y_test_pred_b.sum(),round(accuracy_train,2),round(accuracy_test,2 ))\n",
    "### END SOLUTION"
   ]
  },
  {
   "cell_type": "code",
   "execution_count": 24,
   "id": "323f76e3",
   "metadata": {},
   "outputs": [],
   "source": [
    "#This will test that you have not mislabeled a variable. \n",
    "\n",
    "assert 'y_train_pred_b' in globals()\n",
    "assert 'y_test_pred_b' in globals()\n",
    "assert 'accuracy_train' in globals()\n",
    "assert 'accuracy_test' in globals()"
   ]
  },
  {
   "cell_type": "code",
   "execution_count": 25,
   "id": "60d861db",
   "metadata": {
    "nbgrader": {
     "grade": true,
     "grade_id": "11",
     "locked": true,
     "points": 3,
     "schema_version": 3,
     "solution": false,
     "task": false
    }
   },
   "outputs": [],
   "source": [
    "#Test cell-11 [3pt] Hidden tests\n",
    "#DO NOT MODIFY/DELETE THIS CELL \n",
    "#print(round(y_train_pred.sum(),0))\n",
    "### BEGIN HIDDEN TESTS\n",
    "assert round(y_train_pred_b.sum(),0)==121\n",
    "### END HIDDEN TESTS"
   ]
  },
  {
   "cell_type": "code",
   "execution_count": 26,
   "id": "aab5f7d0",
   "metadata": {
    "nbgrader": {
     "grade": true,
     "grade_id": "12",
     "locked": true,
     "points": 3,
     "schema_version": 3,
     "solution": false,
     "task": false
    }
   },
   "outputs": [],
   "source": [
    "#Test cell-12 [3pt] Hidden tests\n",
    "#DO NOT MODIFY/DELETE THIS CELL \n",
    "#print(round(y_train_pred.sum(),0))\n",
    "### BEGIN HIDDEN TESTS\n",
    "assert round(y_test_pred_b.sum(),0)==112\n",
    "### END HIDDEN TESTS"
   ]
  },
  {
   "cell_type": "code",
   "execution_count": 27,
   "id": "06143bb4",
   "metadata": {
    "nbgrader": {
     "grade": true,
     "grade_id": "13",
     "locked": true,
     "points": 3,
     "schema_version": 3,
     "solution": false,
     "task": false
    }
   },
   "outputs": [],
   "source": [
    "#Test cell-13 [3pt] Hidden tests\n",
    "#DO NOT MODIFY/DELETE THIS CELL \n",
    "#print(round(y_train_pred.sum(),0))\n",
    "### BEGIN HIDDEN TESTS\n",
    "assert round(accuracy_train.sum(),2)==0.93\n",
    "### END HIDDEN TESTS"
   ]
  },
  {
   "cell_type": "code",
   "execution_count": 28,
   "id": "916b55b4",
   "metadata": {
    "nbgrader": {
     "grade": true,
     "grade_id": "14",
     "locked": true,
     "points": 3,
     "schema_version": 3,
     "solution": false,
     "task": false
    }
   },
   "outputs": [],
   "source": [
    "#Test cell-14 [3pt] Hidden tests\n",
    "#DO NOT MODIFY/DELETE THIS CELL \n",
    "#print(round(y_train_pred.sum(),0))\n",
    "### BEGIN HIDDEN TESTS\n",
    "assert round(accuracy_test.sum(),2)==0.91\n",
    "### END HIDDEN TESTS"
   ]
  }
 ],
 "metadata": {
  "celltoolbar": "Create Assignment",
  "kernelspec": {
   "display_name": "Python 3",
   "language": "python",
   "name": "python3"
  },
  "language_info": {
   "codemirror_mode": {
    "name": "ipython",
    "version": 3
   },
   "file_extension": ".py",
   "mimetype": "text/x-python",
   "name": "python",
   "nbconvert_exporter": "python",
   "pygments_lexer": "ipython3",
   "version": "3.7.10"
  }
 },
 "nbformat": 4,
 "nbformat_minor": 5
}
