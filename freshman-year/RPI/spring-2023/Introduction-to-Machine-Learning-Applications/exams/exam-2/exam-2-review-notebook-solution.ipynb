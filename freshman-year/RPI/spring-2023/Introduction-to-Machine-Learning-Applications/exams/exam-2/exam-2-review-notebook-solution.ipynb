{
 "cells": [
  {
   "cell_type": "markdown",
   "id": "textile-retailer",
   "metadata": {
    "nbgrader": {
     "grade": false,
     "grade_id": "Instructions",
     "locked": true,
     "schema_version": 3,
     "solution": false,
     "task": false
    }
   },
   "source": [
    "# Exam 2 Review\n"
   ]
  },
  {
   "cell_type": "markdown",
   "id": "medieval-rally",
   "metadata": {
    "nbgrader": {
     "grade": false,
     "grade_id": "DataDesc",
     "locked": true,
     "schema_version": 3,
     "solution": false,
     "task": false
    }
   },
   "source": [
    "#### For this Review, we will be using Stroke data provided by WHO. The dataset is used to predict whether a patient is likely to get stroke based on the input parameters like gender, age, various diseases, and smoking status \n",
    "<ul> \n",
    "    <li>id: unique identifier</li>\n",
    "    <li>gender: \"Male\", \"Female\" or \"Other\"</li>\n",
    "    <li>age: age of the patient</li>\n",
    "    <li>hypertension: 0 if the patient doesn't have hypertension, 1 if the patient has hypertension</li>\n",
    "    <li>heart_disease: 0 if the patient doesn't have any heart diseases, 1 if the patient has a heart disease</li>\n",
    "    <li>ever_married: \"No\" or \"Yes\"</li>\n",
    "    <li>work_type: 'Private', 'Self-employed', 'Govt_job', 'children', 'Never_worked'</li>\n",
    "    <li>Residence_type: \"Rural\" or \"Urban\"</li>\n",
    "    <li>avg_glucose_level: average glucose level in blood</li>\n",
    "    <li>bmi: body mass index</li>\n",
    "    <li>smoking_status: \"formerly smoked\", \"never smoked\", \"smokes\" or \"Unknown\"*</li>\n",
    "    <li>stroke: 1 if the patient had a stroke or 0 if not -- <b>Class label column</b> </li>\n",
    "</ul>\n",
    "*Note: \"Unknown\" in smoking_status means that the information is unavailable for this patient"
   ]
  },
  {
   "cell_type": "code",
   "execution_count": 2,
   "id": "arranged-fantasy",
   "metadata": {
    "nbgrader": {
     "grade": false,
     "grade_id": "LoadData",
     "locked": true,
     "schema_version": 3,
     "solution": false,
     "task": false
    }
   },
   "outputs": [
    {
     "data": {
      "text/plain": "    age  hypertension  heart_disease  avg_glucose_level        bmi  stroke  \\\n0  67.0             0              1             228.69  36.600000       1   \n1  61.0             0              0             202.21  28.893237       1   \n2  80.0             0              1             105.92  32.500000       1   \n3  49.0             0              0             171.23  34.400000       1   \n4  79.0             1              0             174.12  24.000000       1   \n\n   gender_Male  gender_Other  ever_married_Yes  work_type_Never_worked  \\\n0            1             0                 1                       0   \n1            0             0                 1                       0   \n2            1             0                 1                       0   \n3            0             0                 1                       0   \n4            0             0                 1                       0   \n\n   work_type_Private  work_type_Self-employed  work_type_children  \\\n0                  1                        0                   0   \n1                  0                        1                   0   \n2                  1                        0                   0   \n3                  1                        0                   0   \n4                  0                        1                   0   \n\n   Residence_type_Urban  smoking_status_formerly smoked  \\\n0                     1                               1   \n1                     0                               0   \n2                     0                               0   \n3                     1                               0   \n4                     0                               0   \n\n   smoking_status_never smoked  smoking_status_smokes  \n0                            0                      0  \n1                            1                      0  \n2                            1                      0  \n3                            0                      1  \n4                            1                      0  ",
      "text/html": "<div>\n<style scoped>\n    .dataframe tbody tr th:only-of-type {\n        vertical-align: middle;\n    }\n\n    .dataframe tbody tr th {\n        vertical-align: top;\n    }\n\n    .dataframe thead th {\n        text-align: right;\n    }\n</style>\n<table border=\"1\" class=\"dataframe\">\n  <thead>\n    <tr style=\"text-align: right;\">\n      <th></th>\n      <th>age</th>\n      <th>hypertension</th>\n      <th>heart_disease</th>\n      <th>avg_glucose_level</th>\n      <th>bmi</th>\n      <th>stroke</th>\n      <th>gender_Male</th>\n      <th>gender_Other</th>\n      <th>ever_married_Yes</th>\n      <th>work_type_Never_worked</th>\n      <th>work_type_Private</th>\n      <th>work_type_Self-employed</th>\n      <th>work_type_children</th>\n      <th>Residence_type_Urban</th>\n      <th>smoking_status_formerly smoked</th>\n      <th>smoking_status_never smoked</th>\n      <th>smoking_status_smokes</th>\n    </tr>\n  </thead>\n  <tbody>\n    <tr>\n      <th>0</th>\n      <td>67.0</td>\n      <td>0</td>\n      <td>1</td>\n      <td>228.69</td>\n      <td>36.600000</td>\n      <td>1</td>\n      <td>1</td>\n      <td>0</td>\n      <td>1</td>\n      <td>0</td>\n      <td>1</td>\n      <td>0</td>\n      <td>0</td>\n      <td>1</td>\n      <td>1</td>\n      <td>0</td>\n      <td>0</td>\n    </tr>\n    <tr>\n      <th>1</th>\n      <td>61.0</td>\n      <td>0</td>\n      <td>0</td>\n      <td>202.21</td>\n      <td>28.893237</td>\n      <td>1</td>\n      <td>0</td>\n      <td>0</td>\n      <td>1</td>\n      <td>0</td>\n      <td>0</td>\n      <td>1</td>\n      <td>0</td>\n      <td>0</td>\n      <td>0</td>\n      <td>1</td>\n      <td>0</td>\n    </tr>\n    <tr>\n      <th>2</th>\n      <td>80.0</td>\n      <td>0</td>\n      <td>1</td>\n      <td>105.92</td>\n      <td>32.500000</td>\n      <td>1</td>\n      <td>1</td>\n      <td>0</td>\n      <td>1</td>\n      <td>0</td>\n      <td>1</td>\n      <td>0</td>\n      <td>0</td>\n      <td>0</td>\n      <td>0</td>\n      <td>1</td>\n      <td>0</td>\n    </tr>\n    <tr>\n      <th>3</th>\n      <td>49.0</td>\n      <td>0</td>\n      <td>0</td>\n      <td>171.23</td>\n      <td>34.400000</td>\n      <td>1</td>\n      <td>0</td>\n      <td>0</td>\n      <td>1</td>\n      <td>0</td>\n      <td>1</td>\n      <td>0</td>\n      <td>0</td>\n      <td>1</td>\n      <td>0</td>\n      <td>0</td>\n      <td>1</td>\n    </tr>\n    <tr>\n      <th>4</th>\n      <td>79.0</td>\n      <td>1</td>\n      <td>0</td>\n      <td>174.12</td>\n      <td>24.000000</td>\n      <td>1</td>\n      <td>0</td>\n      <td>0</td>\n      <td>1</td>\n      <td>0</td>\n      <td>0</td>\n      <td>1</td>\n      <td>0</td>\n      <td>0</td>\n      <td>0</td>\n      <td>1</td>\n      <td>0</td>\n    </tr>\n  </tbody>\n</table>\n</div>"
     },
     "execution_count": 2,
     "metadata": {},
     "output_type": "execute_result"
    }
   ],
   "source": [
    "#Please run this cell before answering the following questions \n",
    "import numpy as np\n",
    "import pandas as pd\n",
    "\n",
    "df=pd.read_csv('https://raw.githubusercontent.com/rpi-techfundamentals/website_fall_2022/master/site/public/newdf.csv')\n",
    "df.head()"
   ]
  },
  {
   "cell_type": "markdown",
   "id": "chief-mailman",
   "metadata": {
    "nbgrader": {
     "grade": false,
     "grade_id": "Q1",
     "locked": true,
     "schema_version": 3,
     "solution": false,
     "task": false
    }
   },
   "source": [
    "\n",
    "\n",
    "1. Perform standardization on **only** the nonbinary columns using the `StandardScaler()`, creating a final `DataFrame` `df2` that has all the columns and column names of the origional dataframe. \n",
    "\n"
   ]
  },
  {
   "cell_type": "code",
   "execution_count": 3,
   "id": "related-scholarship",
   "metadata": {
    "nbgrader": {
     "grade": false,
     "grade_id": "Q1-Sol",
     "locked": false,
     "schema_version": 3,
     "solution": true,
     "task": false
    }
   },
   "outputs": [
    {
     "data": {
      "text/plain": "           age  hypertension  heart_disease  avg_glucose_level       bmi  \\\n0     1.051434             0              1           2.706375  1.001234   \n1     0.786070             0              0           2.121559  0.000000   \n2     1.626390             0              1          -0.005028  0.468577   \n3     0.255342             0              0           1.437358  0.715418   \n4     1.582163             1              0           1.501184 -0.635711   \n...        ...           ...            ...                ...       ...   \n5105  1.626390             1              0          -0.494658  0.000000   \n5106  1.670617             0              0           0.420775  1.442949   \n5107 -0.363842             0              0          -0.511443  0.221736   \n5108  0.343796             0              0           1.328257 -0.427845   \n5109  0.034205             0              0          -0.460867 -0.349895   \n\n      stroke  gender_Male  gender_Other  ever_married_Yes  \\\n0          1            1             0                 1   \n1          1            0             0                 1   \n2          1            1             0                 1   \n3          1            0             0                 1   \n4          1            0             0                 1   \n...      ...          ...           ...               ...   \n5105       0            0             0                 1   \n5106       0            0             0                 1   \n5107       0            0             0                 1   \n5108       0            1             0                 1   \n5109       0            0             0                 1   \n\n      work_type_Never_worked  work_type_Private  work_type_Self-employed  \\\n0                          0                  1                        0   \n1                          0                  0                        1   \n2                          0                  1                        0   \n3                          0                  1                        0   \n4                          0                  0                        1   \n...                      ...                ...                      ...   \n5105                       0                  1                        0   \n5106                       0                  0                        1   \n5107                       0                  0                        1   \n5108                       0                  1                        0   \n5109                       0                  0                        0   \n\n      work_type_children  Residence_type_Urban  \\\n0                      0                     1   \n1                      0                     0   \n2                      0                     0   \n3                      0                     1   \n4                      0                     0   \n...                  ...                   ...   \n5105                   0                     1   \n5106                   0                     1   \n5107                   0                     0   \n5108                   0                     0   \n5109                   0                     1   \n\n      smoking_status_formerly smoked  smoking_status_never smoked  \\\n0                                  1                            0   \n1                                  0                            1   \n2                                  0                            1   \n3                                  0                            0   \n4                                  0                            1   \n...                              ...                          ...   \n5105                               0                            1   \n5106                               0                            1   \n5107                               0                            1   \n5108                               1                            0   \n5109                               0                            0   \n\n      smoking_status_smokes  \n0                         0  \n1                         0  \n2                         0  \n3                         1  \n4                         0  \n...                     ...  \n5105                      0  \n5106                      0  \n5107                      0  \n5108                      0  \n5109                      0  \n\n[5110 rows x 17 columns]",
      "text/html": "<div>\n<style scoped>\n    .dataframe tbody tr th:only-of-type {\n        vertical-align: middle;\n    }\n\n    .dataframe tbody tr th {\n        vertical-align: top;\n    }\n\n    .dataframe thead th {\n        text-align: right;\n    }\n</style>\n<table border=\"1\" class=\"dataframe\">\n  <thead>\n    <tr style=\"text-align: right;\">\n      <th></th>\n      <th>age</th>\n      <th>hypertension</th>\n      <th>heart_disease</th>\n      <th>avg_glucose_level</th>\n      <th>bmi</th>\n      <th>stroke</th>\n      <th>gender_Male</th>\n      <th>gender_Other</th>\n      <th>ever_married_Yes</th>\n      <th>work_type_Never_worked</th>\n      <th>work_type_Private</th>\n      <th>work_type_Self-employed</th>\n      <th>work_type_children</th>\n      <th>Residence_type_Urban</th>\n      <th>smoking_status_formerly smoked</th>\n      <th>smoking_status_never smoked</th>\n      <th>smoking_status_smokes</th>\n    </tr>\n  </thead>\n  <tbody>\n    <tr>\n      <th>0</th>\n      <td>1.051434</td>\n      <td>0</td>\n      <td>1</td>\n      <td>2.706375</td>\n      <td>1.001234</td>\n      <td>1</td>\n      <td>1</td>\n      <td>0</td>\n      <td>1</td>\n      <td>0</td>\n      <td>1</td>\n      <td>0</td>\n      <td>0</td>\n      <td>1</td>\n      <td>1</td>\n      <td>0</td>\n      <td>0</td>\n    </tr>\n    <tr>\n      <th>1</th>\n      <td>0.786070</td>\n      <td>0</td>\n      <td>0</td>\n      <td>2.121559</td>\n      <td>0.000000</td>\n      <td>1</td>\n      <td>0</td>\n      <td>0</td>\n      <td>1</td>\n      <td>0</td>\n      <td>0</td>\n      <td>1</td>\n      <td>0</td>\n      <td>0</td>\n      <td>0</td>\n      <td>1</td>\n      <td>0</td>\n    </tr>\n    <tr>\n      <th>2</th>\n      <td>1.626390</td>\n      <td>0</td>\n      <td>1</td>\n      <td>-0.005028</td>\n      <td>0.468577</td>\n      <td>1</td>\n      <td>1</td>\n      <td>0</td>\n      <td>1</td>\n      <td>0</td>\n      <td>1</td>\n      <td>0</td>\n      <td>0</td>\n      <td>0</td>\n      <td>0</td>\n      <td>1</td>\n      <td>0</td>\n    </tr>\n    <tr>\n      <th>3</th>\n      <td>0.255342</td>\n      <td>0</td>\n      <td>0</td>\n      <td>1.437358</td>\n      <td>0.715418</td>\n      <td>1</td>\n      <td>0</td>\n      <td>0</td>\n      <td>1</td>\n      <td>0</td>\n      <td>1</td>\n      <td>0</td>\n      <td>0</td>\n      <td>1</td>\n      <td>0</td>\n      <td>0</td>\n      <td>1</td>\n    </tr>\n    <tr>\n      <th>4</th>\n      <td>1.582163</td>\n      <td>1</td>\n      <td>0</td>\n      <td>1.501184</td>\n      <td>-0.635711</td>\n      <td>1</td>\n      <td>0</td>\n      <td>0</td>\n      <td>1</td>\n      <td>0</td>\n      <td>0</td>\n      <td>1</td>\n      <td>0</td>\n      <td>0</td>\n      <td>0</td>\n      <td>1</td>\n      <td>0</td>\n    </tr>\n    <tr>\n      <th>...</th>\n      <td>...</td>\n      <td>...</td>\n      <td>...</td>\n      <td>...</td>\n      <td>...</td>\n      <td>...</td>\n      <td>...</td>\n      <td>...</td>\n      <td>...</td>\n      <td>...</td>\n      <td>...</td>\n      <td>...</td>\n      <td>...</td>\n      <td>...</td>\n      <td>...</td>\n      <td>...</td>\n      <td>...</td>\n    </tr>\n    <tr>\n      <th>5105</th>\n      <td>1.626390</td>\n      <td>1</td>\n      <td>0</td>\n      <td>-0.494658</td>\n      <td>0.000000</td>\n      <td>0</td>\n      <td>0</td>\n      <td>0</td>\n      <td>1</td>\n      <td>0</td>\n      <td>1</td>\n      <td>0</td>\n      <td>0</td>\n      <td>1</td>\n      <td>0</td>\n      <td>1</td>\n      <td>0</td>\n    </tr>\n    <tr>\n      <th>5106</th>\n      <td>1.670617</td>\n      <td>0</td>\n      <td>0</td>\n      <td>0.420775</td>\n      <td>1.442949</td>\n      <td>0</td>\n      <td>0</td>\n      <td>0</td>\n      <td>1</td>\n      <td>0</td>\n      <td>0</td>\n      <td>1</td>\n      <td>0</td>\n      <td>1</td>\n      <td>0</td>\n      <td>1</td>\n      <td>0</td>\n    </tr>\n    <tr>\n      <th>5107</th>\n      <td>-0.363842</td>\n      <td>0</td>\n      <td>0</td>\n      <td>-0.511443</td>\n      <td>0.221736</td>\n      <td>0</td>\n      <td>0</td>\n      <td>0</td>\n      <td>1</td>\n      <td>0</td>\n      <td>0</td>\n      <td>1</td>\n      <td>0</td>\n      <td>0</td>\n      <td>0</td>\n      <td>1</td>\n      <td>0</td>\n    </tr>\n    <tr>\n      <th>5108</th>\n      <td>0.343796</td>\n      <td>0</td>\n      <td>0</td>\n      <td>1.328257</td>\n      <td>-0.427845</td>\n      <td>0</td>\n      <td>1</td>\n      <td>0</td>\n      <td>1</td>\n      <td>0</td>\n      <td>1</td>\n      <td>0</td>\n      <td>0</td>\n      <td>0</td>\n      <td>1</td>\n      <td>0</td>\n      <td>0</td>\n    </tr>\n    <tr>\n      <th>5109</th>\n      <td>0.034205</td>\n      <td>0</td>\n      <td>0</td>\n      <td>-0.460867</td>\n      <td>-0.349895</td>\n      <td>0</td>\n      <td>0</td>\n      <td>0</td>\n      <td>1</td>\n      <td>0</td>\n      <td>0</td>\n      <td>0</td>\n      <td>0</td>\n      <td>1</td>\n      <td>0</td>\n      <td>0</td>\n      <td>0</td>\n    </tr>\n  </tbody>\n</table>\n<p>5110 rows × 17 columns</p>\n</div>"
     },
     "execution_count": 3,
     "metadata": {},
     "output_type": "execute_result"
    }
   ],
   "source": [
    "from sklearn.preprocessing import StandardScaler\n",
    "\n",
    "#Your answer\n",
    "CONTINUOUS_NUMERIC_COLUMNS = [\"age\", \"avg_glucose_level\", \"bmi\"]\n",
    "df2 = df.copy()\n",
    "df2[CONTINUOUS_NUMERIC_COLUMNS] = StandardScaler().fit_transform(df[CONTINUOUS_NUMERIC_COLUMNS])\n",
    "df2"
   ]
  },
  {
   "cell_type": "markdown",
   "id": "smooth-mirror",
   "metadata": {
    "nbgrader": {
     "grade": false,
     "grade_id": "Q2",
     "locked": true,
     "schema_version": 3,
     "solution": false,
     "task": false
    }
   },
   "source": [
    "\n",
    "2. Transform the data using principal component analysis to include the top 5 components. The result should be an numpy array with the default column numbers and called `pca1`.\n",
    "\n"
   ]
  },
  {
   "cell_type": "code",
   "execution_count": 4,
   "id": "solid-initial",
   "metadata": {
    "nbgrader": {
     "grade": false,
     "grade_id": "Q2-Sol",
     "locked": false,
     "schema_version": 3,
     "solution": true,
     "task": false
    }
   },
   "outputs": [
    {
     "data": {
      "text/plain": "array([[ 2.57206124, -1.82560776,  0.38328794,  0.25214804, -0.89837168],\n       [ 1.55660204, -1.70834846, -0.3682611 ,  0.02841292,  1.17063408],\n       [ 1.50236952,  0.49996938, -0.75000128, -0.50661675, -0.03075054],\n       ...,\n       [-0.1944439 ,  0.53217442,  0.10133747,  0.159054  ,  1.18787663],\n       [ 0.68511938, -1.2403788 , -0.33913944, -0.0769096 , -0.88478981],\n       [-0.3543788 ,  0.28669177, -0.44316313,  0.33822216,  0.1579709 ]])"
     },
     "execution_count": 4,
     "metadata": {},
     "output_type": "execute_result"
    }
   ],
   "source": [
    "from sklearn.decomposition import PCA\n",
    "\n",
    "#Your answer\n",
    "pca_5_components = PCA(n_components=5)\n",
    "pca1 = pca_5_components.fit_transform(df2)\n",
    "pca1"
   ]
  },
  {
   "cell_type": "markdown",
   "id": "d0192c17-3e8a-4a65-acf2-59e9e89ce170",
   "metadata": {},
   "source": [
    "3a. Transform the data using principal component analysis to include the 90% of the variance. The result should be an numpy array with the default column numbers and called `pca2`.  \n",
    "\n",
    "3b. Determine the percent of the variance explained by the 5 components in `pca1` and assign the value (0-1.0) to the variable `pca1_var`.\n",
    "\n",
    "\n",
    "\n"
   ]
  },
  {
   "cell_type": "code",
   "execution_count": 5,
   "id": "e310193a-4abd-4f7e-8224-592728f59b7b",
   "metadata": {},
   "outputs": [
    {
     "data": {
      "text/plain": "0.7807049382532658"
     },
     "execution_count": 5,
     "metadata": {},
     "output_type": "execute_result"
    }
   ],
   "source": [
    "# Your answer\n",
    "pca_90_percent_variance = PCA(0.9)\n",
    "pca2 = pca_90_percent_variance.fit_transform(df2)\n",
    "pca1_var = pca_5_components.explained_variance_ratio_.sum()\n",
    "pca1_var"
   ]
  },
  {
   "cell_type": "markdown",
   "id": "86629f0f-2c23-41bc-a7ba-90f861c29711",
   "metadata": {},
   "source": [
    "4. Determine the number of components in `pca2` that explain 90% of the variance and assign the value to the `pca2_comp`.\n"
   ]
  },
  {
   "cell_type": "code",
   "execution_count": 6,
   "id": "demonstrated-platform",
   "metadata": {
    "nbgrader": {
     "grade": true,
     "grade_id": "6a",
     "locked": true,
     "points": 3,
     "schema_version": 3,
     "solution": false,
     "task": false
    }
   },
   "outputs": [
    {
     "data": {
      "text/plain": "8"
     },
     "execution_count": 6,
     "metadata": {},
     "output_type": "execute_result"
    }
   ],
   "source": [
    "# Your answer\n",
    "pca2_comp = pca_90_percent_variance.n_components_\n",
    "pca2_comp"
   ]
  },
  {
   "cell_type": "markdown",
   "id": "correct-rates",
   "metadata": {
    "nbgrader": {
     "grade": false,
     "grade_id": "Q3",
     "locked": true,
     "schema_version": 3,
     "solution": false,
     "task": false
    }
   },
   "source": [
    "5. Create a cluster analysis using K-means and 4 clusters. \n",
    "\n"
   ]
  },
  {
   "cell_type": "code",
   "execution_count": 7,
   "id": "8604f41d-e579-4a42-bfac-d8711189a462",
   "metadata": {},
   "outputs": [
    {
     "data": {
      "text/plain": "array([0, 0, 3, ..., 3, 0, 3], dtype=int32)"
     },
     "execution_count": 7,
     "metadata": {},
     "output_type": "execute_result"
    }
   ],
   "source": [
    "from sklearn.cluster import KMeans\n",
    "\n",
    "# Your answer\n",
    "\n",
    "kmeans = KMeans(n_clusters=4)\n",
    "kmeans.fit(df2)\n",
    "kmeans.labels_"
   ]
  },
  {
   "cell_type": "markdown",
   "id": "55a9c0df-b320-42d7-9816-ec4b6cd2ee8d",
   "metadata": {
    "nbgrader": {
     "grade": false,
     "grade_id": "cell-7ab691722dc22709",
     "locked": true,
     "schema_version": 3,
     "solution": false,
     "task": false
    }
   },
   "source": [
    "6. Predict `stroke` using 3 different classifiers and evaluate with 3 different approriate evaluation metrics.\n"
   ]
  },
  {
   "cell_type": "code",
   "execution_count": 8,
   "id": "hungry-newark",
   "metadata": {
    "nbgrader": {
     "grade": false,
     "grade_id": "Q3-Sol",
     "locked": false,
     "schema_version": 3,
     "solution": true,
     "task": false
    }
   },
   "outputs": [
    {
     "name": "stdout",
     "output_type": "stream",
     "text": [
      "DecisionTreeClassifier 5-fold cross-validation score: 0.9111545988258317\n"
     ]
    },
    {
     "name": "stderr",
     "output_type": "stream",
     "text": [
      "/Users/minor/opt/anaconda3/lib/python3.9/site-packages/sklearn/base.py:441: UserWarning: X does not have valid feature names, but AdaBoostClassifier was fitted with feature names\n",
      "  warnings.warn(\n",
      "/Users/minor/opt/anaconda3/lib/python3.9/site-packages/sklearn/base.py:441: UserWarning: X does not have valid feature names, but AdaBoostClassifier was fitted with feature names\n",
      "  warnings.warn(\n",
      "/Users/minor/opt/anaconda3/lib/python3.9/site-packages/sklearn/base.py:441: UserWarning: X does not have valid feature names, but AdaBoostClassifier was fitted with feature names\n",
      "  warnings.warn(\n",
      "/Users/minor/opt/anaconda3/lib/python3.9/site-packages/sklearn/base.py:441: UserWarning: X does not have valid feature names, but AdaBoostClassifier was fitted with feature names\n",
      "  warnings.warn(\n",
      "/Users/minor/opt/anaconda3/lib/python3.9/site-packages/sklearn/base.py:441: UserWarning: X does not have valid feature names, but AdaBoostClassifier was fitted with feature names\n",
      "  warnings.warn(\n"
     ]
    },
    {
     "name": "stdout",
     "output_type": "stream",
     "text": [
      "AdaBoostClassifier 5-fold cross-validation score: 0.950880626223092\n",
      "RandomForestClassifier 5-fold cross-validation score: 0.9500978473581213\n"
     ]
    }
   ],
   "source": [
    "from sklearn.tree import DecisionTreeClassifier\n",
    "from sklearn.model_selection import cross_val_score\n",
    "from sklearn.ensemble import AdaBoostClassifier, RandomForestClassifier\n",
    "\n",
    "# Your answer\n",
    "y = df2[\"stroke\"]\n",
    "X = df2.drop(columns=\"stroke\")\n",
    "\n",
    "\n",
    "for classifier in (\n",
    "    DecisionTreeClassifier(),\n",
    "    AdaBoostClassifier(),\n",
    "    RandomForestClassifier()\n",
    "):\n",
    "    print(classifier.__class__.__name__, \"5-fold cross-validation score:\", cross_val_score(classifier, X, y, cv=5).mean())"
   ]
  },
  {
   "cell_type": "markdown",
   "id": "82e86507-70cf-427e-9251-6ba4aff06a62",
   "metadata": {},
   "source": [
    "7. Predict `age` using 3 different regression models and evaluate with 3 different appropriate evaluation metrics.\n"
   ]
  },
  {
   "cell_type": "code",
   "execution_count": 9,
   "id": "dutch-thesis",
   "metadata": {
    "nbgrader": {
     "grade": true,
     "grade_id": "10",
     "locked": true,
     "points": 3,
     "schema_version": 3,
     "solution": false,
     "task": false
    }
   },
   "outputs": [
    {
     "name": "stdout",
     "output_type": "stream",
     "text": [
      "LinearRegression score: 0.6443895519241006\n",
      "DecisionTreeRegressor score: 0.34054441377664657\n",
      "Ridge score: 0.6443542294995034\n"
     ]
    }
   ],
   "source": [
    "from sklearn.model_selection import train_test_split\n",
    "from sklearn.linear_model import LinearRegression, Ridge\n",
    "from sklearn.tree import DecisionTreeRegressor\n",
    "\n",
    "# Your answer\n",
    "y = df2[\"age\"]\n",
    "X = df2.drop(columns=\"age\")\n",
    "\n",
    "for regressor in (\n",
    "    LinearRegression(),\n",
    "    DecisionTreeRegressor(),\n",
    "    Ridge(),\n",
    "):\n",
    "    print(regressor.__class__.__name__, \"score:\", cross_val_score(regressor, X, y, cv=5).mean())"
   ]
  }
 ],
 "metadata": {
  "celltoolbar": "Create Assignment",
  "kernelspec": {
   "display_name": "Python 3",
   "language": "python",
   "name": "python3"
  },
  "language_info": {
   "codemirror_mode": {
    "name": "ipython",
    "version": 3
   },
   "file_extension": ".py",
   "mimetype": "text/x-python",
   "name": "python",
   "nbconvert_exporter": "python",
   "pygments_lexer": "ipython3",
   "version": "3.7.10"
  }
 },
 "nbformat": 4,
 "nbformat_minor": 5
}
