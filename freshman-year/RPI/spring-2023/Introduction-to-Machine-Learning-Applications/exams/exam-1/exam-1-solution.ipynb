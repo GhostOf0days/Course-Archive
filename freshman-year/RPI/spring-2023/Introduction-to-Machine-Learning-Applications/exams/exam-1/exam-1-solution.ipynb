{
 "cells": [
  {
   "cell_type": "markdown",
   "id": "textile-retailer",
   "metadata": {
    "nbgrader": {
     "grade": false,
     "grade_id": "Instructions",
     "locked": true,
     "schema_version": 3,
     "solution": false,
     "task": false
    }
   },
   "source": [
    "###### Exam 1: Spring 2023\n",
    "#### Total number of points: 40\n",
    "\n",
    "This is an open-book test. However, talking or chatting with your classmates is NOT permitted and will be considered plagiarism. \n",
    "\n",
    "<b>Before you submit this test, make sure your answers are saved, and everything runs as expected</b>. \n",
    "\n",
    "- For empty notebook submissions, you will receive 0 points. \n",
    "- If instructions (including not using the same variable names) are not followed that led to a wrong answer, you will receive 0 points. \n",
    "\n",
    "First, restart the kernel (in the menu, select Kernel → Restart) and then run all cells (in the menubar, select Cell → Run All).\n",
    "Steps to evaluate your solutions:\n",
    "\n",
    "Step-1: Ensure you have installed Anaconda (Windows: https://docs.anaconda.com/anaconda/install/windows/ ; Mac:https://docs.anaconda.com/anaconda/install/mac-os/ ; Linux: https://docs.anaconda.com/anaconda/install/linux/)\n",
    "\n",
    "Step-2: Open the Jupyter Notebook by first launching the anaconda software console\n",
    "\n",
    "Step-3: Open the .ipynb file and write your solutions at the appropriate location \"# YOUR CODE HERE\"\n",
    "\n",
    "Step-4: You can restart the kernel and click run all (in the menubar, select Cell → Run All) on the center-right on the top of this window.\n",
    "\n",
    "Step-5: Now go to \"File\" then click on \"Download as\" then click on \"Notebook (.ipynb)\" Please DO NOT change the file name and just keep it as .ipynb file format\n",
    "\n",
    "Step-6: Go to lms.rpi.edu and upload your notebook at the appropriate link to submit this homework. Make sure your answers are saved before you submit. \n",
    "\n",
    "#### Please note that for any question in this test you will receive points ONLY if your solution passes all the hidden testcases. So please make sure you try to think all possible scenarios before submitting your answers.  \n",
    "- Note that hidden tests are present to ensure you are not hardcoding. \n",
    "- If caught cheating: \n",
    "    - you will receive a score of 0 for the 1st violation. \n",
    "    - for repeated incidents, you will receive an automatic 'F' grade and will be reported to the dean of Lally School of Management. "
   ]
  },
  {
   "cell_type": "markdown",
   "id": "medieval-rally",
   "metadata": {
    "nbgrader": {
     "grade": false,
     "grade_id": "DataDesc",
     "locked": true,
     "schema_version": 3,
     "solution": false,
     "task": false
    }
   },
   "source": [
    "#### For this test, we will be using Stroke data provided by WHO. The dataset is used to predict whether a patient is likely to get stroke based on the input parameters like gender, age, various diseases, and smoking status \n",
    "<ul> \n",
    "    <li>id: unique identifier</li>\n",
    "    <li>gender: \"Male\", \"Female\" or \"Other\"</li>\n",
    "    <li>age: age of the patient</li>\n",
    "    <li>hypertension: 0 if the patient doesn't have hypertension, 1 if the patient has hypertension</li>\n",
    "    <li>heart_disease: 0 if the patient doesn't have any heart diseases, 1 if the patient has a heart disease</li>\n",
    "    <li>ever_married: \"No\" or \"Yes\"</li>\n",
    "    <li>work_type: 'Private', 'Self-employed', 'Govt_job', 'children', 'Never_worked'</li>\n",
    "    <li>Residence_type: \"Rural\" or \"Urban\"</li>\n",
    "    <li>avg_glucose_level: average glucose level in blood</li>\n",
    "    <li>bmi: body mass index</li>\n",
    "    <li>smoking_status: \"formerly smoked\", \"never smoked\", \"smokes\" or \"Unknown\"*</li>\n",
    "    <li>stroke: 1 if the patient had a stroke or 0 if not -- <b>Class label column</b> </li>\n",
    "</ul>\n",
    "*Note: \"Unknown\" in smoking_status means that the information is unavailable for this patient"
   ]
  },
  {
   "cell_type": "code",
   "execution_count": 76,
   "id": "arranged-fantasy",
   "metadata": {
    "nbgrader": {
     "grade": false,
     "grade_id": "LoadData",
     "locked": true,
     "schema_version": 3,
     "solution": false,
     "task": false
    }
   },
   "outputs": [
    {
     "data": {
      "text/plain": "      id  gender   age  hypertension  heart_disease ever_married  \\\n0   9046    Male  67.0             0              1          Yes   \n1  51676  Female  61.0             0              0          Yes   \n2  31112    Male  80.0             0              1          Yes   \n3  60182  Female  49.0             0              0          Yes   \n4   1665  Female  79.0             1              0          Yes   \n\n       work_type Residence_type  avg_glucose_level   bmi   smoking_status  \\\n0        Private          Urban             228.69  36.6  formerly smoked   \n1  Self-employed          Rural             202.21   NaN     never smoked   \n2        Private          Rural             105.92  32.5     never smoked   \n3        Private          Urban             171.23  34.4           smokes   \n4  Self-employed          Rural             174.12  24.0     never smoked   \n\n   stroke  \n0       1  \n1       1  \n2       1  \n3       1  \n4       1  ",
      "text/html": "<div>\n<style scoped>\n    .dataframe tbody tr th:only-of-type {\n        vertical-align: middle;\n    }\n\n    .dataframe tbody tr th {\n        vertical-align: top;\n    }\n\n    .dataframe thead th {\n        text-align: right;\n    }\n</style>\n<table border=\"1\" class=\"dataframe\">\n  <thead>\n    <tr style=\"text-align: right;\">\n      <th></th>\n      <th>id</th>\n      <th>gender</th>\n      <th>age</th>\n      <th>hypertension</th>\n      <th>heart_disease</th>\n      <th>ever_married</th>\n      <th>work_type</th>\n      <th>Residence_type</th>\n      <th>avg_glucose_level</th>\n      <th>bmi</th>\n      <th>smoking_status</th>\n      <th>stroke</th>\n    </tr>\n  </thead>\n  <tbody>\n    <tr>\n      <th>0</th>\n      <td>9046</td>\n      <td>Male</td>\n      <td>67.0</td>\n      <td>0</td>\n      <td>1</td>\n      <td>Yes</td>\n      <td>Private</td>\n      <td>Urban</td>\n      <td>228.69</td>\n      <td>36.6</td>\n      <td>formerly smoked</td>\n      <td>1</td>\n    </tr>\n    <tr>\n      <th>1</th>\n      <td>51676</td>\n      <td>Female</td>\n      <td>61.0</td>\n      <td>0</td>\n      <td>0</td>\n      <td>Yes</td>\n      <td>Self-employed</td>\n      <td>Rural</td>\n      <td>202.21</td>\n      <td>NaN</td>\n      <td>never smoked</td>\n      <td>1</td>\n    </tr>\n    <tr>\n      <th>2</th>\n      <td>31112</td>\n      <td>Male</td>\n      <td>80.0</td>\n      <td>0</td>\n      <td>1</td>\n      <td>Yes</td>\n      <td>Private</td>\n      <td>Rural</td>\n      <td>105.92</td>\n      <td>32.5</td>\n      <td>never smoked</td>\n      <td>1</td>\n    </tr>\n    <tr>\n      <th>3</th>\n      <td>60182</td>\n      <td>Female</td>\n      <td>49.0</td>\n      <td>0</td>\n      <td>0</td>\n      <td>Yes</td>\n      <td>Private</td>\n      <td>Urban</td>\n      <td>171.23</td>\n      <td>34.4</td>\n      <td>smokes</td>\n      <td>1</td>\n    </tr>\n    <tr>\n      <th>4</th>\n      <td>1665</td>\n      <td>Female</td>\n      <td>79.0</td>\n      <td>1</td>\n      <td>0</td>\n      <td>Yes</td>\n      <td>Self-employed</td>\n      <td>Rural</td>\n      <td>174.12</td>\n      <td>24.0</td>\n      <td>never smoked</td>\n      <td>1</td>\n    </tr>\n  </tbody>\n</table>\n</div>"
     },
     "execution_count": 76,
     "metadata": {},
     "output_type": "execute_result"
    }
   ],
   "source": [
    "#Please run this cell before answering the following questions \n",
    "import numpy as np\n",
    "import pandas as pd\n",
    "\n",
    "df = pd.read_csv('https://raw.githubusercontent.com/lmanikon/lmanikon.github.io/master/teaching/datasets/KaggleStroke.csv')\n",
    "df.head()"
   ]
  },
  {
   "cell_type": "markdown",
   "id": "chief-mailman",
   "metadata": {
    "nbgrader": {
     "grade": false,
     "grade_id": "Q1",
     "locked": true,
     "schema_version": 3,
     "solution": false,
     "task": false
    }
   },
   "source": [
    "### Q-1 [10 points] Please answer the following questions in the same order: \n",
    "\n",
    "1. Assign variable `rows` and `cols` with the total number of data points and the number of attributes present in the DataFrame df.\n",
    "2. Assign the list `colnames` with the names of features present in this DataFrame df.\n",
    "3. Find the value of `age` associated with the sample whose `id` is `1665` and assign this value to variable `sid1665_age`.\n",
    "4. Find the total number of missing values in 'smoking_status' column and assign it to variable `sstat_mvals`.\n",
    "5. Remove the column `id` from the DataFrame `df`. Make sure this is reflected in the DataFrame `df`."
   ]
  },
  {
   "cell_type": "code",
   "execution_count": 77,
   "id": "related-scholarship",
   "metadata": {
    "nbgrader": {
     "grade": false,
     "grade_id": "Q1-Sol",
     "locked": false,
     "schema_version": 3,
     "solution": true,
     "task": false
    }
   },
   "outputs": [],
   "source": [
    "#Please make sure you use the exact names for variables including the casing of letters\n",
    "\n",
    "### BEGIN SOLUTION\n",
    "rows=df.shape[0]\n",
    "cols=df.shape[1]\n",
    "colnames = list(df.columns)\n",
    "sid1665_age = df.loc[df['id']==1665,'age'].values[0]\n",
    "sstat_mvals = df['smoking_status'].isnull().values.sum()\n",
    "df = df.drop(columns=['id'])\n",
    "\n",
    "#print(rows)\n",
    "#print(cols)\n",
    "#print(set(colnames))\n",
    "#print(sid1665_age)\n",
    "#print(sstat_mvals)\n",
    "#print(len(df.columns))\n",
    "### END SOLUTION"
   ]
  },
  {
   "cell_type": "code",
   "execution_count": 78,
   "id": "synthetic-accident",
   "metadata": {
    "nbgrader": {
     "grade": false,
     "grade_id": "varcheck1",
     "locked": true,
     "schema_version": 3,
     "solution": false,
     "task": false
    }
   },
   "outputs": [],
   "source": [
    "#This will test that you have not mislabeled a variable. \n",
    "assert 'rows' in globals()\n",
    "assert 'cols' in globals()\n",
    "assert 'colnames' in globals()\n",
    "assert 'sid1665_age' in globals()\n",
    "assert 'sstat_mvals' in globals()\n"
   ]
  },
  {
   "cell_type": "code",
   "execution_count": 79,
   "id": "accompanied-environment",
   "metadata": {
    "nbgrader": {
     "grade": true,
     "grade_id": "1",
     "locked": true,
     "points": 1,
     "schema_version": 3,
     "solution": false,
     "task": false
    }
   },
   "outputs": [],
   "source": [
    "#Test cell-1 [1pt] Hidden tests\n",
    "#DO NOT MODIFY/DELETE THIS CELL \n",
    "\n",
    "### BEGIN HIDDEN TESTS\n",
    "assert cols==12\n",
    "### END HIDDEN TESTS\n"
   ]
  },
  {
   "cell_type": "code",
   "execution_count": 80,
   "id": "skilled-variable",
   "metadata": {
    "nbgrader": {
     "grade": true,
     "grade_id": "2",
     "locked": true,
     "points": 1,
     "schema_version": 3,
     "solution": false,
     "task": false
    }
   },
   "outputs": [],
   "source": [
    "#Test cell-2 [1pt] Hidden tests\n",
    "#DO NOT MODIFY/DELETE THIS CELL \n",
    "\n",
    "### BEGIN HIDDEN TESTS\n",
    "assert rows==5110\n",
    "### END HIDDEN TESTS\n"
   ]
  },
  {
   "cell_type": "code",
   "execution_count": 81,
   "id": "systematic-pharmacy",
   "metadata": {
    "nbgrader": {
     "grade": true,
     "grade_id": "3",
     "locked": true,
     "points": 2,
     "schema_version": 3,
     "solution": false,
     "task": false
    }
   },
   "outputs": [],
   "source": [
    "#Test cell-3 [2pts] Hidden tests\n",
    "#DO NOT MODIFY/DELETE THIS CELL \n",
    "\n",
    "### BEGIN HIDDEN TESTS\n",
    "assert set(colnames)=={'work_type', 'ever_married', 'avg_glucose_level', 'smoking_status', 'stroke', 'gender', 'hypertension', 'bmi', 'Residence_type', 'id', 'heart_disease', 'age'}\n",
    "### END HIDDEN TESTS\n"
   ]
  },
  {
   "cell_type": "code",
   "execution_count": 82,
   "id": "cutting-timber",
   "metadata": {
    "nbgrader": {
     "grade": true,
     "grade_id": "4",
     "locked": true,
     "points": 2,
     "schema_version": 3,
     "solution": false,
     "task": false
    }
   },
   "outputs": [],
   "source": [
    "#Test cell-4 [2pts] Hidden tests\n",
    "#DO NOT MODIFY/DELETE THIS CELL \n",
    "\n",
    "### BEGIN HIDDEN TESTS\n",
    "assert sid1665_age==79.0\n",
    "### END HIDDEN TESTS\n"
   ]
  },
  {
   "cell_type": "code",
   "execution_count": 83,
   "id": "behavioral-seating",
   "metadata": {
    "nbgrader": {
     "grade": true,
     "grade_id": "5",
     "locked": true,
     "points": 2,
     "schema_version": 3,
     "solution": false,
     "task": false
    }
   },
   "outputs": [],
   "source": [
    "#Test cell-5 [2pts] Hidden tests\n",
    "#DO NOT MODIFY/DELETE THIS CELL \n",
    "\n",
    "### BEGIN HIDDEN TESTS\n",
    "assert sstat_mvals==0\n",
    "### END HIDDEN TESTS\n",
    "\n"
   ]
  },
  {
   "cell_type": "code",
   "execution_count": 84,
   "id": "opposite-dodge",
   "metadata": {
    "nbgrader": {
     "grade": true,
     "grade_id": "6",
     "locked": true,
     "points": 2,
     "schema_version": 3,
     "solution": false,
     "task": false
    }
   },
   "outputs": [],
   "source": [
    "#Test cell-6 [2pts] Hidden tests\n",
    "#DO NOT MODIFY/DELETE THIS CELL \n",
    "\n",
    "\n",
    "### BEGIN HIDDEN TESTS\n",
    "assert len(df.columns)==11\n",
    "### END HIDDEN TESTS"
   ]
  },
  {
   "cell_type": "markdown",
   "id": "smooth-mirror",
   "metadata": {
    "nbgrader": {
     "grade": false,
     "grade_id": "Q2",
     "locked": true,
     "schema_version": 3,
     "solution": false,
     "task": false
    }
   },
   "source": [
    "### Q-2 [15 points] Please answer the following questions in the same order: \n",
    "\n",
    "1. Perform one-hot encoding on the DataFrame `df` using the Pandas `get_dummies()` function with default parameters. Assign this newly transformed DataFrame as `newdf`.\n",
    "2. Replace all the missing values in this transformed DataFrame `newdf` with the average value of the corresponding column.\n",
    "3. Split the DataFrame `newdf` into `X` that includes all the feature columns, and `y` that includes ONLY the class label column which is `stroke`. Please follow the case format of variables used here -- otherwise, your code wont pass the testcases.\n",
    "\n",
    "More details about the `get_dummies()` function can be found here: \n",
    "<a href=\"https://pandas.pydata.org/docs/reference/api/pandas.get_dummies.html\"> Link </a>\n",
    "\n"
   ]
  },
  {
   "cell_type": "code",
   "execution_count": 85,
   "id": "solid-initial",
   "metadata": {
    "nbgrader": {
     "grade": false,
     "grade_id": "Q2-Sol",
     "locked": false,
     "schema_version": 3,
     "solution": true,
     "task": false
    }
   },
   "outputs": [],
   "source": [
    "#Please make sure you use the exact names for variables including the casing of letters\n",
    "\n",
    "### BEGIN SOLUTION\n",
    "newdf = pd.get_dummies(df)\n",
    "#print(len(df.columns))\n",
    "#print(len(newdf.columns))\n",
    "#print(newdf.isnull().values.sum())\n",
    "\n",
    "#Replacing all the missing values with the average value of the corresponding column\n",
    "mean1 = newdf['bmi'].mean()\n",
    "newdf['bmi'] = newdf['bmi'].fillna(mean1)\n",
    "#print(round(newdf['gender_Female'].mean(), 2))\n",
    "#print(newdf.isnull().values.any())\n",
    "#print(round(newdf['bmi'].mean(), 2))\n",
    "\n",
    "#Splitting the data into X and y \n",
    "X = newdf.drop(columns=['stroke'])\n",
    "y = newdf['stroke']\n",
    "#print(newdf.isnull().values.sum())\n",
    "#print(len(X.columns))\n",
    "#print(round(y.mean(), 2))\n",
    "### END SOLUTION"
   ]
  },
  {
   "cell_type": "code",
   "execution_count": 86,
   "id": "distant-palestine",
   "metadata": {
    "nbgrader": {
     "grade": false,
     "grade_id": "varcheck2",
     "locked": true,
     "schema_version": 3,
     "solution": false,
     "task": false
    }
   },
   "outputs": [],
   "source": [
    "#This will test that you have not mislabeled a variable. \n",
    "assert 'newdf' in globals()\n",
    "assert 'X' in globals()\n",
    "assert 'y' in globals()"
   ]
  },
  {
   "cell_type": "code",
   "execution_count": 87,
   "id": "demonstrated-platform",
   "metadata": {
    "nbgrader": {
     "grade": true,
     "grade_id": "7",
     "locked": true,
     "points": 3,
     "schema_version": 3,
     "solution": false,
     "task": false
    }
   },
   "outputs": [],
   "source": [
    "#Test cell-7 [3pts] Hidden tests\n",
    "#DO NOT MODIFY/DELETE THIS CELL \n",
    "\n",
    "\n",
    "### BEGIN HIDDEN TESTS\n",
    "assert len(df.columns)==11\n",
    "assert len(newdf.columns)==22\n",
    "### END HIDDEN TESTS"
   ]
  },
  {
   "cell_type": "code",
   "execution_count": 88,
   "id": "sufficient-hundred",
   "metadata": {
    "nbgrader": {
     "grade": true,
     "grade_id": "8",
     "locked": true,
     "points": 3,
     "schema_version": 3,
     "solution": false,
     "task": false
    }
   },
   "outputs": [],
   "source": [
    "#Test cell-8 [3pts] Hidden tests\n",
    "#DO NOT MODIFY/DELETE THIS CELL \n",
    "\n",
    "\n",
    "### BEGIN HIDDEN TESTS\n",
    "assert (newdf.isnull().values.sum())==0\n",
    "### END HIDDEN TESTS"
   ]
  },
  {
   "cell_type": "code",
   "execution_count": 89,
   "id": "graduate-governor",
   "metadata": {
    "nbgrader": {
     "grade": true,
     "grade_id": "9",
     "locked": true,
     "points": 3,
     "schema_version": 3,
     "solution": false,
     "task": false
    }
   },
   "outputs": [],
   "source": [
    "#Test cell-9 [3pts] Hidden tests\n",
    "#DO NOT MODIFY/DELETE THIS CELL \n",
    "\n",
    "\n",
    "### BEGIN HIDDEN TESTS\n",
    "assert round(newdf['gender_Male'].mean(), 2)==0.41\n",
    "assert round(newdf['gender_Female'].mean(), 2)==0.59\n",
    "### END HIDDEN TESTS"
   ]
  },
  {
   "cell_type": "code",
   "execution_count": 90,
   "id": "detected-works",
   "metadata": {
    "nbgrader": {
     "grade": true,
     "grade_id": "10",
     "locked": true,
     "points": 3,
     "schema_version": 3,
     "solution": false,
     "task": false
    }
   },
   "outputs": [],
   "source": [
    "#Test cell-10 [3pts] Hidden tests\n",
    "#DO NOT MODIFY/DELETE THIS CELL \n",
    "\n",
    "\n",
    "### BEGIN HIDDEN TESTS\n",
    "assert newdf.isnull().values.any()==False\n",
    "assert round(newdf['bmi'].mean(), 2)==28.89\n",
    "### END HIDDEN TESTS"
   ]
  },
  {
   "cell_type": "code",
   "execution_count": 91,
   "id": "mature-battle",
   "metadata": {
    "nbgrader": {
     "grade": true,
     "grade_id": "11",
     "locked": true,
     "points": 3,
     "schema_version": 3,
     "solution": false,
     "task": false
    }
   },
   "outputs": [],
   "source": [
    "#Test cell-11 [3pts] Hidden tests\n",
    "#DO NOT MODIFY/DELETE THIS CELL \n",
    "\n",
    "\n",
    "### BEGIN HIDDEN TESTS\n",
    "assert len(X.columns)==21\n",
    "assert round(y.mean(), 2)==0.05\n",
    "### END HIDDEN TESTS"
   ]
  },
  {
   "cell_type": "markdown",
   "id": "correct-rates",
   "metadata": {
    "nbgrader": {
     "grade": false,
     "grade_id": "Q3",
     "locked": true,
     "schema_version": 3,
     "solution": false,
     "task": false
    }
   },
   "source": [
    "### Q-3 [15 points] Please answer the following questions in the same order: \n",
    "\n",
    "1. Perform normalization of the features `X`, using `MinMaxScaler()` with default parameters, and assign the result to the variable `X_std`.\n",
    "2. Create a list of values `y_pred` of length `len(y)` with all values set to 1.\n",
    "3. Compute accuracy using the ground truth labels `y` and fake predicted labels `y_pred` and save it as a variable `accu`.\n",
    "4. Compute the precision and recall values using `y` and `y_pred` and assign these values to the variables `prec` and `recall`, respectively.\n",
    "5. Compute the F1 score and assign it to variable `fscore`.\n",
    "\n",
    "\n"
   ]
  },
  {
   "cell_type": "code",
   "execution_count": 92,
   "id": "hungry-newark",
   "metadata": {
    "nbgrader": {
     "grade": false,
     "grade_id": "Q3-Sol",
     "locked": false,
     "schema_version": 3,
     "solution": true,
     "task": false
    }
   },
   "outputs": [],
   "source": [
    "#Please make sure you use the exact names for variables including the casing of letters\n",
    "\n",
    "### BEGIN SOLUTION\n",
    "\n",
    "#Normalization \n",
    "from sklearn.preprocessing import MinMaxScaler\n",
    "\n",
    "X_std = MinMaxScaler().fit_transform(X)\n",
    "#print(X_std)\n",
    "#print(len(X_std))\n",
    "#print(len(X_std[0]))\n",
    "\n",
    "#Generate a random list with 0s and 1s \n",
    "y_pred = [1 for i in range(len(y))]\n",
    "#print(len(y_pred))\n",
    "#print(set(y_pred))\n",
    "\n",
    "#Accuracy \n",
    "from sklearn.metrics import accuracy_score\n",
    "accu = accuracy_score(y, y_pred)\n",
    "#print(round(accu, 2))\n",
    "\n",
    "#Precision and Recall\n",
    "from sklearn.metrics import precision_score\n",
    "from sklearn.metrics import recall_score\n",
    "\n",
    "prec = precision_score(y, y_pred)\n",
    "#print(round(prec, 2))\n",
    "\n",
    "recall = recall_score(y, y_pred)\n",
    "#print(round(recall, 2))\n",
    "\n",
    "#Fscore\n",
    "fscore = (2.0*prec*recall)/(prec+recall)\n",
    "#print(round(fscore, 2))\n",
    "\n",
    "\n",
    "### END SOLUTION"
   ]
  },
  {
   "cell_type": "code",
   "execution_count": 93,
   "id": "patient-raising",
   "metadata": {
    "nbgrader": {
     "grade": false,
     "grade_id": "varcheck3",
     "locked": true,
     "schema_version": 3,
     "solution": false,
     "task": false
    }
   },
   "outputs": [],
   "source": [
    "#This will test that you have not mislabeled a variable. \n",
    "\n",
    "assert 'y_pred' in globals()\n",
    "assert 'accu' in globals()\n",
    "assert 'prec' in globals()\n",
    "assert 'recall' in globals()\n",
    "assert 'fscore' in globals()\n",
    "assert 'X_std' in globals()"
   ]
  },
  {
   "cell_type": "code",
   "execution_count": 94,
   "id": "alpine-pride",
   "metadata": {
    "nbgrader": {
     "grade": true,
     "grade_id": "12",
     "locked": true,
     "points": 3,
     "schema_version": 3,
     "solution": false,
     "task": false
    }
   },
   "outputs": [],
   "source": [
    "#Test cell-12 [3pts] Hidden tests\n",
    "#DO NOT MODIFY/DELETE THIS CELL \n",
    "\n",
    "\n",
    "### BEGIN HIDDEN TESTS\n",
    "assert len(X_std)==5110\n",
    "assert len(X_std[0])==21\n",
    "### END HIDDEN TESTS"
   ]
  },
  {
   "cell_type": "code",
   "execution_count": 95,
   "id": "dutch-thesis",
   "metadata": {
    "nbgrader": {
     "grade": true,
     "grade_id": "13",
     "locked": true,
     "points": 3,
     "schema_version": 3,
     "solution": false,
     "task": false
    }
   },
   "outputs": [],
   "source": [
    "#Test cell-13 [3pts] Hidden tests\n",
    "#DO NOT MODIFY/DELETE THIS CELL \n",
    "\n",
    "\n",
    "### BEGIN HIDDEN TESTS\n",
    "assert len(y_pred)==5110\n",
    "assert set(y_pred)=={1}\n",
    "### END HIDDEN TESTS"
   ]
  },
  {
   "cell_type": "code",
   "execution_count": 96,
   "id": "operational-portland",
   "metadata": {
    "nbgrader": {
     "grade": true,
     "grade_id": "14",
     "locked": true,
     "points": 3,
     "schema_version": 3,
     "solution": false,
     "task": false
    }
   },
   "outputs": [],
   "source": [
    "#Test cell-14 [3pts] Hidden tests\n",
    "#DO NOT MODIFY/DELETE THIS CELL \n",
    "\n",
    "\n",
    "### BEGIN HIDDEN TESTS\n",
    "assert round(accu, 2)==0.05\n",
    "### END HIDDEN TESTS"
   ]
  },
  {
   "cell_type": "code",
   "execution_count": 97,
   "id": "toxic-direction",
   "metadata": {
    "nbgrader": {
     "grade": true,
     "grade_id": "15",
     "locked": true,
     "points": 3,
     "schema_version": 3,
     "solution": false,
     "task": false
    }
   },
   "outputs": [],
   "source": [
    "#Test cell-15 [3pts] Hidden tests\n",
    "#DO NOT MODIFY/DELETE THIS CELL \n",
    "\n",
    "\n",
    "### BEGIN HIDDEN TESTS\n",
    "assert round(prec, 2)==0.05\n",
    "assert round(recall, 2)==1.0\n",
    "### END HIDDEN TESTS"
   ]
  },
  {
   "cell_type": "code",
   "execution_count": 98,
   "id": "animal-carry",
   "metadata": {
    "nbgrader": {
     "grade": true,
     "grade_id": "16",
     "locked": true,
     "points": 3,
     "schema_version": 3,
     "solution": false,
     "task": false
    }
   },
   "outputs": [],
   "source": [
    "#Test cell-16 [3pts] Hidden tests\n",
    "#DO NOT MODIFY/DELETE THIS CELL \n",
    "\n",
    "\n",
    "### BEGIN HIDDEN TESTS\n",
    "assert round(fscore, 2)==0.09\n",
    "### END HIDDEN TESTS"
   ]
  }
 ],
 "metadata": {
  "celltoolbar": "Create Assignment",
  "kernelspec": {
   "display_name": "Python 3 (ipykernel)",
   "language": "python",
   "name": "python3"
  },
  "language_info": {
   "codemirror_mode": {
    "name": "ipython",
    "version": 3
   },
   "file_extension": ".py",
   "mimetype": "text/x-python",
   "name": "python",
   "nbconvert_exporter": "python",
   "pygments_lexer": "ipython3",
   "version": "3.9.7"
  }
 },
 "nbformat": 4,
 "nbformat_minor": 5
}
