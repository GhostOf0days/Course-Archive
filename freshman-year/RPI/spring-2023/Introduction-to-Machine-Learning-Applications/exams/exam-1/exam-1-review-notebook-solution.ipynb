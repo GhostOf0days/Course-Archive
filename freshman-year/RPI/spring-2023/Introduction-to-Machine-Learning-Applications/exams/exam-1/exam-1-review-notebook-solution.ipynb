{
 "cells": [
  {
   "cell_type": "code",
   "execution_count": 20,
   "metadata": {
    "collapsed": true
   },
   "outputs": [],
   "source": [
    "# Create a list of integers with the range [0, 9] inclusive.\n",
    "\n",
    "int_list = list(range(10))"
   ]
  },
  {
   "cell_type": "code",
   "execution_count": 21,
   "outputs": [],
   "source": [
    "# Assign the third element of the list to the integer 15\n",
    "int_list[2] = 15"
   ],
   "metadata": {
    "collapsed": false
   }
  },
  {
   "cell_type": "code",
   "execution_count": 22,
   "outputs": [
    {
     "data": {
      "text/plain": "(0, 1, 15, 3, 4)"
     },
     "execution_count": 22,
     "metadata": {},
     "output_type": "execute_result"
    }
   ],
   "source": [
    "# Convert the list into a tuple and print a slice of the first 5 elements\n",
    "int_tuple = tuple(int_list)\n",
    "int_tuple[:5]"
   ],
   "metadata": {
    "collapsed": false
   }
  },
  {
   "cell_type": "code",
   "execution_count": 23,
   "outputs": [
    {
     "name": "stdout",
     "output_type": "stream",
     "text": [
      "{0: 0, 1: 1, 15: 225, 3: 9, 4: 16, 5: 25, 6: 36, 7: 49, 8: 64, 9: 81}\n"
     ]
    },
    {
     "data": {
      "text/plain": "{0: 0, 1: 1, 15: 225, 3: 9, 4: 16, 5: 25, 6: 36, 7: 49, 8: 64, 9: 81}"
     },
     "execution_count": 23,
     "metadata": {},
     "output_type": "execute_result"
    }
   ],
   "source": [
    "# Create a dict with the integer tuple elements as keys and the square of the respective integers as values\n",
    "\n",
    "# Two approaches\n",
    "\n",
    "# Build up the dictionary\n",
    "d = {}\n",
    "for i in int_tuple:\n",
    "    d[i] = i ** 2\n",
    "print(d)\n",
    "\n",
    "# Use a dict comprehension\n",
    "{i: i ** 2 for i in int_tuple}"
   ],
   "metadata": {
    "collapsed": false
   }
  },
  {
   "cell_type": "code",
   "execution_count": 24,
   "outputs": [
    {
     "data": {
      "text/plain": "{3, 4, 5, 6}"
     },
     "execution_count": 24,
     "metadata": {},
     "output_type": "execute_result"
    }
   ],
   "source": [
    "# Given the following sets\n",
    "set1 = {1, 2, 3, 4}\n",
    "set2 = {3, 4, 5, 6}\n",
    "# Compute the intersection and union\n",
    "set1.intersection(set2)\n",
    "set2.union(set2)"
   ],
   "metadata": {
    "collapsed": false
   }
  },
  {
   "cell_type": "code",
   "execution_count": 25,
   "outputs": [],
   "source": [
    "# Define a function that tests whether a string is a palindrome or not\n",
    "# This is a classic interview question for testing whether you know the rudiments of a programming language you claim you know.\n",
    "def is_palindrome(s):\n",
    "    return s == s[::-1]  # is s equal to the reverse of itself?\n",
    "assert is_palindrome(\"anna\")\n",
    "assert not is_palindrome(\"craft\")\n",
    "assert is_palindrome(\"saippuakivikauppias\")"
   ],
   "metadata": {
    "collapsed": false
   }
  },
  {
   "cell_type": "code",
   "execution_count": 26,
   "outputs": [
    {
     "data": {
      "text/plain": "49.5"
     },
     "execution_count": 26,
     "metadata": {},
     "output_type": "execute_result"
    }
   ],
   "source": [
    "# Create a numpy array with the range [0, 99] inclusive and find its mean\n",
    "import numpy as np\n",
    "int_array = np.array(range(100))\n",
    "int_array.mean()"
   ],
   "metadata": {
    "collapsed": false
   }
  },
  {
   "cell_type": "code",
   "execution_count": 27,
   "outputs": [
    {
     "data": {
      "text/plain": "     x     y\n0    0     0\n1    1     1\n2    2     4\n3    3     9\n4    4    16\n..  ..   ...\n95  95  9025\n96  96  9216\n97  97  9409\n98  98  9604\n99  99  9801\n\n[100 rows x 2 columns]",
      "text/html": "<div>\n<style scoped>\n    .dataframe tbody tr th:only-of-type {\n        vertical-align: middle;\n    }\n\n    .dataframe tbody tr th {\n        vertical-align: top;\n    }\n\n    .dataframe thead th {\n        text-align: right;\n    }\n</style>\n<table border=\"1\" class=\"dataframe\">\n  <thead>\n    <tr style=\"text-align: right;\">\n      <th></th>\n      <th>x</th>\n      <th>y</th>\n    </tr>\n  </thead>\n  <tbody>\n    <tr>\n      <th>0</th>\n      <td>0</td>\n      <td>0</td>\n    </tr>\n    <tr>\n      <th>1</th>\n      <td>1</td>\n      <td>1</td>\n    </tr>\n    <tr>\n      <th>2</th>\n      <td>2</td>\n      <td>4</td>\n    </tr>\n    <tr>\n      <th>3</th>\n      <td>3</td>\n      <td>9</td>\n    </tr>\n    <tr>\n      <th>4</th>\n      <td>4</td>\n      <td>16</td>\n    </tr>\n    <tr>\n      <th>...</th>\n      <td>...</td>\n      <td>...</td>\n    </tr>\n    <tr>\n      <th>95</th>\n      <td>95</td>\n      <td>9025</td>\n    </tr>\n    <tr>\n      <th>96</th>\n      <td>96</td>\n      <td>9216</td>\n    </tr>\n    <tr>\n      <th>97</th>\n      <td>97</td>\n      <td>9409</td>\n    </tr>\n    <tr>\n      <th>98</th>\n      <td>98</td>\n      <td>9604</td>\n    </tr>\n    <tr>\n      <th>99</th>\n      <td>99</td>\n      <td>9801</td>\n    </tr>\n  </tbody>\n</table>\n<p>100 rows × 2 columns</p>\n</div>"
     },
     "execution_count": 27,
     "metadata": {},
     "output_type": "execute_result"
    }
   ],
   "source": [
    "# Create a Pandas DataFrame with two columns \"x\" and \"y\". \"x\" should be the integers [0, 99] and \"y\" the corresponding square of the \"x\"\n",
    "import pandas as pd\n",
    "x_y_df = pd.DataFrame({\"x\": list(range(100)), \"y\": [i ** 2 for i in range(100)]})\n",
    "# Alternatively, build up x and y similar to the \"Create a dict\" approach above\n",
    "x_y_df"
   ],
   "metadata": {
    "collapsed": false
   }
  },
  {
   "cell_type": "code",
   "execution_count": 28,
   "outputs": [
    {
     "data": {
      "text/plain": "     x     y       z\n0    0     0       0\n1    1     1       1\n2    2     4       8\n3    3     9      27\n4    4    16      64\n..  ..   ...     ...\n95  95  9025  857375\n96  96  9216  884736\n97  97  9409  912673\n98  98  9604  941192\n99  99  9801  970299\n\n[100 rows x 3 columns]",
      "text/html": "<div>\n<style scoped>\n    .dataframe tbody tr th:only-of-type {\n        vertical-align: middle;\n    }\n\n    .dataframe tbody tr th {\n        vertical-align: top;\n    }\n\n    .dataframe thead th {\n        text-align: right;\n    }\n</style>\n<table border=\"1\" class=\"dataframe\">\n  <thead>\n    <tr style=\"text-align: right;\">\n      <th></th>\n      <th>x</th>\n      <th>y</th>\n      <th>z</th>\n    </tr>\n  </thead>\n  <tbody>\n    <tr>\n      <th>0</th>\n      <td>0</td>\n      <td>0</td>\n      <td>0</td>\n    </tr>\n    <tr>\n      <th>1</th>\n      <td>1</td>\n      <td>1</td>\n      <td>1</td>\n    </tr>\n    <tr>\n      <th>2</th>\n      <td>2</td>\n      <td>4</td>\n      <td>8</td>\n    </tr>\n    <tr>\n      <th>3</th>\n      <td>3</td>\n      <td>9</td>\n      <td>27</td>\n    </tr>\n    <tr>\n      <th>4</th>\n      <td>4</td>\n      <td>16</td>\n      <td>64</td>\n    </tr>\n    <tr>\n      <th>...</th>\n      <td>...</td>\n      <td>...</td>\n      <td>...</td>\n    </tr>\n    <tr>\n      <th>95</th>\n      <td>95</td>\n      <td>9025</td>\n      <td>857375</td>\n    </tr>\n    <tr>\n      <th>96</th>\n      <td>96</td>\n      <td>9216</td>\n      <td>884736</td>\n    </tr>\n    <tr>\n      <th>97</th>\n      <td>97</td>\n      <td>9409</td>\n      <td>912673</td>\n    </tr>\n    <tr>\n      <th>98</th>\n      <td>98</td>\n      <td>9604</td>\n      <td>941192</td>\n    </tr>\n    <tr>\n      <th>99</th>\n      <td>99</td>\n      <td>9801</td>\n      <td>970299</td>\n    </tr>\n  </tbody>\n</table>\n<p>100 rows × 3 columns</p>\n</div>"
     },
     "execution_count": 28,
     "metadata": {},
     "output_type": "execute_result"
    }
   ],
   "source": [
    "# Add a third column, \"z\", to the DataFrame that is the cube of \"x\", using .apply\n",
    "x_y_z_df = x_y_df.copy()\n",
    "x_y_z_df[\"z\"] = x_y_z_df[\"x\"].apply(lambda cell: cell ** 3)\n",
    "x_y_z_df"
   ],
   "metadata": {
    "collapsed": false
   }
  },
  {
   "cell_type": "code",
   "execution_count": 29,
   "outputs": [
    {
     "data": {
      "text/plain": "      Order        PID  area   price  MS.SubClass MS.Zoning  Lot.Frontage  \\\n0         1  526301100  1656  215000           20        RL         141.0   \n1         2  526350040   896  105000           20        RH          80.0   \n2         3  526351010  1329  172000           20        RL          81.0   \n3         4  526353030  2110  244000           20        RL          93.0   \n4         5  527105010  1629  189900           60        RL          74.0   \n...     ...        ...   ...     ...          ...       ...           ...   \n2925   2926  923275080  1003  142500           80        RL          37.0   \n2926   2927  923276100   902  131000           20        RL           NaN   \n2927   2928  923400125   970  132000           85        RL          62.0   \n2928   2929  924100070  1389  170000           20        RL          77.0   \n2929   2930  924151050  2000  188000           60        RL          74.0   \n\n      Lot.Area Street Alley  ... Screen.Porch Pool.Area Pool.QC  Fence  \\\n0        31770   Pave   NaN  ...            0         0     NaN    NaN   \n1        11622   Pave   NaN  ...          120         0     NaN  MnPrv   \n2        14267   Pave   NaN  ...            0         0     NaN    NaN   \n3        11160   Pave   NaN  ...            0         0     NaN    NaN   \n4        13830   Pave   NaN  ...            0         0     NaN  MnPrv   \n...        ...    ...   ...  ...          ...       ...     ...    ...   \n2925      7937   Pave   NaN  ...            0         0     NaN  GdPrv   \n2926      8885   Pave   NaN  ...            0         0     NaN  MnPrv   \n2927     10441   Pave   NaN  ...            0         0     NaN  MnPrv   \n2928     10010   Pave   NaN  ...            0         0     NaN    NaN   \n2929      9627   Pave   NaN  ...            0         0     NaN    NaN   \n\n     Misc.Feature Misc.Val Mo.Sold Yr.Sold Sale.Type Sale.Condition  \n0             NaN        0       5    2010       WD          Normal  \n1             NaN        0       6    2010       WD          Normal  \n2            Gar2    12500       6    2010       WD          Normal  \n3             NaN        0       4    2010       WD          Normal  \n4             NaN        0       3    2010       WD          Normal  \n...           ...      ...     ...     ...       ...            ...  \n2925          NaN        0       3    2006       WD          Normal  \n2926          NaN        0       6    2006       WD          Normal  \n2927         Shed      700       7    2006       WD          Normal  \n2928          NaN        0       4    2006       WD          Normal  \n2929          NaN        0      11    2006       WD          Normal  \n\n[2930 rows x 82 columns]",
      "text/html": "<div>\n<style scoped>\n    .dataframe tbody tr th:only-of-type {\n        vertical-align: middle;\n    }\n\n    .dataframe tbody tr th {\n        vertical-align: top;\n    }\n\n    .dataframe thead th {\n        text-align: right;\n    }\n</style>\n<table border=\"1\" class=\"dataframe\">\n  <thead>\n    <tr style=\"text-align: right;\">\n      <th></th>\n      <th>Order</th>\n      <th>PID</th>\n      <th>area</th>\n      <th>price</th>\n      <th>MS.SubClass</th>\n      <th>MS.Zoning</th>\n      <th>Lot.Frontage</th>\n      <th>Lot.Area</th>\n      <th>Street</th>\n      <th>Alley</th>\n      <th>...</th>\n      <th>Screen.Porch</th>\n      <th>Pool.Area</th>\n      <th>Pool.QC</th>\n      <th>Fence</th>\n      <th>Misc.Feature</th>\n      <th>Misc.Val</th>\n      <th>Mo.Sold</th>\n      <th>Yr.Sold</th>\n      <th>Sale.Type</th>\n      <th>Sale.Condition</th>\n    </tr>\n  </thead>\n  <tbody>\n    <tr>\n      <th>0</th>\n      <td>1</td>\n      <td>526301100</td>\n      <td>1656</td>\n      <td>215000</td>\n      <td>20</td>\n      <td>RL</td>\n      <td>141.0</td>\n      <td>31770</td>\n      <td>Pave</td>\n      <td>NaN</td>\n      <td>...</td>\n      <td>0</td>\n      <td>0</td>\n      <td>NaN</td>\n      <td>NaN</td>\n      <td>NaN</td>\n      <td>0</td>\n      <td>5</td>\n      <td>2010</td>\n      <td>WD</td>\n      <td>Normal</td>\n    </tr>\n    <tr>\n      <th>1</th>\n      <td>2</td>\n      <td>526350040</td>\n      <td>896</td>\n      <td>105000</td>\n      <td>20</td>\n      <td>RH</td>\n      <td>80.0</td>\n      <td>11622</td>\n      <td>Pave</td>\n      <td>NaN</td>\n      <td>...</td>\n      <td>120</td>\n      <td>0</td>\n      <td>NaN</td>\n      <td>MnPrv</td>\n      <td>NaN</td>\n      <td>0</td>\n      <td>6</td>\n      <td>2010</td>\n      <td>WD</td>\n      <td>Normal</td>\n    </tr>\n    <tr>\n      <th>2</th>\n      <td>3</td>\n      <td>526351010</td>\n      <td>1329</td>\n      <td>172000</td>\n      <td>20</td>\n      <td>RL</td>\n      <td>81.0</td>\n      <td>14267</td>\n      <td>Pave</td>\n      <td>NaN</td>\n      <td>...</td>\n      <td>0</td>\n      <td>0</td>\n      <td>NaN</td>\n      <td>NaN</td>\n      <td>Gar2</td>\n      <td>12500</td>\n      <td>6</td>\n      <td>2010</td>\n      <td>WD</td>\n      <td>Normal</td>\n    </tr>\n    <tr>\n      <th>3</th>\n      <td>4</td>\n      <td>526353030</td>\n      <td>2110</td>\n      <td>244000</td>\n      <td>20</td>\n      <td>RL</td>\n      <td>93.0</td>\n      <td>11160</td>\n      <td>Pave</td>\n      <td>NaN</td>\n      <td>...</td>\n      <td>0</td>\n      <td>0</td>\n      <td>NaN</td>\n      <td>NaN</td>\n      <td>NaN</td>\n      <td>0</td>\n      <td>4</td>\n      <td>2010</td>\n      <td>WD</td>\n      <td>Normal</td>\n    </tr>\n    <tr>\n      <th>4</th>\n      <td>5</td>\n      <td>527105010</td>\n      <td>1629</td>\n      <td>189900</td>\n      <td>60</td>\n      <td>RL</td>\n      <td>74.0</td>\n      <td>13830</td>\n      <td>Pave</td>\n      <td>NaN</td>\n      <td>...</td>\n      <td>0</td>\n      <td>0</td>\n      <td>NaN</td>\n      <td>MnPrv</td>\n      <td>NaN</td>\n      <td>0</td>\n      <td>3</td>\n      <td>2010</td>\n      <td>WD</td>\n      <td>Normal</td>\n    </tr>\n    <tr>\n      <th>...</th>\n      <td>...</td>\n      <td>...</td>\n      <td>...</td>\n      <td>...</td>\n      <td>...</td>\n      <td>...</td>\n      <td>...</td>\n      <td>...</td>\n      <td>...</td>\n      <td>...</td>\n      <td>...</td>\n      <td>...</td>\n      <td>...</td>\n      <td>...</td>\n      <td>...</td>\n      <td>...</td>\n      <td>...</td>\n      <td>...</td>\n      <td>...</td>\n      <td>...</td>\n      <td>...</td>\n    </tr>\n    <tr>\n      <th>2925</th>\n      <td>2926</td>\n      <td>923275080</td>\n      <td>1003</td>\n      <td>142500</td>\n      <td>80</td>\n      <td>RL</td>\n      <td>37.0</td>\n      <td>7937</td>\n      <td>Pave</td>\n      <td>NaN</td>\n      <td>...</td>\n      <td>0</td>\n      <td>0</td>\n      <td>NaN</td>\n      <td>GdPrv</td>\n      <td>NaN</td>\n      <td>0</td>\n      <td>3</td>\n      <td>2006</td>\n      <td>WD</td>\n      <td>Normal</td>\n    </tr>\n    <tr>\n      <th>2926</th>\n      <td>2927</td>\n      <td>923276100</td>\n      <td>902</td>\n      <td>131000</td>\n      <td>20</td>\n      <td>RL</td>\n      <td>NaN</td>\n      <td>8885</td>\n      <td>Pave</td>\n      <td>NaN</td>\n      <td>...</td>\n      <td>0</td>\n      <td>0</td>\n      <td>NaN</td>\n      <td>MnPrv</td>\n      <td>NaN</td>\n      <td>0</td>\n      <td>6</td>\n      <td>2006</td>\n      <td>WD</td>\n      <td>Normal</td>\n    </tr>\n    <tr>\n      <th>2927</th>\n      <td>2928</td>\n      <td>923400125</td>\n      <td>970</td>\n      <td>132000</td>\n      <td>85</td>\n      <td>RL</td>\n      <td>62.0</td>\n      <td>10441</td>\n      <td>Pave</td>\n      <td>NaN</td>\n      <td>...</td>\n      <td>0</td>\n      <td>0</td>\n      <td>NaN</td>\n      <td>MnPrv</td>\n      <td>Shed</td>\n      <td>700</td>\n      <td>7</td>\n      <td>2006</td>\n      <td>WD</td>\n      <td>Normal</td>\n    </tr>\n    <tr>\n      <th>2928</th>\n      <td>2929</td>\n      <td>924100070</td>\n      <td>1389</td>\n      <td>170000</td>\n      <td>20</td>\n      <td>RL</td>\n      <td>77.0</td>\n      <td>10010</td>\n      <td>Pave</td>\n      <td>NaN</td>\n      <td>...</td>\n      <td>0</td>\n      <td>0</td>\n      <td>NaN</td>\n      <td>NaN</td>\n      <td>NaN</td>\n      <td>0</td>\n      <td>4</td>\n      <td>2006</td>\n      <td>WD</td>\n      <td>Normal</td>\n    </tr>\n    <tr>\n      <th>2929</th>\n      <td>2930</td>\n      <td>924151050</td>\n      <td>2000</td>\n      <td>188000</td>\n      <td>60</td>\n      <td>RL</td>\n      <td>74.0</td>\n      <td>9627</td>\n      <td>Pave</td>\n      <td>NaN</td>\n      <td>...</td>\n      <td>0</td>\n      <td>0</td>\n      <td>NaN</td>\n      <td>NaN</td>\n      <td>NaN</td>\n      <td>0</td>\n      <td>11</td>\n      <td>2006</td>\n      <td>WD</td>\n      <td>Normal</td>\n    </tr>\n  </tbody>\n</table>\n<p>2930 rows × 82 columns</p>\n</div>"
     },
     "execution_count": 29,
     "metadata": {},
     "output_type": "execute_result"
    }
   ],
   "source": [
    "# Given the Ames housing dataset ames.csv on the Piazza Resources page,\n",
    "# Load the dataset into a DataFrame\n",
    "ames_raw_df = pd.read_csv(\"ames.csv\")\n",
    "ames_raw_df"
   ],
   "metadata": {
    "collapsed": false
   }
  },
  {
   "cell_type": "code",
   "execution_count": 30,
   "outputs": [
    {
     "data": {
      "text/plain": "     Order        PID  area   price  MS.SubClass MS.Zoning  Lot.Frontage  \\\n199    200  903233120  1536  138400           50        RM          52.0   \n\n     Lot.Area Street Alley  ... Screen.Porch Pool.Area Pool.QC  Fence  \\\n199      6240   Pave   NaN  ...            0         0     NaN  MnPrv   \n\n    Misc.Feature Misc.Val Mo.Sold Yr.Sold Sale.Type Sale.Condition  \n199          NaN        0       3    2010       WD          Normal  \n\n[1 rows x 82 columns]",
      "text/html": "<div>\n<style scoped>\n    .dataframe tbody tr th:only-of-type {\n        vertical-align: middle;\n    }\n\n    .dataframe tbody tr th {\n        vertical-align: top;\n    }\n\n    .dataframe thead th {\n        text-align: right;\n    }\n</style>\n<table border=\"1\" class=\"dataframe\">\n  <thead>\n    <tr style=\"text-align: right;\">\n      <th></th>\n      <th>Order</th>\n      <th>PID</th>\n      <th>area</th>\n      <th>price</th>\n      <th>MS.SubClass</th>\n      <th>MS.Zoning</th>\n      <th>Lot.Frontage</th>\n      <th>Lot.Area</th>\n      <th>Street</th>\n      <th>Alley</th>\n      <th>...</th>\n      <th>Screen.Porch</th>\n      <th>Pool.Area</th>\n      <th>Pool.QC</th>\n      <th>Fence</th>\n      <th>Misc.Feature</th>\n      <th>Misc.Val</th>\n      <th>Mo.Sold</th>\n      <th>Yr.Sold</th>\n      <th>Sale.Type</th>\n      <th>Sale.Condition</th>\n    </tr>\n  </thead>\n  <tbody>\n    <tr>\n      <th>199</th>\n      <td>200</td>\n      <td>903233120</td>\n      <td>1536</td>\n      <td>138400</td>\n      <td>50</td>\n      <td>RM</td>\n      <td>52.0</td>\n      <td>6240</td>\n      <td>Pave</td>\n      <td>NaN</td>\n      <td>...</td>\n      <td>0</td>\n      <td>0</td>\n      <td>NaN</td>\n      <td>MnPrv</td>\n      <td>NaN</td>\n      <td>0</td>\n      <td>3</td>\n      <td>2010</td>\n      <td>WD</td>\n      <td>Normal</td>\n    </tr>\n  </tbody>\n</table>\n<p>1 rows × 82 columns</p>\n</div>"
     },
     "execution_count": 30,
     "metadata": {},
     "output_type": "execute_result"
    }
   ],
   "source": [
    "# Print the row with the \"PID\" 903233120\n",
    "ames_raw_df[ames_raw_df[\"PID\"] == 903233120]"
   ],
   "metadata": {
    "collapsed": false
   }
  },
  {
   "cell_type": "code",
   "execution_count": 31,
   "outputs": [
    {
     "data": {
      "text/plain": "array(['AllPub', 'NoSewr', 'NoSeWa'], dtype=object)"
     },
     "execution_count": 31,
     "metadata": {},
     "output_type": "execute_result"
    }
   ],
   "source": [
    "# Show the unique values in the Utilities column\n",
    "ames_raw_df[\"Utilities\"].unique()"
   ],
   "metadata": {
    "collapsed": false
   }
  },
  {
   "cell_type": "code",
   "execution_count": 32,
   "outputs": [
    {
     "data": {
      "text/plain": "      Order        PID  area   price  MS.SubClass MS.Zoning  Lot.Frontage  \\\n0         1  526301100  1656  215000           20        RL         141.0   \n1         2  526350040   896  105000           20        RH          80.0   \n2         3  526351010  1329  172000           20        RL          81.0   \n3         4  526353030  2110  244000           20        RL          93.0   \n4         5  527105010  1629  189900           60        RL          74.0   \n...     ...        ...   ...     ...          ...       ...           ...   \n2925   2926  923275080  1003  142500           80        RL          37.0   \n2926   2927  923276100   902  131000           20        RL           NaN   \n2927   2928  923400125   970  132000           85        RL          62.0   \n2928   2929  924100070  1389  170000           20        RL          77.0   \n2929   2930  924151050  2000  188000           60        RL          74.0   \n\n      Lot.Area Street Alley  ...  Fence Misc.Feature Misc.Val Mo.Sold Yr.Sold  \\\n0        31770   Pave   NaN  ...    NaN          NaN        0       5    2010   \n1        11622   Pave   NaN  ...  MnPrv          NaN        0       6    2010   \n2        14267   Pave   NaN  ...    NaN         Gar2    12500       6    2010   \n3        11160   Pave   NaN  ...    NaN          NaN        0       4    2010   \n4        13830   Pave   NaN  ...  MnPrv          NaN        0       3    2010   \n...        ...    ...   ...  ...    ...          ...      ...     ...     ...   \n2925      7937   Pave   NaN  ...  GdPrv          NaN        0       3    2006   \n2926      8885   Pave   NaN  ...  MnPrv          NaN        0       6    2006   \n2927     10441   Pave   NaN  ...  MnPrv         Shed      700       7    2006   \n2928     10010   Pave   NaN  ...    NaN          NaN        0       4    2006   \n2929      9627   Pave   NaN  ...    NaN          NaN        0      11    2006   \n\n     Sale.Type Sale.Condition Utilities_AllPub Utilities_NoSeWa  \\\n0          WD          Normal                1                0   \n1          WD          Normal                1                0   \n2          WD          Normal                1                0   \n3          WD          Normal                1                0   \n4          WD          Normal                1                0   \n...        ...            ...              ...              ...   \n2925       WD          Normal                1                0   \n2926       WD          Normal                1                0   \n2927       WD          Normal                1                0   \n2928       WD          Normal                1                0   \n2929       WD          Normal                1                0   \n\n      Utilities_NoSewr  \n0                    0  \n1                    0  \n2                    0  \n3                    0  \n4                    0  \n...                ...  \n2925                 0  \n2926                 0  \n2927                 0  \n2928                 0  \n2929                 0  \n\n[2930 rows x 84 columns]",
      "text/html": "<div>\n<style scoped>\n    .dataframe tbody tr th:only-of-type {\n        vertical-align: middle;\n    }\n\n    .dataframe tbody tr th {\n        vertical-align: top;\n    }\n\n    .dataframe thead th {\n        text-align: right;\n    }\n</style>\n<table border=\"1\" class=\"dataframe\">\n  <thead>\n    <tr style=\"text-align: right;\">\n      <th></th>\n      <th>Order</th>\n      <th>PID</th>\n      <th>area</th>\n      <th>price</th>\n      <th>MS.SubClass</th>\n      <th>MS.Zoning</th>\n      <th>Lot.Frontage</th>\n      <th>Lot.Area</th>\n      <th>Street</th>\n      <th>Alley</th>\n      <th>...</th>\n      <th>Fence</th>\n      <th>Misc.Feature</th>\n      <th>Misc.Val</th>\n      <th>Mo.Sold</th>\n      <th>Yr.Sold</th>\n      <th>Sale.Type</th>\n      <th>Sale.Condition</th>\n      <th>Utilities_AllPub</th>\n      <th>Utilities_NoSeWa</th>\n      <th>Utilities_NoSewr</th>\n    </tr>\n  </thead>\n  <tbody>\n    <tr>\n      <th>0</th>\n      <td>1</td>\n      <td>526301100</td>\n      <td>1656</td>\n      <td>215000</td>\n      <td>20</td>\n      <td>RL</td>\n      <td>141.0</td>\n      <td>31770</td>\n      <td>Pave</td>\n      <td>NaN</td>\n      <td>...</td>\n      <td>NaN</td>\n      <td>NaN</td>\n      <td>0</td>\n      <td>5</td>\n      <td>2010</td>\n      <td>WD</td>\n      <td>Normal</td>\n      <td>1</td>\n      <td>0</td>\n      <td>0</td>\n    </tr>\n    <tr>\n      <th>1</th>\n      <td>2</td>\n      <td>526350040</td>\n      <td>896</td>\n      <td>105000</td>\n      <td>20</td>\n      <td>RH</td>\n      <td>80.0</td>\n      <td>11622</td>\n      <td>Pave</td>\n      <td>NaN</td>\n      <td>...</td>\n      <td>MnPrv</td>\n      <td>NaN</td>\n      <td>0</td>\n      <td>6</td>\n      <td>2010</td>\n      <td>WD</td>\n      <td>Normal</td>\n      <td>1</td>\n      <td>0</td>\n      <td>0</td>\n    </tr>\n    <tr>\n      <th>2</th>\n      <td>3</td>\n      <td>526351010</td>\n      <td>1329</td>\n      <td>172000</td>\n      <td>20</td>\n      <td>RL</td>\n      <td>81.0</td>\n      <td>14267</td>\n      <td>Pave</td>\n      <td>NaN</td>\n      <td>...</td>\n      <td>NaN</td>\n      <td>Gar2</td>\n      <td>12500</td>\n      <td>6</td>\n      <td>2010</td>\n      <td>WD</td>\n      <td>Normal</td>\n      <td>1</td>\n      <td>0</td>\n      <td>0</td>\n    </tr>\n    <tr>\n      <th>3</th>\n      <td>4</td>\n      <td>526353030</td>\n      <td>2110</td>\n      <td>244000</td>\n      <td>20</td>\n      <td>RL</td>\n      <td>93.0</td>\n      <td>11160</td>\n      <td>Pave</td>\n      <td>NaN</td>\n      <td>...</td>\n      <td>NaN</td>\n      <td>NaN</td>\n      <td>0</td>\n      <td>4</td>\n      <td>2010</td>\n      <td>WD</td>\n      <td>Normal</td>\n      <td>1</td>\n      <td>0</td>\n      <td>0</td>\n    </tr>\n    <tr>\n      <th>4</th>\n      <td>5</td>\n      <td>527105010</td>\n      <td>1629</td>\n      <td>189900</td>\n      <td>60</td>\n      <td>RL</td>\n      <td>74.0</td>\n      <td>13830</td>\n      <td>Pave</td>\n      <td>NaN</td>\n      <td>...</td>\n      <td>MnPrv</td>\n      <td>NaN</td>\n      <td>0</td>\n      <td>3</td>\n      <td>2010</td>\n      <td>WD</td>\n      <td>Normal</td>\n      <td>1</td>\n      <td>0</td>\n      <td>0</td>\n    </tr>\n    <tr>\n      <th>...</th>\n      <td>...</td>\n      <td>...</td>\n      <td>...</td>\n      <td>...</td>\n      <td>...</td>\n      <td>...</td>\n      <td>...</td>\n      <td>...</td>\n      <td>...</td>\n      <td>...</td>\n      <td>...</td>\n      <td>...</td>\n      <td>...</td>\n      <td>...</td>\n      <td>...</td>\n      <td>...</td>\n      <td>...</td>\n      <td>...</td>\n      <td>...</td>\n      <td>...</td>\n      <td>...</td>\n    </tr>\n    <tr>\n      <th>2925</th>\n      <td>2926</td>\n      <td>923275080</td>\n      <td>1003</td>\n      <td>142500</td>\n      <td>80</td>\n      <td>RL</td>\n      <td>37.0</td>\n      <td>7937</td>\n      <td>Pave</td>\n      <td>NaN</td>\n      <td>...</td>\n      <td>GdPrv</td>\n      <td>NaN</td>\n      <td>0</td>\n      <td>3</td>\n      <td>2006</td>\n      <td>WD</td>\n      <td>Normal</td>\n      <td>1</td>\n      <td>0</td>\n      <td>0</td>\n    </tr>\n    <tr>\n      <th>2926</th>\n      <td>2927</td>\n      <td>923276100</td>\n      <td>902</td>\n      <td>131000</td>\n      <td>20</td>\n      <td>RL</td>\n      <td>NaN</td>\n      <td>8885</td>\n      <td>Pave</td>\n      <td>NaN</td>\n      <td>...</td>\n      <td>MnPrv</td>\n      <td>NaN</td>\n      <td>0</td>\n      <td>6</td>\n      <td>2006</td>\n      <td>WD</td>\n      <td>Normal</td>\n      <td>1</td>\n      <td>0</td>\n      <td>0</td>\n    </tr>\n    <tr>\n      <th>2927</th>\n      <td>2928</td>\n      <td>923400125</td>\n      <td>970</td>\n      <td>132000</td>\n      <td>85</td>\n      <td>RL</td>\n      <td>62.0</td>\n      <td>10441</td>\n      <td>Pave</td>\n      <td>NaN</td>\n      <td>...</td>\n      <td>MnPrv</td>\n      <td>Shed</td>\n      <td>700</td>\n      <td>7</td>\n      <td>2006</td>\n      <td>WD</td>\n      <td>Normal</td>\n      <td>1</td>\n      <td>0</td>\n      <td>0</td>\n    </tr>\n    <tr>\n      <th>2928</th>\n      <td>2929</td>\n      <td>924100070</td>\n      <td>1389</td>\n      <td>170000</td>\n      <td>20</td>\n      <td>RL</td>\n      <td>77.0</td>\n      <td>10010</td>\n      <td>Pave</td>\n      <td>NaN</td>\n      <td>...</td>\n      <td>NaN</td>\n      <td>NaN</td>\n      <td>0</td>\n      <td>4</td>\n      <td>2006</td>\n      <td>WD</td>\n      <td>Normal</td>\n      <td>1</td>\n      <td>0</td>\n      <td>0</td>\n    </tr>\n    <tr>\n      <th>2929</th>\n      <td>2930</td>\n      <td>924151050</td>\n      <td>2000</td>\n      <td>188000</td>\n      <td>60</td>\n      <td>RL</td>\n      <td>74.0</td>\n      <td>9627</td>\n      <td>Pave</td>\n      <td>NaN</td>\n      <td>...</td>\n      <td>NaN</td>\n      <td>NaN</td>\n      <td>0</td>\n      <td>11</td>\n      <td>2006</td>\n      <td>WD</td>\n      <td>Normal</td>\n      <td>1</td>\n      <td>0</td>\n      <td>0</td>\n    </tr>\n  </tbody>\n</table>\n<p>2930 rows × 84 columns</p>\n</div>"
     },
     "execution_count": 32,
     "metadata": {},
     "output_type": "execute_result"
    }
   ],
   "source": [
    "# Dummy-encode the \"Utilities\" column\n",
    "ames_dummy_df = pd.get_dummies(ames_raw_df, columns=[\"Utilities\"])\n",
    "ames_dummy_df"
   ],
   "metadata": {
    "collapsed": false
   }
  },
  {
   "cell_type": "code",
   "execution_count": 33,
   "outputs": [
    {
     "data": {
      "text/plain": "      Order        PID  area     price  MS.SubClass MS.Zoning  Lot.Frontage  \\\n0         1  526301100  1656  0.428229           20        RL         141.0   \n1         2  526350040   896 -0.948957           20        RH          80.0   \n2         3  526351010  1329 -0.110125           20        RL          81.0   \n3         4  526353030  2110  0.791305           20        RL          93.0   \n4         5  527105010  1629  0.113980           60        RL          74.0   \n...     ...        ...   ...       ...          ...       ...           ...   \n2925   2926  923275080  1003 -0.479462           80        RL          37.0   \n2926   2927  923276100   902 -0.623440           20        RL           NaN   \n2927   2928  923400125   970 -0.610920           85        RL          62.0   \n2928   2929  924100070  1389 -0.135165           20        RL          77.0   \n2929   2930  924151050  2000  0.090192           60        RL          74.0   \n\n      Lot.Area Street Alley  ... Screen.Porch Pool.Area Pool.QC  Fence  \\\n0        31770   Pave   NaN  ...            0         0     NaN    NaN   \n1        11622   Pave   NaN  ...          120         0     NaN  MnPrv   \n2        14267   Pave   NaN  ...            0         0     NaN    NaN   \n3        11160   Pave   NaN  ...            0         0     NaN    NaN   \n4        13830   Pave   NaN  ...            0         0     NaN  MnPrv   \n...        ...    ...   ...  ...          ...       ...     ...    ...   \n2925      7937   Pave   NaN  ...            0         0     NaN  GdPrv   \n2926      8885   Pave   NaN  ...            0         0     NaN  MnPrv   \n2927     10441   Pave   NaN  ...            0         0     NaN  MnPrv   \n2928     10010   Pave   NaN  ...            0         0     NaN    NaN   \n2929      9627   Pave   NaN  ...            0         0     NaN    NaN   \n\n     Misc.Feature Misc.Val Mo.Sold Yr.Sold Sale.Type Sale.Condition  \n0             NaN        0       5    2010       WD          Normal  \n1             NaN        0       6    2010       WD          Normal  \n2            Gar2    12500       6    2010       WD          Normal  \n3             NaN        0       4    2010       WD          Normal  \n4             NaN        0       3    2010       WD          Normal  \n...           ...      ...     ...     ...       ...            ...  \n2925          NaN        0       3    2006       WD          Normal  \n2926          NaN        0       6    2006       WD          Normal  \n2927         Shed      700       7    2006       WD          Normal  \n2928          NaN        0       4    2006       WD          Normal  \n2929          NaN        0      11    2006       WD          Normal  \n\n[2930 rows x 82 columns]",
      "text/html": "<div>\n<style scoped>\n    .dataframe tbody tr th:only-of-type {\n        vertical-align: middle;\n    }\n\n    .dataframe tbody tr th {\n        vertical-align: top;\n    }\n\n    .dataframe thead th {\n        text-align: right;\n    }\n</style>\n<table border=\"1\" class=\"dataframe\">\n  <thead>\n    <tr style=\"text-align: right;\">\n      <th></th>\n      <th>Order</th>\n      <th>PID</th>\n      <th>area</th>\n      <th>price</th>\n      <th>MS.SubClass</th>\n      <th>MS.Zoning</th>\n      <th>Lot.Frontage</th>\n      <th>Lot.Area</th>\n      <th>Street</th>\n      <th>Alley</th>\n      <th>...</th>\n      <th>Screen.Porch</th>\n      <th>Pool.Area</th>\n      <th>Pool.QC</th>\n      <th>Fence</th>\n      <th>Misc.Feature</th>\n      <th>Misc.Val</th>\n      <th>Mo.Sold</th>\n      <th>Yr.Sold</th>\n      <th>Sale.Type</th>\n      <th>Sale.Condition</th>\n    </tr>\n  </thead>\n  <tbody>\n    <tr>\n      <th>0</th>\n      <td>1</td>\n      <td>526301100</td>\n      <td>1656</td>\n      <td>0.428229</td>\n      <td>20</td>\n      <td>RL</td>\n      <td>141.0</td>\n      <td>31770</td>\n      <td>Pave</td>\n      <td>NaN</td>\n      <td>...</td>\n      <td>0</td>\n      <td>0</td>\n      <td>NaN</td>\n      <td>NaN</td>\n      <td>NaN</td>\n      <td>0</td>\n      <td>5</td>\n      <td>2010</td>\n      <td>WD</td>\n      <td>Normal</td>\n    </tr>\n    <tr>\n      <th>1</th>\n      <td>2</td>\n      <td>526350040</td>\n      <td>896</td>\n      <td>-0.948957</td>\n      <td>20</td>\n      <td>RH</td>\n      <td>80.0</td>\n      <td>11622</td>\n      <td>Pave</td>\n      <td>NaN</td>\n      <td>...</td>\n      <td>120</td>\n      <td>0</td>\n      <td>NaN</td>\n      <td>MnPrv</td>\n      <td>NaN</td>\n      <td>0</td>\n      <td>6</td>\n      <td>2010</td>\n      <td>WD</td>\n      <td>Normal</td>\n    </tr>\n    <tr>\n      <th>2</th>\n      <td>3</td>\n      <td>526351010</td>\n      <td>1329</td>\n      <td>-0.110125</td>\n      <td>20</td>\n      <td>RL</td>\n      <td>81.0</td>\n      <td>14267</td>\n      <td>Pave</td>\n      <td>NaN</td>\n      <td>...</td>\n      <td>0</td>\n      <td>0</td>\n      <td>NaN</td>\n      <td>NaN</td>\n      <td>Gar2</td>\n      <td>12500</td>\n      <td>6</td>\n      <td>2010</td>\n      <td>WD</td>\n      <td>Normal</td>\n    </tr>\n    <tr>\n      <th>3</th>\n      <td>4</td>\n      <td>526353030</td>\n      <td>2110</td>\n      <td>0.791305</td>\n      <td>20</td>\n      <td>RL</td>\n      <td>93.0</td>\n      <td>11160</td>\n      <td>Pave</td>\n      <td>NaN</td>\n      <td>...</td>\n      <td>0</td>\n      <td>0</td>\n      <td>NaN</td>\n      <td>NaN</td>\n      <td>NaN</td>\n      <td>0</td>\n      <td>4</td>\n      <td>2010</td>\n      <td>WD</td>\n      <td>Normal</td>\n    </tr>\n    <tr>\n      <th>4</th>\n      <td>5</td>\n      <td>527105010</td>\n      <td>1629</td>\n      <td>0.113980</td>\n      <td>60</td>\n      <td>RL</td>\n      <td>74.0</td>\n      <td>13830</td>\n      <td>Pave</td>\n      <td>NaN</td>\n      <td>...</td>\n      <td>0</td>\n      <td>0</td>\n      <td>NaN</td>\n      <td>MnPrv</td>\n      <td>NaN</td>\n      <td>0</td>\n      <td>3</td>\n      <td>2010</td>\n      <td>WD</td>\n      <td>Normal</td>\n    </tr>\n    <tr>\n      <th>...</th>\n      <td>...</td>\n      <td>...</td>\n      <td>...</td>\n      <td>...</td>\n      <td>...</td>\n      <td>...</td>\n      <td>...</td>\n      <td>...</td>\n      <td>...</td>\n      <td>...</td>\n      <td>...</td>\n      <td>...</td>\n      <td>...</td>\n      <td>...</td>\n      <td>...</td>\n      <td>...</td>\n      <td>...</td>\n      <td>...</td>\n      <td>...</td>\n      <td>...</td>\n      <td>...</td>\n    </tr>\n    <tr>\n      <th>2925</th>\n      <td>2926</td>\n      <td>923275080</td>\n      <td>1003</td>\n      <td>-0.479462</td>\n      <td>80</td>\n      <td>RL</td>\n      <td>37.0</td>\n      <td>7937</td>\n      <td>Pave</td>\n      <td>NaN</td>\n      <td>...</td>\n      <td>0</td>\n      <td>0</td>\n      <td>NaN</td>\n      <td>GdPrv</td>\n      <td>NaN</td>\n      <td>0</td>\n      <td>3</td>\n      <td>2006</td>\n      <td>WD</td>\n      <td>Normal</td>\n    </tr>\n    <tr>\n      <th>2926</th>\n      <td>2927</td>\n      <td>923276100</td>\n      <td>902</td>\n      <td>-0.623440</td>\n      <td>20</td>\n      <td>RL</td>\n      <td>NaN</td>\n      <td>8885</td>\n      <td>Pave</td>\n      <td>NaN</td>\n      <td>...</td>\n      <td>0</td>\n      <td>0</td>\n      <td>NaN</td>\n      <td>MnPrv</td>\n      <td>NaN</td>\n      <td>0</td>\n      <td>6</td>\n      <td>2006</td>\n      <td>WD</td>\n      <td>Normal</td>\n    </tr>\n    <tr>\n      <th>2927</th>\n      <td>2928</td>\n      <td>923400125</td>\n      <td>970</td>\n      <td>-0.610920</td>\n      <td>85</td>\n      <td>RL</td>\n      <td>62.0</td>\n      <td>10441</td>\n      <td>Pave</td>\n      <td>NaN</td>\n      <td>...</td>\n      <td>0</td>\n      <td>0</td>\n      <td>NaN</td>\n      <td>MnPrv</td>\n      <td>Shed</td>\n      <td>700</td>\n      <td>7</td>\n      <td>2006</td>\n      <td>WD</td>\n      <td>Normal</td>\n    </tr>\n    <tr>\n      <th>2928</th>\n      <td>2929</td>\n      <td>924100070</td>\n      <td>1389</td>\n      <td>-0.135165</td>\n      <td>20</td>\n      <td>RL</td>\n      <td>77.0</td>\n      <td>10010</td>\n      <td>Pave</td>\n      <td>NaN</td>\n      <td>...</td>\n      <td>0</td>\n      <td>0</td>\n      <td>NaN</td>\n      <td>NaN</td>\n      <td>NaN</td>\n      <td>0</td>\n      <td>4</td>\n      <td>2006</td>\n      <td>WD</td>\n      <td>Normal</td>\n    </tr>\n    <tr>\n      <th>2929</th>\n      <td>2930</td>\n      <td>924151050</td>\n      <td>2000</td>\n      <td>0.090192</td>\n      <td>60</td>\n      <td>RL</td>\n      <td>74.0</td>\n      <td>9627</td>\n      <td>Pave</td>\n      <td>NaN</td>\n      <td>...</td>\n      <td>0</td>\n      <td>0</td>\n      <td>NaN</td>\n      <td>NaN</td>\n      <td>NaN</td>\n      <td>0</td>\n      <td>11</td>\n      <td>2006</td>\n      <td>WD</td>\n      <td>Normal</td>\n    </tr>\n  </tbody>\n</table>\n<p>2930 rows × 82 columns</p>\n</div>"
     },
     "execution_count": 33,
     "metadata": {},
     "output_type": "execute_result"
    }
   ],
   "source": [
    "# Standard-scale the \"price\" column\n",
    "\n",
    "from sklearn.preprocessing import StandardScaler\n",
    "ames_scaled_df = ames_raw_df.copy()\n",
    "ames_scaled_df[[\"price\"]] = StandardScaler().fit_transform(ames_raw_df[[\"price\"]])\n",
    "ames_scaled_df"
   ],
   "metadata": {
    "collapsed": false
   }
  },
  {
   "cell_type": "code",
   "execution_count": 34,
   "outputs": [
    {
     "data": {
      "text/plain": "      Order        PID  area   price  MS.SubClass MS.Zoning  Lot.Frontage  \\\n0         1  526301100  1656  215000           20        RL         141.0   \n1         2  526350040   896  105000           20        RH          80.0   \n2         3  526351010  1329  172000           20        RL          81.0   \n3         4  526353030  2110  244000           20        RL          93.0   \n4         5  527105010  1629  189900           60        RL          74.0   \n...     ...        ...   ...     ...          ...       ...           ...   \n2925   2926  923275080  1003  142500           80        RL          37.0   \n2926   2927  923276100   902  131000           20        RL          68.0   \n2927   2928  923400125   970  132000           85        RL          62.0   \n2928   2929  924100070  1389  170000           20        RL          77.0   \n2929   2930  924151050  2000  188000           60        RL          74.0   \n\n      Lot.Area Street Alley  ... Screen.Porch Pool.Area Pool.QC  Fence  \\\n0        31770   Pave   NaN  ...            0         0     NaN    NaN   \n1        11622   Pave   NaN  ...          120         0     NaN  MnPrv   \n2        14267   Pave   NaN  ...            0         0     NaN    NaN   \n3        11160   Pave   NaN  ...            0         0     NaN    NaN   \n4        13830   Pave   NaN  ...            0         0     NaN  MnPrv   \n...        ...    ...   ...  ...          ...       ...     ...    ...   \n2925      7937   Pave   NaN  ...            0         0     NaN  GdPrv   \n2926      8885   Pave   NaN  ...            0         0     NaN  MnPrv   \n2927     10441   Pave   NaN  ...            0         0     NaN  MnPrv   \n2928     10010   Pave   NaN  ...            0         0     NaN    NaN   \n2929      9627   Pave   NaN  ...            0         0     NaN    NaN   \n\n     Misc.Feature Misc.Val Mo.Sold Yr.Sold Sale.Type Sale.Condition  \n0             NaN        0       5    2010       WD          Normal  \n1             NaN        0       6    2010       WD          Normal  \n2            Gar2    12500       6    2010       WD          Normal  \n3             NaN        0       4    2010       WD          Normal  \n4             NaN        0       3    2010       WD          Normal  \n...           ...      ...     ...     ...       ...            ...  \n2925          NaN        0       3    2006       WD          Normal  \n2926          NaN        0       6    2006       WD          Normal  \n2927         Shed      700       7    2006       WD          Normal  \n2928          NaN        0       4    2006       WD          Normal  \n2929          NaN        0      11    2006       WD          Normal  \n\n[2930 rows x 82 columns]",
      "text/html": "<div>\n<style scoped>\n    .dataframe tbody tr th:only-of-type {\n        vertical-align: middle;\n    }\n\n    .dataframe tbody tr th {\n        vertical-align: top;\n    }\n\n    .dataframe thead th {\n        text-align: right;\n    }\n</style>\n<table border=\"1\" class=\"dataframe\">\n  <thead>\n    <tr style=\"text-align: right;\">\n      <th></th>\n      <th>Order</th>\n      <th>PID</th>\n      <th>area</th>\n      <th>price</th>\n      <th>MS.SubClass</th>\n      <th>MS.Zoning</th>\n      <th>Lot.Frontage</th>\n      <th>Lot.Area</th>\n      <th>Street</th>\n      <th>Alley</th>\n      <th>...</th>\n      <th>Screen.Porch</th>\n      <th>Pool.Area</th>\n      <th>Pool.QC</th>\n      <th>Fence</th>\n      <th>Misc.Feature</th>\n      <th>Misc.Val</th>\n      <th>Mo.Sold</th>\n      <th>Yr.Sold</th>\n      <th>Sale.Type</th>\n      <th>Sale.Condition</th>\n    </tr>\n  </thead>\n  <tbody>\n    <tr>\n      <th>0</th>\n      <td>1</td>\n      <td>526301100</td>\n      <td>1656</td>\n      <td>215000</td>\n      <td>20</td>\n      <td>RL</td>\n      <td>141.0</td>\n      <td>31770</td>\n      <td>Pave</td>\n      <td>NaN</td>\n      <td>...</td>\n      <td>0</td>\n      <td>0</td>\n      <td>NaN</td>\n      <td>NaN</td>\n      <td>NaN</td>\n      <td>0</td>\n      <td>5</td>\n      <td>2010</td>\n      <td>WD</td>\n      <td>Normal</td>\n    </tr>\n    <tr>\n      <th>1</th>\n      <td>2</td>\n      <td>526350040</td>\n      <td>896</td>\n      <td>105000</td>\n      <td>20</td>\n      <td>RH</td>\n      <td>80.0</td>\n      <td>11622</td>\n      <td>Pave</td>\n      <td>NaN</td>\n      <td>...</td>\n      <td>120</td>\n      <td>0</td>\n      <td>NaN</td>\n      <td>MnPrv</td>\n      <td>NaN</td>\n      <td>0</td>\n      <td>6</td>\n      <td>2010</td>\n      <td>WD</td>\n      <td>Normal</td>\n    </tr>\n    <tr>\n      <th>2</th>\n      <td>3</td>\n      <td>526351010</td>\n      <td>1329</td>\n      <td>172000</td>\n      <td>20</td>\n      <td>RL</td>\n      <td>81.0</td>\n      <td>14267</td>\n      <td>Pave</td>\n      <td>NaN</td>\n      <td>...</td>\n      <td>0</td>\n      <td>0</td>\n      <td>NaN</td>\n      <td>NaN</td>\n      <td>Gar2</td>\n      <td>12500</td>\n      <td>6</td>\n      <td>2010</td>\n      <td>WD</td>\n      <td>Normal</td>\n    </tr>\n    <tr>\n      <th>3</th>\n      <td>4</td>\n      <td>526353030</td>\n      <td>2110</td>\n      <td>244000</td>\n      <td>20</td>\n      <td>RL</td>\n      <td>93.0</td>\n      <td>11160</td>\n      <td>Pave</td>\n      <td>NaN</td>\n      <td>...</td>\n      <td>0</td>\n      <td>0</td>\n      <td>NaN</td>\n      <td>NaN</td>\n      <td>NaN</td>\n      <td>0</td>\n      <td>4</td>\n      <td>2010</td>\n      <td>WD</td>\n      <td>Normal</td>\n    </tr>\n    <tr>\n      <th>4</th>\n      <td>5</td>\n      <td>527105010</td>\n      <td>1629</td>\n      <td>189900</td>\n      <td>60</td>\n      <td>RL</td>\n      <td>74.0</td>\n      <td>13830</td>\n      <td>Pave</td>\n      <td>NaN</td>\n      <td>...</td>\n      <td>0</td>\n      <td>0</td>\n      <td>NaN</td>\n      <td>MnPrv</td>\n      <td>NaN</td>\n      <td>0</td>\n      <td>3</td>\n      <td>2010</td>\n      <td>WD</td>\n      <td>Normal</td>\n    </tr>\n    <tr>\n      <th>...</th>\n      <td>...</td>\n      <td>...</td>\n      <td>...</td>\n      <td>...</td>\n      <td>...</td>\n      <td>...</td>\n      <td>...</td>\n      <td>...</td>\n      <td>...</td>\n      <td>...</td>\n      <td>...</td>\n      <td>...</td>\n      <td>...</td>\n      <td>...</td>\n      <td>...</td>\n      <td>...</td>\n      <td>...</td>\n      <td>...</td>\n      <td>...</td>\n      <td>...</td>\n      <td>...</td>\n    </tr>\n    <tr>\n      <th>2925</th>\n      <td>2926</td>\n      <td>923275080</td>\n      <td>1003</td>\n      <td>142500</td>\n      <td>80</td>\n      <td>RL</td>\n      <td>37.0</td>\n      <td>7937</td>\n      <td>Pave</td>\n      <td>NaN</td>\n      <td>...</td>\n      <td>0</td>\n      <td>0</td>\n      <td>NaN</td>\n      <td>GdPrv</td>\n      <td>NaN</td>\n      <td>0</td>\n      <td>3</td>\n      <td>2006</td>\n      <td>WD</td>\n      <td>Normal</td>\n    </tr>\n    <tr>\n      <th>2926</th>\n      <td>2927</td>\n      <td>923276100</td>\n      <td>902</td>\n      <td>131000</td>\n      <td>20</td>\n      <td>RL</td>\n      <td>68.0</td>\n      <td>8885</td>\n      <td>Pave</td>\n      <td>NaN</td>\n      <td>...</td>\n      <td>0</td>\n      <td>0</td>\n      <td>NaN</td>\n      <td>MnPrv</td>\n      <td>NaN</td>\n      <td>0</td>\n      <td>6</td>\n      <td>2006</td>\n      <td>WD</td>\n      <td>Normal</td>\n    </tr>\n    <tr>\n      <th>2927</th>\n      <td>2928</td>\n      <td>923400125</td>\n      <td>970</td>\n      <td>132000</td>\n      <td>85</td>\n      <td>RL</td>\n      <td>62.0</td>\n      <td>10441</td>\n      <td>Pave</td>\n      <td>NaN</td>\n      <td>...</td>\n      <td>0</td>\n      <td>0</td>\n      <td>NaN</td>\n      <td>MnPrv</td>\n      <td>Shed</td>\n      <td>700</td>\n      <td>7</td>\n      <td>2006</td>\n      <td>WD</td>\n      <td>Normal</td>\n    </tr>\n    <tr>\n      <th>2928</th>\n      <td>2929</td>\n      <td>924100070</td>\n      <td>1389</td>\n      <td>170000</td>\n      <td>20</td>\n      <td>RL</td>\n      <td>77.0</td>\n      <td>10010</td>\n      <td>Pave</td>\n      <td>NaN</td>\n      <td>...</td>\n      <td>0</td>\n      <td>0</td>\n      <td>NaN</td>\n      <td>NaN</td>\n      <td>NaN</td>\n      <td>0</td>\n      <td>4</td>\n      <td>2006</td>\n      <td>WD</td>\n      <td>Normal</td>\n    </tr>\n    <tr>\n      <th>2929</th>\n      <td>2930</td>\n      <td>924151050</td>\n      <td>2000</td>\n      <td>188000</td>\n      <td>60</td>\n      <td>RL</td>\n      <td>74.0</td>\n      <td>9627</td>\n      <td>Pave</td>\n      <td>NaN</td>\n      <td>...</td>\n      <td>0</td>\n      <td>0</td>\n      <td>NaN</td>\n      <td>NaN</td>\n      <td>NaN</td>\n      <td>0</td>\n      <td>11</td>\n      <td>2006</td>\n      <td>WD</td>\n      <td>Normal</td>\n    </tr>\n  </tbody>\n</table>\n<p>2930 rows × 82 columns</p>\n</div>"
     },
     "execution_count": 34,
     "metadata": {},
     "output_type": "execute_result"
    }
   ],
   "source": [
    "# Replace nulls in the \"Lot.Frontage\" column with the median of the column\n",
    "\n",
    "from sklearn.impute import SimpleImputer\n",
    "non_null_df = ames_raw_df.copy()\n",
    "non_null_df[[\"Lot.Frontage\"]] = SimpleImputer(strategy=\"median\").fit_transform(non_null_df[[\"Lot.Frontage\"]])\n",
    "non_null_df"
   ],
   "metadata": {
    "collapsed": false
   }
  },
  {
   "cell_type": "code",
   "execution_count": 41,
   "outputs": [
    {
     "name": "stdout",
     "output_type": "stream",
     "text": [
      "False negative (metric): 2\n",
      "False positive (metric): 3\n",
      "True negative (metric): 11\n",
      "True positive (metric): 9\n",
      "Accuracy (metric): 0.8\n",
      "Precision (metric): 0.75\n",
      "Recall (metric): 0.8181818181818182\n",
      "F1 (metric): 0.7826086956521738\n",
      "\n",
      "False negative (hand): 2\n",
      "False positive (hand): 3\n",
      "True negative (hand): 11\n",
      "True positive (hand): 9\n",
      "Accuracy (hand): 0.8\n"
     ]
    }
   ],
   "source": [
    "# Given the following lists of predicted and actual class labels\n",
    "\n",
    "predicted = [0, 0, 1, 0, 1, 1, 1, 1, 1, 1, 1, 0, 0, 0, 0, 1, 0, 0, 1, 0, 0, 0, 1, 1, 0]\n",
    "actual = [0, 1, 1, 0, 1, 1, 0, 1, 1, 0, 1, 0, 0, 0, 0, 1, 0, 0, 1, 0, 0, 1, 1, 0, 0]\n",
    "\n",
    "# Calculate the confusion matrix, accuracy, precision, recall, and F1 score using sklearn metrics\n",
    "from sklearn import metrics\n",
    "tn, fp, fn, tp = metrics.confusion_matrix(actual, predicted).ravel()\n",
    "print(\"False negative (metric):\", fn)\n",
    "print(\"False positive (metric):\", fp)\n",
    "print(\"True negative (metric):\", tn)\n",
    "print(\"True positive (metric):\", tp)\n",
    "print(\"Accuracy (metric):\", metrics.accuracy_score(actual, predicted))\n",
    "print(\"Precision (metric):\", metrics.precision_score(actual, predicted))\n",
    "print(\"Recall (metric):\", metrics.recall_score(actual, predicted))\n",
    "print(\"F1 (metric):\", metrics.f1_score(actual, predicted))\n",
    "\n",
    "print()\n",
    "\n",
    "# Alternatively, calculate the confusion matrix by hand\n",
    "tp = fp = fn = tn = 0\n",
    "for i in range(len(predicted)):\n",
    "    if predicted[i] == actual[i]:\n",
    "        if predicted[i] == 1:\n",
    "            tp += 1\n",
    "        else:\n",
    "            tn += 1\n",
    "    else:\n",
    "        if actual[i] == 1:\n",
    "            fn += 1\n",
    "        else:\n",
    "            fp += 1\n",
    "\n",
    "print(\"False negative (hand):\", fn)\n",
    "print(\"False positive (hand):\", fp)\n",
    "print(\"True negative (hand):\", tn)\n",
    "print(\"True positive (hand):\", tp)\n",
    "# Then calculate the metrics with the formulas e.g.,\n",
    "print(\"Accuracy (hand):\", (tp + tn) / (tp + tn + fp + fn))"
   ],
   "metadata": {
    "collapsed": false
   }
  },
  {
   "cell_type": "code",
   "execution_count": null,
   "outputs": [],
   "source": [
    "tp"
   ],
   "metadata": {
    "collapsed": false
   }
  }
 ],
 "metadata": {
  "kernelspec": {
   "display_name": "Python 3",
   "language": "python",
   "name": "python3"
  },
  "language_info": {
   "codemirror_mode": {
    "name": "ipython",
    "version": 2
   },
   "file_extension": ".py",
   "mimetype": "text/x-python",
   "name": "python",
   "nbconvert_exporter": "python",
   "pygments_lexer": "ipython2",
   "version": "2.7.6"
  }
 },
 "nbformat": 4,
 "nbformat_minor": 0
}
