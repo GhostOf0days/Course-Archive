{
 "cells": [
  {
   "cell_type": "markdown",
   "id": "electronic-sandwich",
   "metadata": {
    "deletable": false,
    "editable": false,
    "nbgrader": {
     "cell_type": "markdown",
     "checksum": "78fda09026cbad4bc6e874092ef0aff9",
     "grade": false,
     "grade_id": "Desc",
     "locked": true,
     "schema_version": 3,
     "solution": false,
     "task": false
    }
   },
   "source": [
    "###### Exam-3: Spring 2023\n",
    "#### Total number of points: 51\n",
    "\n",
    "This is an open-book test. However, talking or chatting with your classmates is NOT permitted and will be considered plagiarism. \n",
    "\n",
    "<b>Before you submit this test, make sure your answers are saved, and everything runs as expected</b>. \n",
    "\n",
    "- For empty notebook submissions, you will receive 0 points. \n",
    "- If instructions (including not using the same variable names) are not followed that led to a wrong answer, you will receive 0 points. \n",
    "\n",
    "First, restart the kernel (in the menu, select Kernel → Restart) and then run all cells (in the menubar, select Cell → Run All).\n",
    "Steps to evaluate your solutions:\n",
    "\n",
    "Step-1: Ensure you have installed Anaconda (Windows: https://docs.anaconda.com/anaconda/install/windows/ ; Mac:https://docs.anaconda.com/anaconda/install/mac-os/ ; Linux: https://docs.anaconda.com/anaconda/install/linux/)\n",
    "\n",
    "Step-2: Open the Jupyter Notebook by first launching the anaconda software console\n",
    "\n",
    "Step-3: Open the .ipynb file and write your solutions at the appropriate location \"# YOUR CODE HERE\"\n",
    "\n",
    "Step-4: You can restart the kernel and click run all (in the menubar, select Cell → Run All) on the center-right on the top of this window.\n",
    "\n",
    "Step-5: Now go to \"File\" then click on \"Download as\" then click on \"Notebook (.ipynb)\" Please DO NOT change the file name and just keep it as .ipynb file format\n",
    "\n",
    "Step-6: Go to lms.rpi.edu and upload your notebook at the appropriate link to submit this homework. Make sure your answers are saved before you submit. \n",
    "\n",
    "#### Please note that for any question in this test you will receive points ONLY if your solution passes all the hidden testcases. So please make sure you try to think all possible scenarios before submitting your answers.  \n",
    "- Note that hidden tests are present to ensure you are not hardcoding. \n",
    "- If caught cheating: \n",
    "    - you will receive a score of 0 for the 1st violation. \n",
    "    - for repeated incidents, you will receive an automatic 'F' grade and will be reported to the dean of Lally School of Management. "
   ]
  },
  {
   "cell_type": "code",
   "execution_count": null,
   "id": "3e43df78",
   "metadata": {
    "ExecuteTime": {
     "end_time": "2023-04-10T11:16:20.554894Z",
     "start_time": "2023-04-10T11:16:19.555794Z"
    }
   },
   "outputs": [],
   "source": [
    "#Please do not modify/delete this cell\n",
    "import pandas as pd\n",
    "pd.set_option('display.max_columns', None)\n",
    "df = pd.read_csv(\"https://raw.githubusercontent.com/rpi-techfundamentals/website_fall_2022/master/site/public/data2.csv\")\n",
    "df"
   ]
  },
  {
   "cell_type": "markdown",
   "id": "removable-cursor",
   "metadata": {
    "deletable": false,
    "editable": false,
    "nbgrader": {
     "cell_type": "markdown",
     "checksum": "b60b1b4459b0b1ab15b7bc83be7b1ce5",
     "grade": false,
     "grade_id": "Q1",
     "locked": true,
     "schema_version": 3,
     "solution": false,
     "task": false
    }
   },
   "source": [
    "### Q-1 [15 points] Please answer the following questions in the same order as listed here below: \n",
    "\n",
    "1. Select all features with names that start with a `w` and assign them to the dataframe `df_w`.\n",
    "2. Select all features with names that start with `cad` and assign them to the dataframe `df_cad`.\n",
    "3. Split `df` (using all columns) into one dataframe (`df_1`) that includes the first 7000 rows and a second one (`df_2`) that includes the second 3000 rows. Reset the index for `df_2`, dropping it in the process (i.e., it should not be added to the dataframe)."
   ]
  },
  {
   "cell_type": "code",
   "execution_count": null,
   "id": "horizontal-northwest",
   "metadata": {
    "ExecuteTime": {
     "end_time": "2023-04-10T11:16:20.563618Z",
     "start_time": "2023-04-10T11:16:20.559697Z"
    },
    "deletable": false,
    "nbgrader": {
     "cell_type": "code",
     "checksum": "b02077008bf3d1473c94c6baf0448a2b",
     "grade": false,
     "grade_id": "Q1-sol",
     "locked": false,
     "schema_version": 3,
     "solution": true,
     "task": false
    }
   },
   "outputs": [],
   "source": [
    "\n",
    "# YOUR CODE HERE\n",
    "raise NotImplementedError()"
   ]
  },
  {
   "cell_type": "code",
   "execution_count": null,
   "id": "worldwide-change",
   "metadata": {
    "ExecuteTime": {
     "end_time": "2023-04-10T11:16:20.567715Z",
     "start_time": "2023-04-10T11:16:20.564229Z"
    },
    "deletable": false,
    "editable": false,
    "nbgrader": {
     "cell_type": "code",
     "checksum": "fe989e757786b81b7cf0e8e10e8a0645",
     "grade": false,
     "grade_id": "varcheck1",
     "locked": true,
     "schema_version": 3,
     "solution": false,
     "task": false
    }
   },
   "outputs": [],
   "source": [
    "#Please do not modify/delete this cell\n",
    "#This will test that you have not mislabeled a variable.\n",
    "assert 'df_w' in globals()\n",
    "assert 'df_cad' in globals()\n",
    "assert 'df_1' in globals()\n",
    "assert 'df_2' in globals()\n"
   ]
  },
  {
   "cell_type": "code",
   "execution_count": null,
   "id": "round-eagle",
   "metadata": {
    "ExecuteTime": {
     "end_time": "2023-04-10T11:16:20.572747Z",
     "start_time": "2023-04-10T11:16:20.570353Z"
    },
    "deletable": false,
    "editable": false,
    "nbgrader": {
     "cell_type": "code",
     "checksum": "f986d088664c7ca702f5683853436e70",
     "grade": true,
     "grade_id": "1",
     "locked": true,
     "points": 3,
     "schema_version": 3,
     "solution": false,
     "task": false
    }
   },
   "outputs": [],
   "source": [
    "#Test cell-1 [3pt] Hidden tests\n",
    "#DO NOT MODIFY/DELETE THIS CELL \n"
   ]
  },
  {
   "cell_type": "code",
   "execution_count": null,
   "id": "4db1e816",
   "metadata": {
    "ExecuteTime": {
     "end_time": "2023-04-10T11:16:20.594757Z",
     "start_time": "2023-04-10T11:16:20.573678Z"
    },
    "deletable": false,
    "editable": false,
    "nbgrader": {
     "cell_type": "code",
     "checksum": "4eef3b60612bb3049a58876a87216bb0",
     "grade": true,
     "grade_id": "2",
     "locked": true,
     "points": 3,
     "schema_version": 3,
     "solution": false,
     "task": false
    }
   },
   "outputs": [],
   "source": [
    "#Test cell-2 [3pt] Hidden tests\n",
    "#DO NOT MODIFY/DELETE THIS CELL \n"
   ]
  },
  {
   "cell_type": "code",
   "execution_count": null,
   "id": "martial-superior",
   "metadata": {
    "ExecuteTime": {
     "end_time": "2023-04-10T11:16:20.595350Z",
     "start_time": "2023-04-10T11:16:20.576962Z"
    },
    "deletable": false,
    "editable": false,
    "nbgrader": {
     "cell_type": "code",
     "checksum": "565417ded7bc25efa00b803b51120c0f",
     "grade": true,
     "grade_id": "3",
     "locked": true,
     "points": 3,
     "schema_version": 3,
     "solution": false,
     "task": false
    }
   },
   "outputs": [],
   "source": [
    "#Test cell-3 [3pt] Hidden tests\n",
    "#DO NOT MODIFY/DELETE THIS CELL \n"
   ]
  },
  {
   "cell_type": "code",
   "execution_count": null,
   "id": "fancy-complexity",
   "metadata": {
    "ExecuteTime": {
     "end_time": "2023-04-10T11:16:20.595526Z",
     "start_time": "2023-04-10T11:16:20.582774Z"
    },
    "deletable": false,
    "editable": false,
    "nbgrader": {
     "cell_type": "code",
     "checksum": "0c3ddb682df50867bb7bdb3801764f95",
     "grade": true,
     "grade_id": "4",
     "locked": true,
     "points": 3,
     "schema_version": 3,
     "solution": false,
     "task": false
    }
   },
   "outputs": [],
   "source": [
    "#Test cell-4 [3pt] Hidden tests\n",
    "#DO NOT MODIFY/DELETE THIS CELL \n"
   ]
  },
  {
   "cell_type": "code",
   "execution_count": null,
   "id": "7daf820a",
   "metadata": {
    "ExecuteTime": {
     "end_time": "2023-04-10T11:16:20.595841Z",
     "start_time": "2023-04-10T11:16:20.587016Z"
    },
    "deletable": false,
    "editable": false,
    "nbgrader": {
     "cell_type": "code",
     "checksum": "94591b3321b0830ee8a7386ea7d395a0",
     "grade": true,
     "grade_id": "5",
     "locked": true,
     "points": 3,
     "schema_version": 3,
     "solution": false,
     "task": false
    }
   },
   "outputs": [],
   "source": [
    "#Test cell-5 [3pt] Hidden tests\n",
    "#DO NOT MODIFY/DELETE THIS CELL \n"
   ]
  },
  {
   "cell_type": "markdown",
   "id": "received-bangkok",
   "metadata": {
    "deletable": false,
    "editable": false,
    "nbgrader": {
     "cell_type": "markdown",
     "checksum": "63f3e165cd6b496e9ea6b724866acdf0",
     "grade": false,
     "grade_id": "Q2",
     "locked": true,
     "schema_version": 3,
     "solution": false,
     "task": false
    }
   },
   "source": [
    "## Q-2 [12 points] Please answer the following questions in the same order as listed here below: \n",
    "\n",
    "Use the values `X_train`, `X_test`, `y_train`, `y_test` provided below to answer the following questions. \n",
    " \n",
    "1. Use a support vector classifier with `random_state=0` and `probability=True` to train a machine learning model.\n",
    "2. Compute the accuracy for the train and the test sets and assigning to the variables `acc_train` and `acc_test`, respectively.\n",
    "3. Compute the roc_auc_score for the train and the test sets and assigning to the variables `roc_train` and `roc_test`, respectively."
   ]
  },
  {
   "cell_type": "code",
   "execution_count": null,
   "id": "07934851",
   "metadata": {
    "ExecuteTime": {
     "end_time": "2023-04-10T11:16:21.560713Z",
     "start_time": "2023-04-10T11:16:20.590611Z"
    },
    "deletable": false,
    "editable": false,
    "nbgrader": {
     "cell_type": "code",
     "checksum": "d94a03932142bee452199d48aa5a9e9c",
     "grade": false,
     "grade_id": "Q2-pre",
     "locked": true,
     "schema_version": 3,
     "solution": false,
     "task": false
    }
   },
   "outputs": [],
   "source": [
    "#Please do not modify/delete this cell\n",
    "#This loads our data\n",
    "from sklearn.model_selection import train_test_split\n",
    "df  = pd.read_csv(\"https://raw.githubusercontent.com/rpi-techfundamentals/website_fall_2022/master/site/public/data2.csv\")\n",
    "X = df.iloc[:,2:]\n",
    "y = df['treatment']\n",
    "X_train, X_test, y_train, y_test = train_test_split(X, y, test_size=0.7, random_state=0)"
   ]
  },
  {
   "cell_type": "code",
   "execution_count": null,
   "id": "ranging-arena",
   "metadata": {
    "ExecuteTime": {
     "end_time": "2023-04-10T11:16:29.732271Z",
     "start_time": "2023-04-10T11:16:21.565666Z"
    },
    "deletable": false,
    "nbgrader": {
     "cell_type": "code",
     "checksum": "11b802b6024ad072a938ab50b552a7ff",
     "grade": false,
     "grade_id": "Q2-Sol",
     "locked": false,
     "schema_version": 3,
     "solution": true,
     "task": false
    }
   },
   "outputs": [],
   "source": [
    "\n",
    "#Your solution here. Make sure the cell executes without errors. \n",
    "\n",
    "# YOUR CODE HERE\n",
    "raise NotImplementedError()"
   ]
  },
  {
   "cell_type": "code",
   "execution_count": null,
   "id": "maritime-allocation",
   "metadata": {
    "ExecuteTime": {
     "end_time": "2023-04-10T11:16:29.736390Z",
     "start_time": "2023-04-10T11:16:29.733071Z"
    },
    "deletable": false,
    "editable": false,
    "nbgrader": {
     "cell_type": "code",
     "checksum": "2899cd84ec25341ae862ab467e935b81",
     "grade": false,
     "grade_id": "varcheck2",
     "locked": true,
     "schema_version": 3,
     "solution": false,
     "task": false
    }
   },
   "outputs": [],
   "source": [
    "#Please do not modify/delete this cell\n",
    "#This will test that you have not mislabeled a variable.\n",
    "assert 'acc_train' in globals()\n",
    "assert 'acc_test' in globals()\n",
    "assert 'roc_train' in globals()\n",
    "assert 'roc_test' in globals()"
   ]
  },
  {
   "cell_type": "code",
   "execution_count": null,
   "id": "seeing-maryland",
   "metadata": {
    "ExecuteTime": {
     "end_time": "2023-04-10T11:16:29.740117Z",
     "start_time": "2023-04-10T11:16:29.737482Z"
    },
    "deletable": false,
    "editable": false,
    "nbgrader": {
     "cell_type": "code",
     "checksum": "281b03db111ba78d9dfb8b9582c85f9a",
     "grade": true,
     "grade_id": "6",
     "locked": true,
     "points": 3,
     "schema_version": 3,
     "solution": false,
     "task": false
    }
   },
   "outputs": [],
   "source": [
    "#Test cell-6 [3pt] Hidden tests\n",
    "#DO NOT MODIFY/DELETE THIS CELL "
   ]
  },
  {
   "cell_type": "code",
   "execution_count": null,
   "id": "fa618f14",
   "metadata": {
    "ExecuteTime": {
     "end_time": "2023-04-10T11:16:29.744487Z",
     "start_time": "2023-04-10T11:16:29.741332Z"
    },
    "deletable": false,
    "editable": false,
    "nbgrader": {
     "cell_type": "code",
     "checksum": "39c348fc3d4e3ed0ea6ebcbea9cd3487",
     "grade": true,
     "grade_id": "7",
     "locked": true,
     "points": 3,
     "schema_version": 3,
     "solution": false,
     "task": false
    }
   },
   "outputs": [],
   "source": [
    "#Test cell-7 [3pt] Hidden tests\n",
    "#DO NOT MODIFY/DELETE THIS CELL "
   ]
  },
  {
   "cell_type": "code",
   "execution_count": null,
   "id": "3d3eaebd",
   "metadata": {
    "ExecuteTime": {
     "end_time": "2023-04-10T11:16:29.748105Z",
     "start_time": "2023-04-10T11:16:29.745369Z"
    },
    "deletable": false,
    "editable": false,
    "nbgrader": {
     "cell_type": "code",
     "checksum": "d4cab2f61dceb0c9b665ad20f37d9894",
     "grade": true,
     "grade_id": "8",
     "locked": true,
     "points": 3,
     "schema_version": 3,
     "solution": false,
     "task": false
    }
   },
   "outputs": [],
   "source": [
    "#Test cell-8 [3pt] Hidden tests\n",
    "#DO NOT MODIFY/DELETE THIS CELL "
   ]
  },
  {
   "cell_type": "code",
   "execution_count": null,
   "id": "smart-soccer",
   "metadata": {
    "ExecuteTime": {
     "end_time": "2023-04-10T11:16:29.752077Z",
     "start_time": "2023-04-10T11:16:29.748692Z"
    },
    "deletable": false,
    "editable": false,
    "nbgrader": {
     "cell_type": "code",
     "checksum": "a0be9035c38437530b5fc402334b9748",
     "grade": true,
     "grade_id": "9",
     "locked": true,
     "points": 3,
     "schema_version": 3,
     "solution": false,
     "task": false
    }
   },
   "outputs": [],
   "source": [
    "#Test cell-9 [3pt] Hidden tests\n",
    "#DO NOT MODIFY/DELETE THIS CELL "
   ]
  },
  {
   "cell_type": "markdown",
   "id": "8ff1adea",
   "metadata": {
    "deletable": false,
    "editable": false,
    "nbgrader": {
     "cell_type": "markdown",
     "checksum": "0543feb9cfaa138e2938987a9d6bdabd",
     "grade": false,
     "grade_id": "Q3-2",
     "locked": true,
     "schema_version": 3,
     "solution": false,
     "task": false
    }
   },
   "source": [
    "### Q-3 [24 points] Please answer the following questions in the same order as listed here below:\n",
    "\n",
    "Use the values `X_train`, `X_test`, `y_train`, `y_test` provided below to answer the following questions.\n",
    "\n",
    "1. Use a GradientBoostingRegressor() with `random_state=0` to train a machine learning model to predict the continuous variable `y` (which was named target in the original dataframe).\n",
    "2. Compute the r2 for the train and the test sets and assign them to the variables `r2_train` and `r2_test`, respectively.\n",
    "3. Compute the mean_absolute_percentage_error for the train and the test sets and assign them to the variables `mape_train` and `mape_test`, respectively.\n",
    "4. Create a very simple model which uses the mean value from the *training data* as the prediction for both the training `y_train_pred_s` and the test data `y_test_pred_s`, where both should be Pandas Series of the appropriate length.\n",
    "5. Evaluate the R2 of `y_train_pred_s` (generating `r2_train_s`) and `y_test_pred_s` (generating `r2_test_s`)."
   ]
  },
  {
   "cell_type": "code",
   "execution_count": null,
   "id": "643d4f91",
   "metadata": {
    "ExecuteTime": {
     "end_time": "2023-04-10T11:16:30.761412Z",
     "start_time": "2023-04-10T11:16:29.760807Z"
    }
   },
   "outputs": [],
   "source": [
    "#Please do not modify/delete this cell\n",
    "from sklearn.model_selection import train_test_split\n",
    "df  = pd.read_csv(\"https://raw.githubusercontent.com/rpi-techfundamentals/website_fall_2022/master/site/public/data2.csv\")\n",
    "X = df.iloc[:,2:]\n",
    "y = df['target']\n",
    "X_train, X_test, y_train, y_test = train_test_split(X, y, test_size=0.7, random_state=0)"
   ]
  },
  {
   "cell_type": "code",
   "execution_count": null,
   "id": "5afe08cb",
   "metadata": {
    "ExecuteTime": {
     "end_time": "2023-04-10T11:16:32.473403Z",
     "start_time": "2023-04-10T11:16:30.762003Z"
    },
    "deletable": false,
    "nbgrader": {
     "cell_type": "code",
     "checksum": "d10ef3723a7b359fb89c961523864b12",
     "grade": false,
     "grade_id": "Q3-2-SOL",
     "locked": false,
     "schema_version": 3,
     "solution": true,
     "task": false
    }
   },
   "outputs": [],
   "source": [
    "#Your solution here. Make sure the cell executes without errors. \n",
    "\n",
    "# YOUR CODE HERE\n",
    "raise NotImplementedError()"
   ]
  },
  {
   "cell_type": "code",
   "execution_count": null,
   "id": "5b12c7f6",
   "metadata": {
    "ExecuteTime": {
     "end_time": "2023-04-10T11:16:32.479073Z",
     "start_time": "2023-04-10T11:16:32.476219Z"
    },
    "deletable": false,
    "editable": false,
    "nbgrader": {
     "cell_type": "code",
     "checksum": "4ccd008971d0be30510e8b1b5099b780",
     "grade": false,
     "grade_id": "varcheck3-2",
     "locked": true,
     "schema_version": 3,
     "solution": false,
     "task": false
    }
   },
   "outputs": [],
   "source": [
    "#This will test that you have not mislabeled a variable. \n",
    "assert 'r2_train' in globals()\n",
    "assert 'r2_test' in globals()\n",
    "assert 'mape_train' in globals()\n",
    "assert 'mape_test' in globals()\n",
    "assert 'y_train_pred_s' in globals()\n",
    "assert 'y_test_pred_s' in globals()\n",
    "assert 'r2_train_s' in globals()\n",
    "assert 'r2_test_s' in globals()\n"
   ]
  },
  {
   "cell_type": "code",
   "execution_count": null,
   "id": "455e05d7",
   "metadata": {
    "ExecuteTime": {
     "end_time": "2023-04-10T11:16:32.483345Z",
     "start_time": "2023-04-10T11:16:32.480467Z"
    },
    "deletable": false,
    "editable": false,
    "nbgrader": {
     "cell_type": "code",
     "checksum": "f5758223a2aa103b8eb48b0d08ace028",
     "grade": true,
     "grade_id": "10",
     "locked": true,
     "points": 3,
     "schema_version": 3,
     "solution": false,
     "task": false
    }
   },
   "outputs": [],
   "source": [
    "#Test cell-10 [3pt] Hidden tests\n",
    "#DO NOT MODIFY/DELETE THIS CELL \n",
    "\n"
   ]
  },
  {
   "cell_type": "code",
   "execution_count": null,
   "id": "9bc2df16",
   "metadata": {
    "ExecuteTime": {
     "end_time": "2023-04-10T11:16:32.487971Z",
     "start_time": "2023-04-10T11:16:32.483859Z"
    },
    "deletable": false,
    "editable": false,
    "nbgrader": {
     "cell_type": "code",
     "checksum": "76225a71bcf22cda70510a4517b0c829",
     "grade": true,
     "grade_id": "11",
     "locked": true,
     "points": 3,
     "schema_version": 3,
     "solution": false,
     "task": false
    }
   },
   "outputs": [],
   "source": [
    "#Test cell-11 [3pt] Hidden tests\n",
    "#DO NOT MODIFY/DELETE THIS CELL \n"
   ]
  },
  {
   "cell_type": "code",
   "execution_count": null,
   "id": "b75613e9",
   "metadata": {
    "ExecuteTime": {
     "end_time": "2023-04-10T11:16:32.491701Z",
     "start_time": "2023-04-10T11:16:32.489074Z"
    },
    "deletable": false,
    "editable": false,
    "nbgrader": {
     "cell_type": "code",
     "checksum": "3052c90ed73df1c66903837f1eab04d3",
     "grade": true,
     "grade_id": "12",
     "locked": true,
     "points": 3,
     "schema_version": 3,
     "solution": false,
     "task": false
    }
   },
   "outputs": [],
   "source": [
    "#Test cell-12 [3pt] Hidden tests\n",
    "#DO NOT MODIFY/DELETE THIS CELL \n"
   ]
  },
  {
   "cell_type": "code",
   "execution_count": null,
   "id": "ecc4c056",
   "metadata": {
    "ExecuteTime": {
     "end_time": "2023-04-10T11:16:32.502136Z",
     "start_time": "2023-04-10T11:16:32.492398Z"
    },
    "deletable": false,
    "editable": false,
    "nbgrader": {
     "cell_type": "code",
     "checksum": "d5506405050a33be97da6463674d0246",
     "grade": true,
     "grade_id": "13",
     "locked": true,
     "points": 3,
     "schema_version": 3,
     "solution": false,
     "task": false
    }
   },
   "outputs": [],
   "source": [
    "#Test cell-13 [3pt] Hidden tests\n",
    "#DO NOT MODIFY/DELETE THIS CELL \n"
   ]
  },
  {
   "cell_type": "code",
   "execution_count": null,
   "id": "b2490edf",
   "metadata": {
    "ExecuteTime": {
     "end_time": "2023-04-10T11:16:32.502664Z",
     "start_time": "2023-04-10T11:16:32.496701Z"
    },
    "deletable": false,
    "editable": false,
    "nbgrader": {
     "cell_type": "code",
     "checksum": "61b5def9b59f774ae1db51560757f652",
     "grade": true,
     "grade_id": "14",
     "locked": true,
     "points": 3,
     "schema_version": 3,
     "solution": false,
     "task": false
    }
   },
   "outputs": [],
   "source": [
    "#Test cell-14 [3pt] Hidden tests\n",
    "#DO NOT MODIFY/DELETE THIS CELL \n"
   ]
  },
  {
   "cell_type": "code",
   "execution_count": null,
   "id": "8b77d6a2",
   "metadata": {
    "ExecuteTime": {
     "end_time": "2023-04-10T11:16:32.502785Z",
     "start_time": "2023-04-10T11:16:32.500797Z"
    },
    "deletable": false,
    "editable": false,
    "nbgrader": {
     "cell_type": "code",
     "checksum": "77ba07bfb43663bdc1f69c13da58a2e7",
     "grade": true,
     "grade_id": "15",
     "locked": true,
     "points": 3,
     "schema_version": 3,
     "solution": false,
     "task": false
    }
   },
   "outputs": [],
   "source": [
    "#Test cell-15 [3pt] Hidden tests\n",
    "#DO NOT MODIFY/DELETE THIS CELL \n"
   ]
  },
  {
   "cell_type": "code",
   "execution_count": null,
   "id": "c78d3d98",
   "metadata": {
    "ExecuteTime": {
     "end_time": "2023-04-10T11:16:32.509431Z",
     "start_time": "2023-04-10T11:16:32.504574Z"
    },
    "deletable": false,
    "editable": false,
    "nbgrader": {
     "cell_type": "code",
     "checksum": "7b001e8ddd2a854c1f69d7dad2cf79cc",
     "grade": true,
     "grade_id": "16",
     "locked": true,
     "points": 3,
     "schema_version": 3,
     "solution": false,
     "task": false
    }
   },
   "outputs": [],
   "source": [
    "#Test cell-16 [3pt] Hidden tests\n",
    "#DO NOT MODIFY/DELETE THIS CELL \n"
   ]
  },
  {
   "cell_type": "code",
   "execution_count": null,
   "id": "f205af44",
   "metadata": {
    "ExecuteTime": {
     "end_time": "2023-04-10T11:16:32.512219Z",
     "start_time": "2023-04-10T11:16:32.509201Z"
    },
    "deletable": false,
    "editable": false,
    "nbgrader": {
     "cell_type": "code",
     "checksum": "ec2c53b8ae0ee5fee0da31b073a093cf",
     "grade": true,
     "grade_id": "17",
     "locked": true,
     "points": 3,
     "schema_version": 3,
     "solution": false,
     "task": false
    }
   },
   "outputs": [],
   "source": [
    "#Test cell-17 [3pt] Hidden tests\n",
    "#DO NOT MODIFY/DELETE THIS CELL \n"
   ]
  }
 ],
 "metadata": {
  "kernelspec": {
   "display_name": "Python 3 (ipykernel)",
   "language": "python",
   "name": "python3"
  },
  "language_info": {
   "codemirror_mode": {
    "name": "ipython",
    "version": 3
   },
   "file_extension": ".py",
   "mimetype": "text/x-python",
   "name": "python",
   "nbconvert_exporter": "python",
   "pygments_lexer": "ipython3",
   "version": "3.9.7"
  }
 },
 "nbformat": 4,
 "nbformat_minor": 5
}
