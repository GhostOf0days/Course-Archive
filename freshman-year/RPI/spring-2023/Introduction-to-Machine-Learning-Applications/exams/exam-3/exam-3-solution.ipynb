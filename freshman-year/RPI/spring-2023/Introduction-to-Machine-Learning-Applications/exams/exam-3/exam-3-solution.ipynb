{
 "cells": [
  {
   "cell_type": "markdown",
   "id": "electronic-sandwich",
   "metadata": {
    "nbgrader": {
     "grade": false,
     "grade_id": "Desc",
     "locked": true,
     "schema_version": 3,
     "solution": false,
     "task": false
    }
   },
   "source": [
    "###### Exam-3: Spring 2023\n",
    "#### Total number of points: 51\n",
    "\n",
    "This is an open-book test. However, talking or chatting with your classmates is NOT permitted and will be considered plagiarism. \n",
    "\n",
    "<b>Before you submit this test, make sure your answers are saved, and everything runs as expected</b>. \n",
    "\n",
    "- For empty notebook submissions, you will receive 0 points. \n",
    "- If instructions (including not using the same variable names) are not followed that led to a wrong answer, you will receive 0 points. \n",
    "\n",
    "First, restart the kernel (in the menu, select Kernel → Restart) and then run all cells (in the menubar, select Cell → Run All).\n",
    "Steps to evaluate your solutions:\n",
    "\n",
    "Step-1: Ensure you have installed Anaconda (Windows: https://docs.anaconda.com/anaconda/install/windows/ ; Mac:https://docs.anaconda.com/anaconda/install/mac-os/ ; Linux: https://docs.anaconda.com/anaconda/install/linux/)\n",
    "\n",
    "Step-2: Open the Jupyter Notebook by first launching the anaconda software console\n",
    "\n",
    "Step-3: Open the .ipynb file and write your solutions at the appropriate location \"# YOUR CODE HERE\"\n",
    "\n",
    "Step-4: You can restart the kernel and click run all (in the menubar, select Cell → Run All) on the center-right on the top of this window.\n",
    "\n",
    "Step-5: Now go to \"File\" then click on \"Download as\" then click on \"Notebook (.ipynb)\" Please DO NOT change the file name and just keep it as .ipynb file format\n",
    "\n",
    "Step-6: Go to lms.rpi.edu and upload your notebook at the appropriate link to submit this homework. Make sure your answers are saved before you submit. \n",
    "\n",
    "#### Please note that for any question in this test you will receive points ONLY if your solution passes all the hidden testcases. So please make sure you try to think all possible scenarios before submitting your answers.  \n",
    "- Note that hidden tests are present to ensure you are not hardcoding. \n",
    "- If caught cheating: \n",
    "    - you will receive a score of 0 for the 1st violation. \n",
    "    - for repeated incidents, you will receive an automatic 'F' grade and will be reported to the dean of Lally School of Management. "
   ]
  },
  {
   "cell_type": "code",
   "execution_count": null,
   "id": "3e43df78",
   "metadata": {
    "ExecuteTime": {
     "start_time": "2023-04-10T11:16:19.555794Z",
     "end_time": "2023-04-10T11:16:20.554894Z"
    }
   },
   "outputs": [],
   "source": [
    "#Please do not modify/delete this cell\n",
    "import pandas as pd\n",
    "pd.set_option('display.max_columns', None)\n",
    "df = pd.read_csv(\"https://raw.githubusercontent.com/rpi-techfundamentals/website_fall_2022/master/site/public/data2.csv\")\n",
    "df"
   ]
  },
  {
   "cell_type": "markdown",
   "id": "removable-cursor",
   "metadata": {
    "nbgrader": {
     "grade": false,
     "grade_id": "Q1",
     "locked": true,
     "schema_version": 3,
     "solution": false,
     "task": false
    }
   },
   "source": [
    "### Q-1 [15 points] Please answer the following questions in the same order as listed here below: \n",
    "\n",
    "1. Select all features with names that start with a `w` and assign them to the dataframe `df_w`.\n",
    "2. Select all features with names that start with `cad` and assign them to the dataframe `df_cad`.\n",
    "3. Split `df` (using all columns) into one dataframe (`df_1`) that includes the first 7000 rows and a second one (`df_2`) that includes the second 3000 rows. Reset the index for `df_2`, dropping it in the process (i.e., it should not be added to the dataframe)."
   ]
  },
  {
   "cell_type": "code",
   "execution_count": null,
   "id": "horizontal-northwest",
   "metadata": {
    "nbgrader": {
     "grade": false,
     "grade_id": "Q1-sol",
     "locked": false,
     "schema_version": 3,
     "solution": true,
     "task": false
    },
    "ExecuteTime": {
     "start_time": "2023-04-10T11:16:20.559697Z",
     "end_time": "2023-04-10T11:16:20.563618Z"
    }
   },
   "outputs": [],
   "source": [
    "\n",
    "### BEGIN SOLUTION\n",
    "df_w=df.loc[:,[x for x in df.columns if x[0]=='w']]\n",
    "df_cad=df.loc[:,[x for x in df.columns if x[0:3]=='cad']]\n",
    "df_1=df.iloc[0:7000,]\n",
    "df_2=df.iloc[7000:,].reset_index(drop=True )\n",
    "df_2.index[0]\n",
    "### END SOLUTION"
   ]
  },
  {
   "cell_type": "code",
   "execution_count": null,
   "id": "worldwide-change",
   "metadata": {
    "nbgrader": {
     "grade": false,
     "grade_id": "varcheck1",
     "locked": true,
     "schema_version": 3,
     "solution": false,
     "task": false
    },
    "ExecuteTime": {
     "start_time": "2023-04-10T11:16:20.564229Z",
     "end_time": "2023-04-10T11:16:20.567715Z"
    }
   },
   "outputs": [],
   "source": [
    "#Please do not modify/delete this cell\n",
    "#This will test that you have not mislabeled a variable.\n",
    "assert 'df_w' in globals()\n",
    "assert 'df_cad' in globals()\n",
    "assert 'df_1' in globals()\n",
    "assert 'df_2' in globals()\n"
   ]
  },
  {
   "cell_type": "code",
   "execution_count": null,
   "id": "round-eagle",
   "metadata": {
    "nbgrader": {
     "grade": true,
     "grade_id": "1",
     "locked": true,
     "points": 3,
     "schema_version": 3,
     "solution": false,
     "task": false
    },
    "ExecuteTime": {
     "start_time": "2023-04-10T11:16:20.570353Z",
     "end_time": "2023-04-10T11:16:20.572747Z"
    }
   },
   "outputs": [],
   "source": [
    "#Test cell-1 [3pt] Hidden tests\n",
    "#DO NOT MODIFY/DELETE THIS CELL \n",
    "\n",
    "### BEGIN HIDDEN TESTS\n",
    "assert df_1.shape[0]==7000\n",
    "### END HIDDEN TESTS"
   ]
  },
  {
   "cell_type": "code",
   "execution_count": null,
   "id": "4db1e816",
   "metadata": {
    "nbgrader": {
     "grade": true,
     "grade_id": "2",
     "locked": true,
     "points": 3,
     "schema_version": 3,
     "solution": false,
     "task": false
    },
    "ExecuteTime": {
     "start_time": "2023-04-10T11:16:20.573678Z",
     "end_time": "2023-04-10T11:16:20.594757Z"
    }
   },
   "outputs": [],
   "source": [
    "#Test cell-2 [3pt] Hidden tests\n",
    "#DO NOT MODIFY/DELETE THIS CELL \n",
    "\n",
    "### BEGIN HIDDEN TESTS\n",
    "assert df_2.shape[0]==3000\n",
    "### END HIDDEN TESTS"
   ]
  },
  {
   "cell_type": "code",
   "execution_count": null,
   "id": "martial-superior",
   "metadata": {
    "nbgrader": {
     "grade": true,
     "grade_id": "3",
     "locked": true,
     "points": 3,
     "schema_version": 3,
     "solution": false,
     "task": false
    },
    "ExecuteTime": {
     "start_time": "2023-04-10T11:16:20.576962Z",
     "end_time": "2023-04-10T11:16:20.595350Z"
    }
   },
   "outputs": [],
   "source": [
    "#Test cell-3 [3pt] Hidden tests\n",
    "#DO NOT MODIFY/DELETE THIS CELL \n",
    "\n",
    "### BEGIN HIDDEN TESTS\n",
    "assert len (set(df_cad.columns).difference({'cad0','cad1','cad2','cad3','cad4','cad5','cad6','cad7','cad8','cad9'}))==0\n",
    "### END HIDDEN TESTS"
   ]
  },
  {
   "cell_type": "code",
   "execution_count": null,
   "id": "fancy-complexity",
   "metadata": {
    "nbgrader": {
     "grade": true,
     "grade_id": "4",
     "locked": true,
     "points": 3,
     "schema_version": 3,
     "solution": false,
     "task": false
    },
    "ExecuteTime": {
     "start_time": "2023-04-10T11:16:20.582774Z",
     "end_time": "2023-04-10T11:16:20.595526Z"
    }
   },
   "outputs": [],
   "source": [
    "#Test cell-4 [3pt] Hidden tests\n",
    "#DO NOT MODIFY/DELETE THIS CELL \n",
    "\n",
    "### BEGIN HIDDEN TESTS\n",
    "assert len (set(df_w.columns).difference({'w0','w1','w2','w3','w4','w5','w6','w7','w8','w9','w10','w11','w12','w13','w14','w15','w16','w17','w18','w19','w20','w21','w22','w23','w24','w25','w26','w27','w28','w29'}))==0\n",
    "### END HIDDEN TESTS"
   ]
  },
  {
   "cell_type": "code",
   "execution_count": null,
   "id": "7daf820a",
   "metadata": {
    "nbgrader": {
     "grade": true,
     "grade_id": "5",
     "locked": true,
     "points": 3,
     "schema_version": 3,
     "solution": false,
     "task": false
    },
    "ExecuteTime": {
     "start_time": "2023-04-10T11:16:20.587016Z",
     "end_time": "2023-04-10T11:16:20.595841Z"
    }
   },
   "outputs": [],
   "source": [
    "#Test cell-5 [3pt] Hidden tests\n",
    "#DO NOT MODIFY/DELETE THIS CELL \n",
    "\n",
    "### BEGIN HIDDEN TESTS\n",
    "assert df_1.shape[1]==42\n",
    "assert df_2.shape[1]==42\n",
    "assert df_2.index[0]==0\n",
    "### END HIDDEN TESTS"
   ]
  },
  {
   "cell_type": "markdown",
   "id": "received-bangkok",
   "metadata": {
    "nbgrader": {
     "grade": false,
     "grade_id": "Q2",
     "locked": true,
     "schema_version": 3,
     "solution": false,
     "task": false
    }
   },
   "source": [
    "## Q-2 [12 points] Please answer the following questions in the same order as listed here below: \n",
    "\n",
    "Use the values `X_train`, `X_test`, `y_train`, `y_test` provided below to answer the following questions. \n",
    " \n",
    "1. Use a support vector classifier with `random_state=0` and `probability=True` to train a machine learning model.\n",
    "2. Compute the accuracy for the train and the test sets and assigning to the variables `acc_train` and `acc_test`, respectively.\n",
    "3. Compute the roc_auc_score for the train and the test sets and assigning to the variables `roc_train` and `roc_test`, respectively."
   ]
  },
  {
   "cell_type": "code",
   "execution_count": null,
   "id": "07934851",
   "metadata": {
    "nbgrader": {
     "grade": false,
     "grade_id": "Q2-pre",
     "locked": true,
     "schema_version": 3,
     "solution": false,
     "task": false
    },
    "ExecuteTime": {
     "start_time": "2023-04-10T11:16:20.590611Z",
     "end_time": "2023-04-10T11:16:21.560713Z"
    }
   },
   "outputs": [],
   "source": [
    "#Please do not modify/delete this cell\n",
    "#This loads our data\n",
    "from sklearn.model_selection import train_test_split\n",
    "df  = pd.read_csv(\"https://raw.githubusercontent.com/rpi-techfundamentals/website_fall_2022/master/site/public/data2.csv\")\n",
    "X = df.iloc[:,2:]\n",
    "y = df['treatment']\n",
    "X_train, X_test, y_train, y_test = train_test_split(X, y, test_size=0.7, random_state=0)"
   ]
  },
  {
   "cell_type": "code",
   "execution_count": null,
   "id": "ranging-arena",
   "metadata": {
    "nbgrader": {
     "grade": false,
     "grade_id": "Q2-Sol",
     "locked": false,
     "schema_version": 3,
     "solution": true,
     "task": false
    },
    "ExecuteTime": {
     "start_time": "2023-04-10T11:16:21.565666Z",
     "end_time": "2023-04-10T11:16:29.732271Z"
    }
   },
   "outputs": [],
   "source": [
    "\n",
    "#Your solution here. Make sure the cell executes without errors. \n",
    "\n",
    "### BEGIN SOLUTION\n",
    "\n",
    "from sklearn import metrics\n",
    "from sklearn.svm import SVC\n",
    "sv = SVC(random_state=0, probability=True)\n",
    "sv.fit(X_train, y_train)\n",
    "y_train_pred = sv.predict(X_train)\n",
    "y_test_pred = sv.predict(X_test)\n",
    "\n",
    "acc_train=metrics.accuracy_score(y_train, y_train_pred)\n",
    "acc_test=metrics.accuracy_score(y_test, y_test_pred)\n",
    "roc_train=metrics.roc_auc_score(y_train, sv.predict_proba(X_train)[:, 1])\n",
    "roc_test=metrics.roc_auc_score(y_test, sv.predict_proba(X_test)[:, 1])\n",
    "### END SOLUTION"
   ]
  },
  {
   "cell_type": "code",
   "execution_count": null,
   "id": "maritime-allocation",
   "metadata": {
    "nbgrader": {
     "grade": false,
     "grade_id": "varcheck2",
     "locked": true,
     "schema_version": 3,
     "solution": false,
     "task": false
    },
    "ExecuteTime": {
     "start_time": "2023-04-10T11:16:29.733071Z",
     "end_time": "2023-04-10T11:16:29.736390Z"
    }
   },
   "outputs": [],
   "source": [
    "#Please do not modify/delete this cell\n",
    "#This will test that you have not mislabeled a variable.\n",
    "assert 'acc_train' in globals()\n",
    "assert 'acc_test' in globals()\n",
    "assert 'roc_train' in globals()\n",
    "assert 'roc_test' in globals()"
   ]
  },
  {
   "cell_type": "code",
   "execution_count": null,
   "id": "seeing-maryland",
   "metadata": {
    "nbgrader": {
     "grade": true,
     "grade_id": "6",
     "locked": true,
     "points": 3,
     "schema_version": 3,
     "solution": false,
     "task": false
    },
    "ExecuteTime": {
     "start_time": "2023-04-10T11:16:29.737482Z",
     "end_time": "2023-04-10T11:16:29.740117Z"
    }
   },
   "outputs": [],
   "source": [
    "#Test cell-6 [3pt] Hidden tests\n",
    "#DO NOT MODIFY/DELETE THIS CELL \n",
    "### BEGIN HIDDEN TESTS\n",
    "assert round(acc_train,2)==0.87\n",
    "### END HIDDEN TESTS"
   ]
  },
  {
   "cell_type": "code",
   "execution_count": null,
   "id": "fa618f14",
   "metadata": {
    "nbgrader": {
     "grade": true,
     "grade_id": "7",
     "locked": true,
     "points": 3,
     "schema_version": 3,
     "solution": false,
     "task": false
    },
    "ExecuteTime": {
     "start_time": "2023-04-10T11:16:29.741332Z",
     "end_time": "2023-04-10T11:16:29.744487Z"
    }
   },
   "outputs": [],
   "source": [
    "#Test cell-7 [3pt] Hidden tests\n",
    "#DO NOT MODIFY/DELETE THIS CELL \n",
    "### BEGIN HIDDEN TESTS\n",
    "assert round(acc_test,2)==0.77\n",
    "### END HIDDEN TESTS"
   ]
  },
  {
   "cell_type": "code",
   "execution_count": null,
   "id": "3d3eaebd",
   "metadata": {
    "nbgrader": {
     "grade": true,
     "grade_id": "8",
     "locked": true,
     "points": 3,
     "schema_version": 3,
     "solution": false,
     "task": false
    },
    "ExecuteTime": {
     "start_time": "2023-04-10T11:16:29.745369Z",
     "end_time": "2023-04-10T11:16:29.748105Z"
    }
   },
   "outputs": [],
   "source": [
    "#Test cell-8 [3pt] Hidden tests\n",
    "#DO NOT MODIFY/DELETE THIS CELL \n",
    "### BEGIN HIDDEN TESTS\n",
    "assert round(roc_train,2)==0.94\n",
    "### END HIDDEN TESTS"
   ]
  },
  {
   "cell_type": "code",
   "execution_count": null,
   "id": "smart-soccer",
   "metadata": {
    "nbgrader": {
     "grade": true,
     "grade_id": "9",
     "locked": true,
     "points": 3,
     "schema_version": 3,
     "solution": false,
     "task": false
    },
    "ExecuteTime": {
     "start_time": "2023-04-10T11:16:29.748692Z",
     "end_time": "2023-04-10T11:16:29.752077Z"
    }
   },
   "outputs": [],
   "source": [
    "#Test cell-9 [3pt] Hidden tests\n",
    "#DO NOT MODIFY/DELETE THIS CELL \n",
    "### BEGIN HIDDEN TESTS\n",
    "assert round(roc_test,2)==0.85\n",
    "### END HIDDEN TESTS"
   ]
  },
  {
   "cell_type": "markdown",
   "id": "8ff1adea",
   "metadata": {
    "nbgrader": {
     "grade": false,
     "grade_id": "Q3-2",
     "locked": true,
     "schema_version": 3,
     "solution": false,
     "task": false
    }
   },
   "source": [
    "### Q-3 [24 points] Please answer the following questions in the same order as listed here below:\n",
    "\n",
    "Use the values `X_train`, `X_test`, `y_train`, `y_test` provided below to answer the following questions.\n",
    "\n",
    "1. Use a GradientBoostingRegressor() with `random_state=0` to train a machine learning model to predict the continuous variable `y` (which was named target in the original dataframe).\n",
    "2. Compute the r2 for the train and the test sets and assign them to the variables `r2_train` and `r2_test`, respectively.\n",
    "3. Compute the mean_absolute_percentage_error for the train and the test sets and assign them to the variables `mape_train` and `mape_test`, respectively.\n",
    "4. Create a very simple model which uses the mean value from the *training data* as the prediction for both the training `y_train_pred_s` and the test data `y_test_pred_s`, where both should be Pandas Series of the appropriate length.\n",
    "5. Evaluate the R2 of `y_train_pred_s` (generating `r2_train_s`) and `y_test_pred_s` (generating `r2_test_s`)."
   ]
  },
  {
   "cell_type": "code",
   "execution_count": null,
   "id": "643d4f91",
   "metadata": {
    "ExecuteTime": {
     "start_time": "2023-04-10T11:16:29.760807Z",
     "end_time": "2023-04-10T11:16:30.761412Z"
    }
   },
   "outputs": [],
   "source": [
    "#Please do not modify/delete this cell\n",
    "from sklearn.model_selection import train_test_split\n",
    "df  = pd.read_csv(\"https://raw.githubusercontent.com/rpi-techfundamentals/website_fall_2022/master/site/public/data2.csv\")\n",
    "X = df.iloc[:,2:]\n",
    "y = df['target']\n",
    "X_train, X_test, y_train, y_test = train_test_split(X, y, test_size=0.7, random_state=0)"
   ]
  },
  {
   "cell_type": "code",
   "execution_count": null,
   "id": "5afe08cb",
   "metadata": {
    "nbgrader": {
     "grade": false,
     "grade_id": "Q3-2-SOL",
     "locked": false,
     "schema_version": 3,
     "solution": true,
     "task": false
    },
    "ExecuteTime": {
     "start_time": "2023-04-10T11:16:30.762003Z",
     "end_time": "2023-04-10T11:16:32.473403Z"
    }
   },
   "outputs": [],
   "source": [
    "#Your solution here. Make sure the cell executes without errors. \n",
    "\n",
    "### BEGIN SOLUTION \n",
    "from sklearn import metrics\n",
    "from sklearn.ensemble import GradientBoostingRegressor\n",
    "sv = GradientBoostingRegressor(random_state=0)\n",
    "sv.fit(X_train, y_train)\n",
    "y_train_pred = sv.predict(X_train)\n",
    "y_test_pred = sv.predict(X_test)\n",
    "\n",
    "r2_train=metrics.r2_score(y_train, y_train_pred)\n",
    "r2_test=metrics.r2_score(y_test, y_test_pred)\n",
    "mape_train=metrics.mean_absolute_percentage_error(y_train, y_train_pred)\n",
    "mape_test=metrics.mean_absolute_percentage_error(y_test, y_test_pred)\n",
    "y_mean=y_train.mean() \n",
    "\n",
    "y_train_pred_s=[y_mean for x in range(len(y_train))]\n",
    "y_test_pred_s=[y_mean for x in range(len(y_test))]\n",
    "r2_train_s=metrics.r2_score(y_train, y_train_pred_s)\n",
    "r2_test_s=metrics.r2_score(y_test, y_test_pred_s)\n",
    "#print (r2_train,r2_test,r2_train_simple,r2_test_simple)\n",
    "### END SOLUTION"
   ]
  },
  {
   "cell_type": "code",
   "execution_count": null,
   "id": "5b12c7f6",
   "metadata": {
    "nbgrader": {
     "grade": false,
     "grade_id": "varcheck3-2",
     "locked": true,
     "schema_version": 3,
     "solution": false,
     "task": false
    },
    "ExecuteTime": {
     "start_time": "2023-04-10T11:16:32.476219Z",
     "end_time": "2023-04-10T11:16:32.479073Z"
    }
   },
   "outputs": [],
   "source": [
    "#This will test that you have not mislabeled a variable. \n",
    "assert 'r2_train' in globals()\n",
    "assert 'r2_test' in globals()\n",
    "assert 'mape_train' in globals()\n",
    "assert 'mape_test' in globals()\n",
    "assert 'y_train_pred_s' in globals()\n",
    "assert 'y_test_pred_s' in globals()\n",
    "assert 'r2_train_s' in globals()\n",
    "assert 'r2_test_s' in globals()\n"
   ]
  },
  {
   "cell_type": "code",
   "execution_count": null,
   "id": "455e05d7",
   "metadata": {
    "nbgrader": {
     "grade": true,
     "grade_id": "10",
     "locked": true,
     "points": 3,
     "schema_version": 3,
     "solution": false,
     "task": false
    },
    "ExecuteTime": {
     "start_time": "2023-04-10T11:16:32.480467Z",
     "end_time": "2023-04-10T11:16:32.483345Z"
    }
   },
   "outputs": [],
   "source": [
    "#Test cell-10 [3pt] Hidden tests\n",
    "#DO NOT MODIFY/DELETE THIS CELL \n",
    "\n",
    "### BEGIN HIDDEN TESTS\n",
    "assert round(r2_train,3)==0.588\n",
    "### END HIDDEN TESTS\n"
   ]
  },
  {
   "cell_type": "code",
   "execution_count": null,
   "id": "9bc2df16",
   "metadata": {
    "nbgrader": {
     "grade": true,
     "grade_id": "11",
     "locked": true,
     "points": 3,
     "schema_version": 3,
     "solution": false,
     "task": false
    },
    "ExecuteTime": {
     "start_time": "2023-04-10T11:16:32.483859Z",
     "end_time": "2023-04-10T11:16:32.487971Z"
    }
   },
   "outputs": [],
   "source": [
    "#Test cell-11 [3pt] Hidden tests\n",
    "#DO NOT MODIFY/DELETE THIS CELL \n",
    "\n",
    "### BEGIN HIDDEN TESTS\n",
    "assert round(r2_test,3)==0.368\n",
    "### END HIDDEN TESTS"
   ]
  },
  {
   "cell_type": "code",
   "execution_count": null,
   "id": "b75613e9",
   "metadata": {
    "nbgrader": {
     "grade": true,
     "grade_id": "12",
     "locked": true,
     "points": 3,
     "schema_version": 3,
     "solution": false,
     "task": false
    },
    "ExecuteTime": {
     "start_time": "2023-04-10T11:16:32.489074Z",
     "end_time": "2023-04-10T11:16:32.491701Z"
    }
   },
   "outputs": [],
   "source": [
    "#Test cell-12 [3pt] Hidden tests\n",
    "#DO NOT MODIFY/DELETE THIS CELL \n",
    "\n",
    "### BEGIN HIDDEN TESTS\n",
    "assert round(mape_train,2)==90.1\n",
    "### END HIDDEN TESTS"
   ]
  },
  {
   "cell_type": "code",
   "execution_count": null,
   "id": "ecc4c056",
   "metadata": {
    "nbgrader": {
     "grade": true,
     "grade_id": "13",
     "locked": true,
     "points": 3,
     "schema_version": 3,
     "solution": false,
     "task": false
    },
    "ExecuteTime": {
     "start_time": "2023-04-10T11:16:32.492398Z",
     "end_time": "2023-04-10T11:16:32.502136Z"
    }
   },
   "outputs": [],
   "source": [
    "#Test cell-13 [3pt] Hidden tests\n",
    "#DO NOT MODIFY/DELETE THIS CELL \n",
    "\n",
    "### BEGIN HIDDEN TESTS\n",
    "assert round(mape_test,2)==113.68\n",
    "### END HIDDEN TESTS"
   ]
  },
  {
   "cell_type": "code",
   "execution_count": null,
   "id": "b2490edf",
   "metadata": {
    "nbgrader": {
     "grade": true,
     "grade_id": "14",
     "locked": true,
     "points": 3,
     "schema_version": 3,
     "solution": false,
     "task": false
    },
    "ExecuteTime": {
     "start_time": "2023-04-10T11:16:32.496701Z",
     "end_time": "2023-04-10T11:16:32.502664Z"
    }
   },
   "outputs": [],
   "source": [
    "#Test cell-14 [3pt] Hidden tests\n",
    "#DO NOT MODIFY/DELETE THIS CELL \n",
    "\n",
    "### BEGIN HIDDEN TESTS\n",
    "assert round(r2_train_s,1)==0.0\n",
    "### END HIDDEN TESTS"
   ]
  },
  {
   "cell_type": "code",
   "execution_count": null,
   "id": "8b77d6a2",
   "metadata": {
    "nbgrader": {
     "grade": true,
     "grade_id": "15",
     "locked": true,
     "points": 3,
     "schema_version": 3,
     "solution": false,
     "task": false
    },
    "ExecuteTime": {
     "start_time": "2023-04-10T11:16:32.500797Z",
     "end_time": "2023-04-10T11:16:32.502785Z"
    }
   },
   "outputs": [],
   "source": [
    "#Test cell-15 [3pt] Hidden tests\n",
    "#DO NOT MODIFY/DELETE THIS CELL \n",
    "\n",
    "### BEGIN HIDDEN TESTS\n",
    "assert round(r2_test_s,3)==-0.001\n",
    "### END HIDDEN TESTS"
   ]
  },
  {
   "cell_type": "code",
   "execution_count": null,
   "id": "c78d3d98",
   "metadata": {
    "nbgrader": {
     "grade": true,
     "grade_id": "16",
     "locked": true,
     "points": 3,
     "schema_version": 3,
     "solution": false,
     "task": false
    },
    "ExecuteTime": {
     "start_time": "2023-04-10T11:16:32.504574Z",
     "end_time": "2023-04-10T11:16:32.509431Z"
    }
   },
   "outputs": [],
   "source": [
    "#Test cell-16 [3pt] Hidden tests\n",
    "#DO NOT MODIFY/DELETE THIS CELL \n",
    "\n",
    "### BEGIN HIDDEN TESTS\n",
    "assert len(y_train_pred_s)==3000\n",
    "### END HIDDEN TESTS"
   ]
  },
  {
   "cell_type": "code",
   "execution_count": null,
   "id": "f205af44",
   "metadata": {
    "nbgrader": {
     "grade": true,
     "grade_id": "17",
     "locked": true,
     "points": 3,
     "schema_version": 3,
     "solution": false,
     "task": false
    },
    "ExecuteTime": {
     "start_time": "2023-04-10T11:16:32.509201Z",
     "end_time": "2023-04-10T11:16:32.512219Z"
    }
   },
   "outputs": [],
   "source": [
    "#Test cell-17 [3pt] Hidden tests\n",
    "#DO NOT MODIFY/DELETE THIS CELL \n",
    "\n",
    "### BEGIN HIDDEN TESTS\n",
    "assert len(y_test_pred_s)==7000\n",
    "### END HIDDEN TESTS"
   ]
  }
 ],
 "metadata": {
  "celltoolbar": "Create Assignment",
  "kernelspec": {
   "display_name": "Python 3 (ipykernel)",
   "language": "python",
   "name": "python3"
  },
  "language_info": {
   "codemirror_mode": {
    "name": "ipython",
    "version": 3
   },
   "file_extension": ".py",
   "mimetype": "text/x-python",
   "name": "python",
   "nbconvert_exporter": "python",
   "pygments_lexer": "ipython3",
   "version": "3.9.7"
  }
 },
 "nbformat": 4,
 "nbformat_minor": 5
}
